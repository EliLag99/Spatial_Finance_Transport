{
 "cells": [
  {
   "cell_type": "code",
   "execution_count": null,
   "metadata": {
    "collapsed": true
   },
   "outputs": [],
   "source": [
    "# IMPORTS\n",
    "import pandas as pd\n",
    "import urllib\n",
    "import json\n",
    "import shapefile\n",
    "from shapely.geometry import shape, Point\n",
    "from shapely.ops import transform\n",
    "import pyproj"
   ]
  },
  {
   "cell_type": "code",
   "execution_count": null,
   "outputs": [],
   "source": [
    "# READ THE EMISSIONS DATASET\n",
    "\n",
    "df_emissions=pd.read_csv(\"./uk-local-authority-ghg-emissions-2020-dataset.csv\")\n",
    "df_la = df_emissions.drop_duplicates(subset=[\"Local Authority\"], keep=\"last\")[[\"Local Authority Code\", \"Region\", \"Local Authority\", \"Area (km2)\", \"Mid-year Population (thousands)\", \"Calendar Year\"]];\n",
    "df_la.drop(df_la[df_la[\"Region\"]==\"London\"].index, inplace=True);\n",
    "df_la = df_la.sort_values([\"Local Authority Code\", \"Calendar Year\", \"Area (km2)\"])\n",
    "df_la"
   ],
   "metadata": {
    "collapsed": false
   }
  },
  {
   "cell_type": "code",
   "execution_count": null,
   "outputs": [],
   "source": [
    "# READ ROAD LENGTHS DATASET\n",
    "\n",
    "df_roads = pd.read_csv(\"./rdl0202.csv\", skiprows=6)\n",
    "df_roads = df_roads[[\"ONS Area \\nCode\", \"Region\", \"Local Authority\", \"All 'A' roads\", \"Total road length \"]]\n",
    "df_roads.drop(df_roads[df_roads[\"Region\"]==\"London\"].index, inplace=True);\n",
    "df_roads=df_roads.sort_values([\"ONS Area \\nCode\"])\n",
    "df_roads"
   ],
   "metadata": {
    "collapsed": false
   }
  },
  {
   "cell_type": "code",
   "execution_count": null,
   "outputs": [],
   "source": [
    "# FETCH COUNT SITES FROM HIGHWAYS ENGLAND API\n",
    "url_text = \"https://webtris.highwaysengland.co.uk/api/v1/sites\"\n",
    "with urllib.request.urlopen(url_text) as url:\n",
    "    data = json.loads(url.read().decode())\n",
    "sites = data['sites']\n",
    "\n",
    "# FILTER TO ONLY CONSIDER A-ROADS\n",
    "def isARoad(site):\n",
    "    return site[\"Description\"].startswith(\"A\")\n",
    "aroads_iterator = filter(isARoad, sites)\n",
    "aroad_sites = list(aroads_iterator)"
   ],
   "metadata": {
    "collapsed": false
   }
  },
  {
   "cell_type": "code",
   "execution_count": null,
   "outputs": [],
   "source": [
    "# READ THE SHAPEFILE\n",
    "#shapefile_location = './GLTLA_DEC_2022_EW_BFC_7755317155209021260/GLTLA_DEC_2022_EW_BFC.shp'\n",
    "shapefile_location = \"./UK_LocalDistrictAuthorities2023/LAD_MAY_2023_UK_BFC.shp\"\n",
    "shp = shapefile.Reader(shapefile_location)\n",
    "all_shapes = shp.shapes() # get all the polygons\n",
    "all_records = shp.records()\n",
    "\n",
    "# DEFINE PROJECTION TO CONVERT SHAPEFILE COORDINATES TO LONG/LAT VALUES\n",
    "project = pyproj.Transformer.from_proj(\n",
    "    pyproj.Proj('epsg:27700'), # source coordinate system\n",
    "    pyproj.Proj('epsg:4326')) # destination coordinate system\n",
    "\n",
    "def assignSiteToLA(site, dictionary):\n",
    "    for i in range(0,len(all_shapes)):\n",
    "        boundary = transform(project.transform, shape(all_shapes[i]))\n",
    "        if boundary.contains(Point(site[\"Latitude\"], site[\"Longitude\"])):\n",
    "            la_code =  all_records[i][0]\n",
    "            dictionary[la_code].append(site)\n",
    "            break\n",
    "\n",
    "# DATA STRUCTURE TO STORE COUNT SITES AND THEIR LA'S\n",
    "la_dictionary = {record[0]: [] for record in all_records}\n",
    "\n",
    "# ASSIGN COUNT SITES TO LOCAL AUTHORITY (TAKES ~2 HOURS TO RUN)\n",
    "for index, site in enumerate(aroad_sites):\n",
    "    assignSiteToLA(site, la_dictionary)\n",
    "    print(\"DONE \", index + 1, \" sites of \", len(aroad_sites), \".\\t\", int(float(100)*index/len(aroad_sites))), \"%%.\"\n",
    "\n",
    "# SAVE DATA STRUCTURE TO JSON FILE TO AVOID RERUNNING\n",
    "with open('la_countsite_dict.json', 'w') as dictionary_json:\n",
    "    json.dump(la_dictionary, dictionary_json)"
   ],
   "metadata": {
    "collapsed": false
   }
  }
 ],
 "metadata": {
  "kernelspec": {
   "display_name": "Python 3",
   "language": "python",
   "name": "python3"
  },
  "language_info": {
   "codemirror_mode": {
    "name": "ipython",
    "version": 2
   },
   "file_extension": ".py",
   "mimetype": "text/x-python",
   "name": "python",
   "nbconvert_exporter": "python",
   "pygments_lexer": "ipython2",
   "version": "2.7.6"
  }
 },
 "nbformat": 4,
 "nbformat_minor": 0
}
