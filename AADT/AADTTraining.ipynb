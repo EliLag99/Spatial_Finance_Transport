{
 "cells": [
  {
   "attachments": {},
   "cell_type": "markdown",
   "metadata": {},
   "source": [
    "# AADT Training"
   ]
  },
  {
   "cell_type": "markdown",
   "metadata": {},
   "source": [
    "## Imports"
   ]
  },
  {
   "cell_type": "code",
   "execution_count": 309,
   "metadata": {},
   "outputs": [],
   "source": [
    "import pandas as pd\n",
    "import geopandas as gpd\n",
    "import numpy as np\n",
    "import os\n",
    "import torch\n",
    "import random\n",
    "import cv2\n",
    "from tqdm import tqdm\n",
    "from matplotlib import pyplot as plt\n",
    "import segmentation_models_pytorch as smp\n",
    "import albumentations as album\n",
    "from PIL import Image\n",
    "import torch.nn as nn\n",
    "from torch.utils.data import Dataset\n",
    "from torch.utils.data import random_split\n",
    "from sklearn.metrics import accuracy_score\n",
    "import plotly.express as px\n",
    "import torchmetrics\n",
    "from torchmetrics import MeanAbsolutePercentageError\n",
    "\n",
    "\n",
    "%matplotlib inline"
   ]
  },
  {
   "cell_type": "markdown",
   "metadata": {},
   "source": [
    "## Global Variables"
   ]
  },
  {
   "cell_type": "code",
   "execution_count": 310,
   "metadata": {},
   "outputs": [],
   "source": [
    "IMG_SIZE = 1024\n",
    "VEHICLE_DETECTION_COUNT_PATH = '/home/ah2719/FYP/Spatial_Finance_Transport/data/vehicle_counts_detection.csv'\n",
    "DAILY_COUNT_PATH = '/home/ah2719/FYP/Spatial_Finance_Transport/data/ground_truth_data/df_aadt_week.csv'\n",
    "SPEED_DATA_PATH = \"/home/ah2719/FYP/Spatial_Finance_Transport/data/ground_truth_data/avg_mph.csv\"\n",
    "ROAD_WIDTH_PATH = \"\"\n",
    "TIMESTAMP_PATH = \"/home/ah2719/FYP/Spatial_Finance_Transport/data/ground_truth_data/timestamp.csv\"\n",
    "AVG_MPH_PATH = \"/home/ah2719/FYP/Spatial_Finance_Transport/data/ground_truth_data/avg_mph.csv\"\n",
    "\n",
    "NN_MODEL_PATH = \"/home/ah2719/FYP/Spatial_Finance_Transport/models/nn_model.pth\""
   ]
  },
  {
   "attachments": {},
   "cell_type": "markdown",
   "metadata": {},
   "source": [
    "## True Count Data\n",
    "- Traffic monitoring stations for long-term traffic count data\n",
    "    - Extract at same time as Satellite Image!\n",
    "- How to use permanent and temporary traffic count stations"
   ]
  },
  {
   "cell_type": "code",
   "execution_count": 311,
   "metadata": {},
   "outputs": [],
   "source": [
    "# Get Ground Truth Data"
   ]
  },
  {
   "attachments": {},
   "cell_type": "markdown",
   "metadata": {},
   "source": [
    "## Vehicle detection number\n",
    "From vehicle detection model"
   ]
  },
  {
   "attachments": {},
   "cell_type": "markdown",
   "metadata": {},
   "source": [
    "## Road characteristics\n",
    "From road characterstics pipeline"
   ]
  },
  {
   "attachments": {},
   "cell_type": "markdown",
   "metadata": {},
   "source": [
    "Includes:\n",
    "- Road width\n",
    "- Live speed data\n",
    "- Directionality"
   ]
  },
  {
   "attachments": {},
   "cell_type": "markdown",
   "metadata": {},
   "source": [
    "## Neural Network Model"
   ]
  },
  {
   "cell_type": "code",
   "execution_count": 312,
   "metadata": {},
   "outputs": [],
   "source": [
    "class CustomDataset(Dataset):\n",
    "    def __init__(self):\n",
    "        self.labels = torch.tensor(pd.read_csv(DAILY_COUNT_PATH)['aadt'].values.astype('float32'))\n",
    "        self.vehicle_count = torch.tensor(pd.read_csv(DAILY_COUNT_PATH)['total_volume_normalised'].values.astype('float32')).unsqueeze(1) # Training\n",
    "        #self.speed_data = pd.read_csv(SPEED_DATA_PATH) \n",
    "        #self.road_width = pd.read_csv(ROAD_WIDTH_PATH)\n",
    "        self.hour = torch.tensor(pd.read_csv(DAILY_COUNT_PATH)['hour'].values.astype('float32')).unsqueeze(1)\n",
    "        self.avg_mph = torch.tensor(pd.read_csv(DAILY_COUNT_PATH)['avg_mph'].values.astype('float32')).unsqueeze(1)\n",
    "        self.day = torch.tensor(pd.read_csv(DAILY_COUNT_PATH)['day'].values.astype('float32')).unsqueeze(1)\n",
    "        self.month = torch.tensor(pd.read_csv(DAILY_COUNT_PATH)['month'].values.astype('float32')).unsqueeze(1)\n",
    "\n",
    "        self.x = torch.concat((self.vehicle_count, self.avg_mph, self.day, self.month, self.hour), dim=-1)\n",
    "        self.y = self.labels\n",
    "\n",
    "    def __len__(self):\n",
    "        return len(self.labels)\n",
    "\n",
    "    def __getitem__(self, idx):\n",
    "        return self.x[idx], self.y[idx]\n",
    "\n",
    "custom_data = CustomDataset()\n",
    "train_split = 0.8\n",
    "train_data, val_data = random_split(custom_data, [train_split, 1-train_split])"
   ]
  },
  {
   "cell_type": "code",
   "execution_count": 313,
   "metadata": {},
   "outputs": [],
   "source": [
    "class NeuralNetwork(nn.Module):\n",
    "    def __init__(self):\n",
    "        super(NeuralNetwork, self).__init__()\n",
    "        self.linear_relu_stack = nn.Sequential(\n",
    "            nn.Linear(5, 5),\n",
    "            nn.Linear(5,20),\n",
    "            nn.Linear(20,1),\n",
    "            nn.ReLU()\n",
    "        )\n",
    "\n",
    "    def forward(self, x):\n",
    "        logits = self.linear_relu_stack(x)\n",
    "        return logits"
   ]
  },
  {
   "cell_type": "code",
   "execution_count": 314,
   "metadata": {},
   "outputs": [
    {
     "data": {
      "text/plain": [
       "NeuralNetwork(\n",
       "  (linear_relu_stack): Sequential(\n",
       "    (0): Linear(in_features=5, out_features=5, bias=True)\n",
       "    (1): Linear(in_features=5, out_features=20, bias=True)\n",
       "    (2): Linear(in_features=20, out_features=1, bias=True)\n",
       "    (3): ReLU()\n",
       "  )\n",
       ")"
      ]
     },
     "execution_count": 314,
     "metadata": {},
     "output_type": "execute_result"
    }
   ],
   "source": [
    "nn_model = NeuralNetwork()\n",
    "nn_model"
   ]
  },
  {
   "cell_type": "code",
   "execution_count": 315,
   "metadata": {},
   "outputs": [
    {
     "data": {
      "text/plain": [
       "NeuralNetwork(\n",
       "  (linear_relu_stack): Sequential(\n",
       "    (0): Linear(in_features=5, out_features=5, bias=True)\n",
       "    (1): Linear(in_features=5, out_features=20, bias=True)\n",
       "    (2): Linear(in_features=20, out_features=1, bias=True)\n",
       "    (3): ReLU()\n",
       "  )\n",
       ")"
      ]
     },
     "execution_count": 315,
     "metadata": {},
     "output_type": "execute_result"
    }
   ],
   "source": [
    "def init_weights(m):\n",
    "    if isinstance(m, nn.Linear):\n",
    "        torch.nn.init.xavier_uniform_(m.weight)\n",
    "        m.bias.data.fill_(0.01)\n",
    "\n",
    "nn_model.apply(init_weights)"
   ]
  },
  {
   "cell_type": "code",
   "execution_count": 316,
   "metadata": {},
   "outputs": [],
   "source": [
    "learning_rate = 1e-1\n",
    "batch_size = 1\n",
    "epochs = 1\n",
    "loss_fn = nn.MSELoss()\n",
    "optimizer = torch.optim.Adam(nn_model.parameters(), lr=learning_rate)\n",
    "\n",
    "MAPE = MeanAbsolutePercentageError()"
   ]
  },
  {
   "attachments": {},
   "cell_type": "markdown",
   "metadata": {},
   "source": [
    "### DataLoaders"
   ]
  },
  {
   "cell_type": "code",
   "execution_count": 317,
   "metadata": {},
   "outputs": [],
   "source": [
    "train_dataloader = torch.utils.data.DataLoader(train_data, batch_size=batch_size, shuffle=False, sampler=None,\n",
    "                    batch_sampler=None, num_workers=0, collate_fn=None,\n",
    "                    pin_memory=False, drop_last=False, timeout=0,\n",
    "                    worker_init_fn=None, prefetch_factor=2,\n",
    "                    persistent_workers=False)"
   ]
  },
  {
   "cell_type": "code",
   "execution_count": 318,
   "metadata": {},
   "outputs": [],
   "source": [
    "val_dataloader = torch.utils.data.DataLoader(val_data, batch_size=batch_size, shuffle=False, sampler=None,\n",
    "                    batch_sampler=None, num_workers=0, collate_fn=None,\n",
    "                    pin_memory=False, drop_last=False, timeout=0,\n",
    "                    worker_init_fn=None, prefetch_factor=2,\n",
    "                    persistent_workers=False)"
   ]
  },
  {
   "attachments": {},
   "cell_type": "markdown",
   "metadata": {},
   "source": [
    "### Training & Testing"
   ]
  },
  {
   "cell_type": "code",
   "execution_count": 319,
   "metadata": {},
   "outputs": [],
   "source": [
    "def run_epoch(ep_id, action, loader, model, optimizer, criterion):\n",
    "    losses = [] # Keep list of accuracies to track progress\n",
    "    is_training = action == \"train\" # True when action == \"train\", else False \n",
    "\n",
    "    # Looping over all batches\n",
    "    for batch_idx, batch in enumerate(loader): \n",
    "            x, y = batch\n",
    "            #print(\"x: {}\".format(x))\n",
    "            #print(\"y: {}\".format(y))\n",
    "\n",
    "            # Resetting the optimizer gradients\n",
    "            optimizer.zero_grad()\n",
    "\n",
    "            # Setting model to train or test\n",
    "            with torch.set_grad_enabled(is_training):\n",
    "                \n",
    "                # Feed batch to model\n",
    "                logits = nn_model(x).squeeze(1)\n",
    "                print(\"logits: {}\".format(logits))\n",
    "\n",
    "                # Calculate the loss based on predictions and real labels\n",
    "                loss = criterion(logits, y)\n",
    "                mape_loss = MAPE(logits, y)\n",
    "                print(\"MAPE loss: {}\".format(mape_loss))\n",
    "\n",
    "                # If training, perform backprop and update weights\n",
    "                if is_training:\n",
    "                    loss.backward()\n",
    "                    optimizer.step()\n",
    "\n",
    "                # Append current batch accuracy\n",
    "                losses.append(mape_loss.detach().numpy())\n",
    "\n",
    "                # Print some stats every 50th batch \n",
    "                if batch_idx % 50 == 0:\n",
    "                    print(f\"{action.capitalize()}ing, Epoch: {ep_id+1}, Batch {batch_idx}: Loss = {loss.item()}\")\n",
    "    # Return accuracies to main loop                 \n",
    "    return losses"
   ]
  },
  {
   "cell_type": "code",
   "execution_count": 320,
   "metadata": {},
   "outputs": [],
   "source": [
    "def main(epochs, train_dl, val_dl, model, optimizer, criterion):\n",
    "\n",
    "    # Keep lists of accuracies to track performance on train and test sets\n",
    "    train_losses = []\n",
    "    val_losses = []\n",
    "\n",
    "    # Looping over epochs\n",
    "    for epoch in range(epochs):\n",
    "        \n",
    "        # Looping over train set and training\n",
    "        train_loss = run_epoch(epoch, \"train\", train_dl, model, optimizer, criterion)\n",
    "\n",
    "        # Looping over test set\n",
    "        val_loss = run_epoch(epoch, \"val\", val_dl, model, optimizer, criterion) \n",
    "\n",
    "        # Collecting stats\n",
    "        train_losses += train_loss\n",
    "        val_losses += val_loss         \n",
    "            \n",
    "    return train_losses, val_losses"
   ]
  },
  {
   "cell_type": "code",
   "execution_count": 321,
   "metadata": {},
   "outputs": [
    {
     "name": "stdout",
     "output_type": "stream",
     "text": [
      "logits: tensor([20.5116], grad_fn=<SqueezeBackward1>)\n",
      "MAPE loss: 0.9988774657249451\n",
      "Training, Epoch: 1, Batch 0: Loss = 333143904.0\n",
      "logits: tensor([133.1176], grad_fn=<SqueezeBackward1>)\n",
      "MAPE loss: 0.9927150011062622\n",
      "logits: tensor([302.6028], grad_fn=<SqueezeBackward1>)\n",
      "MAPE loss: 0.9834396243095398\n",
      "logits: tensor([608.6807], grad_fn=<SqueezeBackward1>)\n",
      "MAPE loss: 0.9666891694068909\n",
      "logits: tensor([1065.5330], grad_fn=<SqueezeBackward1>)\n",
      "MAPE loss: 0.941687285900116\n",
      "logits: tensor([1587.5902], grad_fn=<SqueezeBackward1>)\n",
      "MAPE loss: 0.9131170511245728\n",
      "logits: tensor([2552.9136], grad_fn=<SqueezeBackward1>)\n",
      "MAPE loss: 0.8602883815765381\n",
      "logits: tensor([3773.1409], grad_fn=<SqueezeBackward1>)\n",
      "MAPE loss: 0.7935099005699158\n",
      "logits: tensor([4501.8862], grad_fn=<SqueezeBackward1>)\n",
      "MAPE loss: 0.7536283135414124\n",
      "logits: tensor([7636.7534], grad_fn=<SqueezeBackward1>)\n",
      "MAPE loss: 0.5820685625076294\n",
      "logits: tensor([9148.1602], grad_fn=<SqueezeBackward1>)\n",
      "MAPE loss: 0.49935483932495117\n",
      "logits: tensor([13039.5078], grad_fn=<SqueezeBackward1>)\n",
      "MAPE loss: 0.2863956689834595\n",
      "logits: tensor([16041.9004], grad_fn=<SqueezeBackward1>)\n",
      "MAPE loss: 0.12208577245473862\n",
      "logits: tensor([18630.6816], grad_fn=<SqueezeBackward1>)\n",
      "MAPE loss: 0.019588710740208626\n",
      "logits: tensor([24772.9961], grad_fn=<SqueezeBackward1>)\n",
      "MAPE loss: 0.35573500394821167\n",
      "logits: tensor([23957.5195], grad_fn=<SqueezeBackward1>)\n",
      "MAPE loss: 0.31110695004463196\n",
      "logits: tensor([22718.4785], grad_fn=<SqueezeBackward1>)\n",
      "MAPE loss: 0.24329879879951477\n",
      "logits: tensor([27365.1523], grad_fn=<SqueezeBackward1>)\n",
      "MAPE loss: 0.4975941777229309\n",
      "logits: tensor([25953.0703], grad_fn=<SqueezeBackward1>)\n",
      "MAPE loss: 0.4203161299228668\n",
      "logits: tensor([24895.9922], grad_fn=<SqueezeBackward1>)\n",
      "MAPE loss: 0.36246612668037415\n",
      "logits: tensor([23588.4473], grad_fn=<SqueezeBackward1>)\n",
      "MAPE loss: 0.2909089922904968\n",
      "logits: tensor([19139.5938], grad_fn=<SqueezeBackward1>)\n",
      "MAPE loss: 0.04743959754705429\n",
      "logits: tensor([15775.6211], grad_fn=<SqueezeBackward1>)\n",
      "MAPE loss: 0.13665825128555298\n",
      "logits: tensor([15583.9893], grad_fn=<SqueezeBackward1>)\n",
      "MAPE loss: 0.1471455693244934\n",
      "logits: tensor([13130.9131], grad_fn=<SqueezeBackward1>)\n",
      "MAPE loss: 0.2813934087753296\n",
      "logits: tensor([12820.4199], grad_fn=<SqueezeBackward1>)\n",
      "MAPE loss: 0.2983855605125427\n",
      "logits: tensor([9914.2324], grad_fn=<SqueezeBackward1>)\n",
      "MAPE loss: 0.45743051171302795\n",
      "logits: tensor([12716.6660], grad_fn=<SqueezeBackward1>)\n",
      "MAPE loss: 0.304063618183136\n",
      "logits: tensor([10546.2412], grad_fn=<SqueezeBackward1>)\n",
      "MAPE loss: 0.42284297943115234\n",
      "logits: tensor([12097.7852], grad_fn=<SqueezeBackward1>)\n",
      "MAPE loss: 0.3379327058792114\n",
      "logits: tensor([13752.8555], grad_fn=<SqueezeBackward1>)\n",
      "MAPE loss: 0.24735678732395172\n",
      "logits: tensor([13985.7822], grad_fn=<SqueezeBackward1>)\n",
      "MAPE loss: 0.23460955917835236\n",
      "logits: tensor([14294.5645], grad_fn=<SqueezeBackward1>)\n",
      "MAPE loss: 0.21771104633808136\n",
      "logits: tensor([18025.2129], grad_fn=<SqueezeBackward1>)\n",
      "MAPE loss: 0.013546368107199669\n",
      "logits: tensor([18082.3555], grad_fn=<SqueezeBackward1>)\n",
      "MAPE loss: 0.010419164784252644\n",
      "logits: tensor([15973.7021], grad_fn=<SqueezeBackward1>)\n",
      "MAPE loss: 0.12581801414489746\n",
      "logits: tensor([21039.8105], grad_fn=<SqueezeBackward1>)\n",
      "MAPE loss: 0.15143147110939026\n",
      "logits: tensor([22976.8496], grad_fn=<SqueezeBackward1>)\n",
      "MAPE loss: 0.2574385106563568\n",
      "logits: tensor([21980.9941], grad_fn=<SqueezeBackward1>)\n",
      "MAPE loss: 0.2029389888048172\n",
      "logits: tensor([23671.5137], grad_fn=<SqueezeBackward1>)\n",
      "MAPE loss: 0.2954549193382263\n",
      "logits: tensor([17732.7422], grad_fn=<SqueezeBackward1>)\n",
      "MAPE loss: 0.029552213847637177\n",
      "logits: tensor([21814.4980], grad_fn=<SqueezeBackward1>)\n",
      "MAPE loss: 0.19382727146148682\n",
      "logits: tensor([19946.6367], grad_fn=<SqueezeBackward1>)\n",
      "MAPE loss: 0.09160609543323517\n",
      "logits: tensor([19242.9414], grad_fn=<SqueezeBackward1>)\n",
      "MAPE loss: 0.053095437586307526\n",
      "logits: tensor([19481.7559], grad_fn=<SqueezeBackward1>)\n",
      "MAPE loss: 0.06616487354040146\n",
      "logits: tensor([15878.0576], grad_fn=<SqueezeBackward1>)\n",
      "MAPE loss: 0.13105228543281555\n",
      "logits: tensor([16122.3418], grad_fn=<SqueezeBackward1>)\n",
      "MAPE loss: 0.11768350750207901\n",
      "logits: tensor([17804.7852], grad_fn=<SqueezeBackward1>)\n",
      "MAPE loss: 0.025609567761421204\n",
      "logits: tensor([15758.9248], grad_fn=<SqueezeBackward1>)\n",
      "MAPE loss: 0.13757199048995972\n",
      "logits: tensor([14364.5039], grad_fn=<SqueezeBackward1>)\n",
      "MAPE loss: 0.21388351917266846\n",
      "logits: tensor([13844.9795], grad_fn=<SqueezeBackward1>)\n",
      "MAPE loss: 0.2423151731491089\n",
      "Training, Epoch: 1, Batch 50: Loss = 19605082.0\n",
      "logits: tensor([17457.7598], grad_fn=<SqueezeBackward1>)\n",
      "MAPE loss: 0.044600993394851685\n",
      "logits: tensor([17686.8086], grad_fn=<SqueezeBackward1>)\n",
      "MAPE loss: 0.032065991312265396\n",
      "logits: tensor([14697.3916], grad_fn=<SqueezeBackward1>)\n",
      "MAPE loss: 0.19566579163074493\n",
      "logits: tensor([19405.0137], grad_fn=<SqueezeBackward1>)\n",
      "MAPE loss: 0.061965055763721466\n",
      "logits: tensor([19241.5977], grad_fn=<SqueezeBackward1>)\n",
      "MAPE loss: 0.05302189663052559\n",
      "logits: tensor([18239.8262], grad_fn=<SqueezeBackward1>)\n",
      "MAPE loss: 0.00180137250572443\n",
      "logits: tensor([20831.5977], grad_fn=<SqueezeBackward1>)\n",
      "MAPE loss: 0.14003674685955048\n",
      "logits: tensor([21167.8730], grad_fn=<SqueezeBackward1>)\n",
      "MAPE loss: 0.15843987464904785\n",
      "logits: tensor([20164.4219], grad_fn=<SqueezeBackward1>)\n",
      "MAPE loss: 0.10352467745542526\n",
      "logits: tensor([20186.2188], grad_fn=<SqueezeBackward1>)\n",
      "MAPE loss: 0.10471753776073456\n",
      "logits: tensor([18253.6387], grad_fn=<SqueezeBackward1>)\n",
      "MAPE loss: 0.001045465120114386\n",
      "logits: tensor([17235.8594], grad_fn=<SqueezeBackward1>)\n",
      "MAPE loss: 0.056744784116744995\n",
      "logits: tensor([18501.5254], grad_fn=<SqueezeBackward1>)\n",
      "MAPE loss: 0.012520463205873966\n",
      "logits: tensor([18291.8535], grad_fn=<SqueezeBackward1>)\n",
      "MAPE loss: 0.0010458927135914564\n",
      "logits: tensor([16573.1445], grad_fn=<SqueezeBackward1>)\n",
      "MAPE loss: 0.0930127277970314\n",
      "logits: tensor([18468.2656], grad_fn=<SqueezeBackward1>)\n",
      "MAPE loss: 0.010700278915464878\n",
      "logits: tensor([18255.0410], grad_fn=<SqueezeBackward1>)\n",
      "MAPE loss: 0.0009687200654298067\n",
      "logits: tensor([17747.0840], grad_fn=<SqueezeBackward1>)\n",
      "MAPE loss: 0.028767341747879982\n",
      "logits: tensor([16485.5684], grad_fn=<SqueezeBackward1>)\n",
      "MAPE loss: 0.097805455327034\n",
      "logits: tensor([16511.2188], grad_fn=<SqueezeBackward1>)\n",
      "MAPE loss: 0.09640169888734818\n",
      "logits: tensor([16804.0293], grad_fn=<SqueezeBackward1>)\n",
      "MAPE loss: 0.0803772583603859\n",
      "logits: tensor([18222.7383], grad_fn=<SqueezeBackward1>)\n",
      "MAPE loss: 0.0027365300338715315\n",
      "logits: tensor([18666.7461], grad_fn=<SqueezeBackward1>)\n",
      "MAPE loss: 0.02156238444149494\n",
      "logits: tensor([17490.2559], grad_fn=<SqueezeBackward1>)\n",
      "MAPE loss: 0.04282259941101074\n",
      "logits: tensor([18463.3359], grad_fn=<SqueezeBackward1>)\n",
      "MAPE loss: 0.010430495254695415\n",
      "logits: tensor([17737.5293], grad_fn=<SqueezeBackward1>)\n",
      "MAPE loss: 0.02929023467004299\n",
      "logits: tensor([19092.5410], grad_fn=<SqueezeBackward1>)\n",
      "MAPE loss: 0.04486457630991936\n",
      "logits: tensor([19371.1934], grad_fn=<SqueezeBackward1>)\n",
      "MAPE loss: 0.060114193707704544\n",
      "logits: tensor([17748.6660], grad_fn=<SqueezeBackward1>)\n",
      "MAPE loss: 0.02868076227605343\n",
      "logits: tensor([19979.0820], grad_fn=<SqueezeBackward1>)\n",
      "MAPE loss: 0.09338170289993286\n",
      "logits: tensor([19183.6816], grad_fn=<SqueezeBackward1>)\n",
      "MAPE loss: 0.049852367490530014\n",
      "logits: tensor([20760.0176], grad_fn=<SqueezeBackward1>)\n",
      "MAPE loss: 0.13611944019794464\n",
      "logits: tensor([19521.1328], grad_fn=<SqueezeBackward1>)\n",
      "MAPE loss: 0.06831982731819153\n",
      "logits: tensor([17332.9434], grad_fn=<SqueezeBackward1>)\n",
      "MAPE loss: 0.05143173411488533\n",
      "logits: tensor([17015.4102], grad_fn=<SqueezeBackward1>)\n",
      "MAPE loss: 0.0688091591000557\n",
      "logits: tensor([17511.0820], grad_fn=<SqueezeBackward1>)\n",
      "MAPE loss: 0.04168286174535751\n",
      "logits: tensor([16097.0205], grad_fn=<SqueezeBackward1>)\n",
      "MAPE loss: 0.11906924843788147\n",
      "logits: tensor([16251.0693], grad_fn=<SqueezeBackward1>)\n",
      "MAPE loss: 0.11063872277736664\n",
      "logits: tensor([17189.2285], grad_fn=<SqueezeBackward1>)\n",
      "MAPE loss: 0.05929671972990036\n",
      "logits: tensor([17457.8809], grad_fn=<SqueezeBackward1>)\n",
      "MAPE loss: 0.04459436610341072\n",
      "logits: tensor([18726.1172], grad_fn=<SqueezeBackward1>)\n",
      "MAPE loss: 0.024811547249555588\n",
      "logits: tensor([20032.1543], grad_fn=<SqueezeBackward1>)\n",
      "MAPE loss: 0.09628615528345108\n",
      "logits: tensor([19157.4570], grad_fn=<SqueezeBackward1>)\n",
      "MAPE loss: 0.048417191952466965\n",
      "logits: tensor([18639.6914], grad_fn=<SqueezeBackward1>)\n",
      "MAPE loss: 0.0200817808508873\n",
      "logits: tensor([16422.7168], grad_fn=<SqueezeBackward1>)\n",
      "MAPE loss: 0.10124509036540985\n",
      "logits: tensor([17820.1074], grad_fn=<SqueezeBackward1>)\n",
      "MAPE loss: 0.024771036580204964\n",
      "logits: tensor([18465.0801], grad_fn=<SqueezeBackward1>)\n",
      "MAPE loss: 0.010525945574045181\n",
      "logits: tensor([18443.1660], grad_fn=<SqueezeBackward1>)\n",
      "MAPE loss: 0.00932666938751936\n",
      "logits: tensor([18337.8223], grad_fn=<SqueezeBackward1>)\n",
      "MAPE loss: 0.003561593359336257\n",
      "logits: tensor([18094.1016], grad_fn=<SqueezeBackward1>)\n",
      "MAPE loss: 0.009776344522833824\n",
      "Training, Epoch: 1, Batch 100: Loss = 31912.47265625\n",
      "logits: tensor([18904.4141], grad_fn=<SqueezeBackward1>)\n",
      "MAPE loss: 0.03456908091902733\n",
      "logits: tensor([19097.8750], grad_fn=<SqueezeBackward1>)\n",
      "MAPE loss: 0.045156486332416534\n",
      "logits: tensor([18926.7578], grad_fn=<SqueezeBackward1>)\n",
      "MAPE loss: 0.03579187020659447\n",
      "logits: tensor([17203.1113], grad_fn=<SqueezeBackward1>)\n",
      "MAPE loss: 0.058536965399980545\n",
      "logits: tensor([18502.0020], grad_fn=<SqueezeBackward1>)\n",
      "MAPE loss: 0.012546543963253498\n",
      "logits: tensor([18255.7793], grad_fn=<SqueezeBackward1>)\n",
      "MAPE loss: 0.0009283166145905852\n",
      "logits: tensor([18940.3574], grad_fn=<SqueezeBackward1>)\n",
      "MAPE loss: 0.03653612732887268\n",
      "logits: tensor([17301.0020], grad_fn=<SqueezeBackward1>)\n",
      "MAPE loss: 0.053179770708084106\n",
      "logits: tensor([17658.0762], grad_fn=<SqueezeBackward1>)\n",
      "MAPE loss: 0.03363841027021408\n",
      "logits: tensor([16335.4971], grad_fn=<SqueezeBackward1>)\n",
      "MAPE loss: 0.1060183048248291\n",
      "logits: tensor([16862.0742], grad_fn=<SqueezeBackward1>)\n",
      "MAPE loss: 0.07720067352056503\n",
      "logits: tensor([18372.4102], grad_fn=<SqueezeBackward1>)\n",
      "MAPE loss: 0.005454461555927992\n",
      "logits: tensor([20596.8418], grad_fn=<SqueezeBackward1>)\n",
      "MAPE loss: 0.12718942761421204\n",
      "logits: tensor([20569.3516], grad_fn=<SqueezeBackward1>)\n",
      "MAPE loss: 0.12568499147891998\n",
      "logits: tensor([19196.8086], grad_fn=<SqueezeBackward1>)\n",
      "MAPE loss: 0.05057075619697571\n",
      "logits: tensor([17837.4531], grad_fn=<SqueezeBackward1>)\n",
      "MAPE loss: 0.023821769282221794\n",
      "logits: tensor([18461.7461], grad_fn=<SqueezeBackward1>)\n",
      "MAPE loss: 0.010343489237129688\n",
      "logits: tensor([18022.0957], grad_fn=<SqueezeBackward1>)\n",
      "MAPE loss: 0.013716960325837135\n",
      "logits: tensor([17604.3008], grad_fn=<SqueezeBackward1>)\n",
      "MAPE loss: 0.03658134117722511\n",
      "logits: tensor([16741.9258], grad_fn=<SqueezeBackward1>)\n",
      "MAPE loss: 0.08377595245838165\n",
      "logits: tensor([17959.3672], grad_fn=<SqueezeBackward1>)\n",
      "MAPE loss: 0.01714986190199852\n",
      "logits: tensor([19230.0020], grad_fn=<SqueezeBackward1>)\n",
      "MAPE loss: 0.052387308329343796\n",
      "logits: tensor([17588.1113], grad_fn=<SqueezeBackward1>)\n",
      "MAPE loss: 0.03746733069419861\n",
      "logits: tensor([17398.0664], grad_fn=<SqueezeBackward1>)\n",
      "MAPE loss: 0.0478677898645401\n",
      "logits: tensor([17347.2109], grad_fn=<SqueezeBackward1>)\n",
      "MAPE loss: 0.05065092444419861\n",
      "logits: tensor([19874.7031], grad_fn=<SqueezeBackward1>)\n",
      "MAPE loss: 0.08766943216323853\n",
      "logits: tensor([15795.4814], grad_fn=<SqueezeBackward1>)\n",
      "MAPE loss: 0.13557137548923492\n",
      "logits: tensor([18086.4688], grad_fn=<SqueezeBackward1>)\n",
      "MAPE loss: 0.010194060392677784\n",
      "logits: tensor([18037.7852], grad_fn=<SqueezeBackward1>)\n",
      "MAPE loss: 0.012858334928750992\n",
      "logits: tensor([19354.6895], grad_fn=<SqueezeBackward1>)\n",
      "MAPE loss: 0.05921099707484245\n",
      "logits: tensor([19086.6328], grad_fn=<SqueezeBackward1>)\n",
      "MAPE loss: 0.044541243463754654\n",
      "logits: tensor([18470.8262], grad_fn=<SqueezeBackward1>)\n",
      "MAPE loss: 0.010840408504009247\n",
      "logits: tensor([18915.4805], grad_fn=<SqueezeBackward1>)\n",
      "MAPE loss: 0.03517470136284828\n",
      "logits: tensor([20033.3906], grad_fn=<SqueezeBackward1>)\n",
      "MAPE loss: 0.09635381400585175\n",
      "logits: tensor([19077.6348], grad_fn=<SqueezeBackward1>)\n",
      "MAPE loss: 0.04404881224036217\n",
      "logits: tensor([18550.2070], grad_fn=<SqueezeBackward1>)\n",
      "MAPE loss: 0.015184630639851093\n",
      "logits: tensor([18118.7637], grad_fn=<SqueezeBackward1>)\n",
      "MAPE loss: 0.008426678366959095\n",
      "logits: tensor([17718.3652], grad_fn=<SqueezeBackward1>)\n",
      "MAPE loss: 0.030339011922478676\n",
      "logits: tensor([17069.9062], grad_fn=<SqueezeBackward1>)\n",
      "MAPE loss: 0.06582678854465485\n",
      "logits: tensor([16378.8613], grad_fn=<SqueezeBackward1>)\n",
      "MAPE loss: 0.10364513844251633\n",
      "logits: tensor([18273.0723], grad_fn=<SqueezeBackward1>)\n",
      "MAPE loss: 1.8063961761072278e-05\n",
      "logits: tensor([17860.2637], grad_fn=<SqueezeBackward1>)\n",
      "MAPE loss: 0.022573431953787804\n",
      "logits: tensor([17146.1816], grad_fn=<SqueezeBackward1>)\n",
      "MAPE loss: 0.06165251508355141\n",
      "logits: tensor([17357.3027], grad_fn=<SqueezeBackward1>)\n",
      "MAPE loss: 0.050098635256290436\n",
      "logits: tensor([18516.6348], grad_fn=<SqueezeBackward1>)\n",
      "MAPE loss: 0.013347344473004341\n",
      "logits: tensor([19398.9355], grad_fn=<SqueezeBackward1>)\n",
      "MAPE loss: 0.0616324208676815\n",
      "logits: tensor([18054.0215], grad_fn=<SqueezeBackward1>)\n",
      "MAPE loss: 0.01196977961808443\n",
      "logits: tensor([19461.2051], grad_fn=<SqueezeBackward1>)\n",
      "MAPE loss: 0.06504020094871521\n",
      "logits: tensor([18509.9004], grad_fn=<SqueezeBackward1>)\n",
      "MAPE loss: 0.012978796847164631\n",
      "logits: tensor([17649.9531], grad_fn=<SqueezeBackward1>)\n",
      "MAPE loss: 0.03408295661211014\n",
      "Training, Epoch: 1, Batch 150: Loss = 387866.21875\n",
      "logits: tensor([19701.3047], grad_fn=<SqueezeBackward1>)\n",
      "MAPE loss: 0.0781799703836441\n",
      "logits: tensor([18295.7617], grad_fn=<SqueezeBackward1>)\n",
      "MAPE loss: 0.001259774318896234\n",
      "logits: tensor([18185.5215], grad_fn=<SqueezeBackward1>)\n",
      "MAPE loss: 0.004773268476128578\n",
      "logits: tensor([15981.0293], grad_fn=<SqueezeBackward1>)\n",
      "MAPE loss: 0.12541702389717102\n",
      "logits: tensor([17513.7090], grad_fn=<SqueezeBackward1>)\n",
      "MAPE loss: 0.04153909534215927\n",
      "logits: tensor([18260.5234], grad_fn=<SqueezeBackward1>)\n",
      "MAPE loss: 0.000668687280267477\n",
      "logits: tensor([18432.0137], grad_fn=<SqueezeBackward1>)\n",
      "MAPE loss: 0.008716342970728874\n",
      "logits: tensor([18971.4199], grad_fn=<SqueezeBackward1>)\n",
      "MAPE loss: 0.03823606297373772\n",
      "logits: tensor([18368.3984], grad_fn=<SqueezeBackward1>)\n",
      "MAPE loss: 0.00523491483181715\n",
      "logits: tensor([18325.5176], grad_fn=<SqueezeBackward1>)\n",
      "MAPE loss: 0.0028882031328976154\n",
      "logits: tensor([20391.4648], grad_fn=<SqueezeBackward1>)\n",
      "MAPE loss: 0.11594989895820618\n",
      "logits: tensor([17999.0938], grad_fn=<SqueezeBackward1>)\n",
      "MAPE loss: 0.0149757731705904\n",
      "logits: tensor([17565.9297], grad_fn=<SqueezeBackward1>)\n",
      "MAPE loss: 0.03868125006556511\n",
      "logits: tensor([17649.7246], grad_fn=<SqueezeBackward1>)\n",
      "MAPE loss: 0.034095462411642075\n",
      "logits: tensor([18337.6055], grad_fn=<SqueezeBackward1>)\n",
      "MAPE loss: 0.0035497290082275867\n",
      "logits: tensor([19105.5254], grad_fn=<SqueezeBackward1>)\n",
      "MAPE loss: 0.04557516425848007\n",
      "logits: tensor([15860.8291], grad_fn=<SqueezeBackward1>)\n",
      "MAPE loss: 0.13199514150619507\n",
      "logits: tensor([18828.2773], grad_fn=<SqueezeBackward1>)\n",
      "MAPE loss: 0.030402395874261856\n",
      "logits: tensor([17615.1074], grad_fn=<SqueezeBackward1>)\n",
      "MAPE loss: 0.03598993271589279\n",
      "logits: tensor([18034.8047], grad_fn=<SqueezeBackward1>)\n",
      "MAPE loss: 0.013021444901823997\n",
      "logits: tensor([17149.3770], grad_fn=<SqueezeBackward1>)\n",
      "MAPE loss: 0.061477649956941605\n",
      "logits: tensor([19192.5742], grad_fn=<SqueezeBackward1>)\n",
      "MAPE loss: 0.050339024513959885\n",
      "logits: tensor([18150.3984], grad_fn=<SqueezeBackward1>)\n",
      "MAPE loss: 0.006695423740893602\n",
      "logits: tensor([18546.6289], grad_fn=<SqueezeBackward1>)\n",
      "MAPE loss: 0.014988813549280167\n",
      "logits: tensor([19957.8203], grad_fn=<SqueezeBackward1>)\n",
      "MAPE loss: 0.09221813082695007\n",
      "logits: tensor([18690.5137], grad_fn=<SqueezeBackward1>)\n",
      "MAPE loss: 0.022863097488880157\n",
      "logits: tensor([18512.8672], grad_fn=<SqueezeBackward1>)\n",
      "MAPE loss: 0.013141158036887646\n",
      "logits: tensor([17479.7598], grad_fn=<SqueezeBackward1>)\n",
      "MAPE loss: 0.04339701309800148\n",
      "logits: tensor([18300.3281], grad_fn=<SqueezeBackward1>)\n",
      "MAPE loss: 0.0015096769202500582\n",
      "logits: tensor([18307.2148], grad_fn=<SqueezeBackward1>)\n",
      "MAPE loss: 0.0018865617457777262\n",
      "logits: tensor([18704.9844], grad_fn=<SqueezeBackward1>)\n",
      "MAPE loss: 0.02365502528846264\n",
      "logits: tensor([18255.4316], grad_fn=<SqueezeBackward1>)\n",
      "MAPE loss: 0.0009473426034674048\n",
      "logits: tensor([17981.8320], grad_fn=<SqueezeBackward1>)\n",
      "MAPE loss: 0.015920443460345268\n",
      "logits: tensor([18176.1484], grad_fn=<SqueezeBackward1>)\n",
      "MAPE loss: 0.0052862209267914295\n",
      "logits: tensor([17308.5723], grad_fn=<SqueezeBackward1>)\n",
      "MAPE loss: 0.05276547372341156\n",
      "logits: tensor([16824.0469], grad_fn=<SqueezeBackward1>)\n",
      "MAPE loss: 0.0792817696928978\n",
      "logits: tensor([16890.2949], grad_fn=<SqueezeBackward1>)\n",
      "MAPE loss: 0.07565625756978989\n",
      "logits: tensor([17969.6426], grad_fn=<SqueezeBackward1>)\n",
      "MAPE loss: 0.016587527468800545\n",
      "logits: tensor([19706.8652], grad_fn=<SqueezeBackward1>)\n",
      "MAPE loss: 0.07848428189754486\n",
      "logits: tensor([17849.7363], grad_fn=<SqueezeBackward1>)\n",
      "MAPE loss: 0.023149555549025536\n",
      "logits: tensor([19964.2129], grad_fn=<SqueezeBackward1>)\n",
      "MAPE loss: 0.09256797283887863\n",
      "logits: tensor([18968.1426], grad_fn=<SqueezeBackward1>)\n",
      "MAPE loss: 0.03805670514702797\n",
      "logits: tensor([18614.8184], grad_fn=<SqueezeBackward1>)\n",
      "MAPE loss: 0.01872057095170021\n",
      "logits: tensor([19119.3730], grad_fn=<SqueezeBackward1>)\n",
      "MAPE loss: 0.04633299261331558\n",
      "logits: tensor([19592.9512], grad_fn=<SqueezeBackward1>)\n",
      "MAPE loss: 0.07225018739700317\n",
      "logits: tensor([18007.1035], grad_fn=<SqueezeBackward1>)\n",
      "MAPE loss: 0.014537427574396133\n",
      "logits: tensor([16906.2207], grad_fn=<SqueezeBackward1>)\n",
      "MAPE loss: 0.07478469610214233\n",
      "logits: tensor([17114.5117], grad_fn=<SqueezeBackward1>)\n",
      "MAPE loss: 0.06338569521903992\n",
      "logits: tensor([16030.4072], grad_fn=<SqueezeBackward1>)\n",
      "MAPE loss: 0.12271475046873093\n",
      "logits: tensor([17260.8926], grad_fn=<SqueezeBackward1>)\n",
      "MAPE loss: 0.055374808609485626\n",
      "Training, Epoch: 1, Batch 200: Loss = 1023839.625\n",
      "logits: tensor([18840.6582], grad_fn=<SqueezeBackward1>)\n",
      "MAPE loss: 0.031079955399036407\n",
      "logits: tensor([18593.2793], grad_fn=<SqueezeBackward1>)\n",
      "MAPE loss: 0.01754181832075119\n",
      "logits: tensor([18258.1094], grad_fn=<SqueezeBackward1>)\n",
      "MAPE loss: 0.0008008000440895557\n",
      "logits: tensor([18667.4355], grad_fn=<SqueezeBackward1>)\n",
      "MAPE loss: 0.021600116044282913\n",
      "logits: tensor([18781.0391], grad_fn=<SqueezeBackward1>)\n",
      "MAPE loss: 0.027817219495773315\n",
      "logits: tensor([19819.9570], grad_fn=<SqueezeBackward1>)\n",
      "MAPE loss: 0.08467338234186172\n",
      "logits: tensor([18848.1094], grad_fn=<SqueezeBackward1>)\n",
      "MAPE loss: 0.03148772940039635\n",
      "logits: tensor([17315.1719], grad_fn=<SqueezeBackward1>)\n",
      "MAPE loss: 0.05240430310368538\n",
      "logits: tensor([18121.2188], grad_fn=<SqueezeBackward1>)\n",
      "MAPE loss: 0.008292321115732193\n",
      "logits: tensor([19311.5645], grad_fn=<SqueezeBackward1>)\n",
      "MAPE loss: 0.05685092508792877\n",
      "logits: tensor([17484.2402], grad_fn=<SqueezeBackward1>)\n",
      "MAPE loss: 0.04315181449055672\n",
      "logits: tensor([18546.5117], grad_fn=<SqueezeBackward1>)\n",
      "MAPE loss: 0.01498239953070879\n",
      "logits: tensor([16742.7949], grad_fn=<SqueezeBackward1>)\n",
      "MAPE loss: 0.08372838795185089\n",
      "logits: tensor([18136.0664], grad_fn=<SqueezeBackward1>)\n",
      "MAPE loss: 0.007479763124138117\n",
      "logits: tensor([17874.8320], grad_fn=<SqueezeBackward1>)\n",
      "MAPE loss: 0.02177616022527218\n",
      "logits: tensor([16755.8418], grad_fn=<SqueezeBackward1>)\n",
      "MAPE loss: 0.08301438391208649\n",
      "logits: tensor([18472.0059], grad_fn=<SqueezeBackward1>)\n",
      "MAPE loss: 0.010904967784881592\n",
      "logits: tensor([18444.1660], grad_fn=<SqueezeBackward1>)\n",
      "MAPE loss: 0.009381395764648914\n",
      "logits: tensor([17955.9629], grad_fn=<SqueezeBackward1>)\n",
      "MAPE loss: 0.01733616553246975\n",
      "logits: tensor([20660.3965], grad_fn=<SqueezeBackward1>)\n",
      "MAPE loss: 0.1306675374507904\n",
      "logits: tensor([19582.6328], grad_fn=<SqueezeBackward1>)\n",
      "MAPE loss: 0.07168550044298172\n",
      "logits: tensor([17878.0352], grad_fn=<SqueezeBackward1>)\n",
      "MAPE loss: 0.021600864827632904\n",
      "logits: tensor([19233.8340], grad_fn=<SqueezeBackward1>)\n",
      "MAPE loss: 0.05259701982140541\n",
      "logits: tensor([17646.0898], grad_fn=<SqueezeBackward1>)\n",
      "MAPE loss: 0.03429437801241875\n",
      "logits: tensor([15622.9697], grad_fn=<SqueezeBackward1>)\n",
      "MAPE loss: 0.14501230418682098\n",
      "logits: tensor([17503.3945], grad_fn=<SqueezeBackward1>)\n",
      "MAPE loss: 0.04210356995463371\n",
      "logits: tensor([18020.4160], grad_fn=<SqueezeBackward1>)\n",
      "MAPE loss: 0.013808883726596832\n",
      "logits: tensor([18303.7559], grad_fn=<SqueezeBackward1>)\n",
      "MAPE loss: 0.0016972642624750733\n",
      "logits: tensor([19699.6738], grad_fn=<SqueezeBackward1>)\n",
      "MAPE loss: 0.07809071987867355\n",
      "logits: tensor([16387.4395], grad_fn=<SqueezeBackward1>)\n",
      "MAPE loss: 0.10317568480968475\n",
      "logits: tensor([18083.0215], grad_fn=<SqueezeBackward1>)\n",
      "MAPE loss: 0.010382716543972492\n",
      "logits: tensor([18016.2891], grad_fn=<SqueezeBackward1>)\n",
      "MAPE loss: 0.014034736901521683\n",
      "logits: tensor([19728.4316], grad_fn=<SqueezeBackward1>)\n",
      "MAPE loss: 0.07966452836990356\n",
      "logits: tensor([18208.5020], grad_fn=<SqueezeBackward1>)\n",
      "MAPE loss: 0.003515631891787052\n",
      "logits: tensor([19354.1914], grad_fn=<SqueezeBackward1>)\n",
      "MAPE loss: 0.05918373912572861\n",
      "logits: tensor([17212.1270], grad_fn=<SqueezeBackward1>)\n",
      "MAPE loss: 0.058043573051691055\n",
      "logits: tensor([19364.7188], grad_fn=<SqueezeBackward1>)\n",
      "MAPE loss: 0.05975986272096634\n",
      "logits: tensor([17987.4316], grad_fn=<SqueezeBackward1>)\n",
      "MAPE loss: 0.015613997355103493\n",
      "logits: tensor([18041.3555], grad_fn=<SqueezeBackward1>)\n",
      "MAPE loss: 0.012662944383919239\n",
      "logits: tensor([18678.6055], grad_fn=<SqueezeBackward1>)\n",
      "MAPE loss: 0.022211404517292976\n",
      "logits: tensor([17451.8809], grad_fn=<SqueezeBackward1>)\n",
      "MAPE loss: 0.04492272436618805\n",
      "logits: tensor([18751.2480], grad_fn=<SqueezeBackward1>)\n",
      "MAPE loss: 0.0261868666857481\n",
      "logits: tensor([17278.1230], grad_fn=<SqueezeBackward1>)\n",
      "MAPE loss: 0.05443184822797775\n",
      "logits: tensor([19002.9258], grad_fn=<SqueezeBackward1>)\n",
      "MAPE loss: 0.039960265159606934\n",
      "logits: tensor([18182.3848], grad_fn=<SqueezeBackward1>)\n",
      "MAPE loss: 0.004944929387420416\n",
      "logits: tensor([19406.6562], grad_fn=<SqueezeBackward1>)\n",
      "MAPE loss: 0.06205494701862335\n",
      "logits: tensor([17612.4941], grad_fn=<SqueezeBackward1>)\n",
      "MAPE loss: 0.036132946610450745\n",
      "logits: tensor([17255.5938], grad_fn=<SqueezeBackward1>)\n",
      "MAPE loss: 0.0556647926568985\n",
      "logits: tensor([15946.2227], grad_fn=<SqueezeBackward1>)\n",
      "MAPE loss: 0.12732185423374176\n",
      "logits: tensor([16715.6328], grad_fn=<SqueezeBackward1>)\n",
      "MAPE loss: 0.08521486818790436\n",
      "Training, Epoch: 1, Batch 250: Loss = 2424589.5\n",
      "logits: tensor([18543.7324], grad_fn=<SqueezeBackward1>)\n",
      "MAPE loss: 0.014830299653112888\n",
      "logits: tensor([19147.2969], grad_fn=<SqueezeBackward1>)\n",
      "MAPE loss: 0.047861162573099136\n",
      "logits: tensor([19366.3164], grad_fn=<SqueezeBackward1>)\n",
      "MAPE loss: 0.05984729528427124\n",
      "logits: tensor([19789.9023], grad_fn=<SqueezeBackward1>)\n",
      "MAPE loss: 0.08302859961986542\n",
      "logits: tensor([19403.7793], grad_fn=<SqueezeBackward1>)\n",
      "MAPE loss: 0.06189750134944916\n",
      "logits: tensor([19872.2324], grad_fn=<SqueezeBackward1>)\n",
      "MAPE loss: 0.08753421902656555\n",
      "logits: tensor([17745.9941], grad_fn=<SqueezeBackward1>)\n",
      "MAPE loss: 0.028826983645558357\n",
      "logits: tensor([18405.4102], grad_fn=<SqueezeBackward1>)\n",
      "MAPE loss: 0.007260430138558149\n",
      "logits: tensor([16852.2441], grad_fn=<SqueezeBackward1>)\n",
      "MAPE loss: 0.07773863524198532\n",
      "logits: tensor([16015.9023], grad_fn=<SqueezeBackward1>)\n",
      "MAPE loss: 0.12350855022668839\n",
      "logits: tensor([16932.0664], grad_fn=<SqueezeBackward1>)\n",
      "MAPE loss: 0.07337025552988052\n",
      "logits: tensor([18162.8164], grad_fn=<SqueezeBackward1>)\n",
      "MAPE loss: 0.006015833932906389\n",
      "logits: tensor([17385.7109], grad_fn=<SqueezeBackward1>)\n",
      "MAPE loss: 0.048543959856033325\n",
      "logits: tensor([19792.7324], grad_fn=<SqueezeBackward1>)\n",
      "MAPE loss: 0.08318347483873367\n",
      "logits: tensor([18296.3535], grad_fn=<SqueezeBackward1>)\n",
      "MAPE loss: 0.0012921611778438091\n",
      "logits: tensor([18189.9434], grad_fn=<SqueezeBackward1>)\n",
      "MAPE loss: 0.0045312754809856415\n",
      "logits: tensor([18567.3027], grad_fn=<SqueezeBackward1>)\n",
      "MAPE loss: 0.016120215877890587\n",
      "logits: tensor([16668.9004], grad_fn=<SqueezeBackward1>)\n",
      "MAPE loss: 0.08777236193418503\n",
      "logits: tensor([18554.8359], grad_fn=<SqueezeBackward1>)\n",
      "MAPE loss: 0.015437954105436802\n",
      "logits: tensor([18591.7715], grad_fn=<SqueezeBackward1>)\n",
      "MAPE loss: 0.01745930127799511\n",
      "logits: tensor([19001.1289], grad_fn=<SqueezeBackward1>)\n",
      "MAPE loss: 0.039861928671598434\n",
      "logits: tensor([20640.9492], grad_fn=<SqueezeBackward1>)\n",
      "MAPE loss: 0.12960326671600342\n",
      "logits: tensor([18837.3145], grad_fn=<SqueezeBackward1>)\n",
      "MAPE loss: 0.03089696355164051\n",
      "logits: tensor([17630.4629], grad_fn=<SqueezeBackward1>)\n",
      "MAPE loss: 0.03514958545565605\n",
      "logits: tensor([17928.5742], grad_fn=<SqueezeBackward1>)\n",
      "MAPE loss: 0.018835047259926796\n",
      "logits: tensor([17190.3711], grad_fn=<SqueezeBackward1>)\n",
      "MAPE loss: 0.05923419073224068\n",
      "logits: tensor([17741.4453], grad_fn=<SqueezeBackward1>)\n",
      "MAPE loss: 0.029075924307107925\n",
      "logits: tensor([18992.1230], grad_fn=<SqueezeBackward1>)\n",
      "MAPE loss: 0.039369069039821625\n",
      "logits: tensor([17760.1699], grad_fn=<SqueezeBackward1>)\n",
      "MAPE loss: 0.028051195666193962\n",
      "logits: tensor([18401.5312], grad_fn=<SqueezeBackward1>)\n",
      "MAPE loss: 0.007048151921480894\n",
      "logits: tensor([17767.2129], grad_fn=<SqueezeBackward1>)\n",
      "MAPE loss: 0.02766576036810875\n",
      "logits: tensor([19685.0957], grad_fn=<SqueezeBackward1>)\n",
      "MAPE loss: 0.07729291170835495\n",
      "logits: tensor([18340.5293], grad_fn=<SqueezeBackward1>)\n",
      "MAPE loss: 0.0037097393069416285\n",
      "logits: tensor([17251.1172], grad_fn=<SqueezeBackward1>)\n",
      "MAPE loss: 0.05590977892279625\n",
      "logits: tensor([17508.4453], grad_fn=<SqueezeBackward1>)\n",
      "MAPE loss: 0.04182715713977814\n",
      "logits: tensor([18763.4238], grad_fn=<SqueezeBackward1>)\n",
      "MAPE loss: 0.026853201910853386\n",
      "logits: tensor([18190.3828], grad_fn=<SqueezeBackward1>)\n",
      "MAPE loss: 0.004507225938141346\n",
      "logits: tensor([17202.5137], grad_fn=<SqueezeBackward1>)\n",
      "MAPE loss: 0.05856967344880104\n",
      "logits: tensor([17656.0996], grad_fn=<SqueezeBackward1>)\n",
      "MAPE loss: 0.03374658152461052\n",
      "logits: tensor([17000.9805], grad_fn=<SqueezeBackward1>)\n",
      "MAPE loss: 0.06959884613752365\n",
      "logits: tensor([18908.6875], grad_fn=<SqueezeBackward1>)\n",
      "MAPE loss: 0.03480294719338417\n",
      "logits: tensor([18159.3730], grad_fn=<SqueezeBackward1>)\n",
      "MAPE loss: 0.006204276345670223\n",
      "logits: tensor([20325.9941], grad_fn=<SqueezeBackward1>)\n",
      "MAPE loss: 0.1123669296503067\n",
      "logits: tensor([19636.2871], grad_fn=<SqueezeBackward1>)\n",
      "MAPE loss: 0.07462180405855179\n",
      "logits: tensor([17997.0879], grad_fn=<SqueezeBackward1>)\n",
      "MAPE loss: 0.015085546299815178\n",
      "logits: tensor([18879.0430], grad_fn=<SqueezeBackward1>)\n",
      "MAPE loss: 0.033180613070726395\n",
      "logits: tensor([17705.2812], grad_fn=<SqueezeBackward1>)\n",
      "MAPE loss: 0.03105504997074604\n",
      "logits: tensor([17964.3262], grad_fn=<SqueezeBackward1>)\n",
      "MAPE loss: 0.01687847450375557\n",
      "logits: tensor([16816.1562], grad_fn=<SqueezeBackward1>)\n",
      "MAPE loss: 0.07971359044313431\n",
      "logits: tensor([17794.4258], grad_fn=<SqueezeBackward1>)\n",
      "MAPE loss: 0.02617649920284748\n",
      "Training, Epoch: 1, Batch 300: Loss = 228786.578125\n",
      "logits: tensor([16379.1504], grad_fn=<SqueezeBackward1>)\n",
      "MAPE loss: 0.10362932085990906\n",
      "logits: tensor([18135.8262], grad_fn=<SqueezeBackward1>)\n",
      "MAPE loss: 0.007492910139262676\n",
      "logits: tensor([19940.7773], grad_fn=<SqueezeBackward1>)\n",
      "MAPE loss: 0.09128542989492416\n",
      "logits: tensor([19051.7070], grad_fn=<SqueezeBackward1>)\n",
      "MAPE loss: 0.04262988269329071\n",
      "logits: tensor([18630.2207], grad_fn=<SqueezeBackward1>)\n",
      "MAPE loss: 0.01956348493695259\n",
      "logits: tensor([17398.7461], grad_fn=<SqueezeBackward1>)\n",
      "MAPE loss: 0.04783059284090996\n",
      "logits: tensor([18992.3594], grad_fn=<SqueezeBackward1>)\n",
      "MAPE loss: 0.039382003247737885\n",
      "logits: tensor([19865.2109], grad_fn=<SqueezeBackward1>)\n",
      "MAPE loss: 0.0871499627828598\n",
      "logits: tensor([19508.5957], grad_fn=<SqueezeBackward1>)\n",
      "MAPE loss: 0.067633718252182\n",
      "logits: tensor([17068.0703], grad_fn=<SqueezeBackward1>)\n",
      "MAPE loss: 0.06592725962400436\n",
      "logits: tensor([17900.0801], grad_fn=<SqueezeBackward1>)\n",
      "MAPE loss: 0.020394427701830864\n",
      "logits: tensor([15790.0283], grad_fn=<SqueezeBackward1>)\n",
      "MAPE loss: 0.1358698010444641\n",
      "logits: tensor([17125.6719], grad_fn=<SqueezeBackward1>)\n",
      "MAPE loss: 0.06277494132518768\n",
      "logits: tensor([17610.9004], grad_fn=<SqueezeBackward1>)\n",
      "MAPE loss: 0.03622016683220863\n",
      "logits: tensor([18222.3652], grad_fn=<SqueezeBackward1>)\n",
      "MAPE loss: 0.0027569453231990337\n",
      "logits: tensor([17117.3301], grad_fn=<SqueezeBackward1>)\n",
      "MAPE loss: 0.0632314532995224\n",
      "logits: tensor([18884.1445], grad_fn=<SqueezeBackward1>)\n",
      "MAPE loss: 0.033459801226854324\n",
      "logits: tensor([19294.4766], grad_fn=<SqueezeBackward1>)\n",
      "MAPE loss: 0.05591576546430588\n",
      "logits: tensor([19975.6387], grad_fn=<SqueezeBackward1>)\n",
      "MAPE loss: 0.09319326281547546\n",
      "logits: tensor([19313.0547], grad_fn=<SqueezeBackward1>)\n",
      "MAPE loss: 0.0569324791431427\n",
      "logits: tensor([18382.9648], grad_fn=<SqueezeBackward1>)\n",
      "MAPE loss: 0.006032080855220556\n",
      "logits: tensor([18967.1211], grad_fn=<SqueezeBackward1>)\n",
      "MAPE loss: 0.03800080344080925\n",
      "logits: tensor([18294.5703], grad_fn=<SqueezeBackward1>)\n",
      "MAPE loss: 0.0011945730075240135\n",
      "logits: tensor([18406.3105], grad_fn=<SqueezeBackward1>)\n",
      "MAPE loss: 0.007309705018997192\n",
      "logits: tensor([19001.7598], grad_fn=<SqueezeBackward1>)\n",
      "MAPE loss: 0.03989645093679428\n",
      "logits: tensor([16909.2715], grad_fn=<SqueezeBackward1>)\n",
      "MAPE loss: 0.07461773604154587\n",
      "logits: tensor([16730.1719], grad_fn=<SqueezeBackward1>)\n",
      "MAPE loss: 0.08441919833421707\n",
      "logits: tensor([16881.5996], grad_fn=<SqueezeBackward1>)\n",
      "MAPE loss: 0.07613211870193481\n",
      "logits: tensor([17315.9609], grad_fn=<SqueezeBackward1>)\n",
      "MAPE loss: 0.05236111953854561\n",
      "logits: tensor([17161.7266], grad_fn=<SqueezeBackward1>)\n",
      "MAPE loss: 0.06080180034041405\n",
      "logits: tensor([18304.9727], grad_fn=<SqueezeBackward1>)\n",
      "MAPE loss: 0.0017638551071286201\n",
      "logits: tensor([19589.6016], grad_fn=<SqueezeBackward1>)\n",
      "MAPE loss: 0.07206687331199646\n",
      "logits: tensor([20502.6172], grad_fn=<SqueezeBackward1>)\n",
      "MAPE loss: 0.12203285843133926\n",
      "logits: tensor([18102.3477], grad_fn=<SqueezeBackward1>)\n",
      "MAPE loss: 0.009325066581368446\n",
      "logits: tensor([18668.3926], grad_fn=<SqueezeBackward1>)\n",
      "MAPE loss: 0.02165249176323414\n",
      "logits: tensor([18161.0176], grad_fn=<SqueezeBackward1>)\n",
      "MAPE loss: 0.006114277057349682\n",
      "logits: tensor([17814.6133], grad_fn=<SqueezeBackward1>)\n",
      "MAPE loss: 0.025071710348129272\n",
      "logits: tensor([19527.7461], grad_fn=<SqueezeBackward1>)\n",
      "MAPE loss: 0.0686817467212677\n",
      "logits: tensor([17499.8867], grad_fn=<SqueezeBackward1>)\n",
      "MAPE loss: 0.042295537889003754\n",
      "logits: tensor([18579.1230], grad_fn=<SqueezeBackward1>)\n",
      "MAPE loss: 0.016767097637057304\n",
      "logits: tensor([18626.0566], grad_fn=<SqueezeBackward1>)\n",
      "MAPE loss: 0.01933560147881508\n",
      "logits: tensor([17974.9492], grad_fn=<SqueezeBackward1>)\n",
      "MAPE loss: 0.01629711501300335\n",
      "logits: tensor([16164.9854], grad_fn=<SqueezeBackward1>)\n",
      "MAPE loss: 0.11534978449344635\n",
      "logits: tensor([17982.7930], grad_fn=<SqueezeBackward1>)\n",
      "MAPE loss: 0.01586785539984703\n",
      "logits: tensor([18440.0332], grad_fn=<SqueezeBackward1>)\n",
      "MAPE loss: 0.009155222214758396\n",
      "logits: tensor([17781.3887], grad_fn=<SqueezeBackward1>)\n",
      "MAPE loss: 0.026889970526099205\n",
      "logits: tensor([17105.3086], grad_fn=<SqueezeBackward1>)\n",
      "MAPE loss: 0.06388934701681137\n",
      "logits: tensor([19042.1816], grad_fn=<SqueezeBackward1>)\n",
      "MAPE loss: 0.04210859164595604\n",
      "logits: tensor([20825.1191], grad_fn=<SqueezeBackward1>)\n",
      "MAPE loss: 0.13968220353126526\n",
      "logits: tensor([19495.9336], grad_fn=<SqueezeBackward1>)\n",
      "MAPE loss: 0.06694076955318451\n",
      "Training, Epoch: 1, Batch 350: Loss = 1496197.25\n",
      "logits: tensor([17835.6035], grad_fn=<SqueezeBackward1>)\n",
      "MAPE loss: 0.0239229928702116\n",
      "logits: tensor([17308.6719], grad_fn=<SqueezeBackward1>)\n",
      "MAPE loss: 0.05276002362370491\n",
      "logits: tensor([16818.4902], grad_fn=<SqueezeBackward1>)\n",
      "MAPE loss: 0.07958586513996124\n",
      "logits: tensor([16706.9727], grad_fn=<SqueezeBackward1>)\n",
      "MAPE loss: 0.08568880707025528\n",
      "logits: tensor([17478.1543], grad_fn=<SqueezeBackward1>)\n",
      "MAPE loss: 0.043484874069690704\n",
      "logits: tensor([17683.0723], grad_fn=<SqueezeBackward1>)\n",
      "MAPE loss: 0.032270465046167374\n",
      "logits: tensor([18727.2812], grad_fn=<SqueezeBackward1>)\n",
      "MAPE loss: 0.024875251576304436\n",
      "logits: tensor([19000.1328], grad_fn=<SqueezeBackward1>)\n",
      "MAPE loss: 0.03980741649866104\n",
      "logits: tensor([19522.1016], grad_fn=<SqueezeBackward1>)\n",
      "MAPE loss: 0.06837284564971924\n",
      "logits: tensor([18945.5957], grad_fn=<SqueezeBackward1>)\n",
      "MAPE loss: 0.03682279959321022\n",
      "logits: tensor([18574.3398], grad_fn=<SqueezeBackward1>)\n",
      "MAPE loss: 0.016505330801010132\n",
      "logits: tensor([18050.0527], grad_fn=<SqueezeBackward1>)\n",
      "MAPE loss: 0.012186975218355656\n",
      "logits: tensor([18098.6680], grad_fn=<SqueezeBackward1>)\n",
      "MAPE loss: 0.009526441805064678\n",
      "logits: tensor([18799.9375], grad_fn=<SqueezeBackward1>)\n",
      "MAPE loss: 0.0288514606654644\n",
      "logits: tensor([18405.9102], grad_fn=<SqueezeBackward1>)\n",
      "MAPE loss: 0.007287793327122927\n",
      "logits: tensor([17554.5547], grad_fn=<SqueezeBackward1>)\n",
      "MAPE loss: 0.03930376097559929\n",
      "logits: tensor([17345.0137], grad_fn=<SqueezeBackward1>)\n",
      "MAPE loss: 0.05077116936445236\n",
      "logits: tensor([18150.8809], grad_fn=<SqueezeBackward1>)\n",
      "MAPE loss: 0.006669022608548403\n",
      "logits: tensor([16262.7344], grad_fn=<SqueezeBackward1>)\n",
      "MAPE loss: 0.11000033468008041\n",
      "logits: tensor([19524.2930], grad_fn=<SqueezeBackward1>)\n",
      "MAPE loss: 0.06849277019500732\n",
      "logits: tensor([17147.7070], grad_fn=<SqueezeBackward1>)\n",
      "MAPE loss: 0.06156903877854347\n",
      "logits: tensor([20079.7871], grad_fn=<SqueezeBackward1>)\n",
      "MAPE loss: 0.0988929271697998\n",
      "logits: tensor([18503.4238], grad_fn=<SqueezeBackward1>)\n",
      "MAPE loss: 0.01262435782700777\n",
      "logits: tensor([18953.5449], grad_fn=<SqueezeBackward1>)\n",
      "MAPE loss: 0.037257831543684006\n",
      "logits: tensor([18113.0703], grad_fn=<SqueezeBackward1>)\n",
      "MAPE loss: 0.008738255128264427\n",
      "logits: tensor([19180.9727], grad_fn=<SqueezeBackward1>)\n",
      "MAPE loss: 0.049704115837812424\n",
      "logits: tensor([17651.6484], grad_fn=<SqueezeBackward1>)\n",
      "MAPE loss: 0.033990178257226944\n",
      "logits: tensor([18790.9746], grad_fn=<SqueezeBackward1>)\n",
      "MAPE loss: 0.02836095541715622\n",
      "logits: tensor([19471.1895], grad_fn=<SqueezeBackward1>)\n",
      "MAPE loss: 0.06558661162853241\n",
      "logits: tensor([18244.7383], grad_fn=<SqueezeBackward1>)\n",
      "MAPE loss: 0.0015325507847592235\n",
      "logits: tensor([16413.6562], grad_fn=<SqueezeBackward1>)\n",
      "MAPE loss: 0.10174094140529633\n",
      "logits: tensor([16568.2520], grad_fn=<SqueezeBackward1>)\n",
      "MAPE loss: 0.09328048676252365\n",
      "logits: tensor([16394.3906], grad_fn=<SqueezeBackward1>)\n",
      "MAPE loss: 0.10279527306556702\n",
      "logits: tensor([17407.6504], grad_fn=<SqueezeBackward1>)\n",
      "MAPE loss: 0.04734329506754875\n",
      "logits: tensor([18515.4668], grad_fn=<SqueezeBackward1>)\n",
      "MAPE loss: 0.013283425942063332\n",
      "logits: tensor([18174.9980], grad_fn=<SqueezeBackward1>)\n",
      "MAPE loss: 0.005349177401512861\n",
      "logits: tensor([18994.8926], grad_fn=<SqueezeBackward1>)\n",
      "MAPE loss: 0.039520636200904846\n",
      "logits: tensor([19373.8359], grad_fn=<SqueezeBackward1>)\n",
      "MAPE loss: 0.060258813202381134\n",
      "logits: tensor([19496.1133], grad_fn=<SqueezeBackward1>)\n",
      "MAPE loss: 0.06695060431957245\n",
      "logits: tensor([18902.9082], grad_fn=<SqueezeBackward1>)\n",
      "MAPE loss: 0.034486670047044754\n",
      "logits: tensor([20446.9277], grad_fn=<SqueezeBackward1>)\n",
      "MAPE loss: 0.11898518353700638\n",
      "logits: tensor([18788.3516], grad_fn=<SqueezeBackward1>)\n",
      "MAPE loss: 0.028217405080795288\n",
      "logits: tensor([19236.6914], grad_fn=<SqueezeBackward1>)\n",
      "MAPE loss: 0.05275339633226395\n",
      "logits: tensor([15835.2109], grad_fn=<SqueezeBackward1>)\n",
      "MAPE loss: 0.13339711725711823\n",
      "logits: tensor([15884.0537], grad_fn=<SqueezeBackward1>)\n",
      "MAPE loss: 0.13072413206100464\n",
      "logits: tensor([15947.3203], grad_fn=<SqueezeBackward1>)\n",
      "MAPE loss: 0.12726178765296936\n",
      "logits: tensor([16644.1816], grad_fn=<SqueezeBackward1>)\n",
      "MAPE loss: 0.0891251340508461\n",
      "logits: tensor([17036.8223], grad_fn=<SqueezeBackward1>)\n",
      "MAPE loss: 0.0676373541355133\n",
      "logits: tensor([17273.6758], grad_fn=<SqueezeBackward1>)\n",
      "MAPE loss: 0.054675232619047165\n",
      "logits: tensor([18828.4102], grad_fn=<SqueezeBackward1>)\n",
      "MAPE loss: 0.030409665778279305\n",
      "Training, Epoch: 1, Batch 400: Loss = 308766.90625\n",
      "logits: tensor([20866.5820], grad_fn=<SqueezeBackward1>)\n",
      "MAPE loss: 0.141951322555542\n",
      "logits: tensor([19170.7480], grad_fn=<SqueezeBackward1>)\n",
      "MAPE loss: 0.04914455860853195\n",
      "logits: tensor([21100.7090], grad_fn=<SqueezeBackward1>)\n",
      "MAPE loss: 0.15476422011852264\n",
      "logits: tensor([20540.8672], grad_fn=<SqueezeBackward1>)\n",
      "MAPE loss: 0.1241261437535286\n",
      "logits: tensor([19907.1465], grad_fn=<SqueezeBackward1>)\n",
      "MAPE loss: 0.08944493532180786\n",
      "logits: tensor([16902.0469], grad_fn=<SqueezeBackward1>)\n",
      "MAPE loss: 0.07501311600208282\n",
      "logits: tensor([17332.6523], grad_fn=<SqueezeBackward1>)\n",
      "MAPE loss: 0.051447659730911255\n",
      "logits: tensor([16419.6113], grad_fn=<SqueezeBackward1>)\n",
      "MAPE loss: 0.10141503810882568\n",
      "logits: tensor([16507.3125], grad_fn=<SqueezeBackward1>)\n",
      "MAPE loss: 0.09661547839641571\n",
      "logits: tensor([15158.4209], grad_fn=<SqueezeBackward1>)\n",
      "MAPE loss: 0.1704353541135788\n",
      "logits: tensor([16198.2852], grad_fn=<SqueezeBackward1>)\n",
      "MAPE loss: 0.11352740973234177\n",
      "logits: tensor([17461.7969], grad_fn=<SqueezeBackward1>)\n",
      "MAPE loss: 0.044380053877830505\n",
      "logits: tensor([18420.9707], grad_fn=<SqueezeBackward1>)\n",
      "MAPE loss: 0.008112001232802868\n",
      "logits: tensor([19833.7246], grad_fn=<SqueezeBackward1>)\n",
      "MAPE loss: 0.08542682975530624\n",
      "logits: tensor([19791.6797], grad_fn=<SqueezeBackward1>)\n",
      "MAPE loss: 0.08312586694955826\n",
      "logits: tensor([18749.7168], grad_fn=<SqueezeBackward1>)\n",
      "MAPE loss: 0.0261030662804842\n",
      "logits: tensor([18911.2598], grad_fn=<SqueezeBackward1>)\n",
      "MAPE loss: 0.03494371846318245\n",
      "logits: tensor([19210.6660], grad_fn=<SqueezeBackward1>)\n",
      "MAPE loss: 0.0513291209936142\n",
      "logits: tensor([19246.6445], grad_fn=<SqueezeBackward1>)\n",
      "MAPE loss: 0.053298093378543854\n",
      "logits: tensor([18860.1973], grad_fn=<SqueezeBackward1>)\n",
      "MAPE loss: 0.03214925527572632\n",
      "logits: tensor([17094.4355], grad_fn=<SqueezeBackward1>)\n",
      "MAPE loss: 0.06448438763618469\n",
      "logits: tensor([17912.9922], grad_fn=<SqueezeBackward1>)\n",
      "MAPE loss: 0.019687794148921967\n",
      "logits: tensor([17811.0137], grad_fn=<SqueezeBackward1>)\n",
      "MAPE loss: 0.02526870369911194\n",
      "logits: tensor([18222.3555], grad_fn=<SqueezeBackward1>)\n",
      "MAPE loss: 0.002757479902356863\n",
      "logits: tensor([16681.7344], grad_fn=<SqueezeBackward1>)\n",
      "MAPE loss: 0.08707001060247421\n",
      "logits: tensor([17498.1543], grad_fn=<SqueezeBackward1>)\n",
      "MAPE loss: 0.04239034652709961\n",
      "logits: tensor([16959.5430], grad_fn=<SqueezeBackward1>)\n",
      "MAPE loss: 0.07186656445264816\n",
      "logits: tensor([18598.2695], grad_fn=<SqueezeBackward1>)\n",
      "MAPE loss: 0.017814915627241135\n",
      "logits: tensor([20098.1855], grad_fn=<SqueezeBackward1>)\n",
      "MAPE loss: 0.09989980608224869\n",
      "logits: tensor([19057.7363], grad_fn=<SqueezeBackward1>)\n",
      "MAPE loss: 0.04295984283089638\n",
      "logits: tensor([19159.6172], grad_fn=<SqueezeBackward1>)\n",
      "MAPE loss: 0.04853540658950806\n",
      "logits: tensor([18833.4414], grad_fn=<SqueezeBackward1>)\n",
      "MAPE loss: 0.030685007572174072\n",
      "logits: tensor([19814.8730], grad_fn=<SqueezeBackward1>)\n",
      "MAPE loss: 0.0843951553106308\n",
      "logits: tensor([17776.0605], grad_fn=<SqueezeBackward1>)\n",
      "MAPE loss: 0.027181560173630714\n",
      "logits: tensor([17704.2285], grad_fn=<SqueezeBackward1>)\n",
      "MAPE loss: 0.031112663447856903\n",
      "logits: tensor([16045.6865], grad_fn=<SqueezeBackward1>)\n",
      "MAPE loss: 0.12187857180833817\n",
      "logits: tensor([16061.2549], grad_fn=<SqueezeBackward1>)\n",
      "MAPE loss: 0.12102656811475754\n",
      "logits: tensor([16793.2422], grad_fn=<SqueezeBackward1>)\n",
      "MAPE loss: 0.08096759766340256\n",
      "logits: tensor([18497.3398], grad_fn=<SqueezeBackward1>)\n",
      "MAPE loss: 0.01229140441864729\n",
      "logits: tensor([18598.1836], grad_fn=<SqueezeBackward1>)\n",
      "MAPE loss: 0.017810212448239326\n",
      "logits: tensor([18196.9023], grad_fn=<SqueezeBackward1>)\n",
      "MAPE loss: 0.004150435794144869\n",
      "logits: tensor([20029.0195], grad_fn=<SqueezeBackward1>)\n",
      "MAPE loss: 0.09611460566520691\n",
      "logits: tensor([17745.1367], grad_fn=<SqueezeBackward1>)\n",
      "MAPE loss: 0.028873907402157784\n",
      "logits: tensor([19821.5488], grad_fn=<SqueezeBackward1>)\n",
      "MAPE loss: 0.08476049453020096\n",
      "logits: tensor([19200.1406], grad_fn=<SqueezeBackward1>)\n",
      "MAPE loss: 0.05075310543179512\n",
      "logits: tensor([20409.6133], grad_fn=<SqueezeBackward1>)\n",
      "MAPE loss: 0.11694309860467911\n",
      "logits: tensor([17336.4590], grad_fn=<SqueezeBackward1>)\n",
      "MAPE loss: 0.051239337772130966\n",
      "logits: tensor([17499.9922], grad_fn=<SqueezeBackward1>)\n",
      "MAPE loss: 0.042289767414331436\n",
      "logits: tensor([17160.8691], grad_fn=<SqueezeBackward1>)\n",
      "MAPE loss: 0.060848724097013474\n",
      "logits: tensor([16109.3086], grad_fn=<SqueezeBackward1>)\n",
      "MAPE loss: 0.11839676648378372\n",
      "Training, Epoch: 1, Batch 450: Loss = 4680445.0\n",
      "logits: tensor([18774.7637], grad_fn=<SqueezeBackward1>)\n",
      "MAPE loss: 0.02747379057109356\n",
      "logits: tensor([18311.6445], grad_fn=<SqueezeBackward1>)\n",
      "MAPE loss: 0.0021289822179824114\n",
      "logits: tensor([17999.3125], grad_fn=<SqueezeBackward1>)\n",
      "MAPE loss: 0.014963801950216293\n",
      "logits: tensor([18400.8008], grad_fn=<SqueezeBackward1>)\n",
      "MAPE loss: 0.007008175831288099\n",
      "logits: tensor([17904.3828], grad_fn=<SqueezeBackward1>)\n",
      "MAPE loss: 0.020158953964710236\n",
      "logits: tensor([17336.2148], grad_fn=<SqueezeBackward1>)\n",
      "MAPE loss: 0.05125269666314125\n",
      "logits: tensor([19112.9824], grad_fn=<SqueezeBackward1>)\n",
      "MAPE loss: 0.04598325863480568\n",
      "logits: tensor([18627.0566], grad_fn=<SqueezeBackward1>)\n",
      "MAPE loss: 0.019390327855944633\n",
      "logits: tensor([18047.5918], grad_fn=<SqueezeBackward1>)\n",
      "MAPE loss: 0.012321652844548225\n",
      "logits: tensor([19766.0547], grad_fn=<SqueezeBackward1>)\n",
      "MAPE loss: 0.08172350376844406\n",
      "logits: tensor([19635.9590], grad_fn=<SqueezeBackward1>)\n",
      "MAPE loss: 0.0746038407087326\n",
      "logits: tensor([18295.6504], grad_fn=<SqueezeBackward1>)\n",
      "MAPE loss: 0.0012536817230284214\n",
      "logits: tensor([16690.9824], grad_fn=<SqueezeBackward1>)\n",
      "MAPE loss: 0.08656390011310577\n",
      "logits: tensor([17623.4668], grad_fn=<SqueezeBackward1>)\n",
      "MAPE loss: 0.03553245589137077\n",
      "logits: tensor([18598.7246], grad_fn=<SqueezeBackward1>)\n",
      "MAPE loss: 0.017839819192886353\n",
      "logits: tensor([15974.4199], grad_fn=<SqueezeBackward1>)\n",
      "MAPE loss: 0.12577873468399048\n",
      "logits: tensor([18635.2578], grad_fn=<SqueezeBackward1>)\n",
      "MAPE loss: 0.019839147105813026\n",
      "logits: tensor([17744.7129], grad_fn=<SqueezeBackward1>)\n",
      "MAPE loss: 0.028897102922201157\n",
      "logits: tensor([17066.0742], grad_fn=<SqueezeBackward1>)\n",
      "MAPE loss: 0.06603650003671646\n",
      "logits: tensor([17367.6074], grad_fn=<SqueezeBackward1>)\n",
      "MAPE loss: 0.04953469708561897\n",
      "logits: tensor([21063.8789], grad_fn=<SqueezeBackward1>)\n",
      "MAPE loss: 0.15274864435195923\n",
      "logits: tensor([19374.4199], grad_fn=<SqueezeBackward1>)\n",
      "MAPE loss: 0.06029077246785164\n",
      "logits: tensor([18324.0137], grad_fn=<SqueezeBackward1>)\n",
      "MAPE loss: 0.002805899828672409\n",
      "logits: tensor([19109.7773], grad_fn=<SqueezeBackward1>)\n",
      "MAPE loss: 0.0458078570663929\n",
      "logits: tensor([18075.4102], grad_fn=<SqueezeBackward1>)\n",
      "MAPE loss: 0.010799256153404713\n",
      "logits: tensor([18158.0312], grad_fn=<SqueezeBackward1>)\n",
      "MAPE loss: 0.0062777078710496426\n",
      "logits: tensor([17948.6055], grad_fn=<SqueezeBackward1>)\n",
      "MAPE loss: 0.017738811671733856\n",
      "logits: tensor([17696.5723], grad_fn=<SqueezeBackward1>)\n",
      "MAPE loss: 0.03153166174888611\n",
      "logits: tensor([17214.8613], grad_fn=<SqueezeBackward1>)\n",
      "MAPE loss: 0.05789393186569214\n",
      "logits: tensor([18462.3086], grad_fn=<SqueezeBackward1>)\n",
      "MAPE loss: 0.010374272242188454\n",
      "logits: tensor([19316.9922], grad_fn=<SqueezeBackward1>)\n",
      "MAPE loss: 0.05714796483516693\n",
      "logits: tensor([17958.5391], grad_fn=<SqueezeBackward1>)\n",
      "MAPE loss: 0.01719518192112446\n",
      "logits: tensor([16919.1133], grad_fn=<SqueezeBackward1>)\n",
      "MAPE loss: 0.07407913357019424\n",
      "logits: tensor([18387.3828], grad_fn=<SqueezeBackward1>)\n",
      "MAPE loss: 0.006273860111832619\n",
      "logits: tensor([18327.9512], grad_fn=<SqueezeBackward1>)\n",
      "MAPE loss: 0.003021384822204709\n",
      "logits: tensor([18985.9941], grad_fn=<SqueezeBackward1>)\n",
      "MAPE loss: 0.03903365880250931\n",
      "logits: tensor([19182.9590], grad_fn=<SqueezeBackward1>)\n",
      "MAPE loss: 0.04981281980872154\n",
      "logits: tensor([17931.9160], grad_fn=<SqueezeBackward1>)\n",
      "MAPE loss: 0.018652163445949554\n",
      "logits: tensor([18440.3281], grad_fn=<SqueezeBackward1>)\n",
      "MAPE loss: 0.009171362034976482\n",
      "logits: tensor([17526.3379], grad_fn=<SqueezeBackward1>)\n",
      "MAPE loss: 0.04084796458482742\n",
      "logits: tensor([17726.0449], grad_fn=<SqueezeBackward1>)\n",
      "MAPE loss: 0.0299187321215868\n",
      "logits: tensor([17336.5059], grad_fn=<SqueezeBackward1>)\n",
      "MAPE loss: 0.051236771047115326\n",
      "logits: tensor([19853.7949], grad_fn=<SqueezeBackward1>)\n",
      "MAPE loss: 0.08652520179748535\n",
      "logits: tensor([19619.3379], grad_fn=<SqueezeBackward1>)\n",
      "MAPE loss: 0.07369422912597656\n",
      "logits: tensor([18400.5859], grad_fn=<SqueezeBackward1>)\n",
      "MAPE loss: 0.006996418349444866\n",
      "logits: tensor([16706.7617], grad_fn=<SqueezeBackward1>)\n",
      "MAPE loss: 0.08570035547018051\n",
      "logits: tensor([17762.2480], grad_fn=<SqueezeBackward1>)\n",
      "MAPE loss: 0.027937468141317368\n",
      "logits: tensor([17198.3672], grad_fn=<SqueezeBackward1>)\n",
      "MAPE loss: 0.05879659205675125\n",
      "logits: tensor([17018.1055], grad_fn=<SqueezeBackward1>)\n",
      "MAPE loss: 0.0686616525053978\n",
      "logits: tensor([19989.1484], grad_fn=<SqueezeBackward1>)\n",
      "MAPE loss: 0.09393260627985\n",
      "Training, Epoch: 1, Batch 500: Loss = 2946050.5\n",
      "logits: tensor([19609.8652], grad_fn=<SqueezeBackward1>)\n",
      "MAPE loss: 0.0731758251786232\n",
      "logits: tensor([17931.5078], grad_fn=<SqueezeBackward1>)\n",
      "MAPE loss: 0.01867450214922428\n",
      "logits: tensor([17690.1230], grad_fn=<SqueezeBackward1>)\n",
      "MAPE loss: 0.03188460320234299\n",
      "logits: tensor([18171.3555], grad_fn=<SqueezeBackward1>)\n",
      "MAPE loss: 0.005548522341996431\n",
      "logits: tensor([18264.5488], grad_fn=<SqueezeBackward1>)\n",
      "MAPE loss: 0.00044839244219474494\n",
      "logits: tensor([16977.0898], grad_fn=<SqueezeBackward1>)\n",
      "MAPE loss: 0.07090628892183304\n",
      "logits: tensor([17761.4961], grad_fn=<SqueezeBackward1>)\n",
      "MAPE loss: 0.027978619560599327\n",
      "logits: tensor([18615.8438], grad_fn=<SqueezeBackward1>)\n",
      "MAPE loss: 0.01877668686211109\n",
      "logits: tensor([17878.0176], grad_fn=<SqueezeBackward1>)\n",
      "MAPE loss: 0.021601825952529907\n",
      "logits: tensor([20081.5273], grad_fn=<SqueezeBackward1>)\n",
      "MAPE loss: 0.09898816049098969\n",
      "logits: tensor([19914.8398], grad_fn=<SqueezeBackward1>)\n",
      "MAPE loss: 0.08986596763134003\n",
      "logits: tensor([18884.1406], grad_fn=<SqueezeBackward1>)\n",
      "MAPE loss: 0.03345958888530731\n",
      "logits: tensor([16619.6816], grad_fn=<SqueezeBackward1>)\n",
      "MAPE loss: 0.09046592563390732\n",
      "logits: tensor([16947.6133], grad_fn=<SqueezeBackward1>)\n",
      "MAPE loss: 0.07251943647861481\n",
      "logits: tensor([18898.9961], grad_fn=<SqueezeBackward1>)\n",
      "MAPE loss: 0.03427257388830185\n",
      "logits: tensor([17939.9121], grad_fn=<SqueezeBackward1>)\n",
      "MAPE loss: 0.018214566633105278\n",
      "logits: tensor([18030.8398], grad_fn=<SqueezeBackward1>)\n",
      "MAPE loss: 0.013238426297903061\n",
      "logits: tensor([17984.3516], grad_fn=<SqueezeBackward1>)\n",
      "MAPE loss: 0.015782559290528297\n",
      "logits: tensor([17299.3848], grad_fn=<SqueezeBackward1>)\n",
      "MAPE loss: 0.053268272429704666\n",
      "logits: tensor([18159.5801], grad_fn=<SqueezeBackward1>)\n",
      "MAPE loss: 0.006192946340888739\n",
      "logits: tensor([19054.6621], grad_fn=<SqueezeBackward1>)\n",
      "MAPE loss: 0.04279160127043724\n",
      "logits: tensor([18624.0820], grad_fn=<SqueezeBackward1>)\n",
      "MAPE loss: 0.019227538257837296\n",
      "logits: tensor([18405.0645], grad_fn=<SqueezeBackward1>)\n",
      "MAPE loss: 0.0072415112517774105\n",
      "logits: tensor([18825.5527], grad_fn=<SqueezeBackward1>)\n",
      "MAPE loss: 0.03025328926742077\n",
      "logits: tensor([19076.4883], grad_fn=<SqueezeBackward1>)\n",
      "MAPE loss: 0.04398606717586517\n",
      "logits: tensor([19591.1523], grad_fn=<SqueezeBackward1>)\n",
      "MAPE loss: 0.07215174287557602\n",
      "logits: tensor([17178.4648], grad_fn=<SqueezeBackward1>)\n",
      "MAPE loss: 0.05988577753305435\n",
      "logits: tensor([18575.6973], grad_fn=<SqueezeBackward1>)\n",
      "MAPE loss: 0.01657961681485176\n",
      "logits: tensor([18213.4922], grad_fn=<SqueezeBackward1>)\n",
      "MAPE loss: 0.0032425345852971077\n",
      "logits: tensor([16185.4492], grad_fn=<SqueezeBackward1>)\n",
      "MAPE loss: 0.11422987282276154\n",
      "logits: tensor([17347.2227], grad_fn=<SqueezeBackward1>)\n",
      "MAPE loss: 0.050650279968976974\n",
      "logits: tensor([16705.7012], grad_fn=<SqueezeBackward1>)\n",
      "MAPE loss: 0.08575839549303055\n",
      "logits: tensor([18124.0254], grad_fn=<SqueezeBackward1>)\n",
      "MAPE loss: 0.00813872367143631\n",
      "logits: tensor([17845.8066], grad_fn=<SqueezeBackward1>)\n",
      "MAPE loss: 0.023364612832665443\n",
      "logits: tensor([18815.0293], grad_fn=<SqueezeBackward1>)\n",
      "MAPE loss: 0.0296773798763752\n",
      "logits: tensor([20080.3730], grad_fn=<SqueezeBackward1>)\n",
      "MAPE loss: 0.09892499446868896\n",
      "logits: tensor([20567.8730], grad_fn=<SqueezeBackward1>)\n",
      "MAPE loss: 0.1256040781736374\n",
      "logits: tensor([20328.7480])\n",
      "MAPE loss: 0.11251763999462128\n",
      "Valing, Epoch: 1, Batch 0: Loss = 4227160.0\n",
      "logits: tensor([19872.4121])\n",
      "MAPE loss: 0.08754405379295349\n",
      "logits: tensor([20017.9727])\n",
      "MAPE loss: 0.09551005065441132\n",
      "logits: tensor([18504.7500])\n",
      "MAPE loss: 0.01269693486392498\n",
      "logits: tensor([18221.6426])\n",
      "MAPE loss: 0.0027964937034994364\n",
      "logits: tensor([17777.4199])\n",
      "MAPE loss: 0.02710716612637043\n",
      "logits: tensor([18025.7559])\n",
      "MAPE loss: 0.013516653329133987\n",
      "logits: tensor([18569.9785])\n",
      "MAPE loss: 0.016266651451587677\n",
      "logits: tensor([19216.9824])\n",
      "MAPE loss: 0.051674798130989075\n",
      "logits: tensor([17515.3535])\n",
      "MAPE loss: 0.04144909605383873\n",
      "logits: tensor([19531.2637])\n",
      "MAPE loss: 0.06887425482273102\n",
      "logits: tensor([20431.3535])\n",
      "MAPE loss: 0.11813285946846008\n",
      "logits: tensor([19201.2871])\n",
      "MAPE loss: 0.050815850496292114\n",
      "logits: tensor([18464.8203])\n",
      "MAPE loss: 0.01051172986626625\n",
      "logits: tensor([18000.2520])\n",
      "MAPE loss: 0.014912388287484646\n",
      "logits: tensor([18880.1348])\n",
      "MAPE loss: 0.033240363001823425\n",
      "logits: tensor([20052.3730])\n",
      "MAPE loss: 0.09739265590906143\n",
      "logits: tensor([18925.2246])\n",
      "MAPE loss: 0.03570796549320221\n",
      "logits: tensor([18291.0215])\n",
      "MAPE loss: 0.001000358723104\n",
      "logits: tensor([18403.1348])\n",
      "MAPE loss: 0.007135906256735325\n",
      "logits: tensor([19254.2383])\n",
      "MAPE loss: 0.05371367186307907\n",
      "logits: tensor([19826.7988])\n",
      "MAPE loss: 0.08504780381917953\n",
      "logits: tensor([20550.5742])\n",
      "MAPE loss: 0.12465737015008926\n",
      "logits: tensor([19017.4688])\n",
      "MAPE loss: 0.04075614735484123\n",
      "logits: tensor([17762.9551])\n",
      "MAPE loss: 0.027898773550987244\n",
      "logits: tensor([19519.6621])\n",
      "MAPE loss: 0.06823934614658356\n",
      "logits: tensor([18139.4199])\n",
      "MAPE loss: 0.007296237628906965\n",
      "logits: tensor([18845.9512])\n",
      "MAPE loss: 0.03136961907148361\n",
      "logits: tensor([17613.0723])\n",
      "MAPE loss: 0.03610130771994591\n",
      "logits: tensor([17775.9805])\n",
      "MAPE loss: 0.027185942977666855\n",
      "logits: tensor([19868.0059])\n",
      "MAPE loss: 0.08730291575193405\n",
      "logits: tensor([17752.0332])\n",
      "MAPE loss: 0.02849648892879486\n",
      "logits: tensor([18182.8965])\n",
      "MAPE loss: 0.004916924983263016\n",
      "logits: tensor([18109.0215])\n",
      "MAPE loss: 0.008959832601249218\n",
      "logits: tensor([18815.8223])\n",
      "MAPE loss: 0.02972077578306198\n",
      "logits: tensor([20255.3516])\n",
      "MAPE loss: 0.10850092023611069\n",
      "logits: tensor([18931.6270])\n",
      "MAPE loss: 0.03605834022164345\n",
      "logits: tensor([19530.9395])\n",
      "MAPE loss: 0.06885650753974915\n",
      "logits: tensor([19543.7402])\n",
      "MAPE loss: 0.06955704838037491\n",
      "logits: tensor([18642.5488])\n",
      "MAPE loss: 0.020238157361745834\n",
      "logits: tensor([18342.6504])\n",
      "MAPE loss: 0.0038258188869804144\n",
      "logits: tensor([18451.6680])\n",
      "MAPE loss: 0.009791949763894081\n",
      "logits: tensor([19547.7676])\n",
      "MAPE loss: 0.06977745145559311\n",
      "logits: tensor([17452.4707])\n",
      "MAPE loss: 0.04489044100046158\n",
      "logits: tensor([16791.0254])\n",
      "MAPE loss: 0.08108891546726227\n",
      "logits: tensor([18621.3594])\n",
      "MAPE loss: 0.019078537821769714\n",
      "logits: tensor([17860.1777])\n",
      "MAPE loss: 0.022578135132789612\n",
      "logits: tensor([18036.4219])\n",
      "MAPE loss: 0.012932942248880863\n",
      "logits: tensor([18030.4043])\n",
      "MAPE loss: 0.013262261636555195\n",
      "logits: tensor([18768.9570])\n",
      "MAPE loss: 0.027156013995409012\n",
      "logits: tensor([17715.5254])\n",
      "MAPE loss: 0.03049442730844021\n",
      "Valing, Epoch: 1, Batch 50: Loss = 310490.5625\n",
      "logits: tensor([17979.4316])\n",
      "MAPE loss: 0.01605180837213993\n",
      "logits: tensor([18838.0176])\n",
      "MAPE loss: 0.030935443937778473\n",
      "logits: tensor([18636.4824])\n",
      "MAPE loss: 0.019906165078282356\n",
      "logits: tensor([18534.7793])\n",
      "MAPE loss: 0.014340328052639961\n",
      "logits: tensor([19800.9121])\n",
      "MAPE loss: 0.08363112062215805\n",
      "logits: tensor([18249.2793])\n",
      "MAPE loss: 0.0012840377166867256\n",
      "logits: tensor([18655.3672])\n",
      "MAPE loss: 0.0209396593272686\n",
      "logits: tensor([18761.2090])\n",
      "MAPE loss: 0.02673199214041233\n",
      "logits: tensor([18915.7715])\n",
      "MAPE loss: 0.035190630704164505\n",
      "logits: tensor([19636.5918])\n",
      "MAPE loss: 0.0746384784579277\n",
      "logits: tensor([20725.9453])\n",
      "MAPE loss: 0.13425478339195251\n",
      "logits: tensor([17583.4648])\n",
      "MAPE loss: 0.03772161528468132\n",
      "logits: tensor([19547.4648])\n",
      "MAPE loss: 0.06976088136434555\n",
      "logits: tensor([19955.7051])\n",
      "MAPE loss: 0.09210237115621567\n",
      "logits: tensor([20233.1309])\n",
      "MAPE loss: 0.10728486627340317\n",
      "logits: tensor([19523.7051])\n",
      "MAPE loss: 0.06846059858798981\n",
      "logits: tensor([17899.1973])\n",
      "MAPE loss: 0.020442740991711617\n",
      "logits: tensor([19845.9863])\n",
      "MAPE loss: 0.08609786629676819\n",
      "logits: tensor([19623.4746])\n",
      "MAPE loss: 0.07392062246799469\n",
      "logits: tensor([18173.9707])\n",
      "MAPE loss: 0.005405400414019823\n",
      "logits: tensor([18901.4160])\n",
      "MAPE loss: 0.03440500795841217\n",
      "logits: tensor([19260.7168])\n",
      "MAPE loss: 0.05406821891665459\n",
      "logits: tensor([18511.1523])\n",
      "MAPE loss: 0.013047311455011368\n",
      "logits: tensor([18924.5742])\n",
      "MAPE loss: 0.035672370344400406\n",
      "logits: tensor([18319.0996])\n",
      "MAPE loss: 0.002536971354857087\n",
      "logits: tensor([18545.8262])\n",
      "MAPE loss: 0.01494488213211298\n",
      "logits: tensor([18858.5215])\n",
      "MAPE loss: 0.03205754607915878\n",
      "logits: tensor([19181.4668])\n",
      "MAPE loss: 0.04973115772008896\n",
      "logits: tensor([18642.1699])\n",
      "MAPE loss: 0.020217422395944595\n",
      "logits: tensor([18302.4238])\n",
      "MAPE loss: 0.0016243670834228396\n",
      "logits: tensor([18318.0645])\n",
      "MAPE loss: 0.002480320865288377\n",
      "logits: tensor([17530.1562])\n",
      "MAPE loss: 0.0406389981508255\n",
      "logits: tensor([18643.0547])\n",
      "MAPE loss: 0.020265841856598854\n",
      "logits: tensor([18487.5312])\n",
      "MAPE loss: 0.011754616163671017\n",
      "logits: tensor([19787.4551])\n",
      "MAPE loss: 0.08289466798305511\n",
      "logits: tensor([18617.6719])\n",
      "MAPE loss: 0.018876733258366585\n",
      "logits: tensor([19244.2285])\n",
      "MAPE loss: 0.053165875375270844\n",
      "logits: tensor([18954.5137])\n",
      "MAPE loss: 0.03731084614992142\n",
      "logits: tensor([19184.0547])\n",
      "MAPE loss: 0.049872782081365585\n",
      "logits: tensor([18336.2637])\n",
      "MAPE loss: 0.0034762972500175238\n",
      "logits: tensor([19593.8633])\n",
      "MAPE loss: 0.07230009883642197\n",
      "logits: tensor([19849.4707])\n",
      "MAPE loss: 0.08628855645656586\n",
      "logits: tensor([18102.1816])\n",
      "MAPE loss: 0.00933415163308382\n",
      "logits: tensor([17047.8770])\n",
      "MAPE loss: 0.06703237444162369\n",
      "logits: tensor([18889.8711])\n",
      "MAPE loss: 0.03377319499850273\n",
      "logits: tensor([18586.8066])\n",
      "MAPE loss: 0.01718759350478649\n",
      "logits: tensor([19108.7949])\n",
      "MAPE loss: 0.045754093676805496\n",
      "logits: tensor([19118.5684])\n",
      "MAPE loss: 0.046288955956697464\n",
      "logits: tensor([16980.1699])\n",
      "MAPE loss: 0.07073772698640823\n",
      "logits: tensor([17144.0879])\n",
      "MAPE loss: 0.0617671012878418\n",
      "Valing, Epoch: 1, Batch 100: Loss = 1273860.5\n",
      "logits: tensor([18922.2695])\n",
      "MAPE loss: 0.03554624319076538\n",
      "logits: tensor([17911.5898])\n",
      "MAPE loss: 0.01976454071700573\n",
      "logits: tensor([18111.2559])\n",
      "MAPE loss: 0.00883755274116993\n",
      "logits: tensor([19273.0762])\n",
      "MAPE loss: 0.054744601249694824\n",
      "logits: tensor([18666.1270])\n",
      "MAPE loss: 0.02152850106358528\n",
      "logits: tensor([18445.6523])\n",
      "MAPE loss: 0.00946273747831583\n",
      "logits: tensor([18666.7773])\n",
      "MAPE loss: 0.021564096212387085\n",
      "logits: tensor([20027.9121])\n",
      "MAPE loss: 0.09605399519205093\n",
      "logits: tensor([19112.6816])\n",
      "MAPE loss: 0.045966796576976776\n",
      "logits: tensor([18948.1836])\n",
      "MAPE loss: 0.03696442395448685\n",
      "logits: tensor([19483.2871])\n",
      "MAPE loss: 0.06624867022037506\n",
      "logits: tensor([18226.0234])\n",
      "MAPE loss: 0.0025567454285919666\n",
      "logits: tensor([19188.4121])\n",
      "MAPE loss: 0.05011124908924103\n",
      "logits: tensor([18098.4551])\n",
      "MAPE loss: 0.009538092650473118\n",
      "logits: tensor([18739.1738])\n",
      "MAPE loss: 0.02552608959376812\n",
      "logits: tensor([19473.3125])\n",
      "MAPE loss: 0.06570279598236084\n",
      "logits: tensor([18637.9844])\n",
      "MAPE loss: 0.01998836174607277\n",
      "logits: tensor([18506.1328])\n",
      "MAPE loss: 0.012772610411047935\n",
      "logits: tensor([17726.7852])\n",
      "MAPE loss: 0.029878221452236176\n",
      "logits: tensor([20425.3262])\n",
      "MAPE loss: 0.11780300736427307\n",
      "logits: tensor([19005.0918])\n",
      "MAPE loss: 0.04007880017161369\n",
      "logits: tensor([18337.9512])\n",
      "MAPE loss: 0.0035686478950083256\n",
      "logits: tensor([19531.9375])\n",
      "MAPE loss: 0.0689111277461052\n",
      "logits: tensor([18657.5176])\n",
      "MAPE loss: 0.02105734311044216\n",
      "logits: tensor([18946.0020])\n",
      "MAPE loss: 0.03684503212571144\n",
      "logits: tensor([18233.4277])\n",
      "MAPE loss: 0.002151535591110587\n",
      "logits: tensor([19806.3047])\n",
      "MAPE loss: 0.0839262381196022\n",
      "logits: tensor([19016.7168])\n",
      "MAPE loss: 0.040714994072914124\n",
      "logits: tensor([18163.0371])\n",
      "MAPE loss: 0.006003755610436201\n",
      "logits: tensor([18733.7500])\n",
      "MAPE loss: 0.025229262188076973\n",
      "logits: tensor([19458.7441])\n",
      "MAPE loss: 0.06490552425384521\n",
      "logits: tensor([18422.5840])\n",
      "MAPE loss: 0.008200290612876415\n",
      "logits: tensor([18896.1855])\n",
      "MAPE loss: 0.034118764102458954\n"
     ]
    }
   ],
   "source": [
    "train_losses, val_losses = main(epochs=epochs, train_dl=train_dataloader, val_dl=val_dataloader, model=nn_model, optimizer=optimizer, criterion=loss_fn)"
   ]
  },
  {
   "attachments": {},
   "cell_type": "markdown",
   "metadata": {},
   "source": [
    "### Loss Curve Plot"
   ]
  },
  {
   "cell_type": "code",
   "execution_count": 322,
   "metadata": {},
   "outputs": [
    {
     "data": {
      "application/vnd.plotly.v1+json": {
       "config": {
        "plotlyServerURL": "https://plot.ly"
       },
       "data": [
        {
         "hovertemplate": "variable=0<br>index=%{x}<br>value=%{y}<extra></extra>",
         "legendgroup": "0",
         "line": {
          "color": "#636efa",
          "dash": "solid"
         },
         "marker": {
          "symbol": "circle"
         },
         "mode": "lines",
         "name": "0",
         "orientation": "v",
         "showlegend": true,
         "type": "scatter",
         "x": [
          0,
          1,
          2,
          3,
          4,
          5,
          6,
          7,
          8,
          9,
          10,
          11,
          12,
          13,
          14,
          15,
          16,
          17,
          18,
          19,
          20,
          21,
          22,
          23,
          24,
          25,
          26,
          27,
          28,
          29,
          30,
          31,
          32,
          33,
          34,
          35,
          36,
          37,
          38,
          39,
          40,
          41,
          42,
          43,
          44,
          45,
          46,
          47,
          48,
          49,
          50,
          51,
          52,
          53,
          54,
          55,
          56,
          57,
          58,
          59,
          60,
          61,
          62,
          63,
          64,
          65,
          66,
          67,
          68,
          69,
          70,
          71,
          72,
          73,
          74,
          75,
          76,
          77,
          78,
          79,
          80,
          81,
          82,
          83,
          84,
          85,
          86,
          87,
          88,
          89,
          90,
          91,
          92,
          93,
          94,
          95,
          96,
          97,
          98,
          99,
          100,
          101,
          102,
          103,
          104,
          105,
          106,
          107,
          108,
          109,
          110,
          111,
          112,
          113,
          114,
          115,
          116,
          117,
          118,
          119,
          120,
          121,
          122,
          123,
          124,
          125,
          126,
          127,
          128,
          129,
          130,
          131,
          132,
          133,
          134,
          135,
          136,
          137,
          138,
          139,
          140,
          141,
          142,
          143,
          144,
          145,
          146,
          147,
          148,
          149,
          150,
          151,
          152,
          153,
          154,
          155,
          156,
          157,
          158,
          159,
          160,
          161,
          162,
          163,
          164,
          165,
          166,
          167,
          168,
          169,
          170,
          171,
          172,
          173,
          174,
          175,
          176,
          177,
          178,
          179,
          180,
          181,
          182,
          183,
          184,
          185,
          186,
          187,
          188,
          189,
          190,
          191,
          192,
          193,
          194,
          195,
          196,
          197,
          198,
          199,
          200,
          201,
          202,
          203,
          204,
          205,
          206,
          207,
          208,
          209,
          210,
          211,
          212,
          213,
          214,
          215,
          216,
          217,
          218,
          219,
          220,
          221,
          222,
          223,
          224,
          225,
          226,
          227,
          228,
          229,
          230,
          231,
          232,
          233,
          234,
          235,
          236,
          237,
          238,
          239,
          240,
          241,
          242,
          243,
          244,
          245,
          246,
          247,
          248,
          249,
          250,
          251,
          252,
          253,
          254,
          255,
          256,
          257,
          258,
          259,
          260,
          261,
          262,
          263,
          264,
          265,
          266,
          267,
          268,
          269,
          270,
          271,
          272,
          273,
          274,
          275,
          276,
          277,
          278,
          279,
          280,
          281,
          282,
          283,
          284,
          285,
          286,
          287,
          288,
          289,
          290,
          291,
          292,
          293,
          294,
          295,
          296,
          297,
          298,
          299,
          300,
          301,
          302,
          303,
          304,
          305,
          306,
          307,
          308,
          309,
          310,
          311,
          312,
          313,
          314,
          315,
          316,
          317,
          318,
          319,
          320,
          321,
          322,
          323,
          324,
          325,
          326,
          327,
          328,
          329,
          330,
          331,
          332,
          333,
          334,
          335,
          336,
          337,
          338,
          339,
          340,
          341,
          342,
          343,
          344,
          345,
          346,
          347,
          348,
          349,
          350,
          351,
          352,
          353,
          354,
          355,
          356,
          357,
          358,
          359,
          360,
          361,
          362,
          363,
          364,
          365,
          366,
          367,
          368,
          369,
          370,
          371,
          372,
          373,
          374,
          375,
          376,
          377,
          378,
          379,
          380,
          381,
          382,
          383,
          384,
          385,
          386,
          387,
          388,
          389,
          390,
          391,
          392,
          393,
          394,
          395,
          396,
          397,
          398,
          399,
          400,
          401,
          402,
          403,
          404,
          405,
          406,
          407,
          408,
          409,
          410,
          411,
          412,
          413,
          414,
          415,
          416,
          417,
          418,
          419,
          420,
          421,
          422,
          423,
          424,
          425,
          426,
          427,
          428,
          429,
          430,
          431,
          432,
          433,
          434,
          435,
          436,
          437,
          438,
          439,
          440,
          441,
          442,
          443,
          444,
          445,
          446,
          447,
          448,
          449,
          450,
          451,
          452,
          453,
          454,
          455,
          456,
          457,
          458,
          459,
          460,
          461,
          462,
          463,
          464,
          465,
          466,
          467,
          468,
          469,
          470,
          471,
          472,
          473,
          474,
          475,
          476,
          477,
          478,
          479,
          480,
          481,
          482,
          483,
          484,
          485,
          486,
          487,
          488,
          489,
          490,
          491,
          492,
          493,
          494,
          495,
          496,
          497,
          498,
          499,
          500,
          501,
          502,
          503,
          504,
          505,
          506,
          507,
          508,
          509,
          510,
          511,
          512,
          513,
          514,
          515,
          516,
          517,
          518,
          519,
          520,
          521,
          522,
          523,
          524,
          525,
          526,
          527,
          528,
          529,
          530,
          531,
          532,
          533,
          534,
          535,
          536,
          537
         ],
         "xaxis": "x",
         "y": [
          0.9988774657249451,
          0.9927150011062622,
          0.9834396243095398,
          0.9666891694068909,
          0.941687285900116,
          0.9131170511245728,
          0.8602883815765381,
          0.7935099005699158,
          0.7536283135414124,
          0.5820685625076294,
          0.49935483932495117,
          0.2863956689834595,
          0.12208577245473862,
          0.019588710740208626,
          0.35573500394821167,
          0.31110695004463196,
          0.24329879879951477,
          0.4975941777229309,
          0.4203161299228668,
          0.36246612668037415,
          0.2909089922904968,
          0.04743959754705429,
          0.13665825128555298,
          0.1471455693244934,
          0.2813934087753296,
          0.2983855605125427,
          0.45743051171302795,
          0.304063618183136,
          0.42284297943115234,
          0.3379327058792114,
          0.24735678732395172,
          0.23460955917835236,
          0.21771104633808136,
          0.013546368107199669,
          0.010419164784252644,
          0.12581801414489746,
          0.15143147110939026,
          0.2574385106563568,
          0.2029389888048172,
          0.2954549193382263,
          0.029552213847637177,
          0.19382727146148682,
          0.09160609543323517,
          0.053095437586307526,
          0.06616487354040146,
          0.13105228543281555,
          0.11768350750207901,
          0.025609567761421204,
          0.13757199048995972,
          0.21388351917266846,
          0.2423151731491089,
          0.044600993394851685,
          0.032065991312265396,
          0.19566579163074493,
          0.061965055763721466,
          0.05302189663052559,
          0.00180137250572443,
          0.14003674685955048,
          0.15843987464904785,
          0.10352467745542526,
          0.10471753776073456,
          0.001045465120114386,
          0.056744784116744995,
          0.012520463205873966,
          0.0010458927135914564,
          0.0930127277970314,
          0.010700278915464878,
          0.0009687200654298067,
          0.028767341747879982,
          0.097805455327034,
          0.09640169888734818,
          0.0803772583603859,
          0.0027365300338715315,
          0.02156238444149494,
          0.04282259941101074,
          0.010430495254695415,
          0.02929023467004299,
          0.04486457630991936,
          0.060114193707704544,
          0.02868076227605343,
          0.09338170289993286,
          0.049852367490530014,
          0.13611944019794464,
          0.06831982731819153,
          0.05143173411488533,
          0.0688091591000557,
          0.04168286174535751,
          0.11906924843788147,
          0.11063872277736664,
          0.05929671972990036,
          0.04459436610341072,
          0.024811547249555588,
          0.09628615528345108,
          0.048417191952466965,
          0.0200817808508873,
          0.10124509036540985,
          0.024771036580204964,
          0.010525945574045181,
          0.00932666938751936,
          0.003561593359336257,
          0.009776344522833824,
          0.03456908091902733,
          0.045156486332416534,
          0.03579187020659447,
          0.058536965399980545,
          0.012546543963253498,
          0.0009283166145905852,
          0.03653612732887268,
          0.053179770708084106,
          0.03363841027021408,
          0.1060183048248291,
          0.07720067352056503,
          0.005454461555927992,
          0.12718942761421204,
          0.12568499147891998,
          0.05057075619697571,
          0.023821769282221794,
          0.010343489237129688,
          0.013716960325837135,
          0.03658134117722511,
          0.08377595245838165,
          0.01714986190199852,
          0.052387308329343796,
          0.03746733069419861,
          0.0478677898645401,
          0.05065092444419861,
          0.08766943216323853,
          0.13557137548923492,
          0.010194060392677784,
          0.012858334928750992,
          0.05921099707484245,
          0.044541243463754654,
          0.010840408504009247,
          0.03517470136284828,
          0.09635381400585175,
          0.04404881224036217,
          0.015184630639851093,
          0.008426678366959095,
          0.030339011922478676,
          0.06582678854465485,
          0.10364513844251633,
          0.000018063961761072278,
          0.022573431953787804,
          0.06165251508355141,
          0.050098635256290436,
          0.013347344473004341,
          0.0616324208676815,
          0.01196977961808443,
          0.06504020094871521,
          0.012978796847164631,
          0.03408295661211014,
          0.0781799703836441,
          0.001259774318896234,
          0.004773268476128578,
          0.12541702389717102,
          0.04153909534215927,
          0.000668687280267477,
          0.008716342970728874,
          0.03823606297373772,
          0.00523491483181715,
          0.0028882031328976154,
          0.11594989895820618,
          0.0149757731705904,
          0.03868125006556511,
          0.034095462411642075,
          0.0035497290082275867,
          0.04557516425848007,
          0.13199514150619507,
          0.030402395874261856,
          0.03598993271589279,
          0.013021444901823997,
          0.061477649956941605,
          0.050339024513959885,
          0.006695423740893602,
          0.014988813549280167,
          0.09221813082695007,
          0.022863097488880157,
          0.013141158036887646,
          0.04339701309800148,
          0.0015096769202500582,
          0.0018865617457777262,
          0.02365502528846264,
          0.0009473426034674048,
          0.015920443460345268,
          0.0052862209267914295,
          0.05276547372341156,
          0.0792817696928978,
          0.07565625756978989,
          0.016587527468800545,
          0.07848428189754486,
          0.023149555549025536,
          0.09256797283887863,
          0.03805670514702797,
          0.01872057095170021,
          0.04633299261331558,
          0.07225018739700317,
          0.014537427574396133,
          0.07478469610214233,
          0.06338569521903992,
          0.12271475046873093,
          0.055374808609485626,
          0.031079955399036407,
          0.01754181832075119,
          0.0008008000440895557,
          0.021600116044282913,
          0.027817219495773315,
          0.08467338234186172,
          0.03148772940039635,
          0.05240430310368538,
          0.008292321115732193,
          0.05685092508792877,
          0.04315181449055672,
          0.01498239953070879,
          0.08372838795185089,
          0.007479763124138117,
          0.02177616022527218,
          0.08301438391208649,
          0.010904967784881592,
          0.009381395764648914,
          0.01733616553246975,
          0.1306675374507904,
          0.07168550044298172,
          0.021600864827632904,
          0.05259701982140541,
          0.03429437801241875,
          0.14501230418682098,
          0.04210356995463371,
          0.013808883726596832,
          0.0016972642624750733,
          0.07809071987867355,
          0.10317568480968475,
          0.010382716543972492,
          0.014034736901521683,
          0.07966452836990356,
          0.003515631891787052,
          0.05918373912572861,
          0.058043573051691055,
          0.05975986272096634,
          0.015613997355103493,
          0.012662944383919239,
          0.022211404517292976,
          0.04492272436618805,
          0.0261868666857481,
          0.05443184822797775,
          0.039960265159606934,
          0.004944929387420416,
          0.06205494701862335,
          0.036132946610450745,
          0.0556647926568985,
          0.12732185423374176,
          0.08521486818790436,
          0.014830299653112888,
          0.047861162573099136,
          0.05984729528427124,
          0.08302859961986542,
          0.06189750134944916,
          0.08753421902656555,
          0.028826983645558357,
          0.007260430138558149,
          0.07773863524198532,
          0.12350855022668839,
          0.07337025552988052,
          0.006015833932906389,
          0.048543959856033325,
          0.08318347483873367,
          0.0012921611778438091,
          0.0045312754809856415,
          0.016120215877890587,
          0.08777236193418503,
          0.015437954105436802,
          0.01745930127799511,
          0.039861928671598434,
          0.12960326671600342,
          0.03089696355164051,
          0.03514958545565605,
          0.018835047259926796,
          0.05923419073224068,
          0.029075924307107925,
          0.039369069039821625,
          0.028051195666193962,
          0.007048151921480894,
          0.02766576036810875,
          0.07729291170835495,
          0.0037097393069416285,
          0.05590977892279625,
          0.04182715713977814,
          0.026853201910853386,
          0.004507225938141346,
          0.05856967344880104,
          0.03374658152461052,
          0.06959884613752365,
          0.03480294719338417,
          0.006204276345670223,
          0.1123669296503067,
          0.07462180405855179,
          0.015085546299815178,
          0.033180613070726395,
          0.03105504997074604,
          0.01687847450375557,
          0.07971359044313431,
          0.02617649920284748,
          0.10362932085990906,
          0.007492910139262676,
          0.09128542989492416,
          0.04262988269329071,
          0.01956348493695259,
          0.04783059284090996,
          0.039382003247737885,
          0.0871499627828598,
          0.067633718252182,
          0.06592725962400436,
          0.020394427701830864,
          0.1358698010444641,
          0.06277494132518768,
          0.03622016683220863,
          0.0027569453231990337,
          0.0632314532995224,
          0.033459801226854324,
          0.05591576546430588,
          0.09319326281547546,
          0.0569324791431427,
          0.006032080855220556,
          0.03800080344080925,
          0.0011945730075240135,
          0.007309705018997192,
          0.03989645093679428,
          0.07461773604154587,
          0.08441919833421707,
          0.07613211870193481,
          0.05236111953854561,
          0.06080180034041405,
          0.0017638551071286201,
          0.07206687331199646,
          0.12203285843133926,
          0.009325066581368446,
          0.02165249176323414,
          0.006114277057349682,
          0.025071710348129272,
          0.0686817467212677,
          0.042295537889003754,
          0.016767097637057304,
          0.01933560147881508,
          0.01629711501300335,
          0.11534978449344635,
          0.01586785539984703,
          0.009155222214758396,
          0.026889970526099205,
          0.06388934701681137,
          0.04210859164595604,
          0.13968220353126526,
          0.06694076955318451,
          0.0239229928702116,
          0.05276002362370491,
          0.07958586513996124,
          0.08568880707025528,
          0.043484874069690704,
          0.032270465046167374,
          0.024875251576304436,
          0.03980741649866104,
          0.06837284564971924,
          0.03682279959321022,
          0.016505330801010132,
          0.012186975218355656,
          0.009526441805064678,
          0.0288514606654644,
          0.007287793327122927,
          0.03930376097559929,
          0.05077116936445236,
          0.006669022608548403,
          0.11000033468008041,
          0.06849277019500732,
          0.06156903877854347,
          0.0988929271697998,
          0.01262435782700777,
          0.037257831543684006,
          0.008738255128264427,
          0.049704115837812424,
          0.033990178257226944,
          0.02836095541715622,
          0.06558661162853241,
          0.0015325507847592235,
          0.10174094140529633,
          0.09328048676252365,
          0.10279527306556702,
          0.04734329506754875,
          0.013283425942063332,
          0.005349177401512861,
          0.039520636200904846,
          0.060258813202381134,
          0.06695060431957245,
          0.034486670047044754,
          0.11898518353700638,
          0.028217405080795288,
          0.05275339633226395,
          0.13339711725711823,
          0.13072413206100464,
          0.12726178765296936,
          0.0891251340508461,
          0.0676373541355133,
          0.054675232619047165,
          0.030409665778279305,
          0.141951322555542,
          0.04914455860853195,
          0.15476422011852264,
          0.1241261437535286,
          0.08944493532180786,
          0.07501311600208282,
          0.051447659730911255,
          0.10141503810882568,
          0.09661547839641571,
          0.1704353541135788,
          0.11352740973234177,
          0.044380053877830505,
          0.008112001232802868,
          0.08542682975530624,
          0.08312586694955826,
          0.0261030662804842,
          0.03494371846318245,
          0.0513291209936142,
          0.053298093378543854,
          0.03214925527572632,
          0.06448438763618469,
          0.019687794148921967,
          0.02526870369911194,
          0.002757479902356863,
          0.08707001060247421,
          0.04239034652709961,
          0.07186656445264816,
          0.017814915627241135,
          0.09989980608224869,
          0.04295984283089638,
          0.04853540658950806,
          0.030685007572174072,
          0.0843951553106308,
          0.027181560173630714,
          0.031112663447856903,
          0.12187857180833817,
          0.12102656811475754,
          0.08096759766340256,
          0.01229140441864729,
          0.017810212448239326,
          0.004150435794144869,
          0.09611460566520691,
          0.028873907402157784,
          0.08476049453020096,
          0.05075310543179512,
          0.11694309860467911,
          0.051239337772130966,
          0.042289767414331436,
          0.060848724097013474,
          0.11839676648378372,
          0.02747379057109356,
          0.0021289822179824114,
          0.014963801950216293,
          0.007008175831288099,
          0.020158953964710236,
          0.05125269666314125,
          0.04598325863480568,
          0.019390327855944633,
          0.012321652844548225,
          0.08172350376844406,
          0.0746038407087326,
          0.0012536817230284214,
          0.08656390011310577,
          0.03553245589137077,
          0.017839819192886353,
          0.12577873468399048,
          0.019839147105813026,
          0.028897102922201157,
          0.06603650003671646,
          0.04953469708561897,
          0.15274864435195923,
          0.06029077246785164,
          0.002805899828672409,
          0.0458078570663929,
          0.010799256153404713,
          0.0062777078710496426,
          0.017738811671733856,
          0.03153166174888611,
          0.05789393186569214,
          0.010374272242188454,
          0.05714796483516693,
          0.01719518192112446,
          0.07407913357019424,
          0.006273860111832619,
          0.003021384822204709,
          0.03903365880250931,
          0.04981281980872154,
          0.018652163445949554,
          0.009171362034976482,
          0.04084796458482742,
          0.0299187321215868,
          0.051236771047115326,
          0.08652520179748535,
          0.07369422912597656,
          0.006996418349444866,
          0.08570035547018051,
          0.027937468141317368,
          0.05879659205675125,
          0.0686616525053978,
          0.09393260627985,
          0.0731758251786232,
          0.01867450214922428,
          0.03188460320234299,
          0.005548522341996431,
          0.00044839244219474494,
          0.07090628892183304,
          0.027978619560599327,
          0.01877668686211109,
          0.021601825952529907,
          0.09898816049098969,
          0.08986596763134003,
          0.03345958888530731,
          0.09046592563390732,
          0.07251943647861481,
          0.03427257388830185,
          0.018214566633105278,
          0.013238426297903061,
          0.015782559290528297,
          0.053268272429704666,
          0.006192946340888739,
          0.04279160127043724,
          0.019227538257837296,
          0.0072415112517774105,
          0.03025328926742077,
          0.04398606717586517,
          0.07215174287557602,
          0.05988577753305435,
          0.01657961681485176,
          0.0032425345852971077,
          0.11422987282276154,
          0.050650279968976974,
          0.08575839549303055,
          0.00813872367143631,
          0.023364612832665443,
          0.0296773798763752,
          0.09892499446868896,
          0.1256040781736374
         ],
         "yaxis": "y"
        }
       ],
       "layout": {
        "legend": {
         "title": {
          "text": "variable"
         },
         "tracegroupgap": 0
        },
        "margin": {
         "t": 60
        },
        "template": {
         "data": {
          "bar": [
           {
            "error_x": {
             "color": "#2a3f5f"
            },
            "error_y": {
             "color": "#2a3f5f"
            },
            "marker": {
             "line": {
              "color": "#E5ECF6",
              "width": 0.5
             },
             "pattern": {
              "fillmode": "overlay",
              "size": 10,
              "solidity": 0.2
             }
            },
            "type": "bar"
           }
          ],
          "barpolar": [
           {
            "marker": {
             "line": {
              "color": "#E5ECF6",
              "width": 0.5
             },
             "pattern": {
              "fillmode": "overlay",
              "size": 10,
              "solidity": 0.2
             }
            },
            "type": "barpolar"
           }
          ],
          "carpet": [
           {
            "aaxis": {
             "endlinecolor": "#2a3f5f",
             "gridcolor": "white",
             "linecolor": "white",
             "minorgridcolor": "white",
             "startlinecolor": "#2a3f5f"
            },
            "baxis": {
             "endlinecolor": "#2a3f5f",
             "gridcolor": "white",
             "linecolor": "white",
             "minorgridcolor": "white",
             "startlinecolor": "#2a3f5f"
            },
            "type": "carpet"
           }
          ],
          "choropleth": [
           {
            "colorbar": {
             "outlinewidth": 0,
             "ticks": ""
            },
            "type": "choropleth"
           }
          ],
          "contour": [
           {
            "colorbar": {
             "outlinewidth": 0,
             "ticks": ""
            },
            "colorscale": [
             [
              0,
              "#0d0887"
             ],
             [
              0.1111111111111111,
              "#46039f"
             ],
             [
              0.2222222222222222,
              "#7201a8"
             ],
             [
              0.3333333333333333,
              "#9c179e"
             ],
             [
              0.4444444444444444,
              "#bd3786"
             ],
             [
              0.5555555555555556,
              "#d8576b"
             ],
             [
              0.6666666666666666,
              "#ed7953"
             ],
             [
              0.7777777777777778,
              "#fb9f3a"
             ],
             [
              0.8888888888888888,
              "#fdca26"
             ],
             [
              1,
              "#f0f921"
             ]
            ],
            "type": "contour"
           }
          ],
          "contourcarpet": [
           {
            "colorbar": {
             "outlinewidth": 0,
             "ticks": ""
            },
            "type": "contourcarpet"
           }
          ],
          "heatmap": [
           {
            "colorbar": {
             "outlinewidth": 0,
             "ticks": ""
            },
            "colorscale": [
             [
              0,
              "#0d0887"
             ],
             [
              0.1111111111111111,
              "#46039f"
             ],
             [
              0.2222222222222222,
              "#7201a8"
             ],
             [
              0.3333333333333333,
              "#9c179e"
             ],
             [
              0.4444444444444444,
              "#bd3786"
             ],
             [
              0.5555555555555556,
              "#d8576b"
             ],
             [
              0.6666666666666666,
              "#ed7953"
             ],
             [
              0.7777777777777778,
              "#fb9f3a"
             ],
             [
              0.8888888888888888,
              "#fdca26"
             ],
             [
              1,
              "#f0f921"
             ]
            ],
            "type": "heatmap"
           }
          ],
          "heatmapgl": [
           {
            "colorbar": {
             "outlinewidth": 0,
             "ticks": ""
            },
            "colorscale": [
             [
              0,
              "#0d0887"
             ],
             [
              0.1111111111111111,
              "#46039f"
             ],
             [
              0.2222222222222222,
              "#7201a8"
             ],
             [
              0.3333333333333333,
              "#9c179e"
             ],
             [
              0.4444444444444444,
              "#bd3786"
             ],
             [
              0.5555555555555556,
              "#d8576b"
             ],
             [
              0.6666666666666666,
              "#ed7953"
             ],
             [
              0.7777777777777778,
              "#fb9f3a"
             ],
             [
              0.8888888888888888,
              "#fdca26"
             ],
             [
              1,
              "#f0f921"
             ]
            ],
            "type": "heatmapgl"
           }
          ],
          "histogram": [
           {
            "marker": {
             "pattern": {
              "fillmode": "overlay",
              "size": 10,
              "solidity": 0.2
             }
            },
            "type": "histogram"
           }
          ],
          "histogram2d": [
           {
            "colorbar": {
             "outlinewidth": 0,
             "ticks": ""
            },
            "colorscale": [
             [
              0,
              "#0d0887"
             ],
             [
              0.1111111111111111,
              "#46039f"
             ],
             [
              0.2222222222222222,
              "#7201a8"
             ],
             [
              0.3333333333333333,
              "#9c179e"
             ],
             [
              0.4444444444444444,
              "#bd3786"
             ],
             [
              0.5555555555555556,
              "#d8576b"
             ],
             [
              0.6666666666666666,
              "#ed7953"
             ],
             [
              0.7777777777777778,
              "#fb9f3a"
             ],
             [
              0.8888888888888888,
              "#fdca26"
             ],
             [
              1,
              "#f0f921"
             ]
            ],
            "type": "histogram2d"
           }
          ],
          "histogram2dcontour": [
           {
            "colorbar": {
             "outlinewidth": 0,
             "ticks": ""
            },
            "colorscale": [
             [
              0,
              "#0d0887"
             ],
             [
              0.1111111111111111,
              "#46039f"
             ],
             [
              0.2222222222222222,
              "#7201a8"
             ],
             [
              0.3333333333333333,
              "#9c179e"
             ],
             [
              0.4444444444444444,
              "#bd3786"
             ],
             [
              0.5555555555555556,
              "#d8576b"
             ],
             [
              0.6666666666666666,
              "#ed7953"
             ],
             [
              0.7777777777777778,
              "#fb9f3a"
             ],
             [
              0.8888888888888888,
              "#fdca26"
             ],
             [
              1,
              "#f0f921"
             ]
            ],
            "type": "histogram2dcontour"
           }
          ],
          "mesh3d": [
           {
            "colorbar": {
             "outlinewidth": 0,
             "ticks": ""
            },
            "type": "mesh3d"
           }
          ],
          "parcoords": [
           {
            "line": {
             "colorbar": {
              "outlinewidth": 0,
              "ticks": ""
             }
            },
            "type": "parcoords"
           }
          ],
          "pie": [
           {
            "automargin": true,
            "type": "pie"
           }
          ],
          "scatter": [
           {
            "fillpattern": {
             "fillmode": "overlay",
             "size": 10,
             "solidity": 0.2
            },
            "type": "scatter"
           }
          ],
          "scatter3d": [
           {
            "line": {
             "colorbar": {
              "outlinewidth": 0,
              "ticks": ""
             }
            },
            "marker": {
             "colorbar": {
              "outlinewidth": 0,
              "ticks": ""
             }
            },
            "type": "scatter3d"
           }
          ],
          "scattercarpet": [
           {
            "marker": {
             "colorbar": {
              "outlinewidth": 0,
              "ticks": ""
             }
            },
            "type": "scattercarpet"
           }
          ],
          "scattergeo": [
           {
            "marker": {
             "colorbar": {
              "outlinewidth": 0,
              "ticks": ""
             }
            },
            "type": "scattergeo"
           }
          ],
          "scattergl": [
           {
            "marker": {
             "colorbar": {
              "outlinewidth": 0,
              "ticks": ""
             }
            },
            "type": "scattergl"
           }
          ],
          "scattermapbox": [
           {
            "marker": {
             "colorbar": {
              "outlinewidth": 0,
              "ticks": ""
             }
            },
            "type": "scattermapbox"
           }
          ],
          "scatterpolar": [
           {
            "marker": {
             "colorbar": {
              "outlinewidth": 0,
              "ticks": ""
             }
            },
            "type": "scatterpolar"
           }
          ],
          "scatterpolargl": [
           {
            "marker": {
             "colorbar": {
              "outlinewidth": 0,
              "ticks": ""
             }
            },
            "type": "scatterpolargl"
           }
          ],
          "scatterternary": [
           {
            "marker": {
             "colorbar": {
              "outlinewidth": 0,
              "ticks": ""
             }
            },
            "type": "scatterternary"
           }
          ],
          "surface": [
           {
            "colorbar": {
             "outlinewidth": 0,
             "ticks": ""
            },
            "colorscale": [
             [
              0,
              "#0d0887"
             ],
             [
              0.1111111111111111,
              "#46039f"
             ],
             [
              0.2222222222222222,
              "#7201a8"
             ],
             [
              0.3333333333333333,
              "#9c179e"
             ],
             [
              0.4444444444444444,
              "#bd3786"
             ],
             [
              0.5555555555555556,
              "#d8576b"
             ],
             [
              0.6666666666666666,
              "#ed7953"
             ],
             [
              0.7777777777777778,
              "#fb9f3a"
             ],
             [
              0.8888888888888888,
              "#fdca26"
             ],
             [
              1,
              "#f0f921"
             ]
            ],
            "type": "surface"
           }
          ],
          "table": [
           {
            "cells": {
             "fill": {
              "color": "#EBF0F8"
             },
             "line": {
              "color": "white"
             }
            },
            "header": {
             "fill": {
              "color": "#C8D4E3"
             },
             "line": {
              "color": "white"
             }
            },
            "type": "table"
           }
          ]
         },
         "layout": {
          "annotationdefaults": {
           "arrowcolor": "#2a3f5f",
           "arrowhead": 0,
           "arrowwidth": 1
          },
          "autotypenumbers": "strict",
          "coloraxis": {
           "colorbar": {
            "outlinewidth": 0,
            "ticks": ""
           }
          },
          "colorscale": {
           "diverging": [
            [
             0,
             "#8e0152"
            ],
            [
             0.1,
             "#c51b7d"
            ],
            [
             0.2,
             "#de77ae"
            ],
            [
             0.3,
             "#f1b6da"
            ],
            [
             0.4,
             "#fde0ef"
            ],
            [
             0.5,
             "#f7f7f7"
            ],
            [
             0.6,
             "#e6f5d0"
            ],
            [
             0.7,
             "#b8e186"
            ],
            [
             0.8,
             "#7fbc41"
            ],
            [
             0.9,
             "#4d9221"
            ],
            [
             1,
             "#276419"
            ]
           ],
           "sequential": [
            [
             0,
             "#0d0887"
            ],
            [
             0.1111111111111111,
             "#46039f"
            ],
            [
             0.2222222222222222,
             "#7201a8"
            ],
            [
             0.3333333333333333,
             "#9c179e"
            ],
            [
             0.4444444444444444,
             "#bd3786"
            ],
            [
             0.5555555555555556,
             "#d8576b"
            ],
            [
             0.6666666666666666,
             "#ed7953"
            ],
            [
             0.7777777777777778,
             "#fb9f3a"
            ],
            [
             0.8888888888888888,
             "#fdca26"
            ],
            [
             1,
             "#f0f921"
            ]
           ],
           "sequentialminus": [
            [
             0,
             "#0d0887"
            ],
            [
             0.1111111111111111,
             "#46039f"
            ],
            [
             0.2222222222222222,
             "#7201a8"
            ],
            [
             0.3333333333333333,
             "#9c179e"
            ],
            [
             0.4444444444444444,
             "#bd3786"
            ],
            [
             0.5555555555555556,
             "#d8576b"
            ],
            [
             0.6666666666666666,
             "#ed7953"
            ],
            [
             0.7777777777777778,
             "#fb9f3a"
            ],
            [
             0.8888888888888888,
             "#fdca26"
            ],
            [
             1,
             "#f0f921"
            ]
           ]
          },
          "colorway": [
           "#636efa",
           "#EF553B",
           "#00cc96",
           "#ab63fa",
           "#FFA15A",
           "#19d3f3",
           "#FF6692",
           "#B6E880",
           "#FF97FF",
           "#FECB52"
          ],
          "font": {
           "color": "#2a3f5f"
          },
          "geo": {
           "bgcolor": "white",
           "lakecolor": "white",
           "landcolor": "#E5ECF6",
           "showlakes": true,
           "showland": true,
           "subunitcolor": "white"
          },
          "hoverlabel": {
           "align": "left"
          },
          "hovermode": "closest",
          "mapbox": {
           "style": "light"
          },
          "paper_bgcolor": "white",
          "plot_bgcolor": "#E5ECF6",
          "polar": {
           "angularaxis": {
            "gridcolor": "white",
            "linecolor": "white",
            "ticks": ""
           },
           "bgcolor": "#E5ECF6",
           "radialaxis": {
            "gridcolor": "white",
            "linecolor": "white",
            "ticks": ""
           }
          },
          "scene": {
           "xaxis": {
            "backgroundcolor": "#E5ECF6",
            "gridcolor": "white",
            "gridwidth": 2,
            "linecolor": "white",
            "showbackground": true,
            "ticks": "",
            "zerolinecolor": "white"
           },
           "yaxis": {
            "backgroundcolor": "#E5ECF6",
            "gridcolor": "white",
            "gridwidth": 2,
            "linecolor": "white",
            "showbackground": true,
            "ticks": "",
            "zerolinecolor": "white"
           },
           "zaxis": {
            "backgroundcolor": "#E5ECF6",
            "gridcolor": "white",
            "gridwidth": 2,
            "linecolor": "white",
            "showbackground": true,
            "ticks": "",
            "zerolinecolor": "white"
           }
          },
          "shapedefaults": {
           "line": {
            "color": "#2a3f5f"
           }
          },
          "ternary": {
           "aaxis": {
            "gridcolor": "white",
            "linecolor": "white",
            "ticks": ""
           },
           "baxis": {
            "gridcolor": "white",
            "linecolor": "white",
            "ticks": ""
           },
           "bgcolor": "#E5ECF6",
           "caxis": {
            "gridcolor": "white",
            "linecolor": "white",
            "ticks": ""
           }
          },
          "title": {
           "x": 0.05
          },
          "xaxis": {
           "automargin": true,
           "gridcolor": "white",
           "linecolor": "white",
           "ticks": "",
           "title": {
            "standoff": 15
           },
           "zerolinecolor": "white",
           "zerolinewidth": 2
          },
          "yaxis": {
           "automargin": true,
           "gridcolor": "white",
           "linecolor": "white",
           "ticks": "",
           "title": {
            "standoff": 15
           },
           "zerolinecolor": "white",
           "zerolinewidth": 2
          }
         }
        },
        "xaxis": {
         "anchor": "y",
         "domain": [
          0,
          1
         ],
         "title": {
          "text": "index"
         }
        },
        "yaxis": {
         "anchor": "x",
         "domain": [
          0,
          1
         ],
         "title": {
          "text": "value"
         }
        }
       }
      },
      "text/html": [
       "<div>                            <div id=\"729155d4-a810-43d2-bcbd-8e92f8eab37b\" class=\"plotly-graph-div\" style=\"height:525px; width:100%;\"></div>            <script type=\"text/javascript\">                require([\"plotly\"], function(Plotly) {                    window.PLOTLYENV=window.PLOTLYENV || {};                                    if (document.getElementById(\"729155d4-a810-43d2-bcbd-8e92f8eab37b\")) {                    Plotly.newPlot(                        \"729155d4-a810-43d2-bcbd-8e92f8eab37b\",                        [{\"hovertemplate\":\"variable=0<br>index=%{x}<br>value=%{y}<extra></extra>\",\"legendgroup\":\"0\",\"line\":{\"color\":\"#636efa\",\"dash\":\"solid\"},\"marker\":{\"symbol\":\"circle\"},\"mode\":\"lines\",\"name\":\"0\",\"orientation\":\"v\",\"showlegend\":true,\"x\":[0,1,2,3,4,5,6,7,8,9,10,11,12,13,14,15,16,17,18,19,20,21,22,23,24,25,26,27,28,29,30,31,32,33,34,35,36,37,38,39,40,41,42,43,44,45,46,47,48,49,50,51,52,53,54,55,56,57,58,59,60,61,62,63,64,65,66,67,68,69,70,71,72,73,74,75,76,77,78,79,80,81,82,83,84,85,86,87,88,89,90,91,92,93,94,95,96,97,98,99,100,101,102,103,104,105,106,107,108,109,110,111,112,113,114,115,116,117,118,119,120,121,122,123,124,125,126,127,128,129,130,131,132,133,134,135,136,137,138,139,140,141,142,143,144,145,146,147,148,149,150,151,152,153,154,155,156,157,158,159,160,161,162,163,164,165,166,167,168,169,170,171,172,173,174,175,176,177,178,179,180,181,182,183,184,185,186,187,188,189,190,191,192,193,194,195,196,197,198,199,200,201,202,203,204,205,206,207,208,209,210,211,212,213,214,215,216,217,218,219,220,221,222,223,224,225,226,227,228,229,230,231,232,233,234,235,236,237,238,239,240,241,242,243,244,245,246,247,248,249,250,251,252,253,254,255,256,257,258,259,260,261,262,263,264,265,266,267,268,269,270,271,272,273,274,275,276,277,278,279,280,281,282,283,284,285,286,287,288,289,290,291,292,293,294,295,296,297,298,299,300,301,302,303,304,305,306,307,308,309,310,311,312,313,314,315,316,317,318,319,320,321,322,323,324,325,326,327,328,329,330,331,332,333,334,335,336,337,338,339,340,341,342,343,344,345,346,347,348,349,350,351,352,353,354,355,356,357,358,359,360,361,362,363,364,365,366,367,368,369,370,371,372,373,374,375,376,377,378,379,380,381,382,383,384,385,386,387,388,389,390,391,392,393,394,395,396,397,398,399,400,401,402,403,404,405,406,407,408,409,410,411,412,413,414,415,416,417,418,419,420,421,422,423,424,425,426,427,428,429,430,431,432,433,434,435,436,437,438,439,440,441,442,443,444,445,446,447,448,449,450,451,452,453,454,455,456,457,458,459,460,461,462,463,464,465,466,467,468,469,470,471,472,473,474,475,476,477,478,479,480,481,482,483,484,485,486,487,488,489,490,491,492,493,494,495,496,497,498,499,500,501,502,503,504,505,506,507,508,509,510,511,512,513,514,515,516,517,518,519,520,521,522,523,524,525,526,527,528,529,530,531,532,533,534,535,536,537],\"xaxis\":\"x\",\"y\":[0.9988774657249451,0.9927150011062622,0.9834396243095398,0.9666891694068909,0.941687285900116,0.9131170511245728,0.8602883815765381,0.7935099005699158,0.7536283135414124,0.5820685625076294,0.49935483932495117,0.2863956689834595,0.12208577245473862,0.019588710740208626,0.35573500394821167,0.31110695004463196,0.24329879879951477,0.4975941777229309,0.4203161299228668,0.36246612668037415,0.2909089922904968,0.04743959754705429,0.13665825128555298,0.1471455693244934,0.2813934087753296,0.2983855605125427,0.45743051171302795,0.304063618183136,0.42284297943115234,0.3379327058792114,0.24735678732395172,0.23460955917835236,0.21771104633808136,0.013546368107199669,0.010419164784252644,0.12581801414489746,0.15143147110939026,0.2574385106563568,0.2029389888048172,0.2954549193382263,0.029552213847637177,0.19382727146148682,0.09160609543323517,0.053095437586307526,0.06616487354040146,0.13105228543281555,0.11768350750207901,0.025609567761421204,0.13757199048995972,0.21388351917266846,0.2423151731491089,0.044600993394851685,0.032065991312265396,0.19566579163074493,0.061965055763721466,0.05302189663052559,0.00180137250572443,0.14003674685955048,0.15843987464904785,0.10352467745542526,0.10471753776073456,0.001045465120114386,0.056744784116744995,0.012520463205873966,0.0010458927135914564,0.0930127277970314,0.010700278915464878,0.0009687200654298067,0.028767341747879982,0.097805455327034,0.09640169888734818,0.0803772583603859,0.0027365300338715315,0.02156238444149494,0.04282259941101074,0.010430495254695415,0.02929023467004299,0.04486457630991936,0.060114193707704544,0.02868076227605343,0.09338170289993286,0.049852367490530014,0.13611944019794464,0.06831982731819153,0.05143173411488533,0.0688091591000557,0.04168286174535751,0.11906924843788147,0.11063872277736664,0.05929671972990036,0.04459436610341072,0.024811547249555588,0.09628615528345108,0.048417191952466965,0.0200817808508873,0.10124509036540985,0.024771036580204964,0.010525945574045181,0.00932666938751936,0.003561593359336257,0.009776344522833824,0.03456908091902733,0.045156486332416534,0.03579187020659447,0.058536965399980545,0.012546543963253498,0.0009283166145905852,0.03653612732887268,0.053179770708084106,0.03363841027021408,0.1060183048248291,0.07720067352056503,0.005454461555927992,0.12718942761421204,0.12568499147891998,0.05057075619697571,0.023821769282221794,0.010343489237129688,0.013716960325837135,0.03658134117722511,0.08377595245838165,0.01714986190199852,0.052387308329343796,0.03746733069419861,0.0478677898645401,0.05065092444419861,0.08766943216323853,0.13557137548923492,0.010194060392677784,0.012858334928750992,0.05921099707484245,0.044541243463754654,0.010840408504009247,0.03517470136284828,0.09635381400585175,0.04404881224036217,0.015184630639851093,0.008426678366959095,0.030339011922478676,0.06582678854465485,0.10364513844251633,1.8063961761072278e-05,0.022573431953787804,0.06165251508355141,0.050098635256290436,0.013347344473004341,0.0616324208676815,0.01196977961808443,0.06504020094871521,0.012978796847164631,0.03408295661211014,0.0781799703836441,0.001259774318896234,0.004773268476128578,0.12541702389717102,0.04153909534215927,0.000668687280267477,0.008716342970728874,0.03823606297373772,0.00523491483181715,0.0028882031328976154,0.11594989895820618,0.0149757731705904,0.03868125006556511,0.034095462411642075,0.0035497290082275867,0.04557516425848007,0.13199514150619507,0.030402395874261856,0.03598993271589279,0.013021444901823997,0.061477649956941605,0.050339024513959885,0.006695423740893602,0.014988813549280167,0.09221813082695007,0.022863097488880157,0.013141158036887646,0.04339701309800148,0.0015096769202500582,0.0018865617457777262,0.02365502528846264,0.0009473426034674048,0.015920443460345268,0.0052862209267914295,0.05276547372341156,0.0792817696928978,0.07565625756978989,0.016587527468800545,0.07848428189754486,0.023149555549025536,0.09256797283887863,0.03805670514702797,0.01872057095170021,0.04633299261331558,0.07225018739700317,0.014537427574396133,0.07478469610214233,0.06338569521903992,0.12271475046873093,0.055374808609485626,0.031079955399036407,0.01754181832075119,0.0008008000440895557,0.021600116044282913,0.027817219495773315,0.08467338234186172,0.03148772940039635,0.05240430310368538,0.008292321115732193,0.05685092508792877,0.04315181449055672,0.01498239953070879,0.08372838795185089,0.007479763124138117,0.02177616022527218,0.08301438391208649,0.010904967784881592,0.009381395764648914,0.01733616553246975,0.1306675374507904,0.07168550044298172,0.021600864827632904,0.05259701982140541,0.03429437801241875,0.14501230418682098,0.04210356995463371,0.013808883726596832,0.0016972642624750733,0.07809071987867355,0.10317568480968475,0.010382716543972492,0.014034736901521683,0.07966452836990356,0.003515631891787052,0.05918373912572861,0.058043573051691055,0.05975986272096634,0.015613997355103493,0.012662944383919239,0.022211404517292976,0.04492272436618805,0.0261868666857481,0.05443184822797775,0.039960265159606934,0.004944929387420416,0.06205494701862335,0.036132946610450745,0.0556647926568985,0.12732185423374176,0.08521486818790436,0.014830299653112888,0.047861162573099136,0.05984729528427124,0.08302859961986542,0.06189750134944916,0.08753421902656555,0.028826983645558357,0.007260430138558149,0.07773863524198532,0.12350855022668839,0.07337025552988052,0.006015833932906389,0.048543959856033325,0.08318347483873367,0.0012921611778438091,0.0045312754809856415,0.016120215877890587,0.08777236193418503,0.015437954105436802,0.01745930127799511,0.039861928671598434,0.12960326671600342,0.03089696355164051,0.03514958545565605,0.018835047259926796,0.05923419073224068,0.029075924307107925,0.039369069039821625,0.028051195666193962,0.007048151921480894,0.02766576036810875,0.07729291170835495,0.0037097393069416285,0.05590977892279625,0.04182715713977814,0.026853201910853386,0.004507225938141346,0.05856967344880104,0.03374658152461052,0.06959884613752365,0.03480294719338417,0.006204276345670223,0.1123669296503067,0.07462180405855179,0.015085546299815178,0.033180613070726395,0.03105504997074604,0.01687847450375557,0.07971359044313431,0.02617649920284748,0.10362932085990906,0.007492910139262676,0.09128542989492416,0.04262988269329071,0.01956348493695259,0.04783059284090996,0.039382003247737885,0.0871499627828598,0.067633718252182,0.06592725962400436,0.020394427701830864,0.1358698010444641,0.06277494132518768,0.03622016683220863,0.0027569453231990337,0.0632314532995224,0.033459801226854324,0.05591576546430588,0.09319326281547546,0.0569324791431427,0.006032080855220556,0.03800080344080925,0.0011945730075240135,0.007309705018997192,0.03989645093679428,0.07461773604154587,0.08441919833421707,0.07613211870193481,0.05236111953854561,0.06080180034041405,0.0017638551071286201,0.07206687331199646,0.12203285843133926,0.009325066581368446,0.02165249176323414,0.006114277057349682,0.025071710348129272,0.0686817467212677,0.042295537889003754,0.016767097637057304,0.01933560147881508,0.01629711501300335,0.11534978449344635,0.01586785539984703,0.009155222214758396,0.026889970526099205,0.06388934701681137,0.04210859164595604,0.13968220353126526,0.06694076955318451,0.0239229928702116,0.05276002362370491,0.07958586513996124,0.08568880707025528,0.043484874069690704,0.032270465046167374,0.024875251576304436,0.03980741649866104,0.06837284564971924,0.03682279959321022,0.016505330801010132,0.012186975218355656,0.009526441805064678,0.0288514606654644,0.007287793327122927,0.03930376097559929,0.05077116936445236,0.006669022608548403,0.11000033468008041,0.06849277019500732,0.06156903877854347,0.0988929271697998,0.01262435782700777,0.037257831543684006,0.008738255128264427,0.049704115837812424,0.033990178257226944,0.02836095541715622,0.06558661162853241,0.0015325507847592235,0.10174094140529633,0.09328048676252365,0.10279527306556702,0.04734329506754875,0.013283425942063332,0.005349177401512861,0.039520636200904846,0.060258813202381134,0.06695060431957245,0.034486670047044754,0.11898518353700638,0.028217405080795288,0.05275339633226395,0.13339711725711823,0.13072413206100464,0.12726178765296936,0.0891251340508461,0.0676373541355133,0.054675232619047165,0.030409665778279305,0.141951322555542,0.04914455860853195,0.15476422011852264,0.1241261437535286,0.08944493532180786,0.07501311600208282,0.051447659730911255,0.10141503810882568,0.09661547839641571,0.1704353541135788,0.11352740973234177,0.044380053877830505,0.008112001232802868,0.08542682975530624,0.08312586694955826,0.0261030662804842,0.03494371846318245,0.0513291209936142,0.053298093378543854,0.03214925527572632,0.06448438763618469,0.019687794148921967,0.02526870369911194,0.002757479902356863,0.08707001060247421,0.04239034652709961,0.07186656445264816,0.017814915627241135,0.09989980608224869,0.04295984283089638,0.04853540658950806,0.030685007572174072,0.0843951553106308,0.027181560173630714,0.031112663447856903,0.12187857180833817,0.12102656811475754,0.08096759766340256,0.01229140441864729,0.017810212448239326,0.004150435794144869,0.09611460566520691,0.028873907402157784,0.08476049453020096,0.05075310543179512,0.11694309860467911,0.051239337772130966,0.042289767414331436,0.060848724097013474,0.11839676648378372,0.02747379057109356,0.0021289822179824114,0.014963801950216293,0.007008175831288099,0.020158953964710236,0.05125269666314125,0.04598325863480568,0.019390327855944633,0.012321652844548225,0.08172350376844406,0.0746038407087326,0.0012536817230284214,0.08656390011310577,0.03553245589137077,0.017839819192886353,0.12577873468399048,0.019839147105813026,0.028897102922201157,0.06603650003671646,0.04953469708561897,0.15274864435195923,0.06029077246785164,0.002805899828672409,0.0458078570663929,0.010799256153404713,0.0062777078710496426,0.017738811671733856,0.03153166174888611,0.05789393186569214,0.010374272242188454,0.05714796483516693,0.01719518192112446,0.07407913357019424,0.006273860111832619,0.003021384822204709,0.03903365880250931,0.04981281980872154,0.018652163445949554,0.009171362034976482,0.04084796458482742,0.0299187321215868,0.051236771047115326,0.08652520179748535,0.07369422912597656,0.006996418349444866,0.08570035547018051,0.027937468141317368,0.05879659205675125,0.0686616525053978,0.09393260627985,0.0731758251786232,0.01867450214922428,0.03188460320234299,0.005548522341996431,0.00044839244219474494,0.07090628892183304,0.027978619560599327,0.01877668686211109,0.021601825952529907,0.09898816049098969,0.08986596763134003,0.03345958888530731,0.09046592563390732,0.07251943647861481,0.03427257388830185,0.018214566633105278,0.013238426297903061,0.015782559290528297,0.053268272429704666,0.006192946340888739,0.04279160127043724,0.019227538257837296,0.0072415112517774105,0.03025328926742077,0.04398606717586517,0.07215174287557602,0.05988577753305435,0.01657961681485176,0.0032425345852971077,0.11422987282276154,0.050650279968976974,0.08575839549303055,0.00813872367143631,0.023364612832665443,0.0296773798763752,0.09892499446868896,0.1256040781736374],\"yaxis\":\"y\",\"type\":\"scatter\"}],                        {\"template\":{\"data\":{\"histogram2dcontour\":[{\"type\":\"histogram2dcontour\",\"colorbar\":{\"outlinewidth\":0,\"ticks\":\"\"},\"colorscale\":[[0.0,\"#0d0887\"],[0.1111111111111111,\"#46039f\"],[0.2222222222222222,\"#7201a8\"],[0.3333333333333333,\"#9c179e\"],[0.4444444444444444,\"#bd3786\"],[0.5555555555555556,\"#d8576b\"],[0.6666666666666666,\"#ed7953\"],[0.7777777777777778,\"#fb9f3a\"],[0.8888888888888888,\"#fdca26\"],[1.0,\"#f0f921\"]]}],\"choropleth\":[{\"type\":\"choropleth\",\"colorbar\":{\"outlinewidth\":0,\"ticks\":\"\"}}],\"histogram2d\":[{\"type\":\"histogram2d\",\"colorbar\":{\"outlinewidth\":0,\"ticks\":\"\"},\"colorscale\":[[0.0,\"#0d0887\"],[0.1111111111111111,\"#46039f\"],[0.2222222222222222,\"#7201a8\"],[0.3333333333333333,\"#9c179e\"],[0.4444444444444444,\"#bd3786\"],[0.5555555555555556,\"#d8576b\"],[0.6666666666666666,\"#ed7953\"],[0.7777777777777778,\"#fb9f3a\"],[0.8888888888888888,\"#fdca26\"],[1.0,\"#f0f921\"]]}],\"heatmap\":[{\"type\":\"heatmap\",\"colorbar\":{\"outlinewidth\":0,\"ticks\":\"\"},\"colorscale\":[[0.0,\"#0d0887\"],[0.1111111111111111,\"#46039f\"],[0.2222222222222222,\"#7201a8\"],[0.3333333333333333,\"#9c179e\"],[0.4444444444444444,\"#bd3786\"],[0.5555555555555556,\"#d8576b\"],[0.6666666666666666,\"#ed7953\"],[0.7777777777777778,\"#fb9f3a\"],[0.8888888888888888,\"#fdca26\"],[1.0,\"#f0f921\"]]}],\"heatmapgl\":[{\"type\":\"heatmapgl\",\"colorbar\":{\"outlinewidth\":0,\"ticks\":\"\"},\"colorscale\":[[0.0,\"#0d0887\"],[0.1111111111111111,\"#46039f\"],[0.2222222222222222,\"#7201a8\"],[0.3333333333333333,\"#9c179e\"],[0.4444444444444444,\"#bd3786\"],[0.5555555555555556,\"#d8576b\"],[0.6666666666666666,\"#ed7953\"],[0.7777777777777778,\"#fb9f3a\"],[0.8888888888888888,\"#fdca26\"],[1.0,\"#f0f921\"]]}],\"contourcarpet\":[{\"type\":\"contourcarpet\",\"colorbar\":{\"outlinewidth\":0,\"ticks\":\"\"}}],\"contour\":[{\"type\":\"contour\",\"colorbar\":{\"outlinewidth\":0,\"ticks\":\"\"},\"colorscale\":[[0.0,\"#0d0887\"],[0.1111111111111111,\"#46039f\"],[0.2222222222222222,\"#7201a8\"],[0.3333333333333333,\"#9c179e\"],[0.4444444444444444,\"#bd3786\"],[0.5555555555555556,\"#d8576b\"],[0.6666666666666666,\"#ed7953\"],[0.7777777777777778,\"#fb9f3a\"],[0.8888888888888888,\"#fdca26\"],[1.0,\"#f0f921\"]]}],\"surface\":[{\"type\":\"surface\",\"colorbar\":{\"outlinewidth\":0,\"ticks\":\"\"},\"colorscale\":[[0.0,\"#0d0887\"],[0.1111111111111111,\"#46039f\"],[0.2222222222222222,\"#7201a8\"],[0.3333333333333333,\"#9c179e\"],[0.4444444444444444,\"#bd3786\"],[0.5555555555555556,\"#d8576b\"],[0.6666666666666666,\"#ed7953\"],[0.7777777777777778,\"#fb9f3a\"],[0.8888888888888888,\"#fdca26\"],[1.0,\"#f0f921\"]]}],\"mesh3d\":[{\"type\":\"mesh3d\",\"colorbar\":{\"outlinewidth\":0,\"ticks\":\"\"}}],\"scatter\":[{\"fillpattern\":{\"fillmode\":\"overlay\",\"size\":10,\"solidity\":0.2},\"type\":\"scatter\"}],\"parcoords\":[{\"type\":\"parcoords\",\"line\":{\"colorbar\":{\"outlinewidth\":0,\"ticks\":\"\"}}}],\"scatterpolargl\":[{\"type\":\"scatterpolargl\",\"marker\":{\"colorbar\":{\"outlinewidth\":0,\"ticks\":\"\"}}}],\"bar\":[{\"error_x\":{\"color\":\"#2a3f5f\"},\"error_y\":{\"color\":\"#2a3f5f\"},\"marker\":{\"line\":{\"color\":\"#E5ECF6\",\"width\":0.5},\"pattern\":{\"fillmode\":\"overlay\",\"size\":10,\"solidity\":0.2}},\"type\":\"bar\"}],\"scattergeo\":[{\"type\":\"scattergeo\",\"marker\":{\"colorbar\":{\"outlinewidth\":0,\"ticks\":\"\"}}}],\"scatterpolar\":[{\"type\":\"scatterpolar\",\"marker\":{\"colorbar\":{\"outlinewidth\":0,\"ticks\":\"\"}}}],\"histogram\":[{\"marker\":{\"pattern\":{\"fillmode\":\"overlay\",\"size\":10,\"solidity\":0.2}},\"type\":\"histogram\"}],\"scattergl\":[{\"type\":\"scattergl\",\"marker\":{\"colorbar\":{\"outlinewidth\":0,\"ticks\":\"\"}}}],\"scatter3d\":[{\"type\":\"scatter3d\",\"line\":{\"colorbar\":{\"outlinewidth\":0,\"ticks\":\"\"}},\"marker\":{\"colorbar\":{\"outlinewidth\":0,\"ticks\":\"\"}}}],\"scattermapbox\":[{\"type\":\"scattermapbox\",\"marker\":{\"colorbar\":{\"outlinewidth\":0,\"ticks\":\"\"}}}],\"scatterternary\":[{\"type\":\"scatterternary\",\"marker\":{\"colorbar\":{\"outlinewidth\":0,\"ticks\":\"\"}}}],\"scattercarpet\":[{\"type\":\"scattercarpet\",\"marker\":{\"colorbar\":{\"outlinewidth\":0,\"ticks\":\"\"}}}],\"carpet\":[{\"aaxis\":{\"endlinecolor\":\"#2a3f5f\",\"gridcolor\":\"white\",\"linecolor\":\"white\",\"minorgridcolor\":\"white\",\"startlinecolor\":\"#2a3f5f\"},\"baxis\":{\"endlinecolor\":\"#2a3f5f\",\"gridcolor\":\"white\",\"linecolor\":\"white\",\"minorgridcolor\":\"white\",\"startlinecolor\":\"#2a3f5f\"},\"type\":\"carpet\"}],\"table\":[{\"cells\":{\"fill\":{\"color\":\"#EBF0F8\"},\"line\":{\"color\":\"white\"}},\"header\":{\"fill\":{\"color\":\"#C8D4E3\"},\"line\":{\"color\":\"white\"}},\"type\":\"table\"}],\"barpolar\":[{\"marker\":{\"line\":{\"color\":\"#E5ECF6\",\"width\":0.5},\"pattern\":{\"fillmode\":\"overlay\",\"size\":10,\"solidity\":0.2}},\"type\":\"barpolar\"}],\"pie\":[{\"automargin\":true,\"type\":\"pie\"}]},\"layout\":{\"autotypenumbers\":\"strict\",\"colorway\":[\"#636efa\",\"#EF553B\",\"#00cc96\",\"#ab63fa\",\"#FFA15A\",\"#19d3f3\",\"#FF6692\",\"#B6E880\",\"#FF97FF\",\"#FECB52\"],\"font\":{\"color\":\"#2a3f5f\"},\"hovermode\":\"closest\",\"hoverlabel\":{\"align\":\"left\"},\"paper_bgcolor\":\"white\",\"plot_bgcolor\":\"#E5ECF6\",\"polar\":{\"bgcolor\":\"#E5ECF6\",\"angularaxis\":{\"gridcolor\":\"white\",\"linecolor\":\"white\",\"ticks\":\"\"},\"radialaxis\":{\"gridcolor\":\"white\",\"linecolor\":\"white\",\"ticks\":\"\"}},\"ternary\":{\"bgcolor\":\"#E5ECF6\",\"aaxis\":{\"gridcolor\":\"white\",\"linecolor\":\"white\",\"ticks\":\"\"},\"baxis\":{\"gridcolor\":\"white\",\"linecolor\":\"white\",\"ticks\":\"\"},\"caxis\":{\"gridcolor\":\"white\",\"linecolor\":\"white\",\"ticks\":\"\"}},\"coloraxis\":{\"colorbar\":{\"outlinewidth\":0,\"ticks\":\"\"}},\"colorscale\":{\"sequential\":[[0.0,\"#0d0887\"],[0.1111111111111111,\"#46039f\"],[0.2222222222222222,\"#7201a8\"],[0.3333333333333333,\"#9c179e\"],[0.4444444444444444,\"#bd3786\"],[0.5555555555555556,\"#d8576b\"],[0.6666666666666666,\"#ed7953\"],[0.7777777777777778,\"#fb9f3a\"],[0.8888888888888888,\"#fdca26\"],[1.0,\"#f0f921\"]],\"sequentialminus\":[[0.0,\"#0d0887\"],[0.1111111111111111,\"#46039f\"],[0.2222222222222222,\"#7201a8\"],[0.3333333333333333,\"#9c179e\"],[0.4444444444444444,\"#bd3786\"],[0.5555555555555556,\"#d8576b\"],[0.6666666666666666,\"#ed7953\"],[0.7777777777777778,\"#fb9f3a\"],[0.8888888888888888,\"#fdca26\"],[1.0,\"#f0f921\"]],\"diverging\":[[0,\"#8e0152\"],[0.1,\"#c51b7d\"],[0.2,\"#de77ae\"],[0.3,\"#f1b6da\"],[0.4,\"#fde0ef\"],[0.5,\"#f7f7f7\"],[0.6,\"#e6f5d0\"],[0.7,\"#b8e186\"],[0.8,\"#7fbc41\"],[0.9,\"#4d9221\"],[1,\"#276419\"]]},\"xaxis\":{\"gridcolor\":\"white\",\"linecolor\":\"white\",\"ticks\":\"\",\"title\":{\"standoff\":15},\"zerolinecolor\":\"white\",\"automargin\":true,\"zerolinewidth\":2},\"yaxis\":{\"gridcolor\":\"white\",\"linecolor\":\"white\",\"ticks\":\"\",\"title\":{\"standoff\":15},\"zerolinecolor\":\"white\",\"automargin\":true,\"zerolinewidth\":2},\"scene\":{\"xaxis\":{\"backgroundcolor\":\"#E5ECF6\",\"gridcolor\":\"white\",\"linecolor\":\"white\",\"showbackground\":true,\"ticks\":\"\",\"zerolinecolor\":\"white\",\"gridwidth\":2},\"yaxis\":{\"backgroundcolor\":\"#E5ECF6\",\"gridcolor\":\"white\",\"linecolor\":\"white\",\"showbackground\":true,\"ticks\":\"\",\"zerolinecolor\":\"white\",\"gridwidth\":2},\"zaxis\":{\"backgroundcolor\":\"#E5ECF6\",\"gridcolor\":\"white\",\"linecolor\":\"white\",\"showbackground\":true,\"ticks\":\"\",\"zerolinecolor\":\"white\",\"gridwidth\":2}},\"shapedefaults\":{\"line\":{\"color\":\"#2a3f5f\"}},\"annotationdefaults\":{\"arrowcolor\":\"#2a3f5f\",\"arrowhead\":0,\"arrowwidth\":1},\"geo\":{\"bgcolor\":\"white\",\"landcolor\":\"#E5ECF6\",\"subunitcolor\":\"white\",\"showland\":true,\"showlakes\":true,\"lakecolor\":\"white\"},\"title\":{\"x\":0.05},\"mapbox\":{\"style\":\"light\"}}},\"xaxis\":{\"anchor\":\"y\",\"domain\":[0.0,1.0],\"title\":{\"text\":\"index\"}},\"yaxis\":{\"anchor\":\"x\",\"domain\":[0.0,1.0],\"title\":{\"text\":\"value\"}},\"legend\":{\"title\":{\"text\":\"variable\"},\"tracegroupgap\":0},\"margin\":{\"t\":60}},                        {\"responsive\": true}                    ).then(function(){\n",
       "                            \n",
       "var gd = document.getElementById('729155d4-a810-43d2-bcbd-8e92f8eab37b');\n",
       "var x = new MutationObserver(function (mutations, observer) {{\n",
       "        var display = window.getComputedStyle(gd).display;\n",
       "        if (!display || display === 'none') {{\n",
       "            console.log([gd, 'removed!']);\n",
       "            Plotly.purge(gd);\n",
       "            observer.disconnect();\n",
       "        }}\n",
       "}});\n",
       "\n",
       "// Listen for the removal of the full notebook cells\n",
       "var notebookContainer = gd.closest('#notebook-container');\n",
       "if (notebookContainer) {{\n",
       "    x.observe(notebookContainer, {childList: true});\n",
       "}}\n",
       "\n",
       "// Listen for the clearing of the current output cell\n",
       "var outputEl = gd.closest('.output');\n",
       "if (outputEl) {{\n",
       "    x.observe(outputEl, {childList: true});\n",
       "}}\n",
       "\n",
       "                        })                };                });            </script>        </div>"
      ]
     },
     "metadata": {},
     "output_type": "display_data"
    }
   ],
   "source": [
    "px.line(train_losses)"
   ]
  },
  {
   "cell_type": "code",
   "execution_count": 323,
   "metadata": {},
   "outputs": [
    {
     "data": {
      "application/vnd.plotly.v1+json": {
       "config": {
        "plotlyServerURL": "https://plot.ly"
       },
       "data": [
        {
         "hovertemplate": "variable=0<br>index=%{x}<br>value=%{y}<extra></extra>",
         "legendgroup": "0",
         "line": {
          "color": "#636efa",
          "dash": "solid"
         },
         "marker": {
          "symbol": "circle"
         },
         "mode": "lines",
         "name": "0",
         "orientation": "v",
         "showlegend": true,
         "type": "scatter",
         "x": [
          0,
          1,
          2,
          3,
          4,
          5,
          6,
          7,
          8,
          9,
          10,
          11,
          12,
          13,
          14,
          15,
          16,
          17,
          18,
          19,
          20,
          21,
          22,
          23,
          24,
          25,
          26,
          27,
          28,
          29,
          30,
          31,
          32,
          33,
          34,
          35,
          36,
          37,
          38,
          39,
          40,
          41,
          42,
          43,
          44,
          45,
          46,
          47,
          48,
          49,
          50,
          51,
          52,
          53,
          54,
          55,
          56,
          57,
          58,
          59,
          60,
          61,
          62,
          63,
          64,
          65,
          66,
          67,
          68,
          69,
          70,
          71,
          72,
          73,
          74,
          75,
          76,
          77,
          78,
          79,
          80,
          81,
          82,
          83,
          84,
          85,
          86,
          87,
          88,
          89,
          90,
          91,
          92,
          93,
          94,
          95,
          96,
          97,
          98,
          99,
          100,
          101,
          102,
          103,
          104,
          105,
          106,
          107,
          108,
          109,
          110,
          111,
          112,
          113,
          114,
          115,
          116,
          117,
          118,
          119,
          120,
          121,
          122,
          123,
          124,
          125,
          126,
          127,
          128,
          129,
          130,
          131,
          132,
          133
         ],
         "xaxis": "x",
         "y": [
          0.11251763999462128,
          0.08754405379295349,
          0.09551005065441132,
          0.01269693486392498,
          0.0027964937034994364,
          0.02710716612637043,
          0.013516653329133987,
          0.016266651451587677,
          0.051674798130989075,
          0.04144909605383873,
          0.06887425482273102,
          0.11813285946846008,
          0.050815850496292114,
          0.01051172986626625,
          0.014912388287484646,
          0.033240363001823425,
          0.09739265590906143,
          0.03570796549320221,
          0.001000358723104,
          0.007135906256735325,
          0.05371367186307907,
          0.08504780381917953,
          0.12465737015008926,
          0.04075614735484123,
          0.027898773550987244,
          0.06823934614658356,
          0.007296237628906965,
          0.03136961907148361,
          0.03610130771994591,
          0.027185942977666855,
          0.08730291575193405,
          0.02849648892879486,
          0.004916924983263016,
          0.008959832601249218,
          0.02972077578306198,
          0.10850092023611069,
          0.03605834022164345,
          0.06885650753974915,
          0.06955704838037491,
          0.020238157361745834,
          0.0038258188869804144,
          0.009791949763894081,
          0.06977745145559311,
          0.04489044100046158,
          0.08108891546726227,
          0.019078537821769714,
          0.022578135132789612,
          0.012932942248880863,
          0.013262261636555195,
          0.027156013995409012,
          0.03049442730844021,
          0.01605180837213993,
          0.030935443937778473,
          0.019906165078282356,
          0.014340328052639961,
          0.08363112062215805,
          0.0012840377166867256,
          0.0209396593272686,
          0.02673199214041233,
          0.035190630704164505,
          0.0746384784579277,
          0.13425478339195251,
          0.03772161528468132,
          0.06976088136434555,
          0.09210237115621567,
          0.10728486627340317,
          0.06846059858798981,
          0.020442740991711617,
          0.08609786629676819,
          0.07392062246799469,
          0.005405400414019823,
          0.03440500795841217,
          0.05406821891665459,
          0.013047311455011368,
          0.035672370344400406,
          0.002536971354857087,
          0.01494488213211298,
          0.03205754607915878,
          0.04973115772008896,
          0.020217422395944595,
          0.0016243670834228396,
          0.002480320865288377,
          0.0406389981508255,
          0.020265841856598854,
          0.011754616163671017,
          0.08289466798305511,
          0.018876733258366585,
          0.053165875375270844,
          0.03731084614992142,
          0.049872782081365585,
          0.0034762972500175238,
          0.07230009883642197,
          0.08628855645656586,
          0.00933415163308382,
          0.06703237444162369,
          0.03377319499850273,
          0.01718759350478649,
          0.045754093676805496,
          0.046288955956697464,
          0.07073772698640823,
          0.0617671012878418,
          0.03554624319076538,
          0.01976454071700573,
          0.00883755274116993,
          0.054744601249694824,
          0.02152850106358528,
          0.00946273747831583,
          0.021564096212387085,
          0.09605399519205093,
          0.045966796576976776,
          0.03696442395448685,
          0.06624867022037506,
          0.0025567454285919666,
          0.05011124908924103,
          0.009538092650473118,
          0.02552608959376812,
          0.06570279598236084,
          0.01998836174607277,
          0.012772610411047935,
          0.029878221452236176,
          0.11780300736427307,
          0.04007880017161369,
          0.0035686478950083256,
          0.0689111277461052,
          0.02105734311044216,
          0.03684503212571144,
          0.002151535591110587,
          0.0839262381196022,
          0.040714994072914124,
          0.006003755610436201,
          0.025229262188076973,
          0.06490552425384521,
          0.008200290612876415,
          0.034118764102458954
         ],
         "yaxis": "y"
        }
       ],
       "layout": {
        "legend": {
         "title": {
          "text": "variable"
         },
         "tracegroupgap": 0
        },
        "margin": {
         "t": 60
        },
        "template": {
         "data": {
          "bar": [
           {
            "error_x": {
             "color": "#2a3f5f"
            },
            "error_y": {
             "color": "#2a3f5f"
            },
            "marker": {
             "line": {
              "color": "#E5ECF6",
              "width": 0.5
             },
             "pattern": {
              "fillmode": "overlay",
              "size": 10,
              "solidity": 0.2
             }
            },
            "type": "bar"
           }
          ],
          "barpolar": [
           {
            "marker": {
             "line": {
              "color": "#E5ECF6",
              "width": 0.5
             },
             "pattern": {
              "fillmode": "overlay",
              "size": 10,
              "solidity": 0.2
             }
            },
            "type": "barpolar"
           }
          ],
          "carpet": [
           {
            "aaxis": {
             "endlinecolor": "#2a3f5f",
             "gridcolor": "white",
             "linecolor": "white",
             "minorgridcolor": "white",
             "startlinecolor": "#2a3f5f"
            },
            "baxis": {
             "endlinecolor": "#2a3f5f",
             "gridcolor": "white",
             "linecolor": "white",
             "minorgridcolor": "white",
             "startlinecolor": "#2a3f5f"
            },
            "type": "carpet"
           }
          ],
          "choropleth": [
           {
            "colorbar": {
             "outlinewidth": 0,
             "ticks": ""
            },
            "type": "choropleth"
           }
          ],
          "contour": [
           {
            "colorbar": {
             "outlinewidth": 0,
             "ticks": ""
            },
            "colorscale": [
             [
              0,
              "#0d0887"
             ],
             [
              0.1111111111111111,
              "#46039f"
             ],
             [
              0.2222222222222222,
              "#7201a8"
             ],
             [
              0.3333333333333333,
              "#9c179e"
             ],
             [
              0.4444444444444444,
              "#bd3786"
             ],
             [
              0.5555555555555556,
              "#d8576b"
             ],
             [
              0.6666666666666666,
              "#ed7953"
             ],
             [
              0.7777777777777778,
              "#fb9f3a"
             ],
             [
              0.8888888888888888,
              "#fdca26"
             ],
             [
              1,
              "#f0f921"
             ]
            ],
            "type": "contour"
           }
          ],
          "contourcarpet": [
           {
            "colorbar": {
             "outlinewidth": 0,
             "ticks": ""
            },
            "type": "contourcarpet"
           }
          ],
          "heatmap": [
           {
            "colorbar": {
             "outlinewidth": 0,
             "ticks": ""
            },
            "colorscale": [
             [
              0,
              "#0d0887"
             ],
             [
              0.1111111111111111,
              "#46039f"
             ],
             [
              0.2222222222222222,
              "#7201a8"
             ],
             [
              0.3333333333333333,
              "#9c179e"
             ],
             [
              0.4444444444444444,
              "#bd3786"
             ],
             [
              0.5555555555555556,
              "#d8576b"
             ],
             [
              0.6666666666666666,
              "#ed7953"
             ],
             [
              0.7777777777777778,
              "#fb9f3a"
             ],
             [
              0.8888888888888888,
              "#fdca26"
             ],
             [
              1,
              "#f0f921"
             ]
            ],
            "type": "heatmap"
           }
          ],
          "heatmapgl": [
           {
            "colorbar": {
             "outlinewidth": 0,
             "ticks": ""
            },
            "colorscale": [
             [
              0,
              "#0d0887"
             ],
             [
              0.1111111111111111,
              "#46039f"
             ],
             [
              0.2222222222222222,
              "#7201a8"
             ],
             [
              0.3333333333333333,
              "#9c179e"
             ],
             [
              0.4444444444444444,
              "#bd3786"
             ],
             [
              0.5555555555555556,
              "#d8576b"
             ],
             [
              0.6666666666666666,
              "#ed7953"
             ],
             [
              0.7777777777777778,
              "#fb9f3a"
             ],
             [
              0.8888888888888888,
              "#fdca26"
             ],
             [
              1,
              "#f0f921"
             ]
            ],
            "type": "heatmapgl"
           }
          ],
          "histogram": [
           {
            "marker": {
             "pattern": {
              "fillmode": "overlay",
              "size": 10,
              "solidity": 0.2
             }
            },
            "type": "histogram"
           }
          ],
          "histogram2d": [
           {
            "colorbar": {
             "outlinewidth": 0,
             "ticks": ""
            },
            "colorscale": [
             [
              0,
              "#0d0887"
             ],
             [
              0.1111111111111111,
              "#46039f"
             ],
             [
              0.2222222222222222,
              "#7201a8"
             ],
             [
              0.3333333333333333,
              "#9c179e"
             ],
             [
              0.4444444444444444,
              "#bd3786"
             ],
             [
              0.5555555555555556,
              "#d8576b"
             ],
             [
              0.6666666666666666,
              "#ed7953"
             ],
             [
              0.7777777777777778,
              "#fb9f3a"
             ],
             [
              0.8888888888888888,
              "#fdca26"
             ],
             [
              1,
              "#f0f921"
             ]
            ],
            "type": "histogram2d"
           }
          ],
          "histogram2dcontour": [
           {
            "colorbar": {
             "outlinewidth": 0,
             "ticks": ""
            },
            "colorscale": [
             [
              0,
              "#0d0887"
             ],
             [
              0.1111111111111111,
              "#46039f"
             ],
             [
              0.2222222222222222,
              "#7201a8"
             ],
             [
              0.3333333333333333,
              "#9c179e"
             ],
             [
              0.4444444444444444,
              "#bd3786"
             ],
             [
              0.5555555555555556,
              "#d8576b"
             ],
             [
              0.6666666666666666,
              "#ed7953"
             ],
             [
              0.7777777777777778,
              "#fb9f3a"
             ],
             [
              0.8888888888888888,
              "#fdca26"
             ],
             [
              1,
              "#f0f921"
             ]
            ],
            "type": "histogram2dcontour"
           }
          ],
          "mesh3d": [
           {
            "colorbar": {
             "outlinewidth": 0,
             "ticks": ""
            },
            "type": "mesh3d"
           }
          ],
          "parcoords": [
           {
            "line": {
             "colorbar": {
              "outlinewidth": 0,
              "ticks": ""
             }
            },
            "type": "parcoords"
           }
          ],
          "pie": [
           {
            "automargin": true,
            "type": "pie"
           }
          ],
          "scatter": [
           {
            "fillpattern": {
             "fillmode": "overlay",
             "size": 10,
             "solidity": 0.2
            },
            "type": "scatter"
           }
          ],
          "scatter3d": [
           {
            "line": {
             "colorbar": {
              "outlinewidth": 0,
              "ticks": ""
             }
            },
            "marker": {
             "colorbar": {
              "outlinewidth": 0,
              "ticks": ""
             }
            },
            "type": "scatter3d"
           }
          ],
          "scattercarpet": [
           {
            "marker": {
             "colorbar": {
              "outlinewidth": 0,
              "ticks": ""
             }
            },
            "type": "scattercarpet"
           }
          ],
          "scattergeo": [
           {
            "marker": {
             "colorbar": {
              "outlinewidth": 0,
              "ticks": ""
             }
            },
            "type": "scattergeo"
           }
          ],
          "scattergl": [
           {
            "marker": {
             "colorbar": {
              "outlinewidth": 0,
              "ticks": ""
             }
            },
            "type": "scattergl"
           }
          ],
          "scattermapbox": [
           {
            "marker": {
             "colorbar": {
              "outlinewidth": 0,
              "ticks": ""
             }
            },
            "type": "scattermapbox"
           }
          ],
          "scatterpolar": [
           {
            "marker": {
             "colorbar": {
              "outlinewidth": 0,
              "ticks": ""
             }
            },
            "type": "scatterpolar"
           }
          ],
          "scatterpolargl": [
           {
            "marker": {
             "colorbar": {
              "outlinewidth": 0,
              "ticks": ""
             }
            },
            "type": "scatterpolargl"
           }
          ],
          "scatterternary": [
           {
            "marker": {
             "colorbar": {
              "outlinewidth": 0,
              "ticks": ""
             }
            },
            "type": "scatterternary"
           }
          ],
          "surface": [
           {
            "colorbar": {
             "outlinewidth": 0,
             "ticks": ""
            },
            "colorscale": [
             [
              0,
              "#0d0887"
             ],
             [
              0.1111111111111111,
              "#46039f"
             ],
             [
              0.2222222222222222,
              "#7201a8"
             ],
             [
              0.3333333333333333,
              "#9c179e"
             ],
             [
              0.4444444444444444,
              "#bd3786"
             ],
             [
              0.5555555555555556,
              "#d8576b"
             ],
             [
              0.6666666666666666,
              "#ed7953"
             ],
             [
              0.7777777777777778,
              "#fb9f3a"
             ],
             [
              0.8888888888888888,
              "#fdca26"
             ],
             [
              1,
              "#f0f921"
             ]
            ],
            "type": "surface"
           }
          ],
          "table": [
           {
            "cells": {
             "fill": {
              "color": "#EBF0F8"
             },
             "line": {
              "color": "white"
             }
            },
            "header": {
             "fill": {
              "color": "#C8D4E3"
             },
             "line": {
              "color": "white"
             }
            },
            "type": "table"
           }
          ]
         },
         "layout": {
          "annotationdefaults": {
           "arrowcolor": "#2a3f5f",
           "arrowhead": 0,
           "arrowwidth": 1
          },
          "autotypenumbers": "strict",
          "coloraxis": {
           "colorbar": {
            "outlinewidth": 0,
            "ticks": ""
           }
          },
          "colorscale": {
           "diverging": [
            [
             0,
             "#8e0152"
            ],
            [
             0.1,
             "#c51b7d"
            ],
            [
             0.2,
             "#de77ae"
            ],
            [
             0.3,
             "#f1b6da"
            ],
            [
             0.4,
             "#fde0ef"
            ],
            [
             0.5,
             "#f7f7f7"
            ],
            [
             0.6,
             "#e6f5d0"
            ],
            [
             0.7,
             "#b8e186"
            ],
            [
             0.8,
             "#7fbc41"
            ],
            [
             0.9,
             "#4d9221"
            ],
            [
             1,
             "#276419"
            ]
           ],
           "sequential": [
            [
             0,
             "#0d0887"
            ],
            [
             0.1111111111111111,
             "#46039f"
            ],
            [
             0.2222222222222222,
             "#7201a8"
            ],
            [
             0.3333333333333333,
             "#9c179e"
            ],
            [
             0.4444444444444444,
             "#bd3786"
            ],
            [
             0.5555555555555556,
             "#d8576b"
            ],
            [
             0.6666666666666666,
             "#ed7953"
            ],
            [
             0.7777777777777778,
             "#fb9f3a"
            ],
            [
             0.8888888888888888,
             "#fdca26"
            ],
            [
             1,
             "#f0f921"
            ]
           ],
           "sequentialminus": [
            [
             0,
             "#0d0887"
            ],
            [
             0.1111111111111111,
             "#46039f"
            ],
            [
             0.2222222222222222,
             "#7201a8"
            ],
            [
             0.3333333333333333,
             "#9c179e"
            ],
            [
             0.4444444444444444,
             "#bd3786"
            ],
            [
             0.5555555555555556,
             "#d8576b"
            ],
            [
             0.6666666666666666,
             "#ed7953"
            ],
            [
             0.7777777777777778,
             "#fb9f3a"
            ],
            [
             0.8888888888888888,
             "#fdca26"
            ],
            [
             1,
             "#f0f921"
            ]
           ]
          },
          "colorway": [
           "#636efa",
           "#EF553B",
           "#00cc96",
           "#ab63fa",
           "#FFA15A",
           "#19d3f3",
           "#FF6692",
           "#B6E880",
           "#FF97FF",
           "#FECB52"
          ],
          "font": {
           "color": "#2a3f5f"
          },
          "geo": {
           "bgcolor": "white",
           "lakecolor": "white",
           "landcolor": "#E5ECF6",
           "showlakes": true,
           "showland": true,
           "subunitcolor": "white"
          },
          "hoverlabel": {
           "align": "left"
          },
          "hovermode": "closest",
          "mapbox": {
           "style": "light"
          },
          "paper_bgcolor": "white",
          "plot_bgcolor": "#E5ECF6",
          "polar": {
           "angularaxis": {
            "gridcolor": "white",
            "linecolor": "white",
            "ticks": ""
           },
           "bgcolor": "#E5ECF6",
           "radialaxis": {
            "gridcolor": "white",
            "linecolor": "white",
            "ticks": ""
           }
          },
          "scene": {
           "xaxis": {
            "backgroundcolor": "#E5ECF6",
            "gridcolor": "white",
            "gridwidth": 2,
            "linecolor": "white",
            "showbackground": true,
            "ticks": "",
            "zerolinecolor": "white"
           },
           "yaxis": {
            "backgroundcolor": "#E5ECF6",
            "gridcolor": "white",
            "gridwidth": 2,
            "linecolor": "white",
            "showbackground": true,
            "ticks": "",
            "zerolinecolor": "white"
           },
           "zaxis": {
            "backgroundcolor": "#E5ECF6",
            "gridcolor": "white",
            "gridwidth": 2,
            "linecolor": "white",
            "showbackground": true,
            "ticks": "",
            "zerolinecolor": "white"
           }
          },
          "shapedefaults": {
           "line": {
            "color": "#2a3f5f"
           }
          },
          "ternary": {
           "aaxis": {
            "gridcolor": "white",
            "linecolor": "white",
            "ticks": ""
           },
           "baxis": {
            "gridcolor": "white",
            "linecolor": "white",
            "ticks": ""
           },
           "bgcolor": "#E5ECF6",
           "caxis": {
            "gridcolor": "white",
            "linecolor": "white",
            "ticks": ""
           }
          },
          "title": {
           "x": 0.05
          },
          "xaxis": {
           "automargin": true,
           "gridcolor": "white",
           "linecolor": "white",
           "ticks": "",
           "title": {
            "standoff": 15
           },
           "zerolinecolor": "white",
           "zerolinewidth": 2
          },
          "yaxis": {
           "automargin": true,
           "gridcolor": "white",
           "linecolor": "white",
           "ticks": "",
           "title": {
            "standoff": 15
           },
           "zerolinecolor": "white",
           "zerolinewidth": 2
          }
         }
        },
        "xaxis": {
         "anchor": "y",
         "domain": [
          0,
          1
         ],
         "title": {
          "text": "index"
         }
        },
        "yaxis": {
         "anchor": "x",
         "domain": [
          0,
          1
         ],
         "title": {
          "text": "value"
         }
        }
       }
      },
      "text/html": [
       "<div>                            <div id=\"67f55824-0269-4dbf-81bf-a853dc3b0d89\" class=\"plotly-graph-div\" style=\"height:525px; width:100%;\"></div>            <script type=\"text/javascript\">                require([\"plotly\"], function(Plotly) {                    window.PLOTLYENV=window.PLOTLYENV || {};                                    if (document.getElementById(\"67f55824-0269-4dbf-81bf-a853dc3b0d89\")) {                    Plotly.newPlot(                        \"67f55824-0269-4dbf-81bf-a853dc3b0d89\",                        [{\"hovertemplate\":\"variable=0<br>index=%{x}<br>value=%{y}<extra></extra>\",\"legendgroup\":\"0\",\"line\":{\"color\":\"#636efa\",\"dash\":\"solid\"},\"marker\":{\"symbol\":\"circle\"},\"mode\":\"lines\",\"name\":\"0\",\"orientation\":\"v\",\"showlegend\":true,\"x\":[0,1,2,3,4,5,6,7,8,9,10,11,12,13,14,15,16,17,18,19,20,21,22,23,24,25,26,27,28,29,30,31,32,33,34,35,36,37,38,39,40,41,42,43,44,45,46,47,48,49,50,51,52,53,54,55,56,57,58,59,60,61,62,63,64,65,66,67,68,69,70,71,72,73,74,75,76,77,78,79,80,81,82,83,84,85,86,87,88,89,90,91,92,93,94,95,96,97,98,99,100,101,102,103,104,105,106,107,108,109,110,111,112,113,114,115,116,117,118,119,120,121,122,123,124,125,126,127,128,129,130,131,132,133],\"xaxis\":\"x\",\"y\":[0.11251763999462128,0.08754405379295349,0.09551005065441132,0.01269693486392498,0.0027964937034994364,0.02710716612637043,0.013516653329133987,0.016266651451587677,0.051674798130989075,0.04144909605383873,0.06887425482273102,0.11813285946846008,0.050815850496292114,0.01051172986626625,0.014912388287484646,0.033240363001823425,0.09739265590906143,0.03570796549320221,0.001000358723104,0.007135906256735325,0.05371367186307907,0.08504780381917953,0.12465737015008926,0.04075614735484123,0.027898773550987244,0.06823934614658356,0.007296237628906965,0.03136961907148361,0.03610130771994591,0.027185942977666855,0.08730291575193405,0.02849648892879486,0.004916924983263016,0.008959832601249218,0.02972077578306198,0.10850092023611069,0.03605834022164345,0.06885650753974915,0.06955704838037491,0.020238157361745834,0.0038258188869804144,0.009791949763894081,0.06977745145559311,0.04489044100046158,0.08108891546726227,0.019078537821769714,0.022578135132789612,0.012932942248880863,0.013262261636555195,0.027156013995409012,0.03049442730844021,0.01605180837213993,0.030935443937778473,0.019906165078282356,0.014340328052639961,0.08363112062215805,0.0012840377166867256,0.0209396593272686,0.02673199214041233,0.035190630704164505,0.0746384784579277,0.13425478339195251,0.03772161528468132,0.06976088136434555,0.09210237115621567,0.10728486627340317,0.06846059858798981,0.020442740991711617,0.08609786629676819,0.07392062246799469,0.005405400414019823,0.03440500795841217,0.05406821891665459,0.013047311455011368,0.035672370344400406,0.002536971354857087,0.01494488213211298,0.03205754607915878,0.04973115772008896,0.020217422395944595,0.0016243670834228396,0.002480320865288377,0.0406389981508255,0.020265841856598854,0.011754616163671017,0.08289466798305511,0.018876733258366585,0.053165875375270844,0.03731084614992142,0.049872782081365585,0.0034762972500175238,0.07230009883642197,0.08628855645656586,0.00933415163308382,0.06703237444162369,0.03377319499850273,0.01718759350478649,0.045754093676805496,0.046288955956697464,0.07073772698640823,0.0617671012878418,0.03554624319076538,0.01976454071700573,0.00883755274116993,0.054744601249694824,0.02152850106358528,0.00946273747831583,0.021564096212387085,0.09605399519205093,0.045966796576976776,0.03696442395448685,0.06624867022037506,0.0025567454285919666,0.05011124908924103,0.009538092650473118,0.02552608959376812,0.06570279598236084,0.01998836174607277,0.012772610411047935,0.029878221452236176,0.11780300736427307,0.04007880017161369,0.0035686478950083256,0.0689111277461052,0.02105734311044216,0.03684503212571144,0.002151535591110587,0.0839262381196022,0.040714994072914124,0.006003755610436201,0.025229262188076973,0.06490552425384521,0.008200290612876415,0.034118764102458954],\"yaxis\":\"y\",\"type\":\"scatter\"}],                        {\"template\":{\"data\":{\"histogram2dcontour\":[{\"type\":\"histogram2dcontour\",\"colorbar\":{\"outlinewidth\":0,\"ticks\":\"\"},\"colorscale\":[[0.0,\"#0d0887\"],[0.1111111111111111,\"#46039f\"],[0.2222222222222222,\"#7201a8\"],[0.3333333333333333,\"#9c179e\"],[0.4444444444444444,\"#bd3786\"],[0.5555555555555556,\"#d8576b\"],[0.6666666666666666,\"#ed7953\"],[0.7777777777777778,\"#fb9f3a\"],[0.8888888888888888,\"#fdca26\"],[1.0,\"#f0f921\"]]}],\"choropleth\":[{\"type\":\"choropleth\",\"colorbar\":{\"outlinewidth\":0,\"ticks\":\"\"}}],\"histogram2d\":[{\"type\":\"histogram2d\",\"colorbar\":{\"outlinewidth\":0,\"ticks\":\"\"},\"colorscale\":[[0.0,\"#0d0887\"],[0.1111111111111111,\"#46039f\"],[0.2222222222222222,\"#7201a8\"],[0.3333333333333333,\"#9c179e\"],[0.4444444444444444,\"#bd3786\"],[0.5555555555555556,\"#d8576b\"],[0.6666666666666666,\"#ed7953\"],[0.7777777777777778,\"#fb9f3a\"],[0.8888888888888888,\"#fdca26\"],[1.0,\"#f0f921\"]]}],\"heatmap\":[{\"type\":\"heatmap\",\"colorbar\":{\"outlinewidth\":0,\"ticks\":\"\"},\"colorscale\":[[0.0,\"#0d0887\"],[0.1111111111111111,\"#46039f\"],[0.2222222222222222,\"#7201a8\"],[0.3333333333333333,\"#9c179e\"],[0.4444444444444444,\"#bd3786\"],[0.5555555555555556,\"#d8576b\"],[0.6666666666666666,\"#ed7953\"],[0.7777777777777778,\"#fb9f3a\"],[0.8888888888888888,\"#fdca26\"],[1.0,\"#f0f921\"]]}],\"heatmapgl\":[{\"type\":\"heatmapgl\",\"colorbar\":{\"outlinewidth\":0,\"ticks\":\"\"},\"colorscale\":[[0.0,\"#0d0887\"],[0.1111111111111111,\"#46039f\"],[0.2222222222222222,\"#7201a8\"],[0.3333333333333333,\"#9c179e\"],[0.4444444444444444,\"#bd3786\"],[0.5555555555555556,\"#d8576b\"],[0.6666666666666666,\"#ed7953\"],[0.7777777777777778,\"#fb9f3a\"],[0.8888888888888888,\"#fdca26\"],[1.0,\"#f0f921\"]]}],\"contourcarpet\":[{\"type\":\"contourcarpet\",\"colorbar\":{\"outlinewidth\":0,\"ticks\":\"\"}}],\"contour\":[{\"type\":\"contour\",\"colorbar\":{\"outlinewidth\":0,\"ticks\":\"\"},\"colorscale\":[[0.0,\"#0d0887\"],[0.1111111111111111,\"#46039f\"],[0.2222222222222222,\"#7201a8\"],[0.3333333333333333,\"#9c179e\"],[0.4444444444444444,\"#bd3786\"],[0.5555555555555556,\"#d8576b\"],[0.6666666666666666,\"#ed7953\"],[0.7777777777777778,\"#fb9f3a\"],[0.8888888888888888,\"#fdca26\"],[1.0,\"#f0f921\"]]}],\"surface\":[{\"type\":\"surface\",\"colorbar\":{\"outlinewidth\":0,\"ticks\":\"\"},\"colorscale\":[[0.0,\"#0d0887\"],[0.1111111111111111,\"#46039f\"],[0.2222222222222222,\"#7201a8\"],[0.3333333333333333,\"#9c179e\"],[0.4444444444444444,\"#bd3786\"],[0.5555555555555556,\"#d8576b\"],[0.6666666666666666,\"#ed7953\"],[0.7777777777777778,\"#fb9f3a\"],[0.8888888888888888,\"#fdca26\"],[1.0,\"#f0f921\"]]}],\"mesh3d\":[{\"type\":\"mesh3d\",\"colorbar\":{\"outlinewidth\":0,\"ticks\":\"\"}}],\"scatter\":[{\"fillpattern\":{\"fillmode\":\"overlay\",\"size\":10,\"solidity\":0.2},\"type\":\"scatter\"}],\"parcoords\":[{\"type\":\"parcoords\",\"line\":{\"colorbar\":{\"outlinewidth\":0,\"ticks\":\"\"}}}],\"scatterpolargl\":[{\"type\":\"scatterpolargl\",\"marker\":{\"colorbar\":{\"outlinewidth\":0,\"ticks\":\"\"}}}],\"bar\":[{\"error_x\":{\"color\":\"#2a3f5f\"},\"error_y\":{\"color\":\"#2a3f5f\"},\"marker\":{\"line\":{\"color\":\"#E5ECF6\",\"width\":0.5},\"pattern\":{\"fillmode\":\"overlay\",\"size\":10,\"solidity\":0.2}},\"type\":\"bar\"}],\"scattergeo\":[{\"type\":\"scattergeo\",\"marker\":{\"colorbar\":{\"outlinewidth\":0,\"ticks\":\"\"}}}],\"scatterpolar\":[{\"type\":\"scatterpolar\",\"marker\":{\"colorbar\":{\"outlinewidth\":0,\"ticks\":\"\"}}}],\"histogram\":[{\"marker\":{\"pattern\":{\"fillmode\":\"overlay\",\"size\":10,\"solidity\":0.2}},\"type\":\"histogram\"}],\"scattergl\":[{\"type\":\"scattergl\",\"marker\":{\"colorbar\":{\"outlinewidth\":0,\"ticks\":\"\"}}}],\"scatter3d\":[{\"type\":\"scatter3d\",\"line\":{\"colorbar\":{\"outlinewidth\":0,\"ticks\":\"\"}},\"marker\":{\"colorbar\":{\"outlinewidth\":0,\"ticks\":\"\"}}}],\"scattermapbox\":[{\"type\":\"scattermapbox\",\"marker\":{\"colorbar\":{\"outlinewidth\":0,\"ticks\":\"\"}}}],\"scatterternary\":[{\"type\":\"scatterternary\",\"marker\":{\"colorbar\":{\"outlinewidth\":0,\"ticks\":\"\"}}}],\"scattercarpet\":[{\"type\":\"scattercarpet\",\"marker\":{\"colorbar\":{\"outlinewidth\":0,\"ticks\":\"\"}}}],\"carpet\":[{\"aaxis\":{\"endlinecolor\":\"#2a3f5f\",\"gridcolor\":\"white\",\"linecolor\":\"white\",\"minorgridcolor\":\"white\",\"startlinecolor\":\"#2a3f5f\"},\"baxis\":{\"endlinecolor\":\"#2a3f5f\",\"gridcolor\":\"white\",\"linecolor\":\"white\",\"minorgridcolor\":\"white\",\"startlinecolor\":\"#2a3f5f\"},\"type\":\"carpet\"}],\"table\":[{\"cells\":{\"fill\":{\"color\":\"#EBF0F8\"},\"line\":{\"color\":\"white\"}},\"header\":{\"fill\":{\"color\":\"#C8D4E3\"},\"line\":{\"color\":\"white\"}},\"type\":\"table\"}],\"barpolar\":[{\"marker\":{\"line\":{\"color\":\"#E5ECF6\",\"width\":0.5},\"pattern\":{\"fillmode\":\"overlay\",\"size\":10,\"solidity\":0.2}},\"type\":\"barpolar\"}],\"pie\":[{\"automargin\":true,\"type\":\"pie\"}]},\"layout\":{\"autotypenumbers\":\"strict\",\"colorway\":[\"#636efa\",\"#EF553B\",\"#00cc96\",\"#ab63fa\",\"#FFA15A\",\"#19d3f3\",\"#FF6692\",\"#B6E880\",\"#FF97FF\",\"#FECB52\"],\"font\":{\"color\":\"#2a3f5f\"},\"hovermode\":\"closest\",\"hoverlabel\":{\"align\":\"left\"},\"paper_bgcolor\":\"white\",\"plot_bgcolor\":\"#E5ECF6\",\"polar\":{\"bgcolor\":\"#E5ECF6\",\"angularaxis\":{\"gridcolor\":\"white\",\"linecolor\":\"white\",\"ticks\":\"\"},\"radialaxis\":{\"gridcolor\":\"white\",\"linecolor\":\"white\",\"ticks\":\"\"}},\"ternary\":{\"bgcolor\":\"#E5ECF6\",\"aaxis\":{\"gridcolor\":\"white\",\"linecolor\":\"white\",\"ticks\":\"\"},\"baxis\":{\"gridcolor\":\"white\",\"linecolor\":\"white\",\"ticks\":\"\"},\"caxis\":{\"gridcolor\":\"white\",\"linecolor\":\"white\",\"ticks\":\"\"}},\"coloraxis\":{\"colorbar\":{\"outlinewidth\":0,\"ticks\":\"\"}},\"colorscale\":{\"sequential\":[[0.0,\"#0d0887\"],[0.1111111111111111,\"#46039f\"],[0.2222222222222222,\"#7201a8\"],[0.3333333333333333,\"#9c179e\"],[0.4444444444444444,\"#bd3786\"],[0.5555555555555556,\"#d8576b\"],[0.6666666666666666,\"#ed7953\"],[0.7777777777777778,\"#fb9f3a\"],[0.8888888888888888,\"#fdca26\"],[1.0,\"#f0f921\"]],\"sequentialminus\":[[0.0,\"#0d0887\"],[0.1111111111111111,\"#46039f\"],[0.2222222222222222,\"#7201a8\"],[0.3333333333333333,\"#9c179e\"],[0.4444444444444444,\"#bd3786\"],[0.5555555555555556,\"#d8576b\"],[0.6666666666666666,\"#ed7953\"],[0.7777777777777778,\"#fb9f3a\"],[0.8888888888888888,\"#fdca26\"],[1.0,\"#f0f921\"]],\"diverging\":[[0,\"#8e0152\"],[0.1,\"#c51b7d\"],[0.2,\"#de77ae\"],[0.3,\"#f1b6da\"],[0.4,\"#fde0ef\"],[0.5,\"#f7f7f7\"],[0.6,\"#e6f5d0\"],[0.7,\"#b8e186\"],[0.8,\"#7fbc41\"],[0.9,\"#4d9221\"],[1,\"#276419\"]]},\"xaxis\":{\"gridcolor\":\"white\",\"linecolor\":\"white\",\"ticks\":\"\",\"title\":{\"standoff\":15},\"zerolinecolor\":\"white\",\"automargin\":true,\"zerolinewidth\":2},\"yaxis\":{\"gridcolor\":\"white\",\"linecolor\":\"white\",\"ticks\":\"\",\"title\":{\"standoff\":15},\"zerolinecolor\":\"white\",\"automargin\":true,\"zerolinewidth\":2},\"scene\":{\"xaxis\":{\"backgroundcolor\":\"#E5ECF6\",\"gridcolor\":\"white\",\"linecolor\":\"white\",\"showbackground\":true,\"ticks\":\"\",\"zerolinecolor\":\"white\",\"gridwidth\":2},\"yaxis\":{\"backgroundcolor\":\"#E5ECF6\",\"gridcolor\":\"white\",\"linecolor\":\"white\",\"showbackground\":true,\"ticks\":\"\",\"zerolinecolor\":\"white\",\"gridwidth\":2},\"zaxis\":{\"backgroundcolor\":\"#E5ECF6\",\"gridcolor\":\"white\",\"linecolor\":\"white\",\"showbackground\":true,\"ticks\":\"\",\"zerolinecolor\":\"white\",\"gridwidth\":2}},\"shapedefaults\":{\"line\":{\"color\":\"#2a3f5f\"}},\"annotationdefaults\":{\"arrowcolor\":\"#2a3f5f\",\"arrowhead\":0,\"arrowwidth\":1},\"geo\":{\"bgcolor\":\"white\",\"landcolor\":\"#E5ECF6\",\"subunitcolor\":\"white\",\"showland\":true,\"showlakes\":true,\"lakecolor\":\"white\"},\"title\":{\"x\":0.05},\"mapbox\":{\"style\":\"light\"}}},\"xaxis\":{\"anchor\":\"y\",\"domain\":[0.0,1.0],\"title\":{\"text\":\"index\"}},\"yaxis\":{\"anchor\":\"x\",\"domain\":[0.0,1.0],\"title\":{\"text\":\"value\"}},\"legend\":{\"title\":{\"text\":\"variable\"},\"tracegroupgap\":0},\"margin\":{\"t\":60}},                        {\"responsive\": true}                    ).then(function(){\n",
       "                            \n",
       "var gd = document.getElementById('67f55824-0269-4dbf-81bf-a853dc3b0d89');\n",
       "var x = new MutationObserver(function (mutations, observer) {{\n",
       "        var display = window.getComputedStyle(gd).display;\n",
       "        if (!display || display === 'none') {{\n",
       "            console.log([gd, 'removed!']);\n",
       "            Plotly.purge(gd);\n",
       "            observer.disconnect();\n",
       "        }}\n",
       "}});\n",
       "\n",
       "// Listen for the removal of the full notebook cells\n",
       "var notebookContainer = gd.closest('#notebook-container');\n",
       "if (notebookContainer) {{\n",
       "    x.observe(notebookContainer, {childList: true});\n",
       "}}\n",
       "\n",
       "// Listen for the clearing of the current output cell\n",
       "var outputEl = gd.closest('.output');\n",
       "if (outputEl) {{\n",
       "    x.observe(outputEl, {childList: true});\n",
       "}}\n",
       "\n",
       "                        })                };                });            </script>        </div>"
      ]
     },
     "metadata": {},
     "output_type": "display_data"
    }
   ],
   "source": [
    "px.line(val_losses)"
   ]
  },
  {
   "attachments": {},
   "cell_type": "markdown",
   "metadata": {},
   "source": [
    "### Random test sample"
   ]
  },
  {
   "cell_type": "code",
   "execution_count": 324,
   "metadata": {},
   "outputs": [
    {
     "data": {
      "application/vnd.plotly.v1+json": {
       "config": {
        "plotlyServerURL": "https://plot.ly"
       },
       "data": [
        {
         "hovertemplate": "variable=ground_truth<br>vehicle_count=%{x}<br>value=%{y}<extra></extra>",
         "legendgroup": "ground_truth",
         "marker": {
          "color": "#636efa",
          "symbol": "circle"
         },
         "mode": "markers",
         "name": "ground_truth",
         "orientation": "v",
         "showlegend": true,
         "type": "scatter",
         "x": [
          1.5229007005691528,
          0.6437003016471863,
          0.08896670490503311,
          1.0152671337127686,
          0.32970014214515686,
          0.17793340981006622,
          1.2455339431762695,
          0.21980009973049164,
          0.35586681962013245,
          1.261233925819397,
          0.12560005486011505,
          0.16746674478054047,
          0.40296685695648193,
          0.10990004986524582,
          0.47100022435188293,
          1.3973006010055542,
          1.161800503730774,
          1.8787676095962524,
          0.12560005486011505,
          0.10990004986524582
         ],
         "xaxis": "x",
         "y": [
          18272.7421875,
          18272.7421875,
          18272.7421875,
          18272.7421875,
          18272.7421875,
          18272.7421875,
          18272.7421875,
          18272.7421875,
          18272.7421875,
          18272.7421875,
          18272.7421875,
          18272.7421875,
          18272.7421875,
          18272.7421875,
          18272.7421875,
          18272.7421875,
          18272.7421875,
          18272.7421875,
          18272.7421875,
          18272.7421875
         ],
         "yaxis": "y"
        },
        {
         "hovertemplate": "variable=predictions<br>vehicle_count=%{x}<br>value=%{y}<extra></extra>",
         "legendgroup": "predictions",
         "marker": {
          "color": "#EF553B",
          "symbol": "circle"
         },
         "mode": "markers",
         "name": "predictions",
         "orientation": "v",
         "showlegend": true,
         "type": "scatter",
         "x": [
          1.5229007005691528,
          0.6437003016471863,
          0.08896670490503311,
          1.0152671337127686,
          0.32970014214515686,
          0.17793340981006622,
          1.2455339431762695,
          0.21980009973049164,
          0.35586681962013245,
          1.261233925819397,
          0.12560005486011505,
          0.16746674478054047,
          0.40296685695648193,
          0.10990004986524582,
          0.47100022435188293,
          1.3973006010055542,
          1.161800503730774,
          1.8787676095962524,
          0.12560005486011505,
          0.10990004986524582
         ],
         "xaxis": "x",
         "y": [
          18643.0546875,
          18036.421875,
          16791.025390625,
          18233.427734375,
          19787.455078125,
          17583.46484375,
          18655.3671875,
          17144.087890625,
          18173.970703125,
          20431.353515625,
          18182.896484375,
          16980.169921875,
          18642.169921875,
          17762.955078125,
          19005.091796875,
          19201.287109375,
          19531.9375,
          20027.912109375,
          18182.896484375,
          17762.955078125
         ],
         "yaxis": "y"
        }
       ],
       "layout": {
        "legend": {
         "title": {
          "text": "variable"
         },
         "tracegroupgap": 0
        },
        "margin": {
         "t": 60
        },
        "template": {
         "data": {
          "bar": [
           {
            "error_x": {
             "color": "#2a3f5f"
            },
            "error_y": {
             "color": "#2a3f5f"
            },
            "marker": {
             "line": {
              "color": "#E5ECF6",
              "width": 0.5
             },
             "pattern": {
              "fillmode": "overlay",
              "size": 10,
              "solidity": 0.2
             }
            },
            "type": "bar"
           }
          ],
          "barpolar": [
           {
            "marker": {
             "line": {
              "color": "#E5ECF6",
              "width": 0.5
             },
             "pattern": {
              "fillmode": "overlay",
              "size": 10,
              "solidity": 0.2
             }
            },
            "type": "barpolar"
           }
          ],
          "carpet": [
           {
            "aaxis": {
             "endlinecolor": "#2a3f5f",
             "gridcolor": "white",
             "linecolor": "white",
             "minorgridcolor": "white",
             "startlinecolor": "#2a3f5f"
            },
            "baxis": {
             "endlinecolor": "#2a3f5f",
             "gridcolor": "white",
             "linecolor": "white",
             "minorgridcolor": "white",
             "startlinecolor": "#2a3f5f"
            },
            "type": "carpet"
           }
          ],
          "choropleth": [
           {
            "colorbar": {
             "outlinewidth": 0,
             "ticks": ""
            },
            "type": "choropleth"
           }
          ],
          "contour": [
           {
            "colorbar": {
             "outlinewidth": 0,
             "ticks": ""
            },
            "colorscale": [
             [
              0,
              "#0d0887"
             ],
             [
              0.1111111111111111,
              "#46039f"
             ],
             [
              0.2222222222222222,
              "#7201a8"
             ],
             [
              0.3333333333333333,
              "#9c179e"
             ],
             [
              0.4444444444444444,
              "#bd3786"
             ],
             [
              0.5555555555555556,
              "#d8576b"
             ],
             [
              0.6666666666666666,
              "#ed7953"
             ],
             [
              0.7777777777777778,
              "#fb9f3a"
             ],
             [
              0.8888888888888888,
              "#fdca26"
             ],
             [
              1,
              "#f0f921"
             ]
            ],
            "type": "contour"
           }
          ],
          "contourcarpet": [
           {
            "colorbar": {
             "outlinewidth": 0,
             "ticks": ""
            },
            "type": "contourcarpet"
           }
          ],
          "heatmap": [
           {
            "colorbar": {
             "outlinewidth": 0,
             "ticks": ""
            },
            "colorscale": [
             [
              0,
              "#0d0887"
             ],
             [
              0.1111111111111111,
              "#46039f"
             ],
             [
              0.2222222222222222,
              "#7201a8"
             ],
             [
              0.3333333333333333,
              "#9c179e"
             ],
             [
              0.4444444444444444,
              "#bd3786"
             ],
             [
              0.5555555555555556,
              "#d8576b"
             ],
             [
              0.6666666666666666,
              "#ed7953"
             ],
             [
              0.7777777777777778,
              "#fb9f3a"
             ],
             [
              0.8888888888888888,
              "#fdca26"
             ],
             [
              1,
              "#f0f921"
             ]
            ],
            "type": "heatmap"
           }
          ],
          "heatmapgl": [
           {
            "colorbar": {
             "outlinewidth": 0,
             "ticks": ""
            },
            "colorscale": [
             [
              0,
              "#0d0887"
             ],
             [
              0.1111111111111111,
              "#46039f"
             ],
             [
              0.2222222222222222,
              "#7201a8"
             ],
             [
              0.3333333333333333,
              "#9c179e"
             ],
             [
              0.4444444444444444,
              "#bd3786"
             ],
             [
              0.5555555555555556,
              "#d8576b"
             ],
             [
              0.6666666666666666,
              "#ed7953"
             ],
             [
              0.7777777777777778,
              "#fb9f3a"
             ],
             [
              0.8888888888888888,
              "#fdca26"
             ],
             [
              1,
              "#f0f921"
             ]
            ],
            "type": "heatmapgl"
           }
          ],
          "histogram": [
           {
            "marker": {
             "pattern": {
              "fillmode": "overlay",
              "size": 10,
              "solidity": 0.2
             }
            },
            "type": "histogram"
           }
          ],
          "histogram2d": [
           {
            "colorbar": {
             "outlinewidth": 0,
             "ticks": ""
            },
            "colorscale": [
             [
              0,
              "#0d0887"
             ],
             [
              0.1111111111111111,
              "#46039f"
             ],
             [
              0.2222222222222222,
              "#7201a8"
             ],
             [
              0.3333333333333333,
              "#9c179e"
             ],
             [
              0.4444444444444444,
              "#bd3786"
             ],
             [
              0.5555555555555556,
              "#d8576b"
             ],
             [
              0.6666666666666666,
              "#ed7953"
             ],
             [
              0.7777777777777778,
              "#fb9f3a"
             ],
             [
              0.8888888888888888,
              "#fdca26"
             ],
             [
              1,
              "#f0f921"
             ]
            ],
            "type": "histogram2d"
           }
          ],
          "histogram2dcontour": [
           {
            "colorbar": {
             "outlinewidth": 0,
             "ticks": ""
            },
            "colorscale": [
             [
              0,
              "#0d0887"
             ],
             [
              0.1111111111111111,
              "#46039f"
             ],
             [
              0.2222222222222222,
              "#7201a8"
             ],
             [
              0.3333333333333333,
              "#9c179e"
             ],
             [
              0.4444444444444444,
              "#bd3786"
             ],
             [
              0.5555555555555556,
              "#d8576b"
             ],
             [
              0.6666666666666666,
              "#ed7953"
             ],
             [
              0.7777777777777778,
              "#fb9f3a"
             ],
             [
              0.8888888888888888,
              "#fdca26"
             ],
             [
              1,
              "#f0f921"
             ]
            ],
            "type": "histogram2dcontour"
           }
          ],
          "mesh3d": [
           {
            "colorbar": {
             "outlinewidth": 0,
             "ticks": ""
            },
            "type": "mesh3d"
           }
          ],
          "parcoords": [
           {
            "line": {
             "colorbar": {
              "outlinewidth": 0,
              "ticks": ""
             }
            },
            "type": "parcoords"
           }
          ],
          "pie": [
           {
            "automargin": true,
            "type": "pie"
           }
          ],
          "scatter": [
           {
            "fillpattern": {
             "fillmode": "overlay",
             "size": 10,
             "solidity": 0.2
            },
            "type": "scatter"
           }
          ],
          "scatter3d": [
           {
            "line": {
             "colorbar": {
              "outlinewidth": 0,
              "ticks": ""
             }
            },
            "marker": {
             "colorbar": {
              "outlinewidth": 0,
              "ticks": ""
             }
            },
            "type": "scatter3d"
           }
          ],
          "scattercarpet": [
           {
            "marker": {
             "colorbar": {
              "outlinewidth": 0,
              "ticks": ""
             }
            },
            "type": "scattercarpet"
           }
          ],
          "scattergeo": [
           {
            "marker": {
             "colorbar": {
              "outlinewidth": 0,
              "ticks": ""
             }
            },
            "type": "scattergeo"
           }
          ],
          "scattergl": [
           {
            "marker": {
             "colorbar": {
              "outlinewidth": 0,
              "ticks": ""
             }
            },
            "type": "scattergl"
           }
          ],
          "scattermapbox": [
           {
            "marker": {
             "colorbar": {
              "outlinewidth": 0,
              "ticks": ""
             }
            },
            "type": "scattermapbox"
           }
          ],
          "scatterpolar": [
           {
            "marker": {
             "colorbar": {
              "outlinewidth": 0,
              "ticks": ""
             }
            },
            "type": "scatterpolar"
           }
          ],
          "scatterpolargl": [
           {
            "marker": {
             "colorbar": {
              "outlinewidth": 0,
              "ticks": ""
             }
            },
            "type": "scatterpolargl"
           }
          ],
          "scatterternary": [
           {
            "marker": {
             "colorbar": {
              "outlinewidth": 0,
              "ticks": ""
             }
            },
            "type": "scatterternary"
           }
          ],
          "surface": [
           {
            "colorbar": {
             "outlinewidth": 0,
             "ticks": ""
            },
            "colorscale": [
             [
              0,
              "#0d0887"
             ],
             [
              0.1111111111111111,
              "#46039f"
             ],
             [
              0.2222222222222222,
              "#7201a8"
             ],
             [
              0.3333333333333333,
              "#9c179e"
             ],
             [
              0.4444444444444444,
              "#bd3786"
             ],
             [
              0.5555555555555556,
              "#d8576b"
             ],
             [
              0.6666666666666666,
              "#ed7953"
             ],
             [
              0.7777777777777778,
              "#fb9f3a"
             ],
             [
              0.8888888888888888,
              "#fdca26"
             ],
             [
              1,
              "#f0f921"
             ]
            ],
            "type": "surface"
           }
          ],
          "table": [
           {
            "cells": {
             "fill": {
              "color": "#EBF0F8"
             },
             "line": {
              "color": "white"
             }
            },
            "header": {
             "fill": {
              "color": "#C8D4E3"
             },
             "line": {
              "color": "white"
             }
            },
            "type": "table"
           }
          ]
         },
         "layout": {
          "annotationdefaults": {
           "arrowcolor": "#2a3f5f",
           "arrowhead": 0,
           "arrowwidth": 1
          },
          "autotypenumbers": "strict",
          "coloraxis": {
           "colorbar": {
            "outlinewidth": 0,
            "ticks": ""
           }
          },
          "colorscale": {
           "diverging": [
            [
             0,
             "#8e0152"
            ],
            [
             0.1,
             "#c51b7d"
            ],
            [
             0.2,
             "#de77ae"
            ],
            [
             0.3,
             "#f1b6da"
            ],
            [
             0.4,
             "#fde0ef"
            ],
            [
             0.5,
             "#f7f7f7"
            ],
            [
             0.6,
             "#e6f5d0"
            ],
            [
             0.7,
             "#b8e186"
            ],
            [
             0.8,
             "#7fbc41"
            ],
            [
             0.9,
             "#4d9221"
            ],
            [
             1,
             "#276419"
            ]
           ],
           "sequential": [
            [
             0,
             "#0d0887"
            ],
            [
             0.1111111111111111,
             "#46039f"
            ],
            [
             0.2222222222222222,
             "#7201a8"
            ],
            [
             0.3333333333333333,
             "#9c179e"
            ],
            [
             0.4444444444444444,
             "#bd3786"
            ],
            [
             0.5555555555555556,
             "#d8576b"
            ],
            [
             0.6666666666666666,
             "#ed7953"
            ],
            [
             0.7777777777777778,
             "#fb9f3a"
            ],
            [
             0.8888888888888888,
             "#fdca26"
            ],
            [
             1,
             "#f0f921"
            ]
           ],
           "sequentialminus": [
            [
             0,
             "#0d0887"
            ],
            [
             0.1111111111111111,
             "#46039f"
            ],
            [
             0.2222222222222222,
             "#7201a8"
            ],
            [
             0.3333333333333333,
             "#9c179e"
            ],
            [
             0.4444444444444444,
             "#bd3786"
            ],
            [
             0.5555555555555556,
             "#d8576b"
            ],
            [
             0.6666666666666666,
             "#ed7953"
            ],
            [
             0.7777777777777778,
             "#fb9f3a"
            ],
            [
             0.8888888888888888,
             "#fdca26"
            ],
            [
             1,
             "#f0f921"
            ]
           ]
          },
          "colorway": [
           "#636efa",
           "#EF553B",
           "#00cc96",
           "#ab63fa",
           "#FFA15A",
           "#19d3f3",
           "#FF6692",
           "#B6E880",
           "#FF97FF",
           "#FECB52"
          ],
          "font": {
           "color": "#2a3f5f"
          },
          "geo": {
           "bgcolor": "white",
           "lakecolor": "white",
           "landcolor": "#E5ECF6",
           "showlakes": true,
           "showland": true,
           "subunitcolor": "white"
          },
          "hoverlabel": {
           "align": "left"
          },
          "hovermode": "closest",
          "mapbox": {
           "style": "light"
          },
          "paper_bgcolor": "white",
          "plot_bgcolor": "#E5ECF6",
          "polar": {
           "angularaxis": {
            "gridcolor": "white",
            "linecolor": "white",
            "ticks": ""
           },
           "bgcolor": "#E5ECF6",
           "radialaxis": {
            "gridcolor": "white",
            "linecolor": "white",
            "ticks": ""
           }
          },
          "scene": {
           "xaxis": {
            "backgroundcolor": "#E5ECF6",
            "gridcolor": "white",
            "gridwidth": 2,
            "linecolor": "white",
            "showbackground": true,
            "ticks": "",
            "zerolinecolor": "white"
           },
           "yaxis": {
            "backgroundcolor": "#E5ECF6",
            "gridcolor": "white",
            "gridwidth": 2,
            "linecolor": "white",
            "showbackground": true,
            "ticks": "",
            "zerolinecolor": "white"
           },
           "zaxis": {
            "backgroundcolor": "#E5ECF6",
            "gridcolor": "white",
            "gridwidth": 2,
            "linecolor": "white",
            "showbackground": true,
            "ticks": "",
            "zerolinecolor": "white"
           }
          },
          "shapedefaults": {
           "line": {
            "color": "#2a3f5f"
           }
          },
          "ternary": {
           "aaxis": {
            "gridcolor": "white",
            "linecolor": "white",
            "ticks": ""
           },
           "baxis": {
            "gridcolor": "white",
            "linecolor": "white",
            "ticks": ""
           },
           "bgcolor": "#E5ECF6",
           "caxis": {
            "gridcolor": "white",
            "linecolor": "white",
            "ticks": ""
           }
          },
          "title": {
           "x": 0.05
          },
          "xaxis": {
           "automargin": true,
           "gridcolor": "white",
           "linecolor": "white",
           "ticks": "",
           "title": {
            "standoff": 15
           },
           "zerolinecolor": "white",
           "zerolinewidth": 2
          },
          "yaxis": {
           "automargin": true,
           "gridcolor": "white",
           "linecolor": "white",
           "ticks": "",
           "title": {
            "standoff": 15
           },
           "zerolinecolor": "white",
           "zerolinewidth": 2
          }
         }
        },
        "xaxis": {
         "anchor": "y",
         "domain": [
          0,
          1
         ],
         "title": {
          "text": "vehicle_count"
         }
        },
        "yaxis": {
         "anchor": "x",
         "domain": [
          0,
          1
         ],
         "title": {
          "text": "value"
         }
        }
       }
      },
      "text/html": [
       "<div>                            <div id=\"b622fd8c-d60e-46b7-b00a-b6af1930a7bd\" class=\"plotly-graph-div\" style=\"height:525px; width:100%;\"></div>            <script type=\"text/javascript\">                require([\"plotly\"], function(Plotly) {                    window.PLOTLYENV=window.PLOTLYENV || {};                                    if (document.getElementById(\"b622fd8c-d60e-46b7-b00a-b6af1930a7bd\")) {                    Plotly.newPlot(                        \"b622fd8c-d60e-46b7-b00a-b6af1930a7bd\",                        [{\"hovertemplate\":\"variable=ground_truth<br>vehicle_count=%{x}<br>value=%{y}<extra></extra>\",\"legendgroup\":\"ground_truth\",\"marker\":{\"color\":\"#636efa\",\"symbol\":\"circle\"},\"mode\":\"markers\",\"name\":\"ground_truth\",\"orientation\":\"v\",\"showlegend\":true,\"x\":[1.5229007005691528,0.6437003016471863,0.08896670490503311,1.0152671337127686,0.32970014214515686,0.17793340981006622,1.2455339431762695,0.21980009973049164,0.35586681962013245,1.261233925819397,0.12560005486011505,0.16746674478054047,0.40296685695648193,0.10990004986524582,0.47100022435188293,1.3973006010055542,1.161800503730774,1.8787676095962524,0.12560005486011505,0.10990004986524582],\"xaxis\":\"x\",\"y\":[18272.7421875,18272.7421875,18272.7421875,18272.7421875,18272.7421875,18272.7421875,18272.7421875,18272.7421875,18272.7421875,18272.7421875,18272.7421875,18272.7421875,18272.7421875,18272.7421875,18272.7421875,18272.7421875,18272.7421875,18272.7421875,18272.7421875,18272.7421875],\"yaxis\":\"y\",\"type\":\"scatter\"},{\"hovertemplate\":\"variable=predictions<br>vehicle_count=%{x}<br>value=%{y}<extra></extra>\",\"legendgroup\":\"predictions\",\"marker\":{\"color\":\"#EF553B\",\"symbol\":\"circle\"},\"mode\":\"markers\",\"name\":\"predictions\",\"orientation\":\"v\",\"showlegend\":true,\"x\":[1.5229007005691528,0.6437003016471863,0.08896670490503311,1.0152671337127686,0.32970014214515686,0.17793340981006622,1.2455339431762695,0.21980009973049164,0.35586681962013245,1.261233925819397,0.12560005486011505,0.16746674478054047,0.40296685695648193,0.10990004986524582,0.47100022435188293,1.3973006010055542,1.161800503730774,1.8787676095962524,0.12560005486011505,0.10990004986524582],\"xaxis\":\"x\",\"y\":[18643.0546875,18036.421875,16791.025390625,18233.427734375,19787.455078125,17583.46484375,18655.3671875,17144.087890625,18173.970703125,20431.353515625,18182.896484375,16980.169921875,18642.169921875,17762.955078125,19005.091796875,19201.287109375,19531.9375,20027.912109375,18182.896484375,17762.955078125],\"yaxis\":\"y\",\"type\":\"scatter\"}],                        {\"template\":{\"data\":{\"histogram2dcontour\":[{\"type\":\"histogram2dcontour\",\"colorbar\":{\"outlinewidth\":0,\"ticks\":\"\"},\"colorscale\":[[0.0,\"#0d0887\"],[0.1111111111111111,\"#46039f\"],[0.2222222222222222,\"#7201a8\"],[0.3333333333333333,\"#9c179e\"],[0.4444444444444444,\"#bd3786\"],[0.5555555555555556,\"#d8576b\"],[0.6666666666666666,\"#ed7953\"],[0.7777777777777778,\"#fb9f3a\"],[0.8888888888888888,\"#fdca26\"],[1.0,\"#f0f921\"]]}],\"choropleth\":[{\"type\":\"choropleth\",\"colorbar\":{\"outlinewidth\":0,\"ticks\":\"\"}}],\"histogram2d\":[{\"type\":\"histogram2d\",\"colorbar\":{\"outlinewidth\":0,\"ticks\":\"\"},\"colorscale\":[[0.0,\"#0d0887\"],[0.1111111111111111,\"#46039f\"],[0.2222222222222222,\"#7201a8\"],[0.3333333333333333,\"#9c179e\"],[0.4444444444444444,\"#bd3786\"],[0.5555555555555556,\"#d8576b\"],[0.6666666666666666,\"#ed7953\"],[0.7777777777777778,\"#fb9f3a\"],[0.8888888888888888,\"#fdca26\"],[1.0,\"#f0f921\"]]}],\"heatmap\":[{\"type\":\"heatmap\",\"colorbar\":{\"outlinewidth\":0,\"ticks\":\"\"},\"colorscale\":[[0.0,\"#0d0887\"],[0.1111111111111111,\"#46039f\"],[0.2222222222222222,\"#7201a8\"],[0.3333333333333333,\"#9c179e\"],[0.4444444444444444,\"#bd3786\"],[0.5555555555555556,\"#d8576b\"],[0.6666666666666666,\"#ed7953\"],[0.7777777777777778,\"#fb9f3a\"],[0.8888888888888888,\"#fdca26\"],[1.0,\"#f0f921\"]]}],\"heatmapgl\":[{\"type\":\"heatmapgl\",\"colorbar\":{\"outlinewidth\":0,\"ticks\":\"\"},\"colorscale\":[[0.0,\"#0d0887\"],[0.1111111111111111,\"#46039f\"],[0.2222222222222222,\"#7201a8\"],[0.3333333333333333,\"#9c179e\"],[0.4444444444444444,\"#bd3786\"],[0.5555555555555556,\"#d8576b\"],[0.6666666666666666,\"#ed7953\"],[0.7777777777777778,\"#fb9f3a\"],[0.8888888888888888,\"#fdca26\"],[1.0,\"#f0f921\"]]}],\"contourcarpet\":[{\"type\":\"contourcarpet\",\"colorbar\":{\"outlinewidth\":0,\"ticks\":\"\"}}],\"contour\":[{\"type\":\"contour\",\"colorbar\":{\"outlinewidth\":0,\"ticks\":\"\"},\"colorscale\":[[0.0,\"#0d0887\"],[0.1111111111111111,\"#46039f\"],[0.2222222222222222,\"#7201a8\"],[0.3333333333333333,\"#9c179e\"],[0.4444444444444444,\"#bd3786\"],[0.5555555555555556,\"#d8576b\"],[0.6666666666666666,\"#ed7953\"],[0.7777777777777778,\"#fb9f3a\"],[0.8888888888888888,\"#fdca26\"],[1.0,\"#f0f921\"]]}],\"surface\":[{\"type\":\"surface\",\"colorbar\":{\"outlinewidth\":0,\"ticks\":\"\"},\"colorscale\":[[0.0,\"#0d0887\"],[0.1111111111111111,\"#46039f\"],[0.2222222222222222,\"#7201a8\"],[0.3333333333333333,\"#9c179e\"],[0.4444444444444444,\"#bd3786\"],[0.5555555555555556,\"#d8576b\"],[0.6666666666666666,\"#ed7953\"],[0.7777777777777778,\"#fb9f3a\"],[0.8888888888888888,\"#fdca26\"],[1.0,\"#f0f921\"]]}],\"mesh3d\":[{\"type\":\"mesh3d\",\"colorbar\":{\"outlinewidth\":0,\"ticks\":\"\"}}],\"scatter\":[{\"fillpattern\":{\"fillmode\":\"overlay\",\"size\":10,\"solidity\":0.2},\"type\":\"scatter\"}],\"parcoords\":[{\"type\":\"parcoords\",\"line\":{\"colorbar\":{\"outlinewidth\":0,\"ticks\":\"\"}}}],\"scatterpolargl\":[{\"type\":\"scatterpolargl\",\"marker\":{\"colorbar\":{\"outlinewidth\":0,\"ticks\":\"\"}}}],\"bar\":[{\"error_x\":{\"color\":\"#2a3f5f\"},\"error_y\":{\"color\":\"#2a3f5f\"},\"marker\":{\"line\":{\"color\":\"#E5ECF6\",\"width\":0.5},\"pattern\":{\"fillmode\":\"overlay\",\"size\":10,\"solidity\":0.2}},\"type\":\"bar\"}],\"scattergeo\":[{\"type\":\"scattergeo\",\"marker\":{\"colorbar\":{\"outlinewidth\":0,\"ticks\":\"\"}}}],\"scatterpolar\":[{\"type\":\"scatterpolar\",\"marker\":{\"colorbar\":{\"outlinewidth\":0,\"ticks\":\"\"}}}],\"histogram\":[{\"marker\":{\"pattern\":{\"fillmode\":\"overlay\",\"size\":10,\"solidity\":0.2}},\"type\":\"histogram\"}],\"scattergl\":[{\"type\":\"scattergl\",\"marker\":{\"colorbar\":{\"outlinewidth\":0,\"ticks\":\"\"}}}],\"scatter3d\":[{\"type\":\"scatter3d\",\"line\":{\"colorbar\":{\"outlinewidth\":0,\"ticks\":\"\"}},\"marker\":{\"colorbar\":{\"outlinewidth\":0,\"ticks\":\"\"}}}],\"scattermapbox\":[{\"type\":\"scattermapbox\",\"marker\":{\"colorbar\":{\"outlinewidth\":0,\"ticks\":\"\"}}}],\"scatterternary\":[{\"type\":\"scatterternary\",\"marker\":{\"colorbar\":{\"outlinewidth\":0,\"ticks\":\"\"}}}],\"scattercarpet\":[{\"type\":\"scattercarpet\",\"marker\":{\"colorbar\":{\"outlinewidth\":0,\"ticks\":\"\"}}}],\"carpet\":[{\"aaxis\":{\"endlinecolor\":\"#2a3f5f\",\"gridcolor\":\"white\",\"linecolor\":\"white\",\"minorgridcolor\":\"white\",\"startlinecolor\":\"#2a3f5f\"},\"baxis\":{\"endlinecolor\":\"#2a3f5f\",\"gridcolor\":\"white\",\"linecolor\":\"white\",\"minorgridcolor\":\"white\",\"startlinecolor\":\"#2a3f5f\"},\"type\":\"carpet\"}],\"table\":[{\"cells\":{\"fill\":{\"color\":\"#EBF0F8\"},\"line\":{\"color\":\"white\"}},\"header\":{\"fill\":{\"color\":\"#C8D4E3\"},\"line\":{\"color\":\"white\"}},\"type\":\"table\"}],\"barpolar\":[{\"marker\":{\"line\":{\"color\":\"#E5ECF6\",\"width\":0.5},\"pattern\":{\"fillmode\":\"overlay\",\"size\":10,\"solidity\":0.2}},\"type\":\"barpolar\"}],\"pie\":[{\"automargin\":true,\"type\":\"pie\"}]},\"layout\":{\"autotypenumbers\":\"strict\",\"colorway\":[\"#636efa\",\"#EF553B\",\"#00cc96\",\"#ab63fa\",\"#FFA15A\",\"#19d3f3\",\"#FF6692\",\"#B6E880\",\"#FF97FF\",\"#FECB52\"],\"font\":{\"color\":\"#2a3f5f\"},\"hovermode\":\"closest\",\"hoverlabel\":{\"align\":\"left\"},\"paper_bgcolor\":\"white\",\"plot_bgcolor\":\"#E5ECF6\",\"polar\":{\"bgcolor\":\"#E5ECF6\",\"angularaxis\":{\"gridcolor\":\"white\",\"linecolor\":\"white\",\"ticks\":\"\"},\"radialaxis\":{\"gridcolor\":\"white\",\"linecolor\":\"white\",\"ticks\":\"\"}},\"ternary\":{\"bgcolor\":\"#E5ECF6\",\"aaxis\":{\"gridcolor\":\"white\",\"linecolor\":\"white\",\"ticks\":\"\"},\"baxis\":{\"gridcolor\":\"white\",\"linecolor\":\"white\",\"ticks\":\"\"},\"caxis\":{\"gridcolor\":\"white\",\"linecolor\":\"white\",\"ticks\":\"\"}},\"coloraxis\":{\"colorbar\":{\"outlinewidth\":0,\"ticks\":\"\"}},\"colorscale\":{\"sequential\":[[0.0,\"#0d0887\"],[0.1111111111111111,\"#46039f\"],[0.2222222222222222,\"#7201a8\"],[0.3333333333333333,\"#9c179e\"],[0.4444444444444444,\"#bd3786\"],[0.5555555555555556,\"#d8576b\"],[0.6666666666666666,\"#ed7953\"],[0.7777777777777778,\"#fb9f3a\"],[0.8888888888888888,\"#fdca26\"],[1.0,\"#f0f921\"]],\"sequentialminus\":[[0.0,\"#0d0887\"],[0.1111111111111111,\"#46039f\"],[0.2222222222222222,\"#7201a8\"],[0.3333333333333333,\"#9c179e\"],[0.4444444444444444,\"#bd3786\"],[0.5555555555555556,\"#d8576b\"],[0.6666666666666666,\"#ed7953\"],[0.7777777777777778,\"#fb9f3a\"],[0.8888888888888888,\"#fdca26\"],[1.0,\"#f0f921\"]],\"diverging\":[[0,\"#8e0152\"],[0.1,\"#c51b7d\"],[0.2,\"#de77ae\"],[0.3,\"#f1b6da\"],[0.4,\"#fde0ef\"],[0.5,\"#f7f7f7\"],[0.6,\"#e6f5d0\"],[0.7,\"#b8e186\"],[0.8,\"#7fbc41\"],[0.9,\"#4d9221\"],[1,\"#276419\"]]},\"xaxis\":{\"gridcolor\":\"white\",\"linecolor\":\"white\",\"ticks\":\"\",\"title\":{\"standoff\":15},\"zerolinecolor\":\"white\",\"automargin\":true,\"zerolinewidth\":2},\"yaxis\":{\"gridcolor\":\"white\",\"linecolor\":\"white\",\"ticks\":\"\",\"title\":{\"standoff\":15},\"zerolinecolor\":\"white\",\"automargin\":true,\"zerolinewidth\":2},\"scene\":{\"xaxis\":{\"backgroundcolor\":\"#E5ECF6\",\"gridcolor\":\"white\",\"linecolor\":\"white\",\"showbackground\":true,\"ticks\":\"\",\"zerolinecolor\":\"white\",\"gridwidth\":2},\"yaxis\":{\"backgroundcolor\":\"#E5ECF6\",\"gridcolor\":\"white\",\"linecolor\":\"white\",\"showbackground\":true,\"ticks\":\"\",\"zerolinecolor\":\"white\",\"gridwidth\":2},\"zaxis\":{\"backgroundcolor\":\"#E5ECF6\",\"gridcolor\":\"white\",\"linecolor\":\"white\",\"showbackground\":true,\"ticks\":\"\",\"zerolinecolor\":\"white\",\"gridwidth\":2}},\"shapedefaults\":{\"line\":{\"color\":\"#2a3f5f\"}},\"annotationdefaults\":{\"arrowcolor\":\"#2a3f5f\",\"arrowhead\":0,\"arrowwidth\":1},\"geo\":{\"bgcolor\":\"white\",\"landcolor\":\"#E5ECF6\",\"subunitcolor\":\"white\",\"showland\":true,\"showlakes\":true,\"lakecolor\":\"white\"},\"title\":{\"x\":0.05},\"mapbox\":{\"style\":\"light\"}}},\"xaxis\":{\"anchor\":\"y\",\"domain\":[0.0,1.0],\"title\":{\"text\":\"vehicle_count\"}},\"yaxis\":{\"anchor\":\"x\",\"domain\":[0.0,1.0],\"title\":{\"text\":\"value\"}},\"legend\":{\"title\":{\"text\":\"variable\"},\"tracegroupgap\":0},\"margin\":{\"t\":60}},                        {\"responsive\": true}                    ).then(function(){\n",
       "                            \n",
       "var gd = document.getElementById('b622fd8c-d60e-46b7-b00a-b6af1930a7bd');\n",
       "var x = new MutationObserver(function (mutations, observer) {{\n",
       "        var display = window.getComputedStyle(gd).display;\n",
       "        if (!display || display === 'none') {{\n",
       "            console.log([gd, 'removed!']);\n",
       "            Plotly.purge(gd);\n",
       "            observer.disconnect();\n",
       "        }}\n",
       "}});\n",
       "\n",
       "// Listen for the removal of the full notebook cells\n",
       "var notebookContainer = gd.closest('#notebook-container');\n",
       "if (notebookContainer) {{\n",
       "    x.observe(notebookContainer, {childList: true});\n",
       "}}\n",
       "\n",
       "// Listen for the clearing of the current output cell\n",
       "var outputEl = gd.closest('.output');\n",
       "if (outputEl) {{\n",
       "    x.observe(outputEl, {childList: true});\n",
       "}}\n",
       "\n",
       "                        })                };                });            </script>        </div>"
      ]
     },
     "metadata": {},
     "output_type": "display_data"
    }
   ],
   "source": [
    "preds = []\n",
    "ground_truth = []\n",
    "vehicle_counts = []\n",
    "\n",
    "\n",
    "for i in range(20):\n",
    "    random_idx = np.random.randint(0,len(val_data))\n",
    "    x, y = val_data[random_idx]\n",
    "    vehicle_counts.append(x[0])\n",
    "    ground_truth.append(float(y))\n",
    "    pred_y = float(nn_model(x)[0])\n",
    "    preds.append(pred_y)\n",
    "\n",
    "df = pd.DataFrame({'vehicle_count': vehicle_counts, 'ground_truth': ground_truth, 'predictions': preds})\n",
    "\n",
    "px.scatter(df, x='vehicle_count', y=['ground_truth', 'predictions'])"
   ]
  },
  {
   "cell_type": "code",
   "execution_count": null,
   "metadata": {},
   "outputs": [],
   "source": []
  },
  {
   "attachments": {},
   "cell_type": "markdown",
   "metadata": {},
   "source": []
  },
  {
   "cell_type": "code",
   "execution_count": null,
   "metadata": {},
   "outputs": [],
   "source": []
  },
  {
   "attachments": {},
   "cell_type": "markdown",
   "metadata": {},
   "source": []
  },
  {
   "cell_type": "code",
   "execution_count": null,
   "metadata": {},
   "outputs": [],
   "source": []
  },
  {
   "attachments": {},
   "cell_type": "markdown",
   "metadata": {},
   "source": [
    "## Save Model"
   ]
  },
  {
   "cell_type": "code",
   "execution_count": 325,
   "metadata": {},
   "outputs": [],
   "source": [
    "torch.save(nn_model.state_dict(), NN_MODEL_PATH)"
   ]
  }
 ],
 "metadata": {
  "kernelspec": {
   "display_name": "Python 3",
   "language": "python",
   "name": "python3"
  },
  "language_info": {
   "codemirror_mode": {
    "name": "ipython",
    "version": 3
   },
   "file_extension": ".py",
   "mimetype": "text/x-python",
   "name": "python",
   "nbconvert_exporter": "python",
   "pygments_lexer": "ipython3",
   "version": "3.8.10"
  },
  "orig_nbformat": 4,
  "vscode": {
   "interpreter": {
    "hash": "31f2aee4e71d21fbe5cf8b01ff0e069b9275f58929596ceb00d14d90e3e16cd6"
   }
  }
 },
 "nbformat": 4,
 "nbformat_minor": 2
}
