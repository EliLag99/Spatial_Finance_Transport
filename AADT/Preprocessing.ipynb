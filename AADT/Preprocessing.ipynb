{
 "cells": [
  {
   "attachments": {},
   "cell_type": "markdown",
   "metadata": {},
   "source": [
    "# Preprocessing"
   ]
  },
  {
   "cell_type": "markdown",
   "metadata": {},
   "source": [
    "## Imports"
   ]
  },
  {
   "cell_type": "code",
   "execution_count": 1,
   "metadata": {},
   "outputs": [],
   "source": [
    "import pandas as pd\n",
    "import geopandas as gpd\n",
    "import numpy as np\n",
    "import os\n",
    "import torch\n",
    "import random\n",
    "import cv2\n",
    "from tqdm import tqdm\n",
    "from matplotlib import pyplot as plt\n",
    "import segmentation_models_pytorch as smp\n",
    "import albumentations as album\n",
    "from PIL import Image\n",
    "import torch.nn as nn\n",
    "from torch.utils.data import Dataset\n",
    "from torch.utils.data import random_split\n",
    "from sklearn.metrics import accuracy_score\n",
    "import plotly.express as px\n",
    "import torchmetrics\n",
    "from torchmetrics import MeanAbsolutePercentageError\n",
    "from glob import glob\n",
    "\n",
    "%matplotlib inline"
   ]
  },
  {
   "cell_type": "markdown",
   "metadata": {},
   "source": [
    "## Global Variables"
   ]
  },
  {
   "cell_type": "code",
   "execution_count": 2,
   "metadata": {},
   "outputs": [],
   "source": [
    "ROOT_DIR_PATH = os.path.abspath('..')\n",
    "\n",
    "AADT_PATH = os.path.join(ROOT_DIR_PATH, 'data/ground_truth_data/')\n",
    "\n",
    "AADT_PROCESSED_PATH = os.path.join(ROOT_DIR_PATH, 'data/ground_truth_data/aadt_processed.csv')\n",
    "\n",
    "NN_MODEL_PATH = os.path.join(ROOT_DIR_PATH, \"models/nn_aadt_model.pth\")"
   ]
  },
  {
   "attachments": {},
   "cell_type": "markdown",
   "metadata": {},
   "source": [
    "## Data"
   ]
  },
  {
   "cell_type": "code",
   "execution_count": 3,
   "metadata": {},
   "outputs": [
    {
     "name": "stdout",
     "output_type": "stream",
     "text": [
      "AADT files: ['/home/ah2719/FYP/Spatial_Finance_Transport/data/ground_truth_data/aadt_site_7810_year_2019.csv', '/home/ah2719/FYP/Spatial_Finance_Transport/data/ground_truth_data/aadt_site_7810_year_2018.csv', '/home/ah2719/FYP/Spatial_Finance_Transport/data/ground_truth_data/aadt_site_4466_year_2018.csv', '/home/ah2719/FYP/Spatial_Finance_Transport/data/ground_truth_data/aadt_site_4466_year_2019.csv', '/home/ah2719/FYP/Spatial_Finance_Transport/data/ground_truth_data/aadt_site_2_year_2018.csv', '/home/ah2719/FYP/Spatial_Finance_Transport/data/ground_truth_data/aadt_site_2_year_2019.csv']\n"
     ]
    }
   ],
   "source": [
    "pattern = os.path.join(ROOT_DIR_PATH, 'data/ground_truth_data/aadt_site_*.csv')\n",
    "\n",
    "aadt_file_paths = [os.path.join(AADT_PATH, os.path.basename(x)) for x in glob(pattern)]\n",
    "print(\"AADT files: {}\".format(aadt_file_paths))\n",
    "\n",
    "df = pd.read_csv(aadt_file_paths[0])\n",
    "\n",
    "for i in range(1, len(aadt_file_paths)):\n",
    "    df_aadt = pd.read_csv(aadt_file_paths[i])\n",
    "    df = pd.concat([df, df_aadt], axis=0, ignore_index=True)"
   ]
  },
  {
   "cell_type": "code",
   "execution_count": 4,
   "metadata": {},
   "outputs": [
    {
     "data": {
      "text/html": [
       "<div>\n",
       "<style scoped>\n",
       "    .dataframe tbody tr th:only-of-type {\n",
       "        vertical-align: middle;\n",
       "    }\n",
       "\n",
       "    .dataframe tbody tr th {\n",
       "        vertical-align: top;\n",
       "    }\n",
       "\n",
       "    .dataframe thead th {\n",
       "        text-align: right;\n",
       "    }\n",
       "</style>\n",
       "<table border=\"1\" class=\"dataframe\">\n",
       "  <thead>\n",
       "    <tr style=\"text-align: right;\">\n",
       "      <th></th>\n",
       "      <th>Unnamed: 0</th>\n",
       "      <th>site_name</th>\n",
       "      <th>site_id</th>\n",
       "      <th>report_date</th>\n",
       "      <th>time_period_ending</th>\n",
       "      <th>time_interval</th>\n",
       "      <th>0-520cm</th>\n",
       "      <th>521-660cm</th>\n",
       "      <th>661-1160cm</th>\n",
       "      <th>1160+cm</th>\n",
       "      <th>avg_mph</th>\n",
       "      <th>total_volume</th>\n",
       "      <th>timestamp</th>\n",
       "      <th>year</th>\n",
       "      <th>month</th>\n",
       "      <th>day</th>\n",
       "      <th>hour</th>\n",
       "      <th>daily_count</th>\n",
       "      <th>aadt</th>\n",
       "    </tr>\n",
       "  </thead>\n",
       "  <tbody>\n",
       "    <tr>\n",
       "      <th>0</th>\n",
       "      <td>0</td>\n",
       "      <td>6783/1</td>\n",
       "      <td>7810</td>\n",
       "      <td>2019-01-01</td>\n",
       "      <td>00:14:00</td>\n",
       "      <td>0</td>\n",
       "      <td>1</td>\n",
       "      <td>0</td>\n",
       "      <td>0</td>\n",
       "      <td>0</td>\n",
       "      <td>45.0</td>\n",
       "      <td>1</td>\n",
       "      <td>2019-01-01 00:14:00</td>\n",
       "      <td>2019</td>\n",
       "      <td>1</td>\n",
       "      <td>1</td>\n",
       "      <td>0</td>\n",
       "      <td>3998</td>\n",
       "      <td>6344.350685</td>\n",
       "    </tr>\n",
       "    <tr>\n",
       "      <th>1</th>\n",
       "      <td>1</td>\n",
       "      <td>6783/1</td>\n",
       "      <td>7810</td>\n",
       "      <td>2019-01-01</td>\n",
       "      <td>00:29:00</td>\n",
       "      <td>1</td>\n",
       "      <td>8</td>\n",
       "      <td>0</td>\n",
       "      <td>0</td>\n",
       "      <td>0</td>\n",
       "      <td>52.0</td>\n",
       "      <td>8</td>\n",
       "      <td>2019-01-01 00:29:00</td>\n",
       "      <td>2019</td>\n",
       "      <td>1</td>\n",
       "      <td>1</td>\n",
       "      <td>0</td>\n",
       "      <td>3998</td>\n",
       "      <td>6344.350685</td>\n",
       "    </tr>\n",
       "    <tr>\n",
       "      <th>2</th>\n",
       "      <td>2</td>\n",
       "      <td>6783/1</td>\n",
       "      <td>7810</td>\n",
       "      <td>2019-01-01</td>\n",
       "      <td>00:44:00</td>\n",
       "      <td>2</td>\n",
       "      <td>12</td>\n",
       "      <td>0</td>\n",
       "      <td>1</td>\n",
       "      <td>0</td>\n",
       "      <td>48.0</td>\n",
       "      <td>13</td>\n",
       "      <td>2019-01-01 00:44:00</td>\n",
       "      <td>2019</td>\n",
       "      <td>1</td>\n",
       "      <td>1</td>\n",
       "      <td>0</td>\n",
       "      <td>3998</td>\n",
       "      <td>6344.350685</td>\n",
       "    </tr>\n",
       "    <tr>\n",
       "      <th>3</th>\n",
       "      <td>3</td>\n",
       "      <td>6783/1</td>\n",
       "      <td>7810</td>\n",
       "      <td>2019-01-01</td>\n",
       "      <td>00:59:00</td>\n",
       "      <td>3</td>\n",
       "      <td>6</td>\n",
       "      <td>0</td>\n",
       "      <td>0</td>\n",
       "      <td>0</td>\n",
       "      <td>56.0</td>\n",
       "      <td>6</td>\n",
       "      <td>2019-01-01 00:59:00</td>\n",
       "      <td>2019</td>\n",
       "      <td>1</td>\n",
       "      <td>1</td>\n",
       "      <td>0</td>\n",
       "      <td>3998</td>\n",
       "      <td>6344.350685</td>\n",
       "    </tr>\n",
       "    <tr>\n",
       "      <th>4</th>\n",
       "      <td>4</td>\n",
       "      <td>6783/1</td>\n",
       "      <td>7810</td>\n",
       "      <td>2019-01-01</td>\n",
       "      <td>01:14:00</td>\n",
       "      <td>4</td>\n",
       "      <td>14</td>\n",
       "      <td>0</td>\n",
       "      <td>0</td>\n",
       "      <td>0</td>\n",
       "      <td>51.0</td>\n",
       "      <td>14</td>\n",
       "      <td>2019-01-01 01:14:00</td>\n",
       "      <td>2019</td>\n",
       "      <td>1</td>\n",
       "      <td>1</td>\n",
       "      <td>1</td>\n",
       "      <td>3998</td>\n",
       "      <td>6344.350685</td>\n",
       "    </tr>\n",
       "  </tbody>\n",
       "</table>\n",
       "</div>"
      ],
      "text/plain": [
       "   Unnamed: 0 site_name  site_id report_date time_period_ending  \\\n",
       "0           0    6783/1     7810  2019-01-01           00:14:00   \n",
       "1           1    6783/1     7810  2019-01-01           00:29:00   \n",
       "2           2    6783/1     7810  2019-01-01           00:44:00   \n",
       "3           3    6783/1     7810  2019-01-01           00:59:00   \n",
       "4           4    6783/1     7810  2019-01-01           01:14:00   \n",
       "\n",
       "   time_interval  0-520cm  521-660cm  661-1160cm  1160+cm  avg_mph  \\\n",
       "0              0        1          0           0        0     45.0   \n",
       "1              1        8          0           0        0     52.0   \n",
       "2              2       12          0           1        0     48.0   \n",
       "3              3        6          0           0        0     56.0   \n",
       "4              4       14          0           0        0     51.0   \n",
       "\n",
       "   total_volume            timestamp  year  month  day  hour  daily_count  \\\n",
       "0             1  2019-01-01 00:14:00  2019      1    1     0         3998   \n",
       "1             8  2019-01-01 00:29:00  2019      1    1     0         3998   \n",
       "2            13  2019-01-01 00:44:00  2019      1    1     0         3998   \n",
       "3             6  2019-01-01 00:59:00  2019      1    1     0         3998   \n",
       "4            14  2019-01-01 01:14:00  2019      1    1     1         3998   \n",
       "\n",
       "          aadt  \n",
       "0  6344.350685  \n",
       "1  6344.350685  \n",
       "2  6344.350685  \n",
       "3  6344.350685  \n",
       "4  6344.350685  "
      ]
     },
     "execution_count": 4,
     "metadata": {},
     "output_type": "execute_result"
    }
   ],
   "source": [
    "df.head()"
   ]
  },
  {
   "attachments": {},
   "cell_type": "markdown",
   "metadata": {},
   "source": [
    "## Corrupt values"
   ]
  },
  {
   "cell_type": "code",
   "execution_count": 5,
   "metadata": {},
   "outputs": [
    {
     "name": "stdout",
     "output_type": "stream",
     "text": [
      "df number of rows: 4589\n"
     ]
    },
    {
     "data": {
      "text/plain": [
       "Unnamed: 0            0\n",
       "site_name             0\n",
       "site_id               0\n",
       "report_date           0\n",
       "time_period_ending    0\n",
       "time_interval         0\n",
       "0-520cm               0\n",
       "521-660cm             0\n",
       "661-1160cm            0\n",
       "1160+cm               0\n",
       "avg_mph               0\n",
       "total_volume          0\n",
       "timestamp             0\n",
       "year                  0\n",
       "month                 0\n",
       "day                   0\n",
       "hour                  0\n",
       "daily_count           0\n",
       "aadt                  0\n",
       "dtype: int64"
      ]
     },
     "execution_count": 5,
     "metadata": {},
     "output_type": "execute_result"
    }
   ],
   "source": [
    "df = df.dropna(axis=0)\n",
    "print(\"df number of rows: {}\".format(len(df)))\n",
    "df.isnull().sum()"
   ]
  },
  {
   "attachments": {},
   "cell_type": "markdown",
   "metadata": {},
   "source": [
    "## Saving data"
   ]
  },
  {
   "cell_type": "code",
   "execution_count": 6,
   "metadata": {},
   "outputs": [],
   "source": [
    "df.to_csv(AADT_PROCESSED_PATH)"
   ]
  }
 ],
 "metadata": {
  "kernelspec": {
   "display_name": "Python 3",
   "language": "python",
   "name": "python3"
  },
  "language_info": {
   "codemirror_mode": {
    "name": "ipython",
    "version": 3
   },
   "file_extension": ".py",
   "mimetype": "text/x-python",
   "name": "python",
   "nbconvert_exporter": "python",
   "pygments_lexer": "ipython3",
   "version": "3.8.10"
  },
  "orig_nbformat": 4,
  "vscode": {
   "interpreter": {
    "hash": "31f2aee4e71d21fbe5cf8b01ff0e069b9275f58929596ceb00d14d90e3e16cd6"
   }
  }
 },
 "nbformat": 4,
 "nbformat_minor": 2
}
