{
 "cells": [
  {
   "attachments": {},
   "cell_type": "markdown",
   "metadata": {},
   "source": [
    "# Preprocessing"
   ]
  },
  {
   "cell_type": "markdown",
   "metadata": {},
   "source": [
    "## Imports"
   ]
  },
  {
   "cell_type": "code",
   "execution_count": 188,
   "metadata": {},
   "outputs": [],
   "source": [
    "import pandas as pd\n",
    "import geopandas as gpd\n",
    "import numpy as np\n",
    "import os\n",
    "import torch\n",
    "import random\n",
    "import cv2\n",
    "from tqdm import tqdm\n",
    "from matplotlib import pyplot as plt\n",
    "import segmentation_models_pytorch as smp\n",
    "import albumentations as album\n",
    "from PIL import Image\n",
    "import torch.nn as nn\n",
    "from torch.utils.data import Dataset\n",
    "from torch.utils.data import random_split\n",
    "from sklearn.metrics import accuracy_score\n",
    "import plotly.express as px\n",
    "import torchmetrics\n",
    "from torchmetrics import MeanAbsolutePercentageError\n",
    "from glob import glob\n",
    "\n",
    "%matplotlib inline"
   ]
  },
  {
   "cell_type": "markdown",
   "metadata": {},
   "source": [
    "## Global Variables"
   ]
  },
  {
   "cell_type": "code",
   "execution_count": 189,
   "metadata": {},
   "outputs": [],
   "source": [
    "ROOT_DIR_PATH = os.path.abspath('..')\n",
    "\n",
    "AADT_PATH = os.path.join(ROOT_DIR_PATH, 'data/ground_truth_data/')\n",
    "\n",
    "PROCESSED_PATH = os.path.join(ROOT_DIR_PATH, 'data/ground_truth_data/processed/')\n",
    "\n",
    "NN_MODEL_PATH = os.path.join(ROOT_DIR_PATH, \"models/nn_aadt_model.pth\")\n",
    "\n",
    "NORMALISE = True\n",
    "\n",
    "DROP_UNNORMALISE = False\n",
    "\n",
    "REMOVE_METADATA = False\n",
    "\n",
    "CHOSEN_COUNT_SITES = [('Luton', 'M1/2557A', 'M1/2557B'), ('Hounslow', 'M4/2188A', 'M4/2188B'), ('Enfield', 'M25/5441A', 'M25/5441B'), ('Blackburn with Darwen', '30361033', '30361032'), ('Havering', 'M25/5790A', 'M25/5790B')]"
   ]
  },
  {
   "attachments": {},
   "cell_type": "markdown",
   "metadata": {},
   "source": [
    "## General Functions"
   ]
  },
  {
   "cell_type": "code",
   "execution_count": 190,
   "metadata": {},
   "outputs": [],
   "source": [
    "# Function used to normalsise the count data\n",
    "def normalise(clean_report):\n",
    "    interger_cols = ['0-520cm', '521-660cm', '661-1160cm', '1160+cm', 'total_volume']\n",
    "    for name in interger_cols:\n",
    "        new_name = f\"{name}_normalised\"\n",
    "        # for ever row in the report present the row's site id's mean volume\n",
    "        mean = clean_report.groupby('site_id')[name].transform(\"mean\")\n",
    "        # normalise\n",
    "        clean_report.loc[:, new_name] = clean_report[name] / mean\n",
    "        # filter so we don't have rows with a small mean which causes a pole\n",
    "    return clean_report[mean>1]"
   ]
  },
  {
   "cell_type": "code",
   "execution_count": 191,
   "metadata": {},
   "outputs": [],
   "source": [
    "def drop_unnormalise(df):\n",
    "    interger_cols = ['0-520cm', '521-660cm', '661-1160cm', '1160+cm', 'total_volume']\n",
    "    df = df.drop(columns=interger_cols, axis=1)\n",
    "    return df"
   ]
  },
  {
   "cell_type": "code",
   "execution_count": 192,
   "metadata": {},
   "outputs": [],
   "source": [
    "def drop_metadata(df):\n",
    "    metadata = ['site_id', 'time_period_ending', 'time_interval', 'daily_count', 'report_date', 'site_name', 'timestamp']\n",
    "    df = df.drop(columns=metadata, axis=1)\n",
    "    return df"
   ]
  },
  {
   "cell_type": "code",
   "execution_count": 193,
   "metadata": {},
   "outputs": [],
   "source": [
    "def load_aadt_data():\n",
    "\n",
    "    pattern = os.path.join(ROOT_DIR_PATH, 'data/ground_truth_data/aadt_*.csv')\n",
    "\n",
    "    aadt_file_paths = [os.path.join(AADT_PATH, os.path.basename(x)) for x in glob(pattern)]\n",
    "    print(\"AADT files: {}\".format(aadt_file_paths))\n",
    "\n",
    "    df_aadt_list = []\n",
    "\n",
    "    for i in range(1, len(aadt_file_paths)):\n",
    "        df_aadt = pd.read_csv(aadt_file_paths[i])\n",
    "        df_aadt = df_aadt.dropna()\n",
    "        df_aadt = df_aadt.loc[:, ~df_aadt.columns.str.contains('^Unnamed')]\n",
    "\n",
    "        if NORMALISE:\n",
    "            df_aadt = normalise(df_aadt)\n",
    "\n",
    "        if DROP_UNNORMALISE:\n",
    "            df_aadt = drop_unnormalise(df_aadt)\n",
    "\n",
    "        if REMOVE_METADATA:\n",
    "            df_aadt = drop_metadata(df_aadt)\n",
    "\n",
    "\n",
    "        df_aadt_list.append(df_aadt)\n",
    "\n",
    "    return df_aadt_list"
   ]
  },
  {
   "cell_type": "code",
   "execution_count": 194,
   "metadata": {},
   "outputs": [],
   "source": [
    "def load_motor_vehicle_data():\n",
    "\n",
    "    pattern = os.path.join(ROOT_DIR_PATH, 'data/ground_truth_data/all_motor_vehicles_*.csv')\n",
    "\n",
    "    motor_vehicle_file_paths = [os.path.join(AADT_PATH, os.path.basename(x)) for x in glob(pattern)]\n",
    "    print(\"LA motor vehicle files: {}\".format(motor_vehicle_file_paths))\n",
    "\n",
    "    df_motor_vehicle_list = []\n",
    "\n",
    "    for i in range(1, len(motor_vehicle_file_paths)):\n",
    "        df_motor_vehicle = pd.read_csv(motor_vehicle_file_paths[i])\n",
    "        df_motor_vehicle = df_motor_vehicle.loc[:, ~df_motor_vehicle.columns.str.contains('^Unnamed')]\n",
    "\n",
    "        df_motor_vehicle_list.append(df_motor_vehicle)\n",
    "\n",
    "    return df_motor_vehicle_list"
   ]
  },
  {
   "cell_type": "code",
   "execution_count": 195,
   "metadata": {},
   "outputs": [],
   "source": [
    "def merge_dfs_from_lists(df_aadt_list, df_motor_vehicle_list, la_and_count_sites):\n",
    "\n",
    "    merged_aadt_df_list = []\n",
    "\n",
    "    for aadt_df in df_aadt_list:\n",
    "        \n",
    "        for motor_vehicle_df in df_motor_vehicle_list:\n",
    "\n",
    "            for site in la_and_count_sites:\n",
    "\n",
    "                (la_name, site_a, site_b) = site\n",
    "\n",
    "                if la_name in motor_vehicle_df.iloc[0]['Local Authority'] and ( (site_a in aadt_df.iloc[0]['site_name']) or (site_b in aadt_df.iloc[0]['site_name']) ):\n",
    "\n",
    "                    print(\"Entered if statement: {} {} {}\".format(la_name, site_a, site_b))\n",
    "\n",
    "                    year = aadt_df.iloc[0]['year']\n",
    "\n",
    "                    all_motor_vehicles = motor_vehicle_df.loc[motor_vehicle_df['year'] == year].iloc[0]['all_motor_vehicles']\n",
    "\n",
    "                    print(\"year: {}, all_motor_vehicles: {}\".format(year, all_motor_vehicles))\n",
    "\n",
    "                    merged_aadt_df = aadt_df.copy()\n",
    "\n",
    "                    merged_aadt_df.name = 'aadt_'+la_name+'_'+aadt_df.iloc[0]['site_name'].replace('/', '_')+'_'+str(year)\n",
    "\n",
    "                    merged_aadt_df['all_motor_vehicles'] = all_motor_vehicles\n",
    "                    merged_aadt_df['Local Authority'] = motor_vehicle_df['Local Authority']\n",
    "\n",
    "                    merged_aadt_df_list.append(merged_aadt_df)\n",
    "\n",
    "    return merged_aadt_df_list"
   ]
  },
  {
   "attachments": {},
   "cell_type": "markdown",
   "metadata": {},
   "source": [
    "## Data"
   ]
  },
  {
   "cell_type": "code",
   "execution_count": 196,
   "metadata": {},
   "outputs": [
    {
     "name": "stdout",
     "output_type": "stream",
     "text": [
      "AADT files: ['/home/ah2719/FYP/Spatial_Finance_Transport/data/ground_truth_data/aadt_M1_2557A_year_2017.csv', '/home/ah2719/FYP/Spatial_Finance_Transport/data/ground_truth_data/aadt_M4_2188B_year_2017.csv', '/home/ah2719/FYP/Spatial_Finance_Transport/data/ground_truth_data/aadt_M4_2188A_year_2018.csv', '/home/ah2719/FYP/Spatial_Finance_Transport/data/ground_truth_data/aadt_M1_2557B_year_2017.csv', '/home/ah2719/FYP/Spatial_Finance_Transport/data/ground_truth_data/aadt_M1_2557A_year_2018.csv', '/home/ah2719/FYP/Spatial_Finance_Transport/data/ground_truth_data/aadt_M4_2188A_year_2017.csv', '/home/ah2719/FYP/Spatial_Finance_Transport/data/ground_truth_data/aadt_M4_2188B_year_2018.csv', '/home/ah2719/FYP/Spatial_Finance_Transport/data/ground_truth_data/aadt_M1_2557B_year_2018.csv']\n"
     ]
    },
    {
     "data": {
      "text/plain": [
       "site_name                   object\n",
       "site_id                      int64\n",
       "report_date                 object\n",
       "time_period_ending          object\n",
       "time_interval                int64\n",
       "0-520cm                      int64\n",
       "521-660cm                    int64\n",
       "661-1160cm                   int64\n",
       "1160+cm                      int64\n",
       "avg_mph                      int64\n",
       "total_volume                 int64\n",
       "timestamp                   object\n",
       "year                         int64\n",
       "month                        int64\n",
       "day                          int64\n",
       "hour                         int64\n",
       "daily_count                  int64\n",
       "aadt                       float64\n",
       "0-520cm_normalised         float64\n",
       "521-660cm_normalised       float64\n",
       "661-1160cm_normalised      float64\n",
       "1160+cm_normalised         float64\n",
       "total_volume_normalised    float64\n",
       "dtype: object"
      ]
     },
     "execution_count": 196,
     "metadata": {},
     "output_type": "execute_result"
    }
   ],
   "source": [
    "df_aadt_list = load_aadt_data()\n",
    "\n",
    "df_aadt_list[0].head()\n",
    "\n",
    "df_aadt_list[0].dtypes"
   ]
  },
  {
   "cell_type": "code",
   "execution_count": 197,
   "metadata": {},
   "outputs": [
    {
     "name": "stdout",
     "output_type": "stream",
     "text": [
      "LA motor vehicle files: ['/home/ah2719/FYP/Spatial_Finance_Transport/data/ground_truth_data/all_motor_vehicles_Blackburn with Darwen.csv', '/home/ah2719/FYP/Spatial_Finance_Transport/data/ground_truth_data/all_motor_vehicles_Enfield.csv', '/home/ah2719/FYP/Spatial_Finance_Transport/data/ground_truth_data/all_motor_vehicles_Hounslow.csv', '/home/ah2719/FYP/Spatial_Finance_Transport/data/ground_truth_data/all_motor_vehicles_Luton.csv', '/home/ah2719/FYP/Spatial_Finance_Transport/data/ground_truth_data/all_motor_vehicles_Havering.csv']\n"
     ]
    },
    {
     "data": {
      "text/plain": [
       "year                    int64\n",
       "all_motor_vehicles    float64\n",
       "Local Authority        object\n",
       "dtype: object"
      ]
     },
     "execution_count": 197,
     "metadata": {},
     "output_type": "execute_result"
    }
   ],
   "source": [
    "df_motor_vehicle_list = load_motor_vehicle_data()\n",
    "\n",
    "df_motor_vehicle_list[0].head()\n",
    "\n",
    "df_motor_vehicle_list[0].dtypes"
   ]
  },
  {
   "attachments": {},
   "cell_type": "markdown",
   "metadata": {},
   "source": [
    "## Standardisation"
   ]
  },
  {
   "attachments": {},
   "cell_type": "markdown",
   "metadata": {},
   "source": [
    "## Merge LA data"
   ]
  },
  {
   "cell_type": "code",
   "execution_count": 198,
   "metadata": {},
   "outputs": [
    {
     "name": "stdout",
     "output_type": "stream",
     "text": [
      "Entered if statement: Hounslow M4/2188A M4/2188B\n",
      "year: 2017, all_motor_vehicles: 51913.5\n",
      "Entered if statement: Hounslow M4/2188A M4/2188B\n",
      "year: 2018, all_motor_vehicles: 51047.5\n",
      "Entered if statement: Luton M1/2557A M1/2557B\n",
      "year: 2017, all_motor_vehicles: 67952.0\n",
      "Entered if statement: Luton M1/2557A M1/2557B\n",
      "year: 2018, all_motor_vehicles: 70355.0\n",
      "Entered if statement: Hounslow M4/2188A M4/2188B\n",
      "year: 2017, all_motor_vehicles: 51913.5\n",
      "Entered if statement: Hounslow M4/2188A M4/2188B\n",
      "year: 2018, all_motor_vehicles: 51047.5\n",
      "Entered if statement: Luton M1/2557A M1/2557B\n",
      "year: 2018, all_motor_vehicles: 70355.0\n"
     ]
    },
    {
     "data": {
      "text/html": [
       "<div>\n",
       "<style scoped>\n",
       "    .dataframe tbody tr th:only-of-type {\n",
       "        vertical-align: middle;\n",
       "    }\n",
       "\n",
       "    .dataframe tbody tr th {\n",
       "        vertical-align: top;\n",
       "    }\n",
       "\n",
       "    .dataframe thead th {\n",
       "        text-align: right;\n",
       "    }\n",
       "</style>\n",
       "<table border=\"1\" class=\"dataframe\">\n",
       "  <thead>\n",
       "    <tr style=\"text-align: right;\">\n",
       "      <th></th>\n",
       "      <th>site_name</th>\n",
       "      <th>site_id</th>\n",
       "      <th>report_date</th>\n",
       "      <th>time_period_ending</th>\n",
       "      <th>time_interval</th>\n",
       "      <th>0-520cm</th>\n",
       "      <th>521-660cm</th>\n",
       "      <th>661-1160cm</th>\n",
       "      <th>1160+cm</th>\n",
       "      <th>avg_mph</th>\n",
       "      <th>...</th>\n",
       "      <th>hour</th>\n",
       "      <th>daily_count</th>\n",
       "      <th>aadt</th>\n",
       "      <th>0-520cm_normalised</th>\n",
       "      <th>521-660cm_normalised</th>\n",
       "      <th>661-1160cm_normalised</th>\n",
       "      <th>1160+cm_normalised</th>\n",
       "      <th>total_volume_normalised</th>\n",
       "      <th>all_motor_vehicles</th>\n",
       "      <th>Local Authority</th>\n",
       "    </tr>\n",
       "  </thead>\n",
       "  <tbody>\n",
       "    <tr>\n",
       "      <th>0</th>\n",
       "      <td>M4/2188B</td>\n",
       "      <td>110</td>\n",
       "      <td>2017-01-01</td>\n",
       "      <td>00:14:00</td>\n",
       "      <td>0</td>\n",
       "      <td>100</td>\n",
       "      <td>13</td>\n",
       "      <td>1</td>\n",
       "      <td>1</td>\n",
       "      <td>58</td>\n",
       "      <td>...</td>\n",
       "      <td>0</td>\n",
       "      <td>38056</td>\n",
       "      <td>46639.557522</td>\n",
       "      <td>0.247201</td>\n",
       "      <td>0.223741</td>\n",
       "      <td>0.072282</td>\n",
       "      <td>0.134760</td>\n",
       "      <td>0.237660</td>\n",
       "      <td>51913.5</td>\n",
       "      <td>Hounslow</td>\n",
       "    </tr>\n",
       "    <tr>\n",
       "      <th>1</th>\n",
       "      <td>M4/2188B</td>\n",
       "      <td>110</td>\n",
       "      <td>2017-01-01</td>\n",
       "      <td>00:29:00</td>\n",
       "      <td>1</td>\n",
       "      <td>99</td>\n",
       "      <td>7</td>\n",
       "      <td>0</td>\n",
       "      <td>2</td>\n",
       "      <td>61</td>\n",
       "      <td>...</td>\n",
       "      <td>0</td>\n",
       "      <td>38056</td>\n",
       "      <td>46639.557522</td>\n",
       "      <td>0.244729</td>\n",
       "      <td>0.120476</td>\n",
       "      <td>0.000000</td>\n",
       "      <td>0.269521</td>\n",
       "      <td>0.223193</td>\n",
       "      <td>51913.5</td>\n",
       "      <td>Hounslow</td>\n",
       "    </tr>\n",
       "    <tr>\n",
       "      <th>2</th>\n",
       "      <td>M4/2188B</td>\n",
       "      <td>110</td>\n",
       "      <td>2017-01-01</td>\n",
       "      <td>00:44:00</td>\n",
       "      <td>2</td>\n",
       "      <td>91</td>\n",
       "      <td>12</td>\n",
       "      <td>1</td>\n",
       "      <td>2</td>\n",
       "      <td>61</td>\n",
       "      <td>...</td>\n",
       "      <td>0</td>\n",
       "      <td>38056</td>\n",
       "      <td>46639.557522</td>\n",
       "      <td>0.224953</td>\n",
       "      <td>0.206530</td>\n",
       "      <td>0.072282</td>\n",
       "      <td>0.269521</td>\n",
       "      <td>0.219060</td>\n",
       "      <td>51913.5</td>\n",
       "      <td>Hounslow</td>\n",
       "    </tr>\n",
       "    <tr>\n",
       "      <th>3</th>\n",
       "      <td>M4/2188B</td>\n",
       "      <td>110</td>\n",
       "      <td>2017-01-01</td>\n",
       "      <td>00:59:00</td>\n",
       "      <td>3</td>\n",
       "      <td>101</td>\n",
       "      <td>10</td>\n",
       "      <td>0</td>\n",
       "      <td>0</td>\n",
       "      <td>60</td>\n",
       "      <td>...</td>\n",
       "      <td>0</td>\n",
       "      <td>38056</td>\n",
       "      <td>46639.557522</td>\n",
       "      <td>0.249673</td>\n",
       "      <td>0.172109</td>\n",
       "      <td>0.000000</td>\n",
       "      <td>0.000000</td>\n",
       "      <td>0.229393</td>\n",
       "      <td>51913.5</td>\n",
       "      <td>Hounslow</td>\n",
       "    </tr>\n",
       "    <tr>\n",
       "      <th>4</th>\n",
       "      <td>M4/2188B</td>\n",
       "      <td>110</td>\n",
       "      <td>2017-01-01</td>\n",
       "      <td>01:14:00</td>\n",
       "      <td>4</td>\n",
       "      <td>128</td>\n",
       "      <td>12</td>\n",
       "      <td>1</td>\n",
       "      <td>1</td>\n",
       "      <td>58</td>\n",
       "      <td>...</td>\n",
       "      <td>1</td>\n",
       "      <td>38056</td>\n",
       "      <td>46639.557522</td>\n",
       "      <td>0.316418</td>\n",
       "      <td>0.206530</td>\n",
       "      <td>0.072282</td>\n",
       "      <td>0.134760</td>\n",
       "      <td>0.293458</td>\n",
       "      <td>51913.5</td>\n",
       "      <td>Hounslow</td>\n",
       "    </tr>\n",
       "  </tbody>\n",
       "</table>\n",
       "<p>5 rows × 25 columns</p>\n",
       "</div>"
      ],
      "text/plain": [
       "  site_name  site_id report_date time_period_ending  time_interval  0-520cm  \\\n",
       "0  M4/2188B      110  2017-01-01           00:14:00              0      100   \n",
       "1  M4/2188B      110  2017-01-01           00:29:00              1       99   \n",
       "2  M4/2188B      110  2017-01-01           00:44:00              2       91   \n",
       "3  M4/2188B      110  2017-01-01           00:59:00              3      101   \n",
       "4  M4/2188B      110  2017-01-01           01:14:00              4      128   \n",
       "\n",
       "   521-660cm  661-1160cm  1160+cm  avg_mph  ...  hour daily_count  \\\n",
       "0         13           1        1       58  ...     0       38056   \n",
       "1          7           0        2       61  ...     0       38056   \n",
       "2         12           1        2       61  ...     0       38056   \n",
       "3         10           0        0       60  ...     0       38056   \n",
       "4         12           1        1       58  ...     1       38056   \n",
       "\n",
       "           aadt  0-520cm_normalised  521-660cm_normalised  \\\n",
       "0  46639.557522            0.247201              0.223741   \n",
       "1  46639.557522            0.244729              0.120476   \n",
       "2  46639.557522            0.224953              0.206530   \n",
       "3  46639.557522            0.249673              0.172109   \n",
       "4  46639.557522            0.316418              0.206530   \n",
       "\n",
       "   661-1160cm_normalised  1160+cm_normalised  total_volume_normalised  \\\n",
       "0               0.072282            0.134760                 0.237660   \n",
       "1               0.000000            0.269521                 0.223193   \n",
       "2               0.072282            0.269521                 0.219060   \n",
       "3               0.000000            0.000000                 0.229393   \n",
       "4               0.072282            0.134760                 0.293458   \n",
       "\n",
       "   all_motor_vehicles  Local Authority  \n",
       "0             51913.5         Hounslow  \n",
       "1             51913.5         Hounslow  \n",
       "2             51913.5         Hounslow  \n",
       "3             51913.5         Hounslow  \n",
       "4             51913.5         Hounslow  \n",
       "\n",
       "[5 rows x 25 columns]"
      ]
     },
     "execution_count": 198,
     "metadata": {},
     "output_type": "execute_result"
    }
   ],
   "source": [
    "merged_aadt_df_list = merge_dfs_from_lists(df_aadt_list, df_motor_vehicle_list, CHOSEN_COUNT_SITES)\n",
    "\n",
    "merged_aadt_df_list[0].head()"
   ]
  },
  {
   "attachments": {},
   "cell_type": "markdown",
   "metadata": {},
   "source": [
    "## Saving data"
   ]
  },
  {
   "cell_type": "code",
   "execution_count": 199,
   "metadata": {},
   "outputs": [],
   "source": [
    "for merged_df in merged_aadt_df_list:\n",
    "    merged_df.to_csv(PROCESSED_PATH+merged_df.name+'.csv')"
   ]
  }
 ],
 "metadata": {
  "kernelspec": {
   "display_name": "Python 3",
   "language": "python",
   "name": "python3"
  },
  "language_info": {
   "codemirror_mode": {
    "name": "ipython",
    "version": 3
   },
   "file_extension": ".py",
   "mimetype": "text/x-python",
   "name": "python",
   "nbconvert_exporter": "python",
   "pygments_lexer": "ipython3",
   "version": "3.8.10"
  },
  "orig_nbformat": 4,
  "vscode": {
   "interpreter": {
    "hash": "31f2aee4e71d21fbe5cf8b01ff0e069b9275f58929596ceb00d14d90e3e16cd6"
   }
  }
 },
 "nbformat": 4,
 "nbformat_minor": 2
}
