{
 "cells": [
  {
   "attachments": {},
   "cell_type": "markdown",
   "metadata": {},
   "source": [
    "# Preprocessing"
   ]
  },
  {
   "cell_type": "markdown",
   "metadata": {},
   "source": [
    "## Imports"
   ]
  },
  {
   "cell_type": "code",
   "execution_count": 92,
   "metadata": {},
   "outputs": [],
   "source": [
    "import pandas as pd\n",
    "import geopandas as gpd\n",
    "import numpy as np\n",
    "import os\n",
    "import torch\n",
    "import random\n",
    "import cv2\n",
    "from tqdm import tqdm\n",
    "from matplotlib import pyplot as plt\n",
    "import segmentation_models_pytorch as smp\n",
    "import albumentations as album\n",
    "from PIL import Image\n",
    "import torch.nn as nn\n",
    "from torch.utils.data import Dataset\n",
    "from torch.utils.data import random_split\n",
    "from sklearn.metrics import accuracy_score\n",
    "import plotly.express as px\n",
    "import torchmetrics\n",
    "from torchmetrics import MeanAbsolutePercentageError\n",
    "from glob import glob\n",
    "\n",
    "%matplotlib inline"
   ]
  },
  {
   "cell_type": "markdown",
   "metadata": {},
   "source": [
    "## Global Variables"
   ]
  },
  {
   "cell_type": "code",
   "execution_count": 93,
   "metadata": {},
   "outputs": [],
   "source": [
    "ROOT_DIR_PATH = os.path.abspath('..')\n",
    "\n",
    "AADT_PATH = os.path.join(ROOT_DIR_PATH, 'data/ground_truth_data/')\n",
    "\n",
    "AADT_PROCESSED_PATH = os.path.join(ROOT_DIR_PATH, 'data/ground_truth_data/aadt_processed.csv')\n",
    "\n",
    "NN_MODEL_PATH = os.path.join(ROOT_DIR_PATH, \"models/nn_aadt_model.pth\")"
   ]
  },
  {
   "attachments": {},
   "cell_type": "markdown",
   "metadata": {},
   "source": [
    "## Data"
   ]
  },
  {
   "cell_type": "code",
   "execution_count": 94,
   "metadata": {},
   "outputs": [
    {
     "name": "stdout",
     "output_type": "stream",
     "text": [
      "AADT files: ['/home/ah2719/FYP/Spatial_Finance_Transport/data/ground_truth_data/aadt_site_7810.csv', '/home/ah2719/FYP/Spatial_Finance_Transport/data/ground_truth_data/aadt_site_4466.csv', '/home/ah2719/FYP/Spatial_Finance_Transport/data/ground_truth_data/aadt_site_2.csv']\n"
     ]
    }
   ],
   "source": [
    "pattern = os.path.join(ROOT_DIR_PATH, 'data/ground_truth_data/aadt_site_*.csv')\n",
    "\n",
    "aadt_file_paths = [os.path.join(AADT_PATH, os.path.basename(x)) for x in glob(pattern)]\n",
    "print(\"AADT files: {}\".format(aadt_file_paths))\n",
    "\n",
    "df = pd.read_csv(aadt_file_paths[0], index_col=0)\n",
    "\n",
    "for i in range(1, len(aadt_file_paths)):\n",
    "    df_aadt = pd.read_csv(aadt_file_paths[i])\n",
    "    df = pd.concat([df, df_aadt], ignore_index=True)"
   ]
  },
  {
   "cell_type": "code",
   "execution_count": 95,
   "metadata": {},
   "outputs": [
    {
     "data": {
      "text/html": [
       "<div>\n",
       "<style scoped>\n",
       "    .dataframe tbody tr th:only-of-type {\n",
       "        vertical-align: middle;\n",
       "    }\n",
       "\n",
       "    .dataframe tbody tr th {\n",
       "        vertical-align: top;\n",
       "    }\n",
       "\n",
       "    .dataframe thead th {\n",
       "        text-align: right;\n",
       "    }\n",
       "</style>\n",
       "<table border=\"1\" class=\"dataframe\">\n",
       "  <thead>\n",
       "    <tr style=\"text-align: right;\">\n",
       "      <th></th>\n",
       "      <th>site_name</th>\n",
       "      <th>site_id</th>\n",
       "      <th>report_date</th>\n",
       "      <th>time_period_ending</th>\n",
       "      <th>time_interval</th>\n",
       "      <th>0-520cm</th>\n",
       "      <th>521-660cm</th>\n",
       "      <th>661-1160cm</th>\n",
       "      <th>1160+cm</th>\n",
       "      <th>avg_mph</th>\n",
       "      <th>...</th>\n",
       "      <th>1160+cm_normalised</th>\n",
       "      <th>total_volume_normalised</th>\n",
       "      <th>year</th>\n",
       "      <th>month</th>\n",
       "      <th>day</th>\n",
       "      <th>hour</th>\n",
       "      <th>daily_count</th>\n",
       "      <th>timestamp_min_max</th>\n",
       "      <th>aadt</th>\n",
       "      <th>Unnamed: 0</th>\n",
       "    </tr>\n",
       "  </thead>\n",
       "  <tbody>\n",
       "    <tr>\n",
       "      <th>0</th>\n",
       "      <td>6783/1</td>\n",
       "      <td>7810</td>\n",
       "      <td>2019-01-01</td>\n",
       "      <td>00:14:00</td>\n",
       "      <td>0</td>\n",
       "      <td>1</td>\n",
       "      <td>0</td>\n",
       "      <td>0</td>\n",
       "      <td>0</td>\n",
       "      <td>45.0</td>\n",
       "      <td>...</td>\n",
       "      <td>0.0</td>\n",
       "      <td>0.015112</td>\n",
       "      <td>2019</td>\n",
       "      <td>1</td>\n",
       "      <td>1</td>\n",
       "      <td>0</td>\n",
       "      <td>3998</td>\n",
       "      <td>0.000000</td>\n",
       "      <td>6335.063014</td>\n",
       "      <td>NaN</td>\n",
       "    </tr>\n",
       "    <tr>\n",
       "      <th>1</th>\n",
       "      <td>6783/1</td>\n",
       "      <td>7810</td>\n",
       "      <td>2019-01-01</td>\n",
       "      <td>00:29:00</td>\n",
       "      <td>1</td>\n",
       "      <td>8</td>\n",
       "      <td>0</td>\n",
       "      <td>0</td>\n",
       "      <td>0</td>\n",
       "      <td>52.0</td>\n",
       "      <td>...</td>\n",
       "      <td>0.0</td>\n",
       "      <td>0.120898</td>\n",
       "      <td>2019</td>\n",
       "      <td>1</td>\n",
       "      <td>1</td>\n",
       "      <td>0</td>\n",
       "      <td>3998</td>\n",
       "      <td>0.010526</td>\n",
       "      <td>6335.063014</td>\n",
       "      <td>NaN</td>\n",
       "    </tr>\n",
       "    <tr>\n",
       "      <th>2</th>\n",
       "      <td>6783/1</td>\n",
       "      <td>7810</td>\n",
       "      <td>2019-01-01</td>\n",
       "      <td>00:44:00</td>\n",
       "      <td>2</td>\n",
       "      <td>12</td>\n",
       "      <td>0</td>\n",
       "      <td>1</td>\n",
       "      <td>0</td>\n",
       "      <td>48.0</td>\n",
       "      <td>...</td>\n",
       "      <td>0.0</td>\n",
       "      <td>0.196459</td>\n",
       "      <td>2019</td>\n",
       "      <td>1</td>\n",
       "      <td>1</td>\n",
       "      <td>0</td>\n",
       "      <td>3998</td>\n",
       "      <td>0.021053</td>\n",
       "      <td>6335.063014</td>\n",
       "      <td>NaN</td>\n",
       "    </tr>\n",
       "    <tr>\n",
       "      <th>3</th>\n",
       "      <td>6783/1</td>\n",
       "      <td>7810</td>\n",
       "      <td>2019-01-01</td>\n",
       "      <td>00:59:00</td>\n",
       "      <td>3</td>\n",
       "      <td>6</td>\n",
       "      <td>0</td>\n",
       "      <td>0</td>\n",
       "      <td>0</td>\n",
       "      <td>56.0</td>\n",
       "      <td>...</td>\n",
       "      <td>0.0</td>\n",
       "      <td>0.090673</td>\n",
       "      <td>2019</td>\n",
       "      <td>1</td>\n",
       "      <td>1</td>\n",
       "      <td>0</td>\n",
       "      <td>3998</td>\n",
       "      <td>0.031579</td>\n",
       "      <td>6335.063014</td>\n",
       "      <td>NaN</td>\n",
       "    </tr>\n",
       "    <tr>\n",
       "      <th>4</th>\n",
       "      <td>6783/1</td>\n",
       "      <td>7810</td>\n",
       "      <td>2019-01-01</td>\n",
       "      <td>01:14:00</td>\n",
       "      <td>4</td>\n",
       "      <td>14</td>\n",
       "      <td>0</td>\n",
       "      <td>0</td>\n",
       "      <td>0</td>\n",
       "      <td>51.0</td>\n",
       "      <td>...</td>\n",
       "      <td>0.0</td>\n",
       "      <td>0.211571</td>\n",
       "      <td>2019</td>\n",
       "      <td>1</td>\n",
       "      <td>1</td>\n",
       "      <td>1</td>\n",
       "      <td>3998</td>\n",
       "      <td>0.042105</td>\n",
       "      <td>6335.063014</td>\n",
       "      <td>NaN</td>\n",
       "    </tr>\n",
       "  </tbody>\n",
       "</table>\n",
       "<p>5 rows × 25 columns</p>\n",
       "</div>"
      ],
      "text/plain": [
       "  site_name  site_id report_date time_period_ending  time_interval  0-520cm  \\\n",
       "0    6783/1     7810  2019-01-01           00:14:00              0        1   \n",
       "1    6783/1     7810  2019-01-01           00:29:00              1        8   \n",
       "2    6783/1     7810  2019-01-01           00:44:00              2       12   \n",
       "3    6783/1     7810  2019-01-01           00:59:00              3        6   \n",
       "4    6783/1     7810  2019-01-01           01:14:00              4       14   \n",
       "\n",
       "   521-660cm  661-1160cm  1160+cm  avg_mph  ...  1160+cm_normalised  \\\n",
       "0          0           0        0     45.0  ...                 0.0   \n",
       "1          0           0        0     52.0  ...                 0.0   \n",
       "2          0           1        0     48.0  ...                 0.0   \n",
       "3          0           0        0     56.0  ...                 0.0   \n",
       "4          0           0        0     51.0  ...                 0.0   \n",
       "\n",
       "  total_volume_normalised  year  month  day  hour  daily_count  \\\n",
       "0                0.015112  2019      1    1     0         3998   \n",
       "1                0.120898  2019      1    1     0         3998   \n",
       "2                0.196459  2019      1    1     0         3998   \n",
       "3                0.090673  2019      1    1     0         3998   \n",
       "4                0.211571  2019      1    1     1         3998   \n",
       "\n",
       "   timestamp_min_max         aadt  Unnamed: 0  \n",
       "0           0.000000  6335.063014         NaN  \n",
       "1           0.010526  6335.063014         NaN  \n",
       "2           0.021053  6335.063014         NaN  \n",
       "3           0.031579  6335.063014         NaN  \n",
       "4           0.042105  6335.063014         NaN  \n",
       "\n",
       "[5 rows x 25 columns]"
      ]
     },
     "execution_count": 95,
     "metadata": {},
     "output_type": "execute_result"
    }
   ],
   "source": [
    "df.head()"
   ]
  },
  {
   "attachments": {},
   "cell_type": "markdown",
   "metadata": {},
   "source": [
    "## Corrupt values"
   ]
  },
  {
   "cell_type": "code",
   "execution_count": 96,
   "metadata": {},
   "outputs": [
    {
     "data": {
      "text/plain": [
       "site_name                  0\n",
       "site_id                    0\n",
       "report_date                0\n",
       "time_period_ending         0\n",
       "time_interval              0\n",
       "0-520cm                    0\n",
       "521-660cm                  0\n",
       "661-1160cm                 0\n",
       "1160+cm                    0\n",
       "avg_mph                    0\n",
       "total_volume               0\n",
       "timestamp                  0\n",
       "0-520cm_normalised         0\n",
       "521-660cm_normalised       0\n",
       "661-1160cm_normalised      0\n",
       "1160+cm_normalised         0\n",
       "total_volume_normalised    0\n",
       "year                       0\n",
       "month                      0\n",
       "day                        0\n",
       "hour                       0\n",
       "daily_count                0\n",
       "timestamp_min_max          0\n",
       "aadt                       0\n",
       "Unnamed: 0                 0\n",
       "dtype: int64"
      ]
     },
     "execution_count": 96,
     "metadata": {},
     "output_type": "execute_result"
    }
   ],
   "source": [
    "df = df.dropna(axis=0)\n",
    "df.isnull().sum()"
   ]
  },
  {
   "attachments": {},
   "cell_type": "markdown",
   "metadata": {},
   "source": [
    "## Saving data"
   ]
  },
  {
   "cell_type": "code",
   "execution_count": 97,
   "metadata": {},
   "outputs": [],
   "source": [
    "df.to_csv(AADT_PROCESSED_PATH)"
   ]
  }
 ],
 "metadata": {
  "kernelspec": {
   "display_name": "Python 3",
   "language": "python",
   "name": "python3"
  },
  "language_info": {
   "codemirror_mode": {
    "name": "ipython",
    "version": 3
   },
   "file_extension": ".py",
   "mimetype": "text/x-python",
   "name": "python",
   "nbconvert_exporter": "python",
   "pygments_lexer": "ipython3",
   "version": "3.8.10"
  },
  "orig_nbformat": 4,
  "vscode": {
   "interpreter": {
    "hash": "31f2aee4e71d21fbe5cf8b01ff0e069b9275f58929596ceb00d14d90e3e16cd6"
   }
  }
 },
 "nbformat": 4,
 "nbformat_minor": 2
}
