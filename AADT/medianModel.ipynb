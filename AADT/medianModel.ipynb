{
 "cells": [
  {
   "attachments": {},
   "cell_type": "markdown",
   "metadata": {},
   "source": [
    "# AADT"
   ]
  },
  {
   "attachments": {},
   "cell_type": "markdown",
   "metadata": {},
   "source": [
    "## Imports"
   ]
  },
  {
   "cell_type": "code",
   "execution_count": 53,
   "metadata": {},
   "outputs": [],
   "source": [
    "import urllib.request, json\n",
    "import pandas as pd\n",
    "import math\n",
    "import pickle\n",
    "import collections\n",
    "from tqdm import tqdm\n",
    "import geopandas\n",
    "import datetime\n",
    "import os\n",
    "import numpy as np"
   ]
  },
  {
   "attachments": {},
   "cell_type": "markdown",
   "metadata": {},
   "source": [
    "## Global Variables"
   ]
  },
  {
   "cell_type": "code",
   "execution_count": 54,
   "metadata": {},
   "outputs": [],
   "source": [
    "SITE_ID = 2\n",
    "CLEAN_REPORT_PATH = \"/home/ah2719/FYP/Spatial_Finance_Transport/data/ground_truth_data/clean_report.csv\"\n",
    "TIMESTAMP = 0 # Using random timestamp at the moment"
   ]
  },
  {
   "attachments": {},
   "cell_type": "markdown",
   "metadata": {},
   "source": [
    "## Generic Functions"
   ]
  },
  {
   "attachments": {},
   "cell_type": "markdown",
   "metadata": {},
   "source": [
    "## Loading Data"
   ]
  },
  {
   "cell_type": "code",
   "execution_count": 55,
   "metadata": {},
   "outputs": [
    {
     "data": {
      "text/html": [
       "<div>\n",
       "<style scoped>\n",
       "    .dataframe tbody tr th:only-of-type {\n",
       "        vertical-align: middle;\n",
       "    }\n",
       "\n",
       "    .dataframe tbody tr th {\n",
       "        vertical-align: top;\n",
       "    }\n",
       "\n",
       "    .dataframe thead th {\n",
       "        text-align: right;\n",
       "    }\n",
       "</style>\n",
       "<table border=\"1\" class=\"dataframe\">\n",
       "  <thead>\n",
       "    <tr style=\"text-align: right;\">\n",
       "      <th></th>\n",
       "      <th>Unnamed: 0</th>\n",
       "      <th>site_name</th>\n",
       "      <th>site_id</th>\n",
       "      <th>report_date</th>\n",
       "      <th>time_period_ending</th>\n",
       "      <th>time_interval</th>\n",
       "      <th>0-520cm</th>\n",
       "      <th>521-660cm</th>\n",
       "      <th>661-1160cm</th>\n",
       "      <th>1160+cm</th>\n",
       "      <th>avg_mph</th>\n",
       "      <th>total_volume</th>\n",
       "      <th>timestamp</th>\n",
       "      <th>0-520cm_normalised</th>\n",
       "      <th>521-660cm_normalised</th>\n",
       "      <th>661-1160cm_normalised</th>\n",
       "      <th>1160+cm_normalised</th>\n",
       "      <th>total_volume_normalised</th>\n",
       "    </tr>\n",
       "  </thead>\n",
       "  <tbody>\n",
       "    <tr>\n",
       "      <th>0</th>\n",
       "      <td>0</td>\n",
       "      <td>A1M/2259B</td>\n",
       "      <td>2</td>\n",
       "      <td>2019-06-01T00:00:00</td>\n",
       "      <td>00:14:00</td>\n",
       "      <td>0</td>\n",
       "      <td>24</td>\n",
       "      <td>6</td>\n",
       "      <td>6</td>\n",
       "      <td>16</td>\n",
       "      <td>62.0</td>\n",
       "      <td>52</td>\n",
       "      <td>2019-06-01 00:14:00</td>\n",
       "      <td>0.259554</td>\n",
       "      <td>0.234373</td>\n",
       "      <td>0.445363</td>\n",
       "      <td>0.564074</td>\n",
       "      <td>0.325197</td>\n",
       "    </tr>\n",
       "    <tr>\n",
       "      <th>1</th>\n",
       "      <td>1</td>\n",
       "      <td>A1M/2259B</td>\n",
       "      <td>2</td>\n",
       "      <td>2019-06-01T00:00:00</td>\n",
       "      <td>00:29:00</td>\n",
       "      <td>1</td>\n",
       "      <td>17</td>\n",
       "      <td>3</td>\n",
       "      <td>7</td>\n",
       "      <td>20</td>\n",
       "      <td>60.0</td>\n",
       "      <td>47</td>\n",
       "      <td>2019-06-01 00:29:00</td>\n",
       "      <td>0.183851</td>\n",
       "      <td>0.117186</td>\n",
       "      <td>0.519590</td>\n",
       "      <td>0.705092</td>\n",
       "      <td>0.293928</td>\n",
       "    </tr>\n",
       "    <tr>\n",
       "      <th>2</th>\n",
       "      <td>2</td>\n",
       "      <td>A1M/2259B</td>\n",
       "      <td>2</td>\n",
       "      <td>2019-06-01T00:00:00</td>\n",
       "      <td>00:44:00</td>\n",
       "      <td>2</td>\n",
       "      <td>23</td>\n",
       "      <td>3</td>\n",
       "      <td>3</td>\n",
       "      <td>17</td>\n",
       "      <td>61.0</td>\n",
       "      <td>46</td>\n",
       "      <td>2019-06-01 00:44:00</td>\n",
       "      <td>0.248740</td>\n",
       "      <td>0.117186</td>\n",
       "      <td>0.222681</td>\n",
       "      <td>0.599329</td>\n",
       "      <td>0.287674</td>\n",
       "    </tr>\n",
       "    <tr>\n",
       "      <th>3</th>\n",
       "      <td>3</td>\n",
       "      <td>A1M/2259B</td>\n",
       "      <td>2</td>\n",
       "      <td>2019-06-01T00:00:00</td>\n",
       "      <td>00:59:00</td>\n",
       "      <td>3</td>\n",
       "      <td>12</td>\n",
       "      <td>2</td>\n",
       "      <td>0</td>\n",
       "      <td>19</td>\n",
       "      <td>59.0</td>\n",
       "      <td>33</td>\n",
       "      <td>2019-06-01 00:59:00</td>\n",
       "      <td>0.129777</td>\n",
       "      <td>0.078124</td>\n",
       "      <td>0.000000</td>\n",
       "      <td>0.669838</td>\n",
       "      <td>0.206375</td>\n",
       "    </tr>\n",
       "    <tr>\n",
       "      <th>4</th>\n",
       "      <td>4</td>\n",
       "      <td>A1M/2259B</td>\n",
       "      <td>2</td>\n",
       "      <td>2019-06-01T00:00:00</td>\n",
       "      <td>01:14:00</td>\n",
       "      <td>4</td>\n",
       "      <td>14</td>\n",
       "      <td>5</td>\n",
       "      <td>3</td>\n",
       "      <td>16</td>\n",
       "      <td>61.0</td>\n",
       "      <td>38</td>\n",
       "      <td>2019-06-01 01:14:00</td>\n",
       "      <td>0.151407</td>\n",
       "      <td>0.195311</td>\n",
       "      <td>0.222681</td>\n",
       "      <td>0.564074</td>\n",
       "      <td>0.237644</td>\n",
       "    </tr>\n",
       "  </tbody>\n",
       "</table>\n",
       "</div>"
      ],
      "text/plain": [
       "   Unnamed: 0  site_name  site_id          report_date time_period_ending  \\\n",
       "0           0  A1M/2259B        2  2019-06-01T00:00:00           00:14:00   \n",
       "1           1  A1M/2259B        2  2019-06-01T00:00:00           00:29:00   \n",
       "2           2  A1M/2259B        2  2019-06-01T00:00:00           00:44:00   \n",
       "3           3  A1M/2259B        2  2019-06-01T00:00:00           00:59:00   \n",
       "4           4  A1M/2259B        2  2019-06-01T00:00:00           01:14:00   \n",
       "\n",
       "   time_interval  0-520cm  521-660cm  661-1160cm  1160+cm  avg_mph  \\\n",
       "0              0       24          6           6       16     62.0   \n",
       "1              1       17          3           7       20     60.0   \n",
       "2              2       23          3           3       17     61.0   \n",
       "3              3       12          2           0       19     59.0   \n",
       "4              4       14          5           3       16     61.0   \n",
       "\n",
       "   total_volume            timestamp  0-520cm_normalised  \\\n",
       "0            52  2019-06-01 00:14:00            0.259554   \n",
       "1            47  2019-06-01 00:29:00            0.183851   \n",
       "2            46  2019-06-01 00:44:00            0.248740   \n",
       "3            33  2019-06-01 00:59:00            0.129777   \n",
       "4            38  2019-06-01 01:14:00            0.151407   \n",
       "\n",
       "   521-660cm_normalised  661-1160cm_normalised  1160+cm_normalised  \\\n",
       "0              0.234373               0.445363            0.564074   \n",
       "1              0.117186               0.519590            0.705092   \n",
       "2              0.117186               0.222681            0.599329   \n",
       "3              0.078124               0.000000            0.669838   \n",
       "4              0.195311               0.222681            0.564074   \n",
       "\n",
       "   total_volume_normalised  \n",
       "0                 0.325197  \n",
       "1                 0.293928  \n",
       "2                 0.287674  \n",
       "3                 0.206375  \n",
       "4                 0.237644  "
      ]
     },
     "execution_count": 55,
     "metadata": {},
     "output_type": "execute_result"
    }
   ],
   "source": [
    "# Get Report Data\n",
    "df = pd.read_csv('/home/ah2719/FYP/Spatial_Finance_Transport/data/ground_truth_data/clean_report.csv')\n",
    "df.head()"
   ]
  },
  {
   "attachments": {},
   "cell_type": "markdown",
   "metadata": {},
   "source": [
    "## Median Model\n",
    "A median model, similar to the UK Department of Transport’s method [40], is developed.\n",
    "From January 2019 to April 2022 Traffic Count data is obtained. Normalised Traffic\n",
    "Counts are taken by dividing each Traffic Count by the mean Traffic Count over the\n",
    "entire date range for that site. At time, $t^∗$, the median of Normalised Traffic Counts\n",
    "is taken over all sites.\n",
    "\n",
    "More formally, let $C_{i,t}$ be the observed Traffic Count at site i at time t. Let D denote\n",
    "the date range mentioned. Let S refer to the set of count sites. This gives:\n",
    "$$N(t^∗) = median_{i∈S}( \\frac{C_{i,t^*}}{mean_{t \\in D}(C_{i,t})})$$"
   ]
  },
  {
   "cell_type": "code",
   "execution_count": 56,
   "metadata": {},
   "outputs": [],
   "source": [
    "# Groupby sites\n",
    "dfs = [site for _, site in df.groupby('site_id')]"
   ]
  },
  {
   "cell_type": "code",
   "execution_count": 57,
   "metadata": {},
   "outputs": [
    {
     "name": "stdout",
     "output_type": "stream",
     "text": [
      "site_id: 2, \n",
      "mean_count: 159.90308320215664\n"
     ]
    }
   ],
   "source": [
    "df_site = df.loc[df['site_id'] == SITE_ID]\n",
    "mean_count = df_site['total_volume'].mean()\n",
    "print(\"site_id: {}, \\nmean_count: {}\".format(SITE_ID, mean_count))"
   ]
  },
  {
   "cell_type": "code",
   "execution_count": 58,
   "metadata": {},
   "outputs": [
    {
     "name": "stdout",
     "output_type": "stream",
     "text": [
      "len(df_t): 3, \n",
      "random_t: 2020-01-16 02:29:00, \n",
      "median_count: 27.0\n"
     ]
    }
   ],
   "source": [
    "# Random index as an example\n",
    "random_t = df.iloc[np.random.randint(0, len(df))]['timestamp']\n",
    "random_t\n",
    "\n",
    "df_t = df.loc[df['timestamp'] == random_t]\n",
    "median_count = df_t['total_volume'].median()\n",
    "print(\"len(df_t): {}, \\nrandom_t: {}, \\nmedian_count: {}\".format(len(df_t), random_t, median_count))"
   ]
  },
  {
   "cell_type": "code",
   "execution_count": null,
   "metadata": {},
   "outputs": [],
   "source": [
    "# Random traffic count as an example\n",
    "random_traffic_count = df.iloc[np.random.randint(0, len(df))]['total_volume']\n",
    "\n",
    "# Normalised Traffic Count\n"
   ]
  },
  {
   "cell_type": "markdown",
   "metadata": {},
   "source": []
  }
 ],
 "metadata": {
  "kernelspec": {
   "display_name": "Python 3",
   "language": "python",
   "name": "python3"
  },
  "language_info": {
   "codemirror_mode": {
    "name": "ipython",
    "version": 3
   },
   "file_extension": ".py",
   "mimetype": "text/x-python",
   "name": "python",
   "nbconvert_exporter": "python",
   "pygments_lexer": "ipython3",
   "version": "3.8.10 (default, Jun 22 2022, 20:18:18) \n[GCC 9.4.0]"
  },
  "orig_nbformat": 4,
  "vscode": {
   "interpreter": {
    "hash": "31f2aee4e71d21fbe5cf8b01ff0e069b9275f58929596ceb00d14d90e3e16cd6"
   }
  }
 },
 "nbformat": 4,
 "nbformat_minor": 2
}
