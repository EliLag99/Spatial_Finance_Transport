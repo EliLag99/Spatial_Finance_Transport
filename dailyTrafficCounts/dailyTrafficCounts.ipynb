{
 "cells": [
  {
   "attachments": {},
   "cell_type": "markdown",
   "metadata": {},
   "source": [
    "# Daily Traffic Counts\n",
    "Questions:\n",
    "- Can we get time stamp of the image?\n",
    "- How can we get live speed data?"
   ]
  },
  {
   "cell_type": "markdown",
   "metadata": {},
   "source": [
    "## Imports"
   ]
  },
  {
   "cell_type": "code",
   "execution_count": 360,
   "metadata": {},
   "outputs": [],
   "source": [
    "import pandas as pd\n",
    "import geopandas as gpd\n",
    "import numpy as np\n",
    "import os\n",
    "import torch\n",
    "import random\n",
    "import cv2\n",
    "from tqdm import tqdm\n",
    "from matplotlib import pyplot as plt\n",
    "import segmentation_models_pytorch as smp\n",
    "import albumentations as album\n",
    "from PIL import Image\n",
    "import torch.nn as nn\n",
    "from torch.utils.data import Dataset\n",
    "from torch.utils.data import random_split\n",
    "from sklearn.metrics import accuracy_score\n",
    "import plotly.express as px\n",
    "import torchmetrics\n",
    "from torchmetrics import MeanAbsolutePercentageError\n",
    "\n",
    "\n",
    "%matplotlib inline"
   ]
  },
  {
   "cell_type": "markdown",
   "metadata": {},
   "source": [
    "## Global Variables"
   ]
  },
  {
   "cell_type": "code",
   "execution_count": 361,
   "metadata": {},
   "outputs": [],
   "source": [
    "IMG_SIZE = 1024\n",
    "VEHICLE_DETECTION_COUNT_PATH = '/home/ah2719/FYP/Spatial_Finance_Transport/data/vehicle_counts_detection.csv'\n",
    "DAILY_COUNT_PATH = '/home/ah2719/FYP/Spatial_Finance_Transport/data/ground_truth_data/report_daily_count.csv'\n",
    "SPEED_DATA_PATH = \"/home/ah2719/FYP/Spatial_Finance_Transport/data/ground_truth_data/avg_mph.csv\"\n",
    "ROAD_WIDTH_PATH = \"\"\n",
    "TIMESTAMP_PATH = \"/home/ah2719/FYP/Spatial_Finance_Transport/data/ground_truth_data/timestamp.csv\"\n",
    "AVG_MPH_PATH = \"/home/ah2719/FYP/Spatial_Finance_Transport/data/ground_truth_data/avg_mph.csv\"\n",
    "\n",
    "NN_MODEL_PATH = \"/home/ah2719/FYP/Spatial_Finance_Transport/models/nn_model.pth\""
   ]
  },
  {
   "attachments": {},
   "cell_type": "markdown",
   "metadata": {},
   "source": [
    "## True Count Data\n",
    "- Traffic monitoring stations for long-term traffic count data\n",
    "    - Extract at same time as Satellite Image!\n",
    "- How to use permanent and temporary traffic count stations"
   ]
  },
  {
   "cell_type": "code",
   "execution_count": 362,
   "metadata": {},
   "outputs": [],
   "source": [
    "# Get Ground Truth Data"
   ]
  },
  {
   "attachments": {},
   "cell_type": "markdown",
   "metadata": {},
   "source": [
    "## Vehicle detection number\n",
    "From vehicle detection model"
   ]
  },
  {
   "attachments": {},
   "cell_type": "markdown",
   "metadata": {},
   "source": [
    "## Road characteristics\n",
    "From road characterstics pipeline"
   ]
  },
  {
   "attachments": {},
   "cell_type": "markdown",
   "metadata": {},
   "source": [
    "Includes:\n",
    "- Road width\n",
    "- Live speed data\n",
    "- Directionality"
   ]
  },
  {
   "attachments": {},
   "cell_type": "markdown",
   "metadata": {},
   "source": [
    "## Neural Network Model"
   ]
  },
  {
   "cell_type": "code",
   "execution_count": 363,
   "metadata": {},
   "outputs": [],
   "source": [
    "class CustomDataset(Dataset):\n",
    "    def __init__(self):\n",
    "        self.labels = torch.tensor(pd.read_csv(DAILY_COUNT_PATH)['daily_count'].values.astype('float32'))\n",
    "        self.vehicle_count = torch.tensor(pd.read_csv(DAILY_COUNT_PATH)['total_volume_normalised'].values.astype('float32')).unsqueeze(1) # Training\n",
    "        #self.speed_data = pd.read_csv(SPEED_DATA_PATH) \n",
    "        #self.road_width = pd.read_csv(ROAD_WIDTH_PATH)\n",
    "        self.hour = torch.tensor(pd.read_csv(DAILY_COUNT_PATH)['hour'].values.astype('float32')).unsqueeze(1)\n",
    "        self.avg_mph = torch.tensor(pd.read_csv(DAILY_COUNT_PATH)['avg_mph'].values.astype('float32')).unsqueeze(1)\n",
    "        self.day = torch.tensor(pd.read_csv(DAILY_COUNT_PATH)['day'].values.astype('float32')).unsqueeze(1)\n",
    "        self.month = torch.tensor(pd.read_csv(DAILY_COUNT_PATH)['month'].values.astype('float32')).unsqueeze(1)\n",
    "\n",
    "        self.x = torch.concat((self.vehicle_count, self.avg_mph, self.day, self.month, self.hour), dim=-1)\n",
    "        self.y = self.labels\n",
    "\n",
    "    def __len__(self):\n",
    "        return len(self.labels)\n",
    "\n",
    "    def __getitem__(self, idx):\n",
    "        return self.x[idx], self.y[idx]\n",
    "\n",
    "custom_data = CustomDataset()\n",
    "train_split = 0.8\n",
    "train_data, test_data = random_split(custom_data, [train_split, 1-train_split])"
   ]
  },
  {
   "cell_type": "code",
   "execution_count": 364,
   "metadata": {},
   "outputs": [],
   "source": [
    "class NeuralNetwork(nn.Module):\n",
    "    def __init__(self):\n",
    "        super(NeuralNetwork, self).__init__()\n",
    "        self.linear_relu_stack = nn.Sequential(\n",
    "            nn.Linear(5, 5),\n",
    "            nn.Linear(5,20),\n",
    "            nn.Linear(20,1)\n",
    "            #nn.ReLU(),\n",
    "        )\n",
    "\n",
    "    def forward(self, x):\n",
    "        logits = self.linear_relu_stack(x)\n",
    "        return logits"
   ]
  },
  {
   "cell_type": "code",
   "execution_count": 365,
   "metadata": {},
   "outputs": [
    {
     "data": {
      "text/plain": [
       "NeuralNetwork(\n",
       "  (linear_relu_stack): Sequential(\n",
       "    (0): Linear(in_features=5, out_features=5, bias=True)\n",
       "    (1): Linear(in_features=5, out_features=20, bias=True)\n",
       "    (2): Linear(in_features=20, out_features=1, bias=True)\n",
       "  )\n",
       ")"
      ]
     },
     "execution_count": 365,
     "metadata": {},
     "output_type": "execute_result"
    }
   ],
   "source": [
    "nn_model = NeuralNetwork()\n",
    "nn_model"
   ]
  },
  {
   "cell_type": "code",
   "execution_count": 366,
   "metadata": {},
   "outputs": [
    {
     "data": {
      "text/plain": [
       "NeuralNetwork(\n",
       "  (linear_relu_stack): Sequential(\n",
       "    (0): Linear(in_features=5, out_features=5, bias=True)\n",
       "    (1): Linear(in_features=5, out_features=20, bias=True)\n",
       "    (2): Linear(in_features=20, out_features=1, bias=True)\n",
       "  )\n",
       ")"
      ]
     },
     "execution_count": 366,
     "metadata": {},
     "output_type": "execute_result"
    }
   ],
   "source": [
    "def init_weights(m):\n",
    "    if isinstance(m, nn.Linear):\n",
    "        torch.nn.init.xavier_uniform_(m.weight)\n",
    "        m.bias.data.fill_(0.01)\n",
    "\n",
    "nn_model.apply(init_weights)"
   ]
  },
  {
   "cell_type": "code",
   "execution_count": 367,
   "metadata": {},
   "outputs": [],
   "source": [
    "learning_rate = 1e-1\n",
    "batch_size = 1\n",
    "epochs = 5\n",
    "loss_fn = nn.MSELoss()\n",
    "optimizer = torch.optim.Adam(nn_model.parameters(), lr=learning_rate)\n",
    "\n",
    "MAPE = MeanAbsolutePercentageError()"
   ]
  },
  {
   "attachments": {},
   "cell_type": "markdown",
   "metadata": {},
   "source": [
    "### DataLoaders"
   ]
  },
  {
   "cell_type": "code",
   "execution_count": 368,
   "metadata": {},
   "outputs": [],
   "source": [
    "train_dataloader = torch.utils.data.DataLoader(train_data, batch_size=batch_size, shuffle=False, sampler=None,\n",
    "                    batch_sampler=None, num_workers=0, collate_fn=None,\n",
    "                    pin_memory=False, drop_last=False, timeout=0,\n",
    "                    worker_init_fn=None, prefetch_factor=2,\n",
    "                    persistent_workers=False)"
   ]
  },
  {
   "cell_type": "code",
   "execution_count": 369,
   "metadata": {},
   "outputs": [],
   "source": [
    "test_dataloader = torch.utils.data.DataLoader(test_data, batch_size=batch_size, shuffle=False, sampler=None,\n",
    "                    batch_sampler=None, num_workers=0, collate_fn=None,\n",
    "                    pin_memory=False, drop_last=False, timeout=0,\n",
    "                    worker_init_fn=None, prefetch_factor=2,\n",
    "                    persistent_workers=False)"
   ]
  },
  {
   "attachments": {},
   "cell_type": "markdown",
   "metadata": {},
   "source": [
    "### Training & Testing"
   ]
  },
  {
   "cell_type": "code",
   "execution_count": 370,
   "metadata": {},
   "outputs": [],
   "source": [
    "def run_epoch(ep_id, action, loader, model, optimizer, criterion):\n",
    "    losses = [] # Keep list of accuracies to track progress\n",
    "    is_training = action == \"train\" # True when action == \"train\", else False \n",
    "\n",
    "    # Looping over all batches\n",
    "    for batch_idx, batch in enumerate(loader): \n",
    "            x, y = batch\n",
    "            #print(\"x: {}\".format(x))\n",
    "            #print(\"y: {}\".format(y))\n",
    "\n",
    "            # Resetting the optimizer gradients\n",
    "            optimizer.zero_grad()\n",
    "\n",
    "            # Setting model to train or test\n",
    "            with torch.set_grad_enabled(is_training):\n",
    "                \n",
    "                # Feed batch to model\n",
    "                logits = nn_model(x).squeeze(1)\n",
    "                print(\"logits: {}\".format(logits))\n",
    "\n",
    "                # Calculate the loss based on predictions and real labels\n",
    "                loss = criterion(logits, y)\n",
    "                print(\"loss: {}\".format(loss))\n",
    "                mape_loss = MAPE(logits, y)\n",
    "\n",
    "                # If training, perform backprop and update weights\n",
    "                if is_training:\n",
    "                    loss.backward()\n",
    "                    optimizer.step()\n",
    "\n",
    "                # Append current batch accuracy\n",
    "                losses.append(mape_loss.detach().numpy())\n",
    "\n",
    "                # Print some stats every 50th batch \n",
    "                if batch_idx % 50 == 0:\n",
    "                    print(f\"{action.capitalize()}ing, Epoch: {ep_id+1}, Batch {batch_idx}: Loss = {loss.item()}\")\n",
    "    # Return accuracies to main loop                 \n",
    "    return losses"
   ]
  },
  {
   "cell_type": "code",
   "execution_count": 371,
   "metadata": {},
   "outputs": [],
   "source": [
    "def main(epochs, train_dl, test_dl, model, optimizer, criterion):\n",
    "\n",
    "    # Keep lists of accuracies to track performance on train and test sets\n",
    "    train_losses = []\n",
    "    test_losses = []\n",
    "\n",
    "    # Looping over epochs\n",
    "    for epoch in range(epochs):\n",
    "        \n",
    "        # Looping over train set and training\n",
    "        train_loss = run_epoch(epoch, \"train\", train_dl, model, optimizer, criterion)\n",
    "\n",
    "        # Looping over test set\n",
    "        test_loss = run_epoch(epoch, \"test\", test_dl, model, optimizer, criterion) \n",
    "\n",
    "        # Collecting stats\n",
    "        train_losses += train_loss\n",
    "        test_losses += test_loss         \n",
    "            \n",
    "    return train_losses, test_losses"
   ]
  },
  {
   "cell_type": "code",
   "execution_count": 372,
   "metadata": {},
   "outputs": [
    {
     "name": "stdout",
     "output_type": "stream",
     "text": [
      "logits: tensor([14.9474], grad_fn=<SqueezeBackward1>)\n",
      "loss: 268207856.0\n",
      "Training, Epoch: 1, Batch 0: Loss = 268207856.0\n",
      "logits: tensor([143.6878], grad_fn=<SqueezeBackward1>)\n",
      "loss: 264007664.0\n",
      "logits: tensor([404.1245], grad_fn=<SqueezeBackward1>)\n",
      "loss: 255612176.0\n",
      "logits: tensor([602.8307], grad_fn=<SqueezeBackward1>)\n",
      "loss: 249297856.0\n",
      "logits: tensor([1366.7476], grad_fn=<SqueezeBackward1>)\n",
      "loss: 225758192.0\n",
      "logits: tensor([2151.1670], grad_fn=<SqueezeBackward1>)\n",
      "loss: 202801328.0\n",
      "logits: tensor([3280.4517], grad_fn=<SqueezeBackward1>)\n",
      "loss: 171912720.0\n",
      "logits: tensor([4516.3096], grad_fn=<SqueezeBackward1>)\n",
      "loss: 141032016.0\n",
      "logits: tensor([5981.1445], grad_fn=<SqueezeBackward1>)\n",
      "loss: 108385912.0\n",
      "logits: tensor([8891.6953], grad_fn=<SqueezeBackward1>)\n",
      "loss: 56254572.0\n",
      "logits: tensor([10147.3818], grad_fn=<SqueezeBackward1>)\n",
      "loss: 38995256.0\n",
      "logits: tensor([12017.7373], grad_fn=<SqueezeBackward1>)\n",
      "loss: 19134174.0\n",
      "logits: tensor([19516.6113], grad_fn=<SqueezeBackward1>)\n",
      "loss: 9763196.0\n",
      "logits: tensor([23751.5527], grad_fn=<SqueezeBackward1>)\n",
      "loss: 54163016.0\n",
      "logits: tensor([24097.6855], grad_fn=<SqueezeBackward1>)\n",
      "loss: 59377588.0\n",
      "logits: tensor([21911.4199], grad_fn=<SqueezeBackward1>)\n",
      "loss: 30463996.0\n",
      "logits: tensor([21758.6621], grad_fn=<SqueezeBackward1>)\n",
      "loss: 28801062.0\n",
      "logits: tensor([17315.3555], grad_fn=<SqueezeBackward1>)\n",
      "loss: 852585.3125\n",
      "logits: tensor([18865.6172], grad_fn=<SqueezeBackward1>)\n",
      "loss: 6118782.0\n",
      "logits: tensor([18399.6797], grad_fn=<SqueezeBackward1>)\n",
      "loss: 4030777.75\n",
      "logits: tensor([16010.0566], grad_fn=<SqueezeBackward1>)\n",
      "loss: 145880.734375\n",
      "logits: tensor([15319.0918], grad_fn=<SqueezeBackward1>)\n",
      "loss: 1151132.0\n",
      "logits: tensor([14423.0254], grad_fn=<SqueezeBackward1>)\n",
      "loss: 3876861.0\n",
      "logits: tensor([11051.9482], grad_fn=<SqueezeBackward1>)\n",
      "loss: 28516152.0\n",
      "logits: tensor([12125.3984], grad_fn=<SqueezeBackward1>)\n",
      "loss: 18203888.0\n",
      "logits: tensor([13223.7227], grad_fn=<SqueezeBackward1>)\n",
      "loss: 10037981.0\n",
      "logits: tensor([12619.1865], grad_fn=<SqueezeBackward1>)\n",
      "loss: 14234122.0\n",
      "logits: tensor([12228.7725], grad_fn=<SqueezeBackward1>)\n",
      "loss: 17332464.0\n",
      "logits: tensor([11984.2773], grad_fn=<SqueezeBackward1>)\n",
      "loss: 19428020.0\n",
      "logits: tensor([13082.7158], grad_fn=<SqueezeBackward1>)\n",
      "loss: 10951362.0\n",
      "logits: tensor([16546.0742], grad_fn=<SqueezeBackward1>)\n",
      "loss: 23738.865234375\n",
      "logits: tensor([18538.2070], grad_fn=<SqueezeBackward1>)\n",
      "loss: 4606204.5\n",
      "logits: tensor([16637.9336], grad_fn=<SqueezeBackward1>)\n",
      "loss: 60483.33203125\n",
      "logits: tensor([18139.1641], grad_fn=<SqueezeBackward1>)\n",
      "loss: 3052582.25\n",
      "logits: tensor([19243.5078], grad_fn=<SqueezeBackward1>)\n",
      "loss: 8131097.0\n",
      "logits: tensor([16232.2139], grad_fn=<SqueezeBackward1>)\n",
      "loss: 25531.607421875\n",
      "logits: tensor([19305.4258], grad_fn=<SqueezeBackward1>)\n",
      "loss: 8488050.0\n",
      "logits: tensor([18845.3320], grad_fn=<SqueezeBackward1>)\n",
      "loss: 6018838.0\n",
      "logits: tensor([18232.0859], grad_fn=<SqueezeBackward1>)\n",
      "loss: 3385916.25\n",
      "logits: tensor([17359.5801], grad_fn=<SqueezeBackward1>)\n",
      "loss: 936211.1875\n",
      "logits: tensor([17465.6445], grad_fn=<SqueezeBackward1>)\n",
      "loss: 1152712.625\n",
      "logits: tensor([15391.3447], grad_fn=<SqueezeBackward1>)\n",
      "loss: 1001311.0\n",
      "logits: tensor([14966.4229], grad_fn=<SqueezeBackward1>)\n",
      "loss: 2032270.25\n",
      "logits: tensor([15538.2490], grad_fn=<SqueezeBackward1>)\n",
      "loss: 728890.75\n",
      "logits: tensor([14013.7012], grad_fn=<SqueezeBackward1>)\n",
      "loss: 5656305.5\n",
      "logits: tensor([12503.6455], grad_fn=<SqueezeBackward1>)\n",
      "loss: 15119301.0\n",
      "logits: tensor([14943.3018], grad_fn=<SqueezeBackward1>)\n",
      "loss: 2098726.5\n",
      "logits: tensor([14216.9775], grad_fn=<SqueezeBackward1>)\n",
      "loss: 4730722.5\n",
      "logits: tensor([13393.4502], grad_fn=<SqueezeBackward1>)\n",
      "loss: 8991301.0\n",
      "logits: tensor([14849.7910], grad_fn=<SqueezeBackward1>)\n",
      "loss: 2378408.5\n",
      "logits: tensor([17009.8848], grad_fn=<SqueezeBackward1>)\n",
      "loss: 381781.59375\n",
      "Training, Epoch: 1, Batch 50: Loss = 381781.59375\n",
      "logits: tensor([17973.0273], grad_fn=<SqueezeBackward1>)\n",
      "loss: 2499647.5\n",
      "logits: tensor([16887.4414], grad_fn=<SqueezeBackward1>)\n",
      "loss: 245462.1875\n",
      "logits: tensor([19061.0938], grad_fn=<SqueezeBackward1>)\n",
      "loss: 7124061.5\n",
      "logits: tensor([16254.1328], grad_fn=<SqueezeBackward1>)\n",
      "loss: 19007.361328125\n",
      "logits: tensor([19346.3203], grad_fn=<SqueezeBackward1>)\n",
      "loss: 8728009.0\n",
      "logits: tensor([16647.3926], grad_fn=<SqueezeBackward1>)\n",
      "loss: 65225.3671875\n",
      "logits: tensor([18865.7812], grad_fn=<SqueezeBackward1>)\n",
      "loss: 6119593.5\n",
      "logits: tensor([17761.2715], grad_fn=<SqueezeBackward1>)\n",
      "loss: 1874904.375\n",
      "logits: tensor([16820.7188], grad_fn=<SqueezeBackward1>)\n",
      "loss: 183799.765625\n",
      "logits: tensor([16372.7090], grad_fn=<SqueezeBackward1>)\n",
      "loss: 372.1432800292969\n",
      "logits: tensor([15437.5381], grad_fn=<SqueezeBackward1>)\n",
      "loss: 910997.5625\n",
      "logits: tensor([15627.3496], grad_fn=<SqueezeBackward1>)\n",
      "loss: 584690.25\n",
      "logits: tensor([15504.3623], grad_fn=<SqueezeBackward1>)\n",
      "loss: 787900.6875\n",
      "logits: tensor([14649.3359], grad_fn=<SqueezeBackward1>)\n",
      "loss: 3036878.0\n",
      "logits: tensor([12346.1689], grad_fn=<SqueezeBackward1>)\n",
      "loss: 16368749.0\n",
      "logits: tensor([15056.6689], grad_fn=<SqueezeBackward1>)\n",
      "loss: 1783109.0\n",
      "logits: tensor([15402.8525], grad_fn=<SqueezeBackward1>)\n",
      "loss: 978412.6875\n",
      "logits: tensor([16158.8584], grad_fn=<SqueezeBackward1>)\n",
      "loss: 54355.0078125\n",
      "logits: tensor([15090.6094], grad_fn=<SqueezeBackward1>)\n",
      "loss: 1693617.5\n",
      "logits: tensor([16831.0352], grad_fn=<SqueezeBackward1>)\n",
      "loss: 192751.875\n",
      "logits: tensor([15662.0205], grad_fn=<SqueezeBackward1>)\n",
      "loss: 532870.0625\n",
      "logits: tensor([16561.1992], grad_fn=<SqueezeBackward1>)\n",
      "loss: 28628.375\n",
      "logits: tensor([18922.1855], grad_fn=<SqueezeBackward1>)\n",
      "loss: 6401839.0\n",
      "logits: tensor([18841.1348], grad_fn=<SqueezeBackward1>)\n",
      "loss: 5998261.0\n",
      "logits: tensor([18556.4844], grad_fn=<SqueezeBackward1>)\n",
      "loss: 4684992.5\n",
      "logits: tensor([17995.4434], grad_fn=<SqueezeBackward1>)\n",
      "loss: 2571030.5\n",
      "logits: tensor([17391.2871])\n",
      "loss: 998574.75\n",
      "Testing, Epoch: 1, Batch 0: Loss = 998574.75\n",
      "logits: tensor([18076.1934])\n",
      "loss: 2836507.25\n",
      "logits: tensor([17271.4043])\n",
      "loss: 773351.9375\n",
      "logits: tensor([18031.6660])\n",
      "loss: 2688504.75\n",
      "logits: tensor([15432.1865])\n",
      "loss: 921241.9375\n",
      "logits: tensor([17882.7988])\n",
      "loss: 2222481.25\n",
      "logits: tensor([16221.3145])\n",
      "loss: 29133.556640625\n",
      "logits: tensor([15762.6338])\n",
      "loss: 396101.8125\n",
      "logits: tensor([16856.1562])\n",
      "loss: 215441.03125\n",
      "logits: tensor([17494.7363])\n",
      "loss: 1216027.375\n",
      "logits: tensor([16678.4336])\n",
      "loss: 82044.203125\n",
      "logits: tensor([16358.6582])\n",
      "loss: 1111.6754150390625\n",
      "logits: tensor([17308.2480])\n",
      "loss: 839510.5\n",
      "logits: tensor([17455.4902])\n",
      "loss: 1131011.5\n",
      "logits: tensor([15133.2998])\n",
      "loss: 1584326.125\n",
      "logits: tensor([17500.2051])\n",
      "loss: 1228118.5\n",
      "logits: tensor([17801.3066])\n",
      "loss: 1986145.25\n",
      "logits: tensor([17254.9570])\n",
      "loss: 744694.8125\n",
      "logits: tensor([17054.2363])\n",
      "loss: 438556.96875\n",
      "logits: tensor([17004.9219], grad_fn=<SqueezeBackward1>)\n",
      "loss: 375673.21875\n",
      "Training, Epoch: 2, Batch 0: Loss = 375673.21875\n",
      "logits: tensor([14383.7803], grad_fn=<SqueezeBackward1>)\n",
      "loss: 4032946.5\n",
      "logits: tensor([16178.4336], grad_fn=<SqueezeBackward1>)\n",
      "loss: 45610.609375\n",
      "logits: tensor([13050.3057], grad_fn=<SqueezeBackward1>)\n",
      "loss: 11166921.0\n",
      "logits: tensor([15905.6455], grad_fn=<SqueezeBackward1>)\n",
      "loss: 236540.6875\n",
      "logits: tensor([15490.5156], grad_fn=<SqueezeBackward1>)\n",
      "loss: 812674.0625\n",
      "logits: tensor([16332.3145], grad_fn=<SqueezeBackward1>)\n",
      "loss: 3562.364501953125\n",
      "logits: tensor([16388.1641], grad_fn=<SqueezeBackward1>)\n",
      "loss: 14.71441650390625\n",
      "logits: tensor([16088.0186], grad_fn=<SqueezeBackward1>)\n",
      "loss: 92404.71875\n",
      "logits: tensor([16109.1660], grad_fn=<SqueezeBackward1>)\n",
      "loss: 79995.0625\n",
      "logits: tensor([15780.5732], grad_fn=<SqueezeBackward1>)\n",
      "loss: 373842.6875\n",
      "logits: tensor([14865.1094], grad_fn=<SqueezeBackward1>)\n",
      "loss: 2331395.0\n",
      "logits: tensor([16778.8047], grad_fn=<SqueezeBackward1>)\n",
      "loss: 149617.859375\n",
      "logits: tensor([18188.9297], grad_fn=<SqueezeBackward1>)\n",
      "loss: 3228956.25\n",
      "logits: tensor([17854.5957], grad_fn=<SqueezeBackward1>)\n",
      "loss: 2139186.25\n",
      "logits: tensor([17342.0566], grad_fn=<SqueezeBackward1>)\n",
      "loss: 902607.625\n",
      "logits: tensor([17236.2871], grad_fn=<SqueezeBackward1>)\n",
      "loss: 712820.75\n",
      "logits: tensor([15486.8408], grad_fn=<SqueezeBackward1>)\n",
      "loss: 819313.125\n",
      "logits: tensor([15870.3662], grad_fn=<SqueezeBackward1>)\n",
      "loss: 272101.8125\n",
      "logits: tensor([16697.7402], grad_fn=<SqueezeBackward1>)\n",
      "loss: 93477.09375\n",
      "logits: tensor([16214.3975], grad_fn=<SqueezeBackward1>)\n",
      "loss: 31542.662109375\n",
      "logits: tensor([16140.9854], grad_fn=<SqueezeBackward1>)\n",
      "loss: 63008.35546875\n",
      "logits: tensor([16264.3340], grad_fn=<SqueezeBackward1>)\n",
      "loss: 16298.611328125\n",
      "logits: tensor([14518.4150], grad_fn=<SqueezeBackward1>)\n",
      "loss: 3510320.5\n",
      "logits: tensor([15423.1846], grad_fn=<SqueezeBackward1>)\n",
      "loss: 938603.3125\n",
      "logits: tensor([16437.4258], grad_fn=<SqueezeBackward1>)\n",
      "loss: 2063.501708984375\n",
      "logits: tensor([16940.2012], grad_fn=<SqueezeBackward1>)\n",
      "loss: 300524.53125\n",
      "logits: tensor([16210.4404], grad_fn=<SqueezeBackward1>)\n",
      "loss: 32963.87890625\n",
      "logits: tensor([15487.7559], grad_fn=<SqueezeBackward1>)\n",
      "loss: 817657.4375\n",
      "logits: tensor([15969.3486], grad_fn=<SqueezeBackward1>)\n",
      "loss: 178634.171875\n",
      "logits: tensor([17143.2285], grad_fn=<SqueezeBackward1>)\n",
      "loss: 564344.3125\n",
      "logits: tensor([18489.7988], grad_fn=<SqueezeBackward1>)\n",
      "loss: 4400760.0\n",
      "logits: tensor([16896.1055], grad_fn=<SqueezeBackward1>)\n",
      "loss: 254122.328125\n",
      "logits: tensor([17008.0020], grad_fn=<SqueezeBackward1>)\n",
      "loss: 379458.40625\n",
      "logits: tensor([16150.0400], grad_fn=<SqueezeBackward1>)\n",
      "loss: 58544.62109375\n",
      "logits: tensor([15252.6797], grad_fn=<SqueezeBackward1>)\n",
      "loss: 1298050.75\n",
      "logits: tensor([15777.6309], grad_fn=<SqueezeBackward1>)\n",
      "loss: 377449.4375\n",
      "logits: tensor([16497.5488], grad_fn=<SqueezeBackward1>)\n",
      "loss: 11140.5546875\n",
      "logits: tensor([16226.8838], grad_fn=<SqueezeBackward1>)\n",
      "loss: 27263.36328125\n",
      "logits: tensor([16564.4766], grad_fn=<SqueezeBackward1>)\n",
      "loss: 29748.1640625\n",
      "logits: tensor([16686.6953], grad_fn=<SqueezeBackward1>)\n",
      "loss: 86845.328125\n",
      "logits: tensor([16431.5098], grad_fn=<SqueezeBackward1>)\n",
      "loss: 1561.0216064453125\n",
      "logits: tensor([16631.0293], grad_fn=<SqueezeBackward1>)\n",
      "loss: 57135.00390625\n",
      "logits: tensor([16468.6660], grad_fn=<SqueezeBackward1>)\n",
      "loss: 5877.677734375\n",
      "logits: tensor([15294.8574], grad_fn=<SqueezeBackward1>)\n",
      "loss: 1203721.875\n",
      "logits: tensor([14894.3428], grad_fn=<SqueezeBackward1>)\n",
      "loss: 2242977.25\n",
      "logits: tensor([16306.6709], grad_fn=<SqueezeBackward1>)\n",
      "loss: 7281.0556640625\n",
      "logits: tensor([16175.3730], grad_fn=<SqueezeBackward1>)\n",
      "loss: 46927.23828125\n",
      "logits: tensor([15417.7158], grad_fn=<SqueezeBackward1>)\n",
      "loss: 949229.6875\n",
      "logits: tensor([16454.8516], grad_fn=<SqueezeBackward1>)\n",
      "loss: 3950.31884765625\n",
      "logits: tensor([17533.7402], grad_fn=<SqueezeBackward1>)\n",
      "loss: 1303570.75\n",
      "Training, Epoch: 2, Batch 50: Loss = 1303570.75\n",
      "logits: tensor([17555.2500], grad_fn=<SqueezeBackward1>)\n",
      "loss: 1353150.5\n",
      "logits: tensor([16797.3203], grad_fn=<SqueezeBackward1>)\n",
      "loss: 164284.5625\n",
      "logits: tensor([17548.7598], grad_fn=<SqueezeBackward1>)\n",
      "loss: 1338093.125\n",
      "logits: tensor([15747.5469], grad_fn=<SqueezeBackward1>)\n",
      "loss: 415319.84375\n",
      "logits: tensor([17640.5586], grad_fn=<SqueezeBackward1>)\n",
      "loss: 1558898.5\n",
      "logits: tensor([15602.1875], grad_fn=<SqueezeBackward1>)\n",
      "loss: 623803.8125\n",
      "logits: tensor([16423.3887], grad_fn=<SqueezeBackward1>)\n",
      "loss: 985.2487182617188\n",
      "logits: tensor([16012.4170], grad_fn=<SqueezeBackward1>)\n",
      "loss: 144083.265625\n",
      "logits: tensor([15975.7432], grad_fn=<SqueezeBackward1>)\n",
      "loss: 173269.75\n",
      "logits: tensor([16588.1289], grad_fn=<SqueezeBackward1>)\n",
      "loss: 38466.546875\n",
      "logits: tensor([15852.2402], grad_fn=<SqueezeBackward1>)\n",
      "loss: 291340.59375\n",
      "logits: tensor([16125.4873], grad_fn=<SqueezeBackward1>)\n",
      "loss: 71029.015625\n",
      "logits: tensor([16390.7383], grad_fn=<SqueezeBackward1>)\n",
      "loss: 1.5919342041015625\n",
      "logits: tensor([15452.6855], grad_fn=<SqueezeBackward1>)\n",
      "loss: 882311.625\n",
      "logits: tensor([14685.8428], grad_fn=<SqueezeBackward1>)\n",
      "loss: 2910972.5\n",
      "logits: tensor([16757.5527], grad_fn=<SqueezeBackward1>)\n",
      "loss: 133628.796875\n",
      "logits: tensor([16812.7402], grad_fn=<SqueezeBackward1>)\n",
      "loss: 177022.34375\n",
      "logits: tensor([17749.8594], grad_fn=<SqueezeBackward1>)\n",
      "loss: 1843782.125\n",
      "logits: tensor([16684.5645], grad_fn=<SqueezeBackward1>)\n",
      "loss: 85593.9609375\n",
      "logits: tensor([17279.4434], grad_fn=<SqueezeBackward1>)\n",
      "loss: 787555.6875\n",
      "logits: tensor([15934.8262], grad_fn=<SqueezeBackward1>)\n",
      "loss: 209007.90625\n",
      "logits: tensor([15932.6074], grad_fn=<SqueezeBackward1>)\n",
      "loss: 211041.546875\n",
      "logits: tensor([16372.6328], grad_fn=<SqueezeBackward1>)\n",
      "loss: 375.08795166015625\n",
      "logits: tensor([16956.4863], grad_fn=<SqueezeBackward1>)\n",
      "loss: 318644.8125\n",
      "logits: tensor([16276.2412], grad_fn=<SqueezeBackward1>)\n",
      "loss: 13400.09765625\n",
      "logits: tensor([16119.4238], grad_fn=<SqueezeBackward1>)\n",
      "loss: 74297.765625\n",
      "logits: tensor([16402.5098])\n",
      "loss: 110.45516967773438\n",
      "Testing, Epoch: 2, Batch 0: Loss = 110.45516967773438\n",
      "logits: tensor([16725.5176])\n",
      "loss: 111233.9765625\n",
      "logits: tensor([15738.7363])\n",
      "loss: 426753.4375\n",
      "logits: tensor([16709.8535])\n",
      "loss: 101030.859375\n",
      "logits: tensor([15388.3145])\n",
      "loss: 1007384.6875\n",
      "logits: tensor([16464.0957])\n",
      "loss: 5197.79052734375\n",
      "logits: tensor([15940.7441])\n",
      "loss: 203631.84375\n",
      "logits: tensor([15482.6387])\n",
      "loss: 826938.0\n",
      "logits: tensor([15983.6162])\n",
      "loss: 166777.3125\n",
      "logits: tensor([16280.8828])\n",
      "loss: 12347.029296875\n",
      "logits: tensor([16390.1172])\n",
      "loss: 3.54498291015625\n",
      "logits: tensor([15195.0723])\n",
      "loss: 1432636.0\n",
      "logits: tensor([15711.4053])\n",
      "loss: 463209.1875\n",
      "logits: tensor([16294.7773])\n",
      "loss: 9452.2451171875\n",
      "logits: tensor([15237.0996])\n",
      "loss: 1333794.875\n",
      "logits: tensor([15964.7656])\n",
      "loss: 182529.21875\n",
      "logits: tensor([16475.0918])\n",
      "loss: 6904.24658203125\n",
      "logits: tensor([16573.6367])\n",
      "loss: 32991.8984375\n",
      "logits: tensor([16271.2363])\n",
      "loss: 14583.8642578125\n",
      "logits: tensor([15535.3350], grad_fn=<SqueezeBackward1>)\n",
      "loss: 733875.0\n",
      "Training, Epoch: 3, Batch 0: Loss = 733875.0\n",
      "logits: tensor([14984.6250], grad_fn=<SqueezeBackward1>)\n",
      "loss: 1980704.375\n",
      "logits: tensor([16813.1445], grad_fn=<SqueezeBackward1>)\n",
      "loss: 177362.71875\n",
      "logits: tensor([14821.1260], grad_fn=<SqueezeBackward1>)\n",
      "loss: 2467645.25\n",
      "logits: tensor([17355.6445], grad_fn=<SqueezeBackward1>)\n",
      "loss: 928610.8125\n",
      "logits: tensor([16735.7129], grad_fn=<SqueezeBackward1>)\n",
      "loss: 118138.5546875\n",
      "logits: tensor([17956.8867], grad_fn=<SqueezeBackward1>)\n",
      "loss: 2448870.5\n",
      "logits: tensor([18066.4746], grad_fn=<SqueezeBackward1>)\n",
      "loss: 2803865.25\n",
      "logits: tensor([17284.6680], grad_fn=<SqueezeBackward1>)\n",
      "loss: 796856.125\n",
      "logits: tensor([15471.2998], grad_fn=<SqueezeBackward1>)\n",
      "loss: 847688.875\n",
      "logits: tensor([15734.8926], grad_fn=<SqueezeBackward1>)\n",
      "loss: 431790.15625\n",
      "logits: tensor([14506.5684], grad_fn=<SqueezeBackward1>)\n",
      "loss: 3554852.5\n",
      "logits: tensor([14651.6592], grad_fn=<SqueezeBackward1>)\n",
      "loss: 3028786.25\n",
      "logits: tensor([16259.3027], grad_fn=<SqueezeBackward1>)\n",
      "loss: 17608.564453125\n",
      "logits: tensor([16484.1660], grad_fn=<SqueezeBackward1>)\n",
      "loss: 8494.57421875\n",
      "logits: tensor([17073.7988], grad_fn=<SqueezeBackward1>)\n",
      "loss: 464849.65625\n",
      "logits: tensor([17186.0488], grad_fn=<SqueezeBackward1>)\n",
      "loss: 630513.5625\n",
      "logits: tensor([16328.4932], grad_fn=<SqueezeBackward1>)\n",
      "loss: 4033.1181640625\n",
      "logits: tensor([16055.2148], grad_fn=<SqueezeBackward1>)\n",
      "loss: 113424.2421875\n",
      "logits: tensor([17165.4668], grad_fn=<SqueezeBackward1>)\n",
      "loss: 598250.875\n",
      "logits: tensor([16967.0137], grad_fn=<SqueezeBackward1>)\n",
      "loss: 330640.71875\n",
      "logits: tensor([16618.9180], grad_fn=<SqueezeBackward1>)\n",
      "loss: 51491.765625\n",
      "logits: tensor([16636.8418], grad_fn=<SqueezeBackward1>)\n",
      "loss: 59947.50390625\n",
      "logits: tensor([15332.8350], grad_fn=<SqueezeBackward1>)\n",
      "loss: 1121830.625\n",
      "logits: tensor([15578.2520], grad_fn=<SqueezeBackward1>)\n",
      "loss: 662185.875\n",
      "logits: tensor([16151.6729], grad_fn=<SqueezeBackward1>)\n",
      "loss: 57757.13671875\n",
      "logits: tensor([17088.7012], grad_fn=<SqueezeBackward1>)\n",
      "loss: 485392.53125\n",
      "logits: tensor([16290.6553], grad_fn=<SqueezeBackward1>)\n",
      "loss: 10270.75390625\n",
      "logits: tensor([15538.4932], grad_fn=<SqueezeBackward1>)\n",
      "loss: 728473.9375\n",
      "logits: tensor([15866.6523], grad_fn=<SqueezeBackward1>)\n",
      "loss: 275990.15625\n",
      "logits: tensor([16196.4180], grad_fn=<SqueezeBackward1>)\n",
      "loss: 38252.33203125\n",
      "logits: tensor([17714.6992], grad_fn=<SqueezeBackward1>)\n",
      "loss: 1749533.25\n",
      "logits: tensor([16851.6641], grad_fn=<SqueezeBackward1>)\n",
      "loss: 211291.046875\n",
      "logits: tensor([16889.6016], grad_fn=<SqueezeBackward1>)\n",
      "loss: 247607.3125\n",
      "logits: tensor([15801.2275], grad_fn=<SqueezeBackward1>)\n",
      "loss: 349012.09375\n",
      "logits: tensor([15830.9990], grad_fn=<SqueezeBackward1>)\n",
      "loss: 314722.09375\n",
      "logits: tensor([15763.2539], grad_fn=<SqueezeBackward1>)\n",
      "loss: 395321.65625\n",
      "logits: tensor([16834.3301], grad_fn=<SqueezeBackward1>)\n",
      "loss: 195655.890625\n",
      "logits: tensor([16524.3379], grad_fn=<SqueezeBackward1>)\n",
      "loss: 17513.31640625\n",
      "logits: tensor([17020.8965], grad_fn=<SqueezeBackward1>)\n",
      "loss: 395510.78125\n",
      "logits: tensor([16838.6855], grad_fn=<SqueezeBackward1>)\n",
      "loss: 199527.984375\n",
      "logits: tensor([16832.3164], grad_fn=<SqueezeBackward1>)\n",
      "loss: 193878.53125\n",
      "logits: tensor([16860.6348], grad_fn=<SqueezeBackward1>)\n",
      "loss: 219618.546875\n",
      "logits: tensor([16015.5635], grad_fn=<SqueezeBackward1>)\n",
      "loss: 141704.453125\n",
      "logits: tensor([14788.2031], grad_fn=<SqueezeBackward1>)\n",
      "loss: 2572164.5\n",
      "logits: tensor([14949.3848], grad_fn=<SqueezeBackward1>)\n",
      "loss: 2081138.75\n",
      "logits: tensor([15824.1113], grad_fn=<SqueezeBackward1>)\n",
      "loss: 322497.53125\n",
      "logits: tensor([16209.5977], grad_fn=<SqueezeBackward1>)\n",
      "loss: 33270.61328125\n",
      "logits: tensor([15754.5850], grad_fn=<SqueezeBackward1>)\n",
      "loss: 406297.9375\n",
      "logits: tensor([16833.7031], grad_fn=<SqueezeBackward1>)\n",
      "loss: 195101.65625\n",
      "logits: tensor([17640.5586], grad_fn=<SqueezeBackward1>)\n",
      "loss: 1558898.5\n",
      "Training, Epoch: 3, Batch 50: Loss = 1558898.5\n",
      "logits: tensor([17475.7012], grad_fn=<SqueezeBackward1>)\n",
      "loss: 1174408.25\n",
      "logits: tensor([16994.6172], grad_fn=<SqueezeBackward1>)\n",
      "loss: 363147.46875\n",
      "logits: tensor([17243.8477], grad_fn=<SqueezeBackward1>)\n",
      "loss: 725644.4375\n",
      "logits: tensor([15831.3818], grad_fn=<SqueezeBackward1>)\n",
      "loss: 314292.71875\n",
      "logits: tensor([17329.1094], grad_fn=<SqueezeBackward1>)\n",
      "loss: 878174.0\n",
      "logits: tensor([15473.5283], grad_fn=<SqueezeBackward1>)\n",
      "loss: 843590.25\n",
      "logits: tensor([15796.7695], grad_fn=<SqueezeBackward1>)\n",
      "loss: 354299.3125\n",
      "logits: tensor([15544.4922], grad_fn=<SqueezeBackward1>)\n",
      "loss: 718269.5\n",
      "logits: tensor([15802.8760], grad_fn=<SqueezeBackward1>)\n",
      "loss: 347067.125\n",
      "logits: tensor([16854.2734], grad_fn=<SqueezeBackward1>)\n",
      "loss: 213696.734375\n",
      "logits: tensor([16105.2686], grad_fn=<SqueezeBackward1>)\n",
      "loss: 82214.921875\n",
      "logits: tensor([16425.0664], grad_fn=<SqueezeBackward1>)\n",
      "loss: 1093.38720703125\n",
      "logits: tensor([16755.0508], grad_fn=<SqueezeBackward1>)\n",
      "loss: 131805.875\n",
      "logits: tensor([15717.0176], grad_fn=<SqueezeBackward1>)\n",
      "loss: 455601.28125\n",
      "logits: tensor([15356.0938], grad_fn=<SqueezeBackward1>)\n",
      "loss: 1073101.75\n",
      "logits: tensor([16962.0840], grad_fn=<SqueezeBackward1>)\n",
      "loss: 324995.75\n",
      "logits: tensor([16838.6504], grad_fn=<SqueezeBackward1>)\n",
      "loss: 199496.578125\n",
      "logits: tensor([17766.2266], grad_fn=<SqueezeBackward1>)\n",
      "loss: 1888498.625\n",
      "logits: tensor([16793.6074], grad_fn=<SqueezeBackward1>)\n",
      "loss: 161288.515625\n",
      "logits: tensor([16984.8281], grad_fn=<SqueezeBackward1>)\n",
      "loss: 351445.1875\n",
      "logits: tensor([15715.9062], grad_fn=<SqueezeBackward1>)\n",
      "loss: 457102.75\n",
      "logits: tensor([15564.8330], grad_fn=<SqueezeBackward1>)\n",
      "loss: 684205.25\n",
      "logits: tensor([15544.3311], grad_fn=<SqueezeBackward1>)\n",
      "loss: 718542.625\n",
      "logits: tensor([16549.5293], grad_fn=<SqueezeBackward1>)\n",
      "loss: 24815.478515625\n",
      "logits: tensor([15910.8555], grad_fn=<SqueezeBackward1>)\n",
      "loss: 231500.0625\n",
      "logits: tensor([16014.4258], grad_fn=<SqueezeBackward1>)\n",
      "loss: 142562.296875\n",
      "logits: tensor([16660.6816])\n",
      "loss: 72189.8203125\n",
      "Testing, Epoch: 3, Batch 0: Loss = 72189.8203125\n",
      "logits: tensor([16951.3242])\n",
      "loss: 312843.59375\n",
      "logits: tensor([15911.2529])\n",
      "loss: 231117.75\n",
      "logits: tensor([16913.3906])\n",
      "loss: 271848.1875\n",
      "logits: tensor([15950.8174])\n",
      "loss: 194642.109375\n",
      "logits: tensor([16667.5098])\n",
      "loss: 75905.6328125\n",
      "logits: tensor([16448.2070])\n",
      "loss: 3159.23046875\n",
      "logits: tensor([15976.2070])\n",
      "loss: 172883.796875\n",
      "logits: tensor([16238.7402])\n",
      "loss: 23488.556640625\n",
      "logits: tensor([16473.4609])\n",
      "loss: 6635.88427734375\n",
      "logits: tensor([16904.6152])\n",
      "loss: 262774.375\n",
      "logits: tensor([15399.6025])\n",
      "loss: 984852.75\n",
      "logits: tensor([15872.4326])\n",
      "loss: 269950.25\n",
      "logits: tensor([16488.2949])\n",
      "loss: 9272.7119140625\n",
      "logits: tensor([15833.8350])\n",
      "loss: 311548.21875\n",
      "logits: tensor([16141.8545])\n",
      "loss: 62572.7734375\n",
      "logits: tensor([16667.1992])\n",
      "loss: 75734.609375\n",
      "logits: tensor([16926.3008])\n",
      "loss: 285477.3125\n",
      "logits: tensor([16569.3301])\n",
      "loss: 31445.95703125\n",
      "logits: tensor([15711.0752], grad_fn=<SqueezeBackward1>)\n",
      "loss: 463658.59375\n",
      "Training, Epoch: 4, Batch 0: Loss = 463658.59375\n",
      "logits: tensor([15748.3672], grad_fn=<SqueezeBackward1>)\n",
      "loss: 414263.1875\n",
      "logits: tensor([17477.9531], grad_fn=<SqueezeBackward1>)\n",
      "loss: 1179294.25\n",
      "logits: tensor([15687.6934], grad_fn=<SqueezeBackward1>)\n",
      "loss: 496047.84375\n",
      "logits: tensor([17780.9023], grad_fn=<SqueezeBackward1>)\n",
      "loss: 1929049.75\n",
      "logits: tensor([16836.3691], grad_fn=<SqueezeBackward1>)\n",
      "loss: 197463.9375\n",
      "logits: tensor([17802.4434], grad_fn=<SqueezeBackward1>)\n",
      "loss: 1989350.5\n",
      "logits: tensor([17794.9336], grad_fn=<SqueezeBackward1>)\n",
      "loss: 1968222.625\n",
      "logits: tensor([16899.1934], grad_fn=<SqueezeBackward1>)\n",
      "loss: 257245.109375\n",
      "logits: tensor([14615.6572], grad_fn=<SqueezeBackward1>)\n",
      "loss: 3155393.75\n",
      "logits: tensor([15329.7285], grad_fn=<SqueezeBackward1>)\n",
      "loss: 1128420.75\n",
      "logits: tensor([14303.0430], grad_fn=<SqueezeBackward1>)\n",
      "loss: 4363741.5\n",
      "logits: tensor([14219.0518], grad_fn=<SqueezeBackward1>)\n",
      "loss: 4721704.0\n",
      "logits: tensor([16184.8848], grad_fn=<SqueezeBackward1>)\n",
      "loss: 42896.71875\n",
      "logits: tensor([16750.0039], grad_fn=<SqueezeBackward1>)\n",
      "loss: 128166.796875\n",
      "logits: tensor([17799.2871], grad_fn=<SqueezeBackward1>)\n",
      "loss: 1980457.0\n",
      "logits: tensor([17800.1777], grad_fn=<SqueezeBackward1>)\n",
      "loss: 1982964.5\n",
      "logits: tensor([16991.8516], grad_fn=<SqueezeBackward1>)\n",
      "loss: 359821.90625\n",
      "logits: tensor([16029.8945], grad_fn=<SqueezeBackward1>)\n",
      "loss: 131120.375\n",
      "logits: tensor([17008.6074], grad_fn=<SqueezeBackward1>)\n",
      "loss: 380204.71875\n",
      "logits: tensor([16609.7754], grad_fn=<SqueezeBackward1>)\n",
      "loss: 47426.12109375\n",
      "logits: tensor([16163.1533], grad_fn=<SqueezeBackward1>)\n",
      "loss: 52370.8046875\n",
      "logits: tensor([16189.0859], grad_fn=<SqueezeBackward1>)\n",
      "loss: 41174.1171875\n",
      "logits: tensor([15191.2363], grad_fn=<SqueezeBackward1>)\n",
      "loss: 1441833.375\n",
      "logits: tensor([15330.0459], grad_fn=<SqueezeBackward1>)\n",
      "loss: 1127746.5\n",
      "logits: tensor([16150.1416], grad_fn=<SqueezeBackward1>)\n",
      "loss: 58495.484375\n",
      "logits: tensor([17335.9023], grad_fn=<SqueezeBackward1>)\n",
      "loss: 890951.625\n",
      "logits: tensor([16640.7656], grad_fn=<SqueezeBackward1>)\n",
      "loss: 61884.3359375\n",
      "logits: tensor([15920.2139], grad_fn=<SqueezeBackward1>)\n",
      "loss: 222582.15625\n",
      "logits: tensor([16195.1738], grad_fn=<SqueezeBackward1>)\n",
      "loss: 38740.54296875\n",
      "logits: tensor([16377.5078], grad_fn=<SqueezeBackward1>)\n",
      "loss: 210.02349853515625\n",
      "logits: tensor([17760.7129], grad_fn=<SqueezeBackward1>)\n",
      "loss: 1873375.0\n",
      "logits: tensor([16758.6914], grad_fn=<SqueezeBackward1>)\n",
      "loss: 134462.59375\n",
      "logits: tensor([16553.9102], grad_fn=<SqueezeBackward1>)\n",
      "loss: 26214.8984375\n",
      "logits: tensor([15487.3086], grad_fn=<SqueezeBackward1>)\n",
      "loss: 818466.5625\n",
      "logits: tensor([15618.0273], grad_fn=<SqueezeBackward1>)\n",
      "loss: 599033.6875\n",
      "logits: tensor([15579.4756], grad_fn=<SqueezeBackward1>)\n",
      "loss: 660195.9375\n",
      "logits: tensor([16638.8848], grad_fn=<SqueezeBackward1>)\n",
      "loss: 60952.0859375\n",
      "logits: tensor([16481.6543], grad_fn=<SqueezeBackward1>)\n",
      "loss: 8037.89306640625\n",
      "logits: tensor([17138.8828], grad_fn=<SqueezeBackward1>)\n",
      "loss: 557833.9375\n",
      "logits: tensor([17126.1797], grad_fn=<SqueezeBackward1>)\n",
      "loss: 539019.8125\n",
      "logits: tensor([17115.5566], grad_fn=<SqueezeBackward1>)\n",
      "loss: 523534.21875\n",
      "logits: tensor([17050.8066], grad_fn=<SqueezeBackward1>)\n",
      "loss: 434026.1875\n",
      "logits: tensor([16019.8701], grad_fn=<SqueezeBackward1>)\n",
      "loss: 138480.65625\n",
      "logits: tensor([14596.7178], grad_fn=<SqueezeBackward1>)\n",
      "loss: 3223038.25\n",
      "logits: tensor([14897.0947], grad_fn=<SqueezeBackward1>)\n",
      "loss: 2234741.75\n",
      "logits: tensor([15661.5078], grad_fn=<SqueezeBackward1>)\n",
      "loss: 533618.8125\n",
      "logits: tensor([16216.8564], grad_fn=<SqueezeBackward1>)\n",
      "loss: 30675.265625\n",
      "logits: tensor([15851.9766], grad_fn=<SqueezeBackward1>)\n",
      "loss: 291625.3125\n",
      "logits: tensor([16997.5039], grad_fn=<SqueezeBackward1>)\n",
      "loss: 366634.96875\n",
      "logits: tensor([17726.4883], grad_fn=<SqueezeBackward1>)\n",
      "loss: 1780859.0\n",
      "Training, Epoch: 4, Batch 50: Loss = 1780859.0\n",
      "logits: tensor([17488.3848], grad_fn=<SqueezeBackward1>)\n",
      "loss: 1202059.5\n",
      "logits: tensor([17019.3145], grad_fn=<SqueezeBackward1>)\n",
      "loss: 393523.4375\n",
      "logits: tensor([17032.0098], grad_fn=<SqueezeBackward1>)\n",
      "loss: 409612.5\n",
      "logits: tensor([15696.3174], grad_fn=<SqueezeBackward1>)\n",
      "loss: 483974.3125\n",
      "logits: tensor([17107.2344], grad_fn=<SqueezeBackward1>)\n",
      "loss: 511560.21875\n",
      "logits: tensor([15351.1133], grad_fn=<SqueezeBackward1>)\n",
      "loss: 1083445.125\n",
      "logits: tensor([15672.7969], grad_fn=<SqueezeBackward1>)\n",
      "loss: 517253.125\n",
      "logits: tensor([15458.9570], grad_fn=<SqueezeBackward1>)\n",
      "loss: 870569.1875\n",
      "logits: tensor([15831.6982], grad_fn=<SqueezeBackward1>)\n",
      "loss: 313938.0625\n",
      "logits: tensor([17103.3965], grad_fn=<SqueezeBackward1>)\n",
      "loss: 506084.96875\n",
      "logits: tensor([16322.4092], grad_fn=<SqueezeBackward1>)\n",
      "loss: 4842.88232421875\n",
      "logits: tensor([16749.3223], grad_fn=<SqueezeBackward1>)\n",
      "loss: 127679.203125\n",
      "logits: tensor([17017.5586], grad_fn=<SqueezeBackward1>)\n",
      "loss: 391323.5625\n",
      "logits: tensor([15891.9658], grad_fn=<SqueezeBackward1>)\n",
      "loss: 250034.1875\n",
      "logits: tensor([15293.4258], grad_fn=<SqueezeBackward1>)\n",
      "loss: 1206865.375\n",
      "logits: tensor([16660.9707], grad_fn=<SqueezeBackward1>)\n",
      "loss: 72345.2421875\n",
      "logits: tensor([16532.1035], grad_fn=<SqueezeBackward1>)\n",
      "loss: 19628.994140625\n",
      "logits: tensor([17468.5371], grad_fn=<SqueezeBackward1>)\n",
      "loss: 1158932.125\n",
      "logits: tensor([16674.0469], grad_fn=<SqueezeBackward1>)\n",
      "loss: 79550.4375\n",
      "logits: tensor([16899.8223], grad_fn=<SqueezeBackward1>)\n",
      "loss: 257883.453125\n",
      "logits: tensor([15735.3125], grad_fn=<SqueezeBackward1>)\n",
      "loss: 431238.46875\n",
      "logits: tensor([15666.5264], grad_fn=<SqueezeBackward1>)\n",
      "loss: 526312.0\n",
      "logits: tensor([15635.6143], grad_fn=<SqueezeBackward1>)\n",
      "loss: 572119.375\n",
      "logits: tensor([16724.1680], grad_fn=<SqueezeBackward1>)\n",
      "loss: 110335.5625\n",
      "logits: tensor([16055.8857], grad_fn=<SqueezeBackward1>)\n",
      "loss: 112972.796875\n",
      "logits: tensor([16145.2266], grad_fn=<SqueezeBackward1>)\n",
      "loss: 60897.12890625\n",
      "logits: tensor([16776.5156])\n",
      "loss: 147852.265625\n",
      "Testing, Epoch: 4, Batch 0: Loss = 147852.265625\n",
      "logits: tensor([17158.8516])\n",
      "loss: 588061.3125\n",
      "logits: tensor([16157.9404])\n",
      "loss: 54783.8828125\n",
      "logits: tensor([17076.8789])\n",
      "loss: 469059.125\n",
      "logits: tensor([16155.4385])\n",
      "loss: 55961.35546875\n",
      "logits: tensor([16881.6504])\n",
      "loss: 239757.5\n",
      "logits: tensor([16649.3184])\n",
      "loss: 66212.734375\n",
      "logits: tensor([16175.5654])\n",
      "loss: 46843.921875\n",
      "logits: tensor([16318.4102])\n",
      "loss: 5415.46533203125\n",
      "logits: tensor([16593.1172])\n",
      "loss: 40448.125\n",
      "logits: tensor([17100.8359])\n",
      "loss: 502448.375\n",
      "logits: tensor([15560.1074])\n",
      "loss: 692045.25\n",
      "logits: tensor([16130.4463])\n",
      "loss: 68410.34375\n",
      "logits: tensor([16586.4023])\n",
      "loss: 37792.26953125\n",
      "logits: tensor([16032.5615])\n",
      "loss: 129196.015625\n",
      "logits: tensor([16387.1191])\n",
      "loss: 23.82278823852539\n",
      "logits: tensor([16825.4629])\n",
      "loss: 187890.078125\n",
      "logits: tensor([17043.8496])\n",
      "loss: 424907.90625\n",
      "logits: tensor([16662.3164])\n",
      "loss: 73070.9609375\n",
      "logits: tensor([15944.2803], grad_fn=<SqueezeBackward1>)\n",
      "loss: 200452.953125\n",
      "Training, Epoch: 5, Batch 0: Loss = 200452.953125\n",
      "logits: tensor([15901.2852], grad_fn=<SqueezeBackward1>)\n",
      "loss: 240801.0625\n",
      "logits: tensor([17434.3867], grad_fn=<SqueezeBackward1>)\n",
      "loss: 1086570.125\n",
      "logits: tensor([15700.7871], grad_fn=<SqueezeBackward1>)\n",
      "loss: 477775.25\n",
      "logits: tensor([17603.5469], grad_fn=<SqueezeBackward1>)\n",
      "loss: 1467845.875\n",
      "logits: tensor([16722.2285], grad_fn=<SqueezeBackward1>)\n",
      "loss: 109050.875\n",
      "logits: tensor([17528.3652], grad_fn=<SqueezeBackward1>)\n",
      "loss: 1291326.0\n",
      "logits: tensor([17559.9453], grad_fn=<SqueezeBackward1>)\n",
      "loss: 1364096.25\n",
      "logits: tensor([16766.8945], grad_fn=<SqueezeBackward1>)\n",
      "loss: 140545.90625\n",
      "logits: tensor([14547.0889], grad_fn=<SqueezeBackward1>)\n",
      "loss: 3403697.0\n",
      "logits: tensor([15366.4678], grad_fn=<SqueezeBackward1>)\n",
      "loss: 1051716.375\n",
      "logits: tensor([14444.7236], grad_fn=<SqueezeBackward1>)\n",
      "loss: 3791885.25\n",
      "logits: tensor([14481.9463], grad_fn=<SqueezeBackward1>)\n",
      "loss: 3648305.25\n",
      "logits: tensor([16518.1133], grad_fn=<SqueezeBackward1>)\n",
      "loss: 15904.5595703125\n",
      "logits: tensor([17037.8086], grad_fn=<SqueezeBackward1>)\n",
      "loss: 417068.75\n",
      "logits: tensor([18097.9102], grad_fn=<SqueezeBackward1>)\n",
      "loss: 2910129.5\n",
      "logits: tensor([17826.3984], grad_fn=<SqueezeBackward1>)\n",
      "loss: 2057498.875\n",
      "logits: tensor([16948.4512], grad_fn=<SqueezeBackward1>)\n",
      "loss: 309637.90625\n",
      "logits: tensor([15588.0811], grad_fn=<SqueezeBackward1>)\n",
      "loss: 646285.6875\n",
      "logits: tensor([16612.8887], grad_fn=<SqueezeBackward1>)\n",
      "loss: 48791.8046875\n",
      "logits: tensor([16193.2031], grad_fn=<SqueezeBackward1>)\n",
      "loss: 39520.19921875\n",
      "logits: tensor([15980.7793], grad_fn=<SqueezeBackward1>)\n",
      "loss: 169102.46875\n",
      "logits: tensor([16189.9922], grad_fn=<SqueezeBackward1>)\n",
      "loss: 40807.15625\n",
      "logits: tensor([15341.8643], grad_fn=<SqueezeBackward1>)\n",
      "loss: 1102785.125\n",
      "logits: tensor([15500.5117], grad_fn=<SqueezeBackward1>)\n",
      "loss: 794751.375\n",
      "logits: tensor([16584.9121], grad_fn=<SqueezeBackward1>)\n",
      "loss: 37215.08203125\n",
      "logits: tensor([17695.0469], grad_fn=<SqueezeBackward1>)\n",
      "loss: 1697931.125\n",
      "logits: tensor([16875.6152], grad_fn=<SqueezeBackward1>)\n",
      "loss: 233883.6875\n",
      "logits: tensor([16007.9062], grad_fn=<SqueezeBackward1>)\n",
      "loss: 147528.015625\n",
      "logits: tensor([16119.6885], grad_fn=<SqueezeBackward1>)\n",
      "loss: 74153.5625\n",
      "logits: tensor([16204.7988], grad_fn=<SqueezeBackward1>)\n",
      "loss: 35044.27734375\n",
      "logits: tensor([17457.5879], grad_fn=<SqueezeBackward1>)\n",
      "loss: 1135477.5\n",
      "logits: tensor([16427.7832], grad_fn=<SqueezeBackward1>)\n",
      "loss: 1280.4376220703125\n",
      "logits: tensor([16210.9531], grad_fn=<SqueezeBackward1>)\n",
      "loss: 32777.97265625\n",
      "logits: tensor([15417.8242], grad_fn=<SqueezeBackward1>)\n",
      "loss: 949018.4375\n",
      "logits: tensor([15641.9053], grad_fn=<SqueezeBackward1>)\n",
      "loss: 562642.125\n",
      "logits: tensor([15839.4854], grad_fn=<SqueezeBackward1>)\n",
      "loss: 305272.4375\n",
      "logits: tensor([16827.9805], grad_fn=<SqueezeBackward1>)\n",
      "loss: 190078.96875\n",
      "logits: tensor([16711.6309], grad_fn=<SqueezeBackward1>)\n",
      "loss: 102163.8828125\n",
      "logits: tensor([17328.9668], grad_fn=<SqueezeBackward1>)\n",
      "loss: 877906.75\n",
      "logits: tensor([17318.3477], grad_fn=<SqueezeBackward1>)\n",
      "loss: 858120.0\n",
      "logits: tensor([17110.8457], grad_fn=<SqueezeBackward1>)\n",
      "loss: 516739.15625\n",
      "logits: tensor([16877.4902], grad_fn=<SqueezeBackward1>)\n",
      "loss: 235700.765625\n",
      "logits: tensor([15721.4541], grad_fn=<SqueezeBackward1>)\n",
      "loss: 449631.8125\n",
      "logits: tensor([14218.9561], grad_fn=<SqueezeBackward1>)\n",
      "loss: 4722120.0\n",
      "logits: tensor([14729.4775], grad_fn=<SqueezeBackward1>)\n",
      "loss: 2763981.0\n",
      "logits: tensor([15537.8340], grad_fn=<SqueezeBackward1>)\n",
      "loss: 729599.5625\n",
      "logits: tensor([16341.6934], grad_fn=<SqueezeBackward1>)\n",
      "loss: 2530.758056640625\n",
      "logits: tensor([16115.6914], grad_fn=<SqueezeBackward1>)\n",
      "loss: 76346.4375\n",
      "logits: tensor([17359.2207], grad_fn=<SqueezeBackward1>)\n",
      "loss: 935515.875\n",
      "logits: tensor([18000.4199], grad_fn=<SqueezeBackward1>)\n",
      "loss: 2587014.75\n",
      "Training, Epoch: 5, Batch 50: Loss = 2587014.75\n",
      "logits: tensor([17604.8535], grad_fn=<SqueezeBackward1>)\n",
      "loss: 1471013.625\n",
      "logits: tensor([17013.2695], grad_fn=<SqueezeBackward1>)\n",
      "loss: 385975.84375\n",
      "logits: tensor([16736.5918], grad_fn=<SqueezeBackward1>)\n",
      "loss: 118743.5078125\n",
      "logits: tensor([15419.6602], grad_fn=<SqueezeBackward1>)\n",
      "loss: 945444.75\n",
      "logits: tensor([16746.6973], grad_fn=<SqueezeBackward1>)\n",
      "loss: 125810.1484375\n",
      "logits: tensor([15136.6602], grad_fn=<SqueezeBackward1>)\n",
      "loss: 1575878.125\n",
      "logits: tensor([15545.9531], grad_fn=<SqueezeBackward1>)\n",
      "loss: 715795.3125\n",
      "logits: tensor([15433.0771], grad_fn=<SqueezeBackward1>)\n",
      "loss: 919533.0625\n",
      "logits: tensor([15956.1953], grad_fn=<SqueezeBackward1>)\n",
      "loss: 189925.71875\n",
      "logits: tensor([17445.6797], grad_fn=<SqueezeBackward1>)\n",
      "loss: 1110240.875\n",
      "logits: tensor([16616.2266], grad_fn=<SqueezeBackward1>)\n",
      "loss: 50277.55078125\n",
      "logits: tensor([17090.7793], grad_fn=<SqueezeBackward1>)\n",
      "loss: 488292.5\n",
      "logits: tensor([17212.8027], grad_fn=<SqueezeBackward1>)\n",
      "loss: 673717.125\n",
      "logits: tensor([15937.6465], grad_fn=<SqueezeBackward1>)\n",
      "loss: 206437.109375\n",
      "logits: tensor([15076.0381], grad_fn=<SqueezeBackward1>)\n",
      "loss: 1731755.75\n",
      "logits: tensor([16212.0117], grad_fn=<SqueezeBackward1>)\n",
      "loss: 32395.78125\n",
      "logits: tensor([16132.0693], grad_fn=<SqueezeBackward1>)\n",
      "loss: 67563.953125\n",
      "logits: tensor([17159.1133], grad_fn=<SqueezeBackward1>)\n",
      "loss: 588462.8125\n",
      "logits: tensor([16622.8145], grad_fn=<SqueezeBackward1>)\n",
      "loss: 53275.3125\n",
      "logits: tensor([16979.2090], grad_fn=<SqueezeBackward1>)\n",
      "loss: 344814.40625\n",
      "logits: tensor([15929.0488], grad_fn=<SqueezeBackward1>)\n",
      "loss: 214323.78125\n",
      "logits: tensor([15936.2568], grad_fn=<SqueezeBackward1>)\n",
      "loss: 207701.828125\n",
      "logits: tensor([15880.7344], grad_fn=<SqueezeBackward1>)\n",
      "loss: 261392.546875\n",
      "logits: tensor([16936.2949], grad_fn=<SqueezeBackward1>)\n",
      "loss: 296256.96875\n",
      "logits: tensor([16147.8066], grad_fn=<SqueezeBackward1>)\n",
      "loss: 59630.3984375\n",
      "logits: tensor([16132.8799], grad_fn=<SqueezeBackward1>)\n",
      "loss: 67143.234375\n",
      "logits: tensor([16684.4102])\n",
      "loss: 85503.703125\n",
      "Testing, Epoch: 5, Batch 0: Loss = 85503.703125\n",
      "logits: tensor([17150.6953])\n",
      "loss: 575618.5625\n",
      "logits: tensor([16202.6631])\n",
      "loss: 35848.46875\n",
      "logits: tensor([17029.3945])\n",
      "loss: 406271.78125\n",
      "logits: tensor([16136.9502])\n",
      "loss: 65050.40234375\n",
      "logits: tensor([16884.5957])\n",
      "loss: 242650.53125\n",
      "logits: tensor([16624.5918])\n",
      "loss: 54098.9453125\n",
      "logits: tensor([16155.9766])\n",
      "loss: 55707.0625\n",
      "logits: tensor([16198.0146])\n",
      "loss: 37630.31640625\n",
      "logits: tensor([16510.8828])\n",
      "loss: 14133.123046875\n",
      "logits: tensor([17065.3730])\n",
      "loss: 453431.25\n",
      "logits: tensor([15528.8369])\n",
      "loss: 745050.5\n",
      "logits: tensor([16186.9307])\n",
      "loss: 42053.43359375\n",
      "logits: tensor([16483.7930])\n",
      "loss: 8425.94921875\n",
      "logits: tensor([16007.9785])\n",
      "loss: 147472.5\n",
      "logits: tensor([16427.3359])\n",
      "loss: 1248.62841796875\n",
      "logits: tensor([16776.8867])\n",
      "loss: 148137.78125\n",
      "logits: tensor([16944.3320])\n",
      "loss: 305070.6875\n",
      "logits: tensor([16547.6191])\n",
      "loss: 24217.31640625\n"
     ]
    }
   ],
   "source": [
    "train_losses, test_losses = main(epochs=epochs, train_dl=train_dataloader, test_dl=test_dataloader, model=nn_model, optimizer=optimizer, criterion=loss_fn)"
   ]
  },
  {
   "attachments": {},
   "cell_type": "markdown",
   "metadata": {},
   "source": [
    "### Loss Curve Plot"
   ]
  },
  {
   "cell_type": "code",
   "execution_count": 373,
   "metadata": {},
   "outputs": [
    {
     "data": {
      "application/vnd.plotly.v1+json": {
       "config": {
        "plotlyServerURL": "https://plot.ly"
       },
       "data": [
        {
         "hovertemplate": "variable=0<br>index=%{x}<br>value=%{y}<extra></extra>",
         "legendgroup": "0",
         "line": {
          "color": "#636efa",
          "dash": "solid"
         },
         "marker": {
          "symbol": "circle"
         },
         "mode": "lines",
         "name": "0",
         "orientation": "v",
         "showlegend": true,
         "type": "scatter",
         "x": [
          0,
          1,
          2,
          3,
          4,
          5,
          6,
          7,
          8,
          9,
          10,
          11,
          12,
          13,
          14,
          15,
          16,
          17,
          18,
          19,
          20,
          21,
          22,
          23,
          24,
          25,
          26,
          27,
          28,
          29,
          30,
          31,
          32,
          33,
          34,
          35,
          36,
          37,
          38,
          39,
          40,
          41,
          42,
          43,
          44,
          45,
          46,
          47,
          48,
          49,
          50,
          51,
          52,
          53,
          54,
          55,
          56,
          57,
          58,
          59,
          60,
          61,
          62,
          63,
          64,
          65,
          66,
          67,
          68,
          69,
          70,
          71,
          72,
          73,
          74,
          75,
          76,
          77,
          78,
          79,
          80,
          81,
          82,
          83,
          84,
          85,
          86,
          87,
          88,
          89,
          90,
          91,
          92,
          93,
          94,
          95,
          96,
          97,
          98,
          99,
          100,
          101,
          102,
          103,
          104,
          105,
          106,
          107,
          108,
          109,
          110,
          111,
          112,
          113,
          114,
          115,
          116,
          117,
          118,
          119,
          120,
          121,
          122,
          123,
          124,
          125,
          126,
          127,
          128,
          129,
          130,
          131,
          132,
          133,
          134,
          135,
          136,
          137,
          138,
          139,
          140,
          141,
          142,
          143,
          144,
          145,
          146,
          147,
          148,
          149,
          150,
          151,
          152,
          153,
          154,
          155,
          156,
          157,
          158,
          159,
          160,
          161,
          162,
          163,
          164,
          165,
          166,
          167,
          168,
          169,
          170,
          171,
          172,
          173,
          174,
          175,
          176,
          177,
          178,
          179,
          180,
          181,
          182,
          183,
          184,
          185,
          186,
          187,
          188,
          189,
          190,
          191,
          192,
          193,
          194,
          195,
          196,
          197,
          198,
          199,
          200,
          201,
          202,
          203,
          204,
          205,
          206,
          207,
          208,
          209,
          210,
          211,
          212,
          213,
          214,
          215,
          216,
          217,
          218,
          219,
          220,
          221,
          222,
          223,
          224,
          225,
          226,
          227,
          228,
          229,
          230,
          231,
          232,
          233,
          234,
          235,
          236,
          237,
          238,
          239,
          240,
          241,
          242,
          243,
          244,
          245,
          246,
          247,
          248,
          249,
          250,
          251,
          252,
          253,
          254,
          255,
          256,
          257,
          258,
          259,
          260,
          261,
          262,
          263,
          264,
          265,
          266,
          267,
          268,
          269,
          270,
          271,
          272,
          273,
          274,
          275,
          276,
          277,
          278,
          279,
          280,
          281,
          282,
          283,
          284,
          285,
          286,
          287,
          288,
          289,
          290,
          291,
          292,
          293,
          294,
          295,
          296,
          297,
          298,
          299,
          300,
          301,
          302,
          303,
          304,
          305,
          306,
          307,
          308,
          309,
          310,
          311,
          312,
          313,
          314,
          315,
          316,
          317,
          318,
          319,
          320,
          321,
          322,
          323,
          324,
          325,
          326,
          327,
          328,
          329,
          330,
          331,
          332,
          333,
          334
         ],
         "xaxis": "x",
         "y": [
          0.037694286555051804,
          0.09645115584135056,
          0.03022458590567112,
          0.16282904148101807,
          0.008410638198256493,
          0.18022939562797546,
          0.015580317936837673,
          0.15091393887996674,
          0.08353291451931,
          0.02615414559841156,
          0.0011768555268645287,
          0.0582273006439209,
          0.046647779643535614,
          0.05415066331624985,
          0.1063118651509285,
          0.24681740999221802,
          0.08146236091852188,
          0.06034330651164055,
          0.014222889207303524,
          0.07939181476831436,
          0.026783501729369164,
          0.044532667845487595,
          0.01032206043601036,
          0.15435490012168884,
          0.14941036701202393,
          0.13204516470432281,
          0.09781865030527115,
          0.03739152476191521,
          0.12251218408346176,
          0.013028697110712528,
          0.2038612961769104,
          0.02967023476958275,
          0.05499538779258728,
          0.0036411387845873833,
          0.00023401278303936124,
          0.018544500693678856,
          0.017254391685128212,
          0.037300314754247665,
          0.09314852207899094,
          0.02359716221690178,
          0.10962235927581787,
          0.08922618627548218,
          0.05795855447649956,
          0.05150604620575905,
          0.05521956831216812,
          0.031822461634874344,
          0.018651796504855156,
          0.010834707878530025,
          0.015313240699470043,
          0.007788312155753374,
          0.1142987385392189,
          0.05910294130444527,
          0.002771216444671154,
          0.03344321623444557,
          0.011076108552515507,
          0.05516374856233597,
          0.025784002617001534,
          0.04582897201180458,
          0.12797698378562927,
          0.030753139406442642,
          0.03757942467927933,
          0.01476085651665926,
          0.06950465589761734,
          0.037479814141988754,
          0.006439045071601868,
          0.010072975419461727,
          0.010521995835006237,
          0.017977995797991753,
          0.0024103077594190836,
          0.014582070522010326,
          0.004677038639783859,
          0.0669315904378891,
          0.09136512875556946,
          0.005205533467233181,
          0.01321540679782629,
          0.05943656712770462,
          0.00383428274653852,
          0.06965228170156479,
          0.07096449285745621,
          0.024726714938879013,
          0.07056855410337448,
          0.03931510075926781,
          0.07616877555847168,
          0.04818280413746834,
          0.0019148774445056915,
          0.023156601935625076,
          0.025393901392817497,
          0.011964916251599789,
          0.03292824327945709,
          0.016258705407381058,
          0.00007697162072872743,
          0.05730322375893593,
          0.10408475250005722,
          0.022300679236650467,
          0.02566741220653057,
          0.08283670991659164,
          0.017848001793026924,
          0.05413880944252014,
          0.027890058234333992,
          0.028025412932038307,
          0.0011815023608505726,
          0.03443669527769089,
          0.007061907555907965,
          0.016628609970211983,
          0.05226116627454758,
          0.08585742861032486,
          0.025692077353596687,
          0.09583175182342529,
          0.05878749117255211,
          0.020968331024050713,
          0.0954664945602417,
          0.10215193778276443,
          0.054457537829875946,
          0.05616765469312668,
          0.040087081491947174,
          0.11502145230770111,
          0.10617013275623322,
          0.00809524580836296,
          0.00562262162566185,
          0.041593387722969055,
          0.048441242426633835,
          0.00387425790540874,
          0.020545702427625656,
          0.04718562588095665,
          0.03507892042398453,
          0.013843214139342308,
          0.014936664141714573,
          0.06461475044488907,
          0.04964299872517586,
          0.014661245979368687,
          0.042502511292696,
          0.006182572338730097,
          0.052068497985601425,
          0.0320490263402462,
          0.011931553483009338,
          0.08069175481796265,
          0.02804197557270527,
          0.03035636618733406,
          0.0360402911901474,
          0.034224070608615875,
          0.03835688531398773,
          0.026984509080648422,
          0.008073321543633938,
          0.038366060703992844,
          0.027250217273831367,
          0.026861663907766342,
          0.028589237481355667,
          0.02296464890241623,
          0.09784021973609924,
          0.08800727128982544,
          0.03464425727725029,
          0.011127522215247154,
          0.03888573870062828,
          0.026946261525154114,
          0.07616877555847168,
          0.06611158698797226,
          0.03676288202404976,
          0.051967281848192215,
          0.03420071676373482,
          0.05716870352625847,
          0.05603170394897461,
          0.036312252283096313,
          0.05170252546668053,
          0.03593972697854042,
          0.028201160952448845,
          0.017492158338427544,
          0.0020172283984720707,
          0.022148046642541885,
          0.041177552193403244,
          0.0631958395242691,
          0.034778185188770294,
          0.027248071506619453,
          0.08383519947528839,
          0.024500207975506783,
          0.03616569936275482,
          0.04124534875154495,
          0.050461627542972565,
          0.05171235650777817,
          0.009610133245587349,
          0.029352398589253426,
          0.023034054785966873,
          0.04154006764292717,
          0.03926505520939827,
          0.06624896824359894,
          0.042966485023498535,
          0.08473049849271774,
          0.027108903974294662,
          0.08604461699724197,
          0.08558648079633713,
          0.030941518023610115,
          0.10836644470691681,
          0.06480426341295242,
          0.12743759155273438,
          0.13256150484085083,
          0.012635141611099243,
          0.021840160712599754,
          0.08585207164287567,
          0.08590640127658844,
          0.03659416735172272,
          0.022090377286076546,
          0.037616364657878876,
          0.013285468332469463,
          0.013960875570774078,
          0.012378847226500511,
          0.07325302809476852,
          0.06478489935398102,
          0.014754660427570343,
          0.05758310854434967,
          0.015176038257777691,
          0.028781486675143242,
          0.012007453478872776,
          0.0008841012604534626,
          0.08349883556365967,
          0.022370144724845886,
          0.00987738836556673,
          0.0551910325884819,
          0.04721648618578911,
          0.04956835135817528,
          0.01506129652261734,
          0.005469393450766802,
          0.04556386172771454,
          0.0447889007627964,
          0.04414083808660507,
          0.040190741419792175,
          0.022701920941472054,
          0.10952185094356537,
          0.09119724482297897,
          0.04456394538283348,
          0.010684696957468987,
          0.03294432908296585,
          0.03693898767232895,
          0.0814109519124031,
          0.06688535958528519,
          0.03826954960823059,
          0.039044030010700226,
          0.042440373450517654,
          0.04363313689827919,
          0.06349967420101166,
          0.04387525096535683,
          0.05692062899470329,
          0.034181416034698486,
          0.04339900612831116,
          0.004245413467288017,
          0.021798577159643173,
          0.03816243261098862,
          0.03050476871430874,
          0.06701892614364624,
          0.016408657655119896,
          0.00854706671088934,
          0.0656745433807373,
          0.017206372693181038,
          0.030979884788393974,
          0.04006146267056465,
          0.04425778612494469,
          0.04614359140396118,
          0.020264029502868652,
          0.020504774525761604,
          0.01505450438708067,
          0.02731330692768097,
          0.02993623912334442,
          0.06359118223190308,
          0.042167697101831436,
          0.07391086220741272,
          0.020145712420344353,
          0.06932438164949417,
          0.07125093042850494,
          0.022870579734444618,
          0.11254948377609253,
          0.0625629723072052,
          0.11879431456327438,
          0.11652353405952454,
          0.007693587336689234,
          0.039397791028022766,
          0.10406967997550964,
          0.087506003677845,
          0.03394651040434837,
          0.04904337227344513,
          0.013475394807755947,
          0.012127676978707314,
          0.025086671113967896,
          0.012323561124503613,
          0.0640639215707779,
          0.05438557267189026,
          0.011768674477934837,
          0.07949285209178925,
          0.029503125697374344,
          0.02343177981674671,
          0.01661246456205845,
          0.011420276015996933,
          0.06500658392906189,
          0.002182967495173216,
          0.01104483101516962,
          0.05942995101213455,
          0.04575980454683304,
          0.033706359565258026,
          0.026597149670124054,
          0.019499197602272034,
          0.05716000497341156,
          0.05651218071579933,
          0.04385344684123993,
          0.029617510735988617,
          0.04090689867734909,
          0.13256734609603882,
          0.10142279416322708,
          0.05210871249437332,
          0.0030689751729369164,
          0.016856307163834572,
          0.059005655348300934,
          0.0981222465634346,
          0.07399057596921921,
          0.03790077567100525,
          0.021021949127316475,
          0.059317950159311295,
          0.02163843810558319,
          0.07658246904611588,
          0.051613401621580124,
          0.05849944055080414,
          0.02658642642199993,
          0.06428011506795883,
          0.013679023832082748,
          0.04262928664684296,
          0.050073374062776566,
          0.02771800383925438,
          0.08028074353933334,
          0.010980251245200634,
          0.015857165679335594,
          0.04679802805185318,
          0.014080921187996864,
          0.035822901874780655,
          0.028242506086826324,
          0.027802780270576477,
          0.031189948320388794,
          0.03320491313934326,
          0.01489710621535778,
          0.01580771803855896
         ],
         "yaxis": "y"
        }
       ],
       "layout": {
        "legend": {
         "title": {
          "text": "variable"
         },
         "tracegroupgap": 0
        },
        "margin": {
         "t": 60
        },
        "template": {
         "data": {
          "bar": [
           {
            "error_x": {
             "color": "#2a3f5f"
            },
            "error_y": {
             "color": "#2a3f5f"
            },
            "marker": {
             "line": {
              "color": "#E5ECF6",
              "width": 0.5
             },
             "pattern": {
              "fillmode": "overlay",
              "size": 10,
              "solidity": 0.2
             }
            },
            "type": "bar"
           }
          ],
          "barpolar": [
           {
            "marker": {
             "line": {
              "color": "#E5ECF6",
              "width": 0.5
             },
             "pattern": {
              "fillmode": "overlay",
              "size": 10,
              "solidity": 0.2
             }
            },
            "type": "barpolar"
           }
          ],
          "carpet": [
           {
            "aaxis": {
             "endlinecolor": "#2a3f5f",
             "gridcolor": "white",
             "linecolor": "white",
             "minorgridcolor": "white",
             "startlinecolor": "#2a3f5f"
            },
            "baxis": {
             "endlinecolor": "#2a3f5f",
             "gridcolor": "white",
             "linecolor": "white",
             "minorgridcolor": "white",
             "startlinecolor": "#2a3f5f"
            },
            "type": "carpet"
           }
          ],
          "choropleth": [
           {
            "colorbar": {
             "outlinewidth": 0,
             "ticks": ""
            },
            "type": "choropleth"
           }
          ],
          "contour": [
           {
            "colorbar": {
             "outlinewidth": 0,
             "ticks": ""
            },
            "colorscale": [
             [
              0,
              "#0d0887"
             ],
             [
              0.1111111111111111,
              "#46039f"
             ],
             [
              0.2222222222222222,
              "#7201a8"
             ],
             [
              0.3333333333333333,
              "#9c179e"
             ],
             [
              0.4444444444444444,
              "#bd3786"
             ],
             [
              0.5555555555555556,
              "#d8576b"
             ],
             [
              0.6666666666666666,
              "#ed7953"
             ],
             [
              0.7777777777777778,
              "#fb9f3a"
             ],
             [
              0.8888888888888888,
              "#fdca26"
             ],
             [
              1,
              "#f0f921"
             ]
            ],
            "type": "contour"
           }
          ],
          "contourcarpet": [
           {
            "colorbar": {
             "outlinewidth": 0,
             "ticks": ""
            },
            "type": "contourcarpet"
           }
          ],
          "heatmap": [
           {
            "colorbar": {
             "outlinewidth": 0,
             "ticks": ""
            },
            "colorscale": [
             [
              0,
              "#0d0887"
             ],
             [
              0.1111111111111111,
              "#46039f"
             ],
             [
              0.2222222222222222,
              "#7201a8"
             ],
             [
              0.3333333333333333,
              "#9c179e"
             ],
             [
              0.4444444444444444,
              "#bd3786"
             ],
             [
              0.5555555555555556,
              "#d8576b"
             ],
             [
              0.6666666666666666,
              "#ed7953"
             ],
             [
              0.7777777777777778,
              "#fb9f3a"
             ],
             [
              0.8888888888888888,
              "#fdca26"
             ],
             [
              1,
              "#f0f921"
             ]
            ],
            "type": "heatmap"
           }
          ],
          "heatmapgl": [
           {
            "colorbar": {
             "outlinewidth": 0,
             "ticks": ""
            },
            "colorscale": [
             [
              0,
              "#0d0887"
             ],
             [
              0.1111111111111111,
              "#46039f"
             ],
             [
              0.2222222222222222,
              "#7201a8"
             ],
             [
              0.3333333333333333,
              "#9c179e"
             ],
             [
              0.4444444444444444,
              "#bd3786"
             ],
             [
              0.5555555555555556,
              "#d8576b"
             ],
             [
              0.6666666666666666,
              "#ed7953"
             ],
             [
              0.7777777777777778,
              "#fb9f3a"
             ],
             [
              0.8888888888888888,
              "#fdca26"
             ],
             [
              1,
              "#f0f921"
             ]
            ],
            "type": "heatmapgl"
           }
          ],
          "histogram": [
           {
            "marker": {
             "pattern": {
              "fillmode": "overlay",
              "size": 10,
              "solidity": 0.2
             }
            },
            "type": "histogram"
           }
          ],
          "histogram2d": [
           {
            "colorbar": {
             "outlinewidth": 0,
             "ticks": ""
            },
            "colorscale": [
             [
              0,
              "#0d0887"
             ],
             [
              0.1111111111111111,
              "#46039f"
             ],
             [
              0.2222222222222222,
              "#7201a8"
             ],
             [
              0.3333333333333333,
              "#9c179e"
             ],
             [
              0.4444444444444444,
              "#bd3786"
             ],
             [
              0.5555555555555556,
              "#d8576b"
             ],
             [
              0.6666666666666666,
              "#ed7953"
             ],
             [
              0.7777777777777778,
              "#fb9f3a"
             ],
             [
              0.8888888888888888,
              "#fdca26"
             ],
             [
              1,
              "#f0f921"
             ]
            ],
            "type": "histogram2d"
           }
          ],
          "histogram2dcontour": [
           {
            "colorbar": {
             "outlinewidth": 0,
             "ticks": ""
            },
            "colorscale": [
             [
              0,
              "#0d0887"
             ],
             [
              0.1111111111111111,
              "#46039f"
             ],
             [
              0.2222222222222222,
              "#7201a8"
             ],
             [
              0.3333333333333333,
              "#9c179e"
             ],
             [
              0.4444444444444444,
              "#bd3786"
             ],
             [
              0.5555555555555556,
              "#d8576b"
             ],
             [
              0.6666666666666666,
              "#ed7953"
             ],
             [
              0.7777777777777778,
              "#fb9f3a"
             ],
             [
              0.8888888888888888,
              "#fdca26"
             ],
             [
              1,
              "#f0f921"
             ]
            ],
            "type": "histogram2dcontour"
           }
          ],
          "mesh3d": [
           {
            "colorbar": {
             "outlinewidth": 0,
             "ticks": ""
            },
            "type": "mesh3d"
           }
          ],
          "parcoords": [
           {
            "line": {
             "colorbar": {
              "outlinewidth": 0,
              "ticks": ""
             }
            },
            "type": "parcoords"
           }
          ],
          "pie": [
           {
            "automargin": true,
            "type": "pie"
           }
          ],
          "scatter": [
           {
            "fillpattern": {
             "fillmode": "overlay",
             "size": 10,
             "solidity": 0.2
            },
            "type": "scatter"
           }
          ],
          "scatter3d": [
           {
            "line": {
             "colorbar": {
              "outlinewidth": 0,
              "ticks": ""
             }
            },
            "marker": {
             "colorbar": {
              "outlinewidth": 0,
              "ticks": ""
             }
            },
            "type": "scatter3d"
           }
          ],
          "scattercarpet": [
           {
            "marker": {
             "colorbar": {
              "outlinewidth": 0,
              "ticks": ""
             }
            },
            "type": "scattercarpet"
           }
          ],
          "scattergeo": [
           {
            "marker": {
             "colorbar": {
              "outlinewidth": 0,
              "ticks": ""
             }
            },
            "type": "scattergeo"
           }
          ],
          "scattergl": [
           {
            "marker": {
             "colorbar": {
              "outlinewidth": 0,
              "ticks": ""
             }
            },
            "type": "scattergl"
           }
          ],
          "scattermapbox": [
           {
            "marker": {
             "colorbar": {
              "outlinewidth": 0,
              "ticks": ""
             }
            },
            "type": "scattermapbox"
           }
          ],
          "scatterpolar": [
           {
            "marker": {
             "colorbar": {
              "outlinewidth": 0,
              "ticks": ""
             }
            },
            "type": "scatterpolar"
           }
          ],
          "scatterpolargl": [
           {
            "marker": {
             "colorbar": {
              "outlinewidth": 0,
              "ticks": ""
             }
            },
            "type": "scatterpolargl"
           }
          ],
          "scatterternary": [
           {
            "marker": {
             "colorbar": {
              "outlinewidth": 0,
              "ticks": ""
             }
            },
            "type": "scatterternary"
           }
          ],
          "surface": [
           {
            "colorbar": {
             "outlinewidth": 0,
             "ticks": ""
            },
            "colorscale": [
             [
              0,
              "#0d0887"
             ],
             [
              0.1111111111111111,
              "#46039f"
             ],
             [
              0.2222222222222222,
              "#7201a8"
             ],
             [
              0.3333333333333333,
              "#9c179e"
             ],
             [
              0.4444444444444444,
              "#bd3786"
             ],
             [
              0.5555555555555556,
              "#d8576b"
             ],
             [
              0.6666666666666666,
              "#ed7953"
             ],
             [
              0.7777777777777778,
              "#fb9f3a"
             ],
             [
              0.8888888888888888,
              "#fdca26"
             ],
             [
              1,
              "#f0f921"
             ]
            ],
            "type": "surface"
           }
          ],
          "table": [
           {
            "cells": {
             "fill": {
              "color": "#EBF0F8"
             },
             "line": {
              "color": "white"
             }
            },
            "header": {
             "fill": {
              "color": "#C8D4E3"
             },
             "line": {
              "color": "white"
             }
            },
            "type": "table"
           }
          ]
         },
         "layout": {
          "annotationdefaults": {
           "arrowcolor": "#2a3f5f",
           "arrowhead": 0,
           "arrowwidth": 1
          },
          "autotypenumbers": "strict",
          "coloraxis": {
           "colorbar": {
            "outlinewidth": 0,
            "ticks": ""
           }
          },
          "colorscale": {
           "diverging": [
            [
             0,
             "#8e0152"
            ],
            [
             0.1,
             "#c51b7d"
            ],
            [
             0.2,
             "#de77ae"
            ],
            [
             0.3,
             "#f1b6da"
            ],
            [
             0.4,
             "#fde0ef"
            ],
            [
             0.5,
             "#f7f7f7"
            ],
            [
             0.6,
             "#e6f5d0"
            ],
            [
             0.7,
             "#b8e186"
            ],
            [
             0.8,
             "#7fbc41"
            ],
            [
             0.9,
             "#4d9221"
            ],
            [
             1,
             "#276419"
            ]
           ],
           "sequential": [
            [
             0,
             "#0d0887"
            ],
            [
             0.1111111111111111,
             "#46039f"
            ],
            [
             0.2222222222222222,
             "#7201a8"
            ],
            [
             0.3333333333333333,
             "#9c179e"
            ],
            [
             0.4444444444444444,
             "#bd3786"
            ],
            [
             0.5555555555555556,
             "#d8576b"
            ],
            [
             0.6666666666666666,
             "#ed7953"
            ],
            [
             0.7777777777777778,
             "#fb9f3a"
            ],
            [
             0.8888888888888888,
             "#fdca26"
            ],
            [
             1,
             "#f0f921"
            ]
           ],
           "sequentialminus": [
            [
             0,
             "#0d0887"
            ],
            [
             0.1111111111111111,
             "#46039f"
            ],
            [
             0.2222222222222222,
             "#7201a8"
            ],
            [
             0.3333333333333333,
             "#9c179e"
            ],
            [
             0.4444444444444444,
             "#bd3786"
            ],
            [
             0.5555555555555556,
             "#d8576b"
            ],
            [
             0.6666666666666666,
             "#ed7953"
            ],
            [
             0.7777777777777778,
             "#fb9f3a"
            ],
            [
             0.8888888888888888,
             "#fdca26"
            ],
            [
             1,
             "#f0f921"
            ]
           ]
          },
          "colorway": [
           "#636efa",
           "#EF553B",
           "#00cc96",
           "#ab63fa",
           "#FFA15A",
           "#19d3f3",
           "#FF6692",
           "#B6E880",
           "#FF97FF",
           "#FECB52"
          ],
          "font": {
           "color": "#2a3f5f"
          },
          "geo": {
           "bgcolor": "white",
           "lakecolor": "white",
           "landcolor": "#E5ECF6",
           "showlakes": true,
           "showland": true,
           "subunitcolor": "white"
          },
          "hoverlabel": {
           "align": "left"
          },
          "hovermode": "closest",
          "mapbox": {
           "style": "light"
          },
          "paper_bgcolor": "white",
          "plot_bgcolor": "#E5ECF6",
          "polar": {
           "angularaxis": {
            "gridcolor": "white",
            "linecolor": "white",
            "ticks": ""
           },
           "bgcolor": "#E5ECF6",
           "radialaxis": {
            "gridcolor": "white",
            "linecolor": "white",
            "ticks": ""
           }
          },
          "scene": {
           "xaxis": {
            "backgroundcolor": "#E5ECF6",
            "gridcolor": "white",
            "gridwidth": 2,
            "linecolor": "white",
            "showbackground": true,
            "ticks": "",
            "zerolinecolor": "white"
           },
           "yaxis": {
            "backgroundcolor": "#E5ECF6",
            "gridcolor": "white",
            "gridwidth": 2,
            "linecolor": "white",
            "showbackground": true,
            "ticks": "",
            "zerolinecolor": "white"
           },
           "zaxis": {
            "backgroundcolor": "#E5ECF6",
            "gridcolor": "white",
            "gridwidth": 2,
            "linecolor": "white",
            "showbackground": true,
            "ticks": "",
            "zerolinecolor": "white"
           }
          },
          "shapedefaults": {
           "line": {
            "color": "#2a3f5f"
           }
          },
          "ternary": {
           "aaxis": {
            "gridcolor": "white",
            "linecolor": "white",
            "ticks": ""
           },
           "baxis": {
            "gridcolor": "white",
            "linecolor": "white",
            "ticks": ""
           },
           "bgcolor": "#E5ECF6",
           "caxis": {
            "gridcolor": "white",
            "linecolor": "white",
            "ticks": ""
           }
          },
          "title": {
           "x": 0.05
          },
          "xaxis": {
           "automargin": true,
           "gridcolor": "white",
           "linecolor": "white",
           "ticks": "",
           "title": {
            "standoff": 15
           },
           "zerolinecolor": "white",
           "zerolinewidth": 2
          },
          "yaxis": {
           "automargin": true,
           "gridcolor": "white",
           "linecolor": "white",
           "ticks": "",
           "title": {
            "standoff": 15
           },
           "zerolinecolor": "white",
           "zerolinewidth": 2
          }
         }
        },
        "xaxis": {
         "anchor": "y",
         "domain": [
          0,
          1
         ],
         "title": {
          "text": "index"
         }
        },
        "yaxis": {
         "anchor": "x",
         "domain": [
          0,
          1
         ],
         "title": {
          "text": "value"
         }
        }
       }
      },
      "text/html": [
       "<div>                            <div id=\"9792fd73-1b22-4772-97b3-49f982dbd326\" class=\"plotly-graph-div\" style=\"height:525px; width:100%;\"></div>            <script type=\"text/javascript\">                require([\"plotly\"], function(Plotly) {                    window.PLOTLYENV=window.PLOTLYENV || {};                                    if (document.getElementById(\"9792fd73-1b22-4772-97b3-49f982dbd326\")) {                    Plotly.newPlot(                        \"9792fd73-1b22-4772-97b3-49f982dbd326\",                        [{\"hovertemplate\":\"variable=0<br>index=%{x}<br>value=%{y}<extra></extra>\",\"legendgroup\":\"0\",\"line\":{\"color\":\"#636efa\",\"dash\":\"solid\"},\"marker\":{\"symbol\":\"circle\"},\"mode\":\"lines\",\"name\":\"0\",\"orientation\":\"v\",\"showlegend\":true,\"x\":[0,1,2,3,4,5,6,7,8,9,10,11,12,13,14,15,16,17,18,19,20,21,22,23,24,25,26,27,28,29,30,31,32,33,34,35,36,37,38,39,40,41,42,43,44,45,46,47,48,49,50,51,52,53,54,55,56,57,58,59,60,61,62,63,64,65,66,67,68,69,70,71,72,73,74,75,76,77,78,79,80,81,82,83,84,85,86,87,88,89,90,91,92,93,94,95,96,97,98,99,100,101,102,103,104,105,106,107,108,109,110,111,112,113,114,115,116,117,118,119,120,121,122,123,124,125,126,127,128,129,130,131,132,133,134,135,136,137,138,139,140,141,142,143,144,145,146,147,148,149,150,151,152,153,154,155,156,157,158,159,160,161,162,163,164,165,166,167,168,169,170,171,172,173,174,175,176,177,178,179,180,181,182,183,184,185,186,187,188,189,190,191,192,193,194,195,196,197,198,199,200,201,202,203,204,205,206,207,208,209,210,211,212,213,214,215,216,217,218,219,220,221,222,223,224,225,226,227,228,229,230,231,232,233,234,235,236,237,238,239,240,241,242,243,244,245,246,247,248,249,250,251,252,253,254,255,256,257,258,259,260,261,262,263,264,265,266,267,268,269,270,271,272,273,274,275,276,277,278,279,280,281,282,283,284,285,286,287,288,289,290,291,292,293,294,295,296,297,298,299,300,301,302,303,304,305,306,307,308,309,310,311,312,313,314,315,316,317,318,319,320,321,322,323,324,325,326,327,328,329,330,331,332,333,334],\"xaxis\":\"x\",\"y\":[0.037694286555051804,0.09645115584135056,0.03022458590567112,0.16282904148101807,0.008410638198256493,0.18022939562797546,0.015580317936837673,0.15091393887996674,0.08353291451931,0.02615414559841156,0.0011768555268645287,0.0582273006439209,0.046647779643535614,0.05415066331624985,0.1063118651509285,0.24681740999221802,0.08146236091852188,0.06034330651164055,0.014222889207303524,0.07939181476831436,0.026783501729369164,0.044532667845487595,0.01032206043601036,0.15435490012168884,0.14941036701202393,0.13204516470432281,0.09781865030527115,0.03739152476191521,0.12251218408346176,0.013028697110712528,0.2038612961769104,0.02967023476958275,0.05499538779258728,0.0036411387845873833,0.00023401278303936124,0.018544500693678856,0.017254391685128212,0.037300314754247665,0.09314852207899094,0.02359716221690178,0.10962235927581787,0.08922618627548218,0.05795855447649956,0.05150604620575905,0.05521956831216812,0.031822461634874344,0.018651796504855156,0.010834707878530025,0.015313240699470043,0.007788312155753374,0.1142987385392189,0.05910294130444527,0.002771216444671154,0.03344321623444557,0.011076108552515507,0.05516374856233597,0.025784002617001534,0.04582897201180458,0.12797698378562927,0.030753139406442642,0.03757942467927933,0.01476085651665926,0.06950465589761734,0.037479814141988754,0.006439045071601868,0.010072975419461727,0.010521995835006237,0.017977995797991753,0.0024103077594190836,0.014582070522010326,0.004677038639783859,0.0669315904378891,0.09136512875556946,0.005205533467233181,0.01321540679782629,0.05943656712770462,0.00383428274653852,0.06965228170156479,0.07096449285745621,0.024726714938879013,0.07056855410337448,0.03931510075926781,0.07616877555847168,0.04818280413746834,0.0019148774445056915,0.023156601935625076,0.025393901392817497,0.011964916251599789,0.03292824327945709,0.016258705407381058,7.697162072872743e-05,0.05730322375893593,0.10408475250005722,0.022300679236650467,0.02566741220653057,0.08283670991659164,0.017848001793026924,0.05413880944252014,0.027890058234333992,0.028025412932038307,0.0011815023608505726,0.03443669527769089,0.007061907555907965,0.016628609970211983,0.05226116627454758,0.08585742861032486,0.025692077353596687,0.09583175182342529,0.05878749117255211,0.020968331024050713,0.0954664945602417,0.10215193778276443,0.054457537829875946,0.05616765469312668,0.040087081491947174,0.11502145230770111,0.10617013275623322,0.00809524580836296,0.00562262162566185,0.041593387722969055,0.048441242426633835,0.00387425790540874,0.020545702427625656,0.04718562588095665,0.03507892042398453,0.013843214139342308,0.014936664141714573,0.06461475044488907,0.04964299872517586,0.014661245979368687,0.042502511292696,0.006182572338730097,0.052068497985601425,0.0320490263402462,0.011931553483009338,0.08069175481796265,0.02804197557270527,0.03035636618733406,0.0360402911901474,0.034224070608615875,0.03835688531398773,0.026984509080648422,0.008073321543633938,0.038366060703992844,0.027250217273831367,0.026861663907766342,0.028589237481355667,0.02296464890241623,0.09784021973609924,0.08800727128982544,0.03464425727725029,0.011127522215247154,0.03888573870062828,0.026946261525154114,0.07616877555847168,0.06611158698797226,0.03676288202404976,0.051967281848192215,0.03420071676373482,0.05716870352625847,0.05603170394897461,0.036312252283096313,0.05170252546668053,0.03593972697854042,0.028201160952448845,0.017492158338427544,0.0020172283984720707,0.022148046642541885,0.041177552193403244,0.0631958395242691,0.034778185188770294,0.027248071506619453,0.08383519947528839,0.024500207975506783,0.03616569936275482,0.04124534875154495,0.050461627542972565,0.05171235650777817,0.009610133245587349,0.029352398589253426,0.023034054785966873,0.04154006764292717,0.03926505520939827,0.06624896824359894,0.042966485023498535,0.08473049849271774,0.027108903974294662,0.08604461699724197,0.08558648079633713,0.030941518023610115,0.10836644470691681,0.06480426341295242,0.12743759155273438,0.13256150484085083,0.012635141611099243,0.021840160712599754,0.08585207164287567,0.08590640127658844,0.03659416735172272,0.022090377286076546,0.037616364657878876,0.013285468332469463,0.013960875570774078,0.012378847226500511,0.07325302809476852,0.06478489935398102,0.014754660427570343,0.05758310854434967,0.015176038257777691,0.028781486675143242,0.012007453478872776,0.0008841012604534626,0.08349883556365967,0.022370144724845886,0.00987738836556673,0.0551910325884819,0.04721648618578911,0.04956835135817528,0.01506129652261734,0.005469393450766802,0.04556386172771454,0.0447889007627964,0.04414083808660507,0.040190741419792175,0.022701920941472054,0.10952185094356537,0.09119724482297897,0.04456394538283348,0.010684696957468987,0.03294432908296585,0.03693898767232895,0.0814109519124031,0.06688535958528519,0.03826954960823059,0.039044030010700226,0.042440373450517654,0.04363313689827919,0.06349967420101166,0.04387525096535683,0.05692062899470329,0.034181416034698486,0.04339900612831116,0.004245413467288017,0.021798577159643173,0.03816243261098862,0.03050476871430874,0.06701892614364624,0.016408657655119896,0.00854706671088934,0.0656745433807373,0.017206372693181038,0.030979884788393974,0.04006146267056465,0.04425778612494469,0.04614359140396118,0.020264029502868652,0.020504774525761604,0.01505450438708067,0.02731330692768097,0.02993623912334442,0.06359118223190308,0.042167697101831436,0.07391086220741272,0.020145712420344353,0.06932438164949417,0.07125093042850494,0.022870579734444618,0.11254948377609253,0.0625629723072052,0.11879431456327438,0.11652353405952454,0.007693587336689234,0.039397791028022766,0.10406967997550964,0.087506003677845,0.03394651040434837,0.04904337227344513,0.013475394807755947,0.012127676978707314,0.025086671113967896,0.012323561124503613,0.0640639215707779,0.05438557267189026,0.011768674477934837,0.07949285209178925,0.029503125697374344,0.02343177981674671,0.01661246456205845,0.011420276015996933,0.06500658392906189,0.002182967495173216,0.01104483101516962,0.05942995101213455,0.04575980454683304,0.033706359565258026,0.026597149670124054,0.019499197602272034,0.05716000497341156,0.05651218071579933,0.04385344684123993,0.029617510735988617,0.04090689867734909,0.13256734609603882,0.10142279416322708,0.05210871249437332,0.0030689751729369164,0.016856307163834572,0.059005655348300934,0.0981222465634346,0.07399057596921921,0.03790077567100525,0.021021949127316475,0.059317950159311295,0.02163843810558319,0.07658246904611588,0.051613401621580124,0.05849944055080414,0.02658642642199993,0.06428011506795883,0.013679023832082748,0.04262928664684296,0.050073374062776566,0.02771800383925438,0.08028074353933334,0.010980251245200634,0.015857165679335594,0.04679802805185318,0.014080921187996864,0.035822901874780655,0.028242506086826324,0.027802780270576477,0.031189948320388794,0.03320491313934326,0.01489710621535778,0.01580771803855896],\"yaxis\":\"y\",\"type\":\"scatter\"}],                        {\"template\":{\"data\":{\"histogram2dcontour\":[{\"type\":\"histogram2dcontour\",\"colorbar\":{\"outlinewidth\":0,\"ticks\":\"\"},\"colorscale\":[[0.0,\"#0d0887\"],[0.1111111111111111,\"#46039f\"],[0.2222222222222222,\"#7201a8\"],[0.3333333333333333,\"#9c179e\"],[0.4444444444444444,\"#bd3786\"],[0.5555555555555556,\"#d8576b\"],[0.6666666666666666,\"#ed7953\"],[0.7777777777777778,\"#fb9f3a\"],[0.8888888888888888,\"#fdca26\"],[1.0,\"#f0f921\"]]}],\"choropleth\":[{\"type\":\"choropleth\",\"colorbar\":{\"outlinewidth\":0,\"ticks\":\"\"}}],\"histogram2d\":[{\"type\":\"histogram2d\",\"colorbar\":{\"outlinewidth\":0,\"ticks\":\"\"},\"colorscale\":[[0.0,\"#0d0887\"],[0.1111111111111111,\"#46039f\"],[0.2222222222222222,\"#7201a8\"],[0.3333333333333333,\"#9c179e\"],[0.4444444444444444,\"#bd3786\"],[0.5555555555555556,\"#d8576b\"],[0.6666666666666666,\"#ed7953\"],[0.7777777777777778,\"#fb9f3a\"],[0.8888888888888888,\"#fdca26\"],[1.0,\"#f0f921\"]]}],\"heatmap\":[{\"type\":\"heatmap\",\"colorbar\":{\"outlinewidth\":0,\"ticks\":\"\"},\"colorscale\":[[0.0,\"#0d0887\"],[0.1111111111111111,\"#46039f\"],[0.2222222222222222,\"#7201a8\"],[0.3333333333333333,\"#9c179e\"],[0.4444444444444444,\"#bd3786\"],[0.5555555555555556,\"#d8576b\"],[0.6666666666666666,\"#ed7953\"],[0.7777777777777778,\"#fb9f3a\"],[0.8888888888888888,\"#fdca26\"],[1.0,\"#f0f921\"]]}],\"heatmapgl\":[{\"type\":\"heatmapgl\",\"colorbar\":{\"outlinewidth\":0,\"ticks\":\"\"},\"colorscale\":[[0.0,\"#0d0887\"],[0.1111111111111111,\"#46039f\"],[0.2222222222222222,\"#7201a8\"],[0.3333333333333333,\"#9c179e\"],[0.4444444444444444,\"#bd3786\"],[0.5555555555555556,\"#d8576b\"],[0.6666666666666666,\"#ed7953\"],[0.7777777777777778,\"#fb9f3a\"],[0.8888888888888888,\"#fdca26\"],[1.0,\"#f0f921\"]]}],\"contourcarpet\":[{\"type\":\"contourcarpet\",\"colorbar\":{\"outlinewidth\":0,\"ticks\":\"\"}}],\"contour\":[{\"type\":\"contour\",\"colorbar\":{\"outlinewidth\":0,\"ticks\":\"\"},\"colorscale\":[[0.0,\"#0d0887\"],[0.1111111111111111,\"#46039f\"],[0.2222222222222222,\"#7201a8\"],[0.3333333333333333,\"#9c179e\"],[0.4444444444444444,\"#bd3786\"],[0.5555555555555556,\"#d8576b\"],[0.6666666666666666,\"#ed7953\"],[0.7777777777777778,\"#fb9f3a\"],[0.8888888888888888,\"#fdca26\"],[1.0,\"#f0f921\"]]}],\"surface\":[{\"type\":\"surface\",\"colorbar\":{\"outlinewidth\":0,\"ticks\":\"\"},\"colorscale\":[[0.0,\"#0d0887\"],[0.1111111111111111,\"#46039f\"],[0.2222222222222222,\"#7201a8\"],[0.3333333333333333,\"#9c179e\"],[0.4444444444444444,\"#bd3786\"],[0.5555555555555556,\"#d8576b\"],[0.6666666666666666,\"#ed7953\"],[0.7777777777777778,\"#fb9f3a\"],[0.8888888888888888,\"#fdca26\"],[1.0,\"#f0f921\"]]}],\"mesh3d\":[{\"type\":\"mesh3d\",\"colorbar\":{\"outlinewidth\":0,\"ticks\":\"\"}}],\"scatter\":[{\"fillpattern\":{\"fillmode\":\"overlay\",\"size\":10,\"solidity\":0.2},\"type\":\"scatter\"}],\"parcoords\":[{\"type\":\"parcoords\",\"line\":{\"colorbar\":{\"outlinewidth\":0,\"ticks\":\"\"}}}],\"scatterpolargl\":[{\"type\":\"scatterpolargl\",\"marker\":{\"colorbar\":{\"outlinewidth\":0,\"ticks\":\"\"}}}],\"bar\":[{\"error_x\":{\"color\":\"#2a3f5f\"},\"error_y\":{\"color\":\"#2a3f5f\"},\"marker\":{\"line\":{\"color\":\"#E5ECF6\",\"width\":0.5},\"pattern\":{\"fillmode\":\"overlay\",\"size\":10,\"solidity\":0.2}},\"type\":\"bar\"}],\"scattergeo\":[{\"type\":\"scattergeo\",\"marker\":{\"colorbar\":{\"outlinewidth\":0,\"ticks\":\"\"}}}],\"scatterpolar\":[{\"type\":\"scatterpolar\",\"marker\":{\"colorbar\":{\"outlinewidth\":0,\"ticks\":\"\"}}}],\"histogram\":[{\"marker\":{\"pattern\":{\"fillmode\":\"overlay\",\"size\":10,\"solidity\":0.2}},\"type\":\"histogram\"}],\"scattergl\":[{\"type\":\"scattergl\",\"marker\":{\"colorbar\":{\"outlinewidth\":0,\"ticks\":\"\"}}}],\"scatter3d\":[{\"type\":\"scatter3d\",\"line\":{\"colorbar\":{\"outlinewidth\":0,\"ticks\":\"\"}},\"marker\":{\"colorbar\":{\"outlinewidth\":0,\"ticks\":\"\"}}}],\"scattermapbox\":[{\"type\":\"scattermapbox\",\"marker\":{\"colorbar\":{\"outlinewidth\":0,\"ticks\":\"\"}}}],\"scatterternary\":[{\"type\":\"scatterternary\",\"marker\":{\"colorbar\":{\"outlinewidth\":0,\"ticks\":\"\"}}}],\"scattercarpet\":[{\"type\":\"scattercarpet\",\"marker\":{\"colorbar\":{\"outlinewidth\":0,\"ticks\":\"\"}}}],\"carpet\":[{\"aaxis\":{\"endlinecolor\":\"#2a3f5f\",\"gridcolor\":\"white\",\"linecolor\":\"white\",\"minorgridcolor\":\"white\",\"startlinecolor\":\"#2a3f5f\"},\"baxis\":{\"endlinecolor\":\"#2a3f5f\",\"gridcolor\":\"white\",\"linecolor\":\"white\",\"minorgridcolor\":\"white\",\"startlinecolor\":\"#2a3f5f\"},\"type\":\"carpet\"}],\"table\":[{\"cells\":{\"fill\":{\"color\":\"#EBF0F8\"},\"line\":{\"color\":\"white\"}},\"header\":{\"fill\":{\"color\":\"#C8D4E3\"},\"line\":{\"color\":\"white\"}},\"type\":\"table\"}],\"barpolar\":[{\"marker\":{\"line\":{\"color\":\"#E5ECF6\",\"width\":0.5},\"pattern\":{\"fillmode\":\"overlay\",\"size\":10,\"solidity\":0.2}},\"type\":\"barpolar\"}],\"pie\":[{\"automargin\":true,\"type\":\"pie\"}]},\"layout\":{\"autotypenumbers\":\"strict\",\"colorway\":[\"#636efa\",\"#EF553B\",\"#00cc96\",\"#ab63fa\",\"#FFA15A\",\"#19d3f3\",\"#FF6692\",\"#B6E880\",\"#FF97FF\",\"#FECB52\"],\"font\":{\"color\":\"#2a3f5f\"},\"hovermode\":\"closest\",\"hoverlabel\":{\"align\":\"left\"},\"paper_bgcolor\":\"white\",\"plot_bgcolor\":\"#E5ECF6\",\"polar\":{\"bgcolor\":\"#E5ECF6\",\"angularaxis\":{\"gridcolor\":\"white\",\"linecolor\":\"white\",\"ticks\":\"\"},\"radialaxis\":{\"gridcolor\":\"white\",\"linecolor\":\"white\",\"ticks\":\"\"}},\"ternary\":{\"bgcolor\":\"#E5ECF6\",\"aaxis\":{\"gridcolor\":\"white\",\"linecolor\":\"white\",\"ticks\":\"\"},\"baxis\":{\"gridcolor\":\"white\",\"linecolor\":\"white\",\"ticks\":\"\"},\"caxis\":{\"gridcolor\":\"white\",\"linecolor\":\"white\",\"ticks\":\"\"}},\"coloraxis\":{\"colorbar\":{\"outlinewidth\":0,\"ticks\":\"\"}},\"colorscale\":{\"sequential\":[[0.0,\"#0d0887\"],[0.1111111111111111,\"#46039f\"],[0.2222222222222222,\"#7201a8\"],[0.3333333333333333,\"#9c179e\"],[0.4444444444444444,\"#bd3786\"],[0.5555555555555556,\"#d8576b\"],[0.6666666666666666,\"#ed7953\"],[0.7777777777777778,\"#fb9f3a\"],[0.8888888888888888,\"#fdca26\"],[1.0,\"#f0f921\"]],\"sequentialminus\":[[0.0,\"#0d0887\"],[0.1111111111111111,\"#46039f\"],[0.2222222222222222,\"#7201a8\"],[0.3333333333333333,\"#9c179e\"],[0.4444444444444444,\"#bd3786\"],[0.5555555555555556,\"#d8576b\"],[0.6666666666666666,\"#ed7953\"],[0.7777777777777778,\"#fb9f3a\"],[0.8888888888888888,\"#fdca26\"],[1.0,\"#f0f921\"]],\"diverging\":[[0,\"#8e0152\"],[0.1,\"#c51b7d\"],[0.2,\"#de77ae\"],[0.3,\"#f1b6da\"],[0.4,\"#fde0ef\"],[0.5,\"#f7f7f7\"],[0.6,\"#e6f5d0\"],[0.7,\"#b8e186\"],[0.8,\"#7fbc41\"],[0.9,\"#4d9221\"],[1,\"#276419\"]]},\"xaxis\":{\"gridcolor\":\"white\",\"linecolor\":\"white\",\"ticks\":\"\",\"title\":{\"standoff\":15},\"zerolinecolor\":\"white\",\"automargin\":true,\"zerolinewidth\":2},\"yaxis\":{\"gridcolor\":\"white\",\"linecolor\":\"white\",\"ticks\":\"\",\"title\":{\"standoff\":15},\"zerolinecolor\":\"white\",\"automargin\":true,\"zerolinewidth\":2},\"scene\":{\"xaxis\":{\"backgroundcolor\":\"#E5ECF6\",\"gridcolor\":\"white\",\"linecolor\":\"white\",\"showbackground\":true,\"ticks\":\"\",\"zerolinecolor\":\"white\",\"gridwidth\":2},\"yaxis\":{\"backgroundcolor\":\"#E5ECF6\",\"gridcolor\":\"white\",\"linecolor\":\"white\",\"showbackground\":true,\"ticks\":\"\",\"zerolinecolor\":\"white\",\"gridwidth\":2},\"zaxis\":{\"backgroundcolor\":\"#E5ECF6\",\"gridcolor\":\"white\",\"linecolor\":\"white\",\"showbackground\":true,\"ticks\":\"\",\"zerolinecolor\":\"white\",\"gridwidth\":2}},\"shapedefaults\":{\"line\":{\"color\":\"#2a3f5f\"}},\"annotationdefaults\":{\"arrowcolor\":\"#2a3f5f\",\"arrowhead\":0,\"arrowwidth\":1},\"geo\":{\"bgcolor\":\"white\",\"landcolor\":\"#E5ECF6\",\"subunitcolor\":\"white\",\"showland\":true,\"showlakes\":true,\"lakecolor\":\"white\"},\"title\":{\"x\":0.05},\"mapbox\":{\"style\":\"light\"}}},\"xaxis\":{\"anchor\":\"y\",\"domain\":[0.0,1.0],\"title\":{\"text\":\"index\"}},\"yaxis\":{\"anchor\":\"x\",\"domain\":[0.0,1.0],\"title\":{\"text\":\"value\"}},\"legend\":{\"title\":{\"text\":\"variable\"},\"tracegroupgap\":0},\"margin\":{\"t\":60}},                        {\"responsive\": true}                    ).then(function(){\n",
       "                            \n",
       "var gd = document.getElementById('9792fd73-1b22-4772-97b3-49f982dbd326');\n",
       "var x = new MutationObserver(function (mutations, observer) {{\n",
       "        var display = window.getComputedStyle(gd).display;\n",
       "        if (!display || display === 'none') {{\n",
       "            console.log([gd, 'removed!']);\n",
       "            Plotly.purge(gd);\n",
       "            observer.disconnect();\n",
       "        }}\n",
       "}});\n",
       "\n",
       "// Listen for the removal of the full notebook cells\n",
       "var notebookContainer = gd.closest('#notebook-container');\n",
       "if (notebookContainer) {{\n",
       "    x.observe(notebookContainer, {childList: true});\n",
       "}}\n",
       "\n",
       "// Listen for the clearing of the current output cell\n",
       "var outputEl = gd.closest('.output');\n",
       "if (outputEl) {{\n",
       "    x.observe(outputEl, {childList: true});\n",
       "}}\n",
       "\n",
       "                        })                };                });            </script>        </div>"
      ]
     },
     "metadata": {},
     "output_type": "display_data"
    }
   ],
   "source": [
    "px.line(train_losses[50:])"
   ]
  },
  {
   "cell_type": "code",
   "execution_count": 374,
   "metadata": {},
   "outputs": [
    {
     "data": {
      "application/vnd.plotly.v1+json": {
       "config": {
        "plotlyServerURL": "https://plot.ly"
       },
       "data": [
        {
         "hovertemplate": "variable=0<br>index=%{x}<br>value=%{y}<extra></extra>",
         "legendgroup": "0",
         "line": {
          "color": "#636efa",
          "dash": "solid"
         },
         "marker": {
          "symbol": "circle"
         },
         "mode": "lines",
         "name": "0",
         "orientation": "v",
         "showlegend": true,
         "type": "scatter",
         "x": [
          0,
          1,
          2,
          3,
          4,
          5,
          6,
          7,
          8,
          9,
          10,
          11,
          12,
          13,
          14,
          15,
          16,
          17,
          18,
          19,
          20,
          21,
          22,
          23,
          24,
          25,
          26,
          27,
          28,
          29,
          30,
          31,
          32,
          33,
          34,
          35,
          36,
          37,
          38,
          39,
          40,
          41,
          42,
          43,
          44
         ],
         "xaxis": "x",
         "y": [
          0.03169639781117439,
          0.005874507129192352,
          0.034051064401865005,
          0.015260218642652035,
          0.016788629814982414,
          0.03259521722793579,
          0.010818086564540863,
          0.023457517847418785,
          0.04678206145763397,
          0.014278890565037727,
          0.041781291365623474,
          0.014431523159146309,
          0.029871301725506783,
          0.015697801485657692,
          0.013203670270740986,
          0.004489375744014978,
          0.012269227765500546,
          0.04324279725551605,
          0.05074991285800934,
          0.015956180170178413,
          0.011859586462378502,
          0.02192767709493637,
          0.0002977586118504405,
          0.026443563401699066,
          0.039766326546669006,
          0.0164907518774271,
          0.01783858984708786,
          0.04628448560833931,
          0.011550568044185638,
          0.038884487003088,
          0.015559406951069832,
          0.030050981789827347,
          0.014189348556101322,
          0.014398696832358837,
          0.01183414738625288,
          0.007252489682286978,
          0.04107937216758728,
          0.052657581865787506,
          0.01251033041626215,
          0.005599863827228546,
          0.02342737279832363,
          0.0021556818392127752,
          0.023480156436562538,
          0.033695220947265625,
          0.009493603371083736
         ],
         "yaxis": "y"
        }
       ],
       "layout": {
        "legend": {
         "title": {
          "text": "variable"
         },
         "tracegroupgap": 0
        },
        "margin": {
         "t": 60
        },
        "template": {
         "data": {
          "bar": [
           {
            "error_x": {
             "color": "#2a3f5f"
            },
            "error_y": {
             "color": "#2a3f5f"
            },
            "marker": {
             "line": {
              "color": "#E5ECF6",
              "width": 0.5
             },
             "pattern": {
              "fillmode": "overlay",
              "size": 10,
              "solidity": 0.2
             }
            },
            "type": "bar"
           }
          ],
          "barpolar": [
           {
            "marker": {
             "line": {
              "color": "#E5ECF6",
              "width": 0.5
             },
             "pattern": {
              "fillmode": "overlay",
              "size": 10,
              "solidity": 0.2
             }
            },
            "type": "barpolar"
           }
          ],
          "carpet": [
           {
            "aaxis": {
             "endlinecolor": "#2a3f5f",
             "gridcolor": "white",
             "linecolor": "white",
             "minorgridcolor": "white",
             "startlinecolor": "#2a3f5f"
            },
            "baxis": {
             "endlinecolor": "#2a3f5f",
             "gridcolor": "white",
             "linecolor": "white",
             "minorgridcolor": "white",
             "startlinecolor": "#2a3f5f"
            },
            "type": "carpet"
           }
          ],
          "choropleth": [
           {
            "colorbar": {
             "outlinewidth": 0,
             "ticks": ""
            },
            "type": "choropleth"
           }
          ],
          "contour": [
           {
            "colorbar": {
             "outlinewidth": 0,
             "ticks": ""
            },
            "colorscale": [
             [
              0,
              "#0d0887"
             ],
             [
              0.1111111111111111,
              "#46039f"
             ],
             [
              0.2222222222222222,
              "#7201a8"
             ],
             [
              0.3333333333333333,
              "#9c179e"
             ],
             [
              0.4444444444444444,
              "#bd3786"
             ],
             [
              0.5555555555555556,
              "#d8576b"
             ],
             [
              0.6666666666666666,
              "#ed7953"
             ],
             [
              0.7777777777777778,
              "#fb9f3a"
             ],
             [
              0.8888888888888888,
              "#fdca26"
             ],
             [
              1,
              "#f0f921"
             ]
            ],
            "type": "contour"
           }
          ],
          "contourcarpet": [
           {
            "colorbar": {
             "outlinewidth": 0,
             "ticks": ""
            },
            "type": "contourcarpet"
           }
          ],
          "heatmap": [
           {
            "colorbar": {
             "outlinewidth": 0,
             "ticks": ""
            },
            "colorscale": [
             [
              0,
              "#0d0887"
             ],
             [
              0.1111111111111111,
              "#46039f"
             ],
             [
              0.2222222222222222,
              "#7201a8"
             ],
             [
              0.3333333333333333,
              "#9c179e"
             ],
             [
              0.4444444444444444,
              "#bd3786"
             ],
             [
              0.5555555555555556,
              "#d8576b"
             ],
             [
              0.6666666666666666,
              "#ed7953"
             ],
             [
              0.7777777777777778,
              "#fb9f3a"
             ],
             [
              0.8888888888888888,
              "#fdca26"
             ],
             [
              1,
              "#f0f921"
             ]
            ],
            "type": "heatmap"
           }
          ],
          "heatmapgl": [
           {
            "colorbar": {
             "outlinewidth": 0,
             "ticks": ""
            },
            "colorscale": [
             [
              0,
              "#0d0887"
             ],
             [
              0.1111111111111111,
              "#46039f"
             ],
             [
              0.2222222222222222,
              "#7201a8"
             ],
             [
              0.3333333333333333,
              "#9c179e"
             ],
             [
              0.4444444444444444,
              "#bd3786"
             ],
             [
              0.5555555555555556,
              "#d8576b"
             ],
             [
              0.6666666666666666,
              "#ed7953"
             ],
             [
              0.7777777777777778,
              "#fb9f3a"
             ],
             [
              0.8888888888888888,
              "#fdca26"
             ],
             [
              1,
              "#f0f921"
             ]
            ],
            "type": "heatmapgl"
           }
          ],
          "histogram": [
           {
            "marker": {
             "pattern": {
              "fillmode": "overlay",
              "size": 10,
              "solidity": 0.2
             }
            },
            "type": "histogram"
           }
          ],
          "histogram2d": [
           {
            "colorbar": {
             "outlinewidth": 0,
             "ticks": ""
            },
            "colorscale": [
             [
              0,
              "#0d0887"
             ],
             [
              0.1111111111111111,
              "#46039f"
             ],
             [
              0.2222222222222222,
              "#7201a8"
             ],
             [
              0.3333333333333333,
              "#9c179e"
             ],
             [
              0.4444444444444444,
              "#bd3786"
             ],
             [
              0.5555555555555556,
              "#d8576b"
             ],
             [
              0.6666666666666666,
              "#ed7953"
             ],
             [
              0.7777777777777778,
              "#fb9f3a"
             ],
             [
              0.8888888888888888,
              "#fdca26"
             ],
             [
              1,
              "#f0f921"
             ]
            ],
            "type": "histogram2d"
           }
          ],
          "histogram2dcontour": [
           {
            "colorbar": {
             "outlinewidth": 0,
             "ticks": ""
            },
            "colorscale": [
             [
              0,
              "#0d0887"
             ],
             [
              0.1111111111111111,
              "#46039f"
             ],
             [
              0.2222222222222222,
              "#7201a8"
             ],
             [
              0.3333333333333333,
              "#9c179e"
             ],
             [
              0.4444444444444444,
              "#bd3786"
             ],
             [
              0.5555555555555556,
              "#d8576b"
             ],
             [
              0.6666666666666666,
              "#ed7953"
             ],
             [
              0.7777777777777778,
              "#fb9f3a"
             ],
             [
              0.8888888888888888,
              "#fdca26"
             ],
             [
              1,
              "#f0f921"
             ]
            ],
            "type": "histogram2dcontour"
           }
          ],
          "mesh3d": [
           {
            "colorbar": {
             "outlinewidth": 0,
             "ticks": ""
            },
            "type": "mesh3d"
           }
          ],
          "parcoords": [
           {
            "line": {
             "colorbar": {
              "outlinewidth": 0,
              "ticks": ""
             }
            },
            "type": "parcoords"
           }
          ],
          "pie": [
           {
            "automargin": true,
            "type": "pie"
           }
          ],
          "scatter": [
           {
            "fillpattern": {
             "fillmode": "overlay",
             "size": 10,
             "solidity": 0.2
            },
            "type": "scatter"
           }
          ],
          "scatter3d": [
           {
            "line": {
             "colorbar": {
              "outlinewidth": 0,
              "ticks": ""
             }
            },
            "marker": {
             "colorbar": {
              "outlinewidth": 0,
              "ticks": ""
             }
            },
            "type": "scatter3d"
           }
          ],
          "scattercarpet": [
           {
            "marker": {
             "colorbar": {
              "outlinewidth": 0,
              "ticks": ""
             }
            },
            "type": "scattercarpet"
           }
          ],
          "scattergeo": [
           {
            "marker": {
             "colorbar": {
              "outlinewidth": 0,
              "ticks": ""
             }
            },
            "type": "scattergeo"
           }
          ],
          "scattergl": [
           {
            "marker": {
             "colorbar": {
              "outlinewidth": 0,
              "ticks": ""
             }
            },
            "type": "scattergl"
           }
          ],
          "scattermapbox": [
           {
            "marker": {
             "colorbar": {
              "outlinewidth": 0,
              "ticks": ""
             }
            },
            "type": "scattermapbox"
           }
          ],
          "scatterpolar": [
           {
            "marker": {
             "colorbar": {
              "outlinewidth": 0,
              "ticks": ""
             }
            },
            "type": "scatterpolar"
           }
          ],
          "scatterpolargl": [
           {
            "marker": {
             "colorbar": {
              "outlinewidth": 0,
              "ticks": ""
             }
            },
            "type": "scatterpolargl"
           }
          ],
          "scatterternary": [
           {
            "marker": {
             "colorbar": {
              "outlinewidth": 0,
              "ticks": ""
             }
            },
            "type": "scatterternary"
           }
          ],
          "surface": [
           {
            "colorbar": {
             "outlinewidth": 0,
             "ticks": ""
            },
            "colorscale": [
             [
              0,
              "#0d0887"
             ],
             [
              0.1111111111111111,
              "#46039f"
             ],
             [
              0.2222222222222222,
              "#7201a8"
             ],
             [
              0.3333333333333333,
              "#9c179e"
             ],
             [
              0.4444444444444444,
              "#bd3786"
             ],
             [
              0.5555555555555556,
              "#d8576b"
             ],
             [
              0.6666666666666666,
              "#ed7953"
             ],
             [
              0.7777777777777778,
              "#fb9f3a"
             ],
             [
              0.8888888888888888,
              "#fdca26"
             ],
             [
              1,
              "#f0f921"
             ]
            ],
            "type": "surface"
           }
          ],
          "table": [
           {
            "cells": {
             "fill": {
              "color": "#EBF0F8"
             },
             "line": {
              "color": "white"
             }
            },
            "header": {
             "fill": {
              "color": "#C8D4E3"
             },
             "line": {
              "color": "white"
             }
            },
            "type": "table"
           }
          ]
         },
         "layout": {
          "annotationdefaults": {
           "arrowcolor": "#2a3f5f",
           "arrowhead": 0,
           "arrowwidth": 1
          },
          "autotypenumbers": "strict",
          "coloraxis": {
           "colorbar": {
            "outlinewidth": 0,
            "ticks": ""
           }
          },
          "colorscale": {
           "diverging": [
            [
             0,
             "#8e0152"
            ],
            [
             0.1,
             "#c51b7d"
            ],
            [
             0.2,
             "#de77ae"
            ],
            [
             0.3,
             "#f1b6da"
            ],
            [
             0.4,
             "#fde0ef"
            ],
            [
             0.5,
             "#f7f7f7"
            ],
            [
             0.6,
             "#e6f5d0"
            ],
            [
             0.7,
             "#b8e186"
            ],
            [
             0.8,
             "#7fbc41"
            ],
            [
             0.9,
             "#4d9221"
            ],
            [
             1,
             "#276419"
            ]
           ],
           "sequential": [
            [
             0,
             "#0d0887"
            ],
            [
             0.1111111111111111,
             "#46039f"
            ],
            [
             0.2222222222222222,
             "#7201a8"
            ],
            [
             0.3333333333333333,
             "#9c179e"
            ],
            [
             0.4444444444444444,
             "#bd3786"
            ],
            [
             0.5555555555555556,
             "#d8576b"
            ],
            [
             0.6666666666666666,
             "#ed7953"
            ],
            [
             0.7777777777777778,
             "#fb9f3a"
            ],
            [
             0.8888888888888888,
             "#fdca26"
            ],
            [
             1,
             "#f0f921"
            ]
           ],
           "sequentialminus": [
            [
             0,
             "#0d0887"
            ],
            [
             0.1111111111111111,
             "#46039f"
            ],
            [
             0.2222222222222222,
             "#7201a8"
            ],
            [
             0.3333333333333333,
             "#9c179e"
            ],
            [
             0.4444444444444444,
             "#bd3786"
            ],
            [
             0.5555555555555556,
             "#d8576b"
            ],
            [
             0.6666666666666666,
             "#ed7953"
            ],
            [
             0.7777777777777778,
             "#fb9f3a"
            ],
            [
             0.8888888888888888,
             "#fdca26"
            ],
            [
             1,
             "#f0f921"
            ]
           ]
          },
          "colorway": [
           "#636efa",
           "#EF553B",
           "#00cc96",
           "#ab63fa",
           "#FFA15A",
           "#19d3f3",
           "#FF6692",
           "#B6E880",
           "#FF97FF",
           "#FECB52"
          ],
          "font": {
           "color": "#2a3f5f"
          },
          "geo": {
           "bgcolor": "white",
           "lakecolor": "white",
           "landcolor": "#E5ECF6",
           "showlakes": true,
           "showland": true,
           "subunitcolor": "white"
          },
          "hoverlabel": {
           "align": "left"
          },
          "hovermode": "closest",
          "mapbox": {
           "style": "light"
          },
          "paper_bgcolor": "white",
          "plot_bgcolor": "#E5ECF6",
          "polar": {
           "angularaxis": {
            "gridcolor": "white",
            "linecolor": "white",
            "ticks": ""
           },
           "bgcolor": "#E5ECF6",
           "radialaxis": {
            "gridcolor": "white",
            "linecolor": "white",
            "ticks": ""
           }
          },
          "scene": {
           "xaxis": {
            "backgroundcolor": "#E5ECF6",
            "gridcolor": "white",
            "gridwidth": 2,
            "linecolor": "white",
            "showbackground": true,
            "ticks": "",
            "zerolinecolor": "white"
           },
           "yaxis": {
            "backgroundcolor": "#E5ECF6",
            "gridcolor": "white",
            "gridwidth": 2,
            "linecolor": "white",
            "showbackground": true,
            "ticks": "",
            "zerolinecolor": "white"
           },
           "zaxis": {
            "backgroundcolor": "#E5ECF6",
            "gridcolor": "white",
            "gridwidth": 2,
            "linecolor": "white",
            "showbackground": true,
            "ticks": "",
            "zerolinecolor": "white"
           }
          },
          "shapedefaults": {
           "line": {
            "color": "#2a3f5f"
           }
          },
          "ternary": {
           "aaxis": {
            "gridcolor": "white",
            "linecolor": "white",
            "ticks": ""
           },
           "baxis": {
            "gridcolor": "white",
            "linecolor": "white",
            "ticks": ""
           },
           "bgcolor": "#E5ECF6",
           "caxis": {
            "gridcolor": "white",
            "linecolor": "white",
            "ticks": ""
           }
          },
          "title": {
           "x": 0.05
          },
          "xaxis": {
           "automargin": true,
           "gridcolor": "white",
           "linecolor": "white",
           "ticks": "",
           "title": {
            "standoff": 15
           },
           "zerolinecolor": "white",
           "zerolinewidth": 2
          },
          "yaxis": {
           "automargin": true,
           "gridcolor": "white",
           "linecolor": "white",
           "ticks": "",
           "title": {
            "standoff": 15
           },
           "zerolinecolor": "white",
           "zerolinewidth": 2
          }
         }
        },
        "xaxis": {
         "anchor": "y",
         "domain": [
          0,
          1
         ],
         "title": {
          "text": "index"
         }
        },
        "yaxis": {
         "anchor": "x",
         "domain": [
          0,
          1
         ],
         "title": {
          "text": "value"
         }
        }
       }
      },
      "text/html": [
       "<div>                            <div id=\"862be371-5c9e-4b20-8d95-f1d57603058f\" class=\"plotly-graph-div\" style=\"height:525px; width:100%;\"></div>            <script type=\"text/javascript\">                require([\"plotly\"], function(Plotly) {                    window.PLOTLYENV=window.PLOTLYENV || {};                                    if (document.getElementById(\"862be371-5c9e-4b20-8d95-f1d57603058f\")) {                    Plotly.newPlot(                        \"862be371-5c9e-4b20-8d95-f1d57603058f\",                        [{\"hovertemplate\":\"variable=0<br>index=%{x}<br>value=%{y}<extra></extra>\",\"legendgroup\":\"0\",\"line\":{\"color\":\"#636efa\",\"dash\":\"solid\"},\"marker\":{\"symbol\":\"circle\"},\"mode\":\"lines\",\"name\":\"0\",\"orientation\":\"v\",\"showlegend\":true,\"x\":[0,1,2,3,4,5,6,7,8,9,10,11,12,13,14,15,16,17,18,19,20,21,22,23,24,25,26,27,28,29,30,31,32,33,34,35,36,37,38,39,40,41,42,43,44],\"xaxis\":\"x\",\"y\":[0.03169639781117439,0.005874507129192352,0.034051064401865005,0.015260218642652035,0.016788629814982414,0.03259521722793579,0.010818086564540863,0.023457517847418785,0.04678206145763397,0.014278890565037727,0.041781291365623474,0.014431523159146309,0.029871301725506783,0.015697801485657692,0.013203670270740986,0.004489375744014978,0.012269227765500546,0.04324279725551605,0.05074991285800934,0.015956180170178413,0.011859586462378502,0.02192767709493637,0.0002977586118504405,0.026443563401699066,0.039766326546669006,0.0164907518774271,0.01783858984708786,0.04628448560833931,0.011550568044185638,0.038884487003088,0.015559406951069832,0.030050981789827347,0.014189348556101322,0.014398696832358837,0.01183414738625288,0.007252489682286978,0.04107937216758728,0.052657581865787506,0.01251033041626215,0.005599863827228546,0.02342737279832363,0.0021556818392127752,0.023480156436562538,0.033695220947265625,0.009493603371083736],\"yaxis\":\"y\",\"type\":\"scatter\"}],                        {\"template\":{\"data\":{\"histogram2dcontour\":[{\"type\":\"histogram2dcontour\",\"colorbar\":{\"outlinewidth\":0,\"ticks\":\"\"},\"colorscale\":[[0.0,\"#0d0887\"],[0.1111111111111111,\"#46039f\"],[0.2222222222222222,\"#7201a8\"],[0.3333333333333333,\"#9c179e\"],[0.4444444444444444,\"#bd3786\"],[0.5555555555555556,\"#d8576b\"],[0.6666666666666666,\"#ed7953\"],[0.7777777777777778,\"#fb9f3a\"],[0.8888888888888888,\"#fdca26\"],[1.0,\"#f0f921\"]]}],\"choropleth\":[{\"type\":\"choropleth\",\"colorbar\":{\"outlinewidth\":0,\"ticks\":\"\"}}],\"histogram2d\":[{\"type\":\"histogram2d\",\"colorbar\":{\"outlinewidth\":0,\"ticks\":\"\"},\"colorscale\":[[0.0,\"#0d0887\"],[0.1111111111111111,\"#46039f\"],[0.2222222222222222,\"#7201a8\"],[0.3333333333333333,\"#9c179e\"],[0.4444444444444444,\"#bd3786\"],[0.5555555555555556,\"#d8576b\"],[0.6666666666666666,\"#ed7953\"],[0.7777777777777778,\"#fb9f3a\"],[0.8888888888888888,\"#fdca26\"],[1.0,\"#f0f921\"]]}],\"heatmap\":[{\"type\":\"heatmap\",\"colorbar\":{\"outlinewidth\":0,\"ticks\":\"\"},\"colorscale\":[[0.0,\"#0d0887\"],[0.1111111111111111,\"#46039f\"],[0.2222222222222222,\"#7201a8\"],[0.3333333333333333,\"#9c179e\"],[0.4444444444444444,\"#bd3786\"],[0.5555555555555556,\"#d8576b\"],[0.6666666666666666,\"#ed7953\"],[0.7777777777777778,\"#fb9f3a\"],[0.8888888888888888,\"#fdca26\"],[1.0,\"#f0f921\"]]}],\"heatmapgl\":[{\"type\":\"heatmapgl\",\"colorbar\":{\"outlinewidth\":0,\"ticks\":\"\"},\"colorscale\":[[0.0,\"#0d0887\"],[0.1111111111111111,\"#46039f\"],[0.2222222222222222,\"#7201a8\"],[0.3333333333333333,\"#9c179e\"],[0.4444444444444444,\"#bd3786\"],[0.5555555555555556,\"#d8576b\"],[0.6666666666666666,\"#ed7953\"],[0.7777777777777778,\"#fb9f3a\"],[0.8888888888888888,\"#fdca26\"],[1.0,\"#f0f921\"]]}],\"contourcarpet\":[{\"type\":\"contourcarpet\",\"colorbar\":{\"outlinewidth\":0,\"ticks\":\"\"}}],\"contour\":[{\"type\":\"contour\",\"colorbar\":{\"outlinewidth\":0,\"ticks\":\"\"},\"colorscale\":[[0.0,\"#0d0887\"],[0.1111111111111111,\"#46039f\"],[0.2222222222222222,\"#7201a8\"],[0.3333333333333333,\"#9c179e\"],[0.4444444444444444,\"#bd3786\"],[0.5555555555555556,\"#d8576b\"],[0.6666666666666666,\"#ed7953\"],[0.7777777777777778,\"#fb9f3a\"],[0.8888888888888888,\"#fdca26\"],[1.0,\"#f0f921\"]]}],\"surface\":[{\"type\":\"surface\",\"colorbar\":{\"outlinewidth\":0,\"ticks\":\"\"},\"colorscale\":[[0.0,\"#0d0887\"],[0.1111111111111111,\"#46039f\"],[0.2222222222222222,\"#7201a8\"],[0.3333333333333333,\"#9c179e\"],[0.4444444444444444,\"#bd3786\"],[0.5555555555555556,\"#d8576b\"],[0.6666666666666666,\"#ed7953\"],[0.7777777777777778,\"#fb9f3a\"],[0.8888888888888888,\"#fdca26\"],[1.0,\"#f0f921\"]]}],\"mesh3d\":[{\"type\":\"mesh3d\",\"colorbar\":{\"outlinewidth\":0,\"ticks\":\"\"}}],\"scatter\":[{\"fillpattern\":{\"fillmode\":\"overlay\",\"size\":10,\"solidity\":0.2},\"type\":\"scatter\"}],\"parcoords\":[{\"type\":\"parcoords\",\"line\":{\"colorbar\":{\"outlinewidth\":0,\"ticks\":\"\"}}}],\"scatterpolargl\":[{\"type\":\"scatterpolargl\",\"marker\":{\"colorbar\":{\"outlinewidth\":0,\"ticks\":\"\"}}}],\"bar\":[{\"error_x\":{\"color\":\"#2a3f5f\"},\"error_y\":{\"color\":\"#2a3f5f\"},\"marker\":{\"line\":{\"color\":\"#E5ECF6\",\"width\":0.5},\"pattern\":{\"fillmode\":\"overlay\",\"size\":10,\"solidity\":0.2}},\"type\":\"bar\"}],\"scattergeo\":[{\"type\":\"scattergeo\",\"marker\":{\"colorbar\":{\"outlinewidth\":0,\"ticks\":\"\"}}}],\"scatterpolar\":[{\"type\":\"scatterpolar\",\"marker\":{\"colorbar\":{\"outlinewidth\":0,\"ticks\":\"\"}}}],\"histogram\":[{\"marker\":{\"pattern\":{\"fillmode\":\"overlay\",\"size\":10,\"solidity\":0.2}},\"type\":\"histogram\"}],\"scattergl\":[{\"type\":\"scattergl\",\"marker\":{\"colorbar\":{\"outlinewidth\":0,\"ticks\":\"\"}}}],\"scatter3d\":[{\"type\":\"scatter3d\",\"line\":{\"colorbar\":{\"outlinewidth\":0,\"ticks\":\"\"}},\"marker\":{\"colorbar\":{\"outlinewidth\":0,\"ticks\":\"\"}}}],\"scattermapbox\":[{\"type\":\"scattermapbox\",\"marker\":{\"colorbar\":{\"outlinewidth\":0,\"ticks\":\"\"}}}],\"scatterternary\":[{\"type\":\"scatterternary\",\"marker\":{\"colorbar\":{\"outlinewidth\":0,\"ticks\":\"\"}}}],\"scattercarpet\":[{\"type\":\"scattercarpet\",\"marker\":{\"colorbar\":{\"outlinewidth\":0,\"ticks\":\"\"}}}],\"carpet\":[{\"aaxis\":{\"endlinecolor\":\"#2a3f5f\",\"gridcolor\":\"white\",\"linecolor\":\"white\",\"minorgridcolor\":\"white\",\"startlinecolor\":\"#2a3f5f\"},\"baxis\":{\"endlinecolor\":\"#2a3f5f\",\"gridcolor\":\"white\",\"linecolor\":\"white\",\"minorgridcolor\":\"white\",\"startlinecolor\":\"#2a3f5f\"},\"type\":\"carpet\"}],\"table\":[{\"cells\":{\"fill\":{\"color\":\"#EBF0F8\"},\"line\":{\"color\":\"white\"}},\"header\":{\"fill\":{\"color\":\"#C8D4E3\"},\"line\":{\"color\":\"white\"}},\"type\":\"table\"}],\"barpolar\":[{\"marker\":{\"line\":{\"color\":\"#E5ECF6\",\"width\":0.5},\"pattern\":{\"fillmode\":\"overlay\",\"size\":10,\"solidity\":0.2}},\"type\":\"barpolar\"}],\"pie\":[{\"automargin\":true,\"type\":\"pie\"}]},\"layout\":{\"autotypenumbers\":\"strict\",\"colorway\":[\"#636efa\",\"#EF553B\",\"#00cc96\",\"#ab63fa\",\"#FFA15A\",\"#19d3f3\",\"#FF6692\",\"#B6E880\",\"#FF97FF\",\"#FECB52\"],\"font\":{\"color\":\"#2a3f5f\"},\"hovermode\":\"closest\",\"hoverlabel\":{\"align\":\"left\"},\"paper_bgcolor\":\"white\",\"plot_bgcolor\":\"#E5ECF6\",\"polar\":{\"bgcolor\":\"#E5ECF6\",\"angularaxis\":{\"gridcolor\":\"white\",\"linecolor\":\"white\",\"ticks\":\"\"},\"radialaxis\":{\"gridcolor\":\"white\",\"linecolor\":\"white\",\"ticks\":\"\"}},\"ternary\":{\"bgcolor\":\"#E5ECF6\",\"aaxis\":{\"gridcolor\":\"white\",\"linecolor\":\"white\",\"ticks\":\"\"},\"baxis\":{\"gridcolor\":\"white\",\"linecolor\":\"white\",\"ticks\":\"\"},\"caxis\":{\"gridcolor\":\"white\",\"linecolor\":\"white\",\"ticks\":\"\"}},\"coloraxis\":{\"colorbar\":{\"outlinewidth\":0,\"ticks\":\"\"}},\"colorscale\":{\"sequential\":[[0.0,\"#0d0887\"],[0.1111111111111111,\"#46039f\"],[0.2222222222222222,\"#7201a8\"],[0.3333333333333333,\"#9c179e\"],[0.4444444444444444,\"#bd3786\"],[0.5555555555555556,\"#d8576b\"],[0.6666666666666666,\"#ed7953\"],[0.7777777777777778,\"#fb9f3a\"],[0.8888888888888888,\"#fdca26\"],[1.0,\"#f0f921\"]],\"sequentialminus\":[[0.0,\"#0d0887\"],[0.1111111111111111,\"#46039f\"],[0.2222222222222222,\"#7201a8\"],[0.3333333333333333,\"#9c179e\"],[0.4444444444444444,\"#bd3786\"],[0.5555555555555556,\"#d8576b\"],[0.6666666666666666,\"#ed7953\"],[0.7777777777777778,\"#fb9f3a\"],[0.8888888888888888,\"#fdca26\"],[1.0,\"#f0f921\"]],\"diverging\":[[0,\"#8e0152\"],[0.1,\"#c51b7d\"],[0.2,\"#de77ae\"],[0.3,\"#f1b6da\"],[0.4,\"#fde0ef\"],[0.5,\"#f7f7f7\"],[0.6,\"#e6f5d0\"],[0.7,\"#b8e186\"],[0.8,\"#7fbc41\"],[0.9,\"#4d9221\"],[1,\"#276419\"]]},\"xaxis\":{\"gridcolor\":\"white\",\"linecolor\":\"white\",\"ticks\":\"\",\"title\":{\"standoff\":15},\"zerolinecolor\":\"white\",\"automargin\":true,\"zerolinewidth\":2},\"yaxis\":{\"gridcolor\":\"white\",\"linecolor\":\"white\",\"ticks\":\"\",\"title\":{\"standoff\":15},\"zerolinecolor\":\"white\",\"automargin\":true,\"zerolinewidth\":2},\"scene\":{\"xaxis\":{\"backgroundcolor\":\"#E5ECF6\",\"gridcolor\":\"white\",\"linecolor\":\"white\",\"showbackground\":true,\"ticks\":\"\",\"zerolinecolor\":\"white\",\"gridwidth\":2},\"yaxis\":{\"backgroundcolor\":\"#E5ECF6\",\"gridcolor\":\"white\",\"linecolor\":\"white\",\"showbackground\":true,\"ticks\":\"\",\"zerolinecolor\":\"white\",\"gridwidth\":2},\"zaxis\":{\"backgroundcolor\":\"#E5ECF6\",\"gridcolor\":\"white\",\"linecolor\":\"white\",\"showbackground\":true,\"ticks\":\"\",\"zerolinecolor\":\"white\",\"gridwidth\":2}},\"shapedefaults\":{\"line\":{\"color\":\"#2a3f5f\"}},\"annotationdefaults\":{\"arrowcolor\":\"#2a3f5f\",\"arrowhead\":0,\"arrowwidth\":1},\"geo\":{\"bgcolor\":\"white\",\"landcolor\":\"#E5ECF6\",\"subunitcolor\":\"white\",\"showland\":true,\"showlakes\":true,\"lakecolor\":\"white\"},\"title\":{\"x\":0.05},\"mapbox\":{\"style\":\"light\"}}},\"xaxis\":{\"anchor\":\"y\",\"domain\":[0.0,1.0],\"title\":{\"text\":\"index\"}},\"yaxis\":{\"anchor\":\"x\",\"domain\":[0.0,1.0],\"title\":{\"text\":\"value\"}},\"legend\":{\"title\":{\"text\":\"variable\"},\"tracegroupgap\":0},\"margin\":{\"t\":60}},                        {\"responsive\": true}                    ).then(function(){\n",
       "                            \n",
       "var gd = document.getElementById('862be371-5c9e-4b20-8d95-f1d57603058f');\n",
       "var x = new MutationObserver(function (mutations, observer) {{\n",
       "        var display = window.getComputedStyle(gd).display;\n",
       "        if (!display || display === 'none') {{\n",
       "            console.log([gd, 'removed!']);\n",
       "            Plotly.purge(gd);\n",
       "            observer.disconnect();\n",
       "        }}\n",
       "}});\n",
       "\n",
       "// Listen for the removal of the full notebook cells\n",
       "var notebookContainer = gd.closest('#notebook-container');\n",
       "if (notebookContainer) {{\n",
       "    x.observe(notebookContainer, {childList: true});\n",
       "}}\n",
       "\n",
       "// Listen for the clearing of the current output cell\n",
       "var outputEl = gd.closest('.output');\n",
       "if (outputEl) {{\n",
       "    x.observe(outputEl, {childList: true});\n",
       "}}\n",
       "\n",
       "                        })                };                });            </script>        </div>"
      ]
     },
     "metadata": {},
     "output_type": "display_data"
    }
   ],
   "source": [
    "px.line(test_losses[50:])"
   ]
  },
  {
   "attachments": {},
   "cell_type": "markdown",
   "metadata": {},
   "source": [
    "### Random test sample"
   ]
  },
  {
   "cell_type": "code",
   "execution_count": 375,
   "metadata": {},
   "outputs": [
    {
     "name": "stdout",
     "output_type": "stream",
     "text": [
      "x: tensor([ 0.3877, 68.0000,  1.0000,  6.0000, 22.0000])\n",
      "y: 16392.0\n",
      "pred_y: tensor([16427.3359], grad_fn=<AddBackward0>)\n"
     ]
    }
   ],
   "source": [
    "random_idx = np.random.randint(0,len(test_data))\n",
    "x, y = test_data[random_idx]\n",
    "print(\"x: {}\".format(x))\n",
    "print(\"y: {}\".format(y))\n",
    "pred_y = nn_model(x)\n",
    "print(\"pred_y: {}\".format(pred_y))"
   ]
  },
  {
   "cell_type": "code",
   "execution_count": null,
   "metadata": {},
   "outputs": [],
   "source": []
  },
  {
   "attachments": {},
   "cell_type": "markdown",
   "metadata": {},
   "source": [
    "## Save Model"
   ]
  },
  {
   "cell_type": "code",
   "execution_count": 377,
   "metadata": {},
   "outputs": [],
   "source": [
    "torch.save(nn_model, NN_MODEL_PATH)"
   ]
  }
 ],
 "metadata": {
  "kernelspec": {
   "display_name": "Python 3",
   "language": "python",
   "name": "python3"
  },
  "language_info": {
   "codemirror_mode": {
    "name": "ipython",
    "version": 3
   },
   "file_extension": ".py",
   "mimetype": "text/x-python",
   "name": "python",
   "nbconvert_exporter": "python",
   "pygments_lexer": "ipython3",
   "version": "3.8.10"
  },
  "orig_nbformat": 4,
  "vscode": {
   "interpreter": {
    "hash": "31f2aee4e71d21fbe5cf8b01ff0e069b9275f58929596ceb00d14d90e3e16cd6"
   }
  }
 },
 "nbformat": 4,
 "nbformat_minor": 2
}
