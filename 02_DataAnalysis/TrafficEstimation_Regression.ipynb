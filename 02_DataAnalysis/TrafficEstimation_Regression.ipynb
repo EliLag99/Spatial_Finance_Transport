{
 "cells": [
  {
   "cell_type": "code",
   "execution_count": 1,
   "metadata": {
    "collapsed": true
   },
   "outputs": [],
   "source": [
    "import pandas as pd\n",
    "from sklearn.linear_model import LinearRegression"
   ]
  },
  {
   "cell_type": "code",
   "execution_count": 2,
   "outputs": [],
   "source": [
    "YEAR = 2018\n",
    "YEAR_STRING = \"2018\""
   ],
   "metadata": {
    "collapsed": false
   }
  },
  {
   "cell_type": "code",
   "execution_count": 3,
   "outputs": [],
   "source": [
    "df_ghg = pd.read_csv(\"./Data/UK_LA_GHG_EMISSIONS.csv\")\n",
    "df_gdp = pd.read_csv(\"./Data/GDP_by_LA.csv\", skiprows=1, thousands=\",\")\n",
    "df_traffic = pd.read_csv(\"./Data/local_authority_traffic.csv\")\n",
    "\n",
    "df_cities = pd.read_csv(\"./../01_LocalAuthorities/lauth-classification-csv.csv\")\n",
    "df_cities[\"classification\"] = df_cities[\"classification\"].str.capitalize()\n",
    "df_cities = df_cities[[\"localauth_code\", \"classification\", 'percent_of_localauth']]\n",
    "df_cities = df_cities.pivot(index=\"localauth_code\", columns=\"classification\", values=\"percent_of_localauth\")\n",
    "df_cities = df_cities.where(pd.notna(df_cities), 0)"
   ],
   "metadata": {
    "collapsed": false
   }
  },
  {
   "cell_type": "code",
   "execution_count": 4,
   "outputs": [],
   "source": [
    "ghg_condition1 = (df_ghg[\"Calendar Year\"] == YEAR)\n",
    "ghg_condition2 = (df_ghg[\"LA GHG Sub-sector\"] == \"Road Transport (A roads)\")\n",
    "ghg_condition3 = (df_ghg[\"Greenhouse gas\"] == \"CO2\")\n",
    "\n",
    "df_ghg = df_ghg[ghg_condition1 & ghg_condition2 & ghg_condition3]"
   ],
   "metadata": {
    "collapsed": false
   }
  },
  {
   "cell_type": "code",
   "execution_count": 5,
   "outputs": [],
   "source": [
    "traffic_condition1 = (df_traffic[\"year\"] == YEAR)\n",
    "\n",
    "df_traffic = df_traffic[traffic_condition1]"
   ],
   "metadata": {
    "collapsed": false
   }
  },
  {
   "cell_type": "code",
   "execution_count": 6,
   "outputs": [],
   "source": [
    "df_urban_population = pd.DataFrame(data={\n",
    "    \"LA Code\": df_cities.index,\n",
    "    \"Urban Population\": df_cities[\"Core city (london)\"] + df_cities[\"Core city (outside london)\"] + df_cities[\"Other city\"]\n",
    "})"
   ],
   "metadata": {
    "collapsed": false
   }
  },
  {
   "cell_type": "code",
   "execution_count": 7,
   "outputs": [],
   "source": [
    "df_merged = df_urban_population.merge(df_ghg, how=\"inner\", left_on=\"LA Code\", right_on=\"Local Authority Code\")\n",
    "df_merged = df_merged.merge(df_gdp, how=\"inner\", left_on=\"LA Code\", right_on=\"LA code\")\n",
    "df_merged = df_merged.merge(df_traffic, how=\"inner\", left_on=\"LA Code\", right_on=\"ONS_code\")"
   ],
   "metadata": {
    "collapsed": false
   }
  },
  {
   "cell_type": "code",
   "execution_count": 8,
   "outputs": [
    {
     "data": {
      "text/plain": "       LA Code  Territorial emissions (kt CO2e)  \\\n0    E06000001                        80.361007   \n1    E06000002                       139.265529   \n2    E06000003                        98.695688   \n3    E06000004                       212.866413   \n4    E06000005                        70.917002   \n..         ...                              ...   \n168  W06000020                        61.122965   \n169  W06000021                       162.610136   \n170  W06000022                        91.974974   \n171  W06000023                       210.689468   \n172  W06000024                        60.946205   \n\n     Mid-year Population (thousands)  Area (km2)  2018  link_length_km  \\\n0                             93.242     98.3466  1645        407.9089   \n1                            140.545     54.5537  3405        529.7030   \n2                            136.718    253.7857  2123        684.6929   \n3                            197.213    209.7309  5521        883.7523   \n4                            106.566    197.4758  2878        552.5404   \n..                               ...         ...   ...             ...   \n168                           93.049    126.2401  1888        478.7708   \n169                           94.142    886.0557  2292       1625.5685   \n170                          153.302    217.4554  4550        750.9468   \n171                          132.447   5195.4561  2658       5367.8299   \n172                           60.183    111.9569  1246        348.3123   \n\n     all_motor_vehicles  \n0          3.970277e+08  \n1          7.421440e+08  \n2          5.810374e+08  \n3          8.823905e+08  \n4          5.116976e+08  \n..                  ...  \n168        4.199331e+08  \n169        9.379984e+08  \n170        1.251067e+09  \n171        1.050016e+09  \n172        2.611998e+08  \n\n[173 rows x 7 columns]",
      "text/html": "<div>\n<style scoped>\n    .dataframe tbody tr th:only-of-type {\n        vertical-align: middle;\n    }\n\n    .dataframe tbody tr th {\n        vertical-align: top;\n    }\n\n    .dataframe thead th {\n        text-align: right;\n    }\n</style>\n<table border=\"1\" class=\"dataframe\">\n  <thead>\n    <tr style=\"text-align: right;\">\n      <th></th>\n      <th>LA Code</th>\n      <th>Territorial emissions (kt CO2e)</th>\n      <th>Mid-year Population (thousands)</th>\n      <th>Area (km2)</th>\n      <th>2018</th>\n      <th>link_length_km</th>\n      <th>all_motor_vehicles</th>\n    </tr>\n  </thead>\n  <tbody>\n    <tr>\n      <th>0</th>\n      <td>E06000001</td>\n      <td>80.361007</td>\n      <td>93.242</td>\n      <td>98.3466</td>\n      <td>1645</td>\n      <td>407.9089</td>\n      <td>3.970277e+08</td>\n    </tr>\n    <tr>\n      <th>1</th>\n      <td>E06000002</td>\n      <td>139.265529</td>\n      <td>140.545</td>\n      <td>54.5537</td>\n      <td>3405</td>\n      <td>529.7030</td>\n      <td>7.421440e+08</td>\n    </tr>\n    <tr>\n      <th>2</th>\n      <td>E06000003</td>\n      <td>98.695688</td>\n      <td>136.718</td>\n      <td>253.7857</td>\n      <td>2123</td>\n      <td>684.6929</td>\n      <td>5.810374e+08</td>\n    </tr>\n    <tr>\n      <th>3</th>\n      <td>E06000004</td>\n      <td>212.866413</td>\n      <td>197.213</td>\n      <td>209.7309</td>\n      <td>5521</td>\n      <td>883.7523</td>\n      <td>8.823905e+08</td>\n    </tr>\n    <tr>\n      <th>4</th>\n      <td>E06000005</td>\n      <td>70.917002</td>\n      <td>106.566</td>\n      <td>197.4758</td>\n      <td>2878</td>\n      <td>552.5404</td>\n      <td>5.116976e+08</td>\n    </tr>\n    <tr>\n      <th>...</th>\n      <td>...</td>\n      <td>...</td>\n      <td>...</td>\n      <td>...</td>\n      <td>...</td>\n      <td>...</td>\n      <td>...</td>\n    </tr>\n    <tr>\n      <th>168</th>\n      <td>W06000020</td>\n      <td>61.122965</td>\n      <td>93.049</td>\n      <td>126.2401</td>\n      <td>1888</td>\n      <td>478.7708</td>\n      <td>4.199331e+08</td>\n    </tr>\n    <tr>\n      <th>169</th>\n      <td>W06000021</td>\n      <td>162.610136</td>\n      <td>94.142</td>\n      <td>886.0557</td>\n      <td>2292</td>\n      <td>1625.5685</td>\n      <td>9.379984e+08</td>\n    </tr>\n    <tr>\n      <th>170</th>\n      <td>W06000022</td>\n      <td>91.974974</td>\n      <td>153.302</td>\n      <td>217.4554</td>\n      <td>4550</td>\n      <td>750.9468</td>\n      <td>1.251067e+09</td>\n    </tr>\n    <tr>\n      <th>171</th>\n      <td>W06000023</td>\n      <td>210.689468</td>\n      <td>132.447</td>\n      <td>5195.4561</td>\n      <td>2658</td>\n      <td>5367.8299</td>\n      <td>1.050016e+09</td>\n    </tr>\n    <tr>\n      <th>172</th>\n      <td>W06000024</td>\n      <td>60.946205</td>\n      <td>60.183</td>\n      <td>111.9569</td>\n      <td>1246</td>\n      <td>348.3123</td>\n      <td>2.611998e+08</td>\n    </tr>\n  </tbody>\n</table>\n<p>173 rows × 7 columns</p>\n</div>"
     },
     "execution_count": 8,
     "metadata": {},
     "output_type": "execute_result"
    }
   ],
   "source": [
    "df_merged_relevant = df_merged[[\"LA Code\", \"Territorial emissions (kt CO2e)\", \"Mid-year Population (thousands)\", \"Area (km2)\", YEAR_STRING, \"link_length_km\", \"all_motor_vehicles\"]]\n",
    "df_merged_relevant"
   ],
   "metadata": {
    "collapsed": false
   }
  },
  {
   "cell_type": "code",
   "execution_count": 24,
   "outputs": [
    {
     "data": {
      "text/plain": "0.8038952519703846"
     },
     "execution_count": 24,
     "metadata": {},
     "output_type": "execute_result"
    }
   ],
   "source": [
    "reg = LinearRegression().fit(df_merged_relevant[[\"Mid-year Population (thousands)\", YEAR_STRING, \"Area (km2)\", 'link_length_km']], df_merged_relevant[\"Territorial emissions (kt CO2e)\"])\n",
    "\n",
    "reg.score(df_merged_relevant[[\"Mid-year Population (thousands)\", YEAR_STRING, \"Area (km2)\", 'link_length_km']], df_merged_relevant[\"Territorial emissions (kt CO2e)\"])"
   ],
   "metadata": {
    "collapsed": false
   }
  },
  {
   "cell_type": "code",
   "execution_count": 31,
   "outputs": [
    {
     "name": "stdout",
     "output_type": "stream",
     "text": [
      "W06000019 \tAccuracy:  118.7940637420308\n",
      "E06000053 \tAccuracy:  4827.113196790135\n",
      "E06000036 \tAccuracy:  109.74157502663853\n",
      "E08000008 \tAccuracy:  144.16223545281093\n",
      "W06000024 \tAccuracy:  85.91606776794134\n",
      "E08000002 \tAccuracy:  139.7609395151096\n",
      "E08000023 \tAccuracy:  95.98572354542058\n",
      "E08000006 \tAccuracy:  95.5331948442962\n",
      "E06000043 \tAccuracy:  97.63515251335421\n",
      "E08000030 \tAccuracy:  119.92226759675528\n",
      "E08000028 \tAccuracy:  106.08013471629037\n",
      "E06000027 \tAccuracy:  141.28760537047222\n",
      "E08000009 \tAccuracy:  148.8477290073902\n",
      "E08000027 \tAccuracy:  114.78750461322868\n",
      "E06000018 \tAccuracy:  89.28568207056279\n",
      "E08000022 \tAccuracy:  83.1071476734769\n",
      "E09000008 \tAccuracy:  116.93351647770353\n",
      "E08000021 \tAccuracy:  82.19958910326436\n"
     ]
    }
   ],
   "source": [
    "codes = ['W06000019', 'E06000053', 'E06000036', 'E08000008', 'W06000024',\n",
    "       'E08000002', 'E08000023', 'E08000006', 'E06000043', 'E08000030',\n",
    "       'E08000028', 'E06000027', 'E08000009', 'E08000027', 'E06000018',\n",
    "       'E08000022', 'E09000008', 'E08000021']\n",
    "accuracies = []\n",
    "for index in codes:\n",
    "    tmp = df_merged_relevant[df_merged_relevant[\"LA Code\"] == index]\n",
    "    prediction = reg.predict(tmp[[\"Mid-year Population (thousands)\", YEAR_STRING, \"Area (km2)\", 'link_length_km']])\n",
    "    accuracy = 100*prediction[0]/tmp[\"Territorial emissions (kt CO2e)\"].values[0]\n",
    "    #print(index, \"\\tPREDICTION: \", prediction, \"\\tACTUAL: \", tmp[\"Territorial emissions (kt CO2e)\"].values[0])\n",
    "    print(index, \"\\tAccuracy: \", accuracy)\n",
    "    if(accuracy < 200) : accuracies.append(prediction[0]/tmp[\"Territorial emissions (kt CO2e)\"].values[0])"
   ],
   "metadata": {
    "collapsed": false
   }
  },
  {
   "cell_type": "code",
   "execution_count": 39,
   "outputs": [
    {
     "data": {
      "text/plain": "[1.188,\n 1.097,\n 1.442,\n 0.859,\n 1.398,\n 0.96,\n 0.955,\n 0.976,\n 1.199,\n 1.061,\n 1.413,\n 1.488,\n 1.148,\n 0.893,\n 0.831,\n 1.169,\n 0.822]"
     },
     "execution_count": 39,
     "metadata": {},
     "output_type": "execute_result"
    }
   ],
   "source": [
    "[round(num, 3) for num in accuracies]"
   ],
   "metadata": {
    "collapsed": false
   }
  },
  {
   "cell_type": "code",
   "execution_count": 62,
   "outputs": [
    {
     "data": {
      "text/plain": "<Figure size 1200x600 with 1 Axes>",
      "image/png": "[encoded data removed]"
     },
     "metadata": {},
     "output_type": "display_data"
    }
   ],
   "source": [
    "import matplotlib.pyplot as plt\n",
    "import numpy as np\n",
    "\n",
    "fig = plt.figure(1, figsize=(12, 6))\n",
    "ax = fig.add_subplot(111)\n",
    "\n",
    "ax.hist(accuracies, bins=20)\n",
    "ax.set_xlabel(\"Ratio of Prediction to Actual Value\")\n",
    "ax.set_ylabel(\"Number of Local Authorities\")\n",
    "\n",
    "quantiles = np.quantile(accuracies, np.array([0.00, 0.25, 0.50, 0.75, 1.00]))\n",
    "ax.vlines(quantiles, [0] * quantiles.size, [1] * quantiles.size,\n",
    "          color='b', ls=':', lw=0.5, zorder=0)\n",
    "\n",
    "ax.text(1.2, 3, \"Least value: \", {'color': '00', 'fontsize': 12})\n",
    "ax.text(1.3, 3, round(quantiles[0],3), {'color': '00', 'fontsize': 12})\n",
    "ax.text(1.2, 2.8, \"1st Quartile: \", {'color': '00', 'fontsize': 12})\n",
    "ax.text(1.3, 2.8, round(quantiles[1],3), {'color': '00', 'fontsize': 12})\n",
    "ax.text(1.2, 2.6, \"Median: \", {'color': '00', 'fontsize': 12})\n",
    "ax.text(1.3, 2.6, round(quantiles[2], 3), {'color': '00', 'fontsize': 12})\n",
    "ax.text(1.2, 2.4, \"3rd Quartile: \", {'color': '00', 'fontsize': 12})\n",
    "ax.text(1.3, 2.4, round(quantiles[3],3), {'color': '00', 'fontsize': 12})\n",
    "ax.text(1.2, 2.2, \"Largest value \", {'color': '00', 'fontsize': 12})\n",
    "ax.text(1.3, 2.2, round(quantiles[4],3), {'color': '00', 'fontsize': 12})\n",
    "ax.grid(False)\n",
    "plt.show()"
   ],
   "metadata": {
    "collapsed": false
   }
  },
  {
   "cell_type": "code",
   "execution_count": 12,
   "outputs": [
    {
     "data": {
      "text/plain": "      LA Code  Territorial emissions (kt CO2e)  \\\n40  E06000043                       144.452832   \n\n    Mid-year Population (thousands)  Area (km2)  2018  link_length_km  \\\n40                          290.395      85.386  9285        621.1338   \n\n    all_motor_vehicles  \n40         795837955.7  ",
      "text/html": "<div>\n<style scoped>\n    .dataframe tbody tr th:only-of-type {\n        vertical-align: middle;\n    }\n\n    .dataframe tbody tr th {\n        vertical-align: top;\n    }\n\n    .dataframe thead th {\n        text-align: right;\n    }\n</style>\n<table border=\"1\" class=\"dataframe\">\n  <thead>\n    <tr style=\"text-align: right;\">\n      <th></th>\n      <th>LA Code</th>\n      <th>Territorial emissions (kt CO2e)</th>\n      <th>Mid-year Population (thousands)</th>\n      <th>Area (km2)</th>\n      <th>2018</th>\n      <th>link_length_km</th>\n      <th>all_motor_vehicles</th>\n    </tr>\n  </thead>\n  <tbody>\n    <tr>\n      <th>40</th>\n      <td>E06000043</td>\n      <td>144.452832</td>\n      <td>290.395</td>\n      <td>85.386</td>\n      <td>9285</td>\n      <td>621.1338</td>\n      <td>795837955.7</td>\n    </tr>\n  </tbody>\n</table>\n</div>"
     },
     "execution_count": 12,
     "metadata": {},
     "output_type": "execute_result"
    }
   ],
   "source": [
    "df_merged_relevant[df_merged_relevant[\"LA Code\"] == \"E06000043\"]"
   ],
   "metadata": {
    "collapsed": false
   }
  },
  {
   "cell_type": "code",
   "execution_count": 13,
   "outputs": [
    {
     "data": {
      "text/plain": "0.7383889679887612"
     },
     "execution_count": 13,
     "metadata": {},
     "output_type": "execute_result"
    }
   ],
   "source": [
    "reg = LinearRegression().fit(df_merged_relevant[[\"Mid-year Population (thousands)\", \"Area (km2)\", YEAR_STRING, 'link_length_km']], df_merged_relevant[\"all_motor_vehicles\"])\n",
    "\n",
    "reg.score(df_merged_relevant[[\"Mid-year Population (thousands)\", \"Area (km2)\", YEAR_STRING, 'link_length_km']], df_merged_relevant[\"all_motor_vehicles\"])"
   ],
   "metadata": {
    "collapsed": false
   }
  }
 ],
 "metadata": {
  "kernelspec": {
   "display_name": "Python 3",
   "language": "python",
   "name": "python3"
  },
  "language_info": {
   "codemirror_mode": {
    "name": "ipython",
    "version": 2
   },
   "file_extension": ".py",
   "mimetype": "text/x-python",
   "name": "python",
   "nbconvert_exporter": "python",
   "pygments_lexer": "ipython2",
   "version": "2.7.6"
  }
 },
 "nbformat": 4,
 "nbformat_minor": 0
}
