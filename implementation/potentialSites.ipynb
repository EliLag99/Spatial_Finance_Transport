{
 "cells": [
  {
   "attachments": {},
   "cell_type": "markdown",
   "metadata": {},
   "source": [
    "# Potential Local Authorities (Motorways)"
   ]
  },
  {
   "attachments": {},
   "cell_type": "markdown",
   "metadata": {},
   "source": [
    "## Imports"
   ]
  },
  {
   "cell_type": "code",
   "execution_count": 23,
   "metadata": {},
   "outputs": [],
   "source": [
    "import urllib.request, json\n",
    "import pandas as pd\n",
    "import math\n",
    "import pickle\n",
    "import collections\n",
    "from tqdm import tqdm\n",
    "import geopandas\n",
    "import datetime\n",
    "import os\n",
    "import numpy as np\n",
    "import matplotlib.pyplot as plt\n",
    "import plotly.express as px\n",
    "import plotly.graph_objects as go"
   ]
  },
  {
   "attachments": {},
   "cell_type": "markdown",
   "metadata": {},
   "source": [
    "## Global Variables"
   ]
  },
  {
   "cell_type": "code",
   "execution_count": 24,
   "metadata": {},
   "outputs": [],
   "source": [
    "UNWANTED_COLS = ['region_name', 'region_id', 'road_type', 'pedal_cycles', 'two_wheeled_motor_vehicles',\n",
    "                    'cars_and_taxis', 'buses_and_coaches', 'lgvs', 'hgvs_2_rigid_axle',\n",
    "                    'hgvs_3_rigid_axle', 'hgvs_4_or_more_rigid_axle',\n",
    "                    'hgvs_3_or_4_articulated_axle', 'hgvs_5_articulated_axle',\n",
    "                    'hgvs_6_articulated_axle', 'all_hgvs', 'start_junction_road_name', 'end_junction_road_name', 'easting',\n",
    "                    'northing', 'estimation_method', 'estimation_method_detailed', 'link_length_miles']\n",
    "\n",
    "\n",
    "AADT_LOCAL_AUTHORITY_IDS = [('Luton', '120'), ('Worcestershire', '69'), ('Hounslow', '111')]\n",
    "ROOT_DIR_PATH = os.path.abspath('..')\n",
    "\n",
    "GHG_PROCESSED_PATH = os.path.join(ROOT_DIR_PATH, 'data/ground_truth_data/GHG_potential_sites.csv')\n",
    "\n",
    "LOCAL_AUTHORITY_NAMES = ['Luton', 'Worcester', 'Hounslow', 'Portsmouth', 'Southampton', 'South Tyneside', 'Enfield', 'Halton', 'Barnet']"
   ]
  },
  {
   "attachments": {},
   "cell_type": "markdown",
   "metadata": {},
   "source": [
    "## General Functions"
   ]
  },
  {
   "cell_type": "code",
   "execution_count": null,
   "metadata": {},
   "outputs": [],
   "source": []
  },
  {
   "attachments": {},
   "cell_type": "markdown",
   "metadata": {},
   "source": [
    "## AADT Data Loading and Pre-Processing"
   ]
  },
  {
   "attachments": {},
   "cell_type": "markdown",
   "metadata": {},
   "source": [
    "### Load Data"
   ]
  },
  {
   "cell_type": "code",
   "execution_count": 25,
   "metadata": {},
   "outputs": [
    {
     "name": "stdout",
     "output_type": "stream",
     "text": [
      "Index(['count_point_id', 'year', 'region_id', 'region_name',\n",
      "       'local_authority_id', 'local_authority_name', 'road_name', 'road_type',\n",
      "       'start_junction_road_name', 'end_junction_road_name', 'easting',\n",
      "       'northing', 'latitude', 'longitude', 'link_length_km',\n",
      "       'link_length_miles', 'estimation_method', 'estimation_method_detailed',\n",
      "       'direction_of_travel', 'pedal_cycles', 'two_wheeled_motor_vehicles',\n",
      "       'cars_and_taxis', 'buses_and_coaches', 'lgvs', 'hgvs_2_rigid_axle',\n",
      "       'hgvs_3_rigid_axle', 'hgvs_4_or_more_rigid_axle',\n",
      "       'hgvs_3_or_4_articulated_axle', 'hgvs_5_articulated_axle',\n",
      "       'hgvs_6_articulated_axle', 'all_hgvs', 'all_motor_vehicles'],\n",
      "      dtype='object')\n",
      "[ 18221  27247  28472   6176  38079  48450  48057  73041  73040  73632\n",
      "  77396  80935  99950  80936  80937 941719 941721 941688 941702 941713\n",
      "  81081 941705 941700 941691  81080 941693 941708  81315  81457 951632\n",
      "  17959 951634  77397 941699 941714 941716  84098  73039  73042  81456\n",
      "  77401  86070  86069  86071  86041  86042  86040  73038 961454  81314\n",
      " 930063  28073  81082  81084  80803 930578  38076  81083 979133 930062\n",
      " 930579 930580 942945 966028 952944 941692 941701 941690 941704 941722\n",
      " 941695 941696 941715 941689 941703 941712 941707 941720 941710 941718\n",
      " 951635 951633 951636   8319  80801   7219  37274  99945  74674  74672\n",
      "  74673  90214  90213 808197  91125  93189 807153 808096 803821 803824\n",
      " 803823 807055 809764 803822 803820 809205 803825]\n"
     ]
    },
    {
     "data": {
      "text/html": [
       "<div>\n",
       "<style scoped>\n",
       "    .dataframe tbody tr th:only-of-type {\n",
       "        vertical-align: middle;\n",
       "    }\n",
       "\n",
       "    .dataframe tbody tr th {\n",
       "        vertical-align: top;\n",
       "    }\n",
       "\n",
       "    .dataframe thead th {\n",
       "        text-align: right;\n",
       "    }\n",
       "</style>\n",
       "<table border=\"1\" class=\"dataframe\">\n",
       "  <thead>\n",
       "    <tr style=\"text-align: right;\">\n",
       "      <th></th>\n",
       "      <th>count_point_id</th>\n",
       "      <th>year</th>\n",
       "      <th>region_id</th>\n",
       "      <th>region_name</th>\n",
       "      <th>local_authority_id</th>\n",
       "      <th>local_authority_name</th>\n",
       "      <th>road_name</th>\n",
       "      <th>road_type</th>\n",
       "      <th>start_junction_road_name</th>\n",
       "      <th>end_junction_road_name</th>\n",
       "      <th>...</th>\n",
       "      <th>buses_and_coaches</th>\n",
       "      <th>lgvs</th>\n",
       "      <th>hgvs_2_rigid_axle</th>\n",
       "      <th>hgvs_3_rigid_axle</th>\n",
       "      <th>hgvs_4_or_more_rigid_axle</th>\n",
       "      <th>hgvs_3_or_4_articulated_axle</th>\n",
       "      <th>hgvs_5_articulated_axle</th>\n",
       "      <th>hgvs_6_articulated_axle</th>\n",
       "      <th>all_hgvs</th>\n",
       "      <th>all_motor_vehicles</th>\n",
       "    </tr>\n",
       "  </thead>\n",
       "  <tbody>\n",
       "    <tr>\n",
       "      <th>0</th>\n",
       "      <td>18221</td>\n",
       "      <td>2014</td>\n",
       "      <td>7</td>\n",
       "      <td>East of England</td>\n",
       "      <td>120</td>\n",
       "      <td>Luton</td>\n",
       "      <td>A505</td>\n",
       "      <td>Major</td>\n",
       "      <td>Eaton Green Road roundabout</td>\n",
       "      <td>A5228</td>\n",
       "      <td>...</td>\n",
       "      <td>38</td>\n",
       "      <td>1099</td>\n",
       "      <td>171</td>\n",
       "      <td>57</td>\n",
       "      <td>23</td>\n",
       "      <td>11</td>\n",
       "      <td>14</td>\n",
       "      <td>43</td>\n",
       "      <td>318</td>\n",
       "      <td>8711</td>\n",
       "    </tr>\n",
       "    <tr>\n",
       "      <th>1</th>\n",
       "      <td>18221</td>\n",
       "      <td>2014</td>\n",
       "      <td>7</td>\n",
       "      <td>East of England</td>\n",
       "      <td>120</td>\n",
       "      <td>Luton</td>\n",
       "      <td>A505</td>\n",
       "      <td>Major</td>\n",
       "      <td>Eaton Green Road roundabout</td>\n",
       "      <td>A5228</td>\n",
       "      <td>...</td>\n",
       "      <td>35</td>\n",
       "      <td>1091</td>\n",
       "      <td>188</td>\n",
       "      <td>41</td>\n",
       "      <td>37</td>\n",
       "      <td>13</td>\n",
       "      <td>15</td>\n",
       "      <td>48</td>\n",
       "      <td>341</td>\n",
       "      <td>9314</td>\n",
       "    </tr>\n",
       "    <tr>\n",
       "      <th>2</th>\n",
       "      <td>27247</td>\n",
       "      <td>2014</td>\n",
       "      <td>7</td>\n",
       "      <td>East of England</td>\n",
       "      <td>120</td>\n",
       "      <td>Luton</td>\n",
       "      <td>A505</td>\n",
       "      <td>Major</td>\n",
       "      <td>Castle St roundabout</td>\n",
       "      <td>A6</td>\n",
       "      <td>...</td>\n",
       "      <td>124</td>\n",
       "      <td>1525</td>\n",
       "      <td>142</td>\n",
       "      <td>22</td>\n",
       "      <td>24</td>\n",
       "      <td>3</td>\n",
       "      <td>18</td>\n",
       "      <td>11</td>\n",
       "      <td>220</td>\n",
       "      <td>14023</td>\n",
       "    </tr>\n",
       "    <tr>\n",
       "      <th>3</th>\n",
       "      <td>27247</td>\n",
       "      <td>2014</td>\n",
       "      <td>7</td>\n",
       "      <td>East of England</td>\n",
       "      <td>120</td>\n",
       "      <td>Luton</td>\n",
       "      <td>A505</td>\n",
       "      <td>Major</td>\n",
       "      <td>Castle St roundabout</td>\n",
       "      <td>A6</td>\n",
       "      <td>...</td>\n",
       "      <td>95</td>\n",
       "      <td>1512</td>\n",
       "      <td>142</td>\n",
       "      <td>13</td>\n",
       "      <td>29</td>\n",
       "      <td>8</td>\n",
       "      <td>8</td>\n",
       "      <td>14</td>\n",
       "      <td>215</td>\n",
       "      <td>14091</td>\n",
       "    </tr>\n",
       "    <tr>\n",
       "      <th>4</th>\n",
       "      <td>28472</td>\n",
       "      <td>2014</td>\n",
       "      <td>7</td>\n",
       "      <td>East of England</td>\n",
       "      <td>120</td>\n",
       "      <td>Luton</td>\n",
       "      <td>A505</td>\n",
       "      <td>Major</td>\n",
       "      <td>Kimpton Road roundabout</td>\n",
       "      <td>Eaton Green Road roundabout</td>\n",
       "      <td>...</td>\n",
       "      <td>93</td>\n",
       "      <td>1429</td>\n",
       "      <td>118</td>\n",
       "      <td>16</td>\n",
       "      <td>31</td>\n",
       "      <td>10</td>\n",
       "      <td>26</td>\n",
       "      <td>26</td>\n",
       "      <td>228</td>\n",
       "      <td>11015</td>\n",
       "    </tr>\n",
       "  </tbody>\n",
       "</table>\n",
       "<p>5 rows × 32 columns</p>\n",
       "</div>"
      ],
      "text/plain": [
       "   count_point_id  year  region_id      region_name  local_authority_id  \\\n",
       "0           18221  2014          7  East of England                 120   \n",
       "1           18221  2014          7  East of England                 120   \n",
       "2           27247  2014          7  East of England                 120   \n",
       "3           27247  2014          7  East of England                 120   \n",
       "4           28472  2014          7  East of England                 120   \n",
       "\n",
       "  local_authority_name road_name road_type     start_junction_road_name  \\\n",
       "0                Luton      A505     Major  Eaton Green Road roundabout   \n",
       "1                Luton      A505     Major  Eaton Green Road roundabout   \n",
       "2                Luton      A505     Major         Castle St roundabout   \n",
       "3                Luton      A505     Major         Castle St roundabout   \n",
       "4                Luton      A505     Major      Kimpton Road roundabout   \n",
       "\n",
       "        end_junction_road_name  ...  buses_and_coaches  lgvs  \\\n",
       "0                        A5228  ...                 38  1099   \n",
       "1                        A5228  ...                 35  1091   \n",
       "2                           A6  ...                124  1525   \n",
       "3                           A6  ...                 95  1512   \n",
       "4  Eaton Green Road roundabout  ...                 93  1429   \n",
       "\n",
       "   hgvs_2_rigid_axle  hgvs_3_rigid_axle  hgvs_4_or_more_rigid_axle  \\\n",
       "0                171                 57                         23   \n",
       "1                188                 41                         37   \n",
       "2                142                 22                         24   \n",
       "3                142                 13                         29   \n",
       "4                118                 16                         31   \n",
       "\n",
       "   hgvs_3_or_4_articulated_axle hgvs_5_articulated_axle  \\\n",
       "0                            11                      14   \n",
       "1                            13                      15   \n",
       "2                             3                      18   \n",
       "3                             8                       8   \n",
       "4                            10                      26   \n",
       "\n",
       "  hgvs_6_articulated_axle all_hgvs  all_motor_vehicles  \n",
       "0                      43      318                8711  \n",
       "1                      48      341                9314  \n",
       "2                      11      220               14023  \n",
       "3                      14      215               14091  \n",
       "4                      26      228               11015  \n",
       "\n",
       "[5 rows x 32 columns]"
      ]
     },
     "execution_count": 25,
     "metadata": {},
     "output_type": "execute_result"
    }
   ],
   "source": [
    "df_luton = pd.read_csv('https://storage.googleapis.com/dft-statistics/road-traffic/downloads/aadfbydirection/local_authority_id/dft_aadfbydirection_local_authority_id_120.csv')\n",
    "df_worcester = pd.read_csv('https://storage.googleapis.com/dft-statistics/road-traffic/downloads/aadfbydirection/local_authority_id/dft_aadfbydirection_local_authority_id_69.csv')\n",
    "df_hounslow = pd.read_csv('https://storage.googleapis.com/dft-statistics/road-traffic/downloads/aadfbydirection/local_authority_id/dft_aadfbydirection_local_authority_id_111.csv')\n",
    "df_portsmouth = pd.read_csv('https://storage.googleapis.com/dft-statistics/road-traffic/downloads/aadfbydirection/local_authority_id/dft_aadfbydirection_local_authority_id_82.csv')\n",
    "df_southampton = pd.read_csv('https://storage.googleapis.com/dft-statistics/road-traffic/downloads/aadfbydirection/local_authority_id/dft_aadfbydirection_local_authority_id_137.csv')\n",
    "df_south_tyneside = pd.read_csv('https://storage.googleapis.com/dft-statistics/road-traffic/downloads/aadfbydirection/local_authority_id/dft_aadfbydirection_local_authority_id_166.csv')\n",
    "df_enfield = pd.read_csv('https://storage.googleapis.com/dft-statistics/road-traffic/downloads/aadfbydirection/local_authority_id/dft_aadfbydirection_local_authority_id_121.csv')\n",
    "df_halton = pd.read_csv('https://storage.googleapis.com/dft-statistics/road-traffic/downloads/aadfbydirection/local_authority_id/dft_aadfbydirection_local_authority_id_156.csv')\n",
    "df_barnet = pd.read_csv('https://storage.googleapis.com/dft-statistics/road-traffic/downloads/aadfbydirection/local_authority_id/dft_aadfbydirection_local_authority_id_57.csv')\n",
    "\n",
    "\n",
    "df_aadt_list = [df_luton, df_worcester, df_hounslow, df_portsmouth, df_south_tyneside, df_south_tyneside, df_enfield, df_halton, df_barnet]\n",
    "\n",
    "print(df_luton.columns)\n",
    "\n",
    "print(df_luton['count_point_id'].unique())\n",
    "\n",
    "df_luton.head()"
   ]
  },
  {
   "attachments": {},
   "cell_type": "markdown",
   "metadata": {},
   "source": [
    "### Keep only Motorways and Remove unwanted Columns"
   ]
  },
  {
   "cell_type": "code",
   "execution_count": 26,
   "metadata": {},
   "outputs": [
    {
     "data": {
      "text/html": [
       "<div>\n",
       "<style scoped>\n",
       "    .dataframe tbody tr th:only-of-type {\n",
       "        vertical-align: middle;\n",
       "    }\n",
       "\n",
       "    .dataframe tbody tr th {\n",
       "        vertical-align: top;\n",
       "    }\n",
       "\n",
       "    .dataframe thead th {\n",
       "        text-align: right;\n",
       "    }\n",
       "</style>\n",
       "<table border=\"1\" class=\"dataframe\">\n",
       "  <thead>\n",
       "    <tr style=\"text-align: right;\">\n",
       "      <th></th>\n",
       "      <th>count_point_id</th>\n",
       "      <th>year</th>\n",
       "      <th>local_authority_id</th>\n",
       "      <th>local_authority_name</th>\n",
       "      <th>road_name</th>\n",
       "      <th>latitude</th>\n",
       "      <th>longitude</th>\n",
       "      <th>link_length_km</th>\n",
       "      <th>direction_of_travel</th>\n",
       "      <th>all_motor_vehicles</th>\n",
       "    </tr>\n",
       "  </thead>\n",
       "  <tbody>\n",
       "    <tr>\n",
       "      <th>84</th>\n",
       "      <td>73039</td>\n",
       "      <td>2014</td>\n",
       "      <td>120</td>\n",
       "      <td>Luton</td>\n",
       "      <td>M1</td>\n",
       "      <td>51.902050</td>\n",
       "      <td>-0.475252</td>\n",
       "      <td>1.9</td>\n",
       "      <td>N</td>\n",
       "      <td>64166</td>\n",
       "    </tr>\n",
       "    <tr>\n",
       "      <th>85</th>\n",
       "      <td>73039</td>\n",
       "      <td>2014</td>\n",
       "      <td>120</td>\n",
       "      <td>Luton</td>\n",
       "      <td>M1</td>\n",
       "      <td>51.902050</td>\n",
       "      <td>-0.475252</td>\n",
       "      <td>1.9</td>\n",
       "      <td>S</td>\n",
       "      <td>57061</td>\n",
       "    </tr>\n",
       "    <tr>\n",
       "      <th>92</th>\n",
       "      <td>73042</td>\n",
       "      <td>2014</td>\n",
       "      <td>120</td>\n",
       "      <td>Luton</td>\n",
       "      <td>M1</td>\n",
       "      <td>51.890731</td>\n",
       "      <td>-0.469096</td>\n",
       "      <td>0.7</td>\n",
       "      <td>N</td>\n",
       "      <td>73265</td>\n",
       "    </tr>\n",
       "    <tr>\n",
       "      <th>93</th>\n",
       "      <td>73042</td>\n",
       "      <td>2014</td>\n",
       "      <td>120</td>\n",
       "      <td>Luton</td>\n",
       "      <td>M1</td>\n",
       "      <td>51.890731</td>\n",
       "      <td>-0.469096</td>\n",
       "      <td>0.7</td>\n",
       "      <td>S</td>\n",
       "      <td>61396</td>\n",
       "    </tr>\n",
       "    <tr>\n",
       "      <th>144</th>\n",
       "      <td>73042</td>\n",
       "      <td>2015</td>\n",
       "      <td>120</td>\n",
       "      <td>Luton</td>\n",
       "      <td>M1</td>\n",
       "      <td>51.890731</td>\n",
       "      <td>-0.469096</td>\n",
       "      <td>0.7</td>\n",
       "      <td>N</td>\n",
       "      <td>63750</td>\n",
       "    </tr>\n",
       "    <tr>\n",
       "      <th>...</th>\n",
       "      <td>...</td>\n",
       "      <td>...</td>\n",
       "      <td>...</td>\n",
       "      <td>...</td>\n",
       "      <td>...</td>\n",
       "      <td>...</td>\n",
       "      <td>...</td>\n",
       "      <td>...</td>\n",
       "      <td>...</td>\n",
       "      <td>...</td>\n",
       "    </tr>\n",
       "    <tr>\n",
       "      <th>1583</th>\n",
       "      <td>73042</td>\n",
       "      <td>2020</td>\n",
       "      <td>120</td>\n",
       "      <td>Luton</td>\n",
       "      <td>M1</td>\n",
       "      <td>51.890729</td>\n",
       "      <td>-0.469096</td>\n",
       "      <td>0.7</td>\n",
       "      <td>S</td>\n",
       "      <td>50240</td>\n",
       "    </tr>\n",
       "    <tr>\n",
       "      <th>1608</th>\n",
       "      <td>73039</td>\n",
       "      <td>2020</td>\n",
       "      <td>120</td>\n",
       "      <td>Luton</td>\n",
       "      <td>M1</td>\n",
       "      <td>51.902049</td>\n",
       "      <td>-0.475252</td>\n",
       "      <td>1.9</td>\n",
       "      <td>N</td>\n",
       "      <td>62896</td>\n",
       "    </tr>\n",
       "    <tr>\n",
       "      <th>1609</th>\n",
       "      <td>73039</td>\n",
       "      <td>2020</td>\n",
       "      <td>120</td>\n",
       "      <td>Luton</td>\n",
       "      <td>M1</td>\n",
       "      <td>51.902049</td>\n",
       "      <td>-0.475252</td>\n",
       "      <td>1.9</td>\n",
       "      <td>S</td>\n",
       "      <td>67612</td>\n",
       "    </tr>\n",
       "    <tr>\n",
       "      <th>1639</th>\n",
       "      <td>73039</td>\n",
       "      <td>2019</td>\n",
       "      <td>120</td>\n",
       "      <td>Luton</td>\n",
       "      <td>M1</td>\n",
       "      <td>51.902049</td>\n",
       "      <td>-0.475252</td>\n",
       "      <td>1.9</td>\n",
       "      <td>N</td>\n",
       "      <td>81098</td>\n",
       "    </tr>\n",
       "    <tr>\n",
       "      <th>1640</th>\n",
       "      <td>73039</td>\n",
       "      <td>2019</td>\n",
       "      <td>120</td>\n",
       "      <td>Luton</td>\n",
       "      <td>M1</td>\n",
       "      <td>51.902049</td>\n",
       "      <td>-0.475252</td>\n",
       "      <td>1.9</td>\n",
       "      <td>S</td>\n",
       "      <td>87664</td>\n",
       "    </tr>\n",
       "  </tbody>\n",
       "</table>\n",
       "<p>64 rows × 10 columns</p>\n",
       "</div>"
      ],
      "text/plain": [
       "      count_point_id  year  local_authority_id local_authority_name road_name  \\\n",
       "84             73039  2014                 120                Luton        M1   \n",
       "85             73039  2014                 120                Luton        M1   \n",
       "92             73042  2014                 120                Luton        M1   \n",
       "93             73042  2014                 120                Luton        M1   \n",
       "144            73042  2015                 120                Luton        M1   \n",
       "...              ...   ...                 ...                  ...       ...   \n",
       "1583           73042  2020                 120                Luton        M1   \n",
       "1608           73039  2020                 120                Luton        M1   \n",
       "1609           73039  2020                 120                Luton        M1   \n",
       "1639           73039  2019                 120                Luton        M1   \n",
       "1640           73039  2019                 120                Luton        M1   \n",
       "\n",
       "       latitude  longitude  link_length_km direction_of_travel  \\\n",
       "84    51.902050  -0.475252             1.9                   N   \n",
       "85    51.902050  -0.475252             1.9                   S   \n",
       "92    51.890731  -0.469096             0.7                   N   \n",
       "93    51.890731  -0.469096             0.7                   S   \n",
       "144   51.890731  -0.469096             0.7                   N   \n",
       "...         ...        ...             ...                 ...   \n",
       "1583  51.890729  -0.469096             0.7                   S   \n",
       "1608  51.902049  -0.475252             1.9                   N   \n",
       "1609  51.902049  -0.475252             1.9                   S   \n",
       "1639  51.902049  -0.475252             1.9                   N   \n",
       "1640  51.902049  -0.475252             1.9                   S   \n",
       "\n",
       "      all_motor_vehicles  \n",
       "84                 64166  \n",
       "85                 57061  \n",
       "92                 73265  \n",
       "93                 61396  \n",
       "144                63750  \n",
       "...                  ...  \n",
       "1583               50240  \n",
       "1608               62896  \n",
       "1609               67612  \n",
       "1639               81098  \n",
       "1640               87664  \n",
       "\n",
       "[64 rows x 10 columns]"
      ]
     },
     "execution_count": 26,
     "metadata": {},
     "output_type": "execute_result"
    }
   ],
   "source": [
    "for i in range(len(df_aadt_list)):\n",
    "    df = df_aadt_list[i]\n",
    "    df_motorways = df[df['road_name'].str.contains('M')]\n",
    "    df_2005_onwards = df_motorways[df_motorways['year'] >= 2005]  \n",
    "    df_2005_onwards =  df_2005_onwards[df_2005_onwards['year'] != 2021]  \n",
    "    df_aadt_list[i] = df_2005_onwards.drop(UNWANTED_COLS, axis=1)\n",
    "\n",
    "df_aadt_list[0]"
   ]
  },
  {
   "attachments": {},
   "cell_type": "markdown",
   "metadata": {},
   "source": [
    "### Groupby year and/or count point id"
   ]
  },
  {
   "cell_type": "code",
   "execution_count": 27,
   "metadata": {},
   "outputs": [
    {
     "name": "stdout",
     "output_type": "stream",
     "text": [
      "9\n"
     ]
    },
    {
     "name": "stderr",
     "output_type": "stream",
     "text": [
      "/tmp/ipykernel_393/2068299700.py:5: FutureWarning:\n",
      "\n",
      "The default value of numeric_only in DataFrameGroupBy.median is deprecated. In a future version, numeric_only will default to False. Either specify numeric_only or select only columns which should be valid for the function.\n",
      "\n",
      "/tmp/ipykernel_393/2068299700.py:5: FutureWarning:\n",
      "\n",
      "The default value of numeric_only in DataFrameGroupBy.median is deprecated. In a future version, numeric_only will default to False. Either specify numeric_only or select only columns which should be valid for the function.\n",
      "\n",
      "/tmp/ipykernel_393/2068299700.py:5: FutureWarning:\n",
      "\n",
      "The default value of numeric_only in DataFrameGroupBy.median is deprecated. In a future version, numeric_only will default to False. Either specify numeric_only or select only columns which should be valid for the function.\n",
      "\n",
      "/tmp/ipykernel_393/2068299700.py:5: FutureWarning:\n",
      "\n",
      "The default value of numeric_only in DataFrameGroupBy.median is deprecated. In a future version, numeric_only will default to False. Either specify numeric_only or select only columns which should be valid for the function.\n",
      "\n",
      "/tmp/ipykernel_393/2068299700.py:5: FutureWarning:\n",
      "\n",
      "The default value of numeric_only in DataFrameGroupBy.median is deprecated. In a future version, numeric_only will default to False. Either specify numeric_only or select only columns which should be valid for the function.\n",
      "\n",
      "/tmp/ipykernel_393/2068299700.py:5: FutureWarning:\n",
      "\n",
      "The default value of numeric_only in DataFrameGroupBy.median is deprecated. In a future version, numeric_only will default to False. Either specify numeric_only or select only columns which should be valid for the function.\n",
      "\n",
      "/tmp/ipykernel_393/2068299700.py:5: FutureWarning:\n",
      "\n",
      "The default value of numeric_only in DataFrameGroupBy.median is deprecated. In a future version, numeric_only will default to False. Either specify numeric_only or select only columns which should be valid for the function.\n",
      "\n",
      "/tmp/ipykernel_393/2068299700.py:5: FutureWarning:\n",
      "\n",
      "The default value of numeric_only in DataFrameGroupBy.median is deprecated. In a future version, numeric_only will default to False. Either specify numeric_only or select only columns which should be valid for the function.\n",
      "\n",
      "/tmp/ipykernel_393/2068299700.py:5: FutureWarning:\n",
      "\n",
      "The default value of numeric_only in DataFrameGroupBy.median is deprecated. In a future version, numeric_only will default to False. Either specify numeric_only or select only columns which should be valid for the function.\n",
      "\n"
     ]
    },
    {
     "data": {
      "text/html": [
       "<div>\n",
       "<style scoped>\n",
       "    .dataframe tbody tr th:only-of-type {\n",
       "        vertical-align: middle;\n",
       "    }\n",
       "\n",
       "    .dataframe tbody tr th {\n",
       "        vertical-align: top;\n",
       "    }\n",
       "\n",
       "    .dataframe thead th {\n",
       "        text-align: right;\n",
       "    }\n",
       "</style>\n",
       "<table border=\"1\" class=\"dataframe\">\n",
       "  <thead>\n",
       "    <tr style=\"text-align: right;\">\n",
       "      <th></th>\n",
       "      <th>year</th>\n",
       "      <th>count_point_id</th>\n",
       "      <th>local_authority_id</th>\n",
       "      <th>latitude</th>\n",
       "      <th>longitude</th>\n",
       "      <th>link_length_km</th>\n",
       "      <th>all_motor_vehicles</th>\n",
       "      <th>Calendar Year</th>\n",
       "      <th>Local Authority</th>\n",
       "    </tr>\n",
       "  </thead>\n",
       "  <tbody>\n",
       "    <tr>\n",
       "      <th>0</th>\n",
       "      <td>2005</td>\n",
       "      <td>73040.5</td>\n",
       "      <td>120.0</td>\n",
       "      <td>51.896391</td>\n",
       "      <td>-0.472174</td>\n",
       "      <td>1.3</td>\n",
       "      <td>57600.0</td>\n",
       "      <td>2005</td>\n",
       "      <td>Luton</td>\n",
       "    </tr>\n",
       "    <tr>\n",
       "      <th>1</th>\n",
       "      <td>2006</td>\n",
       "      <td>73040.5</td>\n",
       "      <td>120.0</td>\n",
       "      <td>51.896391</td>\n",
       "      <td>-0.472174</td>\n",
       "      <td>1.3</td>\n",
       "      <td>48583.5</td>\n",
       "      <td>2006</td>\n",
       "      <td>Luton</td>\n",
       "    </tr>\n",
       "    <tr>\n",
       "      <th>2</th>\n",
       "      <td>2007</td>\n",
       "      <td>73040.5</td>\n",
       "      <td>120.0</td>\n",
       "      <td>51.896391</td>\n",
       "      <td>-0.472174</td>\n",
       "      <td>1.3</td>\n",
       "      <td>50652.5</td>\n",
       "      <td>2007</td>\n",
       "      <td>Luton</td>\n",
       "    </tr>\n",
       "    <tr>\n",
       "      <th>3</th>\n",
       "      <td>2008</td>\n",
       "      <td>73040.5</td>\n",
       "      <td>120.0</td>\n",
       "      <td>51.896391</td>\n",
       "      <td>-0.472174</td>\n",
       "      <td>1.3</td>\n",
       "      <td>53492.5</td>\n",
       "      <td>2008</td>\n",
       "      <td>Luton</td>\n",
       "    </tr>\n",
       "    <tr>\n",
       "      <th>4</th>\n",
       "      <td>2009</td>\n",
       "      <td>73040.5</td>\n",
       "      <td>120.0</td>\n",
       "      <td>51.896391</td>\n",
       "      <td>-0.472174</td>\n",
       "      <td>1.3</td>\n",
       "      <td>49612.5</td>\n",
       "      <td>2009</td>\n",
       "      <td>Luton</td>\n",
       "    </tr>\n",
       "    <tr>\n",
       "      <th>5</th>\n",
       "      <td>2010</td>\n",
       "      <td>73040.5</td>\n",
       "      <td>120.0</td>\n",
       "      <td>51.896391</td>\n",
       "      <td>-0.472174</td>\n",
       "      <td>1.3</td>\n",
       "      <td>54367.0</td>\n",
       "      <td>2010</td>\n",
       "      <td>Luton</td>\n",
       "    </tr>\n",
       "    <tr>\n",
       "      <th>6</th>\n",
       "      <td>2011</td>\n",
       "      <td>73040.5</td>\n",
       "      <td>120.0</td>\n",
       "      <td>51.896391</td>\n",
       "      <td>-0.472174</td>\n",
       "      <td>1.3</td>\n",
       "      <td>54802.5</td>\n",
       "      <td>2011</td>\n",
       "      <td>Luton</td>\n",
       "    </tr>\n",
       "    <tr>\n",
       "      <th>7</th>\n",
       "      <td>2012</td>\n",
       "      <td>73040.5</td>\n",
       "      <td>120.0</td>\n",
       "      <td>51.896391</td>\n",
       "      <td>-0.472174</td>\n",
       "      <td>1.3</td>\n",
       "      <td>56972.5</td>\n",
       "      <td>2012</td>\n",
       "      <td>Luton</td>\n",
       "    </tr>\n",
       "    <tr>\n",
       "      <th>8</th>\n",
       "      <td>2013</td>\n",
       "      <td>73040.5</td>\n",
       "      <td>120.0</td>\n",
       "      <td>51.896391</td>\n",
       "      <td>-0.472174</td>\n",
       "      <td>1.3</td>\n",
       "      <td>61684.0</td>\n",
       "      <td>2013</td>\n",
       "      <td>Luton</td>\n",
       "    </tr>\n",
       "    <tr>\n",
       "      <th>9</th>\n",
       "      <td>2014</td>\n",
       "      <td>73040.5</td>\n",
       "      <td>120.0</td>\n",
       "      <td>51.896391</td>\n",
       "      <td>-0.472174</td>\n",
       "      <td>1.3</td>\n",
       "      <td>62781.0</td>\n",
       "      <td>2014</td>\n",
       "      <td>Luton</td>\n",
       "    </tr>\n",
       "    <tr>\n",
       "      <th>10</th>\n",
       "      <td>2015</td>\n",
       "      <td>73040.5</td>\n",
       "      <td>120.0</td>\n",
       "      <td>51.896391</td>\n",
       "      <td>-0.472174</td>\n",
       "      <td>1.3</td>\n",
       "      <td>64218.0</td>\n",
       "      <td>2015</td>\n",
       "      <td>Luton</td>\n",
       "    </tr>\n",
       "    <tr>\n",
       "      <th>11</th>\n",
       "      <td>2016</td>\n",
       "      <td>73040.5</td>\n",
       "      <td>120.0</td>\n",
       "      <td>51.896391</td>\n",
       "      <td>-0.472174</td>\n",
       "      <td>1.3</td>\n",
       "      <td>65315.5</td>\n",
       "      <td>2016</td>\n",
       "      <td>Luton</td>\n",
       "    </tr>\n",
       "    <tr>\n",
       "      <th>12</th>\n",
       "      <td>2017</td>\n",
       "      <td>73040.5</td>\n",
       "      <td>120.0</td>\n",
       "      <td>51.896391</td>\n",
       "      <td>-0.472174</td>\n",
       "      <td>1.3</td>\n",
       "      <td>67952.0</td>\n",
       "      <td>2017</td>\n",
       "      <td>Luton</td>\n",
       "    </tr>\n",
       "    <tr>\n",
       "      <th>13</th>\n",
       "      <td>2018</td>\n",
       "      <td>73040.5</td>\n",
       "      <td>120.0</td>\n",
       "      <td>51.896389</td>\n",
       "      <td>-0.472174</td>\n",
       "      <td>1.3</td>\n",
       "      <td>70355.0</td>\n",
       "      <td>2018</td>\n",
       "      <td>Luton</td>\n",
       "    </tr>\n",
       "    <tr>\n",
       "      <th>14</th>\n",
       "      <td>2019</td>\n",
       "      <td>73040.5</td>\n",
       "      <td>120.0</td>\n",
       "      <td>51.896389</td>\n",
       "      <td>-0.472174</td>\n",
       "      <td>1.3</td>\n",
       "      <td>74481.5</td>\n",
       "      <td>2019</td>\n",
       "      <td>Luton</td>\n",
       "    </tr>\n",
       "    <tr>\n",
       "      <th>15</th>\n",
       "      <td>2020</td>\n",
       "      <td>73040.5</td>\n",
       "      <td>120.0</td>\n",
       "      <td>51.896389</td>\n",
       "      <td>-0.472174</td>\n",
       "      <td>1.3</td>\n",
       "      <td>58868.5</td>\n",
       "      <td>2020</td>\n",
       "      <td>Luton</td>\n",
       "    </tr>\n",
       "  </tbody>\n",
       "</table>\n",
       "</div>"
      ],
      "text/plain": [
       "    year  count_point_id  local_authority_id   latitude  longitude  \\\n",
       "0   2005         73040.5               120.0  51.896391  -0.472174   \n",
       "1   2006         73040.5               120.0  51.896391  -0.472174   \n",
       "2   2007         73040.5               120.0  51.896391  -0.472174   \n",
       "3   2008         73040.5               120.0  51.896391  -0.472174   \n",
       "4   2009         73040.5               120.0  51.896391  -0.472174   \n",
       "5   2010         73040.5               120.0  51.896391  -0.472174   \n",
       "6   2011         73040.5               120.0  51.896391  -0.472174   \n",
       "7   2012         73040.5               120.0  51.896391  -0.472174   \n",
       "8   2013         73040.5               120.0  51.896391  -0.472174   \n",
       "9   2014         73040.5               120.0  51.896391  -0.472174   \n",
       "10  2015         73040.5               120.0  51.896391  -0.472174   \n",
       "11  2016         73040.5               120.0  51.896391  -0.472174   \n",
       "12  2017         73040.5               120.0  51.896391  -0.472174   \n",
       "13  2018         73040.5               120.0  51.896389  -0.472174   \n",
       "14  2019         73040.5               120.0  51.896389  -0.472174   \n",
       "15  2020         73040.5               120.0  51.896389  -0.472174   \n",
       "\n",
       "    link_length_km  all_motor_vehicles  Calendar Year Local Authority  \n",
       "0              1.3             57600.0           2005           Luton  \n",
       "1              1.3             48583.5           2006           Luton  \n",
       "2              1.3             50652.5           2007           Luton  \n",
       "3              1.3             53492.5           2008           Luton  \n",
       "4              1.3             49612.5           2009           Luton  \n",
       "5              1.3             54367.0           2010           Luton  \n",
       "6              1.3             54802.5           2011           Luton  \n",
       "7              1.3             56972.5           2012           Luton  \n",
       "8              1.3             61684.0           2013           Luton  \n",
       "9              1.3             62781.0           2014           Luton  \n",
       "10             1.3             64218.0           2015           Luton  \n",
       "11             1.3             65315.5           2016           Luton  \n",
       "12             1.3             67952.0           2017           Luton  \n",
       "13             1.3             70355.0           2018           Luton  \n",
       "14             1.3             74481.5           2019           Luton  \n",
       "15             1.3             58868.5           2020           Luton  "
      ]
     },
     "execution_count": 27,
     "metadata": {},
     "output_type": "execute_result"
    }
   ],
   "source": [
    "for i in range(len(df_aadt_list)):\n",
    "    df = df_aadt_list[i]\n",
    "    #grouped_df = df.groupby(by=['count_point_id', 'year']).mean()\n",
    "    local_authority_name = df.iloc[0]['local_authority_name']\n",
    "    grouped_df = df.groupby(by=['year']).median()\n",
    "    grouped_df['Calendar Year'] = grouped_df.index\n",
    "    grouped_df = grouped_df.reset_index()\n",
    "    grouped_df['Local Authority'] = local_authority_name\n",
    "    df_aadt_list[i] = grouped_df\n",
    "\n",
    "print(len(df_aadt_list))\n",
    "df_aadt_list[0]"
   ]
  },
  {
   "attachments": {},
   "cell_type": "markdown",
   "metadata": {},
   "source": [
    "## GHG Emissions Data Loading and Pre-Processing"
   ]
  },
  {
   "cell_type": "code",
   "execution_count": 28,
   "metadata": {},
   "outputs": [
    {
     "data": {
      "text/html": [
       "<div>\n",
       "<style scoped>\n",
       "    .dataframe tbody tr th:only-of-type {\n",
       "        vertical-align: middle;\n",
       "    }\n",
       "\n",
       "    .dataframe tbody tr th {\n",
       "        vertical-align: top;\n",
       "    }\n",
       "\n",
       "    .dataframe thead th {\n",
       "        text-align: right;\n",
       "    }\n",
       "</style>\n",
       "<table border=\"1\" class=\"dataframe\">\n",
       "  <thead>\n",
       "    <tr style=\"text-align: right;\">\n",
       "      <th></th>\n",
       "      <th>Local Authority</th>\n",
       "      <th>Calendar Year</th>\n",
       "      <th>Annual Territorial emissions (kt CO2e)</th>\n",
       "    </tr>\n",
       "  </thead>\n",
       "  <tbody>\n",
       "    <tr>\n",
       "      <th>32</th>\n",
       "      <td>Barnet</td>\n",
       "      <td>2005</td>\n",
       "      <td>53.988609</td>\n",
       "    </tr>\n",
       "    <tr>\n",
       "      <th>33</th>\n",
       "      <td>Barnet</td>\n",
       "      <td>2006</td>\n",
       "      <td>56.822203</td>\n",
       "    </tr>\n",
       "    <tr>\n",
       "      <th>34</th>\n",
       "      <td>Barnet</td>\n",
       "      <td>2007</td>\n",
       "      <td>53.186986</td>\n",
       "    </tr>\n",
       "    <tr>\n",
       "      <th>35</th>\n",
       "      <td>Barnet</td>\n",
       "      <td>2008</td>\n",
       "      <td>59.597040</td>\n",
       "    </tr>\n",
       "    <tr>\n",
       "      <th>36</th>\n",
       "      <td>Barnet</td>\n",
       "      <td>2009</td>\n",
       "      <td>57.067457</td>\n",
       "    </tr>\n",
       "    <tr>\n",
       "      <th>...</th>\n",
       "      <td>...</td>\n",
       "      <td>...</td>\n",
       "      <td>...</td>\n",
       "    </tr>\n",
       "    <tr>\n",
       "      <th>2787</th>\n",
       "      <td>Worcester</td>\n",
       "      <td>2016</td>\n",
       "      <td>1.644139</td>\n",
       "    </tr>\n",
       "    <tr>\n",
       "      <th>2788</th>\n",
       "      <td>Worcester</td>\n",
       "      <td>2017</td>\n",
       "      <td>1.541270</td>\n",
       "    </tr>\n",
       "    <tr>\n",
       "      <th>2789</th>\n",
       "      <td>Worcester</td>\n",
       "      <td>2018</td>\n",
       "      <td>1.487991</td>\n",
       "    </tr>\n",
       "    <tr>\n",
       "      <th>2790</th>\n",
       "      <td>Worcester</td>\n",
       "      <td>2019</td>\n",
       "      <td>1.476269</td>\n",
       "    </tr>\n",
       "    <tr>\n",
       "      <th>2791</th>\n",
       "      <td>Worcester</td>\n",
       "      <td>2020</td>\n",
       "      <td>1.186462</td>\n",
       "    </tr>\n",
       "  </tbody>\n",
       "</table>\n",
       "<p>272 rows × 3 columns</p>\n",
       "</div>"
      ],
      "text/plain": [
       "     Local Authority  Calendar Year  Annual Territorial emissions (kt CO2e)\n",
       "32            Barnet           2005                               53.988609\n",
       "33            Barnet           2006                               56.822203\n",
       "34            Barnet           2007                               53.186986\n",
       "35            Barnet           2008                               59.597040\n",
       "36            Barnet           2009                               57.067457\n",
       "...              ...            ...                                     ...\n",
       "2787       Worcester           2016                                1.644139\n",
       "2788       Worcester           2017                                1.541270\n",
       "2789       Worcester           2018                                1.487991\n",
       "2790       Worcester           2019                                1.476269\n",
       "2791       Worcester           2020                                1.186462\n",
       "\n",
       "[272 rows x 3 columns]"
      ]
     },
     "execution_count": 28,
     "metadata": {},
     "output_type": "execute_result"
    }
   ],
   "source": [
    "df_ghg = pd.read_csv(GHG_PROCESSED_PATH, index_col=0)\n",
    "\n",
    "df_ghg"
   ]
  },
  {
   "cell_type": "code",
   "execution_count": 29,
   "metadata": {},
   "outputs": [
    {
     "name": "stderr",
     "output_type": "stream",
     "text": [
      "/tmp/ipykernel_393/4016481199.py:3: FutureWarning:\n",
      "\n",
      "In a future version of pandas, a length 1 tuple will be returned when iterating over a groupby with a grouper equal to a list of length 1. Don't supply a list with a single grouper to avoid this warning.\n",
      "\n"
     ]
    },
    {
     "data": {
      "text/plain": [
       "9"
      ]
     },
     "execution_count": 29,
     "metadata": {},
     "output_type": "execute_result"
    }
   ],
   "source": [
    "df_ghg = df_ghg[df_ghg['Local Authority'].isin(LOCAL_AUTHORITY_NAMES)]\n",
    "\n",
    "df_ghg_list = [d for _, d in df_ghg.groupby(['Local Authority'])]\n",
    "\n",
    "len(df_ghg_list)"
   ]
  },
  {
   "cell_type": "markdown",
   "metadata": {},
   "source": [
    "### AADT and GHG Emissions"
   ]
  },
  {
   "cell_type": "code",
   "execution_count": 30,
   "metadata": {},
   "outputs": [
    {
     "name": "stdout",
     "output_type": "stream",
     "text": [
      "16\n",
      "16\n",
      "16\n",
      "16\n",
      "16\n",
      "16\n",
      "6\n",
      "16\n",
      "6\n",
      "16\n",
      "16\n",
      "16\n",
      "16\n",
      "16\n",
      "16\n",
      "16\n"
     ]
    },
    {
     "data": {
      "text/html": [
       "<div>\n",
       "<style scoped>\n",
       "    .dataframe tbody tr th:only-of-type {\n",
       "        vertical-align: middle;\n",
       "    }\n",
       "\n",
       "    .dataframe tbody tr th {\n",
       "        vertical-align: top;\n",
       "    }\n",
       "\n",
       "    .dataframe thead th {\n",
       "        text-align: right;\n",
       "    }\n",
       "</style>\n",
       "<table border=\"1\" class=\"dataframe\">\n",
       "  <thead>\n",
       "    <tr style=\"text-align: right;\">\n",
       "      <th></th>\n",
       "      <th>year</th>\n",
       "      <th>count_point_id</th>\n",
       "      <th>local_authority_id</th>\n",
       "      <th>latitude</th>\n",
       "      <th>longitude</th>\n",
       "      <th>link_length_km</th>\n",
       "      <th>all_motor_vehicles</th>\n",
       "      <th>Calendar Year</th>\n",
       "      <th>Local Authority</th>\n",
       "      <th>Annual Territorial emissions (kt CO2e)</th>\n",
       "    </tr>\n",
       "  </thead>\n",
       "  <tbody>\n",
       "    <tr>\n",
       "      <th>0</th>\n",
       "      <td>2005</td>\n",
       "      <td>73040.5</td>\n",
       "      <td>120.0</td>\n",
       "      <td>51.896391</td>\n",
       "      <td>-0.472174</td>\n",
       "      <td>1.3</td>\n",
       "      <td>57600.0</td>\n",
       "      <td>2005</td>\n",
       "      <td>Luton</td>\n",
       "      <td>31.812879</td>\n",
       "    </tr>\n",
       "    <tr>\n",
       "      <th>1</th>\n",
       "      <td>2006</td>\n",
       "      <td>73040.5</td>\n",
       "      <td>120.0</td>\n",
       "      <td>51.896391</td>\n",
       "      <td>-0.472174</td>\n",
       "      <td>1.3</td>\n",
       "      <td>48583.5</td>\n",
       "      <td>2006</td>\n",
       "      <td>Luton</td>\n",
       "      <td>25.993749</td>\n",
       "    </tr>\n",
       "    <tr>\n",
       "      <th>2</th>\n",
       "      <td>2007</td>\n",
       "      <td>73040.5</td>\n",
       "      <td>120.0</td>\n",
       "      <td>51.896391</td>\n",
       "      <td>-0.472174</td>\n",
       "      <td>1.3</td>\n",
       "      <td>50652.5</td>\n",
       "      <td>2007</td>\n",
       "      <td>Luton</td>\n",
       "      <td>27.204528</td>\n",
       "    </tr>\n",
       "    <tr>\n",
       "      <th>3</th>\n",
       "      <td>2008</td>\n",
       "      <td>73040.5</td>\n",
       "      <td>120.0</td>\n",
       "      <td>51.896391</td>\n",
       "      <td>-0.472174</td>\n",
       "      <td>1.3</td>\n",
       "      <td>53492.5</td>\n",
       "      <td>2008</td>\n",
       "      <td>Luton</td>\n",
       "      <td>27.863433</td>\n",
       "    </tr>\n",
       "    <tr>\n",
       "      <th>4</th>\n",
       "      <td>2009</td>\n",
       "      <td>73040.5</td>\n",
       "      <td>120.0</td>\n",
       "      <td>51.896391</td>\n",
       "      <td>-0.472174</td>\n",
       "      <td>1.3</td>\n",
       "      <td>49612.5</td>\n",
       "      <td>2009</td>\n",
       "      <td>Luton</td>\n",
       "      <td>24.754068</td>\n",
       "    </tr>\n",
       "    <tr>\n",
       "      <th>5</th>\n",
       "      <td>2010</td>\n",
       "      <td>73040.5</td>\n",
       "      <td>120.0</td>\n",
       "      <td>51.896391</td>\n",
       "      <td>-0.472174</td>\n",
       "      <td>1.3</td>\n",
       "      <td>54367.0</td>\n",
       "      <td>2010</td>\n",
       "      <td>Luton</td>\n",
       "      <td>27.443241</td>\n",
       "    </tr>\n",
       "    <tr>\n",
       "      <th>6</th>\n",
       "      <td>2011</td>\n",
       "      <td>73040.5</td>\n",
       "      <td>120.0</td>\n",
       "      <td>51.896391</td>\n",
       "      <td>-0.472174</td>\n",
       "      <td>1.3</td>\n",
       "      <td>54802.5</td>\n",
       "      <td>2011</td>\n",
       "      <td>Luton</td>\n",
       "      <td>27.513462</td>\n",
       "    </tr>\n",
       "    <tr>\n",
       "      <th>7</th>\n",
       "      <td>2012</td>\n",
       "      <td>73040.5</td>\n",
       "      <td>120.0</td>\n",
       "      <td>51.896391</td>\n",
       "      <td>-0.472174</td>\n",
       "      <td>1.3</td>\n",
       "      <td>56972.5</td>\n",
       "      <td>2012</td>\n",
       "      <td>Luton</td>\n",
       "      <td>28.448692</td>\n",
       "    </tr>\n",
       "    <tr>\n",
       "      <th>8</th>\n",
       "      <td>2013</td>\n",
       "      <td>73040.5</td>\n",
       "      <td>120.0</td>\n",
       "      <td>51.896391</td>\n",
       "      <td>-0.472174</td>\n",
       "      <td>1.3</td>\n",
       "      <td>61684.0</td>\n",
       "      <td>2013</td>\n",
       "      <td>Luton</td>\n",
       "      <td>29.845218</td>\n",
       "    </tr>\n",
       "    <tr>\n",
       "      <th>9</th>\n",
       "      <td>2014</td>\n",
       "      <td>73040.5</td>\n",
       "      <td>120.0</td>\n",
       "      <td>51.896391</td>\n",
       "      <td>-0.472174</td>\n",
       "      <td>1.3</td>\n",
       "      <td>62781.0</td>\n",
       "      <td>2014</td>\n",
       "      <td>Luton</td>\n",
       "      <td>30.298551</td>\n",
       "    </tr>\n",
       "    <tr>\n",
       "      <th>10</th>\n",
       "      <td>2015</td>\n",
       "      <td>73040.5</td>\n",
       "      <td>120.0</td>\n",
       "      <td>51.896391</td>\n",
       "      <td>-0.472174</td>\n",
       "      <td>1.3</td>\n",
       "      <td>64218.0</td>\n",
       "      <td>2015</td>\n",
       "      <td>Luton</td>\n",
       "      <td>31.153448</td>\n",
       "    </tr>\n",
       "    <tr>\n",
       "      <th>11</th>\n",
       "      <td>2016</td>\n",
       "      <td>73040.5</td>\n",
       "      <td>120.0</td>\n",
       "      <td>51.896391</td>\n",
       "      <td>-0.472174</td>\n",
       "      <td>1.3</td>\n",
       "      <td>65315.5</td>\n",
       "      <td>2016</td>\n",
       "      <td>Luton</td>\n",
       "      <td>31.863186</td>\n",
       "    </tr>\n",
       "    <tr>\n",
       "      <th>12</th>\n",
       "      <td>2017</td>\n",
       "      <td>73040.5</td>\n",
       "      <td>120.0</td>\n",
       "      <td>51.896391</td>\n",
       "      <td>-0.472174</td>\n",
       "      <td>1.3</td>\n",
       "      <td>67952.0</td>\n",
       "      <td>2017</td>\n",
       "      <td>Luton</td>\n",
       "      <td>33.745373</td>\n",
       "    </tr>\n",
       "    <tr>\n",
       "      <th>13</th>\n",
       "      <td>2018</td>\n",
       "      <td>73040.5</td>\n",
       "      <td>120.0</td>\n",
       "      <td>51.896389</td>\n",
       "      <td>-0.472174</td>\n",
       "      <td>1.3</td>\n",
       "      <td>70355.0</td>\n",
       "      <td>2018</td>\n",
       "      <td>Luton</td>\n",
       "      <td>34.480488</td>\n",
       "    </tr>\n",
       "    <tr>\n",
       "      <th>14</th>\n",
       "      <td>2019</td>\n",
       "      <td>73040.5</td>\n",
       "      <td>120.0</td>\n",
       "      <td>51.896389</td>\n",
       "      <td>-0.472174</td>\n",
       "      <td>1.3</td>\n",
       "      <td>74481.5</td>\n",
       "      <td>2019</td>\n",
       "      <td>Luton</td>\n",
       "      <td>36.064526</td>\n",
       "    </tr>\n",
       "    <tr>\n",
       "      <th>15</th>\n",
       "      <td>2020</td>\n",
       "      <td>73040.5</td>\n",
       "      <td>120.0</td>\n",
       "      <td>51.896389</td>\n",
       "      <td>-0.472174</td>\n",
       "      <td>1.3</td>\n",
       "      <td>58868.5</td>\n",
       "      <td>2020</td>\n",
       "      <td>Luton</td>\n",
       "      <td>31.216664</td>\n",
       "    </tr>\n",
       "  </tbody>\n",
       "</table>\n",
       "</div>"
      ],
      "text/plain": [
       "    year  count_point_id  local_authority_id   latitude  longitude  \\\n",
       "0   2005         73040.5               120.0  51.896391  -0.472174   \n",
       "1   2006         73040.5               120.0  51.896391  -0.472174   \n",
       "2   2007         73040.5               120.0  51.896391  -0.472174   \n",
       "3   2008         73040.5               120.0  51.896391  -0.472174   \n",
       "4   2009         73040.5               120.0  51.896391  -0.472174   \n",
       "5   2010         73040.5               120.0  51.896391  -0.472174   \n",
       "6   2011         73040.5               120.0  51.896391  -0.472174   \n",
       "7   2012         73040.5               120.0  51.896391  -0.472174   \n",
       "8   2013         73040.5               120.0  51.896391  -0.472174   \n",
       "9   2014         73040.5               120.0  51.896391  -0.472174   \n",
       "10  2015         73040.5               120.0  51.896391  -0.472174   \n",
       "11  2016         73040.5               120.0  51.896391  -0.472174   \n",
       "12  2017         73040.5               120.0  51.896391  -0.472174   \n",
       "13  2018         73040.5               120.0  51.896389  -0.472174   \n",
       "14  2019         73040.5               120.0  51.896389  -0.472174   \n",
       "15  2020         73040.5               120.0  51.896389  -0.472174   \n",
       "\n",
       "    link_length_km  all_motor_vehicles  Calendar Year Local Authority  \\\n",
       "0              1.3             57600.0           2005           Luton   \n",
       "1              1.3             48583.5           2006           Luton   \n",
       "2              1.3             50652.5           2007           Luton   \n",
       "3              1.3             53492.5           2008           Luton   \n",
       "4              1.3             49612.5           2009           Luton   \n",
       "5              1.3             54367.0           2010           Luton   \n",
       "6              1.3             54802.5           2011           Luton   \n",
       "7              1.3             56972.5           2012           Luton   \n",
       "8              1.3             61684.0           2013           Luton   \n",
       "9              1.3             62781.0           2014           Luton   \n",
       "10             1.3             64218.0           2015           Luton   \n",
       "11             1.3             65315.5           2016           Luton   \n",
       "12             1.3             67952.0           2017           Luton   \n",
       "13             1.3             70355.0           2018           Luton   \n",
       "14             1.3             74481.5           2019           Luton   \n",
       "15             1.3             58868.5           2020           Luton   \n",
       "\n",
       "    Annual Territorial emissions (kt CO2e)  \n",
       "0                                31.812879  \n",
       "1                                25.993749  \n",
       "2                                27.204528  \n",
       "3                                27.863433  \n",
       "4                                24.754068  \n",
       "5                                27.443241  \n",
       "6                                27.513462  \n",
       "7                                28.448692  \n",
       "8                                29.845218  \n",
       "9                                30.298551  \n",
       "10                               31.153448  \n",
       "11                               31.863186  \n",
       "12                               33.745373  \n",
       "13                               34.480488  \n",
       "14                               36.064526  \n",
       "15                               31.216664  "
      ]
     },
     "execution_count": 30,
     "metadata": {},
     "output_type": "execute_result"
    }
   ],
   "source": [
    "merged_dfs_list = []\n",
    "\n",
    "for i, aadt_df in enumerate(df_aadt_list):\n",
    "    for j, ghg_df in enumerate(df_ghg_list):\n",
    "        if aadt_df.iloc[0]['Local Authority'] == ghg_df.iloc[0]['Local Authority']:\n",
    "            #print(\"AADT DF \\n \\n\", aadt_df)\n",
    "            #print(\"GHG DF \\n \\n\", ghg_df)\n",
    "\n",
    "            print(len(aadt_df))\n",
    "            print(len(ghg_df))\n",
    "            merged_df = aadt_df.merge(ghg_df, on=['Calendar Year', 'Local Authority'])\n",
    "            merged_dfs_list.append(merged_df)\n",
    "\n",
    "merged_dfs_list[0]"
   ]
  },
  {
   "attachments": {},
   "cell_type": "markdown",
   "metadata": {},
   "source": [
    "## Visualisation"
   ]
  },
  {
   "attachments": {},
   "cell_type": "markdown",
   "metadata": {},
   "source": [
    "### AADT"
   ]
  },
  {
   "cell_type": "code",
   "execution_count": 36,
   "metadata": {},
   "outputs": [
    {
     "data": {
      "application/vnd.plotly.v1+json": {
       "config": {
        "plotlyServerURL": "https://plot.ly"
       },
       "data": [
        {
         "name": "Luton",
         "type": "scatter",
         "x": [
          2005,
          2006,
          2007,
          2008,
          2009,
          2010,
          2011,
          2012,
          2013,
          2014,
          2015,
          2016,
          2017,
          2018,
          2019,
          2020
         ],
         "y": [
          57600,
          48583.5,
          50652.5,
          53492.5,
          49612.5,
          54367,
          54802.5,
          56972.5,
          61684,
          62781,
          64218,
          65315.5,
          67952,
          70355,
          74481.5,
          58868.5
         ]
        },
        {
         "name": "Worcestershire",
         "type": "scatter",
         "x": [
          2005,
          2006,
          2007,
          2008,
          2009,
          2010,
          2011,
          2012,
          2013,
          2014,
          2015,
          2016,
          2017,
          2018,
          2019,
          2020
         ],
         "y": [
          42120,
          43615.5,
          43176,
          42995.5,
          43330,
          42652,
          43046.5,
          40246.5,
          43547,
          44546.5,
          42082.5,
          42072,
          43238,
          41398.5,
          41972.5,
          30676
         ]
        },
        {
         "name": "Hounslow",
         "type": "scatter",
         "x": [
          2005,
          2006,
          2007,
          2008,
          2009,
          2010,
          2011,
          2012,
          2013,
          2014,
          2015,
          2016,
          2017,
          2018,
          2019,
          2020
         ],
         "y": [
          46173,
          49415,
          43854.5,
          47815,
          47960,
          42799,
          50307,
          47347.5,
          46586.5,
          50098,
          50412.5,
          51224,
          51913.5,
          51047.5,
          56651,
          35191
         ]
        },
        {
         "name": "Portsmouth",
         "type": "scatter",
         "x": [
          2005,
          2006,
          2007,
          2008,
          2009,
          2010,
          2011,
          2012,
          2013,
          2014,
          2015,
          2016,
          2017,
          2018,
          2019,
          2020
         ],
         "y": [
          43541,
          43913,
          44443,
          39796,
          39458,
          55932,
          55058,
          42156,
          42962,
          41311,
          41812,
          52453.5,
          42515,
          42201,
          43146,
          35357
         ]
        },
        {
         "name": "South Tyneside",
         "type": "scatter",
         "x": [
          2015,
          2016,
          2017,
          2018,
          2019,
          2020
         ],
         "y": [
          20469.5,
          20862.5,
          21209,
          21137,
          21401,
          21503.5
         ]
        },
        {
         "name": "South Tyneside",
         "type": "scatter",
         "x": [
          2015,
          2016,
          2017,
          2018,
          2019,
          2020
         ],
         "y": [
          20469.5,
          20862.5,
          21209,
          21137,
          21401,
          21503.5
         ]
        },
        {
         "name": "Enfield",
         "type": "scatter",
         "x": [
          2005,
          2006,
          2007,
          2008,
          2009,
          2010,
          2011,
          2012,
          2013,
          2014,
          2015,
          2016,
          2017,
          2018,
          2019,
          2020
         ],
         "y": [
          55396,
          59292.5,
          58762,
          56650,
          60896.5,
          58916.5,
          59874.5,
          61569.5,
          56160,
          61457,
          70093.5,
          70379.5,
          71285.5,
          72215.5,
          70803.5,
          57360.5
         ]
        },
        {
         "name": "Halton",
         "type": "scatter",
         "x": [
          2005,
          2006,
          2007,
          2008,
          2009,
          2010,
          2011,
          2012,
          2013,
          2014,
          2015,
          2016,
          2017,
          2018,
          2019,
          2020
         ],
         "y": [
          45427,
          50342,
          44895.5,
          51039.5,
          47924,
          48656,
          47661,
          50552,
          49156.5,
          52046.5,
          50634,
          51556,
          52376,
          52394,
          50919,
          36065
         ]
        },
        {
         "name": "Barnet",
         "type": "scatter",
         "x": [
          2005,
          2006,
          2007,
          2008,
          2009,
          2010,
          2011,
          2012,
          2013,
          2014,
          2015,
          2016,
          2017,
          2018,
          2019,
          2020
         ],
         "y": [
          21910,
          22258,
          21718,
          21857,
          21917,
          21701,
          21679,
          21685,
          21932,
          22291,
          23101,
          22046,
          19861,
          19863,
          20004.5,
          15352
         ]
        }
       ],
       "layout": {
        "template": {
         "data": {
          "bar": [
           {
            "error_x": {
             "color": "#2a3f5f"
            },
            "error_y": {
             "color": "#2a3f5f"
            },
            "marker": {
             "line": {
              "color": "#E5ECF6",
              "width": 0.5
             },
             "pattern": {
              "fillmode": "overlay",
              "size": 10,
              "solidity": 0.2
             }
            },
            "type": "bar"
           }
          ],
          "barpolar": [
           {
            "marker": {
             "line": {
              "color": "#E5ECF6",
              "width": 0.5
             },
             "pattern": {
              "fillmode": "overlay",
              "size": 10,
              "solidity": 0.2
             }
            },
            "type": "barpolar"
           }
          ],
          "carpet": [
           {
            "aaxis": {
             "endlinecolor": "#2a3f5f",
             "gridcolor": "white",
             "linecolor": "white",
             "minorgridcolor": "white",
             "startlinecolor": "#2a3f5f"
            },
            "baxis": {
             "endlinecolor": "#2a3f5f",
             "gridcolor": "white",
             "linecolor": "white",
             "minorgridcolor": "white",
             "startlinecolor": "#2a3f5f"
            },
            "type": "carpet"
           }
          ],
          "choropleth": [
           {
            "colorbar": {
             "outlinewidth": 0,
             "ticks": ""
            },
            "type": "choropleth"
           }
          ],
          "contour": [
           {
            "colorbar": {
             "outlinewidth": 0,
             "ticks": ""
            },
            "colorscale": [
             [
              0,
              "#0d0887"
             ],
             [
              0.1111111111111111,
              "#46039f"
             ],
             [
              0.2222222222222222,
              "#7201a8"
             ],
             [
              0.3333333333333333,
              "#9c179e"
             ],
             [
              0.4444444444444444,
              "#bd3786"
             ],
             [
              0.5555555555555556,
              "#d8576b"
             ],
             [
              0.6666666666666666,
              "#ed7953"
             ],
             [
              0.7777777777777778,
              "#fb9f3a"
             ],
             [
              0.8888888888888888,
              "#fdca26"
             ],
             [
              1,
              "#f0f921"
             ]
            ],
            "type": "contour"
           }
          ],
          "contourcarpet": [
           {
            "colorbar": {
             "outlinewidth": 0,
             "ticks": ""
            },
            "type": "contourcarpet"
           }
          ],
          "heatmap": [
           {
            "colorbar": {
             "outlinewidth": 0,
             "ticks": ""
            },
            "colorscale": [
             [
              0,
              "#0d0887"
             ],
             [
              0.1111111111111111,
              "#46039f"
             ],
             [
              0.2222222222222222,
              "#7201a8"
             ],
             [
              0.3333333333333333,
              "#9c179e"
             ],
             [
              0.4444444444444444,
              "#bd3786"
             ],
             [
              0.5555555555555556,
              "#d8576b"
             ],
             [
              0.6666666666666666,
              "#ed7953"
             ],
             [
              0.7777777777777778,
              "#fb9f3a"
             ],
             [
              0.8888888888888888,
              "#fdca26"
             ],
             [
              1,
              "#f0f921"
             ]
            ],
            "type": "heatmap"
           }
          ],
          "heatmapgl": [
           {
            "colorbar": {
             "outlinewidth": 0,
             "ticks": ""
            },
            "colorscale": [
             [
              0,
              "#0d0887"
             ],
             [
              0.1111111111111111,
              "#46039f"
             ],
             [
              0.2222222222222222,
              "#7201a8"
             ],
             [
              0.3333333333333333,
              "#9c179e"
             ],
             [
              0.4444444444444444,
              "#bd3786"
             ],
             [
              0.5555555555555556,
              "#d8576b"
             ],
             [
              0.6666666666666666,
              "#ed7953"
             ],
             [
              0.7777777777777778,
              "#fb9f3a"
             ],
             [
              0.8888888888888888,
              "#fdca26"
             ],
             [
              1,
              "#f0f921"
             ]
            ],
            "type": "heatmapgl"
           }
          ],
          "histogram": [
           {
            "marker": {
             "pattern": {
              "fillmode": "overlay",
              "size": 10,
              "solidity": 0.2
             }
            },
            "type": "histogram"
           }
          ],
          "histogram2d": [
           {
            "colorbar": {
             "outlinewidth": 0,
             "ticks": ""
            },
            "colorscale": [
             [
              0,
              "#0d0887"
             ],
             [
              0.1111111111111111,
              "#46039f"
             ],
             [
              0.2222222222222222,
              "#7201a8"
             ],
             [
              0.3333333333333333,
              "#9c179e"
             ],
             [
              0.4444444444444444,
              "#bd3786"
             ],
             [
              0.5555555555555556,
              "#d8576b"
             ],
             [
              0.6666666666666666,
              "#ed7953"
             ],
             [
              0.7777777777777778,
              "#fb9f3a"
             ],
             [
              0.8888888888888888,
              "#fdca26"
             ],
             [
              1,
              "#f0f921"
             ]
            ],
            "type": "histogram2d"
           }
          ],
          "histogram2dcontour": [
           {
            "colorbar": {
             "outlinewidth": 0,
             "ticks": ""
            },
            "colorscale": [
             [
              0,
              "#0d0887"
             ],
             [
              0.1111111111111111,
              "#46039f"
             ],
             [
              0.2222222222222222,
              "#7201a8"
             ],
             [
              0.3333333333333333,
              "#9c179e"
             ],
             [
              0.4444444444444444,
              "#bd3786"
             ],
             [
              0.5555555555555556,
              "#d8576b"
             ],
             [
              0.6666666666666666,
              "#ed7953"
             ],
             [
              0.7777777777777778,
              "#fb9f3a"
             ],
             [
              0.8888888888888888,
              "#fdca26"
             ],
             [
              1,
              "#f0f921"
             ]
            ],
            "type": "histogram2dcontour"
           }
          ],
          "mesh3d": [
           {
            "colorbar": {
             "outlinewidth": 0,
             "ticks": ""
            },
            "type": "mesh3d"
           }
          ],
          "parcoords": [
           {
            "line": {
             "colorbar": {
              "outlinewidth": 0,
              "ticks": ""
             }
            },
            "type": "parcoords"
           }
          ],
          "pie": [
           {
            "automargin": true,
            "type": "pie"
           }
          ],
          "scatter": [
           {
            "fillpattern": {
             "fillmode": "overlay",
             "size": 10,
             "solidity": 0.2
            },
            "type": "scatter"
           }
          ],
          "scatter3d": [
           {
            "line": {
             "colorbar": {
              "outlinewidth": 0,
              "ticks": ""
             }
            },
            "marker": {
             "colorbar": {
              "outlinewidth": 0,
              "ticks": ""
             }
            },
            "type": "scatter3d"
           }
          ],
          "scattercarpet": [
           {
            "marker": {
             "colorbar": {
              "outlinewidth": 0,
              "ticks": ""
             }
            },
            "type": "scattercarpet"
           }
          ],
          "scattergeo": [
           {
            "marker": {
             "colorbar": {
              "outlinewidth": 0,
              "ticks": ""
             }
            },
            "type": "scattergeo"
           }
          ],
          "scattergl": [
           {
            "marker": {
             "colorbar": {
              "outlinewidth": 0,
              "ticks": ""
             }
            },
            "type": "scattergl"
           }
          ],
          "scattermapbox": [
           {
            "marker": {
             "colorbar": {
              "outlinewidth": 0,
              "ticks": ""
             }
            },
            "type": "scattermapbox"
           }
          ],
          "scatterpolar": [
           {
            "marker": {
             "colorbar": {
              "outlinewidth": 0,
              "ticks": ""
             }
            },
            "type": "scatterpolar"
           }
          ],
          "scatterpolargl": [
           {
            "marker": {
             "colorbar": {
              "outlinewidth": 0,
              "ticks": ""
             }
            },
            "type": "scatterpolargl"
           }
          ],
          "scatterternary": [
           {
            "marker": {
             "colorbar": {
              "outlinewidth": 0,
              "ticks": ""
             }
            },
            "type": "scatterternary"
           }
          ],
          "surface": [
           {
            "colorbar": {
             "outlinewidth": 0,
             "ticks": ""
            },
            "colorscale": [
             [
              0,
              "#0d0887"
             ],
             [
              0.1111111111111111,
              "#46039f"
             ],
             [
              0.2222222222222222,
              "#7201a8"
             ],
             [
              0.3333333333333333,
              "#9c179e"
             ],
             [
              0.4444444444444444,
              "#bd3786"
             ],
             [
              0.5555555555555556,
              "#d8576b"
             ],
             [
              0.6666666666666666,
              "#ed7953"
             ],
             [
              0.7777777777777778,
              "#fb9f3a"
             ],
             [
              0.8888888888888888,
              "#fdca26"
             ],
             [
              1,
              "#f0f921"
             ]
            ],
            "type": "surface"
           }
          ],
          "table": [
           {
            "cells": {
             "fill": {
              "color": "#EBF0F8"
             },
             "line": {
              "color": "white"
             }
            },
            "header": {
             "fill": {
              "color": "#C8D4E3"
             },
             "line": {
              "color": "white"
             }
            },
            "type": "table"
           }
          ]
         },
         "layout": {
          "annotationdefaults": {
           "arrowcolor": "#2a3f5f",
           "arrowhead": 0,
           "arrowwidth": 1
          },
          "autotypenumbers": "strict",
          "coloraxis": {
           "colorbar": {
            "outlinewidth": 0,
            "ticks": ""
           }
          },
          "colorscale": {
           "diverging": [
            [
             0,
             "#8e0152"
            ],
            [
             0.1,
             "#c51b7d"
            ],
            [
             0.2,
             "#de77ae"
            ],
            [
             0.3,
             "#f1b6da"
            ],
            [
             0.4,
             "#fde0ef"
            ],
            [
             0.5,
             "#f7f7f7"
            ],
            [
             0.6,
             "#e6f5d0"
            ],
            [
             0.7,
             "#b8e186"
            ],
            [
             0.8,
             "#7fbc41"
            ],
            [
             0.9,
             "#4d9221"
            ],
            [
             1,
             "#276419"
            ]
           ],
           "sequential": [
            [
             0,
             "#0d0887"
            ],
            [
             0.1111111111111111,
             "#46039f"
            ],
            [
             0.2222222222222222,
             "#7201a8"
            ],
            [
             0.3333333333333333,
             "#9c179e"
            ],
            [
             0.4444444444444444,
             "#bd3786"
            ],
            [
             0.5555555555555556,
             "#d8576b"
            ],
            [
             0.6666666666666666,
             "#ed7953"
            ],
            [
             0.7777777777777778,
             "#fb9f3a"
            ],
            [
             0.8888888888888888,
             "#fdca26"
            ],
            [
             1,
             "#f0f921"
            ]
           ],
           "sequentialminus": [
            [
             0,
             "#0d0887"
            ],
            [
             0.1111111111111111,
             "#46039f"
            ],
            [
             0.2222222222222222,
             "#7201a8"
            ],
            [
             0.3333333333333333,
             "#9c179e"
            ],
            [
             0.4444444444444444,
             "#bd3786"
            ],
            [
             0.5555555555555556,
             "#d8576b"
            ],
            [
             0.6666666666666666,
             "#ed7953"
            ],
            [
             0.7777777777777778,
             "#fb9f3a"
            ],
            [
             0.8888888888888888,
             "#fdca26"
            ],
            [
             1,
             "#f0f921"
            ]
           ]
          },
          "colorway": [
           "#636efa",
           "#EF553B",
           "#00cc96",
           "#ab63fa",
           "#FFA15A",
           "#19d3f3",
           "#FF6692",
           "#B6E880",
           "#FF97FF",
           "#FECB52"
          ],
          "font": {
           "color": "#2a3f5f"
          },
          "geo": {
           "bgcolor": "white",
           "lakecolor": "white",
           "landcolor": "#E5ECF6",
           "showlakes": true,
           "showland": true,
           "subunitcolor": "white"
          },
          "hoverlabel": {
           "align": "left"
          },
          "hovermode": "closest",
          "mapbox": {
           "style": "light"
          },
          "paper_bgcolor": "white",
          "plot_bgcolor": "#E5ECF6",
          "polar": {
           "angularaxis": {
            "gridcolor": "white",
            "linecolor": "white",
            "ticks": ""
           },
           "bgcolor": "#E5ECF6",
           "radialaxis": {
            "gridcolor": "white",
            "linecolor": "white",
            "ticks": ""
           }
          },
          "scene": {
           "xaxis": {
            "backgroundcolor": "#E5ECF6",
            "gridcolor": "white",
            "gridwidth": 2,
            "linecolor": "white",
            "showbackground": true,
            "ticks": "",
            "zerolinecolor": "white"
           },
           "yaxis": {
            "backgroundcolor": "#E5ECF6",
            "gridcolor": "white",
            "gridwidth": 2,
            "linecolor": "white",
            "showbackground": true,
            "ticks": "",
            "zerolinecolor": "white"
           },
           "zaxis": {
            "backgroundcolor": "#E5ECF6",
            "gridcolor": "white",
            "gridwidth": 2,
            "linecolor": "white",
            "showbackground": true,
            "ticks": "",
            "zerolinecolor": "white"
           }
          },
          "shapedefaults": {
           "line": {
            "color": "#2a3f5f"
           }
          },
          "ternary": {
           "aaxis": {
            "gridcolor": "white",
            "linecolor": "white",
            "ticks": ""
           },
           "baxis": {
            "gridcolor": "white",
            "linecolor": "white",
            "ticks": ""
           },
           "bgcolor": "#E5ECF6",
           "caxis": {
            "gridcolor": "white",
            "linecolor": "white",
            "ticks": ""
           }
          },
          "title": {
           "x": 0.05
          },
          "xaxis": {
           "automargin": true,
           "gridcolor": "white",
           "linecolor": "white",
           "ticks": "",
           "title": {
            "standoff": 15
           },
           "zerolinecolor": "white",
           "zerolinewidth": 2
          },
          "yaxis": {
           "automargin": true,
           "gridcolor": "white",
           "linecolor": "white",
           "ticks": "",
           "title": {
            "standoff": 15
           },
           "zerolinecolor": "white",
           "zerolinewidth": 2
          }
         }
        },
        "xaxis": {
         "title": {
          "text": "Year"
         }
        },
        "yaxis": {
         "title": {
          "text": "AADT"
         }
        }
       }
      },
      "text/html": [
       "<div>                            <div id=\"d701bb7b-bdd7-48f4-adb3-4b8dfb8a434e\" class=\"plotly-graph-div\" style=\"height:525px; width:100%;\"></div>            <script type=\"text/javascript\">                require([\"plotly\"], function(Plotly) {                    window.PLOTLYENV=window.PLOTLYENV || {};                                    if (document.getElementById(\"d701bb7b-bdd7-48f4-adb3-4b8dfb8a434e\")) {                    Plotly.newPlot(                        \"d701bb7b-bdd7-48f4-adb3-4b8dfb8a434e\",                        [{\"name\":\"Luton\",\"x\":[2005,2006,2007,2008,2009,2010,2011,2012,2013,2014,2015,2016,2017,2018,2019,2020],\"y\":[57600.0,48583.5,50652.5,53492.5,49612.5,54367.0,54802.5,56972.5,61684.0,62781.0,64218.0,65315.5,67952.0,70355.0,74481.5,58868.5],\"type\":\"scatter\"},{\"name\":\"Worcestershire\",\"x\":[2005,2006,2007,2008,2009,2010,2011,2012,2013,2014,2015,2016,2017,2018,2019,2020],\"y\":[42120.0,43615.5,43176.0,42995.5,43330.0,42652.0,43046.5,40246.5,43547.0,44546.5,42082.5,42072.0,43238.0,41398.5,41972.5,30676.0],\"type\":\"scatter\"},{\"name\":\"Hounslow\",\"x\":[2005,2006,2007,2008,2009,2010,2011,2012,2013,2014,2015,2016,2017,2018,2019,2020],\"y\":[46173.0,49415.0,43854.5,47815.0,47960.0,42799.0,50307.0,47347.5,46586.5,50098.0,50412.5,51224.0,51913.5,51047.5,56651.0,35191.0],\"type\":\"scatter\"},{\"name\":\"Portsmouth\",\"x\":[2005,2006,2007,2008,2009,2010,2011,2012,2013,2014,2015,2016,2017,2018,2019,2020],\"y\":[43541.0,43913.0,44443.0,39796.0,39458.0,55932.0,55058.0,42156.0,42962.0,41311.0,41812.0,52453.5,42515.0,42201.0,43146.0,35357.0],\"type\":\"scatter\"},{\"name\":\"South Tyneside\",\"x\":[2015,2016,2017,2018,2019,2020],\"y\":[20469.5,20862.5,21209.0,21137.0,21401.0,21503.5],\"type\":\"scatter\"},{\"name\":\"South Tyneside\",\"x\":[2015,2016,2017,2018,2019,2020],\"y\":[20469.5,20862.5,21209.0,21137.0,21401.0,21503.5],\"type\":\"scatter\"},{\"name\":\"Enfield\",\"x\":[2005,2006,2007,2008,2009,2010,2011,2012,2013,2014,2015,2016,2017,2018,2019,2020],\"y\":[55396.0,59292.5,58762.0,56650.0,60896.5,58916.5,59874.5,61569.5,56160.0,61457.0,70093.5,70379.5,71285.5,72215.5,70803.5,57360.5],\"type\":\"scatter\"},{\"name\":\"Halton\",\"x\":[2005,2006,2007,2008,2009,2010,2011,2012,2013,2014,2015,2016,2017,2018,2019,2020],\"y\":[45427.0,50342.0,44895.5,51039.5,47924.0,48656.0,47661.0,50552.0,49156.5,52046.5,50634.0,51556.0,52376.0,52394.0,50919.0,36065.0],\"type\":\"scatter\"},{\"name\":\"Barnet\",\"x\":[2005,2006,2007,2008,2009,2010,2011,2012,2013,2014,2015,2016,2017,2018,2019,2020],\"y\":[21910.0,22258.0,21718.0,21857.0,21917.0,21701.0,21679.0,21685.0,21932.0,22291.0,23101.0,22046.0,19861.0,19863.0,20004.5,15352.0],\"type\":\"scatter\"}],                        {\"template\":{\"data\":{\"histogram2dcontour\":[{\"type\":\"histogram2dcontour\",\"colorbar\":{\"outlinewidth\":0,\"ticks\":\"\"},\"colorscale\":[[0.0,\"#0d0887\"],[0.1111111111111111,\"#46039f\"],[0.2222222222222222,\"#7201a8\"],[0.3333333333333333,\"#9c179e\"],[0.4444444444444444,\"#bd3786\"],[0.5555555555555556,\"#d8576b\"],[0.6666666666666666,\"#ed7953\"],[0.7777777777777778,\"#fb9f3a\"],[0.8888888888888888,\"#fdca26\"],[1.0,\"#f0f921\"]]}],\"choropleth\":[{\"type\":\"choropleth\",\"colorbar\":{\"outlinewidth\":0,\"ticks\":\"\"}}],\"histogram2d\":[{\"type\":\"histogram2d\",\"colorbar\":{\"outlinewidth\":0,\"ticks\":\"\"},\"colorscale\":[[0.0,\"#0d0887\"],[0.1111111111111111,\"#46039f\"],[0.2222222222222222,\"#7201a8\"],[0.3333333333333333,\"#9c179e\"],[0.4444444444444444,\"#bd3786\"],[0.5555555555555556,\"#d8576b\"],[0.6666666666666666,\"#ed7953\"],[0.7777777777777778,\"#fb9f3a\"],[0.8888888888888888,\"#fdca26\"],[1.0,\"#f0f921\"]]}],\"heatmap\":[{\"type\":\"heatmap\",\"colorbar\":{\"outlinewidth\":0,\"ticks\":\"\"},\"colorscale\":[[0.0,\"#0d0887\"],[0.1111111111111111,\"#46039f\"],[0.2222222222222222,\"#7201a8\"],[0.3333333333333333,\"#9c179e\"],[0.4444444444444444,\"#bd3786\"],[0.5555555555555556,\"#d8576b\"],[0.6666666666666666,\"#ed7953\"],[0.7777777777777778,\"#fb9f3a\"],[0.8888888888888888,\"#fdca26\"],[1.0,\"#f0f921\"]]}],\"heatmapgl\":[{\"type\":\"heatmapgl\",\"colorbar\":{\"outlinewidth\":0,\"ticks\":\"\"},\"colorscale\":[[0.0,\"#0d0887\"],[0.1111111111111111,\"#46039f\"],[0.2222222222222222,\"#7201a8\"],[0.3333333333333333,\"#9c179e\"],[0.4444444444444444,\"#bd3786\"],[0.5555555555555556,\"#d8576b\"],[0.6666666666666666,\"#ed7953\"],[0.7777777777777778,\"#fb9f3a\"],[0.8888888888888888,\"#fdca26\"],[1.0,\"#f0f921\"]]}],\"contourcarpet\":[{\"type\":\"contourcarpet\",\"colorbar\":{\"outlinewidth\":0,\"ticks\":\"\"}}],\"contour\":[{\"type\":\"contour\",\"colorbar\":{\"outlinewidth\":0,\"ticks\":\"\"},\"colorscale\":[[0.0,\"#0d0887\"],[0.1111111111111111,\"#46039f\"],[0.2222222222222222,\"#7201a8\"],[0.3333333333333333,\"#9c179e\"],[0.4444444444444444,\"#bd3786\"],[0.5555555555555556,\"#d8576b\"],[0.6666666666666666,\"#ed7953\"],[0.7777777777777778,\"#fb9f3a\"],[0.8888888888888888,\"#fdca26\"],[1.0,\"#f0f921\"]]}],\"surface\":[{\"type\":\"surface\",\"colorbar\":{\"outlinewidth\":0,\"ticks\":\"\"},\"colorscale\":[[0.0,\"#0d0887\"],[0.1111111111111111,\"#46039f\"],[0.2222222222222222,\"#7201a8\"],[0.3333333333333333,\"#9c179e\"],[0.4444444444444444,\"#bd3786\"],[0.5555555555555556,\"#d8576b\"],[0.6666666666666666,\"#ed7953\"],[0.7777777777777778,\"#fb9f3a\"],[0.8888888888888888,\"#fdca26\"],[1.0,\"#f0f921\"]]}],\"mesh3d\":[{\"type\":\"mesh3d\",\"colorbar\":{\"outlinewidth\":0,\"ticks\":\"\"}}],\"scatter\":[{\"fillpattern\":{\"fillmode\":\"overlay\",\"size\":10,\"solidity\":0.2},\"type\":\"scatter\"}],\"parcoords\":[{\"type\":\"parcoords\",\"line\":{\"colorbar\":{\"outlinewidth\":0,\"ticks\":\"\"}}}],\"scatterpolargl\":[{\"type\":\"scatterpolargl\",\"marker\":{\"colorbar\":{\"outlinewidth\":0,\"ticks\":\"\"}}}],\"bar\":[{\"error_x\":{\"color\":\"#2a3f5f\"},\"error_y\":{\"color\":\"#2a3f5f\"},\"marker\":{\"line\":{\"color\":\"#E5ECF6\",\"width\":0.5},\"pattern\":{\"fillmode\":\"overlay\",\"size\":10,\"solidity\":0.2}},\"type\":\"bar\"}],\"scattergeo\":[{\"type\":\"scattergeo\",\"marker\":{\"colorbar\":{\"outlinewidth\":0,\"ticks\":\"\"}}}],\"scatterpolar\":[{\"type\":\"scatterpolar\",\"marker\":{\"colorbar\":{\"outlinewidth\":0,\"ticks\":\"\"}}}],\"histogram\":[{\"marker\":{\"pattern\":{\"fillmode\":\"overlay\",\"size\":10,\"solidity\":0.2}},\"type\":\"histogram\"}],\"scattergl\":[{\"type\":\"scattergl\",\"marker\":{\"colorbar\":{\"outlinewidth\":0,\"ticks\":\"\"}}}],\"scatter3d\":[{\"type\":\"scatter3d\",\"line\":{\"colorbar\":{\"outlinewidth\":0,\"ticks\":\"\"}},\"marker\":{\"colorbar\":{\"outlinewidth\":0,\"ticks\":\"\"}}}],\"scattermapbox\":[{\"type\":\"scattermapbox\",\"marker\":{\"colorbar\":{\"outlinewidth\":0,\"ticks\":\"\"}}}],\"scatterternary\":[{\"type\":\"scatterternary\",\"marker\":{\"colorbar\":{\"outlinewidth\":0,\"ticks\":\"\"}}}],\"scattercarpet\":[{\"type\":\"scattercarpet\",\"marker\":{\"colorbar\":{\"outlinewidth\":0,\"ticks\":\"\"}}}],\"carpet\":[{\"aaxis\":{\"endlinecolor\":\"#2a3f5f\",\"gridcolor\":\"white\",\"linecolor\":\"white\",\"minorgridcolor\":\"white\",\"startlinecolor\":\"#2a3f5f\"},\"baxis\":{\"endlinecolor\":\"#2a3f5f\",\"gridcolor\":\"white\",\"linecolor\":\"white\",\"minorgridcolor\":\"white\",\"startlinecolor\":\"#2a3f5f\"},\"type\":\"carpet\"}],\"table\":[{\"cells\":{\"fill\":{\"color\":\"#EBF0F8\"},\"line\":{\"color\":\"white\"}},\"header\":{\"fill\":{\"color\":\"#C8D4E3\"},\"line\":{\"color\":\"white\"}},\"type\":\"table\"}],\"barpolar\":[{\"marker\":{\"line\":{\"color\":\"#E5ECF6\",\"width\":0.5},\"pattern\":{\"fillmode\":\"overlay\",\"size\":10,\"solidity\":0.2}},\"type\":\"barpolar\"}],\"pie\":[{\"automargin\":true,\"type\":\"pie\"}]},\"layout\":{\"autotypenumbers\":\"strict\",\"colorway\":[\"#636efa\",\"#EF553B\",\"#00cc96\",\"#ab63fa\",\"#FFA15A\",\"#19d3f3\",\"#FF6692\",\"#B6E880\",\"#FF97FF\",\"#FECB52\"],\"font\":{\"color\":\"#2a3f5f\"},\"hovermode\":\"closest\",\"hoverlabel\":{\"align\":\"left\"},\"paper_bgcolor\":\"white\",\"plot_bgcolor\":\"#E5ECF6\",\"polar\":{\"bgcolor\":\"#E5ECF6\",\"angularaxis\":{\"gridcolor\":\"white\",\"linecolor\":\"white\",\"ticks\":\"\"},\"radialaxis\":{\"gridcolor\":\"white\",\"linecolor\":\"white\",\"ticks\":\"\"}},\"ternary\":{\"bgcolor\":\"#E5ECF6\",\"aaxis\":{\"gridcolor\":\"white\",\"linecolor\":\"white\",\"ticks\":\"\"},\"baxis\":{\"gridcolor\":\"white\",\"linecolor\":\"white\",\"ticks\":\"\"},\"caxis\":{\"gridcolor\":\"white\",\"linecolor\":\"white\",\"ticks\":\"\"}},\"coloraxis\":{\"colorbar\":{\"outlinewidth\":0,\"ticks\":\"\"}},\"colorscale\":{\"sequential\":[[0.0,\"#0d0887\"],[0.1111111111111111,\"#46039f\"],[0.2222222222222222,\"#7201a8\"],[0.3333333333333333,\"#9c179e\"],[0.4444444444444444,\"#bd3786\"],[0.5555555555555556,\"#d8576b\"],[0.6666666666666666,\"#ed7953\"],[0.7777777777777778,\"#fb9f3a\"],[0.8888888888888888,\"#fdca26\"],[1.0,\"#f0f921\"]],\"sequentialminus\":[[0.0,\"#0d0887\"],[0.1111111111111111,\"#46039f\"],[0.2222222222222222,\"#7201a8\"],[0.3333333333333333,\"#9c179e\"],[0.4444444444444444,\"#bd3786\"],[0.5555555555555556,\"#d8576b\"],[0.6666666666666666,\"#ed7953\"],[0.7777777777777778,\"#fb9f3a\"],[0.8888888888888888,\"#fdca26\"],[1.0,\"#f0f921\"]],\"diverging\":[[0,\"#8e0152\"],[0.1,\"#c51b7d\"],[0.2,\"#de77ae\"],[0.3,\"#f1b6da\"],[0.4,\"#fde0ef\"],[0.5,\"#f7f7f7\"],[0.6,\"#e6f5d0\"],[0.7,\"#b8e186\"],[0.8,\"#7fbc41\"],[0.9,\"#4d9221\"],[1,\"#276419\"]]},\"xaxis\":{\"gridcolor\":\"white\",\"linecolor\":\"white\",\"ticks\":\"\",\"title\":{\"standoff\":15},\"zerolinecolor\":\"white\",\"automargin\":true,\"zerolinewidth\":2},\"yaxis\":{\"gridcolor\":\"white\",\"linecolor\":\"white\",\"ticks\":\"\",\"title\":{\"standoff\":15},\"zerolinecolor\":\"white\",\"automargin\":true,\"zerolinewidth\":2},\"scene\":{\"xaxis\":{\"backgroundcolor\":\"#E5ECF6\",\"gridcolor\":\"white\",\"linecolor\":\"white\",\"showbackground\":true,\"ticks\":\"\",\"zerolinecolor\":\"white\",\"gridwidth\":2},\"yaxis\":{\"backgroundcolor\":\"#E5ECF6\",\"gridcolor\":\"white\",\"linecolor\":\"white\",\"showbackground\":true,\"ticks\":\"\",\"zerolinecolor\":\"white\",\"gridwidth\":2},\"zaxis\":{\"backgroundcolor\":\"#E5ECF6\",\"gridcolor\":\"white\",\"linecolor\":\"white\",\"showbackground\":true,\"ticks\":\"\",\"zerolinecolor\":\"white\",\"gridwidth\":2}},\"shapedefaults\":{\"line\":{\"color\":\"#2a3f5f\"}},\"annotationdefaults\":{\"arrowcolor\":\"#2a3f5f\",\"arrowhead\":0,\"arrowwidth\":1},\"geo\":{\"bgcolor\":\"white\",\"landcolor\":\"#E5ECF6\",\"subunitcolor\":\"white\",\"showland\":true,\"showlakes\":true,\"lakecolor\":\"white\"},\"title\":{\"x\":0.05},\"mapbox\":{\"style\":\"light\"}}},\"xaxis\":{\"title\":{\"text\":\"Year\"}},\"yaxis\":{\"title\":{\"text\":\"AADT\"}}},                        {\"responsive\": true}                    ).then(function(){\n",
       "                            \n",
       "var gd = document.getElementById('d701bb7b-bdd7-48f4-adb3-4b8dfb8a434e');\n",
       "var x = new MutationObserver(function (mutations, observer) {{\n",
       "        var display = window.getComputedStyle(gd).display;\n",
       "        if (!display || display === 'none') {{\n",
       "            console.log([gd, 'removed!']);\n",
       "            Plotly.purge(gd);\n",
       "            observer.disconnect();\n",
       "        }}\n",
       "}});\n",
       "\n",
       "// Listen for the removal of the full notebook cells\n",
       "var notebookContainer = gd.closest('#notebook-container');\n",
       "if (notebookContainer) {{\n",
       "    x.observe(notebookContainer, {childList: true});\n",
       "}}\n",
       "\n",
       "// Listen for the clearing of the current output cell\n",
       "var outputEl = gd.closest('.output');\n",
       "if (outputEl) {{\n",
       "    x.observe(outputEl, {childList: true});\n",
       "}}\n",
       "\n",
       "                        })                };                });            </script>        </div>"
      ]
     },
     "metadata": {},
     "output_type": "display_data"
    }
   ],
   "source": [
    "fig = go.Figure()\n",
    "\n",
    "for i, df in enumerate(df_aadt_list):\n",
    "    fig = fig.add_trace(go.Scatter(x = df['Calendar Year'], y=df['all_motor_vehicles'], name=df.iloc[0]['Local Authority']))\n",
    "\n",
    "fig.update_xaxes(title='Year')\n",
    "fig.update_yaxes(title='AADT')\n",
    "\n",
    "fig.show()"
   ]
  },
  {
   "attachments": {},
   "cell_type": "markdown",
   "metadata": {},
   "source": [
    "### GHG Emissions"
   ]
  },
  {
   "cell_type": "code",
   "execution_count": 47,
   "metadata": {},
   "outputs": [
    {
     "data": {
      "application/vnd.plotly.v1+json": {
       "config": {
        "plotlyServerURL": "https://plot.ly"
       },
       "data": [
        {
         "name": "Barnet",
         "type": "scatter",
         "x": [
          2005,
          2006,
          2007,
          2008,
          2009,
          2010,
          2011,
          2012,
          2013,
          2014,
          2015,
          2016,
          2017,
          2018,
          2019,
          2020
         ],
         "y": [
          53.988608522,
          56.822202623,
          53.186985916,
          59.597039503000005,
          57.067456555,
          56.557556831,
          49.227800217,
          49.430061156,
          51.889026026,
          52.339996128,
          53.189937049,
          54.353228057,
          58.26036163,
          57.091260412,
          57.945878271,
          41.99712241099999
         ]
        },
        {
         "name": "Enfield",
         "type": "scatter",
         "x": [
          2005,
          2006,
          2007,
          2008,
          2009,
          2010,
          2011,
          2012,
          2013,
          2014,
          2015,
          2016,
          2017,
          2018,
          2019,
          2020
         ],
         "y": [
          122.334811817,
          123.985743196,
          125.392379386,
          124.409842953,
          125.528464062,
          128.763229196,
          115.769539259,
          131.546756389,
          124.152736427,
          122.972567209,
          143.884877836,
          146.462083717,
          147.51433026700002,
          148.219038113,
          136.439761662,
          114.445594673
         ]
        },
        {
         "name": "Halton",
         "type": "scatter",
         "x": [
          2005,
          2006,
          2007,
          2008,
          2009,
          2010,
          2011,
          2012,
          2013,
          2014,
          2015,
          2016,
          2017,
          2018,
          2019,
          2020
         ],
         "y": [
          50.14861066700001,
          51.297091876,
          50.799410139,
          49.787292026,
          49.400493126,
          51.631406205000005,
          49.158777455,
          49.26042819,
          47.850018993,
          48.903609209,
          50.249720651,
          51.663364124,
          51.73468354800001,
          50.168359941,
          46.64031825,
          37.324866304
         ]
        },
        {
         "name": "Hounslow",
         "type": "scatter",
         "x": [
          2005,
          2006,
          2007,
          2008,
          2009,
          2010,
          2011,
          2012,
          2013,
          2014,
          2015,
          2016,
          2017,
          2018,
          2019,
          2020
         ],
         "y": [
          69.679211202,
          75.931082136,
          66.348447448,
          65.94261259,
          64.685640541,
          62.72171482,
          68.074381034,
          68.260994826,
          65.811996159,
          69.60349358600001,
          66.648311945,
          68.19205573699999,
          67.681418715,
          65.784937774,
          69.392767821,
          44.306321778
         ]
        },
        {
         "name": "Luton",
         "type": "scatter",
         "x": [
          2005,
          2006,
          2007,
          2008,
          2009,
          2010,
          2011,
          2012,
          2013,
          2014,
          2015,
          2016,
          2017,
          2018,
          2019,
          2020
         ],
         "y": [
          31.81287926,
          25.993748813,
          27.204528143000005,
          27.863432503,
          24.754067676,
          27.443241393,
          27.513462083,
          28.448691871,
          29.84521794,
          30.298551254000003,
          31.153447532,
          31.863185576,
          33.745372917000005,
          34.480487687,
          36.064526434,
          31.216663949000004
         ]
        },
        {
         "name": "Portsmouth",
         "type": "scatter",
         "x": [
          2005,
          2006,
          2007,
          2008,
          2009,
          2010,
          2011,
          2012,
          2013,
          2014,
          2015,
          2016,
          2017,
          2018,
          2019,
          2020
         ],
         "y": [
          86.477432933,
          88.668893266,
          85.906337438,
          78.137748968,
          80.683787666,
          82.020990789,
          78.64614895599999,
          84.298195784,
          83.51621041,
          80.066446274,
          82.794976918,
          89.11048582000001,
          84.84669322799999,
          79.059664465,
          78.868364313,
          59.987008497
         ]
        },
        {
         "name": "South Tyneside",
         "type": "scatter",
         "x": [
          2005,
          2006,
          2007,
          2008,
          2009,
          2010,
          2011,
          2012,
          2013,
          2014,
          2015,
          2016,
          2017,
          2018,
          2019,
          2020
         ],
         "y": [
          0.125301079,
          0.126100408,
          0.127836064,
          0.122292341,
          0.158537662,
          0.155915358,
          0.156130321,
          0.153537342,
          0.162434791,
          0.1644169379999999,
          0.1684794539999999,
          0.172653736,
          0.175679109,
          0.165996771,
          0.162101005,
          0.1603659979999999
         ]
        },
        {
         "name": "Southampton",
         "type": "scatter",
         "x": [
          2005,
          2006,
          2007,
          2008,
          2009,
          2010,
          2011,
          2012,
          2013,
          2014,
          2015,
          2016,
          2017,
          2018,
          2019,
          2020
         ],
         "y": [
          23.384696465,
          23.136411767,
          23.175930086,
          20.984706899,
          21.493502632,
          21.89413008,
          21.86356156,
          22.346661386,
          22.432378832,
          19.893253715,
          21.820740158000003,
          22.716200715,
          22.576326413,
          22.163047024,
          19.301437768,
          14.839431707
         ]
        },
        {
         "name": "Worcester",
         "type": "scatter",
         "x": [
          2005,
          2006,
          2007,
          2008,
          2009,
          2010,
          2011,
          2012,
          2013,
          2014,
          2015,
          2016,
          2017,
          2018,
          2019,
          2020
         ],
         "y": [
          1.569512846,
          1.602223089,
          1.58406575,
          1.492325191,
          1.4961180710000002,
          1.469195495,
          1.469752045,
          1.36465442,
          1.517284444,
          1.559529547,
          1.594958769,
          1.6441386210000002,
          1.541269988,
          1.487990778,
          1.476269169,
          1.186461944
         ]
        }
       ],
       "layout": {
        "template": {
         "data": {
          "bar": [
           {
            "error_x": {
             "color": "#2a3f5f"
            },
            "error_y": {
             "color": "#2a3f5f"
            },
            "marker": {
             "line": {
              "color": "#E5ECF6",
              "width": 0.5
             },
             "pattern": {
              "fillmode": "overlay",
              "size": 10,
              "solidity": 0.2
             }
            },
            "type": "bar"
           }
          ],
          "barpolar": [
           {
            "marker": {
             "line": {
              "color": "#E5ECF6",
              "width": 0.5
             },
             "pattern": {
              "fillmode": "overlay",
              "size": 10,
              "solidity": 0.2
             }
            },
            "type": "barpolar"
           }
          ],
          "carpet": [
           {
            "aaxis": {
             "endlinecolor": "#2a3f5f",
             "gridcolor": "white",
             "linecolor": "white",
             "minorgridcolor": "white",
             "startlinecolor": "#2a3f5f"
            },
            "baxis": {
             "endlinecolor": "#2a3f5f",
             "gridcolor": "white",
             "linecolor": "white",
             "minorgridcolor": "white",
             "startlinecolor": "#2a3f5f"
            },
            "type": "carpet"
           }
          ],
          "choropleth": [
           {
            "colorbar": {
             "outlinewidth": 0,
             "ticks": ""
            },
            "type": "choropleth"
           }
          ],
          "contour": [
           {
            "colorbar": {
             "outlinewidth": 0,
             "ticks": ""
            },
            "colorscale": [
             [
              0,
              "#0d0887"
             ],
             [
              0.1111111111111111,
              "#46039f"
             ],
             [
              0.2222222222222222,
              "#7201a8"
             ],
             [
              0.3333333333333333,
              "#9c179e"
             ],
             [
              0.4444444444444444,
              "#bd3786"
             ],
             [
              0.5555555555555556,
              "#d8576b"
             ],
             [
              0.6666666666666666,
              "#ed7953"
             ],
             [
              0.7777777777777778,
              "#fb9f3a"
             ],
             [
              0.8888888888888888,
              "#fdca26"
             ],
             [
              1,
              "#f0f921"
             ]
            ],
            "type": "contour"
           }
          ],
          "contourcarpet": [
           {
            "colorbar": {
             "outlinewidth": 0,
             "ticks": ""
            },
            "type": "contourcarpet"
           }
          ],
          "heatmap": [
           {
            "colorbar": {
             "outlinewidth": 0,
             "ticks": ""
            },
            "colorscale": [
             [
              0,
              "#0d0887"
             ],
             [
              0.1111111111111111,
              "#46039f"
             ],
             [
              0.2222222222222222,
              "#7201a8"
             ],
             [
              0.3333333333333333,
              "#9c179e"
             ],
             [
              0.4444444444444444,
              "#bd3786"
             ],
             [
              0.5555555555555556,
              "#d8576b"
             ],
             [
              0.6666666666666666,
              "#ed7953"
             ],
             [
              0.7777777777777778,
              "#fb9f3a"
             ],
             [
              0.8888888888888888,
              "#fdca26"
             ],
             [
              1,
              "#f0f921"
             ]
            ],
            "type": "heatmap"
           }
          ],
          "heatmapgl": [
           {
            "colorbar": {
             "outlinewidth": 0,
             "ticks": ""
            },
            "colorscale": [
             [
              0,
              "#0d0887"
             ],
             [
              0.1111111111111111,
              "#46039f"
             ],
             [
              0.2222222222222222,
              "#7201a8"
             ],
             [
              0.3333333333333333,
              "#9c179e"
             ],
             [
              0.4444444444444444,
              "#bd3786"
             ],
             [
              0.5555555555555556,
              "#d8576b"
             ],
             [
              0.6666666666666666,
              "#ed7953"
             ],
             [
              0.7777777777777778,
              "#fb9f3a"
             ],
             [
              0.8888888888888888,
              "#fdca26"
             ],
             [
              1,
              "#f0f921"
             ]
            ],
            "type": "heatmapgl"
           }
          ],
          "histogram": [
           {
            "marker": {
             "pattern": {
              "fillmode": "overlay",
              "size": 10,
              "solidity": 0.2
             }
            },
            "type": "histogram"
           }
          ],
          "histogram2d": [
           {
            "colorbar": {
             "outlinewidth": 0,
             "ticks": ""
            },
            "colorscale": [
             [
              0,
              "#0d0887"
             ],
             [
              0.1111111111111111,
              "#46039f"
             ],
             [
              0.2222222222222222,
              "#7201a8"
             ],
             [
              0.3333333333333333,
              "#9c179e"
             ],
             [
              0.4444444444444444,
              "#bd3786"
             ],
             [
              0.5555555555555556,
              "#d8576b"
             ],
             [
              0.6666666666666666,
              "#ed7953"
             ],
             [
              0.7777777777777778,
              "#fb9f3a"
             ],
             [
              0.8888888888888888,
              "#fdca26"
             ],
             [
              1,
              "#f0f921"
             ]
            ],
            "type": "histogram2d"
           }
          ],
          "histogram2dcontour": [
           {
            "colorbar": {
             "outlinewidth": 0,
             "ticks": ""
            },
            "colorscale": [
             [
              0,
              "#0d0887"
             ],
             [
              0.1111111111111111,
              "#46039f"
             ],
             [
              0.2222222222222222,
              "#7201a8"
             ],
             [
              0.3333333333333333,
              "#9c179e"
             ],
             [
              0.4444444444444444,
              "#bd3786"
             ],
             [
              0.5555555555555556,
              "#d8576b"
             ],
             [
              0.6666666666666666,
              "#ed7953"
             ],
             [
              0.7777777777777778,
              "#fb9f3a"
             ],
             [
              0.8888888888888888,
              "#fdca26"
             ],
             [
              1,
              "#f0f921"
             ]
            ],
            "type": "histogram2dcontour"
           }
          ],
          "mesh3d": [
           {
            "colorbar": {
             "outlinewidth": 0,
             "ticks": ""
            },
            "type": "mesh3d"
           }
          ],
          "parcoords": [
           {
            "line": {
             "colorbar": {
              "outlinewidth": 0,
              "ticks": ""
             }
            },
            "type": "parcoords"
           }
          ],
          "pie": [
           {
            "automargin": true,
            "type": "pie"
           }
          ],
          "scatter": [
           {
            "fillpattern": {
             "fillmode": "overlay",
             "size": 10,
             "solidity": 0.2
            },
            "type": "scatter"
           }
          ],
          "scatter3d": [
           {
            "line": {
             "colorbar": {
              "outlinewidth": 0,
              "ticks": ""
             }
            },
            "marker": {
             "colorbar": {
              "outlinewidth": 0,
              "ticks": ""
             }
            },
            "type": "scatter3d"
           }
          ],
          "scattercarpet": [
           {
            "marker": {
             "colorbar": {
              "outlinewidth": 0,
              "ticks": ""
             }
            },
            "type": "scattercarpet"
           }
          ],
          "scattergeo": [
           {
            "marker": {
             "colorbar": {
              "outlinewidth": 0,
              "ticks": ""
             }
            },
            "type": "scattergeo"
           }
          ],
          "scattergl": [
           {
            "marker": {
             "colorbar": {
              "outlinewidth": 0,
              "ticks": ""
             }
            },
            "type": "scattergl"
           }
          ],
          "scattermapbox": [
           {
            "marker": {
             "colorbar": {
              "outlinewidth": 0,
              "ticks": ""
             }
            },
            "type": "scattermapbox"
           }
          ],
          "scatterpolar": [
           {
            "marker": {
             "colorbar": {
              "outlinewidth": 0,
              "ticks": ""
             }
            },
            "type": "scatterpolar"
           }
          ],
          "scatterpolargl": [
           {
            "marker": {
             "colorbar": {
              "outlinewidth": 0,
              "ticks": ""
             }
            },
            "type": "scatterpolargl"
           }
          ],
          "scatterternary": [
           {
            "marker": {
             "colorbar": {
              "outlinewidth": 0,
              "ticks": ""
             }
            },
            "type": "scatterternary"
           }
          ],
          "surface": [
           {
            "colorbar": {
             "outlinewidth": 0,
             "ticks": ""
            },
            "colorscale": [
             [
              0,
              "#0d0887"
             ],
             [
              0.1111111111111111,
              "#46039f"
             ],
             [
              0.2222222222222222,
              "#7201a8"
             ],
             [
              0.3333333333333333,
              "#9c179e"
             ],
             [
              0.4444444444444444,
              "#bd3786"
             ],
             [
              0.5555555555555556,
              "#d8576b"
             ],
             [
              0.6666666666666666,
              "#ed7953"
             ],
             [
              0.7777777777777778,
              "#fb9f3a"
             ],
             [
              0.8888888888888888,
              "#fdca26"
             ],
             [
              1,
              "#f0f921"
             ]
            ],
            "type": "surface"
           }
          ],
          "table": [
           {
            "cells": {
             "fill": {
              "color": "#EBF0F8"
             },
             "line": {
              "color": "white"
             }
            },
            "header": {
             "fill": {
              "color": "#C8D4E3"
             },
             "line": {
              "color": "white"
             }
            },
            "type": "table"
           }
          ]
         },
         "layout": {
          "annotationdefaults": {
           "arrowcolor": "#2a3f5f",
           "arrowhead": 0,
           "arrowwidth": 1
          },
          "autotypenumbers": "strict",
          "coloraxis": {
           "colorbar": {
            "outlinewidth": 0,
            "ticks": ""
           }
          },
          "colorscale": {
           "diverging": [
            [
             0,
             "#8e0152"
            ],
            [
             0.1,
             "#c51b7d"
            ],
            [
             0.2,
             "#de77ae"
            ],
            [
             0.3,
             "#f1b6da"
            ],
            [
             0.4,
             "#fde0ef"
            ],
            [
             0.5,
             "#f7f7f7"
            ],
            [
             0.6,
             "#e6f5d0"
            ],
            [
             0.7,
             "#b8e186"
            ],
            [
             0.8,
             "#7fbc41"
            ],
            [
             0.9,
             "#4d9221"
            ],
            [
             1,
             "#276419"
            ]
           ],
           "sequential": [
            [
             0,
             "#0d0887"
            ],
            [
             0.1111111111111111,
             "#46039f"
            ],
            [
             0.2222222222222222,
             "#7201a8"
            ],
            [
             0.3333333333333333,
             "#9c179e"
            ],
            [
             0.4444444444444444,
             "#bd3786"
            ],
            [
             0.5555555555555556,
             "#d8576b"
            ],
            [
             0.6666666666666666,
             "#ed7953"
            ],
            [
             0.7777777777777778,
             "#fb9f3a"
            ],
            [
             0.8888888888888888,
             "#fdca26"
            ],
            [
             1,
             "#f0f921"
            ]
           ],
           "sequentialminus": [
            [
             0,
             "#0d0887"
            ],
            [
             0.1111111111111111,
             "#46039f"
            ],
            [
             0.2222222222222222,
             "#7201a8"
            ],
            [
             0.3333333333333333,
             "#9c179e"
            ],
            [
             0.4444444444444444,
             "#bd3786"
            ],
            [
             0.5555555555555556,
             "#d8576b"
            ],
            [
             0.6666666666666666,
             "#ed7953"
            ],
            [
             0.7777777777777778,
             "#fb9f3a"
            ],
            [
             0.8888888888888888,
             "#fdca26"
            ],
            [
             1,
             "#f0f921"
            ]
           ]
          },
          "colorway": [
           "#636efa",
           "#EF553B",
           "#00cc96",
           "#ab63fa",
           "#FFA15A",
           "#19d3f3",
           "#FF6692",
           "#B6E880",
           "#FF97FF",
           "#FECB52"
          ],
          "font": {
           "color": "#2a3f5f"
          },
          "geo": {
           "bgcolor": "white",
           "lakecolor": "white",
           "landcolor": "#E5ECF6",
           "showlakes": true,
           "showland": true,
           "subunitcolor": "white"
          },
          "hoverlabel": {
           "align": "left"
          },
          "hovermode": "closest",
          "mapbox": {
           "style": "light"
          },
          "paper_bgcolor": "white",
          "plot_bgcolor": "#E5ECF6",
          "polar": {
           "angularaxis": {
            "gridcolor": "white",
            "linecolor": "white",
            "ticks": ""
           },
           "bgcolor": "#E5ECF6",
           "radialaxis": {
            "gridcolor": "white",
            "linecolor": "white",
            "ticks": ""
           }
          },
          "scene": {
           "xaxis": {
            "backgroundcolor": "#E5ECF6",
            "gridcolor": "white",
            "gridwidth": 2,
            "linecolor": "white",
            "showbackground": true,
            "ticks": "",
            "zerolinecolor": "white"
           },
           "yaxis": {
            "backgroundcolor": "#E5ECF6",
            "gridcolor": "white",
            "gridwidth": 2,
            "linecolor": "white",
            "showbackground": true,
            "ticks": "",
            "zerolinecolor": "white"
           },
           "zaxis": {
            "backgroundcolor": "#E5ECF6",
            "gridcolor": "white",
            "gridwidth": 2,
            "linecolor": "white",
            "showbackground": true,
            "ticks": "",
            "zerolinecolor": "white"
           }
          },
          "shapedefaults": {
           "line": {
            "color": "#2a3f5f"
           }
          },
          "ternary": {
           "aaxis": {
            "gridcolor": "white",
            "linecolor": "white",
            "ticks": ""
           },
           "baxis": {
            "gridcolor": "white",
            "linecolor": "white",
            "ticks": ""
           },
           "bgcolor": "#E5ECF6",
           "caxis": {
            "gridcolor": "white",
            "linecolor": "white",
            "ticks": ""
           }
          },
          "title": {
           "x": 0.05
          },
          "xaxis": {
           "automargin": true,
           "gridcolor": "white",
           "linecolor": "white",
           "ticks": "",
           "title": {
            "standoff": 15
           },
           "zerolinecolor": "white",
           "zerolinewidth": 2
          },
          "yaxis": {
           "automargin": true,
           "gridcolor": "white",
           "linecolor": "white",
           "ticks": "",
           "title": {
            "standoff": 15
           },
           "zerolinecolor": "white",
           "zerolinewidth": 2
          }
         }
        },
        "xaxis": {
         "title": {
          "text": "Year"
         }
        },
        "yaxis": {
         "title": {
          "text": "Annual Territorial emissions (kt CO2e)"
         }
        }
       }
      },
      "text/html": [
       "<div>                            <div id=\"08a9baa8-8721-41ec-a490-121d0e28a8da\" class=\"plotly-graph-div\" style=\"height:525px; width:100%;\"></div>            <script type=\"text/javascript\">                require([\"plotly\"], function(Plotly) {                    window.PLOTLYENV=window.PLOTLYENV || {};                                    if (document.getElementById(\"08a9baa8-8721-41ec-a490-121d0e28a8da\")) {                    Plotly.newPlot(                        \"08a9baa8-8721-41ec-a490-121d0e28a8da\",                        [{\"name\":\"Barnet\",\"x\":[2005,2006,2007,2008,2009,2010,2011,2012,2013,2014,2015,2016,2017,2018,2019,2020],\"y\":[53.988608522,56.822202623,53.186985916,59.597039503000005,57.067456555,56.557556831,49.227800217,49.430061156,51.889026026,52.339996128,53.189937049,54.353228057,58.26036163,57.091260412,57.945878271,41.99712241099999],\"type\":\"scatter\"},{\"name\":\"Enfield\",\"x\":[2005,2006,2007,2008,2009,2010,2011,2012,2013,2014,2015,2016,2017,2018,2019,2020],\"y\":[122.334811817,123.985743196,125.392379386,124.409842953,125.528464062,128.763229196,115.769539259,131.546756389,124.152736427,122.972567209,143.884877836,146.462083717,147.51433026700002,148.219038113,136.439761662,114.445594673],\"type\":\"scatter\"},{\"name\":\"Halton\",\"x\":[2005,2006,2007,2008,2009,2010,2011,2012,2013,2014,2015,2016,2017,2018,2019,2020],\"y\":[50.14861066700001,51.297091876,50.799410139,49.787292026,49.400493126,51.631406205000005,49.158777455,49.26042819,47.850018993,48.903609209,50.249720651,51.663364124,51.73468354800001,50.168359941,46.64031825,37.324866304],\"type\":\"scatter\"},{\"name\":\"Hounslow\",\"x\":[2005,2006,2007,2008,2009,2010,2011,2012,2013,2014,2015,2016,2017,2018,2019,2020],\"y\":[69.679211202,75.931082136,66.348447448,65.94261259,64.685640541,62.72171482,68.074381034,68.260994826,65.811996159,69.60349358600001,66.648311945,68.19205573699999,67.681418715,65.784937774,69.392767821,44.306321778],\"type\":\"scatter\"},{\"name\":\"Luton\",\"x\":[2005,2006,2007,2008,2009,2010,2011,2012,2013,2014,2015,2016,2017,2018,2019,2020],\"y\":[31.81287926,25.993748813,27.204528143000005,27.863432503,24.754067676,27.443241393,27.513462083,28.448691871,29.84521794,30.298551254000003,31.153447532,31.863185576,33.745372917000005,34.480487687,36.064526434,31.216663949000004],\"type\":\"scatter\"},{\"name\":\"Portsmouth\",\"x\":[2005,2006,2007,2008,2009,2010,2011,2012,2013,2014,2015,2016,2017,2018,2019,2020],\"y\":[86.477432933,88.668893266,85.906337438,78.137748968,80.683787666,82.020990789,78.64614895599999,84.298195784,83.51621041,80.066446274,82.794976918,89.11048582000001,84.84669322799999,79.059664465,78.868364313,59.987008497],\"type\":\"scatter\"},{\"name\":\"South Tyneside\",\"x\":[2005,2006,2007,2008,2009,2010,2011,2012,2013,2014,2015,2016,2017,2018,2019,2020],\"y\":[0.125301079,0.126100408,0.127836064,0.122292341,0.158537662,0.155915358,0.156130321,0.153537342,0.162434791,0.1644169379999999,0.1684794539999999,0.172653736,0.175679109,0.165996771,0.162101005,0.1603659979999999],\"type\":\"scatter\"},{\"name\":\"Southampton\",\"x\":[2005,2006,2007,2008,2009,2010,2011,2012,2013,2014,2015,2016,2017,2018,2019,2020],\"y\":[23.384696465,23.136411767,23.175930086,20.984706899,21.493502632,21.89413008,21.86356156,22.346661386,22.432378832,19.893253715,21.820740158000003,22.716200715,22.576326413,22.163047024,19.301437768,14.839431707],\"type\":\"scatter\"},{\"name\":\"Worcester\",\"x\":[2005,2006,2007,2008,2009,2010,2011,2012,2013,2014,2015,2016,2017,2018,2019,2020],\"y\":[1.569512846,1.602223089,1.58406575,1.492325191,1.4961180710000002,1.469195495,1.469752045,1.36465442,1.517284444,1.559529547,1.594958769,1.6441386210000002,1.541269988,1.487990778,1.476269169,1.186461944],\"type\":\"scatter\"}],                        {\"template\":{\"data\":{\"histogram2dcontour\":[{\"type\":\"histogram2dcontour\",\"colorbar\":{\"outlinewidth\":0,\"ticks\":\"\"},\"colorscale\":[[0.0,\"#0d0887\"],[0.1111111111111111,\"#46039f\"],[0.2222222222222222,\"#7201a8\"],[0.3333333333333333,\"#9c179e\"],[0.4444444444444444,\"#bd3786\"],[0.5555555555555556,\"#d8576b\"],[0.6666666666666666,\"#ed7953\"],[0.7777777777777778,\"#fb9f3a\"],[0.8888888888888888,\"#fdca26\"],[1.0,\"#f0f921\"]]}],\"choropleth\":[{\"type\":\"choropleth\",\"colorbar\":{\"outlinewidth\":0,\"ticks\":\"\"}}],\"histogram2d\":[{\"type\":\"histogram2d\",\"colorbar\":{\"outlinewidth\":0,\"ticks\":\"\"},\"colorscale\":[[0.0,\"#0d0887\"],[0.1111111111111111,\"#46039f\"],[0.2222222222222222,\"#7201a8\"],[0.3333333333333333,\"#9c179e\"],[0.4444444444444444,\"#bd3786\"],[0.5555555555555556,\"#d8576b\"],[0.6666666666666666,\"#ed7953\"],[0.7777777777777778,\"#fb9f3a\"],[0.8888888888888888,\"#fdca26\"],[1.0,\"#f0f921\"]]}],\"heatmap\":[{\"type\":\"heatmap\",\"colorbar\":{\"outlinewidth\":0,\"ticks\":\"\"},\"colorscale\":[[0.0,\"#0d0887\"],[0.1111111111111111,\"#46039f\"],[0.2222222222222222,\"#7201a8\"],[0.3333333333333333,\"#9c179e\"],[0.4444444444444444,\"#bd3786\"],[0.5555555555555556,\"#d8576b\"],[0.6666666666666666,\"#ed7953\"],[0.7777777777777778,\"#fb9f3a\"],[0.8888888888888888,\"#fdca26\"],[1.0,\"#f0f921\"]]}],\"heatmapgl\":[{\"type\":\"heatmapgl\",\"colorbar\":{\"outlinewidth\":0,\"ticks\":\"\"},\"colorscale\":[[0.0,\"#0d0887\"],[0.1111111111111111,\"#46039f\"],[0.2222222222222222,\"#7201a8\"],[0.3333333333333333,\"#9c179e\"],[0.4444444444444444,\"#bd3786\"],[0.5555555555555556,\"#d8576b\"],[0.6666666666666666,\"#ed7953\"],[0.7777777777777778,\"#fb9f3a\"],[0.8888888888888888,\"#fdca26\"],[1.0,\"#f0f921\"]]}],\"contourcarpet\":[{\"type\":\"contourcarpet\",\"colorbar\":{\"outlinewidth\":0,\"ticks\":\"\"}}],\"contour\":[{\"type\":\"contour\",\"colorbar\":{\"outlinewidth\":0,\"ticks\":\"\"},\"colorscale\":[[0.0,\"#0d0887\"],[0.1111111111111111,\"#46039f\"],[0.2222222222222222,\"#7201a8\"],[0.3333333333333333,\"#9c179e\"],[0.4444444444444444,\"#bd3786\"],[0.5555555555555556,\"#d8576b\"],[0.6666666666666666,\"#ed7953\"],[0.7777777777777778,\"#fb9f3a\"],[0.8888888888888888,\"#fdca26\"],[1.0,\"#f0f921\"]]}],\"surface\":[{\"type\":\"surface\",\"colorbar\":{\"outlinewidth\":0,\"ticks\":\"\"},\"colorscale\":[[0.0,\"#0d0887\"],[0.1111111111111111,\"#46039f\"],[0.2222222222222222,\"#7201a8\"],[0.3333333333333333,\"#9c179e\"],[0.4444444444444444,\"#bd3786\"],[0.5555555555555556,\"#d8576b\"],[0.6666666666666666,\"#ed7953\"],[0.7777777777777778,\"#fb9f3a\"],[0.8888888888888888,\"#fdca26\"],[1.0,\"#f0f921\"]]}],\"mesh3d\":[{\"type\":\"mesh3d\",\"colorbar\":{\"outlinewidth\":0,\"ticks\":\"\"}}],\"scatter\":[{\"fillpattern\":{\"fillmode\":\"overlay\",\"size\":10,\"solidity\":0.2},\"type\":\"scatter\"}],\"parcoords\":[{\"type\":\"parcoords\",\"line\":{\"colorbar\":{\"outlinewidth\":0,\"ticks\":\"\"}}}],\"scatterpolargl\":[{\"type\":\"scatterpolargl\",\"marker\":{\"colorbar\":{\"outlinewidth\":0,\"ticks\":\"\"}}}],\"bar\":[{\"error_x\":{\"color\":\"#2a3f5f\"},\"error_y\":{\"color\":\"#2a3f5f\"},\"marker\":{\"line\":{\"color\":\"#E5ECF6\",\"width\":0.5},\"pattern\":{\"fillmode\":\"overlay\",\"size\":10,\"solidity\":0.2}},\"type\":\"bar\"}],\"scattergeo\":[{\"type\":\"scattergeo\",\"marker\":{\"colorbar\":{\"outlinewidth\":0,\"ticks\":\"\"}}}],\"scatterpolar\":[{\"type\":\"scatterpolar\",\"marker\":{\"colorbar\":{\"outlinewidth\":0,\"ticks\":\"\"}}}],\"histogram\":[{\"marker\":{\"pattern\":{\"fillmode\":\"overlay\",\"size\":10,\"solidity\":0.2}},\"type\":\"histogram\"}],\"scattergl\":[{\"type\":\"scattergl\",\"marker\":{\"colorbar\":{\"outlinewidth\":0,\"ticks\":\"\"}}}],\"scatter3d\":[{\"type\":\"scatter3d\",\"line\":{\"colorbar\":{\"outlinewidth\":0,\"ticks\":\"\"}},\"marker\":{\"colorbar\":{\"outlinewidth\":0,\"ticks\":\"\"}}}],\"scattermapbox\":[{\"type\":\"scattermapbox\",\"marker\":{\"colorbar\":{\"outlinewidth\":0,\"ticks\":\"\"}}}],\"scatterternary\":[{\"type\":\"scatterternary\",\"marker\":{\"colorbar\":{\"outlinewidth\":0,\"ticks\":\"\"}}}],\"scattercarpet\":[{\"type\":\"scattercarpet\",\"marker\":{\"colorbar\":{\"outlinewidth\":0,\"ticks\":\"\"}}}],\"carpet\":[{\"aaxis\":{\"endlinecolor\":\"#2a3f5f\",\"gridcolor\":\"white\",\"linecolor\":\"white\",\"minorgridcolor\":\"white\",\"startlinecolor\":\"#2a3f5f\"},\"baxis\":{\"endlinecolor\":\"#2a3f5f\",\"gridcolor\":\"white\",\"linecolor\":\"white\",\"minorgridcolor\":\"white\",\"startlinecolor\":\"#2a3f5f\"},\"type\":\"carpet\"}],\"table\":[{\"cells\":{\"fill\":{\"color\":\"#EBF0F8\"},\"line\":{\"color\":\"white\"}},\"header\":{\"fill\":{\"color\":\"#C8D4E3\"},\"line\":{\"color\":\"white\"}},\"type\":\"table\"}],\"barpolar\":[{\"marker\":{\"line\":{\"color\":\"#E5ECF6\",\"width\":0.5},\"pattern\":{\"fillmode\":\"overlay\",\"size\":10,\"solidity\":0.2}},\"type\":\"barpolar\"}],\"pie\":[{\"automargin\":true,\"type\":\"pie\"}]},\"layout\":{\"autotypenumbers\":\"strict\",\"colorway\":[\"#636efa\",\"#EF553B\",\"#00cc96\",\"#ab63fa\",\"#FFA15A\",\"#19d3f3\",\"#FF6692\",\"#B6E880\",\"#FF97FF\",\"#FECB52\"],\"font\":{\"color\":\"#2a3f5f\"},\"hovermode\":\"closest\",\"hoverlabel\":{\"align\":\"left\"},\"paper_bgcolor\":\"white\",\"plot_bgcolor\":\"#E5ECF6\",\"polar\":{\"bgcolor\":\"#E5ECF6\",\"angularaxis\":{\"gridcolor\":\"white\",\"linecolor\":\"white\",\"ticks\":\"\"},\"radialaxis\":{\"gridcolor\":\"white\",\"linecolor\":\"white\",\"ticks\":\"\"}},\"ternary\":{\"bgcolor\":\"#E5ECF6\",\"aaxis\":{\"gridcolor\":\"white\",\"linecolor\":\"white\",\"ticks\":\"\"},\"baxis\":{\"gridcolor\":\"white\",\"linecolor\":\"white\",\"ticks\":\"\"},\"caxis\":{\"gridcolor\":\"white\",\"linecolor\":\"white\",\"ticks\":\"\"}},\"coloraxis\":{\"colorbar\":{\"outlinewidth\":0,\"ticks\":\"\"}},\"colorscale\":{\"sequential\":[[0.0,\"#0d0887\"],[0.1111111111111111,\"#46039f\"],[0.2222222222222222,\"#7201a8\"],[0.3333333333333333,\"#9c179e\"],[0.4444444444444444,\"#bd3786\"],[0.5555555555555556,\"#d8576b\"],[0.6666666666666666,\"#ed7953\"],[0.7777777777777778,\"#fb9f3a\"],[0.8888888888888888,\"#fdca26\"],[1.0,\"#f0f921\"]],\"sequentialminus\":[[0.0,\"#0d0887\"],[0.1111111111111111,\"#46039f\"],[0.2222222222222222,\"#7201a8\"],[0.3333333333333333,\"#9c179e\"],[0.4444444444444444,\"#bd3786\"],[0.5555555555555556,\"#d8576b\"],[0.6666666666666666,\"#ed7953\"],[0.7777777777777778,\"#fb9f3a\"],[0.8888888888888888,\"#fdca26\"],[1.0,\"#f0f921\"]],\"diverging\":[[0,\"#8e0152\"],[0.1,\"#c51b7d\"],[0.2,\"#de77ae\"],[0.3,\"#f1b6da\"],[0.4,\"#fde0ef\"],[0.5,\"#f7f7f7\"],[0.6,\"#e6f5d0\"],[0.7,\"#b8e186\"],[0.8,\"#7fbc41\"],[0.9,\"#4d9221\"],[1,\"#276419\"]]},\"xaxis\":{\"gridcolor\":\"white\",\"linecolor\":\"white\",\"ticks\":\"\",\"title\":{\"standoff\":15},\"zerolinecolor\":\"white\",\"automargin\":true,\"zerolinewidth\":2},\"yaxis\":{\"gridcolor\":\"white\",\"linecolor\":\"white\",\"ticks\":\"\",\"title\":{\"standoff\":15},\"zerolinecolor\":\"white\",\"automargin\":true,\"zerolinewidth\":2},\"scene\":{\"xaxis\":{\"backgroundcolor\":\"#E5ECF6\",\"gridcolor\":\"white\",\"linecolor\":\"white\",\"showbackground\":true,\"ticks\":\"\",\"zerolinecolor\":\"white\",\"gridwidth\":2},\"yaxis\":{\"backgroundcolor\":\"#E5ECF6\",\"gridcolor\":\"white\",\"linecolor\":\"white\",\"showbackground\":true,\"ticks\":\"\",\"zerolinecolor\":\"white\",\"gridwidth\":2},\"zaxis\":{\"backgroundcolor\":\"#E5ECF6\",\"gridcolor\":\"white\",\"linecolor\":\"white\",\"showbackground\":true,\"ticks\":\"\",\"zerolinecolor\":\"white\",\"gridwidth\":2}},\"shapedefaults\":{\"line\":{\"color\":\"#2a3f5f\"}},\"annotationdefaults\":{\"arrowcolor\":\"#2a3f5f\",\"arrowhead\":0,\"arrowwidth\":1},\"geo\":{\"bgcolor\":\"white\",\"landcolor\":\"#E5ECF6\",\"subunitcolor\":\"white\",\"showland\":true,\"showlakes\":true,\"lakecolor\":\"white\"},\"title\":{\"x\":0.05},\"mapbox\":{\"style\":\"light\"}}},\"xaxis\":{\"title\":{\"text\":\"Year\"}},\"yaxis\":{\"title\":{\"text\":\"Annual Territorial emissions (kt CO2e)\"}}},                        {\"responsive\": true}                    ).then(function(){\n",
       "                            \n",
       "var gd = document.getElementById('08a9baa8-8721-41ec-a490-121d0e28a8da');\n",
       "var x = new MutationObserver(function (mutations, observer) {{\n",
       "        var display = window.getComputedStyle(gd).display;\n",
       "        if (!display || display === 'none') {{\n",
       "            console.log([gd, 'removed!']);\n",
       "            Plotly.purge(gd);\n",
       "            observer.disconnect();\n",
       "        }}\n",
       "}});\n",
       "\n",
       "// Listen for the removal of the full notebook cells\n",
       "var notebookContainer = gd.closest('#notebook-container');\n",
       "if (notebookContainer) {{\n",
       "    x.observe(notebookContainer, {childList: true});\n",
       "}}\n",
       "\n",
       "// Listen for the clearing of the current output cell\n",
       "var outputEl = gd.closest('.output');\n",
       "if (outputEl) {{\n",
       "    x.observe(outputEl, {childList: true});\n",
       "}}\n",
       "\n",
       "                        })                };                });            </script>        </div>"
      ]
     },
     "metadata": {},
     "output_type": "display_data"
    }
   ],
   "source": [
    "fig = go.Figure()\n",
    "\n",
    "for i, df in enumerate(df_ghg_list):\n",
    "    fig = fig.add_trace(go.Scatter(x = df['Calendar Year'], y=df['Annual Territorial emissions (kt CO2e)'], name=df.iloc[0]['Local Authority']))\n",
    "\n",
    "fig.update_xaxes(title='Year')\n",
    "fig.update_yaxes(title='Annual Territorial emissions (kt CO2e)')\n",
    "\n",
    "fig.show()"
   ]
  },
  {
   "attachments": {},
   "cell_type": "markdown",
   "metadata": {},
   "source": [
    "### AADT and GHG Emissions"
   ]
  },
  {
   "cell_type": "code",
   "execution_count": 48,
   "metadata": {},
   "outputs": [
    {
     "data": {
      "application/vnd.plotly.v1+json": {
       "config": {
        "plotlyServerURL": "https://plot.ly"
       },
       "data": [
        {
         "mode": "markers",
         "name": "Luton",
         "type": "scatter",
         "x": [
          57600,
          48583.5,
          50652.5,
          53492.5,
          49612.5,
          54367,
          54802.5,
          56972.5,
          61684,
          62781,
          64218,
          65315.5,
          67952,
          70355,
          74481.5,
          58868.5
         ],
         "y": [
          31.81287926,
          25.993748813,
          27.204528143000005,
          27.863432503,
          24.754067676,
          27.443241393,
          27.513462083,
          28.448691871,
          29.84521794,
          30.298551254000003,
          31.153447532,
          31.863185576,
          33.745372917000005,
          34.480487687,
          36.064526434,
          31.216663949000004
         ]
        },
        {
         "mode": "markers",
         "name": "Hounslow",
         "type": "scatter",
         "x": [
          46173,
          49415,
          43854.5,
          47815,
          47960,
          42799,
          50307,
          47347.5,
          46586.5,
          50098,
          50412.5,
          51224,
          51913.5,
          51047.5,
          56651,
          35191
         ],
         "y": [
          69.679211202,
          75.931082136,
          66.348447448,
          65.94261259,
          64.685640541,
          62.72171482,
          68.074381034,
          68.260994826,
          65.811996159,
          69.60349358600001,
          66.648311945,
          68.19205573699999,
          67.681418715,
          65.784937774,
          69.392767821,
          44.306321778
         ]
        },
        {
         "mode": "markers",
         "name": "Portsmouth",
         "type": "scatter",
         "x": [
          43541,
          43913,
          44443,
          39796,
          39458,
          55932,
          55058,
          42156,
          42962,
          41311,
          41812,
          52453.5,
          42515,
          42201,
          43146,
          35357
         ],
         "y": [
          86.477432933,
          88.668893266,
          85.906337438,
          78.137748968,
          80.683787666,
          82.020990789,
          78.64614895599999,
          84.298195784,
          83.51621041,
          80.066446274,
          82.794976918,
          89.11048582000001,
          84.84669322799999,
          79.059664465,
          78.868364313,
          59.987008497
         ]
        },
        {
         "mode": "markers",
         "name": "South Tyneside",
         "type": "scatter",
         "x": [
          20469.5,
          20862.5,
          21209,
          21137,
          21401,
          21503.5
         ],
         "y": [
          0.1684794539999999,
          0.172653736,
          0.175679109,
          0.165996771,
          0.162101005,
          0.1603659979999999
         ]
        },
        {
         "mode": "markers",
         "name": "South Tyneside",
         "type": "scatter",
         "x": [
          20469.5,
          20862.5,
          21209,
          21137,
          21401,
          21503.5
         ],
         "y": [
          0.1684794539999999,
          0.172653736,
          0.175679109,
          0.165996771,
          0.162101005,
          0.1603659979999999
         ]
        },
        {
         "mode": "markers",
         "name": "Enfield",
         "type": "scatter",
         "x": [
          55396,
          59292.5,
          58762,
          56650,
          60896.5,
          58916.5,
          59874.5,
          61569.5,
          56160,
          61457,
          70093.5,
          70379.5,
          71285.5,
          72215.5,
          70803.5,
          57360.5
         ],
         "y": [
          122.334811817,
          123.985743196,
          125.392379386,
          124.409842953,
          125.528464062,
          128.763229196,
          115.769539259,
          131.546756389,
          124.152736427,
          122.972567209,
          143.884877836,
          146.462083717,
          147.51433026700002,
          148.219038113,
          136.439761662,
          114.445594673
         ]
        },
        {
         "mode": "markers",
         "name": "Halton",
         "type": "scatter",
         "x": [
          45427,
          50342,
          44895.5,
          51039.5,
          47924,
          48656,
          47661,
          50552,
          49156.5,
          52046.5,
          50634,
          51556,
          52376,
          52394,
          50919,
          36065
         ],
         "y": [
          50.14861066700001,
          51.297091876,
          50.799410139,
          49.787292026,
          49.400493126,
          51.631406205000005,
          49.158777455,
          49.26042819,
          47.850018993,
          48.903609209,
          50.249720651,
          51.663364124,
          51.73468354800001,
          50.168359941,
          46.64031825,
          37.324866304
         ]
        },
        {
         "mode": "markers",
         "name": "Barnet",
         "type": "scatter",
         "x": [
          21910,
          22258,
          21718,
          21857,
          21917,
          21701,
          21679,
          21685,
          21932,
          22291,
          23101,
          22046,
          19861,
          19863,
          20004.5,
          15352
         ],
         "y": [
          53.988608522,
          56.822202623,
          53.186985916,
          59.597039503000005,
          57.067456555,
          56.557556831,
          49.227800217,
          49.430061156,
          51.889026026,
          52.339996128,
          53.189937049,
          54.353228057,
          58.26036163,
          57.091260412,
          57.945878271,
          41.99712241099999
         ]
        }
       ],
       "layout": {
        "autosize": false,
        "height": 1000,
        "template": {
         "data": {
          "bar": [
           {
            "error_x": {
             "color": "#2a3f5f"
            },
            "error_y": {
             "color": "#2a3f5f"
            },
            "marker": {
             "line": {
              "color": "#E5ECF6",
              "width": 0.5
             },
             "pattern": {
              "fillmode": "overlay",
              "size": 10,
              "solidity": 0.2
             }
            },
            "type": "bar"
           }
          ],
          "barpolar": [
           {
            "marker": {
             "line": {
              "color": "#E5ECF6",
              "width": 0.5
             },
             "pattern": {
              "fillmode": "overlay",
              "size": 10,
              "solidity": 0.2
             }
            },
            "type": "barpolar"
           }
          ],
          "carpet": [
           {
            "aaxis": {
             "endlinecolor": "#2a3f5f",
             "gridcolor": "white",
             "linecolor": "white",
             "minorgridcolor": "white",
             "startlinecolor": "#2a3f5f"
            },
            "baxis": {
             "endlinecolor": "#2a3f5f",
             "gridcolor": "white",
             "linecolor": "white",
             "minorgridcolor": "white",
             "startlinecolor": "#2a3f5f"
            },
            "type": "carpet"
           }
          ],
          "choropleth": [
           {
            "colorbar": {
             "outlinewidth": 0,
             "ticks": ""
            },
            "type": "choropleth"
           }
          ],
          "contour": [
           {
            "colorbar": {
             "outlinewidth": 0,
             "ticks": ""
            },
            "colorscale": [
             [
              0,
              "#0d0887"
             ],
             [
              0.1111111111111111,
              "#46039f"
             ],
             [
              0.2222222222222222,
              "#7201a8"
             ],
             [
              0.3333333333333333,
              "#9c179e"
             ],
             [
              0.4444444444444444,
              "#bd3786"
             ],
             [
              0.5555555555555556,
              "#d8576b"
             ],
             [
              0.6666666666666666,
              "#ed7953"
             ],
             [
              0.7777777777777778,
              "#fb9f3a"
             ],
             [
              0.8888888888888888,
              "#fdca26"
             ],
             [
              1,
              "#f0f921"
             ]
            ],
            "type": "contour"
           }
          ],
          "contourcarpet": [
           {
            "colorbar": {
             "outlinewidth": 0,
             "ticks": ""
            },
            "type": "contourcarpet"
           }
          ],
          "heatmap": [
           {
            "colorbar": {
             "outlinewidth": 0,
             "ticks": ""
            },
            "colorscale": [
             [
              0,
              "#0d0887"
             ],
             [
              0.1111111111111111,
              "#46039f"
             ],
             [
              0.2222222222222222,
              "#7201a8"
             ],
             [
              0.3333333333333333,
              "#9c179e"
             ],
             [
              0.4444444444444444,
              "#bd3786"
             ],
             [
              0.5555555555555556,
              "#d8576b"
             ],
             [
              0.6666666666666666,
              "#ed7953"
             ],
             [
              0.7777777777777778,
              "#fb9f3a"
             ],
             [
              0.8888888888888888,
              "#fdca26"
             ],
             [
              1,
              "#f0f921"
             ]
            ],
            "type": "heatmap"
           }
          ],
          "heatmapgl": [
           {
            "colorbar": {
             "outlinewidth": 0,
             "ticks": ""
            },
            "colorscale": [
             [
              0,
              "#0d0887"
             ],
             [
              0.1111111111111111,
              "#46039f"
             ],
             [
              0.2222222222222222,
              "#7201a8"
             ],
             [
              0.3333333333333333,
              "#9c179e"
             ],
             [
              0.4444444444444444,
              "#bd3786"
             ],
             [
              0.5555555555555556,
              "#d8576b"
             ],
             [
              0.6666666666666666,
              "#ed7953"
             ],
             [
              0.7777777777777778,
              "#fb9f3a"
             ],
             [
              0.8888888888888888,
              "#fdca26"
             ],
             [
              1,
              "#f0f921"
             ]
            ],
            "type": "heatmapgl"
           }
          ],
          "histogram": [
           {
            "marker": {
             "pattern": {
              "fillmode": "overlay",
              "size": 10,
              "solidity": 0.2
             }
            },
            "type": "histogram"
           }
          ],
          "histogram2d": [
           {
            "colorbar": {
             "outlinewidth": 0,
             "ticks": ""
            },
            "colorscale": [
             [
              0,
              "#0d0887"
             ],
             [
              0.1111111111111111,
              "#46039f"
             ],
             [
              0.2222222222222222,
              "#7201a8"
             ],
             [
              0.3333333333333333,
              "#9c179e"
             ],
             [
              0.4444444444444444,
              "#bd3786"
             ],
             [
              0.5555555555555556,
              "#d8576b"
             ],
             [
              0.6666666666666666,
              "#ed7953"
             ],
             [
              0.7777777777777778,
              "#fb9f3a"
             ],
             [
              0.8888888888888888,
              "#fdca26"
             ],
             [
              1,
              "#f0f921"
             ]
            ],
            "type": "histogram2d"
           }
          ],
          "histogram2dcontour": [
           {
            "colorbar": {
             "outlinewidth": 0,
             "ticks": ""
            },
            "colorscale": [
             [
              0,
              "#0d0887"
             ],
             [
              0.1111111111111111,
              "#46039f"
             ],
             [
              0.2222222222222222,
              "#7201a8"
             ],
             [
              0.3333333333333333,
              "#9c179e"
             ],
             [
              0.4444444444444444,
              "#bd3786"
             ],
             [
              0.5555555555555556,
              "#d8576b"
             ],
             [
              0.6666666666666666,
              "#ed7953"
             ],
             [
              0.7777777777777778,
              "#fb9f3a"
             ],
             [
              0.8888888888888888,
              "#fdca26"
             ],
             [
              1,
              "#f0f921"
             ]
            ],
            "type": "histogram2dcontour"
           }
          ],
          "mesh3d": [
           {
            "colorbar": {
             "outlinewidth": 0,
             "ticks": ""
            },
            "type": "mesh3d"
           }
          ],
          "parcoords": [
           {
            "line": {
             "colorbar": {
              "outlinewidth": 0,
              "ticks": ""
             }
            },
            "type": "parcoords"
           }
          ],
          "pie": [
           {
            "automargin": true,
            "type": "pie"
           }
          ],
          "scatter": [
           {
            "fillpattern": {
             "fillmode": "overlay",
             "size": 10,
             "solidity": 0.2
            },
            "type": "scatter"
           }
          ],
          "scatter3d": [
           {
            "line": {
             "colorbar": {
              "outlinewidth": 0,
              "ticks": ""
             }
            },
            "marker": {
             "colorbar": {
              "outlinewidth": 0,
              "ticks": ""
             }
            },
            "type": "scatter3d"
           }
          ],
          "scattercarpet": [
           {
            "marker": {
             "colorbar": {
              "outlinewidth": 0,
              "ticks": ""
             }
            },
            "type": "scattercarpet"
           }
          ],
          "scattergeo": [
           {
            "marker": {
             "colorbar": {
              "outlinewidth": 0,
              "ticks": ""
             }
            },
            "type": "scattergeo"
           }
          ],
          "scattergl": [
           {
            "marker": {
             "colorbar": {
              "outlinewidth": 0,
              "ticks": ""
             }
            },
            "type": "scattergl"
           }
          ],
          "scattermapbox": [
           {
            "marker": {
             "colorbar": {
              "outlinewidth": 0,
              "ticks": ""
             }
            },
            "type": "scattermapbox"
           }
          ],
          "scatterpolar": [
           {
            "marker": {
             "colorbar": {
              "outlinewidth": 0,
              "ticks": ""
             }
            },
            "type": "scatterpolar"
           }
          ],
          "scatterpolargl": [
           {
            "marker": {
             "colorbar": {
              "outlinewidth": 0,
              "ticks": ""
             }
            },
            "type": "scatterpolargl"
           }
          ],
          "scatterternary": [
           {
            "marker": {
             "colorbar": {
              "outlinewidth": 0,
              "ticks": ""
             }
            },
            "type": "scatterternary"
           }
          ],
          "surface": [
           {
            "colorbar": {
             "outlinewidth": 0,
             "ticks": ""
            },
            "colorscale": [
             [
              0,
              "#0d0887"
             ],
             [
              0.1111111111111111,
              "#46039f"
             ],
             [
              0.2222222222222222,
              "#7201a8"
             ],
             [
              0.3333333333333333,
              "#9c179e"
             ],
             [
              0.4444444444444444,
              "#bd3786"
             ],
             [
              0.5555555555555556,
              "#d8576b"
             ],
             [
              0.6666666666666666,
              "#ed7953"
             ],
             [
              0.7777777777777778,
              "#fb9f3a"
             ],
             [
              0.8888888888888888,
              "#fdca26"
             ],
             [
              1,
              "#f0f921"
             ]
            ],
            "type": "surface"
           }
          ],
          "table": [
           {
            "cells": {
             "fill": {
              "color": "#EBF0F8"
             },
             "line": {
              "color": "white"
             }
            },
            "header": {
             "fill": {
              "color": "#C8D4E3"
             },
             "line": {
              "color": "white"
             }
            },
            "type": "table"
           }
          ]
         },
         "layout": {
          "annotationdefaults": {
           "arrowcolor": "#2a3f5f",
           "arrowhead": 0,
           "arrowwidth": 1
          },
          "autotypenumbers": "strict",
          "coloraxis": {
           "colorbar": {
            "outlinewidth": 0,
            "ticks": ""
           }
          },
          "colorscale": {
           "diverging": [
            [
             0,
             "#8e0152"
            ],
            [
             0.1,
             "#c51b7d"
            ],
            [
             0.2,
             "#de77ae"
            ],
            [
             0.3,
             "#f1b6da"
            ],
            [
             0.4,
             "#fde0ef"
            ],
            [
             0.5,
             "#f7f7f7"
            ],
            [
             0.6,
             "#e6f5d0"
            ],
            [
             0.7,
             "#b8e186"
            ],
            [
             0.8,
             "#7fbc41"
            ],
            [
             0.9,
             "#4d9221"
            ],
            [
             1,
             "#276419"
            ]
           ],
           "sequential": [
            [
             0,
             "#0d0887"
            ],
            [
             0.1111111111111111,
             "#46039f"
            ],
            [
             0.2222222222222222,
             "#7201a8"
            ],
            [
             0.3333333333333333,
             "#9c179e"
            ],
            [
             0.4444444444444444,
             "#bd3786"
            ],
            [
             0.5555555555555556,
             "#d8576b"
            ],
            [
             0.6666666666666666,
             "#ed7953"
            ],
            [
             0.7777777777777778,
             "#fb9f3a"
            ],
            [
             0.8888888888888888,
             "#fdca26"
            ],
            [
             1,
             "#f0f921"
            ]
           ],
           "sequentialminus": [
            [
             0,
             "#0d0887"
            ],
            [
             0.1111111111111111,
             "#46039f"
            ],
            [
             0.2222222222222222,
             "#7201a8"
            ],
            [
             0.3333333333333333,
             "#9c179e"
            ],
            [
             0.4444444444444444,
             "#bd3786"
            ],
            [
             0.5555555555555556,
             "#d8576b"
            ],
            [
             0.6666666666666666,
             "#ed7953"
            ],
            [
             0.7777777777777778,
             "#fb9f3a"
            ],
            [
             0.8888888888888888,
             "#fdca26"
            ],
            [
             1,
             "#f0f921"
            ]
           ]
          },
          "colorway": [
           "#636efa",
           "#EF553B",
           "#00cc96",
           "#ab63fa",
           "#FFA15A",
           "#19d3f3",
           "#FF6692",
           "#B6E880",
           "#FF97FF",
           "#FECB52"
          ],
          "font": {
           "color": "#2a3f5f"
          },
          "geo": {
           "bgcolor": "white",
           "lakecolor": "white",
           "landcolor": "#E5ECF6",
           "showlakes": true,
           "showland": true,
           "subunitcolor": "white"
          },
          "hoverlabel": {
           "align": "left"
          },
          "hovermode": "closest",
          "mapbox": {
           "style": "light"
          },
          "paper_bgcolor": "white",
          "plot_bgcolor": "#E5ECF6",
          "polar": {
           "angularaxis": {
            "gridcolor": "white",
            "linecolor": "white",
            "ticks": ""
           },
           "bgcolor": "#E5ECF6",
           "radialaxis": {
            "gridcolor": "white",
            "linecolor": "white",
            "ticks": ""
           }
          },
          "scene": {
           "xaxis": {
            "backgroundcolor": "#E5ECF6",
            "gridcolor": "white",
            "gridwidth": 2,
            "linecolor": "white",
            "showbackground": true,
            "ticks": "",
            "zerolinecolor": "white"
           },
           "yaxis": {
            "backgroundcolor": "#E5ECF6",
            "gridcolor": "white",
            "gridwidth": 2,
            "linecolor": "white",
            "showbackground": true,
            "ticks": "",
            "zerolinecolor": "white"
           },
           "zaxis": {
            "backgroundcolor": "#E5ECF6",
            "gridcolor": "white",
            "gridwidth": 2,
            "linecolor": "white",
            "showbackground": true,
            "ticks": "",
            "zerolinecolor": "white"
           }
          },
          "shapedefaults": {
           "line": {
            "color": "#2a3f5f"
           }
          },
          "ternary": {
           "aaxis": {
            "gridcolor": "white",
            "linecolor": "white",
            "ticks": ""
           },
           "baxis": {
            "gridcolor": "white",
            "linecolor": "white",
            "ticks": ""
           },
           "bgcolor": "#E5ECF6",
           "caxis": {
            "gridcolor": "white",
            "linecolor": "white",
            "ticks": ""
           }
          },
          "title": {
           "x": 0.05
          },
          "xaxis": {
           "automargin": true,
           "gridcolor": "white",
           "linecolor": "white",
           "ticks": "",
           "title": {
            "standoff": 15
           },
           "zerolinecolor": "white",
           "zerolinewidth": 2
          },
          "yaxis": {
           "automargin": true,
           "gridcolor": "white",
           "linecolor": "white",
           "ticks": "",
           "title": {
            "standoff": 15
           },
           "zerolinecolor": "white",
           "zerolinewidth": 2
          }
         }
        },
        "width": 1500,
        "xaxis": {
         "title": {
          "text": "AADT"
         }
        },
        "yaxis": {
         "title": {
          "text": "Annual Territorial emissions (kt CO2e)"
         }
        }
       }
      },
      "text/html": [
       "<div>                            <div id=\"6bb756b2-9b80-4651-9f32-4e6e5bf99450\" class=\"plotly-graph-div\" style=\"height:1000px; width:1500px;\"></div>            <script type=\"text/javascript\">                require([\"plotly\"], function(Plotly) {                    window.PLOTLYENV=window.PLOTLYENV || {};                                    if (document.getElementById(\"6bb756b2-9b80-4651-9f32-4e6e5bf99450\")) {                    Plotly.newPlot(                        \"6bb756b2-9b80-4651-9f32-4e6e5bf99450\",                        [{\"mode\":\"markers\",\"name\":\"Luton\",\"x\":[57600.0,48583.5,50652.5,53492.5,49612.5,54367.0,54802.5,56972.5,61684.0,62781.0,64218.0,65315.5,67952.0,70355.0,74481.5,58868.5],\"y\":[31.81287926,25.993748813,27.204528143000005,27.863432503,24.754067676,27.443241393,27.513462083,28.448691871,29.84521794,30.298551254000003,31.153447532,31.863185576,33.745372917000005,34.480487687,36.064526434,31.216663949000004],\"type\":\"scatter\"},{\"mode\":\"markers\",\"name\":\"Hounslow\",\"x\":[46173.0,49415.0,43854.5,47815.0,47960.0,42799.0,50307.0,47347.5,46586.5,50098.0,50412.5,51224.0,51913.5,51047.5,56651.0,35191.0],\"y\":[69.679211202,75.931082136,66.348447448,65.94261259,64.685640541,62.72171482,68.074381034,68.260994826,65.811996159,69.60349358600001,66.648311945,68.19205573699999,67.681418715,65.784937774,69.392767821,44.306321778],\"type\":\"scatter\"},{\"mode\":\"markers\",\"name\":\"Portsmouth\",\"x\":[43541.0,43913.0,44443.0,39796.0,39458.0,55932.0,55058.0,42156.0,42962.0,41311.0,41812.0,52453.5,42515.0,42201.0,43146.0,35357.0],\"y\":[86.477432933,88.668893266,85.906337438,78.137748968,80.683787666,82.020990789,78.64614895599999,84.298195784,83.51621041,80.066446274,82.794976918,89.11048582000001,84.84669322799999,79.059664465,78.868364313,59.987008497],\"type\":\"scatter\"},{\"mode\":\"markers\",\"name\":\"South Tyneside\",\"x\":[20469.5,20862.5,21209.0,21137.0,21401.0,21503.5],\"y\":[0.1684794539999999,0.172653736,0.175679109,0.165996771,0.162101005,0.1603659979999999],\"type\":\"scatter\"},{\"mode\":\"markers\",\"name\":\"South Tyneside\",\"x\":[20469.5,20862.5,21209.0,21137.0,21401.0,21503.5],\"y\":[0.1684794539999999,0.172653736,0.175679109,0.165996771,0.162101005,0.1603659979999999],\"type\":\"scatter\"},{\"mode\":\"markers\",\"name\":\"Enfield\",\"x\":[55396.0,59292.5,58762.0,56650.0,60896.5,58916.5,59874.5,61569.5,56160.0,61457.0,70093.5,70379.5,71285.5,72215.5,70803.5,57360.5],\"y\":[122.334811817,123.985743196,125.392379386,124.409842953,125.528464062,128.763229196,115.769539259,131.546756389,124.152736427,122.972567209,143.884877836,146.462083717,147.51433026700002,148.219038113,136.439761662,114.445594673],\"type\":\"scatter\"},{\"mode\":\"markers\",\"name\":\"Halton\",\"x\":[45427.0,50342.0,44895.5,51039.5,47924.0,48656.0,47661.0,50552.0,49156.5,52046.5,50634.0,51556.0,52376.0,52394.0,50919.0,36065.0],\"y\":[50.14861066700001,51.297091876,50.799410139,49.787292026,49.400493126,51.631406205000005,49.158777455,49.26042819,47.850018993,48.903609209,50.249720651,51.663364124,51.73468354800001,50.168359941,46.64031825,37.324866304],\"type\":\"scatter\"},{\"mode\":\"markers\",\"name\":\"Barnet\",\"x\":[21910.0,22258.0,21718.0,21857.0,21917.0,21701.0,21679.0,21685.0,21932.0,22291.0,23101.0,22046.0,19861.0,19863.0,20004.5,15352.0],\"y\":[53.988608522,56.822202623,53.186985916,59.597039503000005,57.067456555,56.557556831,49.227800217,49.430061156,51.889026026,52.339996128,53.189937049,54.353228057,58.26036163,57.091260412,57.945878271,41.99712241099999],\"type\":\"scatter\"}],                        {\"template\":{\"data\":{\"histogram2dcontour\":[{\"type\":\"histogram2dcontour\",\"colorbar\":{\"outlinewidth\":0,\"ticks\":\"\"},\"colorscale\":[[0.0,\"#0d0887\"],[0.1111111111111111,\"#46039f\"],[0.2222222222222222,\"#7201a8\"],[0.3333333333333333,\"#9c179e\"],[0.4444444444444444,\"#bd3786\"],[0.5555555555555556,\"#d8576b\"],[0.6666666666666666,\"#ed7953\"],[0.7777777777777778,\"#fb9f3a\"],[0.8888888888888888,\"#fdca26\"],[1.0,\"#f0f921\"]]}],\"choropleth\":[{\"type\":\"choropleth\",\"colorbar\":{\"outlinewidth\":0,\"ticks\":\"\"}}],\"histogram2d\":[{\"type\":\"histogram2d\",\"colorbar\":{\"outlinewidth\":0,\"ticks\":\"\"},\"colorscale\":[[0.0,\"#0d0887\"],[0.1111111111111111,\"#46039f\"],[0.2222222222222222,\"#7201a8\"],[0.3333333333333333,\"#9c179e\"],[0.4444444444444444,\"#bd3786\"],[0.5555555555555556,\"#d8576b\"],[0.6666666666666666,\"#ed7953\"],[0.7777777777777778,\"#fb9f3a\"],[0.8888888888888888,\"#fdca26\"],[1.0,\"#f0f921\"]]}],\"heatmap\":[{\"type\":\"heatmap\",\"colorbar\":{\"outlinewidth\":0,\"ticks\":\"\"},\"colorscale\":[[0.0,\"#0d0887\"],[0.1111111111111111,\"#46039f\"],[0.2222222222222222,\"#7201a8\"],[0.3333333333333333,\"#9c179e\"],[0.4444444444444444,\"#bd3786\"],[0.5555555555555556,\"#d8576b\"],[0.6666666666666666,\"#ed7953\"],[0.7777777777777778,\"#fb9f3a\"],[0.8888888888888888,\"#fdca26\"],[1.0,\"#f0f921\"]]}],\"heatmapgl\":[{\"type\":\"heatmapgl\",\"colorbar\":{\"outlinewidth\":0,\"ticks\":\"\"},\"colorscale\":[[0.0,\"#0d0887\"],[0.1111111111111111,\"#46039f\"],[0.2222222222222222,\"#7201a8\"],[0.3333333333333333,\"#9c179e\"],[0.4444444444444444,\"#bd3786\"],[0.5555555555555556,\"#d8576b\"],[0.6666666666666666,\"#ed7953\"],[0.7777777777777778,\"#fb9f3a\"],[0.8888888888888888,\"#fdca26\"],[1.0,\"#f0f921\"]]}],\"contourcarpet\":[{\"type\":\"contourcarpet\",\"colorbar\":{\"outlinewidth\":0,\"ticks\":\"\"}}],\"contour\":[{\"type\":\"contour\",\"colorbar\":{\"outlinewidth\":0,\"ticks\":\"\"},\"colorscale\":[[0.0,\"#0d0887\"],[0.1111111111111111,\"#46039f\"],[0.2222222222222222,\"#7201a8\"],[0.3333333333333333,\"#9c179e\"],[0.4444444444444444,\"#bd3786\"],[0.5555555555555556,\"#d8576b\"],[0.6666666666666666,\"#ed7953\"],[0.7777777777777778,\"#fb9f3a\"],[0.8888888888888888,\"#fdca26\"],[1.0,\"#f0f921\"]]}],\"surface\":[{\"type\":\"surface\",\"colorbar\":{\"outlinewidth\":0,\"ticks\":\"\"},\"colorscale\":[[0.0,\"#0d0887\"],[0.1111111111111111,\"#46039f\"],[0.2222222222222222,\"#7201a8\"],[0.3333333333333333,\"#9c179e\"],[0.4444444444444444,\"#bd3786\"],[0.5555555555555556,\"#d8576b\"],[0.6666666666666666,\"#ed7953\"],[0.7777777777777778,\"#fb9f3a\"],[0.8888888888888888,\"#fdca26\"],[1.0,\"#f0f921\"]]}],\"mesh3d\":[{\"type\":\"mesh3d\",\"colorbar\":{\"outlinewidth\":0,\"ticks\":\"\"}}],\"scatter\":[{\"fillpattern\":{\"fillmode\":\"overlay\",\"size\":10,\"solidity\":0.2},\"type\":\"scatter\"}],\"parcoords\":[{\"type\":\"parcoords\",\"line\":{\"colorbar\":{\"outlinewidth\":0,\"ticks\":\"\"}}}],\"scatterpolargl\":[{\"type\":\"scatterpolargl\",\"marker\":{\"colorbar\":{\"outlinewidth\":0,\"ticks\":\"\"}}}],\"bar\":[{\"error_x\":{\"color\":\"#2a3f5f\"},\"error_y\":{\"color\":\"#2a3f5f\"},\"marker\":{\"line\":{\"color\":\"#E5ECF6\",\"width\":0.5},\"pattern\":{\"fillmode\":\"overlay\",\"size\":10,\"solidity\":0.2}},\"type\":\"bar\"}],\"scattergeo\":[{\"type\":\"scattergeo\",\"marker\":{\"colorbar\":{\"outlinewidth\":0,\"ticks\":\"\"}}}],\"scatterpolar\":[{\"type\":\"scatterpolar\",\"marker\":{\"colorbar\":{\"outlinewidth\":0,\"ticks\":\"\"}}}],\"histogram\":[{\"marker\":{\"pattern\":{\"fillmode\":\"overlay\",\"size\":10,\"solidity\":0.2}},\"type\":\"histogram\"}],\"scattergl\":[{\"type\":\"scattergl\",\"marker\":{\"colorbar\":{\"outlinewidth\":0,\"ticks\":\"\"}}}],\"scatter3d\":[{\"type\":\"scatter3d\",\"line\":{\"colorbar\":{\"outlinewidth\":0,\"ticks\":\"\"}},\"marker\":{\"colorbar\":{\"outlinewidth\":0,\"ticks\":\"\"}}}],\"scattermapbox\":[{\"type\":\"scattermapbox\",\"marker\":{\"colorbar\":{\"outlinewidth\":0,\"ticks\":\"\"}}}],\"scatterternary\":[{\"type\":\"scatterternary\",\"marker\":{\"colorbar\":{\"outlinewidth\":0,\"ticks\":\"\"}}}],\"scattercarpet\":[{\"type\":\"scattercarpet\",\"marker\":{\"colorbar\":{\"outlinewidth\":0,\"ticks\":\"\"}}}],\"carpet\":[{\"aaxis\":{\"endlinecolor\":\"#2a3f5f\",\"gridcolor\":\"white\",\"linecolor\":\"white\",\"minorgridcolor\":\"white\",\"startlinecolor\":\"#2a3f5f\"},\"baxis\":{\"endlinecolor\":\"#2a3f5f\",\"gridcolor\":\"white\",\"linecolor\":\"white\",\"minorgridcolor\":\"white\",\"startlinecolor\":\"#2a3f5f\"},\"type\":\"carpet\"}],\"table\":[{\"cells\":{\"fill\":{\"color\":\"#EBF0F8\"},\"line\":{\"color\":\"white\"}},\"header\":{\"fill\":{\"color\":\"#C8D4E3\"},\"line\":{\"color\":\"white\"}},\"type\":\"table\"}],\"barpolar\":[{\"marker\":{\"line\":{\"color\":\"#E5ECF6\",\"width\":0.5},\"pattern\":{\"fillmode\":\"overlay\",\"size\":10,\"solidity\":0.2}},\"type\":\"barpolar\"}],\"pie\":[{\"automargin\":true,\"type\":\"pie\"}]},\"layout\":{\"autotypenumbers\":\"strict\",\"colorway\":[\"#636efa\",\"#EF553B\",\"#00cc96\",\"#ab63fa\",\"#FFA15A\",\"#19d3f3\",\"#FF6692\",\"#B6E880\",\"#FF97FF\",\"#FECB52\"],\"font\":{\"color\":\"#2a3f5f\"},\"hovermode\":\"closest\",\"hoverlabel\":{\"align\":\"left\"},\"paper_bgcolor\":\"white\",\"plot_bgcolor\":\"#E5ECF6\",\"polar\":{\"bgcolor\":\"#E5ECF6\",\"angularaxis\":{\"gridcolor\":\"white\",\"linecolor\":\"white\",\"ticks\":\"\"},\"radialaxis\":{\"gridcolor\":\"white\",\"linecolor\":\"white\",\"ticks\":\"\"}},\"ternary\":{\"bgcolor\":\"#E5ECF6\",\"aaxis\":{\"gridcolor\":\"white\",\"linecolor\":\"white\",\"ticks\":\"\"},\"baxis\":{\"gridcolor\":\"white\",\"linecolor\":\"white\",\"ticks\":\"\"},\"caxis\":{\"gridcolor\":\"white\",\"linecolor\":\"white\",\"ticks\":\"\"}},\"coloraxis\":{\"colorbar\":{\"outlinewidth\":0,\"ticks\":\"\"}},\"colorscale\":{\"sequential\":[[0.0,\"#0d0887\"],[0.1111111111111111,\"#46039f\"],[0.2222222222222222,\"#7201a8\"],[0.3333333333333333,\"#9c179e\"],[0.4444444444444444,\"#bd3786\"],[0.5555555555555556,\"#d8576b\"],[0.6666666666666666,\"#ed7953\"],[0.7777777777777778,\"#fb9f3a\"],[0.8888888888888888,\"#fdca26\"],[1.0,\"#f0f921\"]],\"sequentialminus\":[[0.0,\"#0d0887\"],[0.1111111111111111,\"#46039f\"],[0.2222222222222222,\"#7201a8\"],[0.3333333333333333,\"#9c179e\"],[0.4444444444444444,\"#bd3786\"],[0.5555555555555556,\"#d8576b\"],[0.6666666666666666,\"#ed7953\"],[0.7777777777777778,\"#fb9f3a\"],[0.8888888888888888,\"#fdca26\"],[1.0,\"#f0f921\"]],\"diverging\":[[0,\"#8e0152\"],[0.1,\"#c51b7d\"],[0.2,\"#de77ae\"],[0.3,\"#f1b6da\"],[0.4,\"#fde0ef\"],[0.5,\"#f7f7f7\"],[0.6,\"#e6f5d0\"],[0.7,\"#b8e186\"],[0.8,\"#7fbc41\"],[0.9,\"#4d9221\"],[1,\"#276419\"]]},\"xaxis\":{\"gridcolor\":\"white\",\"linecolor\":\"white\",\"ticks\":\"\",\"title\":{\"standoff\":15},\"zerolinecolor\":\"white\",\"automargin\":true,\"zerolinewidth\":2},\"yaxis\":{\"gridcolor\":\"white\",\"linecolor\":\"white\",\"ticks\":\"\",\"title\":{\"standoff\":15},\"zerolinecolor\":\"white\",\"automargin\":true,\"zerolinewidth\":2},\"scene\":{\"xaxis\":{\"backgroundcolor\":\"#E5ECF6\",\"gridcolor\":\"white\",\"linecolor\":\"white\",\"showbackground\":true,\"ticks\":\"\",\"zerolinecolor\":\"white\",\"gridwidth\":2},\"yaxis\":{\"backgroundcolor\":\"#E5ECF6\",\"gridcolor\":\"white\",\"linecolor\":\"white\",\"showbackground\":true,\"ticks\":\"\",\"zerolinecolor\":\"white\",\"gridwidth\":2},\"zaxis\":{\"backgroundcolor\":\"#E5ECF6\",\"gridcolor\":\"white\",\"linecolor\":\"white\",\"showbackground\":true,\"ticks\":\"\",\"zerolinecolor\":\"white\",\"gridwidth\":2}},\"shapedefaults\":{\"line\":{\"color\":\"#2a3f5f\"}},\"annotationdefaults\":{\"arrowcolor\":\"#2a3f5f\",\"arrowhead\":0,\"arrowwidth\":1},\"geo\":{\"bgcolor\":\"white\",\"landcolor\":\"#E5ECF6\",\"subunitcolor\":\"white\",\"showland\":true,\"showlakes\":true,\"lakecolor\":\"white\"},\"title\":{\"x\":0.05},\"mapbox\":{\"style\":\"light\"}}},\"xaxis\":{\"title\":{\"text\":\"AADT\"}},\"yaxis\":{\"title\":{\"text\":\"Annual Territorial emissions (kt CO2e)\"}},\"autosize\":false,\"width\":1500,\"height\":1000},                        {\"responsive\": true}                    ).then(function(){\n",
       "                            \n",
       "var gd = document.getElementById('6bb756b2-9b80-4651-9f32-4e6e5bf99450');\n",
       "var x = new MutationObserver(function (mutations, observer) {{\n",
       "        var display = window.getComputedStyle(gd).display;\n",
       "        if (!display || display === 'none') {{\n",
       "            console.log([gd, 'removed!']);\n",
       "            Plotly.purge(gd);\n",
       "            observer.disconnect();\n",
       "        }}\n",
       "}});\n",
       "\n",
       "// Listen for the removal of the full notebook cells\n",
       "var notebookContainer = gd.closest('#notebook-container');\n",
       "if (notebookContainer) {{\n",
       "    x.observe(notebookContainer, {childList: true});\n",
       "}}\n",
       "\n",
       "// Listen for the clearing of the current output cell\n",
       "var outputEl = gd.closest('.output');\n",
       "if (outputEl) {{\n",
       "    x.observe(outputEl, {childList: true});\n",
       "}}\n",
       "\n",
       "                        })                };                });            </script>        </div>"
      ]
     },
     "metadata": {},
     "output_type": "display_data"
    }
   ],
   "source": [
    "fig = go.Figure()\n",
    "\n",
    "for i, df in enumerate(merged_dfs_list):\n",
    "    fig = fig.add_trace(go.Scatter(x = df['all_motor_vehicles'], y=df['Annual Territorial emissions (kt CO2e)'], mode='markers', name=df.iloc[0]['Local Authority']))\n",
    "\n",
    "fig.update_xaxes(title='AADT')\n",
    "fig.update_yaxes(title='Annual Territorial emissions (kt CO2e)')\n",
    "\n",
    "fig.update_layout(\n",
    "    autosize=False,\n",
    "    width=1500,\n",
    "    height=1000,)\n",
    "fig.show()"
   ]
  }
 ],
 "metadata": {
  "kernelspec": {
   "display_name": "Python 3",
   "language": "python",
   "name": "python3"
  },
  "language_info": {
   "codemirror_mode": {
    "name": "ipython",
    "version": 3
   },
   "file_extension": ".py",
   "mimetype": "text/x-python",
   "name": "python",
   "nbconvert_exporter": "python",
   "pygments_lexer": "ipython3",
   "version": "3.8.10"
  },
  "orig_nbformat": 4,
  "vscode": {
   "interpreter": {
    "hash": "31f2aee4e71d21fbe5cf8b01ff0e069b9275f58929596ceb00d14d90e3e16cd6"
   }
  }
 },
 "nbformat": 4,
 "nbformat_minor": 2
}
