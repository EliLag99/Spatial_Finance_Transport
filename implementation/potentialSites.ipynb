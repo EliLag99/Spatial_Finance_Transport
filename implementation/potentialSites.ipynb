{
 "cells": [
  {
   "attachments": {},
   "cell_type": "markdown",
   "metadata": {},
   "source": [
    "# Potential Local Authorities (Motorways)"
   ]
  },
  {
   "attachments": {},
   "cell_type": "markdown",
   "metadata": {},
   "source": [
    "## Imports"
   ]
  },
  {
   "cell_type": "code",
   "execution_count": 273,
   "metadata": {},
   "outputs": [],
   "source": [
    "import urllib.request, json\n",
    "import pandas as pd\n",
    "import math\n",
    "import pickle\n",
    "import collections\n",
    "from tqdm import tqdm\n",
    "import geopandas\n",
    "import datetime\n",
    "import os\n",
    "import numpy as np\n",
    "import matplotlib.pyplot as plt\n",
    "import plotly.express as px\n",
    "import plotly.graph_objects as go\n",
    "\n",
    "import statsmodels.api as sm"
   ]
  },
  {
   "attachments": {},
   "cell_type": "markdown",
   "metadata": {},
   "source": [
    "## Global Variables"
   ]
  },
  {
   "cell_type": "code",
   "execution_count": 274,
   "metadata": {},
   "outputs": [],
   "source": [
    "UNWANTED_COLS = ['region_name', 'region_id', 'road_type', 'pedal_cycles', 'two_wheeled_motor_vehicles',\n",
    "                    'cars_and_taxis', 'buses_and_coaches', 'lgvs', 'hgvs_2_rigid_axle',\n",
    "                    'hgvs_3_rigid_axle', 'hgvs_4_or_more_rigid_axle',\n",
    "                    'hgvs_3_or_4_articulated_axle', 'hgvs_5_articulated_axle',\n",
    "                    'hgvs_6_articulated_axle', 'all_hgvs', 'start_junction_road_name', 'end_junction_road_name', 'easting',\n",
    "                    'northing', 'estimation_method', 'estimation_method_detailed', 'link_length_miles']\n",
    "\n",
    "\n",
    "AADT_LOCAL_AUTHORITY_IDS = [('Luton', '120'), ('Worcestershire', '69'), ('Hounslow', '111')]\n",
    "ROOT_DIR_PATH = os.path.abspath('..')\n",
    "\n",
    "GHG_PROCESSED_PATH = os.path.join(ROOT_DIR_PATH, 'data/ground_truth_data/GHG_potential_sites.csv')\n",
    "\n",
    "LOCAL_AUTHORITY_NAMES = ['Luton', 'Worcester', 'Hounslow', 'Portsmouth', 'Southampton', 'South Tyneside', 'Enfield', 'Halton', 'Barnet', 'Dudley', 'Coventry', \n",
    "                         'Trafford', 'Bracknell Forest', 'Havering', 'Sunderland', 'Liverpool', 'Blackburn with Darwen',\n",
    "                         'Bolton'] \n",
    "\n",
    "LOCAL_AUTHORITY_IDS = ['120', '69', '111', '82', '137', '166', '121', '156', '57', '189', '152', '91', '180', \n",
    "                       '201', '161', '198', '94', '160']\n",
    "\n",
    "\n",
    "CHOSEN_COUNT_SITES = [('Luton', 'M1/2557A', 'M1/2557B'), ('Hounslow', 'M4/2188A', 'M4/2188B'), ('Enfield', 'M25/5441A', 'M25/5441B'), ('Blackburn with Darwen', '30361033', '30361032'), ('Havering', 'M25/5790A', 'M25/5790B')]\n",
    "\n",
    "CHOSEN_LA_NAMES = ['Luton', 'Hounslow', 'Enfield', 'Blackburn with Darwen', 'Havering']"
   ]
  },
  {
   "attachments": {},
   "cell_type": "markdown",
   "metadata": {},
   "source": [
    "## General Functions"
   ]
  },
  {
   "cell_type": "code",
   "execution_count": 275,
   "metadata": {},
   "outputs": [],
   "source": [
    "def clean_aadt_list(df_aadt_list):\n",
    "    \n",
    "    for i in range(len(df_aadt_list)):\n",
    "        df = df_aadt_list[i]\n",
    "        df_motorways = df[df['road_name'].str.contains('M')]\n",
    "        df_2005_onwards = df_motorways[df_motorways['year'] >= 2005]  \n",
    "        df_2005_onwards =  df_2005_onwards[df_2005_onwards['year'] != 2021]  \n",
    "        df_aadt_list[i] = df_2005_onwards.drop(UNWANTED_COLS, axis=1, errors='ignore')\n",
    "\n",
    "    return df_aadt_list"
   ]
  },
  {
   "cell_type": "code",
   "execution_count": 276,
   "metadata": {},
   "outputs": [],
   "source": [
    "def group_aadt_list(df_aadt_list):\n",
    "\n",
    "    grouped_df_aadt_list = []\n",
    "\n",
    "    for i in range(len(df_aadt_list)):\n",
    "        df = df_aadt_list[i]\n",
    "        #grouped_df = df.groupby(by=['count_point_id', 'year']).mean()\n",
    "        local_authority_name = df.iloc[0]['local_authority_name']\n",
    "        grouped_df = df.groupby(by=['year']).median()\n",
    "        grouped_df['Calendar Year'] = grouped_df.index\n",
    "        grouped_df = grouped_df.reset_index()\n",
    "        grouped_df['Local Authority'] = local_authority_name\n",
    "        grouped_df_aadt_list.append(grouped_df)\n",
    "\n",
    "    return grouped_df_aadt_list"
   ]
  },
  {
   "cell_type": "code",
   "execution_count": 277,
   "metadata": {},
   "outputs": [],
   "source": [
    "def merge_aadt_ghg_list(df_aadt_list, df_ghg_list):\n",
    "\n",
    "    merged_dfs_list = []\n",
    "\n",
    "    for i, aadt_df in enumerate(df_aadt_list):\n",
    "        for j, ghg_df in enumerate(df_ghg_list):\n",
    "            if aadt_df.iloc[0]['Local Authority'] == ghg_df.iloc[0]['Local Authority']:\n",
    "                print(\"AADT DF len: {}, GHG DF len: {}\".format(len(aadt_df), len(ghg_df)))\n",
    "                merged_df = aadt_df.merge(ghg_df, on=['Calendar Year', 'Local Authority'])\n",
    "                merged_dfs_list.append(merged_df)\n",
    "\n",
    "    return merged_dfs_list"
   ]
  },
  {
   "cell_type": "code",
   "execution_count": 278,
   "metadata": {},
   "outputs": [],
   "source": [
    "def plot_aadt_ghg(merged_dfs_list, show_plot=True, show_ols=True):\n",
    "    fig = go.Figure()\n",
    "\n",
    "    colors = px.colors.qualitative.Plotly * 2\n",
    "\n",
    "    df_ols = merged_dfs_list[0][['Calendar Year']].copy()\n",
    "\n",
    "    df_total = merged_dfs_list[0][['all_motor_vehicles', 'Annual Territorial emissions (kt CO2e)']].copy()\n",
    "\n",
    "    for i, df in enumerate(merged_dfs_list):\n",
    "        la_name = df.iloc[0]['Local Authority']\n",
    "        fig = fig.add_trace(go.Scatter(x = df['all_motor_vehicles'], y=df['Annual Territorial emissions (kt CO2e)'], mode='markers', name=la_name, marker=dict(color=colors[i])))\n",
    "\n",
    "        x = sm.add_constant(df['all_motor_vehicles'])\n",
    "        model = sm.OLS(df['Annual Territorial emissions (kt CO2e)'], x).fit()\n",
    "        df_ols[la_name+ '_OLS'] = model.fittedvalues\n",
    "\n",
    "        color = fig.data[0].line.color\n",
    "        # regression data\n",
    "        if show_ols:\n",
    "            fig.add_trace(go.Scatter(x=df['all_motor_vehicles'],\n",
    "                                y=df_ols[la_name + '_OLS'],\n",
    "                                mode='lines',\n",
    "                                name=la_name+' OLS',\n",
    "                                marker=dict(color=colors[i],size=15)\n",
    "                                ))\n",
    "        \n",
    "        if i > 0:\n",
    "            df_total = pd.concat([df_total, df[['all_motor_vehicles', 'Annual Territorial emissions (kt CO2e)']]], ignore_index=True)\n",
    "\n",
    "\n",
    "    df_total = df_total.dropna()\n",
    "\n",
    "    x = sm.add_constant(df_total['all_motor_vehicles'])\n",
    "    model = sm.OLS(df_total['Annual Territorial emissions (kt CO2e)'], x).fit()\n",
    "    df_total['Total_OLS'] = model.fittedvalues\n",
    "\n",
    "\n",
    "    if show_ols:\n",
    "        fig.add_trace(go.Scatter(x=df_total['all_motor_vehicles'],\n",
    "                                y=df_total['Total_OLS'],\n",
    "                                mode='lines',\n",
    "                                name='Total OLS'\n",
    "                                ))\n",
    "\n",
    "    if show_plot:\n",
    "        fig.update_xaxes(title='AADT')\n",
    "        fig.update_yaxes(title='Annual Territorial emissions (kt CO2e)')\n",
    "\n",
    "        fig.update_layout(\n",
    "            autosize=False,\n",
    "            width=1000,\n",
    "            height=1000,\n",
    "            legend=dict(font=dict(size=20)))\n",
    "        \n",
    "        fig.show()\n",
    "\n",
    "    return df_ols, df_total"
   ]
  },
  {
   "attachments": {},
   "cell_type": "markdown",
   "metadata": {},
   "source": [
    "## AADT Data Loading and Pre-Processing"
   ]
  },
  {
   "attachments": {},
   "cell_type": "markdown",
   "metadata": {},
   "source": [
    "### Load Data"
   ]
  },
  {
   "cell_type": "code",
   "execution_count": 279,
   "metadata": {},
   "outputs": [
    {
     "name": "stdout",
     "output_type": "stream",
     "text": [
      "Index(['count_point_id', 'year', 'region_id', 'region_name',\n",
      "       'local_authority_id', 'local_authority_name', 'road_name', 'road_type',\n",
      "       'start_junction_road_name', 'end_junction_road_name', 'easting',\n",
      "       'northing', 'latitude', 'longitude', 'link_length_km',\n",
      "       'link_length_miles', 'estimation_method', 'estimation_method_detailed',\n",
      "       'direction_of_travel', 'pedal_cycles', 'two_wheeled_motor_vehicles',\n",
      "       'cars_and_taxis', 'buses_and_coaches', 'lgvs', 'hgvs_2_rigid_axle',\n",
      "       'hgvs_3_rigid_axle', 'hgvs_4_or_more_rigid_axle',\n",
      "       'hgvs_3_or_4_articulated_axle', 'hgvs_5_articulated_axle',\n",
      "       'hgvs_6_articulated_axle', 'all_hgvs', 'all_motor_vehicles'],\n",
      "      dtype='object')\n",
      "[ 18221  27247  28472   6176  38079  48450  48057  73041  73040  73632\n",
      "  77396  80935  99950  80936  80937 941719 941721 941688 941702 941713\n",
      "  81081 941705 941700 941691  81080 941693 941708  81315  81457 951632\n",
      "  17959 951634  77397 941699 941714 941716  84098  73039  73042  81456\n",
      "  77401  86070  86069  86071  86041  86042  86040  73038 961454  81314\n",
      " 930063  28073  81082  81084  80803 930578  38076  81083 979133 930062\n",
      " 930579 930580 942945 966028 952944 941692 941701 941690 941704 941722\n",
      " 941695 941696 941715 941689 941703 941712 941707 941720 941710 941718\n",
      " 951635 951633 951636   8319  80801   7219  37274  99945  74674  74672\n",
      "  74673  90214  90213 808197  91125  93189 807153 808096 803821 803824\n",
      " 803823 807055 809764 803822 803820 809205 803825]\n"
     ]
    },
    {
     "data": {
      "text/html": [
       "<div>\n",
       "<style scoped>\n",
       "    .dataframe tbody tr th:only-of-type {\n",
       "        vertical-align: middle;\n",
       "    }\n",
       "\n",
       "    .dataframe tbody tr th {\n",
       "        vertical-align: top;\n",
       "    }\n",
       "\n",
       "    .dataframe thead th {\n",
       "        text-align: right;\n",
       "    }\n",
       "</style>\n",
       "<table border=\"1\" class=\"dataframe\">\n",
       "  <thead>\n",
       "    <tr style=\"text-align: right;\">\n",
       "      <th></th>\n",
       "      <th>count_point_id</th>\n",
       "      <th>year</th>\n",
       "      <th>region_id</th>\n",
       "      <th>region_name</th>\n",
       "      <th>local_authority_id</th>\n",
       "      <th>local_authority_name</th>\n",
       "      <th>road_name</th>\n",
       "      <th>road_type</th>\n",
       "      <th>start_junction_road_name</th>\n",
       "      <th>end_junction_road_name</th>\n",
       "      <th>...</th>\n",
       "      <th>buses_and_coaches</th>\n",
       "      <th>lgvs</th>\n",
       "      <th>hgvs_2_rigid_axle</th>\n",
       "      <th>hgvs_3_rigid_axle</th>\n",
       "      <th>hgvs_4_or_more_rigid_axle</th>\n",
       "      <th>hgvs_3_or_4_articulated_axle</th>\n",
       "      <th>hgvs_5_articulated_axle</th>\n",
       "      <th>hgvs_6_articulated_axle</th>\n",
       "      <th>all_hgvs</th>\n",
       "      <th>all_motor_vehicles</th>\n",
       "    </tr>\n",
       "  </thead>\n",
       "  <tbody>\n",
       "    <tr>\n",
       "      <th>0</th>\n",
       "      <td>18221</td>\n",
       "      <td>2014</td>\n",
       "      <td>7</td>\n",
       "      <td>East of England</td>\n",
       "      <td>120</td>\n",
       "      <td>Luton</td>\n",
       "      <td>A505</td>\n",
       "      <td>Major</td>\n",
       "      <td>Eaton Green Road roundabout</td>\n",
       "      <td>A5228</td>\n",
       "      <td>...</td>\n",
       "      <td>38</td>\n",
       "      <td>1099</td>\n",
       "      <td>171</td>\n",
       "      <td>57</td>\n",
       "      <td>23</td>\n",
       "      <td>11</td>\n",
       "      <td>14</td>\n",
       "      <td>43</td>\n",
       "      <td>318</td>\n",
       "      <td>8711</td>\n",
       "    </tr>\n",
       "    <tr>\n",
       "      <th>1</th>\n",
       "      <td>18221</td>\n",
       "      <td>2014</td>\n",
       "      <td>7</td>\n",
       "      <td>East of England</td>\n",
       "      <td>120</td>\n",
       "      <td>Luton</td>\n",
       "      <td>A505</td>\n",
       "      <td>Major</td>\n",
       "      <td>Eaton Green Road roundabout</td>\n",
       "      <td>A5228</td>\n",
       "      <td>...</td>\n",
       "      <td>35</td>\n",
       "      <td>1091</td>\n",
       "      <td>188</td>\n",
       "      <td>41</td>\n",
       "      <td>37</td>\n",
       "      <td>13</td>\n",
       "      <td>15</td>\n",
       "      <td>48</td>\n",
       "      <td>341</td>\n",
       "      <td>9314</td>\n",
       "    </tr>\n",
       "    <tr>\n",
       "      <th>2</th>\n",
       "      <td>27247</td>\n",
       "      <td>2014</td>\n",
       "      <td>7</td>\n",
       "      <td>East of England</td>\n",
       "      <td>120</td>\n",
       "      <td>Luton</td>\n",
       "      <td>A505</td>\n",
       "      <td>Major</td>\n",
       "      <td>Castle St roundabout</td>\n",
       "      <td>A6</td>\n",
       "      <td>...</td>\n",
       "      <td>124</td>\n",
       "      <td>1525</td>\n",
       "      <td>142</td>\n",
       "      <td>22</td>\n",
       "      <td>24</td>\n",
       "      <td>3</td>\n",
       "      <td>18</td>\n",
       "      <td>11</td>\n",
       "      <td>220</td>\n",
       "      <td>14023</td>\n",
       "    </tr>\n",
       "    <tr>\n",
       "      <th>3</th>\n",
       "      <td>27247</td>\n",
       "      <td>2014</td>\n",
       "      <td>7</td>\n",
       "      <td>East of England</td>\n",
       "      <td>120</td>\n",
       "      <td>Luton</td>\n",
       "      <td>A505</td>\n",
       "      <td>Major</td>\n",
       "      <td>Castle St roundabout</td>\n",
       "      <td>A6</td>\n",
       "      <td>...</td>\n",
       "      <td>95</td>\n",
       "      <td>1512</td>\n",
       "      <td>142</td>\n",
       "      <td>13</td>\n",
       "      <td>29</td>\n",
       "      <td>8</td>\n",
       "      <td>8</td>\n",
       "      <td>14</td>\n",
       "      <td>215</td>\n",
       "      <td>14091</td>\n",
       "    </tr>\n",
       "    <tr>\n",
       "      <th>4</th>\n",
       "      <td>28472</td>\n",
       "      <td>2014</td>\n",
       "      <td>7</td>\n",
       "      <td>East of England</td>\n",
       "      <td>120</td>\n",
       "      <td>Luton</td>\n",
       "      <td>A505</td>\n",
       "      <td>Major</td>\n",
       "      <td>Kimpton Road roundabout</td>\n",
       "      <td>Eaton Green Road roundabout</td>\n",
       "      <td>...</td>\n",
       "      <td>93</td>\n",
       "      <td>1429</td>\n",
       "      <td>118</td>\n",
       "      <td>16</td>\n",
       "      <td>31</td>\n",
       "      <td>10</td>\n",
       "      <td>26</td>\n",
       "      <td>26</td>\n",
       "      <td>228</td>\n",
       "      <td>11015</td>\n",
       "    </tr>\n",
       "  </tbody>\n",
       "</table>\n",
       "<p>5 rows × 32 columns</p>\n",
       "</div>"
      ],
      "text/plain": [
       "   count_point_id  year  region_id      region_name  local_authority_id  \\\n",
       "0           18221  2014          7  East of England                 120   \n",
       "1           18221  2014          7  East of England                 120   \n",
       "2           27247  2014          7  East of England                 120   \n",
       "3           27247  2014          7  East of England                 120   \n",
       "4           28472  2014          7  East of England                 120   \n",
       "\n",
       "  local_authority_name road_name road_type     start_junction_road_name  \\\n",
       "0                Luton      A505     Major  Eaton Green Road roundabout   \n",
       "1                Luton      A505     Major  Eaton Green Road roundabout   \n",
       "2                Luton      A505     Major         Castle St roundabout   \n",
       "3                Luton      A505     Major         Castle St roundabout   \n",
       "4                Luton      A505     Major      Kimpton Road roundabout   \n",
       "\n",
       "        end_junction_road_name  ...  buses_and_coaches  lgvs  \\\n",
       "0                        A5228  ...                 38  1099   \n",
       "1                        A5228  ...                 35  1091   \n",
       "2                           A6  ...                124  1525   \n",
       "3                           A6  ...                 95  1512   \n",
       "4  Eaton Green Road roundabout  ...                 93  1429   \n",
       "\n",
       "   hgvs_2_rigid_axle  hgvs_3_rigid_axle  hgvs_4_or_more_rigid_axle  \\\n",
       "0                171                 57                         23   \n",
       "1                188                 41                         37   \n",
       "2                142                 22                         24   \n",
       "3                142                 13                         29   \n",
       "4                118                 16                         31   \n",
       "\n",
       "   hgvs_3_or_4_articulated_axle hgvs_5_articulated_axle  \\\n",
       "0                            11                      14   \n",
       "1                            13                      15   \n",
       "2                             3                      18   \n",
       "3                             8                       8   \n",
       "4                            10                      26   \n",
       "\n",
       "  hgvs_6_articulated_axle all_hgvs  all_motor_vehicles  \n",
       "0                      43      318                8711  \n",
       "1                      48      341                9314  \n",
       "2                      11      220               14023  \n",
       "3                      14      215               14091  \n",
       "4                      26      228               11015  \n",
       "\n",
       "[5 rows x 32 columns]"
      ]
     },
     "execution_count": 279,
     "metadata": {},
     "output_type": "execute_result"
    }
   ],
   "source": [
    "df_aadt_list = []\n",
    "\n",
    "for id in LOCAL_AUTHORITY_IDS:\n",
    "    df_aadt_list.append(pd.read_csv('https://storage.googleapis.com/dft-statistics/road-traffic/downloads/aadfbydirection/local_authority_id/dft_aadfbydirection_local_authority_id_{}.csv'.format(id)))\n",
    "\n",
    "print(df_aadt_list[0].columns)\n",
    "\n",
    "print(df_aadt_list[0]['count_point_id'].unique())\n",
    "\n",
    "df_aadt_list[0].head()"
   ]
  },
  {
   "attachments": {},
   "cell_type": "markdown",
   "metadata": {},
   "source": [
    "### Keep only Motorways and Remove unwanted Columns"
   ]
  },
  {
   "cell_type": "code",
   "execution_count": 280,
   "metadata": {},
   "outputs": [
    {
     "data": {
      "text/html": [
       "<div>\n",
       "<style scoped>\n",
       "    .dataframe tbody tr th:only-of-type {\n",
       "        vertical-align: middle;\n",
       "    }\n",
       "\n",
       "    .dataframe tbody tr th {\n",
       "        vertical-align: top;\n",
       "    }\n",
       "\n",
       "    .dataframe thead th {\n",
       "        text-align: right;\n",
       "    }\n",
       "</style>\n",
       "<table border=\"1\" class=\"dataframe\">\n",
       "  <thead>\n",
       "    <tr style=\"text-align: right;\">\n",
       "      <th></th>\n",
       "      <th>count_point_id</th>\n",
       "      <th>year</th>\n",
       "      <th>local_authority_id</th>\n",
       "      <th>local_authority_name</th>\n",
       "      <th>road_name</th>\n",
       "      <th>latitude</th>\n",
       "      <th>longitude</th>\n",
       "      <th>link_length_km</th>\n",
       "      <th>direction_of_travel</th>\n",
       "      <th>all_motor_vehicles</th>\n",
       "    </tr>\n",
       "  </thead>\n",
       "  <tbody>\n",
       "    <tr>\n",
       "      <th>84</th>\n",
       "      <td>73039</td>\n",
       "      <td>2014</td>\n",
       "      <td>120</td>\n",
       "      <td>Luton</td>\n",
       "      <td>M1</td>\n",
       "      <td>51.902050</td>\n",
       "      <td>-0.475252</td>\n",
       "      <td>1.9</td>\n",
       "      <td>N</td>\n",
       "      <td>64166</td>\n",
       "    </tr>\n",
       "    <tr>\n",
       "      <th>85</th>\n",
       "      <td>73039</td>\n",
       "      <td>2014</td>\n",
       "      <td>120</td>\n",
       "      <td>Luton</td>\n",
       "      <td>M1</td>\n",
       "      <td>51.902050</td>\n",
       "      <td>-0.475252</td>\n",
       "      <td>1.9</td>\n",
       "      <td>S</td>\n",
       "      <td>57061</td>\n",
       "    </tr>\n",
       "    <tr>\n",
       "      <th>92</th>\n",
       "      <td>73042</td>\n",
       "      <td>2014</td>\n",
       "      <td>120</td>\n",
       "      <td>Luton</td>\n",
       "      <td>M1</td>\n",
       "      <td>51.890731</td>\n",
       "      <td>-0.469096</td>\n",
       "      <td>0.7</td>\n",
       "      <td>N</td>\n",
       "      <td>73265</td>\n",
       "    </tr>\n",
       "    <tr>\n",
       "      <th>93</th>\n",
       "      <td>73042</td>\n",
       "      <td>2014</td>\n",
       "      <td>120</td>\n",
       "      <td>Luton</td>\n",
       "      <td>M1</td>\n",
       "      <td>51.890731</td>\n",
       "      <td>-0.469096</td>\n",
       "      <td>0.7</td>\n",
       "      <td>S</td>\n",
       "      <td>61396</td>\n",
       "    </tr>\n",
       "    <tr>\n",
       "      <th>144</th>\n",
       "      <td>73042</td>\n",
       "      <td>2015</td>\n",
       "      <td>120</td>\n",
       "      <td>Luton</td>\n",
       "      <td>M1</td>\n",
       "      <td>51.890731</td>\n",
       "      <td>-0.469096</td>\n",
       "      <td>0.7</td>\n",
       "      <td>N</td>\n",
       "      <td>63750</td>\n",
       "    </tr>\n",
       "    <tr>\n",
       "      <th>...</th>\n",
       "      <td>...</td>\n",
       "      <td>...</td>\n",
       "      <td>...</td>\n",
       "      <td>...</td>\n",
       "      <td>...</td>\n",
       "      <td>...</td>\n",
       "      <td>...</td>\n",
       "      <td>...</td>\n",
       "      <td>...</td>\n",
       "      <td>...</td>\n",
       "    </tr>\n",
       "    <tr>\n",
       "      <th>1583</th>\n",
       "      <td>73042</td>\n",
       "      <td>2020</td>\n",
       "      <td>120</td>\n",
       "      <td>Luton</td>\n",
       "      <td>M1</td>\n",
       "      <td>51.890729</td>\n",
       "      <td>-0.469096</td>\n",
       "      <td>0.7</td>\n",
       "      <td>S</td>\n",
       "      <td>50240</td>\n",
       "    </tr>\n",
       "    <tr>\n",
       "      <th>1608</th>\n",
       "      <td>73039</td>\n",
       "      <td>2020</td>\n",
       "      <td>120</td>\n",
       "      <td>Luton</td>\n",
       "      <td>M1</td>\n",
       "      <td>51.902049</td>\n",
       "      <td>-0.475252</td>\n",
       "      <td>1.9</td>\n",
       "      <td>N</td>\n",
       "      <td>62896</td>\n",
       "    </tr>\n",
       "    <tr>\n",
       "      <th>1609</th>\n",
       "      <td>73039</td>\n",
       "      <td>2020</td>\n",
       "      <td>120</td>\n",
       "      <td>Luton</td>\n",
       "      <td>M1</td>\n",
       "      <td>51.902049</td>\n",
       "      <td>-0.475252</td>\n",
       "      <td>1.9</td>\n",
       "      <td>S</td>\n",
       "      <td>67612</td>\n",
       "    </tr>\n",
       "    <tr>\n",
       "      <th>1639</th>\n",
       "      <td>73039</td>\n",
       "      <td>2019</td>\n",
       "      <td>120</td>\n",
       "      <td>Luton</td>\n",
       "      <td>M1</td>\n",
       "      <td>51.902049</td>\n",
       "      <td>-0.475252</td>\n",
       "      <td>1.9</td>\n",
       "      <td>N</td>\n",
       "      <td>81098</td>\n",
       "    </tr>\n",
       "    <tr>\n",
       "      <th>1640</th>\n",
       "      <td>73039</td>\n",
       "      <td>2019</td>\n",
       "      <td>120</td>\n",
       "      <td>Luton</td>\n",
       "      <td>M1</td>\n",
       "      <td>51.902049</td>\n",
       "      <td>-0.475252</td>\n",
       "      <td>1.9</td>\n",
       "      <td>S</td>\n",
       "      <td>87664</td>\n",
       "    </tr>\n",
       "  </tbody>\n",
       "</table>\n",
       "<p>64 rows × 10 columns</p>\n",
       "</div>"
      ],
      "text/plain": [
       "      count_point_id  year  local_authority_id local_authority_name road_name  \\\n",
       "84             73039  2014                 120                Luton        M1   \n",
       "85             73039  2014                 120                Luton        M1   \n",
       "92             73042  2014                 120                Luton        M1   \n",
       "93             73042  2014                 120                Luton        M1   \n",
       "144            73042  2015                 120                Luton        M1   \n",
       "...              ...   ...                 ...                  ...       ...   \n",
       "1583           73042  2020                 120                Luton        M1   \n",
       "1608           73039  2020                 120                Luton        M1   \n",
       "1609           73039  2020                 120                Luton        M1   \n",
       "1639           73039  2019                 120                Luton        M1   \n",
       "1640           73039  2019                 120                Luton        M1   \n",
       "\n",
       "       latitude  longitude  link_length_km direction_of_travel  \\\n",
       "84    51.902050  -0.475252             1.9                   N   \n",
       "85    51.902050  -0.475252             1.9                   S   \n",
       "92    51.890731  -0.469096             0.7                   N   \n",
       "93    51.890731  -0.469096             0.7                   S   \n",
       "144   51.890731  -0.469096             0.7                   N   \n",
       "...         ...        ...             ...                 ...   \n",
       "1583  51.890729  -0.469096             0.7                   S   \n",
       "1608  51.902049  -0.475252             1.9                   N   \n",
       "1609  51.902049  -0.475252             1.9                   S   \n",
       "1639  51.902049  -0.475252             1.9                   N   \n",
       "1640  51.902049  -0.475252             1.9                   S   \n",
       "\n",
       "      all_motor_vehicles  \n",
       "84                 64166  \n",
       "85                 57061  \n",
       "92                 73265  \n",
       "93                 61396  \n",
       "144                63750  \n",
       "...                  ...  \n",
       "1583               50240  \n",
       "1608               62896  \n",
       "1609               67612  \n",
       "1639               81098  \n",
       "1640               87664  \n",
       "\n",
       "[64 rows x 10 columns]"
      ]
     },
     "execution_count": 280,
     "metadata": {},
     "output_type": "execute_result"
    }
   ],
   "source": [
    "df_aadt_list = clean_aadt_list(df_aadt_list)\n",
    "\n",
    "df_aadt_list[0]"
   ]
  },
  {
   "cell_type": "code",
   "execution_count": 281,
   "metadata": {},
   "outputs": [
    {
     "data": {
      "application/vnd.plotly.v1+json": {
       "config": {
        "plotlyServerURL": "https://plot.ly"
       },
       "data": [
        {
         "alignmentgroup": "True",
         "bingroup": "x",
         "hovertemplate": "all_motor_vehicles=%{x}<br>count=%{y}<extra></extra>",
         "legendgroup": "",
         "marker": {
          "color": "#636efa",
          "pattern": {
           "shape": ""
          }
         },
         "name": "",
         "offsetgroup": "",
         "orientation": "v",
         "showlegend": false,
         "type": "histogram",
         "x": [
          47275,
          47643,
          47427,
          47876,
          33492,
          30011,
          42470,
          155567,
          47035,
          50126,
          47222,
          48954,
          48318,
          48707,
          34256,
          30670,
          47283,
          50372,
          39755,
          159033,
          38494,
          38778,
          37757,
          37970,
          46432,
          45957,
          48830,
          50642,
          48690,
          52932,
          40460,
          33542,
          28659,
          52954,
          46463,
          151801,
          115681,
          41436,
          42799,
          45552,
          46635,
          24444,
          23091,
          23064,
          23143,
          50639,
          46860,
          48024,
          25347,
          13316,
          12194,
          24648,
          23272,
          47513,
          44746,
          59482,
          57405,
          23247,
          23326,
          46845,
          50049,
          51238,
          41602,
          49007,
          60384,
          58378,
          51501,
          43482,
          47711,
          48588,
          13505,
          12374,
          48285,
          49977,
          24956,
          23573,
          23562,
          23661,
          36066,
          40156,
          48744,
          41013,
          41463,
          45952,
          46031,
          24586,
          23221,
          48758,
          45286,
          23224,
          23326,
          47689,
          49320,
          44227,
          13323,
          12208,
          40457,
          40908,
          56733,
          54473,
          44911,
          57279,
          54940,
          45553,
          45613,
          47545,
          42851,
          24233,
          22923,
          48164,
          51484,
          11143,
          11508,
          22945,
          23064,
          36518,
          40652,
          34543,
          36900,
          45918,
          43568,
          45921,
          49410,
          42166,
          40960,
          43173,
          43287,
          147618,
          32104,
          28748,
          43261,
          43007,
          32811,
          29385,
          46717,
          47596,
          46044,
          49102,
          44100,
          45209,
          45926,
          36233,
          37374,
          42733,
          44098,
          48591,
          45983,
          32540,
          29117,
          38672,
          38003,
          145215,
          43039,
          38049,
          37350,
          36929,
          38110,
          49852,
          48075,
          32004,
          28603,
          45728,
          42746,
          52138,
          47969,
          30184,
          25730,
          40639,
          46873,
          53044,
          46582,
          45660,
          48685,
          52930,
          41859,
          45886,
          26914,
          27629,
          146292,
          43154,
          41708,
          43126,
          48213,
          141824,
          33542,
          28632,
          37321,
          39820,
          45596,
          43071,
          39537,
          37239,
          38966,
          151628,
          48591,
          52747,
          47118,
          46193,
          31791,
          27954,
          50273,
          54395,
          40634,
          150331,
          21982,
          19246,
          45032,
          47307,
          37668,
          29938,
          27621,
          39591,
          41024,
          44388,
          44743,
          128229
         ],
         "xaxis": "x",
         "yaxis": "y"
        }
       ],
       "layout": {
        "barmode": "relative",
        "legend": {
         "tracegroupgap": 0
        },
        "margin": {
         "t": 60
        },
        "template": {
         "data": {
          "bar": [
           {
            "error_x": {
             "color": "#2a3f5f"
            },
            "error_y": {
             "color": "#2a3f5f"
            },
            "marker": {
             "line": {
              "color": "#E5ECF6",
              "width": 0.5
             },
             "pattern": {
              "fillmode": "overlay",
              "size": 10,
              "solidity": 0.2
             }
            },
            "type": "bar"
           }
          ],
          "barpolar": [
           {
            "marker": {
             "line": {
              "color": "#E5ECF6",
              "width": 0.5
             },
             "pattern": {
              "fillmode": "overlay",
              "size": 10,
              "solidity": 0.2
             }
            },
            "type": "barpolar"
           }
          ],
          "carpet": [
           {
            "aaxis": {
             "endlinecolor": "#2a3f5f",
             "gridcolor": "white",
             "linecolor": "white",
             "minorgridcolor": "white",
             "startlinecolor": "#2a3f5f"
            },
            "baxis": {
             "endlinecolor": "#2a3f5f",
             "gridcolor": "white",
             "linecolor": "white",
             "minorgridcolor": "white",
             "startlinecolor": "#2a3f5f"
            },
            "type": "carpet"
           }
          ],
          "choropleth": [
           {
            "colorbar": {
             "outlinewidth": 0,
             "ticks": ""
            },
            "type": "choropleth"
           }
          ],
          "contour": [
           {
            "colorbar": {
             "outlinewidth": 0,
             "ticks": ""
            },
            "colorscale": [
             [
              0,
              "#0d0887"
             ],
             [
              0.1111111111111111,
              "#46039f"
             ],
             [
              0.2222222222222222,
              "#7201a8"
             ],
             [
              0.3333333333333333,
              "#9c179e"
             ],
             [
              0.4444444444444444,
              "#bd3786"
             ],
             [
              0.5555555555555556,
              "#d8576b"
             ],
             [
              0.6666666666666666,
              "#ed7953"
             ],
             [
              0.7777777777777778,
              "#fb9f3a"
             ],
             [
              0.8888888888888888,
              "#fdca26"
             ],
             [
              1,
              "#f0f921"
             ]
            ],
            "type": "contour"
           }
          ],
          "contourcarpet": [
           {
            "colorbar": {
             "outlinewidth": 0,
             "ticks": ""
            },
            "type": "contourcarpet"
           }
          ],
          "heatmap": [
           {
            "colorbar": {
             "outlinewidth": 0,
             "ticks": ""
            },
            "colorscale": [
             [
              0,
              "#0d0887"
             ],
             [
              0.1111111111111111,
              "#46039f"
             ],
             [
              0.2222222222222222,
              "#7201a8"
             ],
             [
              0.3333333333333333,
              "#9c179e"
             ],
             [
              0.4444444444444444,
              "#bd3786"
             ],
             [
              0.5555555555555556,
              "#d8576b"
             ],
             [
              0.6666666666666666,
              "#ed7953"
             ],
             [
              0.7777777777777778,
              "#fb9f3a"
             ],
             [
              0.8888888888888888,
              "#fdca26"
             ],
             [
              1,
              "#f0f921"
             ]
            ],
            "type": "heatmap"
           }
          ],
          "heatmapgl": [
           {
            "colorbar": {
             "outlinewidth": 0,
             "ticks": ""
            },
            "colorscale": [
             [
              0,
              "#0d0887"
             ],
             [
              0.1111111111111111,
              "#46039f"
             ],
             [
              0.2222222222222222,
              "#7201a8"
             ],
             [
              0.3333333333333333,
              "#9c179e"
             ],
             [
              0.4444444444444444,
              "#bd3786"
             ],
             [
              0.5555555555555556,
              "#d8576b"
             ],
             [
              0.6666666666666666,
              "#ed7953"
             ],
             [
              0.7777777777777778,
              "#fb9f3a"
             ],
             [
              0.8888888888888888,
              "#fdca26"
             ],
             [
              1,
              "#f0f921"
             ]
            ],
            "type": "heatmapgl"
           }
          ],
          "histogram": [
           {
            "marker": {
             "pattern": {
              "fillmode": "overlay",
              "size": 10,
              "solidity": 0.2
             }
            },
            "type": "histogram"
           }
          ],
          "histogram2d": [
           {
            "colorbar": {
             "outlinewidth": 0,
             "ticks": ""
            },
            "colorscale": [
             [
              0,
              "#0d0887"
             ],
             [
              0.1111111111111111,
              "#46039f"
             ],
             [
              0.2222222222222222,
              "#7201a8"
             ],
             [
              0.3333333333333333,
              "#9c179e"
             ],
             [
              0.4444444444444444,
              "#bd3786"
             ],
             [
              0.5555555555555556,
              "#d8576b"
             ],
             [
              0.6666666666666666,
              "#ed7953"
             ],
             [
              0.7777777777777778,
              "#fb9f3a"
             ],
             [
              0.8888888888888888,
              "#fdca26"
             ],
             [
              1,
              "#f0f921"
             ]
            ],
            "type": "histogram2d"
           }
          ],
          "histogram2dcontour": [
           {
            "colorbar": {
             "outlinewidth": 0,
             "ticks": ""
            },
            "colorscale": [
             [
              0,
              "#0d0887"
             ],
             [
              0.1111111111111111,
              "#46039f"
             ],
             [
              0.2222222222222222,
              "#7201a8"
             ],
             [
              0.3333333333333333,
              "#9c179e"
             ],
             [
              0.4444444444444444,
              "#bd3786"
             ],
             [
              0.5555555555555556,
              "#d8576b"
             ],
             [
              0.6666666666666666,
              "#ed7953"
             ],
             [
              0.7777777777777778,
              "#fb9f3a"
             ],
             [
              0.8888888888888888,
              "#fdca26"
             ],
             [
              1,
              "#f0f921"
             ]
            ],
            "type": "histogram2dcontour"
           }
          ],
          "mesh3d": [
           {
            "colorbar": {
             "outlinewidth": 0,
             "ticks": ""
            },
            "type": "mesh3d"
           }
          ],
          "parcoords": [
           {
            "line": {
             "colorbar": {
              "outlinewidth": 0,
              "ticks": ""
             }
            },
            "type": "parcoords"
           }
          ],
          "pie": [
           {
            "automargin": true,
            "type": "pie"
           }
          ],
          "scatter": [
           {
            "fillpattern": {
             "fillmode": "overlay",
             "size": 10,
             "solidity": 0.2
            },
            "type": "scatter"
           }
          ],
          "scatter3d": [
           {
            "line": {
             "colorbar": {
              "outlinewidth": 0,
              "ticks": ""
             }
            },
            "marker": {
             "colorbar": {
              "outlinewidth": 0,
              "ticks": ""
             }
            },
            "type": "scatter3d"
           }
          ],
          "scattercarpet": [
           {
            "marker": {
             "colorbar": {
              "outlinewidth": 0,
              "ticks": ""
             }
            },
            "type": "scattercarpet"
           }
          ],
          "scattergeo": [
           {
            "marker": {
             "colorbar": {
              "outlinewidth": 0,
              "ticks": ""
             }
            },
            "type": "scattergeo"
           }
          ],
          "scattergl": [
           {
            "marker": {
             "colorbar": {
              "outlinewidth": 0,
              "ticks": ""
             }
            },
            "type": "scattergl"
           }
          ],
          "scattermapbox": [
           {
            "marker": {
             "colorbar": {
              "outlinewidth": 0,
              "ticks": ""
             }
            },
            "type": "scattermapbox"
           }
          ],
          "scatterpolar": [
           {
            "marker": {
             "colorbar": {
              "outlinewidth": 0,
              "ticks": ""
             }
            },
            "type": "scatterpolar"
           }
          ],
          "scatterpolargl": [
           {
            "marker": {
             "colorbar": {
              "outlinewidth": 0,
              "ticks": ""
             }
            },
            "type": "scatterpolargl"
           }
          ],
          "scatterternary": [
           {
            "marker": {
             "colorbar": {
              "outlinewidth": 0,
              "ticks": ""
             }
            },
            "type": "scatterternary"
           }
          ],
          "surface": [
           {
            "colorbar": {
             "outlinewidth": 0,
             "ticks": ""
            },
            "colorscale": [
             [
              0,
              "#0d0887"
             ],
             [
              0.1111111111111111,
              "#46039f"
             ],
             [
              0.2222222222222222,
              "#7201a8"
             ],
             [
              0.3333333333333333,
              "#9c179e"
             ],
             [
              0.4444444444444444,
              "#bd3786"
             ],
             [
              0.5555555555555556,
              "#d8576b"
             ],
             [
              0.6666666666666666,
              "#ed7953"
             ],
             [
              0.7777777777777778,
              "#fb9f3a"
             ],
             [
              0.8888888888888888,
              "#fdca26"
             ],
             [
              1,
              "#f0f921"
             ]
            ],
            "type": "surface"
           }
          ],
          "table": [
           {
            "cells": {
             "fill": {
              "color": "#EBF0F8"
             },
             "line": {
              "color": "white"
             }
            },
            "header": {
             "fill": {
              "color": "#C8D4E3"
             },
             "line": {
              "color": "white"
             }
            },
            "type": "table"
           }
          ]
         },
         "layout": {
          "annotationdefaults": {
           "arrowcolor": "#2a3f5f",
           "arrowhead": 0,
           "arrowwidth": 1
          },
          "autotypenumbers": "strict",
          "coloraxis": {
           "colorbar": {
            "outlinewidth": 0,
            "ticks": ""
           }
          },
          "colorscale": {
           "diverging": [
            [
             0,
             "#8e0152"
            ],
            [
             0.1,
             "#c51b7d"
            ],
            [
             0.2,
             "#de77ae"
            ],
            [
             0.3,
             "#f1b6da"
            ],
            [
             0.4,
             "#fde0ef"
            ],
            [
             0.5,
             "#f7f7f7"
            ],
            [
             0.6,
             "#e6f5d0"
            ],
            [
             0.7,
             "#b8e186"
            ],
            [
             0.8,
             "#7fbc41"
            ],
            [
             0.9,
             "#4d9221"
            ],
            [
             1,
             "#276419"
            ]
           ],
           "sequential": [
            [
             0,
             "#0d0887"
            ],
            [
             0.1111111111111111,
             "#46039f"
            ],
            [
             0.2222222222222222,
             "#7201a8"
            ],
            [
             0.3333333333333333,
             "#9c179e"
            ],
            [
             0.4444444444444444,
             "#bd3786"
            ],
            [
             0.5555555555555556,
             "#d8576b"
            ],
            [
             0.6666666666666666,
             "#ed7953"
            ],
            [
             0.7777777777777778,
             "#fb9f3a"
            ],
            [
             0.8888888888888888,
             "#fdca26"
            ],
            [
             1,
             "#f0f921"
            ]
           ],
           "sequentialminus": [
            [
             0,
             "#0d0887"
            ],
            [
             0.1111111111111111,
             "#46039f"
            ],
            [
             0.2222222222222222,
             "#7201a8"
            ],
            [
             0.3333333333333333,
             "#9c179e"
            ],
            [
             0.4444444444444444,
             "#bd3786"
            ],
            [
             0.5555555555555556,
             "#d8576b"
            ],
            [
             0.6666666666666666,
             "#ed7953"
            ],
            [
             0.7777777777777778,
             "#fb9f3a"
            ],
            [
             0.8888888888888888,
             "#fdca26"
            ],
            [
             1,
             "#f0f921"
            ]
           ]
          },
          "colorway": [
           "#636efa",
           "#EF553B",
           "#00cc96",
           "#ab63fa",
           "#FFA15A",
           "#19d3f3",
           "#FF6692",
           "#B6E880",
           "#FF97FF",
           "#FECB52"
          ],
          "font": {
           "color": "#2a3f5f"
          },
          "geo": {
           "bgcolor": "white",
           "lakecolor": "white",
           "landcolor": "#E5ECF6",
           "showlakes": true,
           "showland": true,
           "subunitcolor": "white"
          },
          "hoverlabel": {
           "align": "left"
          },
          "hovermode": "closest",
          "mapbox": {
           "style": "light"
          },
          "paper_bgcolor": "white",
          "plot_bgcolor": "#E5ECF6",
          "polar": {
           "angularaxis": {
            "gridcolor": "white",
            "linecolor": "white",
            "ticks": ""
           },
           "bgcolor": "#E5ECF6",
           "radialaxis": {
            "gridcolor": "white",
            "linecolor": "white",
            "ticks": ""
           }
          },
          "scene": {
           "xaxis": {
            "backgroundcolor": "#E5ECF6",
            "gridcolor": "white",
            "gridwidth": 2,
            "linecolor": "white",
            "showbackground": true,
            "ticks": "",
            "zerolinecolor": "white"
           },
           "yaxis": {
            "backgroundcolor": "#E5ECF6",
            "gridcolor": "white",
            "gridwidth": 2,
            "linecolor": "white",
            "showbackground": true,
            "ticks": "",
            "zerolinecolor": "white"
           },
           "zaxis": {
            "backgroundcolor": "#E5ECF6",
            "gridcolor": "white",
            "gridwidth": 2,
            "linecolor": "white",
            "showbackground": true,
            "ticks": "",
            "zerolinecolor": "white"
           }
          },
          "shapedefaults": {
           "line": {
            "color": "#2a3f5f"
           }
          },
          "ternary": {
           "aaxis": {
            "gridcolor": "white",
            "linecolor": "white",
            "ticks": ""
           },
           "baxis": {
            "gridcolor": "white",
            "linecolor": "white",
            "ticks": ""
           },
           "bgcolor": "#E5ECF6",
           "caxis": {
            "gridcolor": "white",
            "linecolor": "white",
            "ticks": ""
           }
          },
          "title": {
           "x": 0.05
          },
          "xaxis": {
           "automargin": true,
           "gridcolor": "white",
           "linecolor": "white",
           "ticks": "",
           "title": {
            "standoff": 15
           },
           "zerolinecolor": "white",
           "zerolinewidth": 2
          },
          "yaxis": {
           "automargin": true,
           "gridcolor": "white",
           "linecolor": "white",
           "ticks": "",
           "title": {
            "standoff": 15
           },
           "zerolinecolor": "white",
           "zerolinewidth": 2
          }
         }
        },
        "xaxis": {
         "anchor": "y",
         "domain": [
          0,
          1
         ],
         "title": {
          "text": "all_motor_vehicles"
         }
        },
        "yaxis": {
         "anchor": "x",
         "domain": [
          0,
          1
         ],
         "title": {
          "text": "count"
         }
        }
       }
      },
      "text/html": [
       "<div>                            <div id=\"2af2ce5d-3f67-4436-8250-04c786207642\" class=\"plotly-graph-div\" style=\"height:525px; width:100%;\"></div>            <script type=\"text/javascript\">                require([\"plotly\"], function(Plotly) {                    window.PLOTLYENV=window.PLOTLYENV || {};                                    if (document.getElementById(\"2af2ce5d-3f67-4436-8250-04c786207642\")) {                    Plotly.newPlot(                        \"2af2ce5d-3f67-4436-8250-04c786207642\",                        [{\"alignmentgroup\":\"True\",\"bingroup\":\"x\",\"hovertemplate\":\"all_motor_vehicles=%{x}<br>count=%{y}<extra></extra>\",\"legendgroup\":\"\",\"marker\":{\"color\":\"#636efa\",\"pattern\":{\"shape\":\"\"}},\"name\":\"\",\"offsetgroup\":\"\",\"orientation\":\"v\",\"showlegend\":false,\"x\":[47275,47643,47427,47876,33492,30011,42470,155567,47035,50126,47222,48954,48318,48707,34256,30670,47283,50372,39755,159033,38494,38778,37757,37970,46432,45957,48830,50642,48690,52932,40460,33542,28659,52954,46463,151801,115681,41436,42799,45552,46635,24444,23091,23064,23143,50639,46860,48024,25347,13316,12194,24648,23272,47513,44746,59482,57405,23247,23326,46845,50049,51238,41602,49007,60384,58378,51501,43482,47711,48588,13505,12374,48285,49977,24956,23573,23562,23661,36066,40156,48744,41013,41463,45952,46031,24586,23221,48758,45286,23224,23326,47689,49320,44227,13323,12208,40457,40908,56733,54473,44911,57279,54940,45553,45613,47545,42851,24233,22923,48164,51484,11143,11508,22945,23064,36518,40652,34543,36900,45918,43568,45921,49410,42166,40960,43173,43287,147618,32104,28748,43261,43007,32811,29385,46717,47596,46044,49102,44100,45209,45926,36233,37374,42733,44098,48591,45983,32540,29117,38672,38003,145215,43039,38049,37350,36929,38110,49852,48075,32004,28603,45728,42746,52138,47969,30184,25730,40639,46873,53044,46582,45660,48685,52930,41859,45886,26914,27629,146292,43154,41708,43126,48213,141824,33542,28632,37321,39820,45596,43071,39537,37239,38966,151628,48591,52747,47118,46193,31791,27954,50273,54395,40634,150331,21982,19246,45032,47307,37668,29938,27621,39591,41024,44388,44743,128229],\"xaxis\":\"x\",\"yaxis\":\"y\",\"type\":\"histogram\"}],                        {\"template\":{\"data\":{\"histogram2dcontour\":[{\"type\":\"histogram2dcontour\",\"colorbar\":{\"outlinewidth\":0,\"ticks\":\"\"},\"colorscale\":[[0.0,\"#0d0887\"],[0.1111111111111111,\"#46039f\"],[0.2222222222222222,\"#7201a8\"],[0.3333333333333333,\"#9c179e\"],[0.4444444444444444,\"#bd3786\"],[0.5555555555555556,\"#d8576b\"],[0.6666666666666666,\"#ed7953\"],[0.7777777777777778,\"#fb9f3a\"],[0.8888888888888888,\"#fdca26\"],[1.0,\"#f0f921\"]]}],\"choropleth\":[{\"type\":\"choropleth\",\"colorbar\":{\"outlinewidth\":0,\"ticks\":\"\"}}],\"histogram2d\":[{\"type\":\"histogram2d\",\"colorbar\":{\"outlinewidth\":0,\"ticks\":\"\"},\"colorscale\":[[0.0,\"#0d0887\"],[0.1111111111111111,\"#46039f\"],[0.2222222222222222,\"#7201a8\"],[0.3333333333333333,\"#9c179e\"],[0.4444444444444444,\"#bd3786\"],[0.5555555555555556,\"#d8576b\"],[0.6666666666666666,\"#ed7953\"],[0.7777777777777778,\"#fb9f3a\"],[0.8888888888888888,\"#fdca26\"],[1.0,\"#f0f921\"]]}],\"heatmap\":[{\"type\":\"heatmap\",\"colorbar\":{\"outlinewidth\":0,\"ticks\":\"\"},\"colorscale\":[[0.0,\"#0d0887\"],[0.1111111111111111,\"#46039f\"],[0.2222222222222222,\"#7201a8\"],[0.3333333333333333,\"#9c179e\"],[0.4444444444444444,\"#bd3786\"],[0.5555555555555556,\"#d8576b\"],[0.6666666666666666,\"#ed7953\"],[0.7777777777777778,\"#fb9f3a\"],[0.8888888888888888,\"#fdca26\"],[1.0,\"#f0f921\"]]}],\"heatmapgl\":[{\"type\":\"heatmapgl\",\"colorbar\":{\"outlinewidth\":0,\"ticks\":\"\"},\"colorscale\":[[0.0,\"#0d0887\"],[0.1111111111111111,\"#46039f\"],[0.2222222222222222,\"#7201a8\"],[0.3333333333333333,\"#9c179e\"],[0.4444444444444444,\"#bd3786\"],[0.5555555555555556,\"#d8576b\"],[0.6666666666666666,\"#ed7953\"],[0.7777777777777778,\"#fb9f3a\"],[0.8888888888888888,\"#fdca26\"],[1.0,\"#f0f921\"]]}],\"contourcarpet\":[{\"type\":\"contourcarpet\",\"colorbar\":{\"outlinewidth\":0,\"ticks\":\"\"}}],\"contour\":[{\"type\":\"contour\",\"colorbar\":{\"outlinewidth\":0,\"ticks\":\"\"},\"colorscale\":[[0.0,\"#0d0887\"],[0.1111111111111111,\"#46039f\"],[0.2222222222222222,\"#7201a8\"],[0.3333333333333333,\"#9c179e\"],[0.4444444444444444,\"#bd3786\"],[0.5555555555555556,\"#d8576b\"],[0.6666666666666666,\"#ed7953\"],[0.7777777777777778,\"#fb9f3a\"],[0.8888888888888888,\"#fdca26\"],[1.0,\"#f0f921\"]]}],\"surface\":[{\"type\":\"surface\",\"colorbar\":{\"outlinewidth\":0,\"ticks\":\"\"},\"colorscale\":[[0.0,\"#0d0887\"],[0.1111111111111111,\"#46039f\"],[0.2222222222222222,\"#7201a8\"],[0.3333333333333333,\"#9c179e\"],[0.4444444444444444,\"#bd3786\"],[0.5555555555555556,\"#d8576b\"],[0.6666666666666666,\"#ed7953\"],[0.7777777777777778,\"#fb9f3a\"],[0.8888888888888888,\"#fdca26\"],[1.0,\"#f0f921\"]]}],\"mesh3d\":[{\"type\":\"mesh3d\",\"colorbar\":{\"outlinewidth\":0,\"ticks\":\"\"}}],\"scatter\":[{\"fillpattern\":{\"fillmode\":\"overlay\",\"size\":10,\"solidity\":0.2},\"type\":\"scatter\"}],\"parcoords\":[{\"type\":\"parcoords\",\"line\":{\"colorbar\":{\"outlinewidth\":0,\"ticks\":\"\"}}}],\"scatterpolargl\":[{\"type\":\"scatterpolargl\",\"marker\":{\"colorbar\":{\"outlinewidth\":0,\"ticks\":\"\"}}}],\"bar\":[{\"error_x\":{\"color\":\"#2a3f5f\"},\"error_y\":{\"color\":\"#2a3f5f\"},\"marker\":{\"line\":{\"color\":\"#E5ECF6\",\"width\":0.5},\"pattern\":{\"fillmode\":\"overlay\",\"size\":10,\"solidity\":0.2}},\"type\":\"bar\"}],\"scattergeo\":[{\"type\":\"scattergeo\",\"marker\":{\"colorbar\":{\"outlinewidth\":0,\"ticks\":\"\"}}}],\"scatterpolar\":[{\"type\":\"scatterpolar\",\"marker\":{\"colorbar\":{\"outlinewidth\":0,\"ticks\":\"\"}}}],\"histogram\":[{\"marker\":{\"pattern\":{\"fillmode\":\"overlay\",\"size\":10,\"solidity\":0.2}},\"type\":\"histogram\"}],\"scattergl\":[{\"type\":\"scattergl\",\"marker\":{\"colorbar\":{\"outlinewidth\":0,\"ticks\":\"\"}}}],\"scatter3d\":[{\"type\":\"scatter3d\",\"line\":{\"colorbar\":{\"outlinewidth\":0,\"ticks\":\"\"}},\"marker\":{\"colorbar\":{\"outlinewidth\":0,\"ticks\":\"\"}}}],\"scattermapbox\":[{\"type\":\"scattermapbox\",\"marker\":{\"colorbar\":{\"outlinewidth\":0,\"ticks\":\"\"}}}],\"scatterternary\":[{\"type\":\"scatterternary\",\"marker\":{\"colorbar\":{\"outlinewidth\":0,\"ticks\":\"\"}}}],\"scattercarpet\":[{\"type\":\"scattercarpet\",\"marker\":{\"colorbar\":{\"outlinewidth\":0,\"ticks\":\"\"}}}],\"carpet\":[{\"aaxis\":{\"endlinecolor\":\"#2a3f5f\",\"gridcolor\":\"white\",\"linecolor\":\"white\",\"minorgridcolor\":\"white\",\"startlinecolor\":\"#2a3f5f\"},\"baxis\":{\"endlinecolor\":\"#2a3f5f\",\"gridcolor\":\"white\",\"linecolor\":\"white\",\"minorgridcolor\":\"white\",\"startlinecolor\":\"#2a3f5f\"},\"type\":\"carpet\"}],\"table\":[{\"cells\":{\"fill\":{\"color\":\"#EBF0F8\"},\"line\":{\"color\":\"white\"}},\"header\":{\"fill\":{\"color\":\"#C8D4E3\"},\"line\":{\"color\":\"white\"}},\"type\":\"table\"}],\"barpolar\":[{\"marker\":{\"line\":{\"color\":\"#E5ECF6\",\"width\":0.5},\"pattern\":{\"fillmode\":\"overlay\",\"size\":10,\"solidity\":0.2}},\"type\":\"barpolar\"}],\"pie\":[{\"automargin\":true,\"type\":\"pie\"}]},\"layout\":{\"autotypenumbers\":\"strict\",\"colorway\":[\"#636efa\",\"#EF553B\",\"#00cc96\",\"#ab63fa\",\"#FFA15A\",\"#19d3f3\",\"#FF6692\",\"#B6E880\",\"#FF97FF\",\"#FECB52\"],\"font\":{\"color\":\"#2a3f5f\"},\"hovermode\":\"closest\",\"hoverlabel\":{\"align\":\"left\"},\"paper_bgcolor\":\"white\",\"plot_bgcolor\":\"#E5ECF6\",\"polar\":{\"bgcolor\":\"#E5ECF6\",\"angularaxis\":{\"gridcolor\":\"white\",\"linecolor\":\"white\",\"ticks\":\"\"},\"radialaxis\":{\"gridcolor\":\"white\",\"linecolor\":\"white\",\"ticks\":\"\"}},\"ternary\":{\"bgcolor\":\"#E5ECF6\",\"aaxis\":{\"gridcolor\":\"white\",\"linecolor\":\"white\",\"ticks\":\"\"},\"baxis\":{\"gridcolor\":\"white\",\"linecolor\":\"white\",\"ticks\":\"\"},\"caxis\":{\"gridcolor\":\"white\",\"linecolor\":\"white\",\"ticks\":\"\"}},\"coloraxis\":{\"colorbar\":{\"outlinewidth\":0,\"ticks\":\"\"}},\"colorscale\":{\"sequential\":[[0.0,\"#0d0887\"],[0.1111111111111111,\"#46039f\"],[0.2222222222222222,\"#7201a8\"],[0.3333333333333333,\"#9c179e\"],[0.4444444444444444,\"#bd3786\"],[0.5555555555555556,\"#d8576b\"],[0.6666666666666666,\"#ed7953\"],[0.7777777777777778,\"#fb9f3a\"],[0.8888888888888888,\"#fdca26\"],[1.0,\"#f0f921\"]],\"sequentialminus\":[[0.0,\"#0d0887\"],[0.1111111111111111,\"#46039f\"],[0.2222222222222222,\"#7201a8\"],[0.3333333333333333,\"#9c179e\"],[0.4444444444444444,\"#bd3786\"],[0.5555555555555556,\"#d8576b\"],[0.6666666666666666,\"#ed7953\"],[0.7777777777777778,\"#fb9f3a\"],[0.8888888888888888,\"#fdca26\"],[1.0,\"#f0f921\"]],\"diverging\":[[0,\"#8e0152\"],[0.1,\"#c51b7d\"],[0.2,\"#de77ae\"],[0.3,\"#f1b6da\"],[0.4,\"#fde0ef\"],[0.5,\"#f7f7f7\"],[0.6,\"#e6f5d0\"],[0.7,\"#b8e186\"],[0.8,\"#7fbc41\"],[0.9,\"#4d9221\"],[1,\"#276419\"]]},\"xaxis\":{\"gridcolor\":\"white\",\"linecolor\":\"white\",\"ticks\":\"\",\"title\":{\"standoff\":15},\"zerolinecolor\":\"white\",\"automargin\":true,\"zerolinewidth\":2},\"yaxis\":{\"gridcolor\":\"white\",\"linecolor\":\"white\",\"ticks\":\"\",\"title\":{\"standoff\":15},\"zerolinecolor\":\"white\",\"automargin\":true,\"zerolinewidth\":2},\"scene\":{\"xaxis\":{\"backgroundcolor\":\"#E5ECF6\",\"gridcolor\":\"white\",\"linecolor\":\"white\",\"showbackground\":true,\"ticks\":\"\",\"zerolinecolor\":\"white\",\"gridwidth\":2},\"yaxis\":{\"backgroundcolor\":\"#E5ECF6\",\"gridcolor\":\"white\",\"linecolor\":\"white\",\"showbackground\":true,\"ticks\":\"\",\"zerolinecolor\":\"white\",\"gridwidth\":2},\"zaxis\":{\"backgroundcolor\":\"#E5ECF6\",\"gridcolor\":\"white\",\"linecolor\":\"white\",\"showbackground\":true,\"ticks\":\"\",\"zerolinecolor\":\"white\",\"gridwidth\":2}},\"shapedefaults\":{\"line\":{\"color\":\"#2a3f5f\"}},\"annotationdefaults\":{\"arrowcolor\":\"#2a3f5f\",\"arrowhead\":0,\"arrowwidth\":1},\"geo\":{\"bgcolor\":\"white\",\"landcolor\":\"#E5ECF6\",\"subunitcolor\":\"white\",\"showland\":true,\"showlakes\":true,\"lakecolor\":\"white\"},\"title\":{\"x\":0.05},\"mapbox\":{\"style\":\"light\"}}},\"xaxis\":{\"anchor\":\"y\",\"domain\":[0.0,1.0],\"title\":{\"text\":\"all_motor_vehicles\"}},\"yaxis\":{\"anchor\":\"x\",\"domain\":[0.0,1.0],\"title\":{\"text\":\"count\"}},\"legend\":{\"tracegroupgap\":0},\"margin\":{\"t\":60},\"barmode\":\"relative\"},                        {\"responsive\": true}                    ).then(function(){\n",
       "                            \n",
       "var gd = document.getElementById('2af2ce5d-3f67-4436-8250-04c786207642');\n",
       "var x = new MutationObserver(function (mutations, observer) {{\n",
       "        var display = window.getComputedStyle(gd).display;\n",
       "        if (!display || display === 'none') {{\n",
       "            console.log([gd, 'removed!']);\n",
       "            Plotly.purge(gd);\n",
       "            observer.disconnect();\n",
       "        }}\n",
       "}});\n",
       "\n",
       "// Listen for the removal of the full notebook cells\n",
       "var notebookContainer = gd.closest('#notebook-container');\n",
       "if (notebookContainer) {{\n",
       "    x.observe(notebookContainer, {childList: true});\n",
       "}}\n",
       "\n",
       "// Listen for the clearing of the current output cell\n",
       "var outputEl = gd.closest('.output');\n",
       "if (outputEl) {{\n",
       "    x.observe(outputEl, {childList: true});\n",
       "}}\n",
       "\n",
       "                        })                };                });            </script>        </div>"
      ]
     },
     "metadata": {},
     "output_type": "display_data"
    }
   ],
   "source": [
    "for df in df_aadt_list:\n",
    "    fig = px.histogram(df, x=\"all_motor_vehicles\")\n",
    "    \n",
    "fig.show()"
   ]
  },
  {
   "attachments": {},
   "cell_type": "markdown",
   "metadata": {},
   "source": [
    "### Groupby year and/or count point id"
   ]
  },
  {
   "cell_type": "code",
   "execution_count": 282,
   "metadata": {},
   "outputs": [
    {
     "name": "stderr",
     "output_type": "stream",
     "text": [
      "/tmp/ipykernel_336/3907059650.py:9: FutureWarning:\n",
      "\n",
      "The default value of numeric_only in DataFrameGroupBy.median is deprecated. In a future version, numeric_only will default to False. Either specify numeric_only or select only columns which should be valid for the function.\n",
      "\n",
      "/tmp/ipykernel_336/3907059650.py:9: FutureWarning:\n",
      "\n",
      "The default value of numeric_only in DataFrameGroupBy.median is deprecated. In a future version, numeric_only will default to False. Either specify numeric_only or select only columns which should be valid for the function.\n",
      "\n",
      "/tmp/ipykernel_336/3907059650.py:9: FutureWarning:\n",
      "\n",
      "The default value of numeric_only in DataFrameGroupBy.median is deprecated. In a future version, numeric_only will default to False. Either specify numeric_only or select only columns which should be valid for the function.\n",
      "\n",
      "/tmp/ipykernel_336/3907059650.py:9: FutureWarning:\n",
      "\n",
      "The default value of numeric_only in DataFrameGroupBy.median is deprecated. In a future version, numeric_only will default to False. Either specify numeric_only or select only columns which should be valid for the function.\n",
      "\n",
      "/tmp/ipykernel_336/3907059650.py:9: FutureWarning:\n",
      "\n",
      "The default value of numeric_only in DataFrameGroupBy.median is deprecated. In a future version, numeric_only will default to False. Either specify numeric_only or select only columns which should be valid for the function.\n",
      "\n",
      "/tmp/ipykernel_336/3907059650.py:9: FutureWarning:\n",
      "\n",
      "The default value of numeric_only in DataFrameGroupBy.median is deprecated. In a future version, numeric_only will default to False. Either specify numeric_only or select only columns which should be valid for the function.\n",
      "\n",
      "/tmp/ipykernel_336/3907059650.py:9: FutureWarning:\n",
      "\n",
      "The default value of numeric_only in DataFrameGroupBy.median is deprecated. In a future version, numeric_only will default to False. Either specify numeric_only or select only columns which should be valid for the function.\n",
      "\n",
      "/tmp/ipykernel_336/3907059650.py:9: FutureWarning:\n",
      "\n",
      "The default value of numeric_only in DataFrameGroupBy.median is deprecated. In a future version, numeric_only will default to False. Either specify numeric_only or select only columns which should be valid for the function.\n",
      "\n",
      "/tmp/ipykernel_336/3907059650.py:9: FutureWarning:\n",
      "\n",
      "The default value of numeric_only in DataFrameGroupBy.median is deprecated. In a future version, numeric_only will default to False. Either specify numeric_only or select only columns which should be valid for the function.\n",
      "\n",
      "/tmp/ipykernel_336/3907059650.py:9: FutureWarning:\n",
      "\n",
      "The default value of numeric_only in DataFrameGroupBy.median is deprecated. In a future version, numeric_only will default to False. Either specify numeric_only or select only columns which should be valid for the function.\n",
      "\n",
      "/tmp/ipykernel_336/3907059650.py:9: FutureWarning:\n",
      "\n",
      "The default value of numeric_only in DataFrameGroupBy.median is deprecated. In a future version, numeric_only will default to False. Either specify numeric_only or select only columns which should be valid for the function.\n",
      "\n",
      "/tmp/ipykernel_336/3907059650.py:9: FutureWarning:\n",
      "\n",
      "The default value of numeric_only in DataFrameGroupBy.median is deprecated. In a future version, numeric_only will default to False. Either specify numeric_only or select only columns which should be valid for the function.\n",
      "\n",
      "/tmp/ipykernel_336/3907059650.py:9: FutureWarning:\n",
      "\n",
      "The default value of numeric_only in DataFrameGroupBy.median is deprecated. In a future version, numeric_only will default to False. Either specify numeric_only or select only columns which should be valid for the function.\n",
      "\n",
      "/tmp/ipykernel_336/3907059650.py:9: FutureWarning:\n",
      "\n",
      "The default value of numeric_only in DataFrameGroupBy.median is deprecated. In a future version, numeric_only will default to False. Either specify numeric_only or select only columns which should be valid for the function.\n",
      "\n",
      "/tmp/ipykernel_336/3907059650.py:9: FutureWarning:\n",
      "\n",
      "The default value of numeric_only in DataFrameGroupBy.median is deprecated. In a future version, numeric_only will default to False. Either specify numeric_only or select only columns which should be valid for the function.\n",
      "\n",
      "/tmp/ipykernel_336/3907059650.py:9: FutureWarning:\n",
      "\n",
      "The default value of numeric_only in DataFrameGroupBy.median is deprecated. In a future version, numeric_only will default to False. Either specify numeric_only or select only columns which should be valid for the function.\n",
      "\n",
      "/tmp/ipykernel_336/3907059650.py:9: FutureWarning:\n",
      "\n",
      "The default value of numeric_only in DataFrameGroupBy.median is deprecated. In a future version, numeric_only will default to False. Either specify numeric_only or select only columns which should be valid for the function.\n",
      "\n",
      "/tmp/ipykernel_336/3907059650.py:9: FutureWarning:\n",
      "\n",
      "The default value of numeric_only in DataFrameGroupBy.median is deprecated. In a future version, numeric_only will default to False. Either specify numeric_only or select only columns which should be valid for the function.\n",
      "\n"
     ]
    },
    {
     "data": {
      "text/html": [
       "<div>\n",
       "<style scoped>\n",
       "    .dataframe tbody tr th:only-of-type {\n",
       "        vertical-align: middle;\n",
       "    }\n",
       "\n",
       "    .dataframe tbody tr th {\n",
       "        vertical-align: top;\n",
       "    }\n",
       "\n",
       "    .dataframe thead th {\n",
       "        text-align: right;\n",
       "    }\n",
       "</style>\n",
       "<table border=\"1\" class=\"dataframe\">\n",
       "  <thead>\n",
       "    <tr style=\"text-align: right;\">\n",
       "      <th></th>\n",
       "      <th>year</th>\n",
       "      <th>count_point_id</th>\n",
       "      <th>local_authority_id</th>\n",
       "      <th>latitude</th>\n",
       "      <th>longitude</th>\n",
       "      <th>link_length_km</th>\n",
       "      <th>all_motor_vehicles</th>\n",
       "      <th>Calendar Year</th>\n",
       "      <th>Local Authority</th>\n",
       "    </tr>\n",
       "  </thead>\n",
       "  <tbody>\n",
       "    <tr>\n",
       "      <th>0</th>\n",
       "      <td>2005</td>\n",
       "      <td>73040.5</td>\n",
       "      <td>120.0</td>\n",
       "      <td>51.896391</td>\n",
       "      <td>-0.472174</td>\n",
       "      <td>1.3</td>\n",
       "      <td>57600.0</td>\n",
       "      <td>2005</td>\n",
       "      <td>Luton</td>\n",
       "    </tr>\n",
       "    <tr>\n",
       "      <th>1</th>\n",
       "      <td>2006</td>\n",
       "      <td>73040.5</td>\n",
       "      <td>120.0</td>\n",
       "      <td>51.896391</td>\n",
       "      <td>-0.472174</td>\n",
       "      <td>1.3</td>\n",
       "      <td>48583.5</td>\n",
       "      <td>2006</td>\n",
       "      <td>Luton</td>\n",
       "    </tr>\n",
       "    <tr>\n",
       "      <th>2</th>\n",
       "      <td>2007</td>\n",
       "      <td>73040.5</td>\n",
       "      <td>120.0</td>\n",
       "      <td>51.896391</td>\n",
       "      <td>-0.472174</td>\n",
       "      <td>1.3</td>\n",
       "      <td>50652.5</td>\n",
       "      <td>2007</td>\n",
       "      <td>Luton</td>\n",
       "    </tr>\n",
       "    <tr>\n",
       "      <th>3</th>\n",
       "      <td>2008</td>\n",
       "      <td>73040.5</td>\n",
       "      <td>120.0</td>\n",
       "      <td>51.896391</td>\n",
       "      <td>-0.472174</td>\n",
       "      <td>1.3</td>\n",
       "      <td>53492.5</td>\n",
       "      <td>2008</td>\n",
       "      <td>Luton</td>\n",
       "    </tr>\n",
       "    <tr>\n",
       "      <th>4</th>\n",
       "      <td>2009</td>\n",
       "      <td>73040.5</td>\n",
       "      <td>120.0</td>\n",
       "      <td>51.896391</td>\n",
       "      <td>-0.472174</td>\n",
       "      <td>1.3</td>\n",
       "      <td>49612.5</td>\n",
       "      <td>2009</td>\n",
       "      <td>Luton</td>\n",
       "    </tr>\n",
       "    <tr>\n",
       "      <th>5</th>\n",
       "      <td>2010</td>\n",
       "      <td>73040.5</td>\n",
       "      <td>120.0</td>\n",
       "      <td>51.896391</td>\n",
       "      <td>-0.472174</td>\n",
       "      <td>1.3</td>\n",
       "      <td>54367.0</td>\n",
       "      <td>2010</td>\n",
       "      <td>Luton</td>\n",
       "    </tr>\n",
       "    <tr>\n",
       "      <th>6</th>\n",
       "      <td>2011</td>\n",
       "      <td>73040.5</td>\n",
       "      <td>120.0</td>\n",
       "      <td>51.896391</td>\n",
       "      <td>-0.472174</td>\n",
       "      <td>1.3</td>\n",
       "      <td>54802.5</td>\n",
       "      <td>2011</td>\n",
       "      <td>Luton</td>\n",
       "    </tr>\n",
       "    <tr>\n",
       "      <th>7</th>\n",
       "      <td>2012</td>\n",
       "      <td>73040.5</td>\n",
       "      <td>120.0</td>\n",
       "      <td>51.896391</td>\n",
       "      <td>-0.472174</td>\n",
       "      <td>1.3</td>\n",
       "      <td>56972.5</td>\n",
       "      <td>2012</td>\n",
       "      <td>Luton</td>\n",
       "    </tr>\n",
       "    <tr>\n",
       "      <th>8</th>\n",
       "      <td>2013</td>\n",
       "      <td>73040.5</td>\n",
       "      <td>120.0</td>\n",
       "      <td>51.896391</td>\n",
       "      <td>-0.472174</td>\n",
       "      <td>1.3</td>\n",
       "      <td>61684.0</td>\n",
       "      <td>2013</td>\n",
       "      <td>Luton</td>\n",
       "    </tr>\n",
       "    <tr>\n",
       "      <th>9</th>\n",
       "      <td>2014</td>\n",
       "      <td>73040.5</td>\n",
       "      <td>120.0</td>\n",
       "      <td>51.896391</td>\n",
       "      <td>-0.472174</td>\n",
       "      <td>1.3</td>\n",
       "      <td>62781.0</td>\n",
       "      <td>2014</td>\n",
       "      <td>Luton</td>\n",
       "    </tr>\n",
       "    <tr>\n",
       "      <th>10</th>\n",
       "      <td>2015</td>\n",
       "      <td>73040.5</td>\n",
       "      <td>120.0</td>\n",
       "      <td>51.896391</td>\n",
       "      <td>-0.472174</td>\n",
       "      <td>1.3</td>\n",
       "      <td>64218.0</td>\n",
       "      <td>2015</td>\n",
       "      <td>Luton</td>\n",
       "    </tr>\n",
       "    <tr>\n",
       "      <th>11</th>\n",
       "      <td>2016</td>\n",
       "      <td>73040.5</td>\n",
       "      <td>120.0</td>\n",
       "      <td>51.896391</td>\n",
       "      <td>-0.472174</td>\n",
       "      <td>1.3</td>\n",
       "      <td>65315.5</td>\n",
       "      <td>2016</td>\n",
       "      <td>Luton</td>\n",
       "    </tr>\n",
       "    <tr>\n",
       "      <th>12</th>\n",
       "      <td>2017</td>\n",
       "      <td>73040.5</td>\n",
       "      <td>120.0</td>\n",
       "      <td>51.896391</td>\n",
       "      <td>-0.472174</td>\n",
       "      <td>1.3</td>\n",
       "      <td>67952.0</td>\n",
       "      <td>2017</td>\n",
       "      <td>Luton</td>\n",
       "    </tr>\n",
       "    <tr>\n",
       "      <th>13</th>\n",
       "      <td>2018</td>\n",
       "      <td>73040.5</td>\n",
       "      <td>120.0</td>\n",
       "      <td>51.896389</td>\n",
       "      <td>-0.472174</td>\n",
       "      <td>1.3</td>\n",
       "      <td>70355.0</td>\n",
       "      <td>2018</td>\n",
       "      <td>Luton</td>\n",
       "    </tr>\n",
       "    <tr>\n",
       "      <th>14</th>\n",
       "      <td>2019</td>\n",
       "      <td>73040.5</td>\n",
       "      <td>120.0</td>\n",
       "      <td>51.896389</td>\n",
       "      <td>-0.472174</td>\n",
       "      <td>1.3</td>\n",
       "      <td>74481.5</td>\n",
       "      <td>2019</td>\n",
       "      <td>Luton</td>\n",
       "    </tr>\n",
       "    <tr>\n",
       "      <th>15</th>\n",
       "      <td>2020</td>\n",
       "      <td>73040.5</td>\n",
       "      <td>120.0</td>\n",
       "      <td>51.896389</td>\n",
       "      <td>-0.472174</td>\n",
       "      <td>1.3</td>\n",
       "      <td>58868.5</td>\n",
       "      <td>2020</td>\n",
       "      <td>Luton</td>\n",
       "    </tr>\n",
       "  </tbody>\n",
       "</table>\n",
       "</div>"
      ],
      "text/plain": [
       "    year  count_point_id  local_authority_id   latitude  longitude  \\\n",
       "0   2005         73040.5               120.0  51.896391  -0.472174   \n",
       "1   2006         73040.5               120.0  51.896391  -0.472174   \n",
       "2   2007         73040.5               120.0  51.896391  -0.472174   \n",
       "3   2008         73040.5               120.0  51.896391  -0.472174   \n",
       "4   2009         73040.5               120.0  51.896391  -0.472174   \n",
       "5   2010         73040.5               120.0  51.896391  -0.472174   \n",
       "6   2011         73040.5               120.0  51.896391  -0.472174   \n",
       "7   2012         73040.5               120.0  51.896391  -0.472174   \n",
       "8   2013         73040.5               120.0  51.896391  -0.472174   \n",
       "9   2014         73040.5               120.0  51.896391  -0.472174   \n",
       "10  2015         73040.5               120.0  51.896391  -0.472174   \n",
       "11  2016         73040.5               120.0  51.896391  -0.472174   \n",
       "12  2017         73040.5               120.0  51.896391  -0.472174   \n",
       "13  2018         73040.5               120.0  51.896389  -0.472174   \n",
       "14  2019         73040.5               120.0  51.896389  -0.472174   \n",
       "15  2020         73040.5               120.0  51.896389  -0.472174   \n",
       "\n",
       "    link_length_km  all_motor_vehicles  Calendar Year Local Authority  \n",
       "0              1.3             57600.0           2005           Luton  \n",
       "1              1.3             48583.5           2006           Luton  \n",
       "2              1.3             50652.5           2007           Luton  \n",
       "3              1.3             53492.5           2008           Luton  \n",
       "4              1.3             49612.5           2009           Luton  \n",
       "5              1.3             54367.0           2010           Luton  \n",
       "6              1.3             54802.5           2011           Luton  \n",
       "7              1.3             56972.5           2012           Luton  \n",
       "8              1.3             61684.0           2013           Luton  \n",
       "9              1.3             62781.0           2014           Luton  \n",
       "10             1.3             64218.0           2015           Luton  \n",
       "11             1.3             65315.5           2016           Luton  \n",
       "12             1.3             67952.0           2017           Luton  \n",
       "13             1.3             70355.0           2018           Luton  \n",
       "14             1.3             74481.5           2019           Luton  \n",
       "15             1.3             58868.5           2020           Luton  "
      ]
     },
     "execution_count": 282,
     "metadata": {},
     "output_type": "execute_result"
    }
   ],
   "source": [
    "grouped_df_aadt_list = group_aadt_list(df_aadt_list)\n",
    "\n",
    "grouped_df_aadt_list[0]"
   ]
  },
  {
   "attachments": {},
   "cell_type": "markdown",
   "metadata": {},
   "source": [
    "## GHG Emissions Data Loading and Pre-Processing"
   ]
  },
  {
   "cell_type": "code",
   "execution_count": 283,
   "metadata": {},
   "outputs": [
    {
     "data": {
      "text/html": [
       "<div>\n",
       "<style scoped>\n",
       "    .dataframe tbody tr th:only-of-type {\n",
       "        vertical-align: middle;\n",
       "    }\n",
       "\n",
       "    .dataframe tbody tr th {\n",
       "        vertical-align: top;\n",
       "    }\n",
       "\n",
       "    .dataframe thead th {\n",
       "        text-align: right;\n",
       "    }\n",
       "</style>\n",
       "<table border=\"1\" class=\"dataframe\">\n",
       "  <thead>\n",
       "    <tr style=\"text-align: right;\">\n",
       "      <th></th>\n",
       "      <th>Local Authority</th>\n",
       "      <th>Calendar Year</th>\n",
       "      <th>Annual Territorial emissions (kt CO2e)</th>\n",
       "    </tr>\n",
       "  </thead>\n",
       "  <tbody>\n",
       "    <tr>\n",
       "      <th>32</th>\n",
       "      <td>Barnet</td>\n",
       "      <td>2005</td>\n",
       "      <td>53.988609</td>\n",
       "    </tr>\n",
       "    <tr>\n",
       "      <th>33</th>\n",
       "      <td>Barnet</td>\n",
       "      <td>2006</td>\n",
       "      <td>56.822203</td>\n",
       "    </tr>\n",
       "    <tr>\n",
       "      <th>34</th>\n",
       "      <td>Barnet</td>\n",
       "      <td>2007</td>\n",
       "      <td>53.186986</td>\n",
       "    </tr>\n",
       "    <tr>\n",
       "      <th>35</th>\n",
       "      <td>Barnet</td>\n",
       "      <td>2008</td>\n",
       "      <td>59.597040</td>\n",
       "    </tr>\n",
       "    <tr>\n",
       "      <th>36</th>\n",
       "      <td>Barnet</td>\n",
       "      <td>2009</td>\n",
       "      <td>57.067457</td>\n",
       "    </tr>\n",
       "    <tr>\n",
       "      <th>...</th>\n",
       "      <td>...</td>\n",
       "      <td>...</td>\n",
       "      <td>...</td>\n",
       "    </tr>\n",
       "    <tr>\n",
       "      <th>2787</th>\n",
       "      <td>Worcester</td>\n",
       "      <td>2016</td>\n",
       "      <td>1.644139</td>\n",
       "    </tr>\n",
       "    <tr>\n",
       "      <th>2788</th>\n",
       "      <td>Worcester</td>\n",
       "      <td>2017</td>\n",
       "      <td>1.541270</td>\n",
       "    </tr>\n",
       "    <tr>\n",
       "      <th>2789</th>\n",
       "      <td>Worcester</td>\n",
       "      <td>2018</td>\n",
       "      <td>1.487991</td>\n",
       "    </tr>\n",
       "    <tr>\n",
       "      <th>2790</th>\n",
       "      <td>Worcester</td>\n",
       "      <td>2019</td>\n",
       "      <td>1.476269</td>\n",
       "    </tr>\n",
       "    <tr>\n",
       "      <th>2791</th>\n",
       "      <td>Worcester</td>\n",
       "      <td>2020</td>\n",
       "      <td>1.186462</td>\n",
       "    </tr>\n",
       "  </tbody>\n",
       "</table>\n",
       "<p>416 rows × 3 columns</p>\n",
       "</div>"
      ],
      "text/plain": [
       "     Local Authority  Calendar Year  Annual Territorial emissions (kt CO2e)\n",
       "32            Barnet           2005                               53.988609\n",
       "33            Barnet           2006                               56.822203\n",
       "34            Barnet           2007                               53.186986\n",
       "35            Barnet           2008                               59.597040\n",
       "36            Barnet           2009                               57.067457\n",
       "...              ...            ...                                     ...\n",
       "2787       Worcester           2016                                1.644139\n",
       "2788       Worcester           2017                                1.541270\n",
       "2789       Worcester           2018                                1.487991\n",
       "2790       Worcester           2019                                1.476269\n",
       "2791       Worcester           2020                                1.186462\n",
       "\n",
       "[416 rows x 3 columns]"
      ]
     },
     "execution_count": 283,
     "metadata": {},
     "output_type": "execute_result"
    }
   ],
   "source": [
    "df_ghg = pd.read_csv(GHG_PROCESSED_PATH, index_col=0)\n",
    "\n",
    "df_ghg"
   ]
  },
  {
   "cell_type": "code",
   "execution_count": 284,
   "metadata": {},
   "outputs": [
    {
     "name": "stderr",
     "output_type": "stream",
     "text": [
      "/tmp/ipykernel_336/4016481199.py:3: FutureWarning:\n",
      "\n",
      "In a future version of pandas, a length 1 tuple will be returned when iterating over a groupby with a grouper equal to a list of length 1. Don't supply a list with a single grouper to avoid this warning.\n",
      "\n"
     ]
    },
    {
     "data": {
      "text/plain": [
       "18"
      ]
     },
     "execution_count": 284,
     "metadata": {},
     "output_type": "execute_result"
    }
   ],
   "source": [
    "df_ghg = df_ghg[df_ghg['Local Authority'].isin(LOCAL_AUTHORITY_NAMES)]\n",
    "\n",
    "df_ghg_list = [d for _, d in df_ghg.groupby(['Local Authority'])]\n",
    "\n",
    "len(df_ghg_list)"
   ]
  },
  {
   "cell_type": "markdown",
   "metadata": {},
   "source": [
    "### AADT and GHG Emissions"
   ]
  },
  {
   "cell_type": "code",
   "execution_count": 285,
   "metadata": {},
   "outputs": [
    {
     "name": "stdout",
     "output_type": "stream",
     "text": [
      "AADT DF len: 16, GHG DF len: 16\n",
      "AADT DF len: 16, GHG DF len: 16\n",
      "AADT DF len: 16, GHG DF len: 16\n",
      "AADT DF len: 16, GHG DF len: 16\n",
      "AADT DF len: 6, GHG DF len: 16\n",
      "AADT DF len: 16, GHG DF len: 16\n",
      "AADT DF len: 16, GHG DF len: 16\n",
      "AADT DF len: 16, GHG DF len: 16\n",
      "AADT DF len: 16, GHG DF len: 16\n",
      "AADT DF len: 16, GHG DF len: 16\n",
      "AADT DF len: 16, GHG DF len: 16\n",
      "AADT DF len: 16, GHG DF len: 16\n",
      "AADT DF len: 16, GHG DF len: 16\n",
      "AADT DF len: 16, GHG DF len: 16\n",
      "AADT DF len: 16, GHG DF len: 16\n",
      "AADT DF len: 8, GHG DF len: 16\n",
      "AADT DF len: 16, GHG DF len: 16\n"
     ]
    },
    {
     "data": {
      "text/html": [
       "<div>\n",
       "<style scoped>\n",
       "    .dataframe tbody tr th:only-of-type {\n",
       "        vertical-align: middle;\n",
       "    }\n",
       "\n",
       "    .dataframe tbody tr th {\n",
       "        vertical-align: top;\n",
       "    }\n",
       "\n",
       "    .dataframe thead th {\n",
       "        text-align: right;\n",
       "    }\n",
       "</style>\n",
       "<table border=\"1\" class=\"dataframe\">\n",
       "  <thead>\n",
       "    <tr style=\"text-align: right;\">\n",
       "      <th></th>\n",
       "      <th>year</th>\n",
       "      <th>count_point_id</th>\n",
       "      <th>local_authority_id</th>\n",
       "      <th>latitude</th>\n",
       "      <th>longitude</th>\n",
       "      <th>link_length_km</th>\n",
       "      <th>all_motor_vehicles</th>\n",
       "      <th>Calendar Year</th>\n",
       "      <th>Local Authority</th>\n",
       "      <th>Annual Territorial emissions (kt CO2e)</th>\n",
       "    </tr>\n",
       "  </thead>\n",
       "  <tbody>\n",
       "    <tr>\n",
       "      <th>0</th>\n",
       "      <td>2005</td>\n",
       "      <td>73040.5</td>\n",
       "      <td>120.0</td>\n",
       "      <td>51.896391</td>\n",
       "      <td>-0.472174</td>\n",
       "      <td>1.3</td>\n",
       "      <td>57600.0</td>\n",
       "      <td>2005</td>\n",
       "      <td>Luton</td>\n",
       "      <td>31.812879</td>\n",
       "    </tr>\n",
       "    <tr>\n",
       "      <th>1</th>\n",
       "      <td>2006</td>\n",
       "      <td>73040.5</td>\n",
       "      <td>120.0</td>\n",
       "      <td>51.896391</td>\n",
       "      <td>-0.472174</td>\n",
       "      <td>1.3</td>\n",
       "      <td>48583.5</td>\n",
       "      <td>2006</td>\n",
       "      <td>Luton</td>\n",
       "      <td>25.993749</td>\n",
       "    </tr>\n",
       "    <tr>\n",
       "      <th>2</th>\n",
       "      <td>2007</td>\n",
       "      <td>73040.5</td>\n",
       "      <td>120.0</td>\n",
       "      <td>51.896391</td>\n",
       "      <td>-0.472174</td>\n",
       "      <td>1.3</td>\n",
       "      <td>50652.5</td>\n",
       "      <td>2007</td>\n",
       "      <td>Luton</td>\n",
       "      <td>27.204528</td>\n",
       "    </tr>\n",
       "    <tr>\n",
       "      <th>3</th>\n",
       "      <td>2008</td>\n",
       "      <td>73040.5</td>\n",
       "      <td>120.0</td>\n",
       "      <td>51.896391</td>\n",
       "      <td>-0.472174</td>\n",
       "      <td>1.3</td>\n",
       "      <td>53492.5</td>\n",
       "      <td>2008</td>\n",
       "      <td>Luton</td>\n",
       "      <td>27.863433</td>\n",
       "    </tr>\n",
       "    <tr>\n",
       "      <th>4</th>\n",
       "      <td>2009</td>\n",
       "      <td>73040.5</td>\n",
       "      <td>120.0</td>\n",
       "      <td>51.896391</td>\n",
       "      <td>-0.472174</td>\n",
       "      <td>1.3</td>\n",
       "      <td>49612.5</td>\n",
       "      <td>2009</td>\n",
       "      <td>Luton</td>\n",
       "      <td>24.754068</td>\n",
       "    </tr>\n",
       "    <tr>\n",
       "      <th>5</th>\n",
       "      <td>2010</td>\n",
       "      <td>73040.5</td>\n",
       "      <td>120.0</td>\n",
       "      <td>51.896391</td>\n",
       "      <td>-0.472174</td>\n",
       "      <td>1.3</td>\n",
       "      <td>54367.0</td>\n",
       "      <td>2010</td>\n",
       "      <td>Luton</td>\n",
       "      <td>27.443241</td>\n",
       "    </tr>\n",
       "    <tr>\n",
       "      <th>6</th>\n",
       "      <td>2011</td>\n",
       "      <td>73040.5</td>\n",
       "      <td>120.0</td>\n",
       "      <td>51.896391</td>\n",
       "      <td>-0.472174</td>\n",
       "      <td>1.3</td>\n",
       "      <td>54802.5</td>\n",
       "      <td>2011</td>\n",
       "      <td>Luton</td>\n",
       "      <td>27.513462</td>\n",
       "    </tr>\n",
       "    <tr>\n",
       "      <th>7</th>\n",
       "      <td>2012</td>\n",
       "      <td>73040.5</td>\n",
       "      <td>120.0</td>\n",
       "      <td>51.896391</td>\n",
       "      <td>-0.472174</td>\n",
       "      <td>1.3</td>\n",
       "      <td>56972.5</td>\n",
       "      <td>2012</td>\n",
       "      <td>Luton</td>\n",
       "      <td>28.448692</td>\n",
       "    </tr>\n",
       "    <tr>\n",
       "      <th>8</th>\n",
       "      <td>2013</td>\n",
       "      <td>73040.5</td>\n",
       "      <td>120.0</td>\n",
       "      <td>51.896391</td>\n",
       "      <td>-0.472174</td>\n",
       "      <td>1.3</td>\n",
       "      <td>61684.0</td>\n",
       "      <td>2013</td>\n",
       "      <td>Luton</td>\n",
       "      <td>29.845218</td>\n",
       "    </tr>\n",
       "    <tr>\n",
       "      <th>9</th>\n",
       "      <td>2014</td>\n",
       "      <td>73040.5</td>\n",
       "      <td>120.0</td>\n",
       "      <td>51.896391</td>\n",
       "      <td>-0.472174</td>\n",
       "      <td>1.3</td>\n",
       "      <td>62781.0</td>\n",
       "      <td>2014</td>\n",
       "      <td>Luton</td>\n",
       "      <td>30.298551</td>\n",
       "    </tr>\n",
       "    <tr>\n",
       "      <th>10</th>\n",
       "      <td>2015</td>\n",
       "      <td>73040.5</td>\n",
       "      <td>120.0</td>\n",
       "      <td>51.896391</td>\n",
       "      <td>-0.472174</td>\n",
       "      <td>1.3</td>\n",
       "      <td>64218.0</td>\n",
       "      <td>2015</td>\n",
       "      <td>Luton</td>\n",
       "      <td>31.153448</td>\n",
       "    </tr>\n",
       "    <tr>\n",
       "      <th>11</th>\n",
       "      <td>2016</td>\n",
       "      <td>73040.5</td>\n",
       "      <td>120.0</td>\n",
       "      <td>51.896391</td>\n",
       "      <td>-0.472174</td>\n",
       "      <td>1.3</td>\n",
       "      <td>65315.5</td>\n",
       "      <td>2016</td>\n",
       "      <td>Luton</td>\n",
       "      <td>31.863186</td>\n",
       "    </tr>\n",
       "    <tr>\n",
       "      <th>12</th>\n",
       "      <td>2017</td>\n",
       "      <td>73040.5</td>\n",
       "      <td>120.0</td>\n",
       "      <td>51.896391</td>\n",
       "      <td>-0.472174</td>\n",
       "      <td>1.3</td>\n",
       "      <td>67952.0</td>\n",
       "      <td>2017</td>\n",
       "      <td>Luton</td>\n",
       "      <td>33.745373</td>\n",
       "    </tr>\n",
       "    <tr>\n",
       "      <th>13</th>\n",
       "      <td>2018</td>\n",
       "      <td>73040.5</td>\n",
       "      <td>120.0</td>\n",
       "      <td>51.896389</td>\n",
       "      <td>-0.472174</td>\n",
       "      <td>1.3</td>\n",
       "      <td>70355.0</td>\n",
       "      <td>2018</td>\n",
       "      <td>Luton</td>\n",
       "      <td>34.480488</td>\n",
       "    </tr>\n",
       "    <tr>\n",
       "      <th>14</th>\n",
       "      <td>2019</td>\n",
       "      <td>73040.5</td>\n",
       "      <td>120.0</td>\n",
       "      <td>51.896389</td>\n",
       "      <td>-0.472174</td>\n",
       "      <td>1.3</td>\n",
       "      <td>74481.5</td>\n",
       "      <td>2019</td>\n",
       "      <td>Luton</td>\n",
       "      <td>36.064526</td>\n",
       "    </tr>\n",
       "    <tr>\n",
       "      <th>15</th>\n",
       "      <td>2020</td>\n",
       "      <td>73040.5</td>\n",
       "      <td>120.0</td>\n",
       "      <td>51.896389</td>\n",
       "      <td>-0.472174</td>\n",
       "      <td>1.3</td>\n",
       "      <td>58868.5</td>\n",
       "      <td>2020</td>\n",
       "      <td>Luton</td>\n",
       "      <td>31.216664</td>\n",
       "    </tr>\n",
       "  </tbody>\n",
       "</table>\n",
       "</div>"
      ],
      "text/plain": [
       "    year  count_point_id  local_authority_id   latitude  longitude  \\\n",
       "0   2005         73040.5               120.0  51.896391  -0.472174   \n",
       "1   2006         73040.5               120.0  51.896391  -0.472174   \n",
       "2   2007         73040.5               120.0  51.896391  -0.472174   \n",
       "3   2008         73040.5               120.0  51.896391  -0.472174   \n",
       "4   2009         73040.5               120.0  51.896391  -0.472174   \n",
       "5   2010         73040.5               120.0  51.896391  -0.472174   \n",
       "6   2011         73040.5               120.0  51.896391  -0.472174   \n",
       "7   2012         73040.5               120.0  51.896391  -0.472174   \n",
       "8   2013         73040.5               120.0  51.896391  -0.472174   \n",
       "9   2014         73040.5               120.0  51.896391  -0.472174   \n",
       "10  2015         73040.5               120.0  51.896391  -0.472174   \n",
       "11  2016         73040.5               120.0  51.896391  -0.472174   \n",
       "12  2017         73040.5               120.0  51.896391  -0.472174   \n",
       "13  2018         73040.5               120.0  51.896389  -0.472174   \n",
       "14  2019         73040.5               120.0  51.896389  -0.472174   \n",
       "15  2020         73040.5               120.0  51.896389  -0.472174   \n",
       "\n",
       "    link_length_km  all_motor_vehicles  Calendar Year Local Authority  \\\n",
       "0              1.3             57600.0           2005           Luton   \n",
       "1              1.3             48583.5           2006           Luton   \n",
       "2              1.3             50652.5           2007           Luton   \n",
       "3              1.3             53492.5           2008           Luton   \n",
       "4              1.3             49612.5           2009           Luton   \n",
       "5              1.3             54367.0           2010           Luton   \n",
       "6              1.3             54802.5           2011           Luton   \n",
       "7              1.3             56972.5           2012           Luton   \n",
       "8              1.3             61684.0           2013           Luton   \n",
       "9              1.3             62781.0           2014           Luton   \n",
       "10             1.3             64218.0           2015           Luton   \n",
       "11             1.3             65315.5           2016           Luton   \n",
       "12             1.3             67952.0           2017           Luton   \n",
       "13             1.3             70355.0           2018           Luton   \n",
       "14             1.3             74481.5           2019           Luton   \n",
       "15             1.3             58868.5           2020           Luton   \n",
       "\n",
       "    Annual Territorial emissions (kt CO2e)  \n",
       "0                                31.812879  \n",
       "1                                25.993749  \n",
       "2                                27.204528  \n",
       "3                                27.863433  \n",
       "4                                24.754068  \n",
       "5                                27.443241  \n",
       "6                                27.513462  \n",
       "7                                28.448692  \n",
       "8                                29.845218  \n",
       "9                                30.298551  \n",
       "10                               31.153448  \n",
       "11                               31.863186  \n",
       "12                               33.745373  \n",
       "13                               34.480488  \n",
       "14                               36.064526  \n",
       "15                               31.216664  "
      ]
     },
     "execution_count": 285,
     "metadata": {},
     "output_type": "execute_result"
    }
   ],
   "source": [
    "merged_dfs_list = merge_aadt_ghg_list(grouped_df_aadt_list, df_ghg_list)\n",
    "\n",
    "merged_dfs_list[0]"
   ]
  },
  {
   "attachments": {},
   "cell_type": "markdown",
   "metadata": {},
   "source": [
    "## Visualisation"
   ]
  },
  {
   "attachments": {},
   "cell_type": "markdown",
   "metadata": {},
   "source": [
    "### AADT"
   ]
  },
  {
   "cell_type": "code",
   "execution_count": 287,
   "metadata": {},
   "outputs": [
    {
     "data": {
      "application/vnd.plotly.v1+json": {
       "config": {
        "plotlyServerURL": "https://plot.ly"
       },
       "data": [
        {
         "name": "Luton",
         "type": "scatter",
         "x": [
          2005,
          2006,
          2007,
          2008,
          2009,
          2010,
          2011,
          2012,
          2013,
          2014,
          2015,
          2016,
          2017,
          2018,
          2019,
          2020
         ],
         "y": [
          57600,
          48583.5,
          50652.5,
          53492.5,
          49612.5,
          54367,
          54802.5,
          56972.5,
          61684,
          62781,
          64218,
          65315.5,
          67952,
          70355,
          74481.5,
          58868.5
         ]
        },
        {
         "name": "Worcestershire",
         "type": "scatter",
         "x": [
          2005,
          2006,
          2007,
          2008,
          2009,
          2010,
          2011,
          2012,
          2013,
          2014,
          2015,
          2016,
          2017,
          2018,
          2019,
          2020
         ],
         "y": [
          42120,
          43615.5,
          43176,
          42995.5,
          43330,
          42652,
          43046.5,
          40246.5,
          43547,
          44546.5,
          42082.5,
          42072,
          43238,
          41398.5,
          41972.5,
          30676
         ]
        },
        {
         "name": "Hounslow",
         "type": "scatter",
         "x": [
          2005,
          2006,
          2007,
          2008,
          2009,
          2010,
          2011,
          2012,
          2013,
          2014,
          2015,
          2016,
          2017,
          2018,
          2019,
          2020
         ],
         "y": [
          46173,
          49415,
          43854.5,
          47815,
          47960,
          42799,
          50307,
          47347.5,
          46586.5,
          50098,
          50412.5,
          51224,
          51913.5,
          51047.5,
          56651,
          35191
         ]
        },
        {
         "name": "Portsmouth",
         "type": "scatter",
         "x": [
          2005,
          2006,
          2007,
          2008,
          2009,
          2010,
          2011,
          2012,
          2013,
          2014,
          2015,
          2016,
          2017,
          2018,
          2019,
          2020
         ],
         "y": [
          43541,
          43913,
          44443,
          39796,
          39458,
          55932,
          55058,
          42156,
          42962,
          41311,
          41812,
          52453.5,
          42515,
          42201,
          43146,
          35357
         ]
        },
        {
         "name": "Southampton",
         "type": "scatter",
         "x": [
          2005,
          2006,
          2007,
          2008,
          2009,
          2010,
          2011,
          2012,
          2013,
          2014,
          2015,
          2016,
          2017,
          2018,
          2019,
          2020
         ],
         "y": [
          43978.5,
          44305.5,
          45241.5,
          42463,
          42621.5,
          42894.5,
          39663.5,
          44173,
          44729.5,
          34333.5,
          45016.5,
          46522,
          44990.5,
          45093.5,
          45489.5,
          31664.5
         ]
        },
        {
         "name": "South Tyneside",
         "type": "scatter",
         "x": [
          2015,
          2016,
          2017,
          2018,
          2019,
          2020
         ],
         "y": [
          20469.5,
          20862.5,
          21209,
          21137,
          21401,
          21503.5
         ]
        },
        {
         "name": "Enfield",
         "type": "scatter",
         "x": [
          2005,
          2006,
          2007,
          2008,
          2009,
          2010,
          2011,
          2012,
          2013,
          2014,
          2015,
          2016,
          2017,
          2018,
          2019,
          2020
         ],
         "y": [
          55396,
          59292.5,
          58762,
          56650,
          60896.5,
          58916.5,
          59874.5,
          61569.5,
          56160,
          61457,
          70093.5,
          70379.5,
          71285.5,
          72215.5,
          70803.5,
          57360.5
         ]
        },
        {
         "name": "Halton",
         "type": "scatter",
         "x": [
          2005,
          2006,
          2007,
          2008,
          2009,
          2010,
          2011,
          2012,
          2013,
          2014,
          2015,
          2016,
          2017,
          2018,
          2019,
          2020
         ],
         "y": [
          45427,
          50342,
          44895.5,
          51039.5,
          47924,
          48656,
          47661,
          50552,
          49156.5,
          52046.5,
          50634,
          51556,
          52376,
          52394,
          50919,
          36065
         ]
        },
        {
         "name": "Barnet",
         "type": "scatter",
         "x": [
          2005,
          2006,
          2007,
          2008,
          2009,
          2010,
          2011,
          2012,
          2013,
          2014,
          2015,
          2016,
          2017,
          2018,
          2019,
          2020
         ],
         "y": [
          21910,
          22258,
          21718,
          21857,
          21917,
          21701,
          21679,
          21685,
          21932,
          22291,
          23101,
          22046,
          19861,
          19863,
          20004.5,
          15352
         ]
        },
        {
         "name": "Dudley",
         "type": "scatter",
         "x": [
          2005,
          2006,
          2007,
          2008,
          2009,
          2010,
          2011,
          2012,
          2013,
          2014,
          2015,
          2016,
          2017,
          2018,
          2019,
          2020
         ],
         "y": [
          46274,
          47249.5,
          47835,
          47094,
          44788.5,
          40959.5,
          44060,
          41994.5,
          42819.5,
          45390,
          46440.5,
          45262.5,
          46233.5,
          44584.5,
          47247,
          37000
         ]
        },
        {
         "name": "Coventry",
         "type": "scatter",
         "x": [
          2005,
          2006,
          2007,
          2008,
          2009,
          2010,
          2011,
          2012,
          2013,
          2014,
          2015,
          2016,
          2017,
          2018,
          2019,
          2020
         ],
         "y": [
          56825,
          59177.5,
          58229.5,
          57085.5,
          50914.5,
          61596,
          61495.5,
          61944.5,
          56917.5,
          62211.5,
          62838,
          64006,
          64124.5,
          56333.5,
          62277.5,
          47389
         ]
        },
        {
         "name": "Trafford",
         "type": "scatter",
         "x": [
          2005,
          2006,
          2007,
          2008,
          2009,
          2010,
          2011,
          2012,
          2013,
          2014,
          2015,
          2016,
          2017,
          2018,
          2019,
          2020
         ],
         "y": [
          55587.5,
          55200,
          53971.5,
          53190.5,
          54196,
          56142,
          58857.5,
          63137.5,
          63758,
          65851.5,
          60815,
          59124,
          60955.5,
          60317.5,
          60508.5,
          47573
         ]
        },
        {
         "name": "Bracknell Forest",
         "type": "scatter",
         "x": [
          2005,
          2006,
          2007,
          2008,
          2009,
          2010,
          2011,
          2012,
          2013,
          2014,
          2015,
          2016,
          2017,
          2018,
          2019,
          2020
         ],
         "y": [
          65294.5,
          64616,
          67676,
          62543,
          65812,
          61778.5,
          63461.5,
          64329,
          60105.5,
          63054.5,
          64056.5,
          65020,
          56322.5,
          56226.5,
          57369,
          33438
         ]
        },
        {
         "name": "Havering",
         "type": "scatter",
         "x": [
          2005,
          2006,
          2007,
          2008,
          2009,
          2010,
          2011,
          2012,
          2013,
          2014,
          2015,
          2016,
          2017,
          2018,
          2019,
          2020
         ],
         "y": [
          52284.5,
          59869,
          50128.5,
          57111.5,
          59023.5,
          54016.5,
          52661,
          56003,
          56496,
          57488,
          65400,
          66643,
          65754,
          66344,
          67828.5,
          59901
         ]
        },
        {
         "name": "Liverpool",
         "type": "scatter",
         "x": [
          2005,
          2006,
          2007,
          2008,
          2009,
          2010,
          2011,
          2012,
          2013,
          2014,
          2015,
          2016,
          2017,
          2018,
          2019,
          2020
         ],
         "y": [
          30542,
          31236,
          31675.5,
          31239,
          30391,
          29983,
          26751.5,
          26434.5,
          29885.5,
          30560,
          31224,
          32102.5,
          32257.5,
          34339.5,
          34635.5,
          25812.5
         ]
        },
        {
         "name": "Blackburn with Darwen",
         "type": "scatter",
         "x": [
          2005,
          2006,
          2007,
          2008,
          2009,
          2010,
          2011,
          2012,
          2013,
          2014,
          2015,
          2016,
          2017,
          2018,
          2019,
          2020
         ],
         "y": [
          30241,
          31125.5,
          32970.5,
          32455.5,
          30340.5,
          31366.5,
          31914.5,
          28844.5,
          33034.5,
          34052,
          34221.5,
          34413.5,
          30777,
          35333,
          36868.5,
          25120
         ]
        },
        {
         "name": "Sunderland",
         "type": "scatter",
         "x": [
          2013,
          2014,
          2015,
          2016,
          2017,
          2018,
          2019,
          2020
         ],
         "y": [
          21071,
          22994,
          18286,
          20850,
          18009,
          18392,
          18612,
          12878
         ]
        },
        {
         "name": "Bolton",
         "type": "scatter",
         "x": [
          2005,
          2006,
          2007,
          2008,
          2009,
          2010,
          2011,
          2012,
          2013,
          2014,
          2015,
          2016,
          2017,
          2018,
          2019,
          2020
         ],
         "y": [
          42851,
          44227,
          43482,
          41602,
          45552,
          41708,
          43680.5,
          42669.5,
          43692.5,
          47155,
          47252.5,
          44237,
          46194.5,
          46121,
          46655.5,
          40307.5
         ]
        }
       ],
       "layout": {
        "template": {
         "data": {
          "bar": [
           {
            "error_x": {
             "color": "#2a3f5f"
            },
            "error_y": {
             "color": "#2a3f5f"
            },
            "marker": {
             "line": {
              "color": "#E5ECF6",
              "width": 0.5
             },
             "pattern": {
              "fillmode": "overlay",
              "size": 10,
              "solidity": 0.2
             }
            },
            "type": "bar"
           }
          ],
          "barpolar": [
           {
            "marker": {
             "line": {
              "color": "#E5ECF6",
              "width": 0.5
             },
             "pattern": {
              "fillmode": "overlay",
              "size": 10,
              "solidity": 0.2
             }
            },
            "type": "barpolar"
           }
          ],
          "carpet": [
           {
            "aaxis": {
             "endlinecolor": "#2a3f5f",
             "gridcolor": "white",
             "linecolor": "white",
             "minorgridcolor": "white",
             "startlinecolor": "#2a3f5f"
            },
            "baxis": {
             "endlinecolor": "#2a3f5f",
             "gridcolor": "white",
             "linecolor": "white",
             "minorgridcolor": "white",
             "startlinecolor": "#2a3f5f"
            },
            "type": "carpet"
           }
          ],
          "choropleth": [
           {
            "colorbar": {
             "outlinewidth": 0,
             "ticks": ""
            },
            "type": "choropleth"
           }
          ],
          "contour": [
           {
            "colorbar": {
             "outlinewidth": 0,
             "ticks": ""
            },
            "colorscale": [
             [
              0,
              "#0d0887"
             ],
             [
              0.1111111111111111,
              "#46039f"
             ],
             [
              0.2222222222222222,
              "#7201a8"
             ],
             [
              0.3333333333333333,
              "#9c179e"
             ],
             [
              0.4444444444444444,
              "#bd3786"
             ],
             [
              0.5555555555555556,
              "#d8576b"
             ],
             [
              0.6666666666666666,
              "#ed7953"
             ],
             [
              0.7777777777777778,
              "#fb9f3a"
             ],
             [
              0.8888888888888888,
              "#fdca26"
             ],
             [
              1,
              "#f0f921"
             ]
            ],
            "type": "contour"
           }
          ],
          "contourcarpet": [
           {
            "colorbar": {
             "outlinewidth": 0,
             "ticks": ""
            },
            "type": "contourcarpet"
           }
          ],
          "heatmap": [
           {
            "colorbar": {
             "outlinewidth": 0,
             "ticks": ""
            },
            "colorscale": [
             [
              0,
              "#0d0887"
             ],
             [
              0.1111111111111111,
              "#46039f"
             ],
             [
              0.2222222222222222,
              "#7201a8"
             ],
             [
              0.3333333333333333,
              "#9c179e"
             ],
             [
              0.4444444444444444,
              "#bd3786"
             ],
             [
              0.5555555555555556,
              "#d8576b"
             ],
             [
              0.6666666666666666,
              "#ed7953"
             ],
             [
              0.7777777777777778,
              "#fb9f3a"
             ],
             [
              0.8888888888888888,
              "#fdca26"
             ],
             [
              1,
              "#f0f921"
             ]
            ],
            "type": "heatmap"
           }
          ],
          "heatmapgl": [
           {
            "colorbar": {
             "outlinewidth": 0,
             "ticks": ""
            },
            "colorscale": [
             [
              0,
              "#0d0887"
             ],
             [
              0.1111111111111111,
              "#46039f"
             ],
             [
              0.2222222222222222,
              "#7201a8"
             ],
             [
              0.3333333333333333,
              "#9c179e"
             ],
             [
              0.4444444444444444,
              "#bd3786"
             ],
             [
              0.5555555555555556,
              "#d8576b"
             ],
             [
              0.6666666666666666,
              "#ed7953"
             ],
             [
              0.7777777777777778,
              "#fb9f3a"
             ],
             [
              0.8888888888888888,
              "#fdca26"
             ],
             [
              1,
              "#f0f921"
             ]
            ],
            "type": "heatmapgl"
           }
          ],
          "histogram": [
           {
            "marker": {
             "pattern": {
              "fillmode": "overlay",
              "size": 10,
              "solidity": 0.2
             }
            },
            "type": "histogram"
           }
          ],
          "histogram2d": [
           {
            "colorbar": {
             "outlinewidth": 0,
             "ticks": ""
            },
            "colorscale": [
             [
              0,
              "#0d0887"
             ],
             [
              0.1111111111111111,
              "#46039f"
             ],
             [
              0.2222222222222222,
              "#7201a8"
             ],
             [
              0.3333333333333333,
              "#9c179e"
             ],
             [
              0.4444444444444444,
              "#bd3786"
             ],
             [
              0.5555555555555556,
              "#d8576b"
             ],
             [
              0.6666666666666666,
              "#ed7953"
             ],
             [
              0.7777777777777778,
              "#fb9f3a"
             ],
             [
              0.8888888888888888,
              "#fdca26"
             ],
             [
              1,
              "#f0f921"
             ]
            ],
            "type": "histogram2d"
           }
          ],
          "histogram2dcontour": [
           {
            "colorbar": {
             "outlinewidth": 0,
             "ticks": ""
            },
            "colorscale": [
             [
              0,
              "#0d0887"
             ],
             [
              0.1111111111111111,
              "#46039f"
             ],
             [
              0.2222222222222222,
              "#7201a8"
             ],
             [
              0.3333333333333333,
              "#9c179e"
             ],
             [
              0.4444444444444444,
              "#bd3786"
             ],
             [
              0.5555555555555556,
              "#d8576b"
             ],
             [
              0.6666666666666666,
              "#ed7953"
             ],
             [
              0.7777777777777778,
              "#fb9f3a"
             ],
             [
              0.8888888888888888,
              "#fdca26"
             ],
             [
              1,
              "#f0f921"
             ]
            ],
            "type": "histogram2dcontour"
           }
          ],
          "mesh3d": [
           {
            "colorbar": {
             "outlinewidth": 0,
             "ticks": ""
            },
            "type": "mesh3d"
           }
          ],
          "parcoords": [
           {
            "line": {
             "colorbar": {
              "outlinewidth": 0,
              "ticks": ""
             }
            },
            "type": "parcoords"
           }
          ],
          "pie": [
           {
            "automargin": true,
            "type": "pie"
           }
          ],
          "scatter": [
           {
            "fillpattern": {
             "fillmode": "overlay",
             "size": 10,
             "solidity": 0.2
            },
            "type": "scatter"
           }
          ],
          "scatter3d": [
           {
            "line": {
             "colorbar": {
              "outlinewidth": 0,
              "ticks": ""
             }
            },
            "marker": {
             "colorbar": {
              "outlinewidth": 0,
              "ticks": ""
             }
            },
            "type": "scatter3d"
           }
          ],
          "scattercarpet": [
           {
            "marker": {
             "colorbar": {
              "outlinewidth": 0,
              "ticks": ""
             }
            },
            "type": "scattercarpet"
           }
          ],
          "scattergeo": [
           {
            "marker": {
             "colorbar": {
              "outlinewidth": 0,
              "ticks": ""
             }
            },
            "type": "scattergeo"
           }
          ],
          "scattergl": [
           {
            "marker": {
             "colorbar": {
              "outlinewidth": 0,
              "ticks": ""
             }
            },
            "type": "scattergl"
           }
          ],
          "scattermapbox": [
           {
            "marker": {
             "colorbar": {
              "outlinewidth": 0,
              "ticks": ""
             }
            },
            "type": "scattermapbox"
           }
          ],
          "scatterpolar": [
           {
            "marker": {
             "colorbar": {
              "outlinewidth": 0,
              "ticks": ""
             }
            },
            "type": "scatterpolar"
           }
          ],
          "scatterpolargl": [
           {
            "marker": {
             "colorbar": {
              "outlinewidth": 0,
              "ticks": ""
             }
            },
            "type": "scatterpolargl"
           }
          ],
          "scatterternary": [
           {
            "marker": {
             "colorbar": {
              "outlinewidth": 0,
              "ticks": ""
             }
            },
            "type": "scatterternary"
           }
          ],
          "surface": [
           {
            "colorbar": {
             "outlinewidth": 0,
             "ticks": ""
            },
            "colorscale": [
             [
              0,
              "#0d0887"
             ],
             [
              0.1111111111111111,
              "#46039f"
             ],
             [
              0.2222222222222222,
              "#7201a8"
             ],
             [
              0.3333333333333333,
              "#9c179e"
             ],
             [
              0.4444444444444444,
              "#bd3786"
             ],
             [
              0.5555555555555556,
              "#d8576b"
             ],
             [
              0.6666666666666666,
              "#ed7953"
             ],
             [
              0.7777777777777778,
              "#fb9f3a"
             ],
             [
              0.8888888888888888,
              "#fdca26"
             ],
             [
              1,
              "#f0f921"
             ]
            ],
            "type": "surface"
           }
          ],
          "table": [
           {
            "cells": {
             "fill": {
              "color": "#EBF0F8"
             },
             "line": {
              "color": "white"
             }
            },
            "header": {
             "fill": {
              "color": "#C8D4E3"
             },
             "line": {
              "color": "white"
             }
            },
            "type": "table"
           }
          ]
         },
         "layout": {
          "annotationdefaults": {
           "arrowcolor": "#2a3f5f",
           "arrowhead": 0,
           "arrowwidth": 1
          },
          "autotypenumbers": "strict",
          "coloraxis": {
           "colorbar": {
            "outlinewidth": 0,
            "ticks": ""
           }
          },
          "colorscale": {
           "diverging": [
            [
             0,
             "#8e0152"
            ],
            [
             0.1,
             "#c51b7d"
            ],
            [
             0.2,
             "#de77ae"
            ],
            [
             0.3,
             "#f1b6da"
            ],
            [
             0.4,
             "#fde0ef"
            ],
            [
             0.5,
             "#f7f7f7"
            ],
            [
             0.6,
             "#e6f5d0"
            ],
            [
             0.7,
             "#b8e186"
            ],
            [
             0.8,
             "#7fbc41"
            ],
            [
             0.9,
             "#4d9221"
            ],
            [
             1,
             "#276419"
            ]
           ],
           "sequential": [
            [
             0,
             "#0d0887"
            ],
            [
             0.1111111111111111,
             "#46039f"
            ],
            [
             0.2222222222222222,
             "#7201a8"
            ],
            [
             0.3333333333333333,
             "#9c179e"
            ],
            [
             0.4444444444444444,
             "#bd3786"
            ],
            [
             0.5555555555555556,
             "#d8576b"
            ],
            [
             0.6666666666666666,
             "#ed7953"
            ],
            [
             0.7777777777777778,
             "#fb9f3a"
            ],
            [
             0.8888888888888888,
             "#fdca26"
            ],
            [
             1,
             "#f0f921"
            ]
           ],
           "sequentialminus": [
            [
             0,
             "#0d0887"
            ],
            [
             0.1111111111111111,
             "#46039f"
            ],
            [
             0.2222222222222222,
             "#7201a8"
            ],
            [
             0.3333333333333333,
             "#9c179e"
            ],
            [
             0.4444444444444444,
             "#bd3786"
            ],
            [
             0.5555555555555556,
             "#d8576b"
            ],
            [
             0.6666666666666666,
             "#ed7953"
            ],
            [
             0.7777777777777778,
             "#fb9f3a"
            ],
            [
             0.8888888888888888,
             "#fdca26"
            ],
            [
             1,
             "#f0f921"
            ]
           ]
          },
          "colorway": [
           "#636efa",
           "#EF553B",
           "#00cc96",
           "#ab63fa",
           "#FFA15A",
           "#19d3f3",
           "#FF6692",
           "#B6E880",
           "#FF97FF",
           "#FECB52"
          ],
          "font": {
           "color": "#2a3f5f"
          },
          "geo": {
           "bgcolor": "white",
           "lakecolor": "white",
           "landcolor": "#E5ECF6",
           "showlakes": true,
           "showland": true,
           "subunitcolor": "white"
          },
          "hoverlabel": {
           "align": "left"
          },
          "hovermode": "closest",
          "mapbox": {
           "style": "light"
          },
          "paper_bgcolor": "white",
          "plot_bgcolor": "#E5ECF6",
          "polar": {
           "angularaxis": {
            "gridcolor": "white",
            "linecolor": "white",
            "ticks": ""
           },
           "bgcolor": "#E5ECF6",
           "radialaxis": {
            "gridcolor": "white",
            "linecolor": "white",
            "ticks": ""
           }
          },
          "scene": {
           "xaxis": {
            "backgroundcolor": "#E5ECF6",
            "gridcolor": "white",
            "gridwidth": 2,
            "linecolor": "white",
            "showbackground": true,
            "ticks": "",
            "zerolinecolor": "white"
           },
           "yaxis": {
            "backgroundcolor": "#E5ECF6",
            "gridcolor": "white",
            "gridwidth": 2,
            "linecolor": "white",
            "showbackground": true,
            "ticks": "",
            "zerolinecolor": "white"
           },
           "zaxis": {
            "backgroundcolor": "#E5ECF6",
            "gridcolor": "white",
            "gridwidth": 2,
            "linecolor": "white",
            "showbackground": true,
            "ticks": "",
            "zerolinecolor": "white"
           }
          },
          "shapedefaults": {
           "line": {
            "color": "#2a3f5f"
           }
          },
          "ternary": {
           "aaxis": {
            "gridcolor": "white",
            "linecolor": "white",
            "ticks": ""
           },
           "baxis": {
            "gridcolor": "white",
            "linecolor": "white",
            "ticks": ""
           },
           "bgcolor": "#E5ECF6",
           "caxis": {
            "gridcolor": "white",
            "linecolor": "white",
            "ticks": ""
           }
          },
          "title": {
           "x": 0.05
          },
          "xaxis": {
           "automargin": true,
           "gridcolor": "white",
           "linecolor": "white",
           "ticks": "",
           "title": {
            "standoff": 15
           },
           "zerolinecolor": "white",
           "zerolinewidth": 2
          },
          "yaxis": {
           "automargin": true,
           "gridcolor": "white",
           "linecolor": "white",
           "ticks": "",
           "title": {
            "standoff": 15
           },
           "zerolinecolor": "white",
           "zerolinewidth": 2
          }
         }
        },
        "xaxis": {
         "title": {
          "text": "Year"
         }
        },
        "yaxis": {
         "title": {
          "text": "AADT"
         }
        }
       }
      },
      "text/html": [
       "<div>                            <div id=\"5200d575-1d94-4b1d-ba5a-09b3bfe7515a\" class=\"plotly-graph-div\" style=\"height:525px; width:100%;\"></div>            <script type=\"text/javascript\">                require([\"plotly\"], function(Plotly) {                    window.PLOTLYENV=window.PLOTLYENV || {};                                    if (document.getElementById(\"5200d575-1d94-4b1d-ba5a-09b3bfe7515a\")) {                    Plotly.newPlot(                        \"5200d575-1d94-4b1d-ba5a-09b3bfe7515a\",                        [{\"name\":\"Luton\",\"x\":[2005,2006,2007,2008,2009,2010,2011,2012,2013,2014,2015,2016,2017,2018,2019,2020],\"y\":[57600.0,48583.5,50652.5,53492.5,49612.5,54367.0,54802.5,56972.5,61684.0,62781.0,64218.0,65315.5,67952.0,70355.0,74481.5,58868.5],\"type\":\"scatter\"},{\"name\":\"Worcestershire\",\"x\":[2005,2006,2007,2008,2009,2010,2011,2012,2013,2014,2015,2016,2017,2018,2019,2020],\"y\":[42120.0,43615.5,43176.0,42995.5,43330.0,42652.0,43046.5,40246.5,43547.0,44546.5,42082.5,42072.0,43238.0,41398.5,41972.5,30676.0],\"type\":\"scatter\"},{\"name\":\"Hounslow\",\"x\":[2005,2006,2007,2008,2009,2010,2011,2012,2013,2014,2015,2016,2017,2018,2019,2020],\"y\":[46173.0,49415.0,43854.5,47815.0,47960.0,42799.0,50307.0,47347.5,46586.5,50098.0,50412.5,51224.0,51913.5,51047.5,56651.0,35191.0],\"type\":\"scatter\"},{\"name\":\"Portsmouth\",\"x\":[2005,2006,2007,2008,2009,2010,2011,2012,2013,2014,2015,2016,2017,2018,2019,2020],\"y\":[43541.0,43913.0,44443.0,39796.0,39458.0,55932.0,55058.0,42156.0,42962.0,41311.0,41812.0,52453.5,42515.0,42201.0,43146.0,35357.0],\"type\":\"scatter\"},{\"name\":\"Southampton\",\"x\":[2005,2006,2007,2008,2009,2010,2011,2012,2013,2014,2015,2016,2017,2018,2019,2020],\"y\":[43978.5,44305.5,45241.5,42463.0,42621.5,42894.5,39663.5,44173.0,44729.5,34333.5,45016.5,46522.0,44990.5,45093.5,45489.5,31664.5],\"type\":\"scatter\"},{\"name\":\"South Tyneside\",\"x\":[2015,2016,2017,2018,2019,2020],\"y\":[20469.5,20862.5,21209.0,21137.0,21401.0,21503.5],\"type\":\"scatter\"},{\"name\":\"Enfield\",\"x\":[2005,2006,2007,2008,2009,2010,2011,2012,2013,2014,2015,2016,2017,2018,2019,2020],\"y\":[55396.0,59292.5,58762.0,56650.0,60896.5,58916.5,59874.5,61569.5,56160.0,61457.0,70093.5,70379.5,71285.5,72215.5,70803.5,57360.5],\"type\":\"scatter\"},{\"name\":\"Halton\",\"x\":[2005,2006,2007,2008,2009,2010,2011,2012,2013,2014,2015,2016,2017,2018,2019,2020],\"y\":[45427.0,50342.0,44895.5,51039.5,47924.0,48656.0,47661.0,50552.0,49156.5,52046.5,50634.0,51556.0,52376.0,52394.0,50919.0,36065.0],\"type\":\"scatter\"},{\"name\":\"Barnet\",\"x\":[2005,2006,2007,2008,2009,2010,2011,2012,2013,2014,2015,2016,2017,2018,2019,2020],\"y\":[21910.0,22258.0,21718.0,21857.0,21917.0,21701.0,21679.0,21685.0,21932.0,22291.0,23101.0,22046.0,19861.0,19863.0,20004.5,15352.0],\"type\":\"scatter\"},{\"name\":\"Dudley\",\"x\":[2005,2006,2007,2008,2009,2010,2011,2012,2013,2014,2015,2016,2017,2018,2019,2020],\"y\":[46274.0,47249.5,47835.0,47094.0,44788.5,40959.5,44060.0,41994.5,42819.5,45390.0,46440.5,45262.5,46233.5,44584.5,47247.0,37000.0],\"type\":\"scatter\"},{\"name\":\"Coventry\",\"x\":[2005,2006,2007,2008,2009,2010,2011,2012,2013,2014,2015,2016,2017,2018,2019,2020],\"y\":[56825.0,59177.5,58229.5,57085.5,50914.5,61596.0,61495.5,61944.5,56917.5,62211.5,62838.0,64006.0,64124.5,56333.5,62277.5,47389.0],\"type\":\"scatter\"},{\"name\":\"Trafford\",\"x\":[2005,2006,2007,2008,2009,2010,2011,2012,2013,2014,2015,2016,2017,2018,2019,2020],\"y\":[55587.5,55200.0,53971.5,53190.5,54196.0,56142.0,58857.5,63137.5,63758.0,65851.5,60815.0,59124.0,60955.5,60317.5,60508.5,47573.0],\"type\":\"scatter\"},{\"name\":\"Bracknell Forest\",\"x\":[2005,2006,2007,2008,2009,2010,2011,2012,2013,2014,2015,2016,2017,2018,2019,2020],\"y\":[65294.5,64616.0,67676.0,62543.0,65812.0,61778.5,63461.5,64329.0,60105.5,63054.5,64056.5,65020.0,56322.5,56226.5,57369.0,33438.0],\"type\":\"scatter\"},{\"name\":\"Havering\",\"x\":[2005,2006,2007,2008,2009,2010,2011,2012,2013,2014,2015,2016,2017,2018,2019,2020],\"y\":[52284.5,59869.0,50128.5,57111.5,59023.5,54016.5,52661.0,56003.0,56496.0,57488.0,65400.0,66643.0,65754.0,66344.0,67828.5,59901.0],\"type\":\"scatter\"},{\"name\":\"Liverpool\",\"x\":[2005,2006,2007,2008,2009,2010,2011,2012,2013,2014,2015,2016,2017,2018,2019,2020],\"y\":[30542.0,31236.0,31675.5,31239.0,30391.0,29983.0,26751.5,26434.5,29885.5,30560.0,31224.0,32102.5,32257.5,34339.5,34635.5,25812.5],\"type\":\"scatter\"},{\"name\":\"Blackburn with Darwen\",\"x\":[2005,2006,2007,2008,2009,2010,2011,2012,2013,2014,2015,2016,2017,2018,2019,2020],\"y\":[30241.0,31125.5,32970.5,32455.5,30340.5,31366.5,31914.5,28844.5,33034.5,34052.0,34221.5,34413.5,30777.0,35333.0,36868.5,25120.0],\"type\":\"scatter\"},{\"name\":\"Sunderland\",\"x\":[2013,2014,2015,2016,2017,2018,2019,2020],\"y\":[21071.0,22994.0,18286.0,20850.0,18009.0,18392.0,18612.0,12878.0],\"type\":\"scatter\"},{\"name\":\"Bolton\",\"x\":[2005,2006,2007,2008,2009,2010,2011,2012,2013,2014,2015,2016,2017,2018,2019,2020],\"y\":[42851.0,44227.0,43482.0,41602.0,45552.0,41708.0,43680.5,42669.5,43692.5,47155.0,47252.5,44237.0,46194.5,46121.0,46655.5,40307.5],\"type\":\"scatter\"}],                        {\"template\":{\"data\":{\"histogram2dcontour\":[{\"type\":\"histogram2dcontour\",\"colorbar\":{\"outlinewidth\":0,\"ticks\":\"\"},\"colorscale\":[[0.0,\"#0d0887\"],[0.1111111111111111,\"#46039f\"],[0.2222222222222222,\"#7201a8\"],[0.3333333333333333,\"#9c179e\"],[0.4444444444444444,\"#bd3786\"],[0.5555555555555556,\"#d8576b\"],[0.6666666666666666,\"#ed7953\"],[0.7777777777777778,\"#fb9f3a\"],[0.8888888888888888,\"#fdca26\"],[1.0,\"#f0f921\"]]}],\"choropleth\":[{\"type\":\"choropleth\",\"colorbar\":{\"outlinewidth\":0,\"ticks\":\"\"}}],\"histogram2d\":[{\"type\":\"histogram2d\",\"colorbar\":{\"outlinewidth\":0,\"ticks\":\"\"},\"colorscale\":[[0.0,\"#0d0887\"],[0.1111111111111111,\"#46039f\"],[0.2222222222222222,\"#7201a8\"],[0.3333333333333333,\"#9c179e\"],[0.4444444444444444,\"#bd3786\"],[0.5555555555555556,\"#d8576b\"],[0.6666666666666666,\"#ed7953\"],[0.7777777777777778,\"#fb9f3a\"],[0.8888888888888888,\"#fdca26\"],[1.0,\"#f0f921\"]]}],\"heatmap\":[{\"type\":\"heatmap\",\"colorbar\":{\"outlinewidth\":0,\"ticks\":\"\"},\"colorscale\":[[0.0,\"#0d0887\"],[0.1111111111111111,\"#46039f\"],[0.2222222222222222,\"#7201a8\"],[0.3333333333333333,\"#9c179e\"],[0.4444444444444444,\"#bd3786\"],[0.5555555555555556,\"#d8576b\"],[0.6666666666666666,\"#ed7953\"],[0.7777777777777778,\"#fb9f3a\"],[0.8888888888888888,\"#fdca26\"],[1.0,\"#f0f921\"]]}],\"heatmapgl\":[{\"type\":\"heatmapgl\",\"colorbar\":{\"outlinewidth\":0,\"ticks\":\"\"},\"colorscale\":[[0.0,\"#0d0887\"],[0.1111111111111111,\"#46039f\"],[0.2222222222222222,\"#7201a8\"],[0.3333333333333333,\"#9c179e\"],[0.4444444444444444,\"#bd3786\"],[0.5555555555555556,\"#d8576b\"],[0.6666666666666666,\"#ed7953\"],[0.7777777777777778,\"#fb9f3a\"],[0.8888888888888888,\"#fdca26\"],[1.0,\"#f0f921\"]]}],\"contourcarpet\":[{\"type\":\"contourcarpet\",\"colorbar\":{\"outlinewidth\":0,\"ticks\":\"\"}}],\"contour\":[{\"type\":\"contour\",\"colorbar\":{\"outlinewidth\":0,\"ticks\":\"\"},\"colorscale\":[[0.0,\"#0d0887\"],[0.1111111111111111,\"#46039f\"],[0.2222222222222222,\"#7201a8\"],[0.3333333333333333,\"#9c179e\"],[0.4444444444444444,\"#bd3786\"],[0.5555555555555556,\"#d8576b\"],[0.6666666666666666,\"#ed7953\"],[0.7777777777777778,\"#fb9f3a\"],[0.8888888888888888,\"#fdca26\"],[1.0,\"#f0f921\"]]}],\"surface\":[{\"type\":\"surface\",\"colorbar\":{\"outlinewidth\":0,\"ticks\":\"\"},\"colorscale\":[[0.0,\"#0d0887\"],[0.1111111111111111,\"#46039f\"],[0.2222222222222222,\"#7201a8\"],[0.3333333333333333,\"#9c179e\"],[0.4444444444444444,\"#bd3786\"],[0.5555555555555556,\"#d8576b\"],[0.6666666666666666,\"#ed7953\"],[0.7777777777777778,\"#fb9f3a\"],[0.8888888888888888,\"#fdca26\"],[1.0,\"#f0f921\"]]}],\"mesh3d\":[{\"type\":\"mesh3d\",\"colorbar\":{\"outlinewidth\":0,\"ticks\":\"\"}}],\"scatter\":[{\"fillpattern\":{\"fillmode\":\"overlay\",\"size\":10,\"solidity\":0.2},\"type\":\"scatter\"}],\"parcoords\":[{\"type\":\"parcoords\",\"line\":{\"colorbar\":{\"outlinewidth\":0,\"ticks\":\"\"}}}],\"scatterpolargl\":[{\"type\":\"scatterpolargl\",\"marker\":{\"colorbar\":{\"outlinewidth\":0,\"ticks\":\"\"}}}],\"bar\":[{\"error_x\":{\"color\":\"#2a3f5f\"},\"error_y\":{\"color\":\"#2a3f5f\"},\"marker\":{\"line\":{\"color\":\"#E5ECF6\",\"width\":0.5},\"pattern\":{\"fillmode\":\"overlay\",\"size\":10,\"solidity\":0.2}},\"type\":\"bar\"}],\"scattergeo\":[{\"type\":\"scattergeo\",\"marker\":{\"colorbar\":{\"outlinewidth\":0,\"ticks\":\"\"}}}],\"scatterpolar\":[{\"type\":\"scatterpolar\",\"marker\":{\"colorbar\":{\"outlinewidth\":0,\"ticks\":\"\"}}}],\"histogram\":[{\"marker\":{\"pattern\":{\"fillmode\":\"overlay\",\"size\":10,\"solidity\":0.2}},\"type\":\"histogram\"}],\"scattergl\":[{\"type\":\"scattergl\",\"marker\":{\"colorbar\":{\"outlinewidth\":0,\"ticks\":\"\"}}}],\"scatter3d\":[{\"type\":\"scatter3d\",\"line\":{\"colorbar\":{\"outlinewidth\":0,\"ticks\":\"\"}},\"marker\":{\"colorbar\":{\"outlinewidth\":0,\"ticks\":\"\"}}}],\"scattermapbox\":[{\"type\":\"scattermapbox\",\"marker\":{\"colorbar\":{\"outlinewidth\":0,\"ticks\":\"\"}}}],\"scatterternary\":[{\"type\":\"scatterternary\",\"marker\":{\"colorbar\":{\"outlinewidth\":0,\"ticks\":\"\"}}}],\"scattercarpet\":[{\"type\":\"scattercarpet\",\"marker\":{\"colorbar\":{\"outlinewidth\":0,\"ticks\":\"\"}}}],\"carpet\":[{\"aaxis\":{\"endlinecolor\":\"#2a3f5f\",\"gridcolor\":\"white\",\"linecolor\":\"white\",\"minorgridcolor\":\"white\",\"startlinecolor\":\"#2a3f5f\"},\"baxis\":{\"endlinecolor\":\"#2a3f5f\",\"gridcolor\":\"white\",\"linecolor\":\"white\",\"minorgridcolor\":\"white\",\"startlinecolor\":\"#2a3f5f\"},\"type\":\"carpet\"}],\"table\":[{\"cells\":{\"fill\":{\"color\":\"#EBF0F8\"},\"line\":{\"color\":\"white\"}},\"header\":{\"fill\":{\"color\":\"#C8D4E3\"},\"line\":{\"color\":\"white\"}},\"type\":\"table\"}],\"barpolar\":[{\"marker\":{\"line\":{\"color\":\"#E5ECF6\",\"width\":0.5},\"pattern\":{\"fillmode\":\"overlay\",\"size\":10,\"solidity\":0.2}},\"type\":\"barpolar\"}],\"pie\":[{\"automargin\":true,\"type\":\"pie\"}]},\"layout\":{\"autotypenumbers\":\"strict\",\"colorway\":[\"#636efa\",\"#EF553B\",\"#00cc96\",\"#ab63fa\",\"#FFA15A\",\"#19d3f3\",\"#FF6692\",\"#B6E880\",\"#FF97FF\",\"#FECB52\"],\"font\":{\"color\":\"#2a3f5f\"},\"hovermode\":\"closest\",\"hoverlabel\":{\"align\":\"left\"},\"paper_bgcolor\":\"white\",\"plot_bgcolor\":\"#E5ECF6\",\"polar\":{\"bgcolor\":\"#E5ECF6\",\"angularaxis\":{\"gridcolor\":\"white\",\"linecolor\":\"white\",\"ticks\":\"\"},\"radialaxis\":{\"gridcolor\":\"white\",\"linecolor\":\"white\",\"ticks\":\"\"}},\"ternary\":{\"bgcolor\":\"#E5ECF6\",\"aaxis\":{\"gridcolor\":\"white\",\"linecolor\":\"white\",\"ticks\":\"\"},\"baxis\":{\"gridcolor\":\"white\",\"linecolor\":\"white\",\"ticks\":\"\"},\"caxis\":{\"gridcolor\":\"white\",\"linecolor\":\"white\",\"ticks\":\"\"}},\"coloraxis\":{\"colorbar\":{\"outlinewidth\":0,\"ticks\":\"\"}},\"colorscale\":{\"sequential\":[[0.0,\"#0d0887\"],[0.1111111111111111,\"#46039f\"],[0.2222222222222222,\"#7201a8\"],[0.3333333333333333,\"#9c179e\"],[0.4444444444444444,\"#bd3786\"],[0.5555555555555556,\"#d8576b\"],[0.6666666666666666,\"#ed7953\"],[0.7777777777777778,\"#fb9f3a\"],[0.8888888888888888,\"#fdca26\"],[1.0,\"#f0f921\"]],\"sequentialminus\":[[0.0,\"#0d0887\"],[0.1111111111111111,\"#46039f\"],[0.2222222222222222,\"#7201a8\"],[0.3333333333333333,\"#9c179e\"],[0.4444444444444444,\"#bd3786\"],[0.5555555555555556,\"#d8576b\"],[0.6666666666666666,\"#ed7953\"],[0.7777777777777778,\"#fb9f3a\"],[0.8888888888888888,\"#fdca26\"],[1.0,\"#f0f921\"]],\"diverging\":[[0,\"#8e0152\"],[0.1,\"#c51b7d\"],[0.2,\"#de77ae\"],[0.3,\"#f1b6da\"],[0.4,\"#fde0ef\"],[0.5,\"#f7f7f7\"],[0.6,\"#e6f5d0\"],[0.7,\"#b8e186\"],[0.8,\"#7fbc41\"],[0.9,\"#4d9221\"],[1,\"#276419\"]]},\"xaxis\":{\"gridcolor\":\"white\",\"linecolor\":\"white\",\"ticks\":\"\",\"title\":{\"standoff\":15},\"zerolinecolor\":\"white\",\"automargin\":true,\"zerolinewidth\":2},\"yaxis\":{\"gridcolor\":\"white\",\"linecolor\":\"white\",\"ticks\":\"\",\"title\":{\"standoff\":15},\"zerolinecolor\":\"white\",\"automargin\":true,\"zerolinewidth\":2},\"scene\":{\"xaxis\":{\"backgroundcolor\":\"#E5ECF6\",\"gridcolor\":\"white\",\"linecolor\":\"white\",\"showbackground\":true,\"ticks\":\"\",\"zerolinecolor\":\"white\",\"gridwidth\":2},\"yaxis\":{\"backgroundcolor\":\"#E5ECF6\",\"gridcolor\":\"white\",\"linecolor\":\"white\",\"showbackground\":true,\"ticks\":\"\",\"zerolinecolor\":\"white\",\"gridwidth\":2},\"zaxis\":{\"backgroundcolor\":\"#E5ECF6\",\"gridcolor\":\"white\",\"linecolor\":\"white\",\"showbackground\":true,\"ticks\":\"\",\"zerolinecolor\":\"white\",\"gridwidth\":2}},\"shapedefaults\":{\"line\":{\"color\":\"#2a3f5f\"}},\"annotationdefaults\":{\"arrowcolor\":\"#2a3f5f\",\"arrowhead\":0,\"arrowwidth\":1},\"geo\":{\"bgcolor\":\"white\",\"landcolor\":\"#E5ECF6\",\"subunitcolor\":\"white\",\"showland\":true,\"showlakes\":true,\"lakecolor\":\"white\"},\"title\":{\"x\":0.05},\"mapbox\":{\"style\":\"light\"}}},\"xaxis\":{\"title\":{\"text\":\"Year\"}},\"yaxis\":{\"title\":{\"text\":\"AADT\"}}},                        {\"responsive\": true}                    ).then(function(){\n",
       "                            \n",
       "var gd = document.getElementById('5200d575-1d94-4b1d-ba5a-09b3bfe7515a');\n",
       "var x = new MutationObserver(function (mutations, observer) {{\n",
       "        var display = window.getComputedStyle(gd).display;\n",
       "        if (!display || display === 'none') {{\n",
       "            console.log([gd, 'removed!']);\n",
       "            Plotly.purge(gd);\n",
       "            observer.disconnect();\n",
       "        }}\n",
       "}});\n",
       "\n",
       "// Listen for the removal of the full notebook cells\n",
       "var notebookContainer = gd.closest('#notebook-container');\n",
       "if (notebookContainer) {{\n",
       "    x.observe(notebookContainer, {childList: true});\n",
       "}}\n",
       "\n",
       "// Listen for the clearing of the current output cell\n",
       "var outputEl = gd.closest('.output');\n",
       "if (outputEl) {{\n",
       "    x.observe(outputEl, {childList: true});\n",
       "}}\n",
       "\n",
       "                        })                };                });            </script>        </div>"
      ]
     },
     "metadata": {},
     "output_type": "display_data"
    }
   ],
   "source": [
    "fig = go.Figure()\n",
    "\n",
    "for i, df in enumerate(grouped_df_aadt_list):\n",
    "    fig = fig.add_trace(go.Scatter(x = df['Calendar Year'], y=df['all_motor_vehicles'], name=df.iloc[0]['Local Authority']))\n",
    "\n",
    "fig.update_xaxes(title='Year')\n",
    "fig.update_yaxes(title='AADT')\n",
    "\n",
    "fig.show()"
   ]
  },
  {
   "attachments": {},
   "cell_type": "markdown",
   "metadata": {},
   "source": [
    "### GHG Emissions"
   ]
  },
  {
   "cell_type": "code",
   "execution_count": 288,
   "metadata": {},
   "outputs": [
    {
     "data": {
      "application/vnd.plotly.v1+json": {
       "config": {
        "plotlyServerURL": "https://plot.ly"
       },
       "data": [
        {
         "name": "Barnet",
         "type": "scatter",
         "x": [
          2005,
          2006,
          2007,
          2008,
          2009,
          2010,
          2011,
          2012,
          2013,
          2014,
          2015,
          2016,
          2017,
          2018,
          2019,
          2020
         ],
         "y": [
          53.988608522,
          56.822202623,
          53.186985916,
          59.597039503000005,
          57.067456555,
          56.557556831,
          49.227800217,
          49.430061156,
          51.889026026,
          52.339996128,
          53.189937049,
          54.353228057,
          58.26036163,
          57.091260412,
          57.945878271,
          41.99712241099999
         ]
        },
        {
         "name": "Blackburn with Darwen",
         "type": "scatter",
         "x": [
          2005,
          2006,
          2007,
          2008,
          2009,
          2010,
          2011,
          2012,
          2013,
          2014,
          2015,
          2016,
          2017,
          2018,
          2019,
          2020
         ],
         "y": [
          43.407684936,
          43.63186721500001,
          44.518305044,
          42.530733665,
          39.657701144,
          39.427691328,
          37.810997329,
          37.108126983,
          38.812223531,
          39.225577140000006,
          40.592887371,
          41.60774533,
          36.818976505,
          39.780264045,
          39.944270639,
          28.776814445
         ]
        },
        {
         "name": "Bolton",
         "type": "scatter",
         "x": [
          2005,
          2006,
          2007,
          2008,
          2009,
          2010,
          2011,
          2012,
          2013,
          2014,
          2015,
          2016,
          2017,
          2018,
          2019,
          2020
         ],
         "y": [
          158.512865971,
          159.544365287,
          163.426526725,
          156.745990227,
          153.575691106,
          149.493066629,
          157.214790729,
          159.445582954,
          158.596821494,
          164.33905798,
          167.94433922999997,
          161.844900178,
          166.89235890700002,
          162.604102223,
          158.52464489,
          142.115291431
         ]
        },
        {
         "name": "Bracknell Forest",
         "type": "scatter",
         "x": [
          2005,
          2006,
          2007,
          2008,
          2009,
          2010,
          2011,
          2012,
          2013,
          2014,
          2015,
          2016,
          2017,
          2018,
          2019,
          2020
         ],
         "y": [
          9.641974755,
          9.596014801,
          9.99656016,
          8.995102641,
          9.422765467,
          8.734086133,
          8.550937397,
          8.488999322,
          7.95526593,
          8.418126315,
          8.481810988,
          8.595487513,
          7.840677418999999,
          7.687954825,
          7.558206193,
          4.866574553
         ]
        },
        {
         "name": "Coventry",
         "type": "scatter",
         "x": [
          2005,
          2006,
          2007,
          2008,
          2009,
          2010,
          2011,
          2012,
          2013,
          2014,
          2015,
          2016,
          2017,
          2018,
          2019,
          2020
         ],
         "y": [
          41.237641419000006,
          41.592488408,
          41.45404195100001,
          38.958845047,
          33.814742149,
          43.160874943,
          39.210357253,
          39.324797939,
          36.552826353,
          41.476822112,
          42.342174944,
          43.566506102,
          43.64319718,
          37.281227271,
          39.617147555,
          33.351252822
         ]
        },
        {
         "name": "Dudley",
         "type": "scatter",
         "x": [
          2005,
          2006,
          2007,
          2008,
          2009,
          2010,
          2011,
          2012,
          2013,
          2014,
          2015,
          2016,
          2017,
          2018,
          2019,
          2020
         ],
         "y": [
          48.970290857,
          48.049067916,
          49.209771756,
          45.698423527,
          41.841824589,
          39.531550784,
          41.221067541,
          39.456341876,
          39.472253338,
          43.261318066,
          44.485402031,
          43.71385745,
          43.10676716,
          41.562131129,
          40.897340142,
          33.758843803
         ]
        },
        {
         "name": "Enfield",
         "type": "scatter",
         "x": [
          2005,
          2006,
          2007,
          2008,
          2009,
          2010,
          2011,
          2012,
          2013,
          2014,
          2015,
          2016,
          2017,
          2018,
          2019,
          2020
         ],
         "y": [
          122.334811817,
          123.985743196,
          125.392379386,
          124.409842953,
          125.528464062,
          128.763229196,
          115.769539259,
          131.546756389,
          124.152736427,
          122.972567209,
          143.884877836,
          146.462083717,
          147.51433026700002,
          148.219038113,
          136.439761662,
          114.445594673
         ]
        },
        {
         "name": "Halton",
         "type": "scatter",
         "x": [
          2005,
          2006,
          2007,
          2008,
          2009,
          2010,
          2011,
          2012,
          2013,
          2014,
          2015,
          2016,
          2017,
          2018,
          2019,
          2020
         ],
         "y": [
          50.14861066700001,
          51.297091876,
          50.799410139,
          49.787292026,
          49.400493126,
          51.631406205000005,
          49.158777455,
          49.26042819,
          47.850018993,
          48.903609209,
          50.249720651,
          51.663364124,
          51.73468354800001,
          50.168359941,
          46.64031825,
          37.324866304
         ]
        },
        {
         "name": "Havering",
         "type": "scatter",
         "x": [
          2005,
          2006,
          2007,
          2008,
          2009,
          2010,
          2011,
          2012,
          2013,
          2014,
          2015,
          2016,
          2017,
          2018,
          2019,
          2020
         ],
         "y": [
          129.121547449,
          145.181504297,
          138.08851433599995,
          138.025919885,
          136.49559024899995,
          125.719796183,
          134.523531327,
          124.931793945,
          130.92806626499998,
          135.64262623,
          146.867782521,
          156.018567688,
          158.47148081300003,
          161.286580701,
          155.385844781,
          147.193227206
         ]
        },
        {
         "name": "Hounslow",
         "type": "scatter",
         "x": [
          2005,
          2006,
          2007,
          2008,
          2009,
          2010,
          2011,
          2012,
          2013,
          2014,
          2015,
          2016,
          2017,
          2018,
          2019,
          2020
         ],
         "y": [
          69.679211202,
          75.931082136,
          66.348447448,
          65.94261259,
          64.685640541,
          62.72171482,
          68.074381034,
          68.260994826,
          65.811996159,
          69.60349358600001,
          66.648311945,
          68.19205573699999,
          67.681418715,
          65.784937774,
          69.392767821,
          44.306321778
         ]
        },
        {
         "name": "Liverpool",
         "type": "scatter",
         "x": [
          2005,
          2006,
          2007,
          2008,
          2009,
          2010,
          2011,
          2012,
          2013,
          2014,
          2015,
          2016,
          2017,
          2018,
          2019,
          2020
         ],
         "y": [
          4.5543638170000005,
          4.644411211,
          4.720757527,
          4.545761741,
          4.424691722,
          4.363165928,
          3.68593399,
          3.633632727,
          4.03485456,
          4.095507119999999,
          4.198526824,
          4.303212158,
          4.320857887,
          4.476620550999999,
          4.356287388,
          3.209068376
         ]
        },
        {
         "name": "Luton",
         "type": "scatter",
         "x": [
          2005,
          2006,
          2007,
          2008,
          2009,
          2010,
          2011,
          2012,
          2013,
          2014,
          2015,
          2016,
          2017,
          2018,
          2019,
          2020
         ],
         "y": [
          31.81287926,
          25.993748813,
          27.204528143000005,
          27.863432503,
          24.754067676,
          27.443241393,
          27.513462083,
          28.448691871,
          29.84521794,
          30.298551254000003,
          31.153447532,
          31.863185576,
          33.745372917000005,
          34.480487687,
          36.064526434,
          31.216663949000004
         ]
        },
        {
         "name": "Portsmouth",
         "type": "scatter",
         "x": [
          2005,
          2006,
          2007,
          2008,
          2009,
          2010,
          2011,
          2012,
          2013,
          2014,
          2015,
          2016,
          2017,
          2018,
          2019,
          2020
         ],
         "y": [
          86.477432933,
          88.668893266,
          85.906337438,
          78.137748968,
          80.683787666,
          82.020990789,
          78.64614895599999,
          84.298195784,
          83.51621041,
          80.066446274,
          82.794976918,
          89.11048582000001,
          84.84669322799999,
          79.059664465,
          78.868364313,
          59.987008497
         ]
        },
        {
         "name": "South Tyneside",
         "type": "scatter",
         "x": [
          2005,
          2006,
          2007,
          2008,
          2009,
          2010,
          2011,
          2012,
          2013,
          2014,
          2015,
          2016,
          2017,
          2018,
          2019,
          2020
         ],
         "y": [
          0.125301079,
          0.126100408,
          0.127836064,
          0.122292341,
          0.158537662,
          0.155915358,
          0.156130321,
          0.153537342,
          0.162434791,
          0.1644169379999999,
          0.1684794539999999,
          0.172653736,
          0.175679109,
          0.165996771,
          0.162101005,
          0.1603659979999999
         ]
        },
        {
         "name": "Southampton",
         "type": "scatter",
         "x": [
          2005,
          2006,
          2007,
          2008,
          2009,
          2010,
          2011,
          2012,
          2013,
          2014,
          2015,
          2016,
          2017,
          2018,
          2019,
          2020
         ],
         "y": [
          23.384696465,
          23.136411767,
          23.175930086,
          20.984706899,
          21.493502632,
          21.89413008,
          21.86356156,
          22.346661386,
          22.432378832,
          19.893253715,
          21.820740158000003,
          22.716200715,
          22.576326413,
          22.163047024,
          19.301437768,
          14.839431707
         ]
        },
        {
         "name": "Sunderland",
         "type": "scatter",
         "x": [
          2005,
          2006,
          2007,
          2008,
          2009,
          2010,
          2011,
          2012,
          2013,
          2014,
          2015,
          2016,
          2017,
          2018,
          2019,
          2020
         ],
         "y": [
          10.716357657,
          10.753825016,
          11.385149869,
          10.920412078,
          10.616306774,
          10.7863751,
          10.477510214,
          10.314449646,
          10.410380866,
          10.549019112,
          10.782464916,
          11.086249499,
          10.189819613,
          10.159120822000002,
          10.349215333,
          7.643073652
         ]
        },
        {
         "name": "Trafford",
         "type": "scatter",
         "x": [
          2005,
          2006,
          2007,
          2008,
          2009,
          2010,
          2011,
          2012,
          2013,
          2014,
          2015,
          2016,
          2017,
          2018,
          2019,
          2020
         ],
         "y": [
          106.68206125,
          103.636815282,
          102.647234947,
          97.478641289,
          95.274319422,
          95.985432016,
          94.699119802,
          98.147771606,
          97.67243064000002,
          101.458625269,
          97.945820125,
          98.269610789,
          99.840834575,
          96.466577251,
          96.067454668,
          77.405344759
         ]
        },
        {
         "name": "Worcester",
         "type": "scatter",
         "x": [
          2005,
          2006,
          2007,
          2008,
          2009,
          2010,
          2011,
          2012,
          2013,
          2014,
          2015,
          2016,
          2017,
          2018,
          2019,
          2020
         ],
         "y": [
          1.569512846,
          1.602223089,
          1.58406575,
          1.492325191,
          1.4961180710000002,
          1.469195495,
          1.469752045,
          1.36465442,
          1.517284444,
          1.559529547,
          1.594958769,
          1.6441386210000002,
          1.541269988,
          1.487990778,
          1.476269169,
          1.186461944
         ]
        }
       ],
       "layout": {
        "template": {
         "data": {
          "bar": [
           {
            "error_x": {
             "color": "#2a3f5f"
            },
            "error_y": {
             "color": "#2a3f5f"
            },
            "marker": {
             "line": {
              "color": "#E5ECF6",
              "width": 0.5
             },
             "pattern": {
              "fillmode": "overlay",
              "size": 10,
              "solidity": 0.2
             }
            },
            "type": "bar"
           }
          ],
          "barpolar": [
           {
            "marker": {
             "line": {
              "color": "#E5ECF6",
              "width": 0.5
             },
             "pattern": {
              "fillmode": "overlay",
              "size": 10,
              "solidity": 0.2
             }
            },
            "type": "barpolar"
           }
          ],
          "carpet": [
           {
            "aaxis": {
             "endlinecolor": "#2a3f5f",
             "gridcolor": "white",
             "linecolor": "white",
             "minorgridcolor": "white",
             "startlinecolor": "#2a3f5f"
            },
            "baxis": {
             "endlinecolor": "#2a3f5f",
             "gridcolor": "white",
             "linecolor": "white",
             "minorgridcolor": "white",
             "startlinecolor": "#2a3f5f"
            },
            "type": "carpet"
           }
          ],
          "choropleth": [
           {
            "colorbar": {
             "outlinewidth": 0,
             "ticks": ""
            },
            "type": "choropleth"
           }
          ],
          "contour": [
           {
            "colorbar": {
             "outlinewidth": 0,
             "ticks": ""
            },
            "colorscale": [
             [
              0,
              "#0d0887"
             ],
             [
              0.1111111111111111,
              "#46039f"
             ],
             [
              0.2222222222222222,
              "#7201a8"
             ],
             [
              0.3333333333333333,
              "#9c179e"
             ],
             [
              0.4444444444444444,
              "#bd3786"
             ],
             [
              0.5555555555555556,
              "#d8576b"
             ],
             [
              0.6666666666666666,
              "#ed7953"
             ],
             [
              0.7777777777777778,
              "#fb9f3a"
             ],
             [
              0.8888888888888888,
              "#fdca26"
             ],
             [
              1,
              "#f0f921"
             ]
            ],
            "type": "contour"
           }
          ],
          "contourcarpet": [
           {
            "colorbar": {
             "outlinewidth": 0,
             "ticks": ""
            },
            "type": "contourcarpet"
           }
          ],
          "heatmap": [
           {
            "colorbar": {
             "outlinewidth": 0,
             "ticks": ""
            },
            "colorscale": [
             [
              0,
              "#0d0887"
             ],
             [
              0.1111111111111111,
              "#46039f"
             ],
             [
              0.2222222222222222,
              "#7201a8"
             ],
             [
              0.3333333333333333,
              "#9c179e"
             ],
             [
              0.4444444444444444,
              "#bd3786"
             ],
             [
              0.5555555555555556,
              "#d8576b"
             ],
             [
              0.6666666666666666,
              "#ed7953"
             ],
             [
              0.7777777777777778,
              "#fb9f3a"
             ],
             [
              0.8888888888888888,
              "#fdca26"
             ],
             [
              1,
              "#f0f921"
             ]
            ],
            "type": "heatmap"
           }
          ],
          "heatmapgl": [
           {
            "colorbar": {
             "outlinewidth": 0,
             "ticks": ""
            },
            "colorscale": [
             [
              0,
              "#0d0887"
             ],
             [
              0.1111111111111111,
              "#46039f"
             ],
             [
              0.2222222222222222,
              "#7201a8"
             ],
             [
              0.3333333333333333,
              "#9c179e"
             ],
             [
              0.4444444444444444,
              "#bd3786"
             ],
             [
              0.5555555555555556,
              "#d8576b"
             ],
             [
              0.6666666666666666,
              "#ed7953"
             ],
             [
              0.7777777777777778,
              "#fb9f3a"
             ],
             [
              0.8888888888888888,
              "#fdca26"
             ],
             [
              1,
              "#f0f921"
             ]
            ],
            "type": "heatmapgl"
           }
          ],
          "histogram": [
           {
            "marker": {
             "pattern": {
              "fillmode": "overlay",
              "size": 10,
              "solidity": 0.2
             }
            },
            "type": "histogram"
           }
          ],
          "histogram2d": [
           {
            "colorbar": {
             "outlinewidth": 0,
             "ticks": ""
            },
            "colorscale": [
             [
              0,
              "#0d0887"
             ],
             [
              0.1111111111111111,
              "#46039f"
             ],
             [
              0.2222222222222222,
              "#7201a8"
             ],
             [
              0.3333333333333333,
              "#9c179e"
             ],
             [
              0.4444444444444444,
              "#bd3786"
             ],
             [
              0.5555555555555556,
              "#d8576b"
             ],
             [
              0.6666666666666666,
              "#ed7953"
             ],
             [
              0.7777777777777778,
              "#fb9f3a"
             ],
             [
              0.8888888888888888,
              "#fdca26"
             ],
             [
              1,
              "#f0f921"
             ]
            ],
            "type": "histogram2d"
           }
          ],
          "histogram2dcontour": [
           {
            "colorbar": {
             "outlinewidth": 0,
             "ticks": ""
            },
            "colorscale": [
             [
              0,
              "#0d0887"
             ],
             [
              0.1111111111111111,
              "#46039f"
             ],
             [
              0.2222222222222222,
              "#7201a8"
             ],
             [
              0.3333333333333333,
              "#9c179e"
             ],
             [
              0.4444444444444444,
              "#bd3786"
             ],
             [
              0.5555555555555556,
              "#d8576b"
             ],
             [
              0.6666666666666666,
              "#ed7953"
             ],
             [
              0.7777777777777778,
              "#fb9f3a"
             ],
             [
              0.8888888888888888,
              "#fdca26"
             ],
             [
              1,
              "#f0f921"
             ]
            ],
            "type": "histogram2dcontour"
           }
          ],
          "mesh3d": [
           {
            "colorbar": {
             "outlinewidth": 0,
             "ticks": ""
            },
            "type": "mesh3d"
           }
          ],
          "parcoords": [
           {
            "line": {
             "colorbar": {
              "outlinewidth": 0,
              "ticks": ""
             }
            },
            "type": "parcoords"
           }
          ],
          "pie": [
           {
            "automargin": true,
            "type": "pie"
           }
          ],
          "scatter": [
           {
            "fillpattern": {
             "fillmode": "overlay",
             "size": 10,
             "solidity": 0.2
            },
            "type": "scatter"
           }
          ],
          "scatter3d": [
           {
            "line": {
             "colorbar": {
              "outlinewidth": 0,
              "ticks": ""
             }
            },
            "marker": {
             "colorbar": {
              "outlinewidth": 0,
              "ticks": ""
             }
            },
            "type": "scatter3d"
           }
          ],
          "scattercarpet": [
           {
            "marker": {
             "colorbar": {
              "outlinewidth": 0,
              "ticks": ""
             }
            },
            "type": "scattercarpet"
           }
          ],
          "scattergeo": [
           {
            "marker": {
             "colorbar": {
              "outlinewidth": 0,
              "ticks": ""
             }
            },
            "type": "scattergeo"
           }
          ],
          "scattergl": [
           {
            "marker": {
             "colorbar": {
              "outlinewidth": 0,
              "ticks": ""
             }
            },
            "type": "scattergl"
           }
          ],
          "scattermapbox": [
           {
            "marker": {
             "colorbar": {
              "outlinewidth": 0,
              "ticks": ""
             }
            },
            "type": "scattermapbox"
           }
          ],
          "scatterpolar": [
           {
            "marker": {
             "colorbar": {
              "outlinewidth": 0,
              "ticks": ""
             }
            },
            "type": "scatterpolar"
           }
          ],
          "scatterpolargl": [
           {
            "marker": {
             "colorbar": {
              "outlinewidth": 0,
              "ticks": ""
             }
            },
            "type": "scatterpolargl"
           }
          ],
          "scatterternary": [
           {
            "marker": {
             "colorbar": {
              "outlinewidth": 0,
              "ticks": ""
             }
            },
            "type": "scatterternary"
           }
          ],
          "surface": [
           {
            "colorbar": {
             "outlinewidth": 0,
             "ticks": ""
            },
            "colorscale": [
             [
              0,
              "#0d0887"
             ],
             [
              0.1111111111111111,
              "#46039f"
             ],
             [
              0.2222222222222222,
              "#7201a8"
             ],
             [
              0.3333333333333333,
              "#9c179e"
             ],
             [
              0.4444444444444444,
              "#bd3786"
             ],
             [
              0.5555555555555556,
              "#d8576b"
             ],
             [
              0.6666666666666666,
              "#ed7953"
             ],
             [
              0.7777777777777778,
              "#fb9f3a"
             ],
             [
              0.8888888888888888,
              "#fdca26"
             ],
             [
              1,
              "#f0f921"
             ]
            ],
            "type": "surface"
           }
          ],
          "table": [
           {
            "cells": {
             "fill": {
              "color": "#EBF0F8"
             },
             "line": {
              "color": "white"
             }
            },
            "header": {
             "fill": {
              "color": "#C8D4E3"
             },
             "line": {
              "color": "white"
             }
            },
            "type": "table"
           }
          ]
         },
         "layout": {
          "annotationdefaults": {
           "arrowcolor": "#2a3f5f",
           "arrowhead": 0,
           "arrowwidth": 1
          },
          "autotypenumbers": "strict",
          "coloraxis": {
           "colorbar": {
            "outlinewidth": 0,
            "ticks": ""
           }
          },
          "colorscale": {
           "diverging": [
            [
             0,
             "#8e0152"
            ],
            [
             0.1,
             "#c51b7d"
            ],
            [
             0.2,
             "#de77ae"
            ],
            [
             0.3,
             "#f1b6da"
            ],
            [
             0.4,
             "#fde0ef"
            ],
            [
             0.5,
             "#f7f7f7"
            ],
            [
             0.6,
             "#e6f5d0"
            ],
            [
             0.7,
             "#b8e186"
            ],
            [
             0.8,
             "#7fbc41"
            ],
            [
             0.9,
             "#4d9221"
            ],
            [
             1,
             "#276419"
            ]
           ],
           "sequential": [
            [
             0,
             "#0d0887"
            ],
            [
             0.1111111111111111,
             "#46039f"
            ],
            [
             0.2222222222222222,
             "#7201a8"
            ],
            [
             0.3333333333333333,
             "#9c179e"
            ],
            [
             0.4444444444444444,
             "#bd3786"
            ],
            [
             0.5555555555555556,
             "#d8576b"
            ],
            [
             0.6666666666666666,
             "#ed7953"
            ],
            [
             0.7777777777777778,
             "#fb9f3a"
            ],
            [
             0.8888888888888888,
             "#fdca26"
            ],
            [
             1,
             "#f0f921"
            ]
           ],
           "sequentialminus": [
            [
             0,
             "#0d0887"
            ],
            [
             0.1111111111111111,
             "#46039f"
            ],
            [
             0.2222222222222222,
             "#7201a8"
            ],
            [
             0.3333333333333333,
             "#9c179e"
            ],
            [
             0.4444444444444444,
             "#bd3786"
            ],
            [
             0.5555555555555556,
             "#d8576b"
            ],
            [
             0.6666666666666666,
             "#ed7953"
            ],
            [
             0.7777777777777778,
             "#fb9f3a"
            ],
            [
             0.8888888888888888,
             "#fdca26"
            ],
            [
             1,
             "#f0f921"
            ]
           ]
          },
          "colorway": [
           "#636efa",
           "#EF553B",
           "#00cc96",
           "#ab63fa",
           "#FFA15A",
           "#19d3f3",
           "#FF6692",
           "#B6E880",
           "#FF97FF",
           "#FECB52"
          ],
          "font": {
           "color": "#2a3f5f"
          },
          "geo": {
           "bgcolor": "white",
           "lakecolor": "white",
           "landcolor": "#E5ECF6",
           "showlakes": true,
           "showland": true,
           "subunitcolor": "white"
          },
          "hoverlabel": {
           "align": "left"
          },
          "hovermode": "closest",
          "mapbox": {
           "style": "light"
          },
          "paper_bgcolor": "white",
          "plot_bgcolor": "#E5ECF6",
          "polar": {
           "angularaxis": {
            "gridcolor": "white",
            "linecolor": "white",
            "ticks": ""
           },
           "bgcolor": "#E5ECF6",
           "radialaxis": {
            "gridcolor": "white",
            "linecolor": "white",
            "ticks": ""
           }
          },
          "scene": {
           "xaxis": {
            "backgroundcolor": "#E5ECF6",
            "gridcolor": "white",
            "gridwidth": 2,
            "linecolor": "white",
            "showbackground": true,
            "ticks": "",
            "zerolinecolor": "white"
           },
           "yaxis": {
            "backgroundcolor": "#E5ECF6",
            "gridcolor": "white",
            "gridwidth": 2,
            "linecolor": "white",
            "showbackground": true,
            "ticks": "",
            "zerolinecolor": "white"
           },
           "zaxis": {
            "backgroundcolor": "#E5ECF6",
            "gridcolor": "white",
            "gridwidth": 2,
            "linecolor": "white",
            "showbackground": true,
            "ticks": "",
            "zerolinecolor": "white"
           }
          },
          "shapedefaults": {
           "line": {
            "color": "#2a3f5f"
           }
          },
          "ternary": {
           "aaxis": {
            "gridcolor": "white",
            "linecolor": "white",
            "ticks": ""
           },
           "baxis": {
            "gridcolor": "white",
            "linecolor": "white",
            "ticks": ""
           },
           "bgcolor": "#E5ECF6",
           "caxis": {
            "gridcolor": "white",
            "linecolor": "white",
            "ticks": ""
           }
          },
          "title": {
           "x": 0.05
          },
          "xaxis": {
           "automargin": true,
           "gridcolor": "white",
           "linecolor": "white",
           "ticks": "",
           "title": {
            "standoff": 15
           },
           "zerolinecolor": "white",
           "zerolinewidth": 2
          },
          "yaxis": {
           "automargin": true,
           "gridcolor": "white",
           "linecolor": "white",
           "ticks": "",
           "title": {
            "standoff": 15
           },
           "zerolinecolor": "white",
           "zerolinewidth": 2
          }
         }
        },
        "xaxis": {
         "title": {
          "text": "Year"
         }
        },
        "yaxis": {
         "title": {
          "text": "Annual Territorial emissions (kt CO2e)"
         }
        }
       }
      },
      "text/html": [
       "<div>                            <div id=\"808bfd02-6792-4d70-acd4-eafdf2fb9e3f\" class=\"plotly-graph-div\" style=\"height:525px; width:100%;\"></div>            <script type=\"text/javascript\">                require([\"plotly\"], function(Plotly) {                    window.PLOTLYENV=window.PLOTLYENV || {};                                    if (document.getElementById(\"808bfd02-6792-4d70-acd4-eafdf2fb9e3f\")) {                    Plotly.newPlot(                        \"808bfd02-6792-4d70-acd4-eafdf2fb9e3f\",                        [{\"name\":\"Barnet\",\"x\":[2005,2006,2007,2008,2009,2010,2011,2012,2013,2014,2015,2016,2017,2018,2019,2020],\"y\":[53.988608522,56.822202623,53.186985916,59.597039503000005,57.067456555,56.557556831,49.227800217,49.430061156,51.889026026,52.339996128,53.189937049,54.353228057,58.26036163,57.091260412,57.945878271,41.99712241099999],\"type\":\"scatter\"},{\"name\":\"Blackburn with Darwen\",\"x\":[2005,2006,2007,2008,2009,2010,2011,2012,2013,2014,2015,2016,2017,2018,2019,2020],\"y\":[43.407684936,43.63186721500001,44.518305044,42.530733665,39.657701144,39.427691328,37.810997329,37.108126983,38.812223531,39.225577140000006,40.592887371,41.60774533,36.818976505,39.780264045,39.944270639,28.776814445],\"type\":\"scatter\"},{\"name\":\"Bolton\",\"x\":[2005,2006,2007,2008,2009,2010,2011,2012,2013,2014,2015,2016,2017,2018,2019,2020],\"y\":[158.512865971,159.544365287,163.426526725,156.745990227,153.575691106,149.493066629,157.214790729,159.445582954,158.596821494,164.33905798,167.94433922999997,161.844900178,166.89235890700002,162.604102223,158.52464489,142.115291431],\"type\":\"scatter\"},{\"name\":\"Bracknell Forest\",\"x\":[2005,2006,2007,2008,2009,2010,2011,2012,2013,2014,2015,2016,2017,2018,2019,2020],\"y\":[9.641974755,9.596014801,9.99656016,8.995102641,9.422765467,8.734086133,8.550937397,8.488999322,7.95526593,8.418126315,8.481810988,8.595487513,7.840677418999999,7.687954825,7.558206193,4.866574553],\"type\":\"scatter\"},{\"name\":\"Coventry\",\"x\":[2005,2006,2007,2008,2009,2010,2011,2012,2013,2014,2015,2016,2017,2018,2019,2020],\"y\":[41.237641419000006,41.592488408,41.45404195100001,38.958845047,33.814742149,43.160874943,39.210357253,39.324797939,36.552826353,41.476822112,42.342174944,43.566506102,43.64319718,37.281227271,39.617147555,33.351252822],\"type\":\"scatter\"},{\"name\":\"Dudley\",\"x\":[2005,2006,2007,2008,2009,2010,2011,2012,2013,2014,2015,2016,2017,2018,2019,2020],\"y\":[48.970290857,48.049067916,49.209771756,45.698423527,41.841824589,39.531550784,41.221067541,39.456341876,39.472253338,43.261318066,44.485402031,43.71385745,43.10676716,41.562131129,40.897340142,33.758843803],\"type\":\"scatter\"},{\"name\":\"Enfield\",\"x\":[2005,2006,2007,2008,2009,2010,2011,2012,2013,2014,2015,2016,2017,2018,2019,2020],\"y\":[122.334811817,123.985743196,125.392379386,124.409842953,125.528464062,128.763229196,115.769539259,131.546756389,124.152736427,122.972567209,143.884877836,146.462083717,147.51433026700002,148.219038113,136.439761662,114.445594673],\"type\":\"scatter\"},{\"name\":\"Halton\",\"x\":[2005,2006,2007,2008,2009,2010,2011,2012,2013,2014,2015,2016,2017,2018,2019,2020],\"y\":[50.14861066700001,51.297091876,50.799410139,49.787292026,49.400493126,51.631406205000005,49.158777455,49.26042819,47.850018993,48.903609209,50.249720651,51.663364124,51.73468354800001,50.168359941,46.64031825,37.324866304],\"type\":\"scatter\"},{\"name\":\"Havering\",\"x\":[2005,2006,2007,2008,2009,2010,2011,2012,2013,2014,2015,2016,2017,2018,2019,2020],\"y\":[129.121547449,145.181504297,138.08851433599995,138.025919885,136.49559024899995,125.719796183,134.523531327,124.931793945,130.92806626499998,135.64262623,146.867782521,156.018567688,158.47148081300003,161.286580701,155.385844781,147.193227206],\"type\":\"scatter\"},{\"name\":\"Hounslow\",\"x\":[2005,2006,2007,2008,2009,2010,2011,2012,2013,2014,2015,2016,2017,2018,2019,2020],\"y\":[69.679211202,75.931082136,66.348447448,65.94261259,64.685640541,62.72171482,68.074381034,68.260994826,65.811996159,69.60349358600001,66.648311945,68.19205573699999,67.681418715,65.784937774,69.392767821,44.306321778],\"type\":\"scatter\"},{\"name\":\"Liverpool\",\"x\":[2005,2006,2007,2008,2009,2010,2011,2012,2013,2014,2015,2016,2017,2018,2019,2020],\"y\":[4.5543638170000005,4.644411211,4.720757527,4.545761741,4.424691722,4.363165928,3.68593399,3.633632727,4.03485456,4.095507119999999,4.198526824,4.303212158,4.320857887,4.476620550999999,4.356287388,3.209068376],\"type\":\"scatter\"},{\"name\":\"Luton\",\"x\":[2005,2006,2007,2008,2009,2010,2011,2012,2013,2014,2015,2016,2017,2018,2019,2020],\"y\":[31.81287926,25.993748813,27.204528143000005,27.863432503,24.754067676,27.443241393,27.513462083,28.448691871,29.84521794,30.298551254000003,31.153447532,31.863185576,33.745372917000005,34.480487687,36.064526434,31.216663949000004],\"type\":\"scatter\"},{\"name\":\"Portsmouth\",\"x\":[2005,2006,2007,2008,2009,2010,2011,2012,2013,2014,2015,2016,2017,2018,2019,2020],\"y\":[86.477432933,88.668893266,85.906337438,78.137748968,80.683787666,82.020990789,78.64614895599999,84.298195784,83.51621041,80.066446274,82.794976918,89.11048582000001,84.84669322799999,79.059664465,78.868364313,59.987008497],\"type\":\"scatter\"},{\"name\":\"South Tyneside\",\"x\":[2005,2006,2007,2008,2009,2010,2011,2012,2013,2014,2015,2016,2017,2018,2019,2020],\"y\":[0.125301079,0.126100408,0.127836064,0.122292341,0.158537662,0.155915358,0.156130321,0.153537342,0.162434791,0.1644169379999999,0.1684794539999999,0.172653736,0.175679109,0.165996771,0.162101005,0.1603659979999999],\"type\":\"scatter\"},{\"name\":\"Southampton\",\"x\":[2005,2006,2007,2008,2009,2010,2011,2012,2013,2014,2015,2016,2017,2018,2019,2020],\"y\":[23.384696465,23.136411767,23.175930086,20.984706899,21.493502632,21.89413008,21.86356156,22.346661386,22.432378832,19.893253715,21.820740158000003,22.716200715,22.576326413,22.163047024,19.301437768,14.839431707],\"type\":\"scatter\"},{\"name\":\"Sunderland\",\"x\":[2005,2006,2007,2008,2009,2010,2011,2012,2013,2014,2015,2016,2017,2018,2019,2020],\"y\":[10.716357657,10.753825016,11.385149869,10.920412078,10.616306774,10.7863751,10.477510214,10.314449646,10.410380866,10.549019112,10.782464916,11.086249499,10.189819613,10.159120822000002,10.349215333,7.643073652],\"type\":\"scatter\"},{\"name\":\"Trafford\",\"x\":[2005,2006,2007,2008,2009,2010,2011,2012,2013,2014,2015,2016,2017,2018,2019,2020],\"y\":[106.68206125,103.636815282,102.647234947,97.478641289,95.274319422,95.985432016,94.699119802,98.147771606,97.67243064000002,101.458625269,97.945820125,98.269610789,99.840834575,96.466577251,96.067454668,77.405344759],\"type\":\"scatter\"},{\"name\":\"Worcester\",\"x\":[2005,2006,2007,2008,2009,2010,2011,2012,2013,2014,2015,2016,2017,2018,2019,2020],\"y\":[1.569512846,1.602223089,1.58406575,1.492325191,1.4961180710000002,1.469195495,1.469752045,1.36465442,1.517284444,1.559529547,1.594958769,1.6441386210000002,1.541269988,1.487990778,1.476269169,1.186461944],\"type\":\"scatter\"}],                        {\"template\":{\"data\":{\"histogram2dcontour\":[{\"type\":\"histogram2dcontour\",\"colorbar\":{\"outlinewidth\":0,\"ticks\":\"\"},\"colorscale\":[[0.0,\"#0d0887\"],[0.1111111111111111,\"#46039f\"],[0.2222222222222222,\"#7201a8\"],[0.3333333333333333,\"#9c179e\"],[0.4444444444444444,\"#bd3786\"],[0.5555555555555556,\"#d8576b\"],[0.6666666666666666,\"#ed7953\"],[0.7777777777777778,\"#fb9f3a\"],[0.8888888888888888,\"#fdca26\"],[1.0,\"#f0f921\"]]}],\"choropleth\":[{\"type\":\"choropleth\",\"colorbar\":{\"outlinewidth\":0,\"ticks\":\"\"}}],\"histogram2d\":[{\"type\":\"histogram2d\",\"colorbar\":{\"outlinewidth\":0,\"ticks\":\"\"},\"colorscale\":[[0.0,\"#0d0887\"],[0.1111111111111111,\"#46039f\"],[0.2222222222222222,\"#7201a8\"],[0.3333333333333333,\"#9c179e\"],[0.4444444444444444,\"#bd3786\"],[0.5555555555555556,\"#d8576b\"],[0.6666666666666666,\"#ed7953\"],[0.7777777777777778,\"#fb9f3a\"],[0.8888888888888888,\"#fdca26\"],[1.0,\"#f0f921\"]]}],\"heatmap\":[{\"type\":\"heatmap\",\"colorbar\":{\"outlinewidth\":0,\"ticks\":\"\"},\"colorscale\":[[0.0,\"#0d0887\"],[0.1111111111111111,\"#46039f\"],[0.2222222222222222,\"#7201a8\"],[0.3333333333333333,\"#9c179e\"],[0.4444444444444444,\"#bd3786\"],[0.5555555555555556,\"#d8576b\"],[0.6666666666666666,\"#ed7953\"],[0.7777777777777778,\"#fb9f3a\"],[0.8888888888888888,\"#fdca26\"],[1.0,\"#f0f921\"]]}],\"heatmapgl\":[{\"type\":\"heatmapgl\",\"colorbar\":{\"outlinewidth\":0,\"ticks\":\"\"},\"colorscale\":[[0.0,\"#0d0887\"],[0.1111111111111111,\"#46039f\"],[0.2222222222222222,\"#7201a8\"],[0.3333333333333333,\"#9c179e\"],[0.4444444444444444,\"#bd3786\"],[0.5555555555555556,\"#d8576b\"],[0.6666666666666666,\"#ed7953\"],[0.7777777777777778,\"#fb9f3a\"],[0.8888888888888888,\"#fdca26\"],[1.0,\"#f0f921\"]]}],\"contourcarpet\":[{\"type\":\"contourcarpet\",\"colorbar\":{\"outlinewidth\":0,\"ticks\":\"\"}}],\"contour\":[{\"type\":\"contour\",\"colorbar\":{\"outlinewidth\":0,\"ticks\":\"\"},\"colorscale\":[[0.0,\"#0d0887\"],[0.1111111111111111,\"#46039f\"],[0.2222222222222222,\"#7201a8\"],[0.3333333333333333,\"#9c179e\"],[0.4444444444444444,\"#bd3786\"],[0.5555555555555556,\"#d8576b\"],[0.6666666666666666,\"#ed7953\"],[0.7777777777777778,\"#fb9f3a\"],[0.8888888888888888,\"#fdca26\"],[1.0,\"#f0f921\"]]}],\"surface\":[{\"type\":\"surface\",\"colorbar\":{\"outlinewidth\":0,\"ticks\":\"\"},\"colorscale\":[[0.0,\"#0d0887\"],[0.1111111111111111,\"#46039f\"],[0.2222222222222222,\"#7201a8\"],[0.3333333333333333,\"#9c179e\"],[0.4444444444444444,\"#bd3786\"],[0.5555555555555556,\"#d8576b\"],[0.6666666666666666,\"#ed7953\"],[0.7777777777777778,\"#fb9f3a\"],[0.8888888888888888,\"#fdca26\"],[1.0,\"#f0f921\"]]}],\"mesh3d\":[{\"type\":\"mesh3d\",\"colorbar\":{\"outlinewidth\":0,\"ticks\":\"\"}}],\"scatter\":[{\"fillpattern\":{\"fillmode\":\"overlay\",\"size\":10,\"solidity\":0.2},\"type\":\"scatter\"}],\"parcoords\":[{\"type\":\"parcoords\",\"line\":{\"colorbar\":{\"outlinewidth\":0,\"ticks\":\"\"}}}],\"scatterpolargl\":[{\"type\":\"scatterpolargl\",\"marker\":{\"colorbar\":{\"outlinewidth\":0,\"ticks\":\"\"}}}],\"bar\":[{\"error_x\":{\"color\":\"#2a3f5f\"},\"error_y\":{\"color\":\"#2a3f5f\"},\"marker\":{\"line\":{\"color\":\"#E5ECF6\",\"width\":0.5},\"pattern\":{\"fillmode\":\"overlay\",\"size\":10,\"solidity\":0.2}},\"type\":\"bar\"}],\"scattergeo\":[{\"type\":\"scattergeo\",\"marker\":{\"colorbar\":{\"outlinewidth\":0,\"ticks\":\"\"}}}],\"scatterpolar\":[{\"type\":\"scatterpolar\",\"marker\":{\"colorbar\":{\"outlinewidth\":0,\"ticks\":\"\"}}}],\"histogram\":[{\"marker\":{\"pattern\":{\"fillmode\":\"overlay\",\"size\":10,\"solidity\":0.2}},\"type\":\"histogram\"}],\"scattergl\":[{\"type\":\"scattergl\",\"marker\":{\"colorbar\":{\"outlinewidth\":0,\"ticks\":\"\"}}}],\"scatter3d\":[{\"type\":\"scatter3d\",\"line\":{\"colorbar\":{\"outlinewidth\":0,\"ticks\":\"\"}},\"marker\":{\"colorbar\":{\"outlinewidth\":0,\"ticks\":\"\"}}}],\"scattermapbox\":[{\"type\":\"scattermapbox\",\"marker\":{\"colorbar\":{\"outlinewidth\":0,\"ticks\":\"\"}}}],\"scatterternary\":[{\"type\":\"scatterternary\",\"marker\":{\"colorbar\":{\"outlinewidth\":0,\"ticks\":\"\"}}}],\"scattercarpet\":[{\"type\":\"scattercarpet\",\"marker\":{\"colorbar\":{\"outlinewidth\":0,\"ticks\":\"\"}}}],\"carpet\":[{\"aaxis\":{\"endlinecolor\":\"#2a3f5f\",\"gridcolor\":\"white\",\"linecolor\":\"white\",\"minorgridcolor\":\"white\",\"startlinecolor\":\"#2a3f5f\"},\"baxis\":{\"endlinecolor\":\"#2a3f5f\",\"gridcolor\":\"white\",\"linecolor\":\"white\",\"minorgridcolor\":\"white\",\"startlinecolor\":\"#2a3f5f\"},\"type\":\"carpet\"}],\"table\":[{\"cells\":{\"fill\":{\"color\":\"#EBF0F8\"},\"line\":{\"color\":\"white\"}},\"header\":{\"fill\":{\"color\":\"#C8D4E3\"},\"line\":{\"color\":\"white\"}},\"type\":\"table\"}],\"barpolar\":[{\"marker\":{\"line\":{\"color\":\"#E5ECF6\",\"width\":0.5},\"pattern\":{\"fillmode\":\"overlay\",\"size\":10,\"solidity\":0.2}},\"type\":\"barpolar\"}],\"pie\":[{\"automargin\":true,\"type\":\"pie\"}]},\"layout\":{\"autotypenumbers\":\"strict\",\"colorway\":[\"#636efa\",\"#EF553B\",\"#00cc96\",\"#ab63fa\",\"#FFA15A\",\"#19d3f3\",\"#FF6692\",\"#B6E880\",\"#FF97FF\",\"#FECB52\"],\"font\":{\"color\":\"#2a3f5f\"},\"hovermode\":\"closest\",\"hoverlabel\":{\"align\":\"left\"},\"paper_bgcolor\":\"white\",\"plot_bgcolor\":\"#E5ECF6\",\"polar\":{\"bgcolor\":\"#E5ECF6\",\"angularaxis\":{\"gridcolor\":\"white\",\"linecolor\":\"white\",\"ticks\":\"\"},\"radialaxis\":{\"gridcolor\":\"white\",\"linecolor\":\"white\",\"ticks\":\"\"}},\"ternary\":{\"bgcolor\":\"#E5ECF6\",\"aaxis\":{\"gridcolor\":\"white\",\"linecolor\":\"white\",\"ticks\":\"\"},\"baxis\":{\"gridcolor\":\"white\",\"linecolor\":\"white\",\"ticks\":\"\"},\"caxis\":{\"gridcolor\":\"white\",\"linecolor\":\"white\",\"ticks\":\"\"}},\"coloraxis\":{\"colorbar\":{\"outlinewidth\":0,\"ticks\":\"\"}},\"colorscale\":{\"sequential\":[[0.0,\"#0d0887\"],[0.1111111111111111,\"#46039f\"],[0.2222222222222222,\"#7201a8\"],[0.3333333333333333,\"#9c179e\"],[0.4444444444444444,\"#bd3786\"],[0.5555555555555556,\"#d8576b\"],[0.6666666666666666,\"#ed7953\"],[0.7777777777777778,\"#fb9f3a\"],[0.8888888888888888,\"#fdca26\"],[1.0,\"#f0f921\"]],\"sequentialminus\":[[0.0,\"#0d0887\"],[0.1111111111111111,\"#46039f\"],[0.2222222222222222,\"#7201a8\"],[0.3333333333333333,\"#9c179e\"],[0.4444444444444444,\"#bd3786\"],[0.5555555555555556,\"#d8576b\"],[0.6666666666666666,\"#ed7953\"],[0.7777777777777778,\"#fb9f3a\"],[0.8888888888888888,\"#fdca26\"],[1.0,\"#f0f921\"]],\"diverging\":[[0,\"#8e0152\"],[0.1,\"#c51b7d\"],[0.2,\"#de77ae\"],[0.3,\"#f1b6da\"],[0.4,\"#fde0ef\"],[0.5,\"#f7f7f7\"],[0.6,\"#e6f5d0\"],[0.7,\"#b8e186\"],[0.8,\"#7fbc41\"],[0.9,\"#4d9221\"],[1,\"#276419\"]]},\"xaxis\":{\"gridcolor\":\"white\",\"linecolor\":\"white\",\"ticks\":\"\",\"title\":{\"standoff\":15},\"zerolinecolor\":\"white\",\"automargin\":true,\"zerolinewidth\":2},\"yaxis\":{\"gridcolor\":\"white\",\"linecolor\":\"white\",\"ticks\":\"\",\"title\":{\"standoff\":15},\"zerolinecolor\":\"white\",\"automargin\":true,\"zerolinewidth\":2},\"scene\":{\"xaxis\":{\"backgroundcolor\":\"#E5ECF6\",\"gridcolor\":\"white\",\"linecolor\":\"white\",\"showbackground\":true,\"ticks\":\"\",\"zerolinecolor\":\"white\",\"gridwidth\":2},\"yaxis\":{\"backgroundcolor\":\"#E5ECF6\",\"gridcolor\":\"white\",\"linecolor\":\"white\",\"showbackground\":true,\"ticks\":\"\",\"zerolinecolor\":\"white\",\"gridwidth\":2},\"zaxis\":{\"backgroundcolor\":\"#E5ECF6\",\"gridcolor\":\"white\",\"linecolor\":\"white\",\"showbackground\":true,\"ticks\":\"\",\"zerolinecolor\":\"white\",\"gridwidth\":2}},\"shapedefaults\":{\"line\":{\"color\":\"#2a3f5f\"}},\"annotationdefaults\":{\"arrowcolor\":\"#2a3f5f\",\"arrowhead\":0,\"arrowwidth\":1},\"geo\":{\"bgcolor\":\"white\",\"landcolor\":\"#E5ECF6\",\"subunitcolor\":\"white\",\"showland\":true,\"showlakes\":true,\"lakecolor\":\"white\"},\"title\":{\"x\":0.05},\"mapbox\":{\"style\":\"light\"}}},\"xaxis\":{\"title\":{\"text\":\"Year\"}},\"yaxis\":{\"title\":{\"text\":\"Annual Territorial emissions (kt CO2e)\"}}},                        {\"responsive\": true}                    ).then(function(){\n",
       "                            \n",
       "var gd = document.getElementById('808bfd02-6792-4d70-acd4-eafdf2fb9e3f');\n",
       "var x = new MutationObserver(function (mutations, observer) {{\n",
       "        var display = window.getComputedStyle(gd).display;\n",
       "        if (!display || display === 'none') {{\n",
       "            console.log([gd, 'removed!']);\n",
       "            Plotly.purge(gd);\n",
       "            observer.disconnect();\n",
       "        }}\n",
       "}});\n",
       "\n",
       "// Listen for the removal of the full notebook cells\n",
       "var notebookContainer = gd.closest('#notebook-container');\n",
       "if (notebookContainer) {{\n",
       "    x.observe(notebookContainer, {childList: true});\n",
       "}}\n",
       "\n",
       "// Listen for the clearing of the current output cell\n",
       "var outputEl = gd.closest('.output');\n",
       "if (outputEl) {{\n",
       "    x.observe(outputEl, {childList: true});\n",
       "}}\n",
       "\n",
       "                        })                };                });            </script>        </div>"
      ]
     },
     "metadata": {},
     "output_type": "display_data"
    }
   ],
   "source": [
    "fig = go.Figure()\n",
    "\n",
    "for i, df in enumerate(df_ghg_list):\n",
    "    fig = fig.add_trace(go.Scatter(x = df['Calendar Year'], y=df['Annual Territorial emissions (kt CO2e)'], name=df.iloc[0]['Local Authority']))\n",
    "\n",
    "fig.update_xaxes(title='Year')\n",
    "fig.update_yaxes(title='Annual Territorial emissions (kt CO2e)')\n",
    "\n",
    "fig.show()"
   ]
  },
  {
   "attachments": {},
   "cell_type": "markdown",
   "metadata": {},
   "source": [
    "### AADT and GHG Emissions"
   ]
  },
  {
   "cell_type": "code",
   "execution_count": 289,
   "metadata": {},
   "outputs": [
    {
     "data": {
      "application/vnd.plotly.v1+json": {
       "config": {
        "plotlyServerURL": "https://plot.ly"
       },
       "data": [
        {
         "marker": {
          "color": "#636EFA"
         },
         "mode": "markers",
         "name": "Luton",
         "type": "scatter",
         "x": [
          57600,
          48583.5,
          50652.5,
          53492.5,
          49612.5,
          54367,
          54802.5,
          56972.5,
          61684,
          62781,
          64218,
          65315.5,
          67952,
          70355,
          74481.5,
          58868.5
         ],
         "y": [
          31.81287926,
          25.993748813,
          27.204528143000005,
          27.863432503,
          24.754067676,
          27.443241393,
          27.513462083,
          28.448691871,
          29.84521794,
          30.298551254000003,
          31.153447532,
          31.863185576,
          33.745372917000005,
          34.480487687,
          36.064526434,
          31.216663949000004
         ]
        },
        {
         "marker": {
          "color": "#636EFA",
          "size": 15
         },
         "mode": "lines",
         "name": "Luton OLS",
         "type": "scatter",
         "x": [
          57600,
          48583.5,
          50652.5,
          53492.5,
          49612.5,
          54367,
          54802.5,
          56972.5,
          61684,
          62781,
          64218,
          65315.5,
          67952,
          70355,
          74481.5,
          58868.5
         ],
         "y": [
          29.237410274412113,
          25.676421363742246,
          26.493555069301607,
          27.615188575240985,
          26.082816038957606,
          27.960564807967742,
          28.13256177692429,
          28.989584561392057,
          30.850350851262967,
          31.283601540000816,
          31.851132296351132,
          32.28458045577665,
          33.325843391836216,
          34.27488751675605,
          35.90461310205846,
          29.738393409019192
         ]
        },
        {
         "marker": {
          "color": "#EF553B"
         },
         "mode": "markers",
         "name": "Hounslow",
         "type": "scatter",
         "x": [
          46173,
          49415,
          43854.5,
          47815,
          47960,
          42799,
          50307,
          47347.5,
          46586.5,
          50098,
          50412.5,
          51224,
          51913.5,
          51047.5,
          56651,
          35191
         ],
         "y": [
          69.679211202,
          75.931082136,
          66.348447448,
          65.94261259,
          64.685640541,
          62.72171482,
          68.074381034,
          68.260994826,
          65.811996159,
          69.60349358600001,
          66.648311945,
          68.19205573699999,
          67.681418715,
          65.784937774,
          69.392767821,
          44.306321778
         ]
        },
        {
         "marker": {
          "color": "#EF553B",
          "size": 15
         },
         "mode": "lines",
         "name": "Hounslow OLS",
         "type": "scatter",
         "x": [
          46173,
          49415,
          43854.5,
          47815,
          47960,
          42799,
          50307,
          47347.5,
          46586.5,
          50098,
          50412.5,
          51224,
          51913.5,
          51047.5,
          56651,
          35191
         ],
         "y": [
          64.23620508467587,
          67.61415020429475,
          61.82048461587994,
          65.94705822669135,
          66.09813843716165,
          60.720724876904704,
          68.54355398180863,
          65.45995478948535,
          64.66704416763774,
          68.3257900922342,
          68.65347785908186,
          69.49900607147259,
          70.21741852057104,
          69.31510498769322,
          75.1535736730061,
          52.793702523400555
         ]
        },
        {
         "marker": {
          "color": "#00CC96"
         },
         "mode": "markers",
         "name": "Portsmouth",
         "type": "scatter",
         "x": [
          43541,
          43913,
          44443,
          39796,
          39458,
          55932,
          55058,
          42156,
          42962,
          41311,
          41812,
          52453.5,
          42515,
          42201,
          43146,
          35357
         ],
         "y": [
          86.477432933,
          88.668893266,
          85.906337438,
          78.137748968,
          80.683787666,
          82.020990789,
          78.64614895599999,
          84.298195784,
          83.51621041,
          80.066446274,
          82.794976918,
          89.11048582000001,
          84.84669322799999,
          79.059664465,
          78.868364313,
          59.987008497
         ]
        },
        {
         "marker": {
          "color": "#00CC96",
          "size": 15
         },
         "mode": "lines",
         "name": "Portsmouth OLS",
         "type": "scatter",
         "x": [
          43541,
          43913,
          44443,
          39796,
          39458,
          55932,
          55058,
          42156,
          42962,
          41311,
          41812,
          52453.5,
          42515,
          42201,
          43146,
          35357
         ],
         "y": [
          81.14763866708776,
          81.33474364588159,
          81.60131794362549,
          79.2640146198219,
          79.09401063371354,
          87.37994456019086,
          86.94034845409999,
          80.45102470034192,
          80.85641882106188,
          80.02601473507099,
          80.27800289199493,
          85.63036211735663,
          80.63159106428542,
          80.47365836713149,
          80.9489653697126,
          77.03132913362349
         ]
        },
        {
         "marker": {
          "color": "#AB63FA"
         },
         "mode": "markers",
         "name": "Southampton",
         "type": "scatter",
         "x": [
          43978.5,
          44305.5,
          45241.5,
          42463,
          42621.5,
          42894.5,
          39663.5,
          44173,
          44729.5,
          34333.5,
          45016.5,
          46522,
          44990.5,
          45093.5,
          45489.5,
          31664.5
         ],
         "y": [
          23.384696465,
          23.136411767,
          23.175930086,
          20.984706899,
          21.493502632,
          21.89413008,
          21.86356156,
          22.346661386,
          22.432378832,
          19.893253715,
          21.820740158000003,
          22.716200715,
          22.576326413,
          22.163047024,
          19.301437768,
          14.839431707
         ]
        },
        {
         "marker": {
          "color": "#AB63FA",
          "size": 15
         },
         "mode": "lines",
         "name": "Southampton OLS",
         "type": "scatter",
         "x": [
          43978.5,
          44305.5,
          45241.5,
          42463,
          42621.5,
          42894.5,
          39663.5,
          44173,
          44729.5,
          34333.5,
          45016.5,
          46522,
          44990.5,
          45093.5,
          45489.5,
          31664.5
         ],
         "y": [
          22.008657371576746,
          22.138273983693693,
          22.509286671588075,
          21.40794184967083,
          21.470768250345255,
          21.578980284314447,
          20.29827302514057,
          22.085753491016337,
          22.306339560261236,
          18.185561885742004,
          22.42010092930577,
          23.016852640443584,
          22.409795021308707,
          22.450622272220162,
          22.607589178637014,
          17.12762079173548
         ]
        },
        {
         "marker": {
          "color": "#FFA15A"
         },
         "mode": "markers",
         "name": "South Tyneside",
         "type": "scatter",
         "x": [
          20469.5,
          20862.5,
          21209,
          21137,
          21401,
          21503.5
         ],
         "y": [
          0.1684794539999999,
          0.172653736,
          0.175679109,
          0.165996771,
          0.162101005,
          0.1603659979999999
         ]
        },
        {
         "marker": {
          "color": "#FFA15A",
          "size": 15
         },
         "mode": "lines",
         "name": "South Tyneside OLS",
         "type": "scatter",
         "x": [
          20469.5,
          20862.5,
          21209,
          21137,
          21401,
          21503.5
         ],
         "y": [
          0.1723438186854374,
          0.16933937630826038,
          0.1666904213879249,
          0.16724085357916343,
          0.1652226022112888,
          0.16443900082792837,
          null,
          null,
          null,
          null,
          null,
          null,
          null,
          null,
          null,
          null
         ]
        },
        {
         "marker": {
          "color": "#19D3F3"
         },
         "mode": "markers",
         "name": "Enfield",
         "type": "scatter",
         "x": [
          55396,
          59292.5,
          58762,
          56650,
          60896.5,
          58916.5,
          59874.5,
          61569.5,
          56160,
          61457,
          70093.5,
          70379.5,
          71285.5,
          72215.5,
          70803.5,
          57360.5
         ],
         "y": [
          122.334811817,
          123.985743196,
          125.392379386,
          124.409842953,
          125.528464062,
          128.763229196,
          115.769539259,
          131.546756389,
          124.152736427,
          122.972567209,
          143.884877836,
          146.462083717,
          147.51433026700002,
          148.219038113,
          136.439761662,
          114.445594673
         ]
        },
        {
         "marker": {
          "color": "#19D3F3",
          "size": 15
         },
         "mode": "lines",
         "name": "Enfield OLS",
         "type": "scatter",
         "x": [
          55396,
          59292.5,
          58762,
          56650,
          60896.5,
          58916.5,
          59874.5,
          61569.5,
          56160,
          61457,
          70093.5,
          70379.5,
          71285.5,
          72215.5,
          70803.5,
          57360.5
         ],
         "y": [
          118.39426025440748,
          124.7600817560603,
          123.89338900445583,
          120.4429552789353,
          127.3805816119954,
          124.1457999943199,
          125.71091150428613,
          128.4800806163871,
          119.6424285149651,
          128.29628620629194,
          142.40597885328913,
          142.87322508695337,
          144.35338273625337,
          145.872749859707,
          143.56592579700103,
          121.6037190866921
         ]
        },
        {
         "marker": {
          "color": "#FF6692"
         },
         "mode": "markers",
         "name": "Halton",
         "type": "scatter",
         "x": [
          45427,
          50342,
          44895.5,
          51039.5,
          47924,
          48656,
          47661,
          50552,
          49156.5,
          52046.5,
          50634,
          51556,
          52376,
          52394,
          50919,
          36065
         ],
         "y": [
          50.14861066700001,
          51.297091876,
          50.799410139,
          49.787292026,
          49.400493126,
          51.631406205000005,
          49.158777455,
          49.26042819,
          47.850018993,
          48.903609209,
          50.249720651,
          51.663364124,
          51.73468354800001,
          50.168359941,
          46.64031825,
          37.324866304
         ]
        },
        {
         "marker": {
          "color": "#FF6692",
          "size": 15
         },
         "mode": "lines",
         "name": "Halton OLS",
         "type": "scatter",
         "x": [
          45427,
          50342,
          44895.5,
          51039.5,
          47924,
          48656,
          47661,
          50552,
          49156.5,
          52046.5,
          50634,
          51556,
          52376,
          52394,
          50919,
          36065
         ],
         "y": [
          46.95514342486194,
          50.06993956948392,
          46.61831450301726,
          50.51196811696588,
          48.53757393821313,
          49.00146626331247,
          48.37090224217333,
          50.20302343324193,
          49.31864947193573,
          51.15013693031977,
          50.25498951337601,
          50.83929104854213,
          51.35895184988293,
          51.370359038205045,
          50.43560332847617,
          41.02213803199295
         ]
        },
        {
         "marker": {
          "color": "#B6E880"
         },
         "mode": "markers",
         "name": "Barnet",
         "type": "scatter",
         "x": [
          21910,
          22258,
          21718,
          21857,
          21917,
          21701,
          21679,
          21685,
          21932,
          22291,
          23101,
          22046,
          19861,
          19863,
          20004.5,
          15352
         ],
         "y": [
          53.988608522,
          56.822202623,
          53.186985916,
          59.597039503000005,
          57.067456555,
          56.557556831,
          49.227800217,
          49.430061156,
          51.889026026,
          52.339996128,
          53.189937049,
          54.353228057,
          58.26036163,
          57.091260412,
          57.945878271,
          41.99712241099999
         ]
        },
        {
         "marker": {
          "color": "#B6E880",
          "size": 15
         },
         "mode": "lines",
         "name": "Barnet OLS",
         "type": "scatter",
         "x": [
          21910,
          22258,
          21718,
          21857,
          21917,
          21701,
          21679,
          21685,
          21932,
          22291,
          23101,
          22046,
          19861,
          19863,
          20004.5,
          15352
         ],
         "y": [
          54.7539108392717,
          55.15490184794389,
          54.53267442069392,
          54.69284036956012,
          54.761976750365676,
          54.51308577946568,
          54.487735773170314,
          54.494649411250876,
          54.779260845567066,
          55.19292685738695,
          56.1262679982619,
          54.91061996909761,
          52.39290343476209,
          52.39520798078894,
          52.558254612188705,
          47.197304417224856
         ]
        },
        {
         "marker": {
          "color": "#FF97FF"
         },
         "mode": "markers",
         "name": "Dudley",
         "type": "scatter",
         "x": [
          46274,
          47249.5,
          47835,
          47094,
          44788.5,
          40959.5,
          44060,
          41994.5,
          42819.5,
          45390,
          46440.5,
          45262.5,
          46233.5,
          44584.5,
          47247,
          37000
         ],
         "y": [
          48.970290857,
          48.049067916,
          49.209771756,
          45.698423527,
          41.841824589,
          39.531550784,
          41.221067541,
          39.456341876,
          39.472253338,
          43.261318066,
          44.485402031,
          43.71385745,
          43.10676716,
          41.562131129,
          40.897340142,
          33.758843803
         ]
        },
        {
         "marker": {
          "color": "#FF97FF",
          "size": 15
         },
         "mode": "lines",
         "name": "Dudley OLS",
         "type": "scatter",
         "x": [
          46274,
          47249.5,
          47835,
          47094,
          44788.5,
          40959.5,
          44060,
          41994.5,
          42819.5,
          45390,
          46440.5,
          45262.5,
          46233.5,
          44584.5,
          47247,
          37000
         ],
         "y": [
          44.6719887705162,
          45.855533964177006,
          46.56590373443677,
          45.6668704299748,
          42.869675715484796,
          38.22406367393971,
          41.98580828997798,
          39.47979845142709,
          40.48074646246775,
          43.59945781080717,
          44.87399827819895,
          43.444765845464524,
          44.62285132270147,
          42.62216857093656,
          45.852500788385974,
          33.42011985610273
         ]
        },
        {
         "marker": {
          "color": "#FECB52"
         },
         "mode": "markers",
         "name": "Coventry",
         "type": "scatter",
         "x": [
          56825,
          59177.5,
          58229.5,
          57085.5,
          50914.5,
          61596,
          61495.5,
          61944.5,
          56917.5,
          62211.5,
          62838,
          64006,
          64124.5,
          56333.5,
          62277.5,
          47389
         ],
         "y": [
          41.237641419000006,
          41.592488408,
          41.45404195100001,
          38.958845047,
          33.814742149,
          43.160874943,
          39.210357253,
          39.324797939,
          36.552826353,
          41.476822112,
          42.342174944,
          43.566506102,
          43.64319718,
          37.281227271,
          39.617147555,
          33.351252822
         ]
        },
        {
         "marker": {
          "color": "#FECB52",
          "size": 15
         },
         "mode": "lines",
         "name": "Coventry OLS",
         "type": "scatter",
         "x": [
          56825,
          59177.5,
          58229.5,
          57085.5,
          50914.5,
          61596,
          61495.5,
          61944.5,
          56917.5,
          62211.5,
          62838,
          64006,
          64124.5,
          56333.5,
          62277.5,
          47389
         ],
         "y": [
          38.533957385921184,
          39.913943730489436,
          39.35784296336905,
          38.686767776042345,
          35.066833352097305,
          41.33264595124962,
          41.273692230684645,
          41.537077509626684,
          38.58821827300835,
          41.693700826948564,
          42.06120834867949,
          42.74636203643963,
          42.815874632329674,
          38.245641429128284,
          41.73241670314049,
          32.99876029884528
         ]
        },
        {
         "marker": {
          "color": "#636EFA"
         },
         "mode": "markers",
         "name": "Trafford",
         "type": "scatter",
         "x": [
          55587.5,
          55200,
          53971.5,
          53190.5,
          54196,
          56142,
          58857.5,
          63137.5,
          63758,
          65851.5,
          60815,
          59124,
          60955.5,
          60317.5,
          60508.5,
          47573
         ],
         "y": [
          106.68206125,
          103.636815282,
          102.647234947,
          97.478641289,
          95.274319422,
          95.985432016,
          94.699119802,
          98.147771606,
          97.67243064000002,
          101.458625269,
          97.945820125,
          98.269610789,
          99.840834575,
          96.466577251,
          96.067454668,
          77.405344759
         ]
        },
        {
         "marker": {
          "color": "#636EFA",
          "size": 15
         },
         "mode": "lines",
         "name": "Trafford OLS",
         "type": "scatter",
         "x": [
          55587.5,
          55200,
          53971.5,
          53190.5,
          54196,
          56142,
          58857.5,
          63137.5,
          63758,
          65851.5,
          60815,
          59124,
          60955.5,
          60317.5,
          60508.5,
          47573
         ],
         "y": [
          96.00100875146765,
          95.77054772808536,
          95.03991194169791,
          94.5754214661842,
          95.17343065072842,
          96.33079104170113,
          97.94580241975171,
          100.49128159414187,
          100.86031660061596,
          102.10540086500515,
          99.1100022991603,
          98.10430013002625,
          99.19356300570277,
          98.81412008204367,
          98.92771506389147,
          91.23448004979711
         ]
        },
        {
         "marker": {
          "color": "#EF553B"
         },
         "mode": "markers",
         "name": "Bracknell Forest",
         "type": "scatter",
         "x": [
          65294.5,
          64616,
          67676,
          62543,
          65812,
          61778.5,
          63461.5,
          64329,
          60105.5,
          63054.5,
          64056.5,
          65020,
          56322.5,
          56226.5,
          57369,
          33438
         ],
         "y": [
          9.641974755,
          9.596014801,
          9.99656016,
          8.995102641,
          9.422765467,
          8.734086133,
          8.550937397,
          8.488999322,
          7.95526593,
          8.418126315,
          8.481810988,
          8.595487513,
          7.840677418999999,
          7.687954825,
          7.558206193,
          4.866574553
         ]
        },
        {
         "marker": {
          "color": "#EF553B",
          "size": 15
         },
         "mode": "lines",
         "name": "Bracknell Forest OLS",
         "type": "scatter",
         "x": [
          65294.5,
          64616,
          67676,
          62543,
          65812,
          61778.5,
          63461.5,
          64329,
          60105.5,
          63054.5,
          64056.5,
          65020,
          56322.5,
          56226.5,
          57369,
          33438
         ],
         "y": [
          9.07060808260187,
          8.97567408049365,
          9.403821532890337,
          8.685625169115113,
          9.143015372345427,
          8.578658264749993,
          8.81413936356817,
          8.93551776714795,
          8.344576340612852,
          8.75719295405005,
          8.897390257089748,
          9.032200737607463,
          7.815268558777342,
          7.801836481839406,
          7.961692189147646,
          4.6133272599629835
         ]
        },
        {
         "marker": {
          "color": "#00CC96"
         },
         "mode": "markers",
         "name": "Havering",
         "type": "scatter",
         "x": [
          52284.5,
          59869,
          50128.5,
          57111.5,
          59023.5,
          54016.5,
          52661,
          56003,
          56496,
          57488,
          65400,
          66643,
          65754,
          66344,
          67828.5,
          59901
         ],
         "y": [
          129.121547449,
          145.181504297,
          138.08851433599995,
          138.025919885,
          136.49559024899995,
          125.719796183,
          134.523531327,
          124.931793945,
          130.92806626499998,
          135.64262623,
          146.867782521,
          156.018567688,
          158.47148081300003,
          161.286580701,
          155.385844781,
          147.193227206
         ]
        },
        {
         "marker": {
          "color": "#00CC96",
          "size": 15
         },
         "mode": "lines",
         "name": "Havering OLS",
         "type": "scatter",
         "x": [
          52284.5,
          59869,
          50128.5,
          57111.5,
          59023.5,
          54016.5,
          52661,
          56003,
          56496,
          57488,
          65400,
          66643,
          65754,
          66344,
          67828.5,
          59901
         ],
         "y": [
          129.27330456310557,
          142.70484269100905,
          125.45520235415839,
          137.821532467831,
          141.20753034515337,
          132.34053694988503,
          129.94005571415778,
          135.8584683219043,
          136.73153158211346,
          138.48828361888326,
          152.49979784763562,
          154.70105065177353,
          153.12670331237,
          154.17154575359393,
          156.8004755908769,
          142.76151211155002
         ]
        },
        {
         "marker": {
          "color": "#AB63FA"
         },
         "mode": "markers",
         "name": "Liverpool",
         "type": "scatter",
         "x": [
          30542,
          31236,
          31675.5,
          31239,
          30391,
          29983,
          26751.5,
          26434.5,
          29885.5,
          30560,
          31224,
          32102.5,
          32257.5,
          34339.5,
          34635.5,
          25812.5
         ],
         "y": [
          4.5543638170000005,
          4.644411211,
          4.720757527,
          4.545761741,
          4.424691722,
          4.363165928,
          3.68593399,
          3.633632727,
          4.03485456,
          4.095507119999999,
          4.198526824,
          4.303212158,
          4.320857887,
          4.476620550999999,
          4.356287388,
          3.209068376
         ]
        },
        {
         "marker": {
          "color": "#AB63FA",
          "size": 15
         },
         "mode": "lines",
         "name": "Liverpool OLS",
         "type": "scatter",
         "x": [
          30542,
          31236,
          31675.5,
          31239,
          30391,
          29983,
          26751.5,
          26434.5,
          29885.5,
          30560,
          31224,
          32102.5,
          32257.5,
          34339.5,
          34635.5,
          25812.5
         ],
         "y": [
          4.219759741327577,
          4.309670131356773,
          4.366609059912726,
          4.31005879298514,
          4.200197106033039,
          4.147339124574954,
          3.728685773884251,
          3.6876171951533356,
          4.134707621652984,
          4.222091711097786,
          4.308115484843299,
          4.421928565017145,
          4.442009415816173,
          4.711740585903762,
          4.750088533236099,
          3.6070346842049785
         ]
        },
        {
         "marker": {
          "color": "#FFA15A"
         },
         "mode": "markers",
         "name": "Blackburn with Darwen",
         "type": "scatter",
         "x": [
          30241,
          31125.5,
          32970.5,
          32455.5,
          30340.5,
          31366.5,
          31914.5,
          28844.5,
          33034.5,
          34052,
          34221.5,
          34413.5,
          30777,
          35333,
          36868.5,
          25120
         ],
         "y": [
          43.407684936,
          43.63186721500001,
          44.518305044,
          42.530733665,
          39.657701144,
          39.427691328,
          37.810997329,
          37.108126983,
          38.812223531,
          39.225577140000006,
          40.592887371,
          41.60774533,
          36.818976505,
          39.780264045,
          39.944270639,
          28.776814445
         ]
        },
        {
         "marker": {
          "color": "#FFA15A",
          "size": 15
         },
         "mode": "lines",
         "name": "Blackburn with Darwen OLS",
         "type": "scatter",
         "x": [
          30241,
          31125.5,
          32970.5,
          32455.5,
          30340.5,
          31366.5,
          31914.5,
          28844.5,
          33034.5,
          34052,
          34221.5,
          34413.5,
          30777,
          35333,
          36868.5,
          25120
         ],
         "y": [
          38.21455563017828,
          38.887074571871906,
          40.28989814160028,
          39.89832408284141,
          38.290209259006446,
          39.07031602461149,
          39.48698123665005,
          37.1527436436603,
          40.338559772203325,
          41.112203664993906,
          41.241080952294155,
          41.38706584410329,
          38.62209678647877,
          42.08619661503296,
          43.25369558051692,
          34.3208648439566
         ]
        },
        {
         "marker": {
          "color": "#19D3F3"
         },
         "mode": "markers",
         "name": "Sunderland",
         "type": "scatter",
         "x": [
          21071,
          22994,
          18286,
          20850,
          18009,
          18392,
          18612,
          12878
         ],
         "y": [
          10.410380866,
          10.549019112,
          10.782464916,
          11.086249499,
          10.189819613,
          10.159120822000002,
          10.349215333,
          7.643073652
         ]
        },
        {
         "marker": {
          "color": "#19D3F3",
          "size": 15
         },
         "mode": "lines",
         "name": "Sunderland OLS",
         "type": "scatter",
         "x": [
          21071,
          22994,
          18286,
          20850,
          18009,
          18392,
          18612,
          12878
         ],
         "y": [
          10.791802731710527,
          11.360150469879203,
          9.968688612729892,
          10.726485596954792,
          9.886820529800758,
          10.000017193200968,
          10.065038775310748,
          8.370339903413095,
          null,
          null,
          null,
          null,
          null,
          null,
          null,
          null
         ]
        },
        {
         "marker": {
          "color": "#FF6692"
         },
         "mode": "markers",
         "name": "Bolton",
         "type": "scatter",
         "x": [
          42851,
          44227,
          43482,
          41602,
          45552,
          41708,
          43680.5,
          42669.5,
          43692.5,
          47155,
          47252.5,
          44237,
          46194.5,
          46121,
          46655.5,
          40307.5
         ],
         "y": [
          158.512865971,
          159.544365287,
          163.426526725,
          156.745990227,
          153.575691106,
          149.493066629,
          157.214790729,
          159.445582954,
          158.596821494,
          164.33905798,
          167.94433922999997,
          161.844900178,
          166.89235890700002,
          162.604102223,
          158.52464489,
          142.115291431
         ]
        },
        {
         "marker": {
          "color": "#FF6692",
          "size": 15
         },
         "mode": "lines",
         "name": "Bolton OLS",
         "type": "scatter",
         "x": [
          42851,
          44227,
          43482,
          41602,
          45552,
          41708,
          43680.5,
          42669.5,
          43692.5,
          47155,
          47252.5,
          44237,
          46194.5,
          46121,
          46655.5,
          40307.5
         ],
         "y": [
          155.73774413274873,
          158.83567904838347,
          157.15838143781087,
          152.92573780307742,
          161.81879224839508,
          153.16438685907835,
          157.60528556626548,
          155.32911390950187,
          157.6323024405297,
          165.42779636886198,
          165.64730847225906,
          158.85819311027035,
          163.26532072462714,
          163.09984236975856,
          164.30321897761232,
          150.01129249182077
         ]
        },
        {
         "mode": "lines",
         "name": "Total OLS",
         "type": "scatter",
         "x": [
          57600,
          48583.5,
          50652.5,
          53492.5,
          49612.5,
          54367,
          54802.5,
          56972.5,
          61684,
          62781,
          64218,
          65315.5,
          67952,
          70355,
          74481.5,
          58868.5,
          46173,
          49415,
          43854.5,
          47815,
          47960,
          42799,
          50307,
          47347.5,
          46586.5,
          50098,
          50412.5,
          51224,
          51913.5,
          51047.5,
          56651,
          35191,
          43541,
          43913,
          44443,
          39796,
          39458,
          55932,
          55058,
          42156,
          42962,
          41311,
          41812,
          52453.5,
          42515,
          42201,
          43146,
          35357,
          43978.5,
          44305.5,
          45241.5,
          42463,
          42621.5,
          42894.5,
          39663.5,
          44173,
          44729.5,
          34333.5,
          45016.5,
          46522,
          44990.5,
          45093.5,
          45489.5,
          31664.5,
          20469.5,
          20862.5,
          21209,
          21137,
          21401,
          21503.5,
          55396,
          59292.5,
          58762,
          56650,
          60896.5,
          58916.5,
          59874.5,
          61569.5,
          56160,
          61457,
          70093.5,
          70379.5,
          71285.5,
          72215.5,
          70803.5,
          57360.5,
          45427,
          50342,
          44895.5,
          51039.5,
          47924,
          48656,
          47661,
          50552,
          49156.5,
          52046.5,
          50634,
          51556,
          52376,
          52394,
          50919,
          36065,
          21910,
          22258,
          21718,
          21857,
          21917,
          21701,
          21679,
          21685,
          21932,
          22291,
          23101,
          22046,
          19861,
          19863,
          20004.5,
          15352,
          46274,
          47249.5,
          47835,
          47094,
          44788.5,
          40959.5,
          44060,
          41994.5,
          42819.5,
          45390,
          46440.5,
          45262.5,
          46233.5,
          44584.5,
          47247,
          37000,
          56825,
          59177.5,
          58229.5,
          57085.5,
          50914.5,
          61596,
          61495.5,
          61944.5,
          56917.5,
          62211.5,
          62838,
          64006,
          64124.5,
          56333.5,
          62277.5,
          47389,
          55587.5,
          55200,
          53971.5,
          53190.5,
          54196,
          56142,
          58857.5,
          63137.5,
          63758,
          65851.5,
          60815,
          59124,
          60955.5,
          60317.5,
          60508.5,
          47573,
          65294.5,
          64616,
          67676,
          62543,
          65812,
          61778.5,
          63461.5,
          64329,
          60105.5,
          63054.5,
          64056.5,
          65020,
          56322.5,
          56226.5,
          57369,
          33438,
          52284.5,
          59869,
          50128.5,
          57111.5,
          59023.5,
          54016.5,
          52661,
          56003,
          56496,
          57488,
          65400,
          66643,
          65754,
          66344,
          67828.5,
          59901,
          30542,
          31236,
          31675.5,
          31239,
          30391,
          29983,
          26751.5,
          26434.5,
          29885.5,
          30560,
          31224,
          32102.5,
          32257.5,
          34339.5,
          34635.5,
          25812.5,
          30241,
          31125.5,
          32970.5,
          32455.5,
          30340.5,
          31366.5,
          31914.5,
          28844.5,
          33034.5,
          34052,
          34221.5,
          34413.5,
          30777,
          35333,
          36868.5,
          25120,
          21071,
          22994,
          18286,
          20850,
          18009,
          18392,
          18612,
          12878,
          42851,
          44227,
          43482,
          41602,
          45552,
          41708,
          43680.5,
          42669.5,
          43692.5,
          47155,
          47252.5,
          44237,
          46194.5,
          46121,
          46655.5,
          40307.5
         ],
         "y": [
          75.34984701370055,
          64.12047071027649,
          66.69725544623661,
          70.23426301033847,
          65.4020132396641,
          71.32338734653813,
          71.86577002054037,
          74.56834270156186,
          80.43616352489492,
          81.8023949677892,
          83.59207097821678,
          84.95892513371037,
          88.24248866989154,
          91.23524542219322,
          96.37449250432924,
          76.92966887815943,
          61.1183732689851,
          65.15604176293519,
          58.230854945967444,
          63.163361445131315,
          63.343948098932294,
          56.91630864881621,
          66.26696104011084,
          62.581125164773,
          61.63335658861754,
          66.0066671735977,
          66.39835339856603,
          67.40901594725217,
          68.26773662170578,
          67.18919839969443,
          74.16793850020315,
          47.441113737658846,
          57.84041414619775,
          58.30371232008715,
          58.96378767535968,
          53.17629677733809,
          52.75534306020202,
          73.27247778239004,
          72.18397615878968,
          56.11550024609878,
          57.11931295619248,
          55.06311595325862,
          55.68707397777096,
          68.94026622896457,
          56.56260789240603,
          56.17154438003702,
          57.34847119273992,
          47.647854320631,
          58.38528767059724,
          58.79254171054841,
          59.95825969646367,
          56.4978457820774,
          56.69524567605985,
          57.03524675528513,
          53.01127793851995,
          58.62752287173028,
          59.320601994766434,
          46.37316162983584,
          59.6780390267725,
          61.55302666330607,
          59.64565797160819,
          59.773936767066814,
          60.26712514572327,
          43.04912177469927,
          29.10658667606538,
          29.59603877912595,
          30.02757861045035,
          29.93790799614918,
          30.266700248586815,
          30.394356331446122,
          72.60492987592575,
          77.45772916237746,
          76.79703109450561,
          74.16669307500452,
          79.45539118097582,
          76.98944928769355,
          78.18256662797862,
          80.29356233965208,
          73.55643472767709,
          80.1534520048065,
          90.90956673275215,
          91.2657583395596,
          92.39411356951604,
          93.55235900423952,
          91.79381862377761,
          75.0515676786293,
          60.189286070809054,
          66.3105509220628,
          59.52734257773859,
          67.17923499810541,
          63.29911279178171,
          64.21076403717697,
          62.9715659645427,
          66.57209021377456,
          64.83409934909,
          68.43337817312322,
          66.674215080062,
          67.82249711319648,
          68.84374577607095,
          68.86616342964625,
          67.02916126167081,
          48.52961536125921,
          30.900621674688168,
          31.334029643810506,
          30.661500036551704,
          30.834614139160916,
          30.90933965107856,
          30.640327808175037,
          30.612928453805235,
          30.620401004997,
          30.92802102905797,
          31.37512867536521,
          32.38392308625342,
          31.069999501701496,
          28.348745442700597,
          28.351236293097852,
          28.52746395870363,
          22.73312322208959,
          61.24416121404647,
          62.459073495307514,
          63.18826994910387,
          62.265409876920955,
          59.39408208148545,
          54.62534899594108,
          58.48678982428538,
          55.91436407652046,
          56.941839865388076,
          60.14320533845984,
          61.45152450961794,
          59.98441362563484,
          61.19372149350206,
          59.140015340965455,
          62.45595993231095,
          49.69408792197584,
          74.38464248476431,
          77.3145052645353,
          76.13384217623651,
          74.70907574900676,
          67.023556848277,
          80.3265661074157,
          80.20140087495365,
          80.76059678913737,
          74.49984431563735,
          81.09312531717087,
          81.87338420411095,
          83.32804083610777,
          83.47562372214512,
          73.77251599963894,
          81.17532338028029,
          62.63281031051604,
          72.84342880146289,
          72.36082653699476,
          70.830821680481,
          69.85814460035299,
          71.11041963757285,
          73.5340170741018,
          76.91596920097453,
          82.24638905109987,
          83.01917538684818,
          85.62647304017466,
          79.35388902728769,
          77.24787501640874,
          79.52887126769485,
          78.73428999097055,
          78.97216620390839,
          62.86196854706348,
          84.9327712045392,
          84.08775020727049,
          87.89875131507038,
          81.50598377051587,
          85.57727874482889,
          80.55385620616521,
          82.64990681545514,
          83.73031317526443,
          78.47025984886155,
          82.1430187596138,
          83.39093480863846,
          84.59090198751598,
          73.75881632245404,
          73.63925550338581,
          75.06215379281763,
          45.257883364464995,
          68.72978937039655,
          78.17571678938616,
          66.04465264215584,
          74.74145680417107,
          77.12270978394669,
          70.88686581441922,
          69.19869195767977,
          73.36090297149258,
          73.97489759441589,
          75.21035939145429,
          85.06416356299438,
          86.61222708488826,
          85.50504408330849,
          86.23984495049866,
          88.08867865786107,
          78.21557039574223,
          41.65113198924,
          42.515457077087426,
          43.062821451884176,
          42.51919335268331,
          41.46307278424726,
          40.954939303207276,
          36.93034777384279,
          36.5355479858779,
          40.83351034634111,
          41.673549642815296,
          42.5005119747039,
          43.59461801169808,
          43.78765891748533,
          46.3806341810276,
          46.74928003982132,
          35.76089351233165,
          41.27625900445315,
          42.377837592639096,
          44.67564708410668,
          44.03425310681356,
          41.40017881171658,
          42.6779850655083,
          43.36047807435613,
          39.537022714569964,
          44.75535429681883,
          46.022574436422225,
          46.23367400758957,
          46.47279564572604,
          41.943806910917445,
          47.61796411586394,
          49.530314508356334,
          34.898436562282164,
          29.85570993303977,
          32.25066259000029,
          26.38720075486242,
          29.58047096414311,
          26.042217974842625,
          26.519215825916927,
          26.793209369614956,
          19.651941280685367,
          56.981070759144835,
          58.69477583245616,
          57.766934059478736,
          55.425534686059194,
          60.34496422063748,
          55.557549757113705,
          58.01415096140628,
          56.75502608559396,
          58.02909606378981,
          62.34138081403722,
          62.4628097709034,
          58.70723008444243,
          61.14514991075559,
          61.05361115865648,
          61.71929092732283,
          53.81333176643601
         ]
        }
       ],
       "layout": {
        "autosize": false,
        "height": 1000,
        "legend": {
         "font": {
          "size": 20
         }
        },
        "template": {
         "data": {
          "bar": [
           {
            "error_x": {
             "color": "#2a3f5f"
            },
            "error_y": {
             "color": "#2a3f5f"
            },
            "marker": {
             "line": {
              "color": "#E5ECF6",
              "width": 0.5
             },
             "pattern": {
              "fillmode": "overlay",
              "size": 10,
              "solidity": 0.2
             }
            },
            "type": "bar"
           }
          ],
          "barpolar": [
           {
            "marker": {
             "line": {
              "color": "#E5ECF6",
              "width": 0.5
             },
             "pattern": {
              "fillmode": "overlay",
              "size": 10,
              "solidity": 0.2
             }
            },
            "type": "barpolar"
           }
          ],
          "carpet": [
           {
            "aaxis": {
             "endlinecolor": "#2a3f5f",
             "gridcolor": "white",
             "linecolor": "white",
             "minorgridcolor": "white",
             "startlinecolor": "#2a3f5f"
            },
            "baxis": {
             "endlinecolor": "#2a3f5f",
             "gridcolor": "white",
             "linecolor": "white",
             "minorgridcolor": "white",
             "startlinecolor": "#2a3f5f"
            },
            "type": "carpet"
           }
          ],
          "choropleth": [
           {
            "colorbar": {
             "outlinewidth": 0,
             "ticks": ""
            },
            "type": "choropleth"
           }
          ],
          "contour": [
           {
            "colorbar": {
             "outlinewidth": 0,
             "ticks": ""
            },
            "colorscale": [
             [
              0,
              "#0d0887"
             ],
             [
              0.1111111111111111,
              "#46039f"
             ],
             [
              0.2222222222222222,
              "#7201a8"
             ],
             [
              0.3333333333333333,
              "#9c179e"
             ],
             [
              0.4444444444444444,
              "#bd3786"
             ],
             [
              0.5555555555555556,
              "#d8576b"
             ],
             [
              0.6666666666666666,
              "#ed7953"
             ],
             [
              0.7777777777777778,
              "#fb9f3a"
             ],
             [
              0.8888888888888888,
              "#fdca26"
             ],
             [
              1,
              "#f0f921"
             ]
            ],
            "type": "contour"
           }
          ],
          "contourcarpet": [
           {
            "colorbar": {
             "outlinewidth": 0,
             "ticks": ""
            },
            "type": "contourcarpet"
           }
          ],
          "heatmap": [
           {
            "colorbar": {
             "outlinewidth": 0,
             "ticks": ""
            },
            "colorscale": [
             [
              0,
              "#0d0887"
             ],
             [
              0.1111111111111111,
              "#46039f"
             ],
             [
              0.2222222222222222,
              "#7201a8"
             ],
             [
              0.3333333333333333,
              "#9c179e"
             ],
             [
              0.4444444444444444,
              "#bd3786"
             ],
             [
              0.5555555555555556,
              "#d8576b"
             ],
             [
              0.6666666666666666,
              "#ed7953"
             ],
             [
              0.7777777777777778,
              "#fb9f3a"
             ],
             [
              0.8888888888888888,
              "#fdca26"
             ],
             [
              1,
              "#f0f921"
             ]
            ],
            "type": "heatmap"
           }
          ],
          "heatmapgl": [
           {
            "colorbar": {
             "outlinewidth": 0,
             "ticks": ""
            },
            "colorscale": [
             [
              0,
              "#0d0887"
             ],
             [
              0.1111111111111111,
              "#46039f"
             ],
             [
              0.2222222222222222,
              "#7201a8"
             ],
             [
              0.3333333333333333,
              "#9c179e"
             ],
             [
              0.4444444444444444,
              "#bd3786"
             ],
             [
              0.5555555555555556,
              "#d8576b"
             ],
             [
              0.6666666666666666,
              "#ed7953"
             ],
             [
              0.7777777777777778,
              "#fb9f3a"
             ],
             [
              0.8888888888888888,
              "#fdca26"
             ],
             [
              1,
              "#f0f921"
             ]
            ],
            "type": "heatmapgl"
           }
          ],
          "histogram": [
           {
            "marker": {
             "pattern": {
              "fillmode": "overlay",
              "size": 10,
              "solidity": 0.2
             }
            },
            "type": "histogram"
           }
          ],
          "histogram2d": [
           {
            "colorbar": {
             "outlinewidth": 0,
             "ticks": ""
            },
            "colorscale": [
             [
              0,
              "#0d0887"
             ],
             [
              0.1111111111111111,
              "#46039f"
             ],
             [
              0.2222222222222222,
              "#7201a8"
             ],
             [
              0.3333333333333333,
              "#9c179e"
             ],
             [
              0.4444444444444444,
              "#bd3786"
             ],
             [
              0.5555555555555556,
              "#d8576b"
             ],
             [
              0.6666666666666666,
              "#ed7953"
             ],
             [
              0.7777777777777778,
              "#fb9f3a"
             ],
             [
              0.8888888888888888,
              "#fdca26"
             ],
             [
              1,
              "#f0f921"
             ]
            ],
            "type": "histogram2d"
           }
          ],
          "histogram2dcontour": [
           {
            "colorbar": {
             "outlinewidth": 0,
             "ticks": ""
            },
            "colorscale": [
             [
              0,
              "#0d0887"
             ],
             [
              0.1111111111111111,
              "#46039f"
             ],
             [
              0.2222222222222222,
              "#7201a8"
             ],
             [
              0.3333333333333333,
              "#9c179e"
             ],
             [
              0.4444444444444444,
              "#bd3786"
             ],
             [
              0.5555555555555556,
              "#d8576b"
             ],
             [
              0.6666666666666666,
              "#ed7953"
             ],
             [
              0.7777777777777778,
              "#fb9f3a"
             ],
             [
              0.8888888888888888,
              "#fdca26"
             ],
             [
              1,
              "#f0f921"
             ]
            ],
            "type": "histogram2dcontour"
           }
          ],
          "mesh3d": [
           {
            "colorbar": {
             "outlinewidth": 0,
             "ticks": ""
            },
            "type": "mesh3d"
           }
          ],
          "parcoords": [
           {
            "line": {
             "colorbar": {
              "outlinewidth": 0,
              "ticks": ""
             }
            },
            "type": "parcoords"
           }
          ],
          "pie": [
           {
            "automargin": true,
            "type": "pie"
           }
          ],
          "scatter": [
           {
            "fillpattern": {
             "fillmode": "overlay",
             "size": 10,
             "solidity": 0.2
            },
            "type": "scatter"
           }
          ],
          "scatter3d": [
           {
            "line": {
             "colorbar": {
              "outlinewidth": 0,
              "ticks": ""
             }
            },
            "marker": {
             "colorbar": {
              "outlinewidth": 0,
              "ticks": ""
             }
            },
            "type": "scatter3d"
           }
          ],
          "scattercarpet": [
           {
            "marker": {
             "colorbar": {
              "outlinewidth": 0,
              "ticks": ""
             }
            },
            "type": "scattercarpet"
           }
          ],
          "scattergeo": [
           {
            "marker": {
             "colorbar": {
              "outlinewidth": 0,
              "ticks": ""
             }
            },
            "type": "scattergeo"
           }
          ],
          "scattergl": [
           {
            "marker": {
             "colorbar": {
              "outlinewidth": 0,
              "ticks": ""
             }
            },
            "type": "scattergl"
           }
          ],
          "scattermapbox": [
           {
            "marker": {
             "colorbar": {
              "outlinewidth": 0,
              "ticks": ""
             }
            },
            "type": "scattermapbox"
           }
          ],
          "scatterpolar": [
           {
            "marker": {
             "colorbar": {
              "outlinewidth": 0,
              "ticks": ""
             }
            },
            "type": "scatterpolar"
           }
          ],
          "scatterpolargl": [
           {
            "marker": {
             "colorbar": {
              "outlinewidth": 0,
              "ticks": ""
             }
            },
            "type": "scatterpolargl"
           }
          ],
          "scatterternary": [
           {
            "marker": {
             "colorbar": {
              "outlinewidth": 0,
              "ticks": ""
             }
            },
            "type": "scatterternary"
           }
          ],
          "surface": [
           {
            "colorbar": {
             "outlinewidth": 0,
             "ticks": ""
            },
            "colorscale": [
             [
              0,
              "#0d0887"
             ],
             [
              0.1111111111111111,
              "#46039f"
             ],
             [
              0.2222222222222222,
              "#7201a8"
             ],
             [
              0.3333333333333333,
              "#9c179e"
             ],
             [
              0.4444444444444444,
              "#bd3786"
             ],
             [
              0.5555555555555556,
              "#d8576b"
             ],
             [
              0.6666666666666666,
              "#ed7953"
             ],
             [
              0.7777777777777778,
              "#fb9f3a"
             ],
             [
              0.8888888888888888,
              "#fdca26"
             ],
             [
              1,
              "#f0f921"
             ]
            ],
            "type": "surface"
           }
          ],
          "table": [
           {
            "cells": {
             "fill": {
              "color": "#EBF0F8"
             },
             "line": {
              "color": "white"
             }
            },
            "header": {
             "fill": {
              "color": "#C8D4E3"
             },
             "line": {
              "color": "white"
             }
            },
            "type": "table"
           }
          ]
         },
         "layout": {
          "annotationdefaults": {
           "arrowcolor": "#2a3f5f",
           "arrowhead": 0,
           "arrowwidth": 1
          },
          "autotypenumbers": "strict",
          "coloraxis": {
           "colorbar": {
            "outlinewidth": 0,
            "ticks": ""
           }
          },
          "colorscale": {
           "diverging": [
            [
             0,
             "#8e0152"
            ],
            [
             0.1,
             "#c51b7d"
            ],
            [
             0.2,
             "#de77ae"
            ],
            [
             0.3,
             "#f1b6da"
            ],
            [
             0.4,
             "#fde0ef"
            ],
            [
             0.5,
             "#f7f7f7"
            ],
            [
             0.6,
             "#e6f5d0"
            ],
            [
             0.7,
             "#b8e186"
            ],
            [
             0.8,
             "#7fbc41"
            ],
            [
             0.9,
             "#4d9221"
            ],
            [
             1,
             "#276419"
            ]
           ],
           "sequential": [
            [
             0,
             "#0d0887"
            ],
            [
             0.1111111111111111,
             "#46039f"
            ],
            [
             0.2222222222222222,
             "#7201a8"
            ],
            [
             0.3333333333333333,
             "#9c179e"
            ],
            [
             0.4444444444444444,
             "#bd3786"
            ],
            [
             0.5555555555555556,
             "#d8576b"
            ],
            [
             0.6666666666666666,
             "#ed7953"
            ],
            [
             0.7777777777777778,
             "#fb9f3a"
            ],
            [
             0.8888888888888888,
             "#fdca26"
            ],
            [
             1,
             "#f0f921"
            ]
           ],
           "sequentialminus": [
            [
             0,
             "#0d0887"
            ],
            [
             0.1111111111111111,
             "#46039f"
            ],
            [
             0.2222222222222222,
             "#7201a8"
            ],
            [
             0.3333333333333333,
             "#9c179e"
            ],
            [
             0.4444444444444444,
             "#bd3786"
            ],
            [
             0.5555555555555556,
             "#d8576b"
            ],
            [
             0.6666666666666666,
             "#ed7953"
            ],
            [
             0.7777777777777778,
             "#fb9f3a"
            ],
            [
             0.8888888888888888,
             "#fdca26"
            ],
            [
             1,
             "#f0f921"
            ]
           ]
          },
          "colorway": [
           "#636efa",
           "#EF553B",
           "#00cc96",
           "#ab63fa",
           "#FFA15A",
           "#19d3f3",
           "#FF6692",
           "#B6E880",
           "#FF97FF",
           "#FECB52"
          ],
          "font": {
           "color": "#2a3f5f"
          },
          "geo": {
           "bgcolor": "white",
           "lakecolor": "white",
           "landcolor": "#E5ECF6",
           "showlakes": true,
           "showland": true,
           "subunitcolor": "white"
          },
          "hoverlabel": {
           "align": "left"
          },
          "hovermode": "closest",
          "mapbox": {
           "style": "light"
          },
          "paper_bgcolor": "white",
          "plot_bgcolor": "#E5ECF6",
          "polar": {
           "angularaxis": {
            "gridcolor": "white",
            "linecolor": "white",
            "ticks": ""
           },
           "bgcolor": "#E5ECF6",
           "radialaxis": {
            "gridcolor": "white",
            "linecolor": "white",
            "ticks": ""
           }
          },
          "scene": {
           "xaxis": {
            "backgroundcolor": "#E5ECF6",
            "gridcolor": "white",
            "gridwidth": 2,
            "linecolor": "white",
            "showbackground": true,
            "ticks": "",
            "zerolinecolor": "white"
           },
           "yaxis": {
            "backgroundcolor": "#E5ECF6",
            "gridcolor": "white",
            "gridwidth": 2,
            "linecolor": "white",
            "showbackground": true,
            "ticks": "",
            "zerolinecolor": "white"
           },
           "zaxis": {
            "backgroundcolor": "#E5ECF6",
            "gridcolor": "white",
            "gridwidth": 2,
            "linecolor": "white",
            "showbackground": true,
            "ticks": "",
            "zerolinecolor": "white"
           }
          },
          "shapedefaults": {
           "line": {
            "color": "#2a3f5f"
           }
          },
          "ternary": {
           "aaxis": {
            "gridcolor": "white",
            "linecolor": "white",
            "ticks": ""
           },
           "baxis": {
            "gridcolor": "white",
            "linecolor": "white",
            "ticks": ""
           },
           "bgcolor": "#E5ECF6",
           "caxis": {
            "gridcolor": "white",
            "linecolor": "white",
            "ticks": ""
           }
          },
          "title": {
           "x": 0.05
          },
          "xaxis": {
           "automargin": true,
           "gridcolor": "white",
           "linecolor": "white",
           "ticks": "",
           "title": {
            "standoff": 15
           },
           "zerolinecolor": "white",
           "zerolinewidth": 2
          },
          "yaxis": {
           "automargin": true,
           "gridcolor": "white",
           "linecolor": "white",
           "ticks": "",
           "title": {
            "standoff": 15
           },
           "zerolinecolor": "white",
           "zerolinewidth": 2
          }
         }
        },
        "width": 1000,
        "xaxis": {
         "title": {
          "text": "AADT"
         }
        },
        "yaxis": {
         "title": {
          "text": "Annual Territorial emissions (kt CO2e)"
         }
        }
       }
      },
      "text/html": [
       "<div>                            <div id=\"ea1ef3e8-0f84-40df-b12b-543e5cc6d674\" class=\"plotly-graph-div\" style=\"height:1000px; width:1000px;\"></div>            <script type=\"text/javascript\">                require([\"plotly\"], function(Plotly) {                    window.PLOTLYENV=window.PLOTLYENV || {};                                    if (document.getElementById(\"ea1ef3e8-0f84-40df-b12b-543e5cc6d674\")) {                    Plotly.newPlot(                        \"ea1ef3e8-0f84-40df-b12b-543e5cc6d674\",                        [{\"marker\":{\"color\":\"#636EFA\"},\"mode\":\"markers\",\"name\":\"Luton\",\"x\":[57600.0,48583.5,50652.5,53492.5,49612.5,54367.0,54802.5,56972.5,61684.0,62781.0,64218.0,65315.5,67952.0,70355.0,74481.5,58868.5],\"y\":[31.81287926,25.993748813,27.204528143000005,27.863432503,24.754067676,27.443241393,27.513462083,28.448691871,29.84521794,30.298551254000003,31.153447532,31.863185576,33.745372917000005,34.480487687,36.064526434,31.216663949000004],\"type\":\"scatter\"},{\"marker\":{\"color\":\"#636EFA\",\"size\":15},\"mode\":\"lines\",\"name\":\"Luton OLS\",\"x\":[57600.0,48583.5,50652.5,53492.5,49612.5,54367.0,54802.5,56972.5,61684.0,62781.0,64218.0,65315.5,67952.0,70355.0,74481.5,58868.5],\"y\":[29.237410274412113,25.676421363742246,26.493555069301607,27.615188575240985,26.082816038957606,27.960564807967742,28.13256177692429,28.989584561392057,30.850350851262967,31.283601540000816,31.851132296351132,32.28458045577665,33.325843391836216,34.27488751675605,35.90461310205846,29.738393409019192],\"type\":\"scatter\"},{\"marker\":{\"color\":\"#EF553B\"},\"mode\":\"markers\",\"name\":\"Hounslow\",\"x\":[46173.0,49415.0,43854.5,47815.0,47960.0,42799.0,50307.0,47347.5,46586.5,50098.0,50412.5,51224.0,51913.5,51047.5,56651.0,35191.0],\"y\":[69.679211202,75.931082136,66.348447448,65.94261259,64.685640541,62.72171482,68.074381034,68.260994826,65.811996159,69.60349358600001,66.648311945,68.19205573699999,67.681418715,65.784937774,69.392767821,44.306321778],\"type\":\"scatter\"},{\"marker\":{\"color\":\"#EF553B\",\"size\":15},\"mode\":\"lines\",\"name\":\"Hounslow OLS\",\"x\":[46173.0,49415.0,43854.5,47815.0,47960.0,42799.0,50307.0,47347.5,46586.5,50098.0,50412.5,51224.0,51913.5,51047.5,56651.0,35191.0],\"y\":[64.23620508467587,67.61415020429475,61.82048461587994,65.94705822669135,66.09813843716165,60.720724876904704,68.54355398180863,65.45995478948535,64.66704416763774,68.3257900922342,68.65347785908186,69.49900607147259,70.21741852057104,69.31510498769322,75.1535736730061,52.793702523400555],\"type\":\"scatter\"},{\"marker\":{\"color\":\"#00CC96\"},\"mode\":\"markers\",\"name\":\"Portsmouth\",\"x\":[43541.0,43913.0,44443.0,39796.0,39458.0,55932.0,55058.0,42156.0,42962.0,41311.0,41812.0,52453.5,42515.0,42201.0,43146.0,35357.0],\"y\":[86.477432933,88.668893266,85.906337438,78.137748968,80.683787666,82.020990789,78.64614895599999,84.298195784,83.51621041,80.066446274,82.794976918,89.11048582000001,84.84669322799999,79.059664465,78.868364313,59.987008497],\"type\":\"scatter\"},{\"marker\":{\"color\":\"#00CC96\",\"size\":15},\"mode\":\"lines\",\"name\":\"Portsmouth OLS\",\"x\":[43541.0,43913.0,44443.0,39796.0,39458.0,55932.0,55058.0,42156.0,42962.0,41311.0,41812.0,52453.5,42515.0,42201.0,43146.0,35357.0],\"y\":[81.14763866708776,81.33474364588159,81.60131794362549,79.2640146198219,79.09401063371354,87.37994456019086,86.94034845409999,80.45102470034192,80.85641882106188,80.02601473507099,80.27800289199493,85.63036211735663,80.63159106428542,80.47365836713149,80.9489653697126,77.03132913362349],\"type\":\"scatter\"},{\"marker\":{\"color\":\"#AB63FA\"},\"mode\":\"markers\",\"name\":\"Southampton\",\"x\":[43978.5,44305.5,45241.5,42463.0,42621.5,42894.5,39663.5,44173.0,44729.5,34333.5,45016.5,46522.0,44990.5,45093.5,45489.5,31664.5],\"y\":[23.384696465,23.136411767,23.175930086,20.984706899,21.493502632,21.89413008,21.86356156,22.346661386,22.432378832,19.893253715,21.820740158000003,22.716200715,22.576326413,22.163047024,19.301437768,14.839431707],\"type\":\"scatter\"},{\"marker\":{\"color\":\"#AB63FA\",\"size\":15},\"mode\":\"lines\",\"name\":\"Southampton OLS\",\"x\":[43978.5,44305.5,45241.5,42463.0,42621.5,42894.5,39663.5,44173.0,44729.5,34333.5,45016.5,46522.0,44990.5,45093.5,45489.5,31664.5],\"y\":[22.008657371576746,22.138273983693693,22.509286671588075,21.40794184967083,21.470768250345255,21.578980284314447,20.29827302514057,22.085753491016337,22.306339560261236,18.185561885742004,22.42010092930577,23.016852640443584,22.409795021308707,22.450622272220162,22.607589178637014,17.12762079173548],\"type\":\"scatter\"},{\"marker\":{\"color\":\"#FFA15A\"},\"mode\":\"markers\",\"name\":\"South Tyneside\",\"x\":[20469.5,20862.5,21209.0,21137.0,21401.0,21503.5],\"y\":[0.1684794539999999,0.172653736,0.175679109,0.165996771,0.162101005,0.1603659979999999],\"type\":\"scatter\"},{\"marker\":{\"color\":\"#FFA15A\",\"size\":15},\"mode\":\"lines\",\"name\":\"South Tyneside OLS\",\"x\":[20469.5,20862.5,21209.0,21137.0,21401.0,21503.5],\"y\":[0.1723438186854374,0.16933937630826038,0.1666904213879249,0.16724085357916343,0.1652226022112888,0.16443900082792837,null,null,null,null,null,null,null,null,null,null],\"type\":\"scatter\"},{\"marker\":{\"color\":\"#19D3F3\"},\"mode\":\"markers\",\"name\":\"Enfield\",\"x\":[55396.0,59292.5,58762.0,56650.0,60896.5,58916.5,59874.5,61569.5,56160.0,61457.0,70093.5,70379.5,71285.5,72215.5,70803.5,57360.5],\"y\":[122.334811817,123.985743196,125.392379386,124.409842953,125.528464062,128.763229196,115.769539259,131.546756389,124.152736427,122.972567209,143.884877836,146.462083717,147.51433026700002,148.219038113,136.439761662,114.445594673],\"type\":\"scatter\"},{\"marker\":{\"color\":\"#19D3F3\",\"size\":15},\"mode\":\"lines\",\"name\":\"Enfield OLS\",\"x\":[55396.0,59292.5,58762.0,56650.0,60896.5,58916.5,59874.5,61569.5,56160.0,61457.0,70093.5,70379.5,71285.5,72215.5,70803.5,57360.5],\"y\":[118.39426025440748,124.7600817560603,123.89338900445583,120.4429552789353,127.3805816119954,124.1457999943199,125.71091150428613,128.4800806163871,119.6424285149651,128.29628620629194,142.40597885328913,142.87322508695337,144.35338273625337,145.872749859707,143.56592579700103,121.6037190866921],\"type\":\"scatter\"},{\"marker\":{\"color\":\"#FF6692\"},\"mode\":\"markers\",\"name\":\"Halton\",\"x\":[45427.0,50342.0,44895.5,51039.5,47924.0,48656.0,47661.0,50552.0,49156.5,52046.5,50634.0,51556.0,52376.0,52394.0,50919.0,36065.0],\"y\":[50.14861066700001,51.297091876,50.799410139,49.787292026,49.400493126,51.631406205000005,49.158777455,49.26042819,47.850018993,48.903609209,50.249720651,51.663364124,51.73468354800001,50.168359941,46.64031825,37.324866304],\"type\":\"scatter\"},{\"marker\":{\"color\":\"#FF6692\",\"size\":15},\"mode\":\"lines\",\"name\":\"Halton OLS\",\"x\":[45427.0,50342.0,44895.5,51039.5,47924.0,48656.0,47661.0,50552.0,49156.5,52046.5,50634.0,51556.0,52376.0,52394.0,50919.0,36065.0],\"y\":[46.95514342486194,50.06993956948392,46.61831450301726,50.51196811696588,48.53757393821313,49.00146626331247,48.37090224217333,50.20302343324193,49.31864947193573,51.15013693031977,50.25498951337601,50.83929104854213,51.35895184988293,51.370359038205045,50.43560332847617,41.02213803199295],\"type\":\"scatter\"},{\"marker\":{\"color\":\"#B6E880\"},\"mode\":\"markers\",\"name\":\"Barnet\",\"x\":[21910.0,22258.0,21718.0,21857.0,21917.0,21701.0,21679.0,21685.0,21932.0,22291.0,23101.0,22046.0,19861.0,19863.0,20004.5,15352.0],\"y\":[53.988608522,56.822202623,53.186985916,59.597039503000005,57.067456555,56.557556831,49.227800217,49.430061156,51.889026026,52.339996128,53.189937049,54.353228057,58.26036163,57.091260412,57.945878271,41.99712241099999],\"type\":\"scatter\"},{\"marker\":{\"color\":\"#B6E880\",\"size\":15},\"mode\":\"lines\",\"name\":\"Barnet OLS\",\"x\":[21910.0,22258.0,21718.0,21857.0,21917.0,21701.0,21679.0,21685.0,21932.0,22291.0,23101.0,22046.0,19861.0,19863.0,20004.5,15352.0],\"y\":[54.7539108392717,55.15490184794389,54.53267442069392,54.69284036956012,54.761976750365676,54.51308577946568,54.487735773170314,54.494649411250876,54.779260845567066,55.19292685738695,56.1262679982619,54.91061996909761,52.39290343476209,52.39520798078894,52.558254612188705,47.197304417224856],\"type\":\"scatter\"},{\"marker\":{\"color\":\"#FF97FF\"},\"mode\":\"markers\",\"name\":\"Dudley\",\"x\":[46274.0,47249.5,47835.0,47094.0,44788.5,40959.5,44060.0,41994.5,42819.5,45390.0,46440.5,45262.5,46233.5,44584.5,47247.0,37000.0],\"y\":[48.970290857,48.049067916,49.209771756,45.698423527,41.841824589,39.531550784,41.221067541,39.456341876,39.472253338,43.261318066,44.485402031,43.71385745,43.10676716,41.562131129,40.897340142,33.758843803],\"type\":\"scatter\"},{\"marker\":{\"color\":\"#FF97FF\",\"size\":15},\"mode\":\"lines\",\"name\":\"Dudley OLS\",\"x\":[46274.0,47249.5,47835.0,47094.0,44788.5,40959.5,44060.0,41994.5,42819.5,45390.0,46440.5,45262.5,46233.5,44584.5,47247.0,37000.0],\"y\":[44.6719887705162,45.855533964177006,46.56590373443677,45.6668704299748,42.869675715484796,38.22406367393971,41.98580828997798,39.47979845142709,40.48074646246775,43.59945781080717,44.87399827819895,43.444765845464524,44.62285132270147,42.62216857093656,45.852500788385974,33.42011985610273],\"type\":\"scatter\"},{\"marker\":{\"color\":\"#FECB52\"},\"mode\":\"markers\",\"name\":\"Coventry\",\"x\":[56825.0,59177.5,58229.5,57085.5,50914.5,61596.0,61495.5,61944.5,56917.5,62211.5,62838.0,64006.0,64124.5,56333.5,62277.5,47389.0],\"y\":[41.237641419000006,41.592488408,41.45404195100001,38.958845047,33.814742149,43.160874943,39.210357253,39.324797939,36.552826353,41.476822112,42.342174944,43.566506102,43.64319718,37.281227271,39.617147555,33.351252822],\"type\":\"scatter\"},{\"marker\":{\"color\":\"#FECB52\",\"size\":15},\"mode\":\"lines\",\"name\":\"Coventry OLS\",\"x\":[56825.0,59177.5,58229.5,57085.5,50914.5,61596.0,61495.5,61944.5,56917.5,62211.5,62838.0,64006.0,64124.5,56333.5,62277.5,47389.0],\"y\":[38.533957385921184,39.913943730489436,39.35784296336905,38.686767776042345,35.066833352097305,41.33264595124962,41.273692230684645,41.537077509626684,38.58821827300835,41.693700826948564,42.06120834867949,42.74636203643963,42.815874632329674,38.245641429128284,41.73241670314049,32.99876029884528],\"type\":\"scatter\"},{\"marker\":{\"color\":\"#636EFA\"},\"mode\":\"markers\",\"name\":\"Trafford\",\"x\":[55587.5,55200.0,53971.5,53190.5,54196.0,56142.0,58857.5,63137.5,63758.0,65851.5,60815.0,59124.0,60955.5,60317.5,60508.5,47573.0],\"y\":[106.68206125,103.636815282,102.647234947,97.478641289,95.274319422,95.985432016,94.699119802,98.147771606,97.67243064000002,101.458625269,97.945820125,98.269610789,99.840834575,96.466577251,96.067454668,77.405344759],\"type\":\"scatter\"},{\"marker\":{\"color\":\"#636EFA\",\"size\":15},\"mode\":\"lines\",\"name\":\"Trafford OLS\",\"x\":[55587.5,55200.0,53971.5,53190.5,54196.0,56142.0,58857.5,63137.5,63758.0,65851.5,60815.0,59124.0,60955.5,60317.5,60508.5,47573.0],\"y\":[96.00100875146765,95.77054772808536,95.03991194169791,94.5754214661842,95.17343065072842,96.33079104170113,97.94580241975171,100.49128159414187,100.86031660061596,102.10540086500515,99.1100022991603,98.10430013002625,99.19356300570277,98.81412008204367,98.92771506389147,91.23448004979711],\"type\":\"scatter\"},{\"marker\":{\"color\":\"#EF553B\"},\"mode\":\"markers\",\"name\":\"Bracknell Forest\",\"x\":[65294.5,64616.0,67676.0,62543.0,65812.0,61778.5,63461.5,64329.0,60105.5,63054.5,64056.5,65020.0,56322.5,56226.5,57369.0,33438.0],\"y\":[9.641974755,9.596014801,9.99656016,8.995102641,9.422765467,8.734086133,8.550937397,8.488999322,7.95526593,8.418126315,8.481810988,8.595487513,7.840677418999999,7.687954825,7.558206193,4.866574553],\"type\":\"scatter\"},{\"marker\":{\"color\":\"#EF553B\",\"size\":15},\"mode\":\"lines\",\"name\":\"Bracknell Forest OLS\",\"x\":[65294.5,64616.0,67676.0,62543.0,65812.0,61778.5,63461.5,64329.0,60105.5,63054.5,64056.5,65020.0,56322.5,56226.5,57369.0,33438.0],\"y\":[9.07060808260187,8.97567408049365,9.403821532890337,8.685625169115113,9.143015372345427,8.578658264749993,8.81413936356817,8.93551776714795,8.344576340612852,8.75719295405005,8.897390257089748,9.032200737607463,7.815268558777342,7.801836481839406,7.961692189147646,4.6133272599629835],\"type\":\"scatter\"},{\"marker\":{\"color\":\"#00CC96\"},\"mode\":\"markers\",\"name\":\"Havering\",\"x\":[52284.5,59869.0,50128.5,57111.5,59023.5,54016.5,52661.0,56003.0,56496.0,57488.0,65400.0,66643.0,65754.0,66344.0,67828.5,59901.0],\"y\":[129.121547449,145.181504297,138.08851433599995,138.025919885,136.49559024899995,125.719796183,134.523531327,124.931793945,130.92806626499998,135.64262623,146.867782521,156.018567688,158.47148081300003,161.286580701,155.385844781,147.193227206],\"type\":\"scatter\"},{\"marker\":{\"color\":\"#00CC96\",\"size\":15},\"mode\":\"lines\",\"name\":\"Havering OLS\",\"x\":[52284.5,59869.0,50128.5,57111.5,59023.5,54016.5,52661.0,56003.0,56496.0,57488.0,65400.0,66643.0,65754.0,66344.0,67828.5,59901.0],\"y\":[129.27330456310557,142.70484269100905,125.45520235415839,137.821532467831,141.20753034515337,132.34053694988503,129.94005571415778,135.8584683219043,136.73153158211346,138.48828361888326,152.49979784763562,154.70105065177353,153.12670331237,154.17154575359393,156.8004755908769,142.76151211155002],\"type\":\"scatter\"},{\"marker\":{\"color\":\"#AB63FA\"},\"mode\":\"markers\",\"name\":\"Liverpool\",\"x\":[30542.0,31236.0,31675.5,31239.0,30391.0,29983.0,26751.5,26434.5,29885.5,30560.0,31224.0,32102.5,32257.5,34339.5,34635.5,25812.5],\"y\":[4.5543638170000005,4.644411211,4.720757527,4.545761741,4.424691722,4.363165928,3.68593399,3.633632727,4.03485456,4.095507119999999,4.198526824,4.303212158,4.320857887,4.476620550999999,4.356287388,3.209068376],\"type\":\"scatter\"},{\"marker\":{\"color\":\"#AB63FA\",\"size\":15},\"mode\":\"lines\",\"name\":\"Liverpool OLS\",\"x\":[30542.0,31236.0,31675.5,31239.0,30391.0,29983.0,26751.5,26434.5,29885.5,30560.0,31224.0,32102.5,32257.5,34339.5,34635.5,25812.5],\"y\":[4.219759741327577,4.309670131356773,4.366609059912726,4.31005879298514,4.200197106033039,4.147339124574954,3.728685773884251,3.6876171951533356,4.134707621652984,4.222091711097786,4.308115484843299,4.421928565017145,4.442009415816173,4.711740585903762,4.750088533236099,3.6070346842049785],\"type\":\"scatter\"},{\"marker\":{\"color\":\"#FFA15A\"},\"mode\":\"markers\",\"name\":\"Blackburn with Darwen\",\"x\":[30241.0,31125.5,32970.5,32455.5,30340.5,31366.5,31914.5,28844.5,33034.5,34052.0,34221.5,34413.5,30777.0,35333.0,36868.5,25120.0],\"y\":[43.407684936,43.63186721500001,44.518305044,42.530733665,39.657701144,39.427691328,37.810997329,37.108126983,38.812223531,39.225577140000006,40.592887371,41.60774533,36.818976505,39.780264045,39.944270639,28.776814445],\"type\":\"scatter\"},{\"marker\":{\"color\":\"#FFA15A\",\"size\":15},\"mode\":\"lines\",\"name\":\"Blackburn with Darwen OLS\",\"x\":[30241.0,31125.5,32970.5,32455.5,30340.5,31366.5,31914.5,28844.5,33034.5,34052.0,34221.5,34413.5,30777.0,35333.0,36868.5,25120.0],\"y\":[38.21455563017828,38.887074571871906,40.28989814160028,39.89832408284141,38.290209259006446,39.07031602461149,39.48698123665005,37.1527436436603,40.338559772203325,41.112203664993906,41.241080952294155,41.38706584410329,38.62209678647877,42.08619661503296,43.25369558051692,34.3208648439566],\"type\":\"scatter\"},{\"marker\":{\"color\":\"#19D3F3\"},\"mode\":\"markers\",\"name\":\"Sunderland\",\"x\":[21071.0,22994.0,18286.0,20850.0,18009.0,18392.0,18612.0,12878.0],\"y\":[10.410380866,10.549019112,10.782464916,11.086249499,10.189819613,10.159120822000002,10.349215333,7.643073652],\"type\":\"scatter\"},{\"marker\":{\"color\":\"#19D3F3\",\"size\":15},\"mode\":\"lines\",\"name\":\"Sunderland OLS\",\"x\":[21071.0,22994.0,18286.0,20850.0,18009.0,18392.0,18612.0,12878.0],\"y\":[10.791802731710527,11.360150469879203,9.968688612729892,10.726485596954792,9.886820529800758,10.000017193200968,10.065038775310748,8.370339903413095,null,null,null,null,null,null,null,null],\"type\":\"scatter\"},{\"marker\":{\"color\":\"#FF6692\"},\"mode\":\"markers\",\"name\":\"Bolton\",\"x\":[42851.0,44227.0,43482.0,41602.0,45552.0,41708.0,43680.5,42669.5,43692.5,47155.0,47252.5,44237.0,46194.5,46121.0,46655.5,40307.5],\"y\":[158.512865971,159.544365287,163.426526725,156.745990227,153.575691106,149.493066629,157.214790729,159.445582954,158.596821494,164.33905798,167.94433922999997,161.844900178,166.89235890700002,162.604102223,158.52464489,142.115291431],\"type\":\"scatter\"},{\"marker\":{\"color\":\"#FF6692\",\"size\":15},\"mode\":\"lines\",\"name\":\"Bolton OLS\",\"x\":[42851.0,44227.0,43482.0,41602.0,45552.0,41708.0,43680.5,42669.5,43692.5,47155.0,47252.5,44237.0,46194.5,46121.0,46655.5,40307.5],\"y\":[155.73774413274873,158.83567904838347,157.15838143781087,152.92573780307742,161.81879224839508,153.16438685907835,157.60528556626548,155.32911390950187,157.6323024405297,165.42779636886198,165.64730847225906,158.85819311027035,163.26532072462714,163.09984236975856,164.30321897761232,150.01129249182077],\"type\":\"scatter\"},{\"mode\":\"lines\",\"name\":\"Total OLS\",\"x\":[57600.0,48583.5,50652.5,53492.5,49612.5,54367.0,54802.5,56972.5,61684.0,62781.0,64218.0,65315.5,67952.0,70355.0,74481.5,58868.5,46173.0,49415.0,43854.5,47815.0,47960.0,42799.0,50307.0,47347.5,46586.5,50098.0,50412.5,51224.0,51913.5,51047.5,56651.0,35191.0,43541.0,43913.0,44443.0,39796.0,39458.0,55932.0,55058.0,42156.0,42962.0,41311.0,41812.0,52453.5,42515.0,42201.0,43146.0,35357.0,43978.5,44305.5,45241.5,42463.0,42621.5,42894.5,39663.5,44173.0,44729.5,34333.5,45016.5,46522.0,44990.5,45093.5,45489.5,31664.5,20469.5,20862.5,21209.0,21137.0,21401.0,21503.5,55396.0,59292.5,58762.0,56650.0,60896.5,58916.5,59874.5,61569.5,56160.0,61457.0,70093.5,70379.5,71285.5,72215.5,70803.5,57360.5,45427.0,50342.0,44895.5,51039.5,47924.0,48656.0,47661.0,50552.0,49156.5,52046.5,50634.0,51556.0,52376.0,52394.0,50919.0,36065.0,21910.0,22258.0,21718.0,21857.0,21917.0,21701.0,21679.0,21685.0,21932.0,22291.0,23101.0,22046.0,19861.0,19863.0,20004.5,15352.0,46274.0,47249.5,47835.0,47094.0,44788.5,40959.5,44060.0,41994.5,42819.5,45390.0,46440.5,45262.5,46233.5,44584.5,47247.0,37000.0,56825.0,59177.5,58229.5,57085.5,50914.5,61596.0,61495.5,61944.5,56917.5,62211.5,62838.0,64006.0,64124.5,56333.5,62277.5,47389.0,55587.5,55200.0,53971.5,53190.5,54196.0,56142.0,58857.5,63137.5,63758.0,65851.5,60815.0,59124.0,60955.5,60317.5,60508.5,47573.0,65294.5,64616.0,67676.0,62543.0,65812.0,61778.5,63461.5,64329.0,60105.5,63054.5,64056.5,65020.0,56322.5,56226.5,57369.0,33438.0,52284.5,59869.0,50128.5,57111.5,59023.5,54016.5,52661.0,56003.0,56496.0,57488.0,65400.0,66643.0,65754.0,66344.0,67828.5,59901.0,30542.0,31236.0,31675.5,31239.0,30391.0,29983.0,26751.5,26434.5,29885.5,30560.0,31224.0,32102.5,32257.5,34339.5,34635.5,25812.5,30241.0,31125.5,32970.5,32455.5,30340.5,31366.5,31914.5,28844.5,33034.5,34052.0,34221.5,34413.5,30777.0,35333.0,36868.5,25120.0,21071.0,22994.0,18286.0,20850.0,18009.0,18392.0,18612.0,12878.0,42851.0,44227.0,43482.0,41602.0,45552.0,41708.0,43680.5,42669.5,43692.5,47155.0,47252.5,44237.0,46194.5,46121.0,46655.5,40307.5],\"y\":[75.34984701370055,64.12047071027649,66.69725544623661,70.23426301033847,65.4020132396641,71.32338734653813,71.86577002054037,74.56834270156186,80.43616352489492,81.8023949677892,83.59207097821678,84.95892513371037,88.24248866989154,91.23524542219322,96.37449250432924,76.92966887815943,61.1183732689851,65.15604176293519,58.230854945967444,63.163361445131315,63.343948098932294,56.91630864881621,66.26696104011084,62.581125164773,61.63335658861754,66.0066671735977,66.39835339856603,67.40901594725217,68.26773662170578,67.18919839969443,74.16793850020315,47.441113737658846,57.84041414619775,58.30371232008715,58.96378767535968,53.17629677733809,52.75534306020202,73.27247778239004,72.18397615878968,56.11550024609878,57.11931295619248,55.06311595325862,55.68707397777096,68.94026622896457,56.56260789240603,56.17154438003702,57.34847119273992,47.647854320631,58.38528767059724,58.79254171054841,59.95825969646367,56.4978457820774,56.69524567605985,57.03524675528513,53.01127793851995,58.62752287173028,59.320601994766434,46.37316162983584,59.6780390267725,61.55302666330607,59.64565797160819,59.773936767066814,60.26712514572327,43.04912177469927,29.10658667606538,29.59603877912595,30.02757861045035,29.93790799614918,30.266700248586815,30.394356331446122,72.60492987592575,77.45772916237746,76.79703109450561,74.16669307500452,79.45539118097582,76.98944928769355,78.18256662797862,80.29356233965208,73.55643472767709,80.1534520048065,90.90956673275215,91.2657583395596,92.39411356951604,93.55235900423952,91.79381862377761,75.0515676786293,60.189286070809054,66.3105509220628,59.52734257773859,67.17923499810541,63.29911279178171,64.21076403717697,62.9715659645427,66.57209021377456,64.83409934909,68.43337817312322,66.674215080062,67.82249711319648,68.84374577607095,68.86616342964625,67.02916126167081,48.52961536125921,30.900621674688168,31.334029643810506,30.661500036551704,30.834614139160916,30.90933965107856,30.640327808175037,30.612928453805235,30.620401004997,30.92802102905797,31.37512867536521,32.38392308625342,31.069999501701496,28.348745442700597,28.351236293097852,28.52746395870363,22.73312322208959,61.24416121404647,62.459073495307514,63.18826994910387,62.265409876920955,59.39408208148545,54.62534899594108,58.48678982428538,55.91436407652046,56.941839865388076,60.14320533845984,61.45152450961794,59.98441362563484,61.19372149350206,59.140015340965455,62.45595993231095,49.69408792197584,74.38464248476431,77.3145052645353,76.13384217623651,74.70907574900676,67.023556848277,80.3265661074157,80.20140087495365,80.76059678913737,74.49984431563735,81.09312531717087,81.87338420411095,83.32804083610777,83.47562372214512,73.77251599963894,81.17532338028029,62.63281031051604,72.84342880146289,72.36082653699476,70.830821680481,69.85814460035299,71.11041963757285,73.5340170741018,76.91596920097453,82.24638905109987,83.01917538684818,85.62647304017466,79.35388902728769,77.24787501640874,79.52887126769485,78.73428999097055,78.97216620390839,62.86196854706348,84.9327712045392,84.08775020727049,87.89875131507038,81.50598377051587,85.57727874482889,80.55385620616521,82.64990681545514,83.73031317526443,78.47025984886155,82.1430187596138,83.39093480863846,84.59090198751598,73.75881632245404,73.63925550338581,75.06215379281763,45.257883364464995,68.72978937039655,78.17571678938616,66.04465264215584,74.74145680417107,77.12270978394669,70.88686581441922,69.19869195767977,73.36090297149258,73.97489759441589,75.21035939145429,85.06416356299438,86.61222708488826,85.50504408330849,86.23984495049866,88.08867865786107,78.21557039574223,41.65113198924,42.515457077087426,43.062821451884176,42.51919335268331,41.46307278424726,40.954939303207276,36.93034777384279,36.5355479858779,40.83351034634111,41.673549642815296,42.5005119747039,43.59461801169808,43.78765891748533,46.3806341810276,46.74928003982132,35.76089351233165,41.27625900445315,42.377837592639096,44.67564708410668,44.03425310681356,41.40017881171658,42.6779850655083,43.36047807435613,39.537022714569964,44.75535429681883,46.022574436422225,46.23367400758957,46.47279564572604,41.943806910917445,47.61796411586394,49.530314508356334,34.898436562282164,29.85570993303977,32.25066259000029,26.38720075486242,29.58047096414311,26.042217974842625,26.519215825916927,26.793209369614956,19.651941280685367,56.981070759144835,58.69477583245616,57.766934059478736,55.425534686059194,60.34496422063748,55.557549757113705,58.01415096140628,56.75502608559396,58.02909606378981,62.34138081403722,62.4628097709034,58.70723008444243,61.14514991075559,61.05361115865648,61.71929092732283,53.81333176643601],\"type\":\"scatter\"}],                        {\"template\":{\"data\":{\"histogram2dcontour\":[{\"type\":\"histogram2dcontour\",\"colorbar\":{\"outlinewidth\":0,\"ticks\":\"\"},\"colorscale\":[[0.0,\"#0d0887\"],[0.1111111111111111,\"#46039f\"],[0.2222222222222222,\"#7201a8\"],[0.3333333333333333,\"#9c179e\"],[0.4444444444444444,\"#bd3786\"],[0.5555555555555556,\"#d8576b\"],[0.6666666666666666,\"#ed7953\"],[0.7777777777777778,\"#fb9f3a\"],[0.8888888888888888,\"#fdca26\"],[1.0,\"#f0f921\"]]}],\"choropleth\":[{\"type\":\"choropleth\",\"colorbar\":{\"outlinewidth\":0,\"ticks\":\"\"}}],\"histogram2d\":[{\"type\":\"histogram2d\",\"colorbar\":{\"outlinewidth\":0,\"ticks\":\"\"},\"colorscale\":[[0.0,\"#0d0887\"],[0.1111111111111111,\"#46039f\"],[0.2222222222222222,\"#7201a8\"],[0.3333333333333333,\"#9c179e\"],[0.4444444444444444,\"#bd3786\"],[0.5555555555555556,\"#d8576b\"],[0.6666666666666666,\"#ed7953\"],[0.7777777777777778,\"#fb9f3a\"],[0.8888888888888888,\"#fdca26\"],[1.0,\"#f0f921\"]]}],\"heatmap\":[{\"type\":\"heatmap\",\"colorbar\":{\"outlinewidth\":0,\"ticks\":\"\"},\"colorscale\":[[0.0,\"#0d0887\"],[0.1111111111111111,\"#46039f\"],[0.2222222222222222,\"#7201a8\"],[0.3333333333333333,\"#9c179e\"],[0.4444444444444444,\"#bd3786\"],[0.5555555555555556,\"#d8576b\"],[0.6666666666666666,\"#ed7953\"],[0.7777777777777778,\"#fb9f3a\"],[0.8888888888888888,\"#fdca26\"],[1.0,\"#f0f921\"]]}],\"heatmapgl\":[{\"type\":\"heatmapgl\",\"colorbar\":{\"outlinewidth\":0,\"ticks\":\"\"},\"colorscale\":[[0.0,\"#0d0887\"],[0.1111111111111111,\"#46039f\"],[0.2222222222222222,\"#7201a8\"],[0.3333333333333333,\"#9c179e\"],[0.4444444444444444,\"#bd3786\"],[0.5555555555555556,\"#d8576b\"],[0.6666666666666666,\"#ed7953\"],[0.7777777777777778,\"#fb9f3a\"],[0.8888888888888888,\"#fdca26\"],[1.0,\"#f0f921\"]]}],\"contourcarpet\":[{\"type\":\"contourcarpet\",\"colorbar\":{\"outlinewidth\":0,\"ticks\":\"\"}}],\"contour\":[{\"type\":\"contour\",\"colorbar\":{\"outlinewidth\":0,\"ticks\":\"\"},\"colorscale\":[[0.0,\"#0d0887\"],[0.1111111111111111,\"#46039f\"],[0.2222222222222222,\"#7201a8\"],[0.3333333333333333,\"#9c179e\"],[0.4444444444444444,\"#bd3786\"],[0.5555555555555556,\"#d8576b\"],[0.6666666666666666,\"#ed7953\"],[0.7777777777777778,\"#fb9f3a\"],[0.8888888888888888,\"#fdca26\"],[1.0,\"#f0f921\"]]}],\"surface\":[{\"type\":\"surface\",\"colorbar\":{\"outlinewidth\":0,\"ticks\":\"\"},\"colorscale\":[[0.0,\"#0d0887\"],[0.1111111111111111,\"#46039f\"],[0.2222222222222222,\"#7201a8\"],[0.3333333333333333,\"#9c179e\"],[0.4444444444444444,\"#bd3786\"],[0.5555555555555556,\"#d8576b\"],[0.6666666666666666,\"#ed7953\"],[0.7777777777777778,\"#fb9f3a\"],[0.8888888888888888,\"#fdca26\"],[1.0,\"#f0f921\"]]}],\"mesh3d\":[{\"type\":\"mesh3d\",\"colorbar\":{\"outlinewidth\":0,\"ticks\":\"\"}}],\"scatter\":[{\"fillpattern\":{\"fillmode\":\"overlay\",\"size\":10,\"solidity\":0.2},\"type\":\"scatter\"}],\"parcoords\":[{\"type\":\"parcoords\",\"line\":{\"colorbar\":{\"outlinewidth\":0,\"ticks\":\"\"}}}],\"scatterpolargl\":[{\"type\":\"scatterpolargl\",\"marker\":{\"colorbar\":{\"outlinewidth\":0,\"ticks\":\"\"}}}],\"bar\":[{\"error_x\":{\"color\":\"#2a3f5f\"},\"error_y\":{\"color\":\"#2a3f5f\"},\"marker\":{\"line\":{\"color\":\"#E5ECF6\",\"width\":0.5},\"pattern\":{\"fillmode\":\"overlay\",\"size\":10,\"solidity\":0.2}},\"type\":\"bar\"}],\"scattergeo\":[{\"type\":\"scattergeo\",\"marker\":{\"colorbar\":{\"outlinewidth\":0,\"ticks\":\"\"}}}],\"scatterpolar\":[{\"type\":\"scatterpolar\",\"marker\":{\"colorbar\":{\"outlinewidth\":0,\"ticks\":\"\"}}}],\"histogram\":[{\"marker\":{\"pattern\":{\"fillmode\":\"overlay\",\"size\":10,\"solidity\":0.2}},\"type\":\"histogram\"}],\"scattergl\":[{\"type\":\"scattergl\",\"marker\":{\"colorbar\":{\"outlinewidth\":0,\"ticks\":\"\"}}}],\"scatter3d\":[{\"type\":\"scatter3d\",\"line\":{\"colorbar\":{\"outlinewidth\":0,\"ticks\":\"\"}},\"marker\":{\"colorbar\":{\"outlinewidth\":0,\"ticks\":\"\"}}}],\"scattermapbox\":[{\"type\":\"scattermapbox\",\"marker\":{\"colorbar\":{\"outlinewidth\":0,\"ticks\":\"\"}}}],\"scatterternary\":[{\"type\":\"scatterternary\",\"marker\":{\"colorbar\":{\"outlinewidth\":0,\"ticks\":\"\"}}}],\"scattercarpet\":[{\"type\":\"scattercarpet\",\"marker\":{\"colorbar\":{\"outlinewidth\":0,\"ticks\":\"\"}}}],\"carpet\":[{\"aaxis\":{\"endlinecolor\":\"#2a3f5f\",\"gridcolor\":\"white\",\"linecolor\":\"white\",\"minorgridcolor\":\"white\",\"startlinecolor\":\"#2a3f5f\"},\"baxis\":{\"endlinecolor\":\"#2a3f5f\",\"gridcolor\":\"white\",\"linecolor\":\"white\",\"minorgridcolor\":\"white\",\"startlinecolor\":\"#2a3f5f\"},\"type\":\"carpet\"}],\"table\":[{\"cells\":{\"fill\":{\"color\":\"#EBF0F8\"},\"line\":{\"color\":\"white\"}},\"header\":{\"fill\":{\"color\":\"#C8D4E3\"},\"line\":{\"color\":\"white\"}},\"type\":\"table\"}],\"barpolar\":[{\"marker\":{\"line\":{\"color\":\"#E5ECF6\",\"width\":0.5},\"pattern\":{\"fillmode\":\"overlay\",\"size\":10,\"solidity\":0.2}},\"type\":\"barpolar\"}],\"pie\":[{\"automargin\":true,\"type\":\"pie\"}]},\"layout\":{\"autotypenumbers\":\"strict\",\"colorway\":[\"#636efa\",\"#EF553B\",\"#00cc96\",\"#ab63fa\",\"#FFA15A\",\"#19d3f3\",\"#FF6692\",\"#B6E880\",\"#FF97FF\",\"#FECB52\"],\"font\":{\"color\":\"#2a3f5f\"},\"hovermode\":\"closest\",\"hoverlabel\":{\"align\":\"left\"},\"paper_bgcolor\":\"white\",\"plot_bgcolor\":\"#E5ECF6\",\"polar\":{\"bgcolor\":\"#E5ECF6\",\"angularaxis\":{\"gridcolor\":\"white\",\"linecolor\":\"white\",\"ticks\":\"\"},\"radialaxis\":{\"gridcolor\":\"white\",\"linecolor\":\"white\",\"ticks\":\"\"}},\"ternary\":{\"bgcolor\":\"#E5ECF6\",\"aaxis\":{\"gridcolor\":\"white\",\"linecolor\":\"white\",\"ticks\":\"\"},\"baxis\":{\"gridcolor\":\"white\",\"linecolor\":\"white\",\"ticks\":\"\"},\"caxis\":{\"gridcolor\":\"white\",\"linecolor\":\"white\",\"ticks\":\"\"}},\"coloraxis\":{\"colorbar\":{\"outlinewidth\":0,\"ticks\":\"\"}},\"colorscale\":{\"sequential\":[[0.0,\"#0d0887\"],[0.1111111111111111,\"#46039f\"],[0.2222222222222222,\"#7201a8\"],[0.3333333333333333,\"#9c179e\"],[0.4444444444444444,\"#bd3786\"],[0.5555555555555556,\"#d8576b\"],[0.6666666666666666,\"#ed7953\"],[0.7777777777777778,\"#fb9f3a\"],[0.8888888888888888,\"#fdca26\"],[1.0,\"#f0f921\"]],\"sequentialminus\":[[0.0,\"#0d0887\"],[0.1111111111111111,\"#46039f\"],[0.2222222222222222,\"#7201a8\"],[0.3333333333333333,\"#9c179e\"],[0.4444444444444444,\"#bd3786\"],[0.5555555555555556,\"#d8576b\"],[0.6666666666666666,\"#ed7953\"],[0.7777777777777778,\"#fb9f3a\"],[0.8888888888888888,\"#fdca26\"],[1.0,\"#f0f921\"]],\"diverging\":[[0,\"#8e0152\"],[0.1,\"#c51b7d\"],[0.2,\"#de77ae\"],[0.3,\"#f1b6da\"],[0.4,\"#fde0ef\"],[0.5,\"#f7f7f7\"],[0.6,\"#e6f5d0\"],[0.7,\"#b8e186\"],[0.8,\"#7fbc41\"],[0.9,\"#4d9221\"],[1,\"#276419\"]]},\"xaxis\":{\"gridcolor\":\"white\",\"linecolor\":\"white\",\"ticks\":\"\",\"title\":{\"standoff\":15},\"zerolinecolor\":\"white\",\"automargin\":true,\"zerolinewidth\":2},\"yaxis\":{\"gridcolor\":\"white\",\"linecolor\":\"white\",\"ticks\":\"\",\"title\":{\"standoff\":15},\"zerolinecolor\":\"white\",\"automargin\":true,\"zerolinewidth\":2},\"scene\":{\"xaxis\":{\"backgroundcolor\":\"#E5ECF6\",\"gridcolor\":\"white\",\"linecolor\":\"white\",\"showbackground\":true,\"ticks\":\"\",\"zerolinecolor\":\"white\",\"gridwidth\":2},\"yaxis\":{\"backgroundcolor\":\"#E5ECF6\",\"gridcolor\":\"white\",\"linecolor\":\"white\",\"showbackground\":true,\"ticks\":\"\",\"zerolinecolor\":\"white\",\"gridwidth\":2},\"zaxis\":{\"backgroundcolor\":\"#E5ECF6\",\"gridcolor\":\"white\",\"linecolor\":\"white\",\"showbackground\":true,\"ticks\":\"\",\"zerolinecolor\":\"white\",\"gridwidth\":2}},\"shapedefaults\":{\"line\":{\"color\":\"#2a3f5f\"}},\"annotationdefaults\":{\"arrowcolor\":\"#2a3f5f\",\"arrowhead\":0,\"arrowwidth\":1},\"geo\":{\"bgcolor\":\"white\",\"landcolor\":\"#E5ECF6\",\"subunitcolor\":\"white\",\"showland\":true,\"showlakes\":true,\"lakecolor\":\"white\"},\"title\":{\"x\":0.05},\"mapbox\":{\"style\":\"light\"}}},\"xaxis\":{\"title\":{\"text\":\"AADT\"}},\"yaxis\":{\"title\":{\"text\":\"Annual Territorial emissions (kt CO2e)\"}},\"legend\":{\"font\":{\"size\":20}},\"autosize\":false,\"width\":1000,\"height\":1000},                        {\"responsive\": true}                    ).then(function(){\n",
       "                            \n",
       "var gd = document.getElementById('ea1ef3e8-0f84-40df-b12b-543e5cc6d674');\n",
       "var x = new MutationObserver(function (mutations, observer) {{\n",
       "        var display = window.getComputedStyle(gd).display;\n",
       "        if (!display || display === 'none') {{\n",
       "            console.log([gd, 'removed!']);\n",
       "            Plotly.purge(gd);\n",
       "            observer.disconnect();\n",
       "        }}\n",
       "}});\n",
       "\n",
       "// Listen for the removal of the full notebook cells\n",
       "var notebookContainer = gd.closest('#notebook-container');\n",
       "if (notebookContainer) {{\n",
       "    x.observe(notebookContainer, {childList: true});\n",
       "}}\n",
       "\n",
       "// Listen for the clearing of the current output cell\n",
       "var outputEl = gd.closest('.output');\n",
       "if (outputEl) {{\n",
       "    x.observe(outputEl, {childList: true});\n",
       "}}\n",
       "\n",
       "                        })                };                });            </script>        </div>"
      ]
     },
     "metadata": {},
     "output_type": "display_data"
    }
   ],
   "source": [
    "df_ols, df_total = plot_aadt_ghg(merged_dfs_list, show_plot=True)"
   ]
  },
  {
   "attachments": {},
   "cell_type": "markdown",
   "metadata": {},
   "source": [
    "## Filter for Sites with Good Count Data"
   ]
  },
  {
   "cell_type": "code",
   "execution_count": 290,
   "metadata": {},
   "outputs": [],
   "source": [
    "chosen_site_names = [item[0] for item in CHOSEN_COUNT_SITES]\n",
    "\n",
    "chosen_merged_dfs_list = []\n",
    "\n",
    "for df in merged_dfs_list:\n",
    "    if df.iloc[0]['Local Authority'] in chosen_site_names:\n",
    "        chosen_merged_dfs_list.append(df)"
   ]
  },
  {
   "cell_type": "code",
   "execution_count": 291,
   "metadata": {},
   "outputs": [
    {
     "data": {
      "application/vnd.plotly.v1+json": {
       "config": {
        "plotlyServerURL": "https://plot.ly"
       },
       "data": [
        {
         "marker": {
          "color": "#636EFA"
         },
         "mode": "markers",
         "name": "Luton",
         "type": "scatter",
         "x": [
          57600,
          48583.5,
          50652.5,
          53492.5,
          49612.5,
          54367,
          54802.5,
          56972.5,
          61684,
          62781,
          64218,
          65315.5,
          67952,
          70355,
          74481.5,
          58868.5
         ],
         "y": [
          31.81287926,
          25.993748813,
          27.204528143000005,
          27.863432503,
          24.754067676,
          27.443241393,
          27.513462083,
          28.448691871,
          29.84521794,
          30.298551254000003,
          31.153447532,
          31.863185576,
          33.745372917000005,
          34.480487687,
          36.064526434,
          31.216663949000004
         ]
        },
        {
         "marker": {
          "color": "#636EFA",
          "size": 15
         },
         "mode": "lines",
         "name": "Luton OLS",
         "type": "scatter",
         "x": [
          57600,
          48583.5,
          50652.5,
          53492.5,
          49612.5,
          54367,
          54802.5,
          56972.5,
          61684,
          62781,
          64218,
          65315.5,
          67952,
          70355,
          74481.5,
          58868.5
         ],
         "y": [
          29.237410274412113,
          25.676421363742246,
          26.493555069301607,
          27.615188575240985,
          26.082816038957606,
          27.960564807967742,
          28.13256177692429,
          28.989584561392057,
          30.850350851262967,
          31.283601540000816,
          31.851132296351132,
          32.28458045577665,
          33.325843391836216,
          34.27488751675605,
          35.90461310205846,
          29.738393409019192
         ]
        },
        {
         "marker": {
          "color": "#EF553B"
         },
         "mode": "markers",
         "name": "Hounslow",
         "type": "scatter",
         "x": [
          46173,
          49415,
          43854.5,
          47815,
          47960,
          42799,
          50307,
          47347.5,
          46586.5,
          50098,
          50412.5,
          51224,
          51913.5,
          51047.5,
          56651,
          35191
         ],
         "y": [
          69.679211202,
          75.931082136,
          66.348447448,
          65.94261259,
          64.685640541,
          62.72171482,
          68.074381034,
          68.260994826,
          65.811996159,
          69.60349358600001,
          66.648311945,
          68.19205573699999,
          67.681418715,
          65.784937774,
          69.392767821,
          44.306321778
         ]
        },
        {
         "marker": {
          "color": "#EF553B",
          "size": 15
         },
         "mode": "lines",
         "name": "Hounslow OLS",
         "type": "scatter",
         "x": [
          46173,
          49415,
          43854.5,
          47815,
          47960,
          42799,
          50307,
          47347.5,
          46586.5,
          50098,
          50412.5,
          51224,
          51913.5,
          51047.5,
          56651,
          35191
         ],
         "y": [
          64.23620508467587,
          67.61415020429475,
          61.82048461587994,
          65.94705822669135,
          66.09813843716165,
          60.720724876904704,
          68.54355398180863,
          65.45995478948535,
          64.66704416763774,
          68.3257900922342,
          68.65347785908186,
          69.49900607147259,
          70.21741852057104,
          69.31510498769322,
          75.1535736730061,
          52.793702523400555
         ]
        },
        {
         "marker": {
          "color": "#00CC96"
         },
         "mode": "markers",
         "name": "Enfield",
         "type": "scatter",
         "x": [
          55396,
          59292.5,
          58762,
          56650,
          60896.5,
          58916.5,
          59874.5,
          61569.5,
          56160,
          61457,
          70093.5,
          70379.5,
          71285.5,
          72215.5,
          70803.5,
          57360.5
         ],
         "y": [
          122.334811817,
          123.985743196,
          125.392379386,
          124.409842953,
          125.528464062,
          128.763229196,
          115.769539259,
          131.546756389,
          124.152736427,
          122.972567209,
          143.884877836,
          146.462083717,
          147.51433026700002,
          148.219038113,
          136.439761662,
          114.445594673
         ]
        },
        {
         "marker": {
          "color": "#00CC96",
          "size": 15
         },
         "mode": "lines",
         "name": "Enfield OLS",
         "type": "scatter",
         "x": [
          55396,
          59292.5,
          58762,
          56650,
          60896.5,
          58916.5,
          59874.5,
          61569.5,
          56160,
          61457,
          70093.5,
          70379.5,
          71285.5,
          72215.5,
          70803.5,
          57360.5
         ],
         "y": [
          118.39426025440748,
          124.7600817560603,
          123.89338900445583,
          120.4429552789353,
          127.3805816119954,
          124.1457999943199,
          125.71091150428613,
          128.4800806163871,
          119.6424285149651,
          128.29628620629194,
          142.40597885328913,
          142.87322508695337,
          144.35338273625337,
          145.872749859707,
          143.56592579700103,
          121.6037190866921
         ]
        },
        {
         "marker": {
          "color": "#AB63FA"
         },
         "mode": "markers",
         "name": "Havering",
         "type": "scatter",
         "x": [
          52284.5,
          59869,
          50128.5,
          57111.5,
          59023.5,
          54016.5,
          52661,
          56003,
          56496,
          57488,
          65400,
          66643,
          65754,
          66344,
          67828.5,
          59901
         ],
         "y": [
          129.121547449,
          145.181504297,
          138.08851433599995,
          138.025919885,
          136.49559024899995,
          125.719796183,
          134.523531327,
          124.931793945,
          130.92806626499998,
          135.64262623,
          146.867782521,
          156.018567688,
          158.47148081300003,
          161.286580701,
          155.385844781,
          147.193227206
         ]
        },
        {
         "marker": {
          "color": "#AB63FA",
          "size": 15
         },
         "mode": "lines",
         "name": "Havering OLS",
         "type": "scatter",
         "x": [
          52284.5,
          59869,
          50128.5,
          57111.5,
          59023.5,
          54016.5,
          52661,
          56003,
          56496,
          57488,
          65400,
          66643,
          65754,
          66344,
          67828.5,
          59901
         ],
         "y": [
          129.27330456310557,
          142.70484269100905,
          125.45520235415839,
          137.821532467831,
          141.20753034515337,
          132.34053694988503,
          129.94005571415778,
          135.8584683219043,
          136.73153158211346,
          138.48828361888326,
          152.49979784763562,
          154.70105065177353,
          153.12670331237,
          154.17154575359393,
          156.8004755908769,
          142.76151211155002
         ]
        },
        {
         "marker": {
          "color": "#FFA15A"
         },
         "mode": "markers",
         "name": "Blackburn with Darwen",
         "type": "scatter",
         "x": [
          30241,
          31125.5,
          32970.5,
          32455.5,
          30340.5,
          31366.5,
          31914.5,
          28844.5,
          33034.5,
          34052,
          34221.5,
          34413.5,
          30777,
          35333,
          36868.5,
          25120
         ],
         "y": [
          43.407684936,
          43.63186721500001,
          44.518305044,
          42.530733665,
          39.657701144,
          39.427691328,
          37.810997329,
          37.108126983,
          38.812223531,
          39.225577140000006,
          40.592887371,
          41.60774533,
          36.818976505,
          39.780264045,
          39.944270639,
          28.776814445
         ]
        },
        {
         "marker": {
          "color": "#FFA15A",
          "size": 15
         },
         "mode": "lines",
         "name": "Blackburn with Darwen OLS",
         "type": "scatter",
         "x": [
          30241,
          31125.5,
          32970.5,
          32455.5,
          30340.5,
          31366.5,
          31914.5,
          28844.5,
          33034.5,
          34052,
          34221.5,
          34413.5,
          30777,
          35333,
          36868.5,
          25120
         ],
         "y": [
          38.21455563017828,
          38.887074571871906,
          40.28989814160028,
          39.89832408284141,
          38.290209259006446,
          39.07031602461149,
          39.48698123665005,
          37.1527436436603,
          40.338559772203325,
          41.112203664993906,
          41.241080952294155,
          41.38706584410329,
          38.62209678647877,
          42.08619661503296,
          43.25369558051692,
          34.3208648439566
         ]
        },
        {
         "mode": "lines",
         "name": "Total OLS",
         "type": "scatter",
         "x": [
          57600,
          48583.5,
          50652.5,
          53492.5,
          49612.5,
          54367,
          54802.5,
          56972.5,
          61684,
          62781,
          64218,
          65315.5,
          67952,
          70355,
          74481.5,
          58868.5,
          46173,
          49415,
          43854.5,
          47815,
          47960,
          42799,
          50307,
          47347.5,
          46586.5,
          50098,
          50412.5,
          51224,
          51913.5,
          51047.5,
          56651,
          35191,
          55396,
          59292.5,
          58762,
          56650,
          60896.5,
          58916.5,
          59874.5,
          61569.5,
          56160,
          61457,
          70093.5,
          70379.5,
          71285.5,
          72215.5,
          70803.5,
          57360.5,
          52284.5,
          59869,
          50128.5,
          57111.5,
          59023.5,
          54016.5,
          52661,
          56003,
          56496,
          57488,
          65400,
          66643,
          65754,
          66344,
          67828.5,
          59901,
          30241,
          31125.5,
          32970.5,
          32455.5,
          30340.5,
          31366.5,
          31914.5,
          28844.5,
          33034.5,
          34052,
          34221.5,
          34413.5,
          30777,
          35333,
          36868.5,
          25120
         ],
         "y": [
          92.50285838993224,
          73.84682188792215,
          78.12778895082448,
          84.00403180178756,
          75.97592537159858,
          85.81345939797322,
          86.71455227177407,
          91.20449839381274,
          100.95306113758477,
          103.22286339374904,
          106.19615951235255,
          108.4669963183145,
          113.92217740161175,
          118.89422372938085,
          127.43236320983831,
          95.12751122670923,
          68.85925731318747,
          75.56727820150519,
          64.06204990123047,
          72.25671884884991,
          72.55673829018431,
          61.87811527827569,
          77.4129150406105,
          71.28941478799598,
          69.71482999588932,
          76.9804732251699,
          77.63120504792619,
          79.31027936960103,
          80.7369235406359,
          78.94508329101126,
          90.5392828738886,
          46.13640555639994,
          87.94256288164962,
          96.00480945516287,
          94.90715211979813,
          90.53721377429318,
          99.32364520619979,
          95.2268280072889,
          97.20902541969122,
          100.71614923391039,
          89.5233549725425,
          100.48337552942681,
          118.35315418518127,
          118.9449166694684,
          120.81952090290943,
          122.7437835266403,
          119.82221489792204,
          92.00730903683166,
          81.50455949053284,
          97.19764537191648,
          77.04358076282989,
          91.49210323757467,
          95.44822166399771,
          85.08823998978215,
          82.28357548820455,
          89.19850633606322,
          90.21857243660011,
          92.27111923524637,
          108.6418352341266,
          111.21372603122066,
          109.3742964909016,
          110.59506525219322,
          113.66664360157867,
          97.2638565589696,
          35.89436255912274,
          37.724481151262474,
          41.54196990479307,
          40.47638361315716,
          36.10023796886599,
          38.22313415375617,
          39.357000732040596,
          33.004864974133326,
          41.67439227889928,
          43.77970111722849,
          44.130413498650405,
          44.52768062096903,
          37.003399942262256,
          46.430217698948105,
          49.607320127699445,
          25.298503531030512
         ]
        }
       ],
       "layout": {
        "autosize": false,
        "height": 1000,
        "legend": {
         "font": {
          "size": 20
         }
        },
        "template": {
         "data": {
          "bar": [
           {
            "error_x": {
             "color": "#2a3f5f"
            },
            "error_y": {
             "color": "#2a3f5f"
            },
            "marker": {
             "line": {
              "color": "#E5ECF6",
              "width": 0.5
             },
             "pattern": {
              "fillmode": "overlay",
              "size": 10,
              "solidity": 0.2
             }
            },
            "type": "bar"
           }
          ],
          "barpolar": [
           {
            "marker": {
             "line": {
              "color": "#E5ECF6",
              "width": 0.5
             },
             "pattern": {
              "fillmode": "overlay",
              "size": 10,
              "solidity": 0.2
             }
            },
            "type": "barpolar"
           }
          ],
          "carpet": [
           {
            "aaxis": {
             "endlinecolor": "#2a3f5f",
             "gridcolor": "white",
             "linecolor": "white",
             "minorgridcolor": "white",
             "startlinecolor": "#2a3f5f"
            },
            "baxis": {
             "endlinecolor": "#2a3f5f",
             "gridcolor": "white",
             "linecolor": "white",
             "minorgridcolor": "white",
             "startlinecolor": "#2a3f5f"
            },
            "type": "carpet"
           }
          ],
          "choropleth": [
           {
            "colorbar": {
             "outlinewidth": 0,
             "ticks": ""
            },
            "type": "choropleth"
           }
          ],
          "contour": [
           {
            "colorbar": {
             "outlinewidth": 0,
             "ticks": ""
            },
            "colorscale": [
             [
              0,
              "#0d0887"
             ],
             [
              0.1111111111111111,
              "#46039f"
             ],
             [
              0.2222222222222222,
              "#7201a8"
             ],
             [
              0.3333333333333333,
              "#9c179e"
             ],
             [
              0.4444444444444444,
              "#bd3786"
             ],
             [
              0.5555555555555556,
              "#d8576b"
             ],
             [
              0.6666666666666666,
              "#ed7953"
             ],
             [
              0.7777777777777778,
              "#fb9f3a"
             ],
             [
              0.8888888888888888,
              "#fdca26"
             ],
             [
              1,
              "#f0f921"
             ]
            ],
            "type": "contour"
           }
          ],
          "contourcarpet": [
           {
            "colorbar": {
             "outlinewidth": 0,
             "ticks": ""
            },
            "type": "contourcarpet"
           }
          ],
          "heatmap": [
           {
            "colorbar": {
             "outlinewidth": 0,
             "ticks": ""
            },
            "colorscale": [
             [
              0,
              "#0d0887"
             ],
             [
              0.1111111111111111,
              "#46039f"
             ],
             [
              0.2222222222222222,
              "#7201a8"
             ],
             [
              0.3333333333333333,
              "#9c179e"
             ],
             [
              0.4444444444444444,
              "#bd3786"
             ],
             [
              0.5555555555555556,
              "#d8576b"
             ],
             [
              0.6666666666666666,
              "#ed7953"
             ],
             [
              0.7777777777777778,
              "#fb9f3a"
             ],
             [
              0.8888888888888888,
              "#fdca26"
             ],
             [
              1,
              "#f0f921"
             ]
            ],
            "type": "heatmap"
           }
          ],
          "heatmapgl": [
           {
            "colorbar": {
             "outlinewidth": 0,
             "ticks": ""
            },
            "colorscale": [
             [
              0,
              "#0d0887"
             ],
             [
              0.1111111111111111,
              "#46039f"
             ],
             [
              0.2222222222222222,
              "#7201a8"
             ],
             [
              0.3333333333333333,
              "#9c179e"
             ],
             [
              0.4444444444444444,
              "#bd3786"
             ],
             [
              0.5555555555555556,
              "#d8576b"
             ],
             [
              0.6666666666666666,
              "#ed7953"
             ],
             [
              0.7777777777777778,
              "#fb9f3a"
             ],
             [
              0.8888888888888888,
              "#fdca26"
             ],
             [
              1,
              "#f0f921"
             ]
            ],
            "type": "heatmapgl"
           }
          ],
          "histogram": [
           {
            "marker": {
             "pattern": {
              "fillmode": "overlay",
              "size": 10,
              "solidity": 0.2
             }
            },
            "type": "histogram"
           }
          ],
          "histogram2d": [
           {
            "colorbar": {
             "outlinewidth": 0,
             "ticks": ""
            },
            "colorscale": [
             [
              0,
              "#0d0887"
             ],
             [
              0.1111111111111111,
              "#46039f"
             ],
             [
              0.2222222222222222,
              "#7201a8"
             ],
             [
              0.3333333333333333,
              "#9c179e"
             ],
             [
              0.4444444444444444,
              "#bd3786"
             ],
             [
              0.5555555555555556,
              "#d8576b"
             ],
             [
              0.6666666666666666,
              "#ed7953"
             ],
             [
              0.7777777777777778,
              "#fb9f3a"
             ],
             [
              0.8888888888888888,
              "#fdca26"
             ],
             [
              1,
              "#f0f921"
             ]
            ],
            "type": "histogram2d"
           }
          ],
          "histogram2dcontour": [
           {
            "colorbar": {
             "outlinewidth": 0,
             "ticks": ""
            },
            "colorscale": [
             [
              0,
              "#0d0887"
             ],
             [
              0.1111111111111111,
              "#46039f"
             ],
             [
              0.2222222222222222,
              "#7201a8"
             ],
             [
              0.3333333333333333,
              "#9c179e"
             ],
             [
              0.4444444444444444,
              "#bd3786"
             ],
             [
              0.5555555555555556,
              "#d8576b"
             ],
             [
              0.6666666666666666,
              "#ed7953"
             ],
             [
              0.7777777777777778,
              "#fb9f3a"
             ],
             [
              0.8888888888888888,
              "#fdca26"
             ],
             [
              1,
              "#f0f921"
             ]
            ],
            "type": "histogram2dcontour"
           }
          ],
          "mesh3d": [
           {
            "colorbar": {
             "outlinewidth": 0,
             "ticks": ""
            },
            "type": "mesh3d"
           }
          ],
          "parcoords": [
           {
            "line": {
             "colorbar": {
              "outlinewidth": 0,
              "ticks": ""
             }
            },
            "type": "parcoords"
           }
          ],
          "pie": [
           {
            "automargin": true,
            "type": "pie"
           }
          ],
          "scatter": [
           {
            "fillpattern": {
             "fillmode": "overlay",
             "size": 10,
             "solidity": 0.2
            },
            "type": "scatter"
           }
          ],
          "scatter3d": [
           {
            "line": {
             "colorbar": {
              "outlinewidth": 0,
              "ticks": ""
             }
            },
            "marker": {
             "colorbar": {
              "outlinewidth": 0,
              "ticks": ""
             }
            },
            "type": "scatter3d"
           }
          ],
          "scattercarpet": [
           {
            "marker": {
             "colorbar": {
              "outlinewidth": 0,
              "ticks": ""
             }
            },
            "type": "scattercarpet"
           }
          ],
          "scattergeo": [
           {
            "marker": {
             "colorbar": {
              "outlinewidth": 0,
              "ticks": ""
             }
            },
            "type": "scattergeo"
           }
          ],
          "scattergl": [
           {
            "marker": {
             "colorbar": {
              "outlinewidth": 0,
              "ticks": ""
             }
            },
            "type": "scattergl"
           }
          ],
          "scattermapbox": [
           {
            "marker": {
             "colorbar": {
              "outlinewidth": 0,
              "ticks": ""
             }
            },
            "type": "scattermapbox"
           }
          ],
          "scatterpolar": [
           {
            "marker": {
             "colorbar": {
              "outlinewidth": 0,
              "ticks": ""
             }
            },
            "type": "scatterpolar"
           }
          ],
          "scatterpolargl": [
           {
            "marker": {
             "colorbar": {
              "outlinewidth": 0,
              "ticks": ""
             }
            },
            "type": "scatterpolargl"
           }
          ],
          "scatterternary": [
           {
            "marker": {
             "colorbar": {
              "outlinewidth": 0,
              "ticks": ""
             }
            },
            "type": "scatterternary"
           }
          ],
          "surface": [
           {
            "colorbar": {
             "outlinewidth": 0,
             "ticks": ""
            },
            "colorscale": [
             [
              0,
              "#0d0887"
             ],
             [
              0.1111111111111111,
              "#46039f"
             ],
             [
              0.2222222222222222,
              "#7201a8"
             ],
             [
              0.3333333333333333,
              "#9c179e"
             ],
             [
              0.4444444444444444,
              "#bd3786"
             ],
             [
              0.5555555555555556,
              "#d8576b"
             ],
             [
              0.6666666666666666,
              "#ed7953"
             ],
             [
              0.7777777777777778,
              "#fb9f3a"
             ],
             [
              0.8888888888888888,
              "#fdca26"
             ],
             [
              1,
              "#f0f921"
             ]
            ],
            "type": "surface"
           }
          ],
          "table": [
           {
            "cells": {
             "fill": {
              "color": "#EBF0F8"
             },
             "line": {
              "color": "white"
             }
            },
            "header": {
             "fill": {
              "color": "#C8D4E3"
             },
             "line": {
              "color": "white"
             }
            },
            "type": "table"
           }
          ]
         },
         "layout": {
          "annotationdefaults": {
           "arrowcolor": "#2a3f5f",
           "arrowhead": 0,
           "arrowwidth": 1
          },
          "autotypenumbers": "strict",
          "coloraxis": {
           "colorbar": {
            "outlinewidth": 0,
            "ticks": ""
           }
          },
          "colorscale": {
           "diverging": [
            [
             0,
             "#8e0152"
            ],
            [
             0.1,
             "#c51b7d"
            ],
            [
             0.2,
             "#de77ae"
            ],
            [
             0.3,
             "#f1b6da"
            ],
            [
             0.4,
             "#fde0ef"
            ],
            [
             0.5,
             "#f7f7f7"
            ],
            [
             0.6,
             "#e6f5d0"
            ],
            [
             0.7,
             "#b8e186"
            ],
            [
             0.8,
             "#7fbc41"
            ],
            [
             0.9,
             "#4d9221"
            ],
            [
             1,
             "#276419"
            ]
           ],
           "sequential": [
            [
             0,
             "#0d0887"
            ],
            [
             0.1111111111111111,
             "#46039f"
            ],
            [
             0.2222222222222222,
             "#7201a8"
            ],
            [
             0.3333333333333333,
             "#9c179e"
            ],
            [
             0.4444444444444444,
             "#bd3786"
            ],
            [
             0.5555555555555556,
             "#d8576b"
            ],
            [
             0.6666666666666666,
             "#ed7953"
            ],
            [
             0.7777777777777778,
             "#fb9f3a"
            ],
            [
             0.8888888888888888,
             "#fdca26"
            ],
            [
             1,
             "#f0f921"
            ]
           ],
           "sequentialminus": [
            [
             0,
             "#0d0887"
            ],
            [
             0.1111111111111111,
             "#46039f"
            ],
            [
             0.2222222222222222,
             "#7201a8"
            ],
            [
             0.3333333333333333,
             "#9c179e"
            ],
            [
             0.4444444444444444,
             "#bd3786"
            ],
            [
             0.5555555555555556,
             "#d8576b"
            ],
            [
             0.6666666666666666,
             "#ed7953"
            ],
            [
             0.7777777777777778,
             "#fb9f3a"
            ],
            [
             0.8888888888888888,
             "#fdca26"
            ],
            [
             1,
             "#f0f921"
            ]
           ]
          },
          "colorway": [
           "#636efa",
           "#EF553B",
           "#00cc96",
           "#ab63fa",
           "#FFA15A",
           "#19d3f3",
           "#FF6692",
           "#B6E880",
           "#FF97FF",
           "#FECB52"
          ],
          "font": {
           "color": "#2a3f5f"
          },
          "geo": {
           "bgcolor": "white",
           "lakecolor": "white",
           "landcolor": "#E5ECF6",
           "showlakes": true,
           "showland": true,
           "subunitcolor": "white"
          },
          "hoverlabel": {
           "align": "left"
          },
          "hovermode": "closest",
          "mapbox": {
           "style": "light"
          },
          "paper_bgcolor": "white",
          "plot_bgcolor": "#E5ECF6",
          "polar": {
           "angularaxis": {
            "gridcolor": "white",
            "linecolor": "white",
            "ticks": ""
           },
           "bgcolor": "#E5ECF6",
           "radialaxis": {
            "gridcolor": "white",
            "linecolor": "white",
            "ticks": ""
           }
          },
          "scene": {
           "xaxis": {
            "backgroundcolor": "#E5ECF6",
            "gridcolor": "white",
            "gridwidth": 2,
            "linecolor": "white",
            "showbackground": true,
            "ticks": "",
            "zerolinecolor": "white"
           },
           "yaxis": {
            "backgroundcolor": "#E5ECF6",
            "gridcolor": "white",
            "gridwidth": 2,
            "linecolor": "white",
            "showbackground": true,
            "ticks": "",
            "zerolinecolor": "white"
           },
           "zaxis": {
            "backgroundcolor": "#E5ECF6",
            "gridcolor": "white",
            "gridwidth": 2,
            "linecolor": "white",
            "showbackground": true,
            "ticks": "",
            "zerolinecolor": "white"
           }
          },
          "shapedefaults": {
           "line": {
            "color": "#2a3f5f"
           }
          },
          "ternary": {
           "aaxis": {
            "gridcolor": "white",
            "linecolor": "white",
            "ticks": ""
           },
           "baxis": {
            "gridcolor": "white",
            "linecolor": "white",
            "ticks": ""
           },
           "bgcolor": "#E5ECF6",
           "caxis": {
            "gridcolor": "white",
            "linecolor": "white",
            "ticks": ""
           }
          },
          "title": {
           "x": 0.05
          },
          "xaxis": {
           "automargin": true,
           "gridcolor": "white",
           "linecolor": "white",
           "ticks": "",
           "title": {
            "standoff": 15
           },
           "zerolinecolor": "white",
           "zerolinewidth": 2
          },
          "yaxis": {
           "automargin": true,
           "gridcolor": "white",
           "linecolor": "white",
           "ticks": "",
           "title": {
            "standoff": 15
           },
           "zerolinecolor": "white",
           "zerolinewidth": 2
          }
         }
        },
        "width": 1000,
        "xaxis": {
         "title": {
          "text": "AADT"
         }
        },
        "yaxis": {
         "title": {
          "text": "Annual Territorial emissions (kt CO2e)"
         }
        }
       }
      },
      "text/html": [
       "<div>                            <div id=\"d44d1cf5-f544-4a2f-8b50-8a765f38b02f\" class=\"plotly-graph-div\" style=\"height:1000px; width:1000px;\"></div>            <script type=\"text/javascript\">                require([\"plotly\"], function(Plotly) {                    window.PLOTLYENV=window.PLOTLYENV || {};                                    if (document.getElementById(\"d44d1cf5-f544-4a2f-8b50-8a765f38b02f\")) {                    Plotly.newPlot(                        \"d44d1cf5-f544-4a2f-8b50-8a765f38b02f\",                        [{\"marker\":{\"color\":\"#636EFA\"},\"mode\":\"markers\",\"name\":\"Luton\",\"x\":[57600.0,48583.5,50652.5,53492.5,49612.5,54367.0,54802.5,56972.5,61684.0,62781.0,64218.0,65315.5,67952.0,70355.0,74481.5,58868.5],\"y\":[31.81287926,25.993748813,27.204528143000005,27.863432503,24.754067676,27.443241393,27.513462083,28.448691871,29.84521794,30.298551254000003,31.153447532,31.863185576,33.745372917000005,34.480487687,36.064526434,31.216663949000004],\"type\":\"scatter\"},{\"marker\":{\"color\":\"#636EFA\",\"size\":15},\"mode\":\"lines\",\"name\":\"Luton OLS\",\"x\":[57600.0,48583.5,50652.5,53492.5,49612.5,54367.0,54802.5,56972.5,61684.0,62781.0,64218.0,65315.5,67952.0,70355.0,74481.5,58868.5],\"y\":[29.237410274412113,25.676421363742246,26.493555069301607,27.615188575240985,26.082816038957606,27.960564807967742,28.13256177692429,28.989584561392057,30.850350851262967,31.283601540000816,31.851132296351132,32.28458045577665,33.325843391836216,34.27488751675605,35.90461310205846,29.738393409019192],\"type\":\"scatter\"},{\"marker\":{\"color\":\"#EF553B\"},\"mode\":\"markers\",\"name\":\"Hounslow\",\"x\":[46173.0,49415.0,43854.5,47815.0,47960.0,42799.0,50307.0,47347.5,46586.5,50098.0,50412.5,51224.0,51913.5,51047.5,56651.0,35191.0],\"y\":[69.679211202,75.931082136,66.348447448,65.94261259,64.685640541,62.72171482,68.074381034,68.260994826,65.811996159,69.60349358600001,66.648311945,68.19205573699999,67.681418715,65.784937774,69.392767821,44.306321778],\"type\":\"scatter\"},{\"marker\":{\"color\":\"#EF553B\",\"size\":15},\"mode\":\"lines\",\"name\":\"Hounslow OLS\",\"x\":[46173.0,49415.0,43854.5,47815.0,47960.0,42799.0,50307.0,47347.5,46586.5,50098.0,50412.5,51224.0,51913.5,51047.5,56651.0,35191.0],\"y\":[64.23620508467587,67.61415020429475,61.82048461587994,65.94705822669135,66.09813843716165,60.720724876904704,68.54355398180863,65.45995478948535,64.66704416763774,68.3257900922342,68.65347785908186,69.49900607147259,70.21741852057104,69.31510498769322,75.1535736730061,52.793702523400555],\"type\":\"scatter\"},{\"marker\":{\"color\":\"#00CC96\"},\"mode\":\"markers\",\"name\":\"Enfield\",\"x\":[55396.0,59292.5,58762.0,56650.0,60896.5,58916.5,59874.5,61569.5,56160.0,61457.0,70093.5,70379.5,71285.5,72215.5,70803.5,57360.5],\"y\":[122.334811817,123.985743196,125.392379386,124.409842953,125.528464062,128.763229196,115.769539259,131.546756389,124.152736427,122.972567209,143.884877836,146.462083717,147.51433026700002,148.219038113,136.439761662,114.445594673],\"type\":\"scatter\"},{\"marker\":{\"color\":\"#00CC96\",\"size\":15},\"mode\":\"lines\",\"name\":\"Enfield OLS\",\"x\":[55396.0,59292.5,58762.0,56650.0,60896.5,58916.5,59874.5,61569.5,56160.0,61457.0,70093.5,70379.5,71285.5,72215.5,70803.5,57360.5],\"y\":[118.39426025440748,124.7600817560603,123.89338900445583,120.4429552789353,127.3805816119954,124.1457999943199,125.71091150428613,128.4800806163871,119.6424285149651,128.29628620629194,142.40597885328913,142.87322508695337,144.35338273625337,145.872749859707,143.56592579700103,121.6037190866921],\"type\":\"scatter\"},{\"marker\":{\"color\":\"#AB63FA\"},\"mode\":\"markers\",\"name\":\"Havering\",\"x\":[52284.5,59869.0,50128.5,57111.5,59023.5,54016.5,52661.0,56003.0,56496.0,57488.0,65400.0,66643.0,65754.0,66344.0,67828.5,59901.0],\"y\":[129.121547449,145.181504297,138.08851433599995,138.025919885,136.49559024899995,125.719796183,134.523531327,124.931793945,130.92806626499998,135.64262623,146.867782521,156.018567688,158.47148081300003,161.286580701,155.385844781,147.193227206],\"type\":\"scatter\"},{\"marker\":{\"color\":\"#AB63FA\",\"size\":15},\"mode\":\"lines\",\"name\":\"Havering OLS\",\"x\":[52284.5,59869.0,50128.5,57111.5,59023.5,54016.5,52661.0,56003.0,56496.0,57488.0,65400.0,66643.0,65754.0,66344.0,67828.5,59901.0],\"y\":[129.27330456310557,142.70484269100905,125.45520235415839,137.821532467831,141.20753034515337,132.34053694988503,129.94005571415778,135.8584683219043,136.73153158211346,138.48828361888326,152.49979784763562,154.70105065177353,153.12670331237,154.17154575359393,156.8004755908769,142.76151211155002],\"type\":\"scatter\"},{\"marker\":{\"color\":\"#FFA15A\"},\"mode\":\"markers\",\"name\":\"Blackburn with Darwen\",\"x\":[30241.0,31125.5,32970.5,32455.5,30340.5,31366.5,31914.5,28844.5,33034.5,34052.0,34221.5,34413.5,30777.0,35333.0,36868.5,25120.0],\"y\":[43.407684936,43.63186721500001,44.518305044,42.530733665,39.657701144,39.427691328,37.810997329,37.108126983,38.812223531,39.225577140000006,40.592887371,41.60774533,36.818976505,39.780264045,39.944270639,28.776814445],\"type\":\"scatter\"},{\"marker\":{\"color\":\"#FFA15A\",\"size\":15},\"mode\":\"lines\",\"name\":\"Blackburn with Darwen OLS\",\"x\":[30241.0,31125.5,32970.5,32455.5,30340.5,31366.5,31914.5,28844.5,33034.5,34052.0,34221.5,34413.5,30777.0,35333.0,36868.5,25120.0],\"y\":[38.21455563017828,38.887074571871906,40.28989814160028,39.89832408284141,38.290209259006446,39.07031602461149,39.48698123665005,37.1527436436603,40.338559772203325,41.112203664993906,41.241080952294155,41.38706584410329,38.62209678647877,42.08619661503296,43.25369558051692,34.3208648439566],\"type\":\"scatter\"},{\"mode\":\"lines\",\"name\":\"Total OLS\",\"x\":[57600.0,48583.5,50652.5,53492.5,49612.5,54367.0,54802.5,56972.5,61684.0,62781.0,64218.0,65315.5,67952.0,70355.0,74481.5,58868.5,46173.0,49415.0,43854.5,47815.0,47960.0,42799.0,50307.0,47347.5,46586.5,50098.0,50412.5,51224.0,51913.5,51047.5,56651.0,35191.0,55396.0,59292.5,58762.0,56650.0,60896.5,58916.5,59874.5,61569.5,56160.0,61457.0,70093.5,70379.5,71285.5,72215.5,70803.5,57360.5,52284.5,59869.0,50128.5,57111.5,59023.5,54016.5,52661.0,56003.0,56496.0,57488.0,65400.0,66643.0,65754.0,66344.0,67828.5,59901.0,30241.0,31125.5,32970.5,32455.5,30340.5,31366.5,31914.5,28844.5,33034.5,34052.0,34221.5,34413.5,30777.0,35333.0,36868.5,25120.0],\"y\":[92.50285838993224,73.84682188792215,78.12778895082448,84.00403180178756,75.97592537159858,85.81345939797322,86.71455227177407,91.20449839381274,100.95306113758477,103.22286339374904,106.19615951235255,108.4669963183145,113.92217740161175,118.89422372938085,127.43236320983831,95.12751122670923,68.85925731318747,75.56727820150519,64.06204990123047,72.25671884884991,72.55673829018431,61.87811527827569,77.4129150406105,71.28941478799598,69.71482999588932,76.9804732251699,77.63120504792619,79.31027936960103,80.7369235406359,78.94508329101126,90.5392828738886,46.13640555639994,87.94256288164962,96.00480945516287,94.90715211979813,90.53721377429318,99.32364520619979,95.2268280072889,97.20902541969122,100.71614923391039,89.5233549725425,100.48337552942681,118.35315418518127,118.9449166694684,120.81952090290943,122.7437835266403,119.82221489792204,92.00730903683166,81.50455949053284,97.19764537191648,77.04358076282989,91.49210323757467,95.44822166399771,85.08823998978215,82.28357548820455,89.19850633606322,90.21857243660011,92.27111923524637,108.6418352341266,111.21372603122066,109.3742964909016,110.59506525219322,113.66664360157867,97.2638565589696,35.89436255912274,37.724481151262474,41.54196990479307,40.47638361315716,36.10023796886599,38.22313415375617,39.357000732040596,33.004864974133326,41.67439227889928,43.77970111722849,44.130413498650405,44.52768062096903,37.003399942262256,46.430217698948105,49.607320127699445,25.298503531030512],\"type\":\"scatter\"}],                        {\"template\":{\"data\":{\"histogram2dcontour\":[{\"type\":\"histogram2dcontour\",\"colorbar\":{\"outlinewidth\":0,\"ticks\":\"\"},\"colorscale\":[[0.0,\"#0d0887\"],[0.1111111111111111,\"#46039f\"],[0.2222222222222222,\"#7201a8\"],[0.3333333333333333,\"#9c179e\"],[0.4444444444444444,\"#bd3786\"],[0.5555555555555556,\"#d8576b\"],[0.6666666666666666,\"#ed7953\"],[0.7777777777777778,\"#fb9f3a\"],[0.8888888888888888,\"#fdca26\"],[1.0,\"#f0f921\"]]}],\"choropleth\":[{\"type\":\"choropleth\",\"colorbar\":{\"outlinewidth\":0,\"ticks\":\"\"}}],\"histogram2d\":[{\"type\":\"histogram2d\",\"colorbar\":{\"outlinewidth\":0,\"ticks\":\"\"},\"colorscale\":[[0.0,\"#0d0887\"],[0.1111111111111111,\"#46039f\"],[0.2222222222222222,\"#7201a8\"],[0.3333333333333333,\"#9c179e\"],[0.4444444444444444,\"#bd3786\"],[0.5555555555555556,\"#d8576b\"],[0.6666666666666666,\"#ed7953\"],[0.7777777777777778,\"#fb9f3a\"],[0.8888888888888888,\"#fdca26\"],[1.0,\"#f0f921\"]]}],\"heatmap\":[{\"type\":\"heatmap\",\"colorbar\":{\"outlinewidth\":0,\"ticks\":\"\"},\"colorscale\":[[0.0,\"#0d0887\"],[0.1111111111111111,\"#46039f\"],[0.2222222222222222,\"#7201a8\"],[0.3333333333333333,\"#9c179e\"],[0.4444444444444444,\"#bd3786\"],[0.5555555555555556,\"#d8576b\"],[0.6666666666666666,\"#ed7953\"],[0.7777777777777778,\"#fb9f3a\"],[0.8888888888888888,\"#fdca26\"],[1.0,\"#f0f921\"]]}],\"heatmapgl\":[{\"type\":\"heatmapgl\",\"colorbar\":{\"outlinewidth\":0,\"ticks\":\"\"},\"colorscale\":[[0.0,\"#0d0887\"],[0.1111111111111111,\"#46039f\"],[0.2222222222222222,\"#7201a8\"],[0.3333333333333333,\"#9c179e\"],[0.4444444444444444,\"#bd3786\"],[0.5555555555555556,\"#d8576b\"],[0.6666666666666666,\"#ed7953\"],[0.7777777777777778,\"#fb9f3a\"],[0.8888888888888888,\"#fdca26\"],[1.0,\"#f0f921\"]]}],\"contourcarpet\":[{\"type\":\"contourcarpet\",\"colorbar\":{\"outlinewidth\":0,\"ticks\":\"\"}}],\"contour\":[{\"type\":\"contour\",\"colorbar\":{\"outlinewidth\":0,\"ticks\":\"\"},\"colorscale\":[[0.0,\"#0d0887\"],[0.1111111111111111,\"#46039f\"],[0.2222222222222222,\"#7201a8\"],[0.3333333333333333,\"#9c179e\"],[0.4444444444444444,\"#bd3786\"],[0.5555555555555556,\"#d8576b\"],[0.6666666666666666,\"#ed7953\"],[0.7777777777777778,\"#fb9f3a\"],[0.8888888888888888,\"#fdca26\"],[1.0,\"#f0f921\"]]}],\"surface\":[{\"type\":\"surface\",\"colorbar\":{\"outlinewidth\":0,\"ticks\":\"\"},\"colorscale\":[[0.0,\"#0d0887\"],[0.1111111111111111,\"#46039f\"],[0.2222222222222222,\"#7201a8\"],[0.3333333333333333,\"#9c179e\"],[0.4444444444444444,\"#bd3786\"],[0.5555555555555556,\"#d8576b\"],[0.6666666666666666,\"#ed7953\"],[0.7777777777777778,\"#fb9f3a\"],[0.8888888888888888,\"#fdca26\"],[1.0,\"#f0f921\"]]}],\"mesh3d\":[{\"type\":\"mesh3d\",\"colorbar\":{\"outlinewidth\":0,\"ticks\":\"\"}}],\"scatter\":[{\"fillpattern\":{\"fillmode\":\"overlay\",\"size\":10,\"solidity\":0.2},\"type\":\"scatter\"}],\"parcoords\":[{\"type\":\"parcoords\",\"line\":{\"colorbar\":{\"outlinewidth\":0,\"ticks\":\"\"}}}],\"scatterpolargl\":[{\"type\":\"scatterpolargl\",\"marker\":{\"colorbar\":{\"outlinewidth\":0,\"ticks\":\"\"}}}],\"bar\":[{\"error_x\":{\"color\":\"#2a3f5f\"},\"error_y\":{\"color\":\"#2a3f5f\"},\"marker\":{\"line\":{\"color\":\"#E5ECF6\",\"width\":0.5},\"pattern\":{\"fillmode\":\"overlay\",\"size\":10,\"solidity\":0.2}},\"type\":\"bar\"}],\"scattergeo\":[{\"type\":\"scattergeo\",\"marker\":{\"colorbar\":{\"outlinewidth\":0,\"ticks\":\"\"}}}],\"scatterpolar\":[{\"type\":\"scatterpolar\",\"marker\":{\"colorbar\":{\"outlinewidth\":0,\"ticks\":\"\"}}}],\"histogram\":[{\"marker\":{\"pattern\":{\"fillmode\":\"overlay\",\"size\":10,\"solidity\":0.2}},\"type\":\"histogram\"}],\"scattergl\":[{\"type\":\"scattergl\",\"marker\":{\"colorbar\":{\"outlinewidth\":0,\"ticks\":\"\"}}}],\"scatter3d\":[{\"type\":\"scatter3d\",\"line\":{\"colorbar\":{\"outlinewidth\":0,\"ticks\":\"\"}},\"marker\":{\"colorbar\":{\"outlinewidth\":0,\"ticks\":\"\"}}}],\"scattermapbox\":[{\"type\":\"scattermapbox\",\"marker\":{\"colorbar\":{\"outlinewidth\":0,\"ticks\":\"\"}}}],\"scatterternary\":[{\"type\":\"scatterternary\",\"marker\":{\"colorbar\":{\"outlinewidth\":0,\"ticks\":\"\"}}}],\"scattercarpet\":[{\"type\":\"scattercarpet\",\"marker\":{\"colorbar\":{\"outlinewidth\":0,\"ticks\":\"\"}}}],\"carpet\":[{\"aaxis\":{\"endlinecolor\":\"#2a3f5f\",\"gridcolor\":\"white\",\"linecolor\":\"white\",\"minorgridcolor\":\"white\",\"startlinecolor\":\"#2a3f5f\"},\"baxis\":{\"endlinecolor\":\"#2a3f5f\",\"gridcolor\":\"white\",\"linecolor\":\"white\",\"minorgridcolor\":\"white\",\"startlinecolor\":\"#2a3f5f\"},\"type\":\"carpet\"}],\"table\":[{\"cells\":{\"fill\":{\"color\":\"#EBF0F8\"},\"line\":{\"color\":\"white\"}},\"header\":{\"fill\":{\"color\":\"#C8D4E3\"},\"line\":{\"color\":\"white\"}},\"type\":\"table\"}],\"barpolar\":[{\"marker\":{\"line\":{\"color\":\"#E5ECF6\",\"width\":0.5},\"pattern\":{\"fillmode\":\"overlay\",\"size\":10,\"solidity\":0.2}},\"type\":\"barpolar\"}],\"pie\":[{\"automargin\":true,\"type\":\"pie\"}]},\"layout\":{\"autotypenumbers\":\"strict\",\"colorway\":[\"#636efa\",\"#EF553B\",\"#00cc96\",\"#ab63fa\",\"#FFA15A\",\"#19d3f3\",\"#FF6692\",\"#B6E880\",\"#FF97FF\",\"#FECB52\"],\"font\":{\"color\":\"#2a3f5f\"},\"hovermode\":\"closest\",\"hoverlabel\":{\"align\":\"left\"},\"paper_bgcolor\":\"white\",\"plot_bgcolor\":\"#E5ECF6\",\"polar\":{\"bgcolor\":\"#E5ECF6\",\"angularaxis\":{\"gridcolor\":\"white\",\"linecolor\":\"white\",\"ticks\":\"\"},\"radialaxis\":{\"gridcolor\":\"white\",\"linecolor\":\"white\",\"ticks\":\"\"}},\"ternary\":{\"bgcolor\":\"#E5ECF6\",\"aaxis\":{\"gridcolor\":\"white\",\"linecolor\":\"white\",\"ticks\":\"\"},\"baxis\":{\"gridcolor\":\"white\",\"linecolor\":\"white\",\"ticks\":\"\"},\"caxis\":{\"gridcolor\":\"white\",\"linecolor\":\"white\",\"ticks\":\"\"}},\"coloraxis\":{\"colorbar\":{\"outlinewidth\":0,\"ticks\":\"\"}},\"colorscale\":{\"sequential\":[[0.0,\"#0d0887\"],[0.1111111111111111,\"#46039f\"],[0.2222222222222222,\"#7201a8\"],[0.3333333333333333,\"#9c179e\"],[0.4444444444444444,\"#bd3786\"],[0.5555555555555556,\"#d8576b\"],[0.6666666666666666,\"#ed7953\"],[0.7777777777777778,\"#fb9f3a\"],[0.8888888888888888,\"#fdca26\"],[1.0,\"#f0f921\"]],\"sequentialminus\":[[0.0,\"#0d0887\"],[0.1111111111111111,\"#46039f\"],[0.2222222222222222,\"#7201a8\"],[0.3333333333333333,\"#9c179e\"],[0.4444444444444444,\"#bd3786\"],[0.5555555555555556,\"#d8576b\"],[0.6666666666666666,\"#ed7953\"],[0.7777777777777778,\"#fb9f3a\"],[0.8888888888888888,\"#fdca26\"],[1.0,\"#f0f921\"]],\"diverging\":[[0,\"#8e0152\"],[0.1,\"#c51b7d\"],[0.2,\"#de77ae\"],[0.3,\"#f1b6da\"],[0.4,\"#fde0ef\"],[0.5,\"#f7f7f7\"],[0.6,\"#e6f5d0\"],[0.7,\"#b8e186\"],[0.8,\"#7fbc41\"],[0.9,\"#4d9221\"],[1,\"#276419\"]]},\"xaxis\":{\"gridcolor\":\"white\",\"linecolor\":\"white\",\"ticks\":\"\",\"title\":{\"standoff\":15},\"zerolinecolor\":\"white\",\"automargin\":true,\"zerolinewidth\":2},\"yaxis\":{\"gridcolor\":\"white\",\"linecolor\":\"white\",\"ticks\":\"\",\"title\":{\"standoff\":15},\"zerolinecolor\":\"white\",\"automargin\":true,\"zerolinewidth\":2},\"scene\":{\"xaxis\":{\"backgroundcolor\":\"#E5ECF6\",\"gridcolor\":\"white\",\"linecolor\":\"white\",\"showbackground\":true,\"ticks\":\"\",\"zerolinecolor\":\"white\",\"gridwidth\":2},\"yaxis\":{\"backgroundcolor\":\"#E5ECF6\",\"gridcolor\":\"white\",\"linecolor\":\"white\",\"showbackground\":true,\"ticks\":\"\",\"zerolinecolor\":\"white\",\"gridwidth\":2},\"zaxis\":{\"backgroundcolor\":\"#E5ECF6\",\"gridcolor\":\"white\",\"linecolor\":\"white\",\"showbackground\":true,\"ticks\":\"\",\"zerolinecolor\":\"white\",\"gridwidth\":2}},\"shapedefaults\":{\"line\":{\"color\":\"#2a3f5f\"}},\"annotationdefaults\":{\"arrowcolor\":\"#2a3f5f\",\"arrowhead\":0,\"arrowwidth\":1},\"geo\":{\"bgcolor\":\"white\",\"landcolor\":\"#E5ECF6\",\"subunitcolor\":\"white\",\"showland\":true,\"showlakes\":true,\"lakecolor\":\"white\"},\"title\":{\"x\":0.05},\"mapbox\":{\"style\":\"light\"}}},\"xaxis\":{\"title\":{\"text\":\"AADT\"}},\"yaxis\":{\"title\":{\"text\":\"Annual Territorial emissions (kt CO2e)\"}},\"legend\":{\"font\":{\"size\":20}},\"autosize\":false,\"width\":1000,\"height\":1000},                        {\"responsive\": true}                    ).then(function(){\n",
       "                            \n",
       "var gd = document.getElementById('d44d1cf5-f544-4a2f-8b50-8a765f38b02f');\n",
       "var x = new MutationObserver(function (mutations, observer) {{\n",
       "        var display = window.getComputedStyle(gd).display;\n",
       "        if (!display || display === 'none') {{\n",
       "            console.log([gd, 'removed!']);\n",
       "            Plotly.purge(gd);\n",
       "            observer.disconnect();\n",
       "        }}\n",
       "}});\n",
       "\n",
       "// Listen for the removal of the full notebook cells\n",
       "var notebookContainer = gd.closest('#notebook-container');\n",
       "if (notebookContainer) {{\n",
       "    x.observe(notebookContainer, {childList: true});\n",
       "}}\n",
       "\n",
       "// Listen for the clearing of the current output cell\n",
       "var outputEl = gd.closest('.output');\n",
       "if (outputEl) {{\n",
       "    x.observe(outputEl, {childList: true});\n",
       "}}\n",
       "\n",
       "                        })                };                });            </script>        </div>"
      ]
     },
     "metadata": {},
     "output_type": "display_data"
    }
   ],
   "source": [
    "df_ols, df_total = plot_aadt_ghg(chosen_merged_dfs_list)"
   ]
  },
  {
   "attachments": {},
   "cell_type": "markdown",
   "metadata": {},
   "source": [
    "### Count Site Distributions"
   ]
  },
  {
   "cell_type": "code",
   "execution_count": 293,
   "metadata": {},
   "outputs": [
    {
     "data": {
      "text/html": [
       "<div>\n",
       "<style scoped>\n",
       "    .dataframe tbody tr th:only-of-type {\n",
       "        vertical-align: middle;\n",
       "    }\n",
       "\n",
       "    .dataframe tbody tr th {\n",
       "        vertical-align: top;\n",
       "    }\n",
       "\n",
       "    .dataframe thead th {\n",
       "        text-align: right;\n",
       "    }\n",
       "</style>\n",
       "<table border=\"1\" class=\"dataframe\">\n",
       "  <thead>\n",
       "    <tr style=\"text-align: right;\">\n",
       "      <th></th>\n",
       "      <th>count_point_id</th>\n",
       "      <th>year</th>\n",
       "      <th>local_authority_id</th>\n",
       "      <th>local_authority_name</th>\n",
       "      <th>road_name</th>\n",
       "      <th>latitude</th>\n",
       "      <th>longitude</th>\n",
       "      <th>link_length_km</th>\n",
       "      <th>direction_of_travel</th>\n",
       "      <th>all_motor_vehicles</th>\n",
       "    </tr>\n",
       "  </thead>\n",
       "  <tbody>\n",
       "    <tr>\n",
       "      <th>84</th>\n",
       "      <td>73039</td>\n",
       "      <td>2014</td>\n",
       "      <td>120</td>\n",
       "      <td>Luton</td>\n",
       "      <td>M1</td>\n",
       "      <td>51.902050</td>\n",
       "      <td>-0.475252</td>\n",
       "      <td>1.9</td>\n",
       "      <td>N</td>\n",
       "      <td>64166</td>\n",
       "    </tr>\n",
       "    <tr>\n",
       "      <th>85</th>\n",
       "      <td>73039</td>\n",
       "      <td>2014</td>\n",
       "      <td>120</td>\n",
       "      <td>Luton</td>\n",
       "      <td>M1</td>\n",
       "      <td>51.902050</td>\n",
       "      <td>-0.475252</td>\n",
       "      <td>1.9</td>\n",
       "      <td>S</td>\n",
       "      <td>57061</td>\n",
       "    </tr>\n",
       "    <tr>\n",
       "      <th>92</th>\n",
       "      <td>73042</td>\n",
       "      <td>2014</td>\n",
       "      <td>120</td>\n",
       "      <td>Luton</td>\n",
       "      <td>M1</td>\n",
       "      <td>51.890731</td>\n",
       "      <td>-0.469096</td>\n",
       "      <td>0.7</td>\n",
       "      <td>N</td>\n",
       "      <td>73265</td>\n",
       "    </tr>\n",
       "    <tr>\n",
       "      <th>93</th>\n",
       "      <td>73042</td>\n",
       "      <td>2014</td>\n",
       "      <td>120</td>\n",
       "      <td>Luton</td>\n",
       "      <td>M1</td>\n",
       "      <td>51.890731</td>\n",
       "      <td>-0.469096</td>\n",
       "      <td>0.7</td>\n",
       "      <td>S</td>\n",
       "      <td>61396</td>\n",
       "    </tr>\n",
       "    <tr>\n",
       "      <th>144</th>\n",
       "      <td>73042</td>\n",
       "      <td>2015</td>\n",
       "      <td>120</td>\n",
       "      <td>Luton</td>\n",
       "      <td>M1</td>\n",
       "      <td>51.890731</td>\n",
       "      <td>-0.469096</td>\n",
       "      <td>0.7</td>\n",
       "      <td>N</td>\n",
       "      <td>63750</td>\n",
       "    </tr>\n",
       "    <tr>\n",
       "      <th>...</th>\n",
       "      <td>...</td>\n",
       "      <td>...</td>\n",
       "      <td>...</td>\n",
       "      <td>...</td>\n",
       "      <td>...</td>\n",
       "      <td>...</td>\n",
       "      <td>...</td>\n",
       "      <td>...</td>\n",
       "      <td>...</td>\n",
       "      <td>...</td>\n",
       "    </tr>\n",
       "    <tr>\n",
       "      <th>1583</th>\n",
       "      <td>73042</td>\n",
       "      <td>2020</td>\n",
       "      <td>120</td>\n",
       "      <td>Luton</td>\n",
       "      <td>M1</td>\n",
       "      <td>51.890729</td>\n",
       "      <td>-0.469096</td>\n",
       "      <td>0.7</td>\n",
       "      <td>S</td>\n",
       "      <td>50240</td>\n",
       "    </tr>\n",
       "    <tr>\n",
       "      <th>1608</th>\n",
       "      <td>73039</td>\n",
       "      <td>2020</td>\n",
       "      <td>120</td>\n",
       "      <td>Luton</td>\n",
       "      <td>M1</td>\n",
       "      <td>51.902049</td>\n",
       "      <td>-0.475252</td>\n",
       "      <td>1.9</td>\n",
       "      <td>N</td>\n",
       "      <td>62896</td>\n",
       "    </tr>\n",
       "    <tr>\n",
       "      <th>1609</th>\n",
       "      <td>73039</td>\n",
       "      <td>2020</td>\n",
       "      <td>120</td>\n",
       "      <td>Luton</td>\n",
       "      <td>M1</td>\n",
       "      <td>51.902049</td>\n",
       "      <td>-0.475252</td>\n",
       "      <td>1.9</td>\n",
       "      <td>S</td>\n",
       "      <td>67612</td>\n",
       "    </tr>\n",
       "    <tr>\n",
       "      <th>1639</th>\n",
       "      <td>73039</td>\n",
       "      <td>2019</td>\n",
       "      <td>120</td>\n",
       "      <td>Luton</td>\n",
       "      <td>M1</td>\n",
       "      <td>51.902049</td>\n",
       "      <td>-0.475252</td>\n",
       "      <td>1.9</td>\n",
       "      <td>N</td>\n",
       "      <td>81098</td>\n",
       "    </tr>\n",
       "    <tr>\n",
       "      <th>1640</th>\n",
       "      <td>73039</td>\n",
       "      <td>2019</td>\n",
       "      <td>120</td>\n",
       "      <td>Luton</td>\n",
       "      <td>M1</td>\n",
       "      <td>51.902049</td>\n",
       "      <td>-0.475252</td>\n",
       "      <td>1.9</td>\n",
       "      <td>S</td>\n",
       "      <td>87664</td>\n",
       "    </tr>\n",
       "  </tbody>\n",
       "</table>\n",
       "<p>64 rows × 10 columns</p>\n",
       "</div>"
      ],
      "text/plain": [
       "      count_point_id  year  local_authority_id local_authority_name road_name  \\\n",
       "84             73039  2014                 120                Luton        M1   \n",
       "85             73039  2014                 120                Luton        M1   \n",
       "92             73042  2014                 120                Luton        M1   \n",
       "93             73042  2014                 120                Luton        M1   \n",
       "144            73042  2015                 120                Luton        M1   \n",
       "...              ...   ...                 ...                  ...       ...   \n",
       "1583           73042  2020                 120                Luton        M1   \n",
       "1608           73039  2020                 120                Luton        M1   \n",
       "1609           73039  2020                 120                Luton        M1   \n",
       "1639           73039  2019                 120                Luton        M1   \n",
       "1640           73039  2019                 120                Luton        M1   \n",
       "\n",
       "       latitude  longitude  link_length_km direction_of_travel  \\\n",
       "84    51.902050  -0.475252             1.9                   N   \n",
       "85    51.902050  -0.475252             1.9                   S   \n",
       "92    51.890731  -0.469096             0.7                   N   \n",
       "93    51.890731  -0.469096             0.7                   S   \n",
       "144   51.890731  -0.469096             0.7                   N   \n",
       "...         ...        ...             ...                 ...   \n",
       "1583  51.890729  -0.469096             0.7                   S   \n",
       "1608  51.902049  -0.475252             1.9                   N   \n",
       "1609  51.902049  -0.475252             1.9                   S   \n",
       "1639  51.902049  -0.475252             1.9                   N   \n",
       "1640  51.902049  -0.475252             1.9                   S   \n",
       "\n",
       "      all_motor_vehicles  \n",
       "84                 64166  \n",
       "85                 57061  \n",
       "92                 73265  \n",
       "93                 61396  \n",
       "144                63750  \n",
       "...                  ...  \n",
       "1583               50240  \n",
       "1608               62896  \n",
       "1609               67612  \n",
       "1639               81098  \n",
       "1640               87664  \n",
       "\n",
       "[64 rows x 10 columns]"
      ]
     },
     "execution_count": 293,
     "metadata": {},
     "output_type": "execute_result"
    }
   ],
   "source": [
    "df_chosen_aadt_list = []\n",
    "\n",
    "for name in CHOSEN_LA_NAMES:\n",
    "    for df in df_aadt_list:\n",
    "        if df.iloc[0]['local_authority_name'] == name:\n",
    "            df_chosen_aadt_list.append(df)\n",
    "\n",
    "df_chosen_aadt_list[0]"
   ]
  },
  {
   "cell_type": "code",
   "execution_count": 295,
   "metadata": {},
   "outputs": [
    {
     "data": {
      "application/vnd.plotly.v1+json": {
       "config": {
        "plotlyServerURL": "https://plot.ly"
       },
       "data": [
        {
         "alignmentgroup": "True",
         "bingroup": "x",
         "hovertemplate": "all_motor_vehicles=%{x}<br>count=%{y}<extra></extra>",
         "legendgroup": "",
         "marker": {
          "color": "#636efa",
          "pattern": {
           "shape": ""
          }
         },
         "name": "",
         "offsetgroup": "",
         "orientation": "v",
         "showlegend": false,
         "type": "histogram",
         "x": [
          64166,
          57061,
          73265,
          61396,
          63750,
          70233,
          64686,
          59830,
          72598,
          70790,
          65114,
          63949,
          51116,
          48109,
          44314,
          54596,
          53945,
          53040,
          62348,
          50107,
          48857,
          41880,
          51890,
          48085,
          52195,
          49415,
          64372,
          56515,
          60154,
          48310,
          58175,
          57025,
          59722,
          61711,
          71766,
          60184,
          55005,
          53028,
          63184,
          56285,
          54223,
          52742,
          71418,
          64839,
          54508,
          55122,
          59561,
          54600,
          54226,
          52216,
          67865,
          67065,
          67367,
          66342,
          60811,
          65792,
          75141,
          73343,
          54841,
          50240,
          62896,
          67612,
          81098,
          87664
         ],
         "xaxis": "x",
         "yaxis": "y"
        }
       ],
       "layout": {
        "barmode": "relative",
        "legend": {
         "tracegroupgap": 0
        },
        "template": {
         "data": {
          "bar": [
           {
            "error_x": {
             "color": "#2a3f5f"
            },
            "error_y": {
             "color": "#2a3f5f"
            },
            "marker": {
             "line": {
              "color": "#E5ECF6",
              "width": 0.5
             },
             "pattern": {
              "fillmode": "overlay",
              "size": 10,
              "solidity": 0.2
             }
            },
            "type": "bar"
           }
          ],
          "barpolar": [
           {
            "marker": {
             "line": {
              "color": "#E5ECF6",
              "width": 0.5
             },
             "pattern": {
              "fillmode": "overlay",
              "size": 10,
              "solidity": 0.2
             }
            },
            "type": "barpolar"
           }
          ],
          "carpet": [
           {
            "aaxis": {
             "endlinecolor": "#2a3f5f",
             "gridcolor": "white",
             "linecolor": "white",
             "minorgridcolor": "white",
             "startlinecolor": "#2a3f5f"
            },
            "baxis": {
             "endlinecolor": "#2a3f5f",
             "gridcolor": "white",
             "linecolor": "white",
             "minorgridcolor": "white",
             "startlinecolor": "#2a3f5f"
            },
            "type": "carpet"
           }
          ],
          "choropleth": [
           {
            "colorbar": {
             "outlinewidth": 0,
             "ticks": ""
            },
            "type": "choropleth"
           }
          ],
          "contour": [
           {
            "colorbar": {
             "outlinewidth": 0,
             "ticks": ""
            },
            "colorscale": [
             [
              0,
              "#0d0887"
             ],
             [
              0.1111111111111111,
              "#46039f"
             ],
             [
              0.2222222222222222,
              "#7201a8"
             ],
             [
              0.3333333333333333,
              "#9c179e"
             ],
             [
              0.4444444444444444,
              "#bd3786"
             ],
             [
              0.5555555555555556,
              "#d8576b"
             ],
             [
              0.6666666666666666,
              "#ed7953"
             ],
             [
              0.7777777777777778,
              "#fb9f3a"
             ],
             [
              0.8888888888888888,
              "#fdca26"
             ],
             [
              1,
              "#f0f921"
             ]
            ],
            "type": "contour"
           }
          ],
          "contourcarpet": [
           {
            "colorbar": {
             "outlinewidth": 0,
             "ticks": ""
            },
            "type": "contourcarpet"
           }
          ],
          "heatmap": [
           {
            "colorbar": {
             "outlinewidth": 0,
             "ticks": ""
            },
            "colorscale": [
             [
              0,
              "#0d0887"
             ],
             [
              0.1111111111111111,
              "#46039f"
             ],
             [
              0.2222222222222222,
              "#7201a8"
             ],
             [
              0.3333333333333333,
              "#9c179e"
             ],
             [
              0.4444444444444444,
              "#bd3786"
             ],
             [
              0.5555555555555556,
              "#d8576b"
             ],
             [
              0.6666666666666666,
              "#ed7953"
             ],
             [
              0.7777777777777778,
              "#fb9f3a"
             ],
             [
              0.8888888888888888,
              "#fdca26"
             ],
             [
              1,
              "#f0f921"
             ]
            ],
            "type": "heatmap"
           }
          ],
          "heatmapgl": [
           {
            "colorbar": {
             "outlinewidth": 0,
             "ticks": ""
            },
            "colorscale": [
             [
              0,
              "#0d0887"
             ],
             [
              0.1111111111111111,
              "#46039f"
             ],
             [
              0.2222222222222222,
              "#7201a8"
             ],
             [
              0.3333333333333333,
              "#9c179e"
             ],
             [
              0.4444444444444444,
              "#bd3786"
             ],
             [
              0.5555555555555556,
              "#d8576b"
             ],
             [
              0.6666666666666666,
              "#ed7953"
             ],
             [
              0.7777777777777778,
              "#fb9f3a"
             ],
             [
              0.8888888888888888,
              "#fdca26"
             ],
             [
              1,
              "#f0f921"
             ]
            ],
            "type": "heatmapgl"
           }
          ],
          "histogram": [
           {
            "marker": {
             "pattern": {
              "fillmode": "overlay",
              "size": 10,
              "solidity": 0.2
             }
            },
            "type": "histogram"
           }
          ],
          "histogram2d": [
           {
            "colorbar": {
             "outlinewidth": 0,
             "ticks": ""
            },
            "colorscale": [
             [
              0,
              "#0d0887"
             ],
             [
              0.1111111111111111,
              "#46039f"
             ],
             [
              0.2222222222222222,
              "#7201a8"
             ],
             [
              0.3333333333333333,
              "#9c179e"
             ],
             [
              0.4444444444444444,
              "#bd3786"
             ],
             [
              0.5555555555555556,
              "#d8576b"
             ],
             [
              0.6666666666666666,
              "#ed7953"
             ],
             [
              0.7777777777777778,
              "#fb9f3a"
             ],
             [
              0.8888888888888888,
              "#fdca26"
             ],
             [
              1,
              "#f0f921"
             ]
            ],
            "type": "histogram2d"
           }
          ],
          "histogram2dcontour": [
           {
            "colorbar": {
             "outlinewidth": 0,
             "ticks": ""
            },
            "colorscale": [
             [
              0,
              "#0d0887"
             ],
             [
              0.1111111111111111,
              "#46039f"
             ],
             [
              0.2222222222222222,
              "#7201a8"
             ],
             [
              0.3333333333333333,
              "#9c179e"
             ],
             [
              0.4444444444444444,
              "#bd3786"
             ],
             [
              0.5555555555555556,
              "#d8576b"
             ],
             [
              0.6666666666666666,
              "#ed7953"
             ],
             [
              0.7777777777777778,
              "#fb9f3a"
             ],
             [
              0.8888888888888888,
              "#fdca26"
             ],
             [
              1,
              "#f0f921"
             ]
            ],
            "type": "histogram2dcontour"
           }
          ],
          "mesh3d": [
           {
            "colorbar": {
             "outlinewidth": 0,
             "ticks": ""
            },
            "type": "mesh3d"
           }
          ],
          "parcoords": [
           {
            "line": {
             "colorbar": {
              "outlinewidth": 0,
              "ticks": ""
             }
            },
            "type": "parcoords"
           }
          ],
          "pie": [
           {
            "automargin": true,
            "type": "pie"
           }
          ],
          "scatter": [
           {
            "fillpattern": {
             "fillmode": "overlay",
             "size": 10,
             "solidity": 0.2
            },
            "type": "scatter"
           }
          ],
          "scatter3d": [
           {
            "line": {
             "colorbar": {
              "outlinewidth": 0,
              "ticks": ""
             }
            },
            "marker": {
             "colorbar": {
              "outlinewidth": 0,
              "ticks": ""
             }
            },
            "type": "scatter3d"
           }
          ],
          "scattercarpet": [
           {
            "marker": {
             "colorbar": {
              "outlinewidth": 0,
              "ticks": ""
             }
            },
            "type": "scattercarpet"
           }
          ],
          "scattergeo": [
           {
            "marker": {
             "colorbar": {
              "outlinewidth": 0,
              "ticks": ""
             }
            },
            "type": "scattergeo"
           }
          ],
          "scattergl": [
           {
            "marker": {
             "colorbar": {
              "outlinewidth": 0,
              "ticks": ""
             }
            },
            "type": "scattergl"
           }
          ],
          "scattermapbox": [
           {
            "marker": {
             "colorbar": {
              "outlinewidth": 0,
              "ticks": ""
             }
            },
            "type": "scattermapbox"
           }
          ],
          "scatterpolar": [
           {
            "marker": {
             "colorbar": {
              "outlinewidth": 0,
              "ticks": ""
             }
            },
            "type": "scatterpolar"
           }
          ],
          "scatterpolargl": [
           {
            "marker": {
             "colorbar": {
              "outlinewidth": 0,
              "ticks": ""
             }
            },
            "type": "scatterpolargl"
           }
          ],
          "scatterternary": [
           {
            "marker": {
             "colorbar": {
              "outlinewidth": 0,
              "ticks": ""
             }
            },
            "type": "scatterternary"
           }
          ],
          "surface": [
           {
            "colorbar": {
             "outlinewidth": 0,
             "ticks": ""
            },
            "colorscale": [
             [
              0,
              "#0d0887"
             ],
             [
              0.1111111111111111,
              "#46039f"
             ],
             [
              0.2222222222222222,
              "#7201a8"
             ],
             [
              0.3333333333333333,
              "#9c179e"
             ],
             [
              0.4444444444444444,
              "#bd3786"
             ],
             [
              0.5555555555555556,
              "#d8576b"
             ],
             [
              0.6666666666666666,
              "#ed7953"
             ],
             [
              0.7777777777777778,
              "#fb9f3a"
             ],
             [
              0.8888888888888888,
              "#fdca26"
             ],
             [
              1,
              "#f0f921"
             ]
            ],
            "type": "surface"
           }
          ],
          "table": [
           {
            "cells": {
             "fill": {
              "color": "#EBF0F8"
             },
             "line": {
              "color": "white"
             }
            },
            "header": {
             "fill": {
              "color": "#C8D4E3"
             },
             "line": {
              "color": "white"
             }
            },
            "type": "table"
           }
          ]
         },
         "layout": {
          "annotationdefaults": {
           "arrowcolor": "#2a3f5f",
           "arrowhead": 0,
           "arrowwidth": 1
          },
          "autotypenumbers": "strict",
          "coloraxis": {
           "colorbar": {
            "outlinewidth": 0,
            "ticks": ""
           }
          },
          "colorscale": {
           "diverging": [
            [
             0,
             "#8e0152"
            ],
            [
             0.1,
             "#c51b7d"
            ],
            [
             0.2,
             "#de77ae"
            ],
            [
             0.3,
             "#f1b6da"
            ],
            [
             0.4,
             "#fde0ef"
            ],
            [
             0.5,
             "#f7f7f7"
            ],
            [
             0.6,
             "#e6f5d0"
            ],
            [
             0.7,
             "#b8e186"
            ],
            [
             0.8,
             "#7fbc41"
            ],
            [
             0.9,
             "#4d9221"
            ],
            [
             1,
             "#276419"
            ]
           ],
           "sequential": [
            [
             0,
             "#0d0887"
            ],
            [
             0.1111111111111111,
             "#46039f"
            ],
            [
             0.2222222222222222,
             "#7201a8"
            ],
            [
             0.3333333333333333,
             "#9c179e"
            ],
            [
             0.4444444444444444,
             "#bd3786"
            ],
            [
             0.5555555555555556,
             "#d8576b"
            ],
            [
             0.6666666666666666,
             "#ed7953"
            ],
            [
             0.7777777777777778,
             "#fb9f3a"
            ],
            [
             0.8888888888888888,
             "#fdca26"
            ],
            [
             1,
             "#f0f921"
            ]
           ],
           "sequentialminus": [
            [
             0,
             "#0d0887"
            ],
            [
             0.1111111111111111,
             "#46039f"
            ],
            [
             0.2222222222222222,
             "#7201a8"
            ],
            [
             0.3333333333333333,
             "#9c179e"
            ],
            [
             0.4444444444444444,
             "#bd3786"
            ],
            [
             0.5555555555555556,
             "#d8576b"
            ],
            [
             0.6666666666666666,
             "#ed7953"
            ],
            [
             0.7777777777777778,
             "#fb9f3a"
            ],
            [
             0.8888888888888888,
             "#fdca26"
            ],
            [
             1,
             "#f0f921"
            ]
           ]
          },
          "colorway": [
           "#636efa",
           "#EF553B",
           "#00cc96",
           "#ab63fa",
           "#FFA15A",
           "#19d3f3",
           "#FF6692",
           "#B6E880",
           "#FF97FF",
           "#FECB52"
          ],
          "font": {
           "color": "#2a3f5f"
          },
          "geo": {
           "bgcolor": "white",
           "lakecolor": "white",
           "landcolor": "#E5ECF6",
           "showlakes": true,
           "showland": true,
           "subunitcolor": "white"
          },
          "hoverlabel": {
           "align": "left"
          },
          "hovermode": "closest",
          "mapbox": {
           "style": "light"
          },
          "paper_bgcolor": "white",
          "plot_bgcolor": "#E5ECF6",
          "polar": {
           "angularaxis": {
            "gridcolor": "white",
            "linecolor": "white",
            "ticks": ""
           },
           "bgcolor": "#E5ECF6",
           "radialaxis": {
            "gridcolor": "white",
            "linecolor": "white",
            "ticks": ""
           }
          },
          "scene": {
           "xaxis": {
            "backgroundcolor": "#E5ECF6",
            "gridcolor": "white",
            "gridwidth": 2,
            "linecolor": "white",
            "showbackground": true,
            "ticks": "",
            "zerolinecolor": "white"
           },
           "yaxis": {
            "backgroundcolor": "#E5ECF6",
            "gridcolor": "white",
            "gridwidth": 2,
            "linecolor": "white",
            "showbackground": true,
            "ticks": "",
            "zerolinecolor": "white"
           },
           "zaxis": {
            "backgroundcolor": "#E5ECF6",
            "gridcolor": "white",
            "gridwidth": 2,
            "linecolor": "white",
            "showbackground": true,
            "ticks": "",
            "zerolinecolor": "white"
           }
          },
          "shapedefaults": {
           "line": {
            "color": "#2a3f5f"
           }
          },
          "ternary": {
           "aaxis": {
            "gridcolor": "white",
            "linecolor": "white",
            "ticks": ""
           },
           "baxis": {
            "gridcolor": "white",
            "linecolor": "white",
            "ticks": ""
           },
           "bgcolor": "#E5ECF6",
           "caxis": {
            "gridcolor": "white",
            "linecolor": "white",
            "ticks": ""
           }
          },
          "title": {
           "x": 0.05
          },
          "xaxis": {
           "automargin": true,
           "gridcolor": "white",
           "linecolor": "white",
           "ticks": "",
           "title": {
            "standoff": 15
           },
           "zerolinecolor": "white",
           "zerolinewidth": 2
          },
          "yaxis": {
           "automargin": true,
           "gridcolor": "white",
           "linecolor": "white",
           "ticks": "",
           "title": {
            "standoff": 15
           },
           "zerolinecolor": "white",
           "zerolinewidth": 2
          }
         }
        },
        "title": {
         "text": "Luton"
        },
        "xaxis": {
         "anchor": "y",
         "domain": [
          0,
          1
         ],
         "title": {
          "text": "all_motor_vehicles"
         }
        },
        "yaxis": {
         "anchor": "x",
         "domain": [
          0,
          1
         ],
         "title": {
          "text": "count"
         }
        }
       }
      },
      "text/html": [
       "<div>                            <div id=\"4e3edfcb-04b0-4d3d-9544-971b3c7ef0bf\" class=\"plotly-graph-div\" style=\"height:525px; width:100%;\"></div>            <script type=\"text/javascript\">                require([\"plotly\"], function(Plotly) {                    window.PLOTLYENV=window.PLOTLYENV || {};                                    if (document.getElementById(\"4e3edfcb-04b0-4d3d-9544-971b3c7ef0bf\")) {                    Plotly.newPlot(                        \"4e3edfcb-04b0-4d3d-9544-971b3c7ef0bf\",                        [{\"alignmentgroup\":\"True\",\"bingroup\":\"x\",\"hovertemplate\":\"all_motor_vehicles=%{x}<br>count=%{y}<extra></extra>\",\"legendgroup\":\"\",\"marker\":{\"color\":\"#636efa\",\"pattern\":{\"shape\":\"\"}},\"name\":\"\",\"offsetgroup\":\"\",\"orientation\":\"v\",\"showlegend\":false,\"x\":[64166,57061,73265,61396,63750,70233,64686,59830,72598,70790,65114,63949,51116,48109,44314,54596,53945,53040,62348,50107,48857,41880,51890,48085,52195,49415,64372,56515,60154,48310,58175,57025,59722,61711,71766,60184,55005,53028,63184,56285,54223,52742,71418,64839,54508,55122,59561,54600,54226,52216,67865,67065,67367,66342,60811,65792,75141,73343,54841,50240,62896,67612,81098,87664],\"xaxis\":\"x\",\"yaxis\":\"y\",\"type\":\"histogram\"}],                        {\"template\":{\"data\":{\"histogram2dcontour\":[{\"type\":\"histogram2dcontour\",\"colorbar\":{\"outlinewidth\":0,\"ticks\":\"\"},\"colorscale\":[[0.0,\"#0d0887\"],[0.1111111111111111,\"#46039f\"],[0.2222222222222222,\"#7201a8\"],[0.3333333333333333,\"#9c179e\"],[0.4444444444444444,\"#bd3786\"],[0.5555555555555556,\"#d8576b\"],[0.6666666666666666,\"#ed7953\"],[0.7777777777777778,\"#fb9f3a\"],[0.8888888888888888,\"#fdca26\"],[1.0,\"#f0f921\"]]}],\"choropleth\":[{\"type\":\"choropleth\",\"colorbar\":{\"outlinewidth\":0,\"ticks\":\"\"}}],\"histogram2d\":[{\"type\":\"histogram2d\",\"colorbar\":{\"outlinewidth\":0,\"ticks\":\"\"},\"colorscale\":[[0.0,\"#0d0887\"],[0.1111111111111111,\"#46039f\"],[0.2222222222222222,\"#7201a8\"],[0.3333333333333333,\"#9c179e\"],[0.4444444444444444,\"#bd3786\"],[0.5555555555555556,\"#d8576b\"],[0.6666666666666666,\"#ed7953\"],[0.7777777777777778,\"#fb9f3a\"],[0.8888888888888888,\"#fdca26\"],[1.0,\"#f0f921\"]]}],\"heatmap\":[{\"type\":\"heatmap\",\"colorbar\":{\"outlinewidth\":0,\"ticks\":\"\"},\"colorscale\":[[0.0,\"#0d0887\"],[0.1111111111111111,\"#46039f\"],[0.2222222222222222,\"#7201a8\"],[0.3333333333333333,\"#9c179e\"],[0.4444444444444444,\"#bd3786\"],[0.5555555555555556,\"#d8576b\"],[0.6666666666666666,\"#ed7953\"],[0.7777777777777778,\"#fb9f3a\"],[0.8888888888888888,\"#fdca26\"],[1.0,\"#f0f921\"]]}],\"heatmapgl\":[{\"type\":\"heatmapgl\",\"colorbar\":{\"outlinewidth\":0,\"ticks\":\"\"},\"colorscale\":[[0.0,\"#0d0887\"],[0.1111111111111111,\"#46039f\"],[0.2222222222222222,\"#7201a8\"],[0.3333333333333333,\"#9c179e\"],[0.4444444444444444,\"#bd3786\"],[0.5555555555555556,\"#d8576b\"],[0.6666666666666666,\"#ed7953\"],[0.7777777777777778,\"#fb9f3a\"],[0.8888888888888888,\"#fdca26\"],[1.0,\"#f0f921\"]]}],\"contourcarpet\":[{\"type\":\"contourcarpet\",\"colorbar\":{\"outlinewidth\":0,\"ticks\":\"\"}}],\"contour\":[{\"type\":\"contour\",\"colorbar\":{\"outlinewidth\":0,\"ticks\":\"\"},\"colorscale\":[[0.0,\"#0d0887\"],[0.1111111111111111,\"#46039f\"],[0.2222222222222222,\"#7201a8\"],[0.3333333333333333,\"#9c179e\"],[0.4444444444444444,\"#bd3786\"],[0.5555555555555556,\"#d8576b\"],[0.6666666666666666,\"#ed7953\"],[0.7777777777777778,\"#fb9f3a\"],[0.8888888888888888,\"#fdca26\"],[1.0,\"#f0f921\"]]}],\"surface\":[{\"type\":\"surface\",\"colorbar\":{\"outlinewidth\":0,\"ticks\":\"\"},\"colorscale\":[[0.0,\"#0d0887\"],[0.1111111111111111,\"#46039f\"],[0.2222222222222222,\"#7201a8\"],[0.3333333333333333,\"#9c179e\"],[0.4444444444444444,\"#bd3786\"],[0.5555555555555556,\"#d8576b\"],[0.6666666666666666,\"#ed7953\"],[0.7777777777777778,\"#fb9f3a\"],[0.8888888888888888,\"#fdca26\"],[1.0,\"#f0f921\"]]}],\"mesh3d\":[{\"type\":\"mesh3d\",\"colorbar\":{\"outlinewidth\":0,\"ticks\":\"\"}}],\"scatter\":[{\"fillpattern\":{\"fillmode\":\"overlay\",\"size\":10,\"solidity\":0.2},\"type\":\"scatter\"}],\"parcoords\":[{\"type\":\"parcoords\",\"line\":{\"colorbar\":{\"outlinewidth\":0,\"ticks\":\"\"}}}],\"scatterpolargl\":[{\"type\":\"scatterpolargl\",\"marker\":{\"colorbar\":{\"outlinewidth\":0,\"ticks\":\"\"}}}],\"bar\":[{\"error_x\":{\"color\":\"#2a3f5f\"},\"error_y\":{\"color\":\"#2a3f5f\"},\"marker\":{\"line\":{\"color\":\"#E5ECF6\",\"width\":0.5},\"pattern\":{\"fillmode\":\"overlay\",\"size\":10,\"solidity\":0.2}},\"type\":\"bar\"}],\"scattergeo\":[{\"type\":\"scattergeo\",\"marker\":{\"colorbar\":{\"outlinewidth\":0,\"ticks\":\"\"}}}],\"scatterpolar\":[{\"type\":\"scatterpolar\",\"marker\":{\"colorbar\":{\"outlinewidth\":0,\"ticks\":\"\"}}}],\"histogram\":[{\"marker\":{\"pattern\":{\"fillmode\":\"overlay\",\"size\":10,\"solidity\":0.2}},\"type\":\"histogram\"}],\"scattergl\":[{\"type\":\"scattergl\",\"marker\":{\"colorbar\":{\"outlinewidth\":0,\"ticks\":\"\"}}}],\"scatter3d\":[{\"type\":\"scatter3d\",\"line\":{\"colorbar\":{\"outlinewidth\":0,\"ticks\":\"\"}},\"marker\":{\"colorbar\":{\"outlinewidth\":0,\"ticks\":\"\"}}}],\"scattermapbox\":[{\"type\":\"scattermapbox\",\"marker\":{\"colorbar\":{\"outlinewidth\":0,\"ticks\":\"\"}}}],\"scatterternary\":[{\"type\":\"scatterternary\",\"marker\":{\"colorbar\":{\"outlinewidth\":0,\"ticks\":\"\"}}}],\"scattercarpet\":[{\"type\":\"scattercarpet\",\"marker\":{\"colorbar\":{\"outlinewidth\":0,\"ticks\":\"\"}}}],\"carpet\":[{\"aaxis\":{\"endlinecolor\":\"#2a3f5f\",\"gridcolor\":\"white\",\"linecolor\":\"white\",\"minorgridcolor\":\"white\",\"startlinecolor\":\"#2a3f5f\"},\"baxis\":{\"endlinecolor\":\"#2a3f5f\",\"gridcolor\":\"white\",\"linecolor\":\"white\",\"minorgridcolor\":\"white\",\"startlinecolor\":\"#2a3f5f\"},\"type\":\"carpet\"}],\"table\":[{\"cells\":{\"fill\":{\"color\":\"#EBF0F8\"},\"line\":{\"color\":\"white\"}},\"header\":{\"fill\":{\"color\":\"#C8D4E3\"},\"line\":{\"color\":\"white\"}},\"type\":\"table\"}],\"barpolar\":[{\"marker\":{\"line\":{\"color\":\"#E5ECF6\",\"width\":0.5},\"pattern\":{\"fillmode\":\"overlay\",\"size\":10,\"solidity\":0.2}},\"type\":\"barpolar\"}],\"pie\":[{\"automargin\":true,\"type\":\"pie\"}]},\"layout\":{\"autotypenumbers\":\"strict\",\"colorway\":[\"#636efa\",\"#EF553B\",\"#00cc96\",\"#ab63fa\",\"#FFA15A\",\"#19d3f3\",\"#FF6692\",\"#B6E880\",\"#FF97FF\",\"#FECB52\"],\"font\":{\"color\":\"#2a3f5f\"},\"hovermode\":\"closest\",\"hoverlabel\":{\"align\":\"left\"},\"paper_bgcolor\":\"white\",\"plot_bgcolor\":\"#E5ECF6\",\"polar\":{\"bgcolor\":\"#E5ECF6\",\"angularaxis\":{\"gridcolor\":\"white\",\"linecolor\":\"white\",\"ticks\":\"\"},\"radialaxis\":{\"gridcolor\":\"white\",\"linecolor\":\"white\",\"ticks\":\"\"}},\"ternary\":{\"bgcolor\":\"#E5ECF6\",\"aaxis\":{\"gridcolor\":\"white\",\"linecolor\":\"white\",\"ticks\":\"\"},\"baxis\":{\"gridcolor\":\"white\",\"linecolor\":\"white\",\"ticks\":\"\"},\"caxis\":{\"gridcolor\":\"white\",\"linecolor\":\"white\",\"ticks\":\"\"}},\"coloraxis\":{\"colorbar\":{\"outlinewidth\":0,\"ticks\":\"\"}},\"colorscale\":{\"sequential\":[[0.0,\"#0d0887\"],[0.1111111111111111,\"#46039f\"],[0.2222222222222222,\"#7201a8\"],[0.3333333333333333,\"#9c179e\"],[0.4444444444444444,\"#bd3786\"],[0.5555555555555556,\"#d8576b\"],[0.6666666666666666,\"#ed7953\"],[0.7777777777777778,\"#fb9f3a\"],[0.8888888888888888,\"#fdca26\"],[1.0,\"#f0f921\"]],\"sequentialminus\":[[0.0,\"#0d0887\"],[0.1111111111111111,\"#46039f\"],[0.2222222222222222,\"#7201a8\"],[0.3333333333333333,\"#9c179e\"],[0.4444444444444444,\"#bd3786\"],[0.5555555555555556,\"#d8576b\"],[0.6666666666666666,\"#ed7953\"],[0.7777777777777778,\"#fb9f3a\"],[0.8888888888888888,\"#fdca26\"],[1.0,\"#f0f921\"]],\"diverging\":[[0,\"#8e0152\"],[0.1,\"#c51b7d\"],[0.2,\"#de77ae\"],[0.3,\"#f1b6da\"],[0.4,\"#fde0ef\"],[0.5,\"#f7f7f7\"],[0.6,\"#e6f5d0\"],[0.7,\"#b8e186\"],[0.8,\"#7fbc41\"],[0.9,\"#4d9221\"],[1,\"#276419\"]]},\"xaxis\":{\"gridcolor\":\"white\",\"linecolor\":\"white\",\"ticks\":\"\",\"title\":{\"standoff\":15},\"zerolinecolor\":\"white\",\"automargin\":true,\"zerolinewidth\":2},\"yaxis\":{\"gridcolor\":\"white\",\"linecolor\":\"white\",\"ticks\":\"\",\"title\":{\"standoff\":15},\"zerolinecolor\":\"white\",\"automargin\":true,\"zerolinewidth\":2},\"scene\":{\"xaxis\":{\"backgroundcolor\":\"#E5ECF6\",\"gridcolor\":\"white\",\"linecolor\":\"white\",\"showbackground\":true,\"ticks\":\"\",\"zerolinecolor\":\"white\",\"gridwidth\":2},\"yaxis\":{\"backgroundcolor\":\"#E5ECF6\",\"gridcolor\":\"white\",\"linecolor\":\"white\",\"showbackground\":true,\"ticks\":\"\",\"zerolinecolor\":\"white\",\"gridwidth\":2},\"zaxis\":{\"backgroundcolor\":\"#E5ECF6\",\"gridcolor\":\"white\",\"linecolor\":\"white\",\"showbackground\":true,\"ticks\":\"\",\"zerolinecolor\":\"white\",\"gridwidth\":2}},\"shapedefaults\":{\"line\":{\"color\":\"#2a3f5f\"}},\"annotationdefaults\":{\"arrowcolor\":\"#2a3f5f\",\"arrowhead\":0,\"arrowwidth\":1},\"geo\":{\"bgcolor\":\"white\",\"landcolor\":\"#E5ECF6\",\"subunitcolor\":\"white\",\"showland\":true,\"showlakes\":true,\"lakecolor\":\"white\"},\"title\":{\"x\":0.05},\"mapbox\":{\"style\":\"light\"}}},\"xaxis\":{\"anchor\":\"y\",\"domain\":[0.0,1.0],\"title\":{\"text\":\"all_motor_vehicles\"}},\"yaxis\":{\"anchor\":\"x\",\"domain\":[0.0,1.0],\"title\":{\"text\":\"count\"}},\"legend\":{\"tracegroupgap\":0},\"title\":{\"text\":\"Luton\"},\"barmode\":\"relative\"},                        {\"responsive\": true}                    ).then(function(){\n",
       "                            \n",
       "var gd = document.getElementById('4e3edfcb-04b0-4d3d-9544-971b3c7ef0bf');\n",
       "var x = new MutationObserver(function (mutations, observer) {{\n",
       "        var display = window.getComputedStyle(gd).display;\n",
       "        if (!display || display === 'none') {{\n",
       "            console.log([gd, 'removed!']);\n",
       "            Plotly.purge(gd);\n",
       "            observer.disconnect();\n",
       "        }}\n",
       "}});\n",
       "\n",
       "// Listen for the removal of the full notebook cells\n",
       "var notebookContainer = gd.closest('#notebook-container');\n",
       "if (notebookContainer) {{\n",
       "    x.observe(notebookContainer, {childList: true});\n",
       "}}\n",
       "\n",
       "// Listen for the clearing of the current output cell\n",
       "var outputEl = gd.closest('.output');\n",
       "if (outputEl) {{\n",
       "    x.observe(outputEl, {childList: true});\n",
       "}}\n",
       "\n",
       "                        })                };                });            </script>        </div>"
      ]
     },
     "metadata": {},
     "output_type": "display_data"
    },
    {
     "data": {
      "application/vnd.plotly.v1+json": {
       "config": {
        "plotlyServerURL": "https://plot.ly"
       },
       "data": [
        {
         "alignmentgroup": "True",
         "bingroup": "x",
         "hovertemplate": "all_motor_vehicles=%{x}<br>count=%{y}<extra></extra>",
         "legendgroup": "",
         "marker": {
          "color": "#636efa",
          "pattern": {
           "shape": ""
          }
         },
         "name": "",
         "offsetgroup": "",
         "orientation": "v",
         "showlegend": false,
         "type": "histogram",
         "x": [
          46248,
          53384,
          46634,
          46812,
          43671,
          57154,
          63991,
          71372,
          42564,
          42837,
          46917,
          56910,
          59596,
          69785,
          39167,
          41460,
          70077,
          66634,
          54566,
          70463,
          42514,
          50454,
          45466,
          40922,
          42444,
          50293,
          45337,
          40814,
          40029,
          43690,
          44019,
          41082,
          59707,
          70079,
          65623,
          67728,
          45287,
          52092,
          46738,
          43386,
          39305,
          48384,
          43103,
          43962,
          60422,
          57414,
          58690,
          63337,
          55580,
          65808,
          38284,
          54516,
          39141,
          40179,
          46091,
          47082,
          62050,
          63132,
          38339,
          54543,
          45737,
          45960,
          46071,
          31140,
          65171,
          63900,
          44811,
          40377,
          44357,
          58091,
          40787,
          37395,
          43296,
          43675,
          61749,
          62141,
          47333,
          54762,
          39110,
          41377,
          54293,
          59009,
          74108,
          76791,
          42081,
          42044,
          73421,
          68852,
          66322,
          68427,
          45031,
          46661,
          35119,
          34285,
          30178,
          35263
         ],
         "xaxis": "x",
         "yaxis": "y"
        }
       ],
       "layout": {
        "barmode": "relative",
        "legend": {
         "tracegroupgap": 0
        },
        "template": {
         "data": {
          "bar": [
           {
            "error_x": {
             "color": "#2a3f5f"
            },
            "error_y": {
             "color": "#2a3f5f"
            },
            "marker": {
             "line": {
              "color": "#E5ECF6",
              "width": 0.5
             },
             "pattern": {
              "fillmode": "overlay",
              "size": 10,
              "solidity": 0.2
             }
            },
            "type": "bar"
           }
          ],
          "barpolar": [
           {
            "marker": {
             "line": {
              "color": "#E5ECF6",
              "width": 0.5
             },
             "pattern": {
              "fillmode": "overlay",
              "size": 10,
              "solidity": 0.2
             }
            },
            "type": "barpolar"
           }
          ],
          "carpet": [
           {
            "aaxis": {
             "endlinecolor": "#2a3f5f",
             "gridcolor": "white",
             "linecolor": "white",
             "minorgridcolor": "white",
             "startlinecolor": "#2a3f5f"
            },
            "baxis": {
             "endlinecolor": "#2a3f5f",
             "gridcolor": "white",
             "linecolor": "white",
             "minorgridcolor": "white",
             "startlinecolor": "#2a3f5f"
            },
            "type": "carpet"
           }
          ],
          "choropleth": [
           {
            "colorbar": {
             "outlinewidth": 0,
             "ticks": ""
            },
            "type": "choropleth"
           }
          ],
          "contour": [
           {
            "colorbar": {
             "outlinewidth": 0,
             "ticks": ""
            },
            "colorscale": [
             [
              0,
              "#0d0887"
             ],
             [
              0.1111111111111111,
              "#46039f"
             ],
             [
              0.2222222222222222,
              "#7201a8"
             ],
             [
              0.3333333333333333,
              "#9c179e"
             ],
             [
              0.4444444444444444,
              "#bd3786"
             ],
             [
              0.5555555555555556,
              "#d8576b"
             ],
             [
              0.6666666666666666,
              "#ed7953"
             ],
             [
              0.7777777777777778,
              "#fb9f3a"
             ],
             [
              0.8888888888888888,
              "#fdca26"
             ],
             [
              1,
              "#f0f921"
             ]
            ],
            "type": "contour"
           }
          ],
          "contourcarpet": [
           {
            "colorbar": {
             "outlinewidth": 0,
             "ticks": ""
            },
            "type": "contourcarpet"
           }
          ],
          "heatmap": [
           {
            "colorbar": {
             "outlinewidth": 0,
             "ticks": ""
            },
            "colorscale": [
             [
              0,
              "#0d0887"
             ],
             [
              0.1111111111111111,
              "#46039f"
             ],
             [
              0.2222222222222222,
              "#7201a8"
             ],
             [
              0.3333333333333333,
              "#9c179e"
             ],
             [
              0.4444444444444444,
              "#bd3786"
             ],
             [
              0.5555555555555556,
              "#d8576b"
             ],
             [
              0.6666666666666666,
              "#ed7953"
             ],
             [
              0.7777777777777778,
              "#fb9f3a"
             ],
             [
              0.8888888888888888,
              "#fdca26"
             ],
             [
              1,
              "#f0f921"
             ]
            ],
            "type": "heatmap"
           }
          ],
          "heatmapgl": [
           {
            "colorbar": {
             "outlinewidth": 0,
             "ticks": ""
            },
            "colorscale": [
             [
              0,
              "#0d0887"
             ],
             [
              0.1111111111111111,
              "#46039f"
             ],
             [
              0.2222222222222222,
              "#7201a8"
             ],
             [
              0.3333333333333333,
              "#9c179e"
             ],
             [
              0.4444444444444444,
              "#bd3786"
             ],
             [
              0.5555555555555556,
              "#d8576b"
             ],
             [
              0.6666666666666666,
              "#ed7953"
             ],
             [
              0.7777777777777778,
              "#fb9f3a"
             ],
             [
              0.8888888888888888,
              "#fdca26"
             ],
             [
              1,
              "#f0f921"
             ]
            ],
            "type": "heatmapgl"
           }
          ],
          "histogram": [
           {
            "marker": {
             "pattern": {
              "fillmode": "overlay",
              "size": 10,
              "solidity": 0.2
             }
            },
            "type": "histogram"
           }
          ],
          "histogram2d": [
           {
            "colorbar": {
             "outlinewidth": 0,
             "ticks": ""
            },
            "colorscale": [
             [
              0,
              "#0d0887"
             ],
             [
              0.1111111111111111,
              "#46039f"
             ],
             [
              0.2222222222222222,
              "#7201a8"
             ],
             [
              0.3333333333333333,
              "#9c179e"
             ],
             [
              0.4444444444444444,
              "#bd3786"
             ],
             [
              0.5555555555555556,
              "#d8576b"
             ],
             [
              0.6666666666666666,
              "#ed7953"
             ],
             [
              0.7777777777777778,
              "#fb9f3a"
             ],
             [
              0.8888888888888888,
              "#fdca26"
             ],
             [
              1,
              "#f0f921"
             ]
            ],
            "type": "histogram2d"
           }
          ],
          "histogram2dcontour": [
           {
            "colorbar": {
             "outlinewidth": 0,
             "ticks": ""
            },
            "colorscale": [
             [
              0,
              "#0d0887"
             ],
             [
              0.1111111111111111,
              "#46039f"
             ],
             [
              0.2222222222222222,
              "#7201a8"
             ],
             [
              0.3333333333333333,
              "#9c179e"
             ],
             [
              0.4444444444444444,
              "#bd3786"
             ],
             [
              0.5555555555555556,
              "#d8576b"
             ],
             [
              0.6666666666666666,
              "#ed7953"
             ],
             [
              0.7777777777777778,
              "#fb9f3a"
             ],
             [
              0.8888888888888888,
              "#fdca26"
             ],
             [
              1,
              "#f0f921"
             ]
            ],
            "type": "histogram2dcontour"
           }
          ],
          "mesh3d": [
           {
            "colorbar": {
             "outlinewidth": 0,
             "ticks": ""
            },
            "type": "mesh3d"
           }
          ],
          "parcoords": [
           {
            "line": {
             "colorbar": {
              "outlinewidth": 0,
              "ticks": ""
             }
            },
            "type": "parcoords"
           }
          ],
          "pie": [
           {
            "automargin": true,
            "type": "pie"
           }
          ],
          "scatter": [
           {
            "fillpattern": {
             "fillmode": "overlay",
             "size": 10,
             "solidity": 0.2
            },
            "type": "scatter"
           }
          ],
          "scatter3d": [
           {
            "line": {
             "colorbar": {
              "outlinewidth": 0,
              "ticks": ""
             }
            },
            "marker": {
             "colorbar": {
              "outlinewidth": 0,
              "ticks": ""
             }
            },
            "type": "scatter3d"
           }
          ],
          "scattercarpet": [
           {
            "marker": {
             "colorbar": {
              "outlinewidth": 0,
              "ticks": ""
             }
            },
            "type": "scattercarpet"
           }
          ],
          "scattergeo": [
           {
            "marker": {
             "colorbar": {
              "outlinewidth": 0,
              "ticks": ""
             }
            },
            "type": "scattergeo"
           }
          ],
          "scattergl": [
           {
            "marker": {
             "colorbar": {
              "outlinewidth": 0,
              "ticks": ""
             }
            },
            "type": "scattergl"
           }
          ],
          "scattermapbox": [
           {
            "marker": {
             "colorbar": {
              "outlinewidth": 0,
              "ticks": ""
             }
            },
            "type": "scattermapbox"
           }
          ],
          "scatterpolar": [
           {
            "marker": {
             "colorbar": {
              "outlinewidth": 0,
              "ticks": ""
             }
            },
            "type": "scatterpolar"
           }
          ],
          "scatterpolargl": [
           {
            "marker": {
             "colorbar": {
              "outlinewidth": 0,
              "ticks": ""
             }
            },
            "type": "scatterpolargl"
           }
          ],
          "scatterternary": [
           {
            "marker": {
             "colorbar": {
              "outlinewidth": 0,
              "ticks": ""
             }
            },
            "type": "scatterternary"
           }
          ],
          "surface": [
           {
            "colorbar": {
             "outlinewidth": 0,
             "ticks": ""
            },
            "colorscale": [
             [
              0,
              "#0d0887"
             ],
             [
              0.1111111111111111,
              "#46039f"
             ],
             [
              0.2222222222222222,
              "#7201a8"
             ],
             [
              0.3333333333333333,
              "#9c179e"
             ],
             [
              0.4444444444444444,
              "#bd3786"
             ],
             [
              0.5555555555555556,
              "#d8576b"
             ],
             [
              0.6666666666666666,
              "#ed7953"
             ],
             [
              0.7777777777777778,
              "#fb9f3a"
             ],
             [
              0.8888888888888888,
              "#fdca26"
             ],
             [
              1,
              "#f0f921"
             ]
            ],
            "type": "surface"
           }
          ],
          "table": [
           {
            "cells": {
             "fill": {
              "color": "#EBF0F8"
             },
             "line": {
              "color": "white"
             }
            },
            "header": {
             "fill": {
              "color": "#C8D4E3"
             },
             "line": {
              "color": "white"
             }
            },
            "type": "table"
           }
          ]
         },
         "layout": {
          "annotationdefaults": {
           "arrowcolor": "#2a3f5f",
           "arrowhead": 0,
           "arrowwidth": 1
          },
          "autotypenumbers": "strict",
          "coloraxis": {
           "colorbar": {
            "outlinewidth": 0,
            "ticks": ""
           }
          },
          "colorscale": {
           "diverging": [
            [
             0,
             "#8e0152"
            ],
            [
             0.1,
             "#c51b7d"
            ],
            [
             0.2,
             "#de77ae"
            ],
            [
             0.3,
             "#f1b6da"
            ],
            [
             0.4,
             "#fde0ef"
            ],
            [
             0.5,
             "#f7f7f7"
            ],
            [
             0.6,
             "#e6f5d0"
            ],
            [
             0.7,
             "#b8e186"
            ],
            [
             0.8,
             "#7fbc41"
            ],
            [
             0.9,
             "#4d9221"
            ],
            [
             1,
             "#276419"
            ]
           ],
           "sequential": [
            [
             0,
             "#0d0887"
            ],
            [
             0.1111111111111111,
             "#46039f"
            ],
            [
             0.2222222222222222,
             "#7201a8"
            ],
            [
             0.3333333333333333,
             "#9c179e"
            ],
            [
             0.4444444444444444,
             "#bd3786"
            ],
            [
             0.5555555555555556,
             "#d8576b"
            ],
            [
             0.6666666666666666,
             "#ed7953"
            ],
            [
             0.7777777777777778,
             "#fb9f3a"
            ],
            [
             0.8888888888888888,
             "#fdca26"
            ],
            [
             1,
             "#f0f921"
            ]
           ],
           "sequentialminus": [
            [
             0,
             "#0d0887"
            ],
            [
             0.1111111111111111,
             "#46039f"
            ],
            [
             0.2222222222222222,
             "#7201a8"
            ],
            [
             0.3333333333333333,
             "#9c179e"
            ],
            [
             0.4444444444444444,
             "#bd3786"
            ],
            [
             0.5555555555555556,
             "#d8576b"
            ],
            [
             0.6666666666666666,
             "#ed7953"
            ],
            [
             0.7777777777777778,
             "#fb9f3a"
            ],
            [
             0.8888888888888888,
             "#fdca26"
            ],
            [
             1,
             "#f0f921"
            ]
           ]
          },
          "colorway": [
           "#636efa",
           "#EF553B",
           "#00cc96",
           "#ab63fa",
           "#FFA15A",
           "#19d3f3",
           "#FF6692",
           "#B6E880",
           "#FF97FF",
           "#FECB52"
          ],
          "font": {
           "color": "#2a3f5f"
          },
          "geo": {
           "bgcolor": "white",
           "lakecolor": "white",
           "landcolor": "#E5ECF6",
           "showlakes": true,
           "showland": true,
           "subunitcolor": "white"
          },
          "hoverlabel": {
           "align": "left"
          },
          "hovermode": "closest",
          "mapbox": {
           "style": "light"
          },
          "paper_bgcolor": "white",
          "plot_bgcolor": "#E5ECF6",
          "polar": {
           "angularaxis": {
            "gridcolor": "white",
            "linecolor": "white",
            "ticks": ""
           },
           "bgcolor": "#E5ECF6",
           "radialaxis": {
            "gridcolor": "white",
            "linecolor": "white",
            "ticks": ""
           }
          },
          "scene": {
           "xaxis": {
            "backgroundcolor": "#E5ECF6",
            "gridcolor": "white",
            "gridwidth": 2,
            "linecolor": "white",
            "showbackground": true,
            "ticks": "",
            "zerolinecolor": "white"
           },
           "yaxis": {
            "backgroundcolor": "#E5ECF6",
            "gridcolor": "white",
            "gridwidth": 2,
            "linecolor": "white",
            "showbackground": true,
            "ticks": "",
            "zerolinecolor": "white"
           },
           "zaxis": {
            "backgroundcolor": "#E5ECF6",
            "gridcolor": "white",
            "gridwidth": 2,
            "linecolor": "white",
            "showbackground": true,
            "ticks": "",
            "zerolinecolor": "white"
           }
          },
          "shapedefaults": {
           "line": {
            "color": "#2a3f5f"
           }
          },
          "ternary": {
           "aaxis": {
            "gridcolor": "white",
            "linecolor": "white",
            "ticks": ""
           },
           "baxis": {
            "gridcolor": "white",
            "linecolor": "white",
            "ticks": ""
           },
           "bgcolor": "#E5ECF6",
           "caxis": {
            "gridcolor": "white",
            "linecolor": "white",
            "ticks": ""
           }
          },
          "title": {
           "x": 0.05
          },
          "xaxis": {
           "automargin": true,
           "gridcolor": "white",
           "linecolor": "white",
           "ticks": "",
           "title": {
            "standoff": 15
           },
           "zerolinecolor": "white",
           "zerolinewidth": 2
          },
          "yaxis": {
           "automargin": true,
           "gridcolor": "white",
           "linecolor": "white",
           "ticks": "",
           "title": {
            "standoff": 15
           },
           "zerolinecolor": "white",
           "zerolinewidth": 2
          }
         }
        },
        "title": {
         "text": "Hounslow"
        },
        "xaxis": {
         "anchor": "y",
         "domain": [
          0,
          1
         ],
         "title": {
          "text": "all_motor_vehicles"
         }
        },
        "yaxis": {
         "anchor": "x",
         "domain": [
          0,
          1
         ],
         "title": {
          "text": "count"
         }
        }
       }
      },
      "text/html": [
       "<div>                            <div id=\"1eed1fc1-5e74-4233-a168-fb659f41a5ea\" class=\"plotly-graph-div\" style=\"height:525px; width:100%;\"></div>            <script type=\"text/javascript\">                require([\"plotly\"], function(Plotly) {                    window.PLOTLYENV=window.PLOTLYENV || {};                                    if (document.getElementById(\"1eed1fc1-5e74-4233-a168-fb659f41a5ea\")) {                    Plotly.newPlot(                        \"1eed1fc1-5e74-4233-a168-fb659f41a5ea\",                        [{\"alignmentgroup\":\"True\",\"bingroup\":\"x\",\"hovertemplate\":\"all_motor_vehicles=%{x}<br>count=%{y}<extra></extra>\",\"legendgroup\":\"\",\"marker\":{\"color\":\"#636efa\",\"pattern\":{\"shape\":\"\"}},\"name\":\"\",\"offsetgroup\":\"\",\"orientation\":\"v\",\"showlegend\":false,\"x\":[46248,53384,46634,46812,43671,57154,63991,71372,42564,42837,46917,56910,59596,69785,39167,41460,70077,66634,54566,70463,42514,50454,45466,40922,42444,50293,45337,40814,40029,43690,44019,41082,59707,70079,65623,67728,45287,52092,46738,43386,39305,48384,43103,43962,60422,57414,58690,63337,55580,65808,38284,54516,39141,40179,46091,47082,62050,63132,38339,54543,45737,45960,46071,31140,65171,63900,44811,40377,44357,58091,40787,37395,43296,43675,61749,62141,47333,54762,39110,41377,54293,59009,74108,76791,42081,42044,73421,68852,66322,68427,45031,46661,35119,34285,30178,35263],\"xaxis\":\"x\",\"yaxis\":\"y\",\"type\":\"histogram\"}],                        {\"template\":{\"data\":{\"histogram2dcontour\":[{\"type\":\"histogram2dcontour\",\"colorbar\":{\"outlinewidth\":0,\"ticks\":\"\"},\"colorscale\":[[0.0,\"#0d0887\"],[0.1111111111111111,\"#46039f\"],[0.2222222222222222,\"#7201a8\"],[0.3333333333333333,\"#9c179e\"],[0.4444444444444444,\"#bd3786\"],[0.5555555555555556,\"#d8576b\"],[0.6666666666666666,\"#ed7953\"],[0.7777777777777778,\"#fb9f3a\"],[0.8888888888888888,\"#fdca26\"],[1.0,\"#f0f921\"]]}],\"choropleth\":[{\"type\":\"choropleth\",\"colorbar\":{\"outlinewidth\":0,\"ticks\":\"\"}}],\"histogram2d\":[{\"type\":\"histogram2d\",\"colorbar\":{\"outlinewidth\":0,\"ticks\":\"\"},\"colorscale\":[[0.0,\"#0d0887\"],[0.1111111111111111,\"#46039f\"],[0.2222222222222222,\"#7201a8\"],[0.3333333333333333,\"#9c179e\"],[0.4444444444444444,\"#bd3786\"],[0.5555555555555556,\"#d8576b\"],[0.6666666666666666,\"#ed7953\"],[0.7777777777777778,\"#fb9f3a\"],[0.8888888888888888,\"#fdca26\"],[1.0,\"#f0f921\"]]}],\"heatmap\":[{\"type\":\"heatmap\",\"colorbar\":{\"outlinewidth\":0,\"ticks\":\"\"},\"colorscale\":[[0.0,\"#0d0887\"],[0.1111111111111111,\"#46039f\"],[0.2222222222222222,\"#7201a8\"],[0.3333333333333333,\"#9c179e\"],[0.4444444444444444,\"#bd3786\"],[0.5555555555555556,\"#d8576b\"],[0.6666666666666666,\"#ed7953\"],[0.7777777777777778,\"#fb9f3a\"],[0.8888888888888888,\"#fdca26\"],[1.0,\"#f0f921\"]]}],\"heatmapgl\":[{\"type\":\"heatmapgl\",\"colorbar\":{\"outlinewidth\":0,\"ticks\":\"\"},\"colorscale\":[[0.0,\"#0d0887\"],[0.1111111111111111,\"#46039f\"],[0.2222222222222222,\"#7201a8\"],[0.3333333333333333,\"#9c179e\"],[0.4444444444444444,\"#bd3786\"],[0.5555555555555556,\"#d8576b\"],[0.6666666666666666,\"#ed7953\"],[0.7777777777777778,\"#fb9f3a\"],[0.8888888888888888,\"#fdca26\"],[1.0,\"#f0f921\"]]}],\"contourcarpet\":[{\"type\":\"contourcarpet\",\"colorbar\":{\"outlinewidth\":0,\"ticks\":\"\"}}],\"contour\":[{\"type\":\"contour\",\"colorbar\":{\"outlinewidth\":0,\"ticks\":\"\"},\"colorscale\":[[0.0,\"#0d0887\"],[0.1111111111111111,\"#46039f\"],[0.2222222222222222,\"#7201a8\"],[0.3333333333333333,\"#9c179e\"],[0.4444444444444444,\"#bd3786\"],[0.5555555555555556,\"#d8576b\"],[0.6666666666666666,\"#ed7953\"],[0.7777777777777778,\"#fb9f3a\"],[0.8888888888888888,\"#fdca26\"],[1.0,\"#f0f921\"]]}],\"surface\":[{\"type\":\"surface\",\"colorbar\":{\"outlinewidth\":0,\"ticks\":\"\"},\"colorscale\":[[0.0,\"#0d0887\"],[0.1111111111111111,\"#46039f\"],[0.2222222222222222,\"#7201a8\"],[0.3333333333333333,\"#9c179e\"],[0.4444444444444444,\"#bd3786\"],[0.5555555555555556,\"#d8576b\"],[0.6666666666666666,\"#ed7953\"],[0.7777777777777778,\"#fb9f3a\"],[0.8888888888888888,\"#fdca26\"],[1.0,\"#f0f921\"]]}],\"mesh3d\":[{\"type\":\"mesh3d\",\"colorbar\":{\"outlinewidth\":0,\"ticks\":\"\"}}],\"scatter\":[{\"fillpattern\":{\"fillmode\":\"overlay\",\"size\":10,\"solidity\":0.2},\"type\":\"scatter\"}],\"parcoords\":[{\"type\":\"parcoords\",\"line\":{\"colorbar\":{\"outlinewidth\":0,\"ticks\":\"\"}}}],\"scatterpolargl\":[{\"type\":\"scatterpolargl\",\"marker\":{\"colorbar\":{\"outlinewidth\":0,\"ticks\":\"\"}}}],\"bar\":[{\"error_x\":{\"color\":\"#2a3f5f\"},\"error_y\":{\"color\":\"#2a3f5f\"},\"marker\":{\"line\":{\"color\":\"#E5ECF6\",\"width\":0.5},\"pattern\":{\"fillmode\":\"overlay\",\"size\":10,\"solidity\":0.2}},\"type\":\"bar\"}],\"scattergeo\":[{\"type\":\"scattergeo\",\"marker\":{\"colorbar\":{\"outlinewidth\":0,\"ticks\":\"\"}}}],\"scatterpolar\":[{\"type\":\"scatterpolar\",\"marker\":{\"colorbar\":{\"outlinewidth\":0,\"ticks\":\"\"}}}],\"histogram\":[{\"marker\":{\"pattern\":{\"fillmode\":\"overlay\",\"size\":10,\"solidity\":0.2}},\"type\":\"histogram\"}],\"scattergl\":[{\"type\":\"scattergl\",\"marker\":{\"colorbar\":{\"outlinewidth\":0,\"ticks\":\"\"}}}],\"scatter3d\":[{\"type\":\"scatter3d\",\"line\":{\"colorbar\":{\"outlinewidth\":0,\"ticks\":\"\"}},\"marker\":{\"colorbar\":{\"outlinewidth\":0,\"ticks\":\"\"}}}],\"scattermapbox\":[{\"type\":\"scattermapbox\",\"marker\":{\"colorbar\":{\"outlinewidth\":0,\"ticks\":\"\"}}}],\"scatterternary\":[{\"type\":\"scatterternary\",\"marker\":{\"colorbar\":{\"outlinewidth\":0,\"ticks\":\"\"}}}],\"scattercarpet\":[{\"type\":\"scattercarpet\",\"marker\":{\"colorbar\":{\"outlinewidth\":0,\"ticks\":\"\"}}}],\"carpet\":[{\"aaxis\":{\"endlinecolor\":\"#2a3f5f\",\"gridcolor\":\"white\",\"linecolor\":\"white\",\"minorgridcolor\":\"white\",\"startlinecolor\":\"#2a3f5f\"},\"baxis\":{\"endlinecolor\":\"#2a3f5f\",\"gridcolor\":\"white\",\"linecolor\":\"white\",\"minorgridcolor\":\"white\",\"startlinecolor\":\"#2a3f5f\"},\"type\":\"carpet\"}],\"table\":[{\"cells\":{\"fill\":{\"color\":\"#EBF0F8\"},\"line\":{\"color\":\"white\"}},\"header\":{\"fill\":{\"color\":\"#C8D4E3\"},\"line\":{\"color\":\"white\"}},\"type\":\"table\"}],\"barpolar\":[{\"marker\":{\"line\":{\"color\":\"#E5ECF6\",\"width\":0.5},\"pattern\":{\"fillmode\":\"overlay\",\"size\":10,\"solidity\":0.2}},\"type\":\"barpolar\"}],\"pie\":[{\"automargin\":true,\"type\":\"pie\"}]},\"layout\":{\"autotypenumbers\":\"strict\",\"colorway\":[\"#636efa\",\"#EF553B\",\"#00cc96\",\"#ab63fa\",\"#FFA15A\",\"#19d3f3\",\"#FF6692\",\"#B6E880\",\"#FF97FF\",\"#FECB52\"],\"font\":{\"color\":\"#2a3f5f\"},\"hovermode\":\"closest\",\"hoverlabel\":{\"align\":\"left\"},\"paper_bgcolor\":\"white\",\"plot_bgcolor\":\"#E5ECF6\",\"polar\":{\"bgcolor\":\"#E5ECF6\",\"angularaxis\":{\"gridcolor\":\"white\",\"linecolor\":\"white\",\"ticks\":\"\"},\"radialaxis\":{\"gridcolor\":\"white\",\"linecolor\":\"white\",\"ticks\":\"\"}},\"ternary\":{\"bgcolor\":\"#E5ECF6\",\"aaxis\":{\"gridcolor\":\"white\",\"linecolor\":\"white\",\"ticks\":\"\"},\"baxis\":{\"gridcolor\":\"white\",\"linecolor\":\"white\",\"ticks\":\"\"},\"caxis\":{\"gridcolor\":\"white\",\"linecolor\":\"white\",\"ticks\":\"\"}},\"coloraxis\":{\"colorbar\":{\"outlinewidth\":0,\"ticks\":\"\"}},\"colorscale\":{\"sequential\":[[0.0,\"#0d0887\"],[0.1111111111111111,\"#46039f\"],[0.2222222222222222,\"#7201a8\"],[0.3333333333333333,\"#9c179e\"],[0.4444444444444444,\"#bd3786\"],[0.5555555555555556,\"#d8576b\"],[0.6666666666666666,\"#ed7953\"],[0.7777777777777778,\"#fb9f3a\"],[0.8888888888888888,\"#fdca26\"],[1.0,\"#f0f921\"]],\"sequentialminus\":[[0.0,\"#0d0887\"],[0.1111111111111111,\"#46039f\"],[0.2222222222222222,\"#7201a8\"],[0.3333333333333333,\"#9c179e\"],[0.4444444444444444,\"#bd3786\"],[0.5555555555555556,\"#d8576b\"],[0.6666666666666666,\"#ed7953\"],[0.7777777777777778,\"#fb9f3a\"],[0.8888888888888888,\"#fdca26\"],[1.0,\"#f0f921\"]],\"diverging\":[[0,\"#8e0152\"],[0.1,\"#c51b7d\"],[0.2,\"#de77ae\"],[0.3,\"#f1b6da\"],[0.4,\"#fde0ef\"],[0.5,\"#f7f7f7\"],[0.6,\"#e6f5d0\"],[0.7,\"#b8e186\"],[0.8,\"#7fbc41\"],[0.9,\"#4d9221\"],[1,\"#276419\"]]},\"xaxis\":{\"gridcolor\":\"white\",\"linecolor\":\"white\",\"ticks\":\"\",\"title\":{\"standoff\":15},\"zerolinecolor\":\"white\",\"automargin\":true,\"zerolinewidth\":2},\"yaxis\":{\"gridcolor\":\"white\",\"linecolor\":\"white\",\"ticks\":\"\",\"title\":{\"standoff\":15},\"zerolinecolor\":\"white\",\"automargin\":true,\"zerolinewidth\":2},\"scene\":{\"xaxis\":{\"backgroundcolor\":\"#E5ECF6\",\"gridcolor\":\"white\",\"linecolor\":\"white\",\"showbackground\":true,\"ticks\":\"\",\"zerolinecolor\":\"white\",\"gridwidth\":2},\"yaxis\":{\"backgroundcolor\":\"#E5ECF6\",\"gridcolor\":\"white\",\"linecolor\":\"white\",\"showbackground\":true,\"ticks\":\"\",\"zerolinecolor\":\"white\",\"gridwidth\":2},\"zaxis\":{\"backgroundcolor\":\"#E5ECF6\",\"gridcolor\":\"white\",\"linecolor\":\"white\",\"showbackground\":true,\"ticks\":\"\",\"zerolinecolor\":\"white\",\"gridwidth\":2}},\"shapedefaults\":{\"line\":{\"color\":\"#2a3f5f\"}},\"annotationdefaults\":{\"arrowcolor\":\"#2a3f5f\",\"arrowhead\":0,\"arrowwidth\":1},\"geo\":{\"bgcolor\":\"white\",\"landcolor\":\"#E5ECF6\",\"subunitcolor\":\"white\",\"showland\":true,\"showlakes\":true,\"lakecolor\":\"white\"},\"title\":{\"x\":0.05},\"mapbox\":{\"style\":\"light\"}}},\"xaxis\":{\"anchor\":\"y\",\"domain\":[0.0,1.0],\"title\":{\"text\":\"all_motor_vehicles\"}},\"yaxis\":{\"anchor\":\"x\",\"domain\":[0.0,1.0],\"title\":{\"text\":\"count\"}},\"legend\":{\"tracegroupgap\":0},\"title\":{\"text\":\"Hounslow\"},\"barmode\":\"relative\"},                        {\"responsive\": true}                    ).then(function(){\n",
       "                            \n",
       "var gd = document.getElementById('1eed1fc1-5e74-4233-a168-fb659f41a5ea');\n",
       "var x = new MutationObserver(function (mutations, observer) {{\n",
       "        var display = window.getComputedStyle(gd).display;\n",
       "        if (!display || display === 'none') {{\n",
       "            console.log([gd, 'removed!']);\n",
       "            Plotly.purge(gd);\n",
       "            observer.disconnect();\n",
       "        }}\n",
       "}});\n",
       "\n",
       "// Listen for the removal of the full notebook cells\n",
       "var notebookContainer = gd.closest('#notebook-container');\n",
       "if (notebookContainer) {{\n",
       "    x.observe(notebookContainer, {childList: true});\n",
       "}}\n",
       "\n",
       "// Listen for the clearing of the current output cell\n",
       "var outputEl = gd.closest('.output');\n",
       "if (outputEl) {{\n",
       "    x.observe(outputEl, {childList: true});\n",
       "}}\n",
       "\n",
       "                        })                };                });            </script>        </div>"
      ]
     },
     "metadata": {},
     "output_type": "display_data"
    },
    {
     "data": {
      "application/vnd.plotly.v1+json": {
       "config": {
        "plotlyServerURL": "https://plot.ly"
       },
       "data": [
        {
         "alignmentgroup": "True",
         "bingroup": "x",
         "hovertemplate": "all_motor_vehicles=%{x}<br>count=%{y}<extra></extra>",
         "legendgroup": "",
         "marker": {
          "color": "#636efa",
          "pattern": {
           "shape": ""
          }
         },
         "name": "",
         "offsetgroup": "",
         "orientation": "v",
         "showlegend": false,
         "type": "histogram",
         "x": [
          62875,
          58751,
          70783,
          73339,
          63125,
          60039,
          74468,
          72088,
          69404,
          68857,
          55444,
          56091,
          55929,
          56494,
          68721,
          65702,
          59243,
          57249,
          58281,
          60099,
          61508,
          54349,
          70483,
          69313,
          52877,
          51099,
          56806,
          58359,
          58409,
          60176,
          57915,
          59713,
          70718,
          64068,
          56902,
          59071,
          55403,
          58283,
          51388,
          58527,
          56864,
          55456,
          61860,
          75066,
          61222,
          61992,
          72951,
          68495,
          55973,
          54064,
          76595,
          73813,
          70618,
          69495,
          70089,
          70670,
          71467,
          69311,
          51621,
          49782,
          63986,
          63100,
          76335,
          70140
         ],
         "xaxis": "x",
         "yaxis": "y"
        }
       ],
       "layout": {
        "barmode": "relative",
        "legend": {
         "tracegroupgap": 0
        },
        "template": {
         "data": {
          "bar": [
           {
            "error_x": {
             "color": "#2a3f5f"
            },
            "error_y": {
             "color": "#2a3f5f"
            },
            "marker": {
             "line": {
              "color": "#E5ECF6",
              "width": 0.5
             },
             "pattern": {
              "fillmode": "overlay",
              "size": 10,
              "solidity": 0.2
             }
            },
            "type": "bar"
           }
          ],
          "barpolar": [
           {
            "marker": {
             "line": {
              "color": "#E5ECF6",
              "width": 0.5
             },
             "pattern": {
              "fillmode": "overlay",
              "size": 10,
              "solidity": 0.2
             }
            },
            "type": "barpolar"
           }
          ],
          "carpet": [
           {
            "aaxis": {
             "endlinecolor": "#2a3f5f",
             "gridcolor": "white",
             "linecolor": "white",
             "minorgridcolor": "white",
             "startlinecolor": "#2a3f5f"
            },
            "baxis": {
             "endlinecolor": "#2a3f5f",
             "gridcolor": "white",
             "linecolor": "white",
             "minorgridcolor": "white",
             "startlinecolor": "#2a3f5f"
            },
            "type": "carpet"
           }
          ],
          "choropleth": [
           {
            "colorbar": {
             "outlinewidth": 0,
             "ticks": ""
            },
            "type": "choropleth"
           }
          ],
          "contour": [
           {
            "colorbar": {
             "outlinewidth": 0,
             "ticks": ""
            },
            "colorscale": [
             [
              0,
              "#0d0887"
             ],
             [
              0.1111111111111111,
              "#46039f"
             ],
             [
              0.2222222222222222,
              "#7201a8"
             ],
             [
              0.3333333333333333,
              "#9c179e"
             ],
             [
              0.4444444444444444,
              "#bd3786"
             ],
             [
              0.5555555555555556,
              "#d8576b"
             ],
             [
              0.6666666666666666,
              "#ed7953"
             ],
             [
              0.7777777777777778,
              "#fb9f3a"
             ],
             [
              0.8888888888888888,
              "#fdca26"
             ],
             [
              1,
              "#f0f921"
             ]
            ],
            "type": "contour"
           }
          ],
          "contourcarpet": [
           {
            "colorbar": {
             "outlinewidth": 0,
             "ticks": ""
            },
            "type": "contourcarpet"
           }
          ],
          "heatmap": [
           {
            "colorbar": {
             "outlinewidth": 0,
             "ticks": ""
            },
            "colorscale": [
             [
              0,
              "#0d0887"
             ],
             [
              0.1111111111111111,
              "#46039f"
             ],
             [
              0.2222222222222222,
              "#7201a8"
             ],
             [
              0.3333333333333333,
              "#9c179e"
             ],
             [
              0.4444444444444444,
              "#bd3786"
             ],
             [
              0.5555555555555556,
              "#d8576b"
             ],
             [
              0.6666666666666666,
              "#ed7953"
             ],
             [
              0.7777777777777778,
              "#fb9f3a"
             ],
             [
              0.8888888888888888,
              "#fdca26"
             ],
             [
              1,
              "#f0f921"
             ]
            ],
            "type": "heatmap"
           }
          ],
          "heatmapgl": [
           {
            "colorbar": {
             "outlinewidth": 0,
             "ticks": ""
            },
            "colorscale": [
             [
              0,
              "#0d0887"
             ],
             [
              0.1111111111111111,
              "#46039f"
             ],
             [
              0.2222222222222222,
              "#7201a8"
             ],
             [
              0.3333333333333333,
              "#9c179e"
             ],
             [
              0.4444444444444444,
              "#bd3786"
             ],
             [
              0.5555555555555556,
              "#d8576b"
             ],
             [
              0.6666666666666666,
              "#ed7953"
             ],
             [
              0.7777777777777778,
              "#fb9f3a"
             ],
             [
              0.8888888888888888,
              "#fdca26"
             ],
             [
              1,
              "#f0f921"
             ]
            ],
            "type": "heatmapgl"
           }
          ],
          "histogram": [
           {
            "marker": {
             "pattern": {
              "fillmode": "overlay",
              "size": 10,
              "solidity": 0.2
             }
            },
            "type": "histogram"
           }
          ],
          "histogram2d": [
           {
            "colorbar": {
             "outlinewidth": 0,
             "ticks": ""
            },
            "colorscale": [
             [
              0,
              "#0d0887"
             ],
             [
              0.1111111111111111,
              "#46039f"
             ],
             [
              0.2222222222222222,
              "#7201a8"
             ],
             [
              0.3333333333333333,
              "#9c179e"
             ],
             [
              0.4444444444444444,
              "#bd3786"
             ],
             [
              0.5555555555555556,
              "#d8576b"
             ],
             [
              0.6666666666666666,
              "#ed7953"
             ],
             [
              0.7777777777777778,
              "#fb9f3a"
             ],
             [
              0.8888888888888888,
              "#fdca26"
             ],
             [
              1,
              "#f0f921"
             ]
            ],
            "type": "histogram2d"
           }
          ],
          "histogram2dcontour": [
           {
            "colorbar": {
             "outlinewidth": 0,
             "ticks": ""
            },
            "colorscale": [
             [
              0,
              "#0d0887"
             ],
             [
              0.1111111111111111,
              "#46039f"
             ],
             [
              0.2222222222222222,
              "#7201a8"
             ],
             [
              0.3333333333333333,
              "#9c179e"
             ],
             [
              0.4444444444444444,
              "#bd3786"
             ],
             [
              0.5555555555555556,
              "#d8576b"
             ],
             [
              0.6666666666666666,
              "#ed7953"
             ],
             [
              0.7777777777777778,
              "#fb9f3a"
             ],
             [
              0.8888888888888888,
              "#fdca26"
             ],
             [
              1,
              "#f0f921"
             ]
            ],
            "type": "histogram2dcontour"
           }
          ],
          "mesh3d": [
           {
            "colorbar": {
             "outlinewidth": 0,
             "ticks": ""
            },
            "type": "mesh3d"
           }
          ],
          "parcoords": [
           {
            "line": {
             "colorbar": {
              "outlinewidth": 0,
              "ticks": ""
             }
            },
            "type": "parcoords"
           }
          ],
          "pie": [
           {
            "automargin": true,
            "type": "pie"
           }
          ],
          "scatter": [
           {
            "fillpattern": {
             "fillmode": "overlay",
             "size": 10,
             "solidity": 0.2
            },
            "type": "scatter"
           }
          ],
          "scatter3d": [
           {
            "line": {
             "colorbar": {
              "outlinewidth": 0,
              "ticks": ""
             }
            },
            "marker": {
             "colorbar": {
              "outlinewidth": 0,
              "ticks": ""
             }
            },
            "type": "scatter3d"
           }
          ],
          "scattercarpet": [
           {
            "marker": {
             "colorbar": {
              "outlinewidth": 0,
              "ticks": ""
             }
            },
            "type": "scattercarpet"
           }
          ],
          "scattergeo": [
           {
            "marker": {
             "colorbar": {
              "outlinewidth": 0,
              "ticks": ""
             }
            },
            "type": "scattergeo"
           }
          ],
          "scattergl": [
           {
            "marker": {
             "colorbar": {
              "outlinewidth": 0,
              "ticks": ""
             }
            },
            "type": "scattergl"
           }
          ],
          "scattermapbox": [
           {
            "marker": {
             "colorbar": {
              "outlinewidth": 0,
              "ticks": ""
             }
            },
            "type": "scattermapbox"
           }
          ],
          "scatterpolar": [
           {
            "marker": {
             "colorbar": {
              "outlinewidth": 0,
              "ticks": ""
             }
            },
            "type": "scatterpolar"
           }
          ],
          "scatterpolargl": [
           {
            "marker": {
             "colorbar": {
              "outlinewidth": 0,
              "ticks": ""
             }
            },
            "type": "scatterpolargl"
           }
          ],
          "scatterternary": [
           {
            "marker": {
             "colorbar": {
              "outlinewidth": 0,
              "ticks": ""
             }
            },
            "type": "scatterternary"
           }
          ],
          "surface": [
           {
            "colorbar": {
             "outlinewidth": 0,
             "ticks": ""
            },
            "colorscale": [
             [
              0,
              "#0d0887"
             ],
             [
              0.1111111111111111,
              "#46039f"
             ],
             [
              0.2222222222222222,
              "#7201a8"
             ],
             [
              0.3333333333333333,
              "#9c179e"
             ],
             [
              0.4444444444444444,
              "#bd3786"
             ],
             [
              0.5555555555555556,
              "#d8576b"
             ],
             [
              0.6666666666666666,
              "#ed7953"
             ],
             [
              0.7777777777777778,
              "#fb9f3a"
             ],
             [
              0.8888888888888888,
              "#fdca26"
             ],
             [
              1,
              "#f0f921"
             ]
            ],
            "type": "surface"
           }
          ],
          "table": [
           {
            "cells": {
             "fill": {
              "color": "#EBF0F8"
             },
             "line": {
              "color": "white"
             }
            },
            "header": {
             "fill": {
              "color": "#C8D4E3"
             },
             "line": {
              "color": "white"
             }
            },
            "type": "table"
           }
          ]
         },
         "layout": {
          "annotationdefaults": {
           "arrowcolor": "#2a3f5f",
           "arrowhead": 0,
           "arrowwidth": 1
          },
          "autotypenumbers": "strict",
          "coloraxis": {
           "colorbar": {
            "outlinewidth": 0,
            "ticks": ""
           }
          },
          "colorscale": {
           "diverging": [
            [
             0,
             "#8e0152"
            ],
            [
             0.1,
             "#c51b7d"
            ],
            [
             0.2,
             "#de77ae"
            ],
            [
             0.3,
             "#f1b6da"
            ],
            [
             0.4,
             "#fde0ef"
            ],
            [
             0.5,
             "#f7f7f7"
            ],
            [
             0.6,
             "#e6f5d0"
            ],
            [
             0.7,
             "#b8e186"
            ],
            [
             0.8,
             "#7fbc41"
            ],
            [
             0.9,
             "#4d9221"
            ],
            [
             1,
             "#276419"
            ]
           ],
           "sequential": [
            [
             0,
             "#0d0887"
            ],
            [
             0.1111111111111111,
             "#46039f"
            ],
            [
             0.2222222222222222,
             "#7201a8"
            ],
            [
             0.3333333333333333,
             "#9c179e"
            ],
            [
             0.4444444444444444,
             "#bd3786"
            ],
            [
             0.5555555555555556,
             "#d8576b"
            ],
            [
             0.6666666666666666,
             "#ed7953"
            ],
            [
             0.7777777777777778,
             "#fb9f3a"
            ],
            [
             0.8888888888888888,
             "#fdca26"
            ],
            [
             1,
             "#f0f921"
            ]
           ],
           "sequentialminus": [
            [
             0,
             "#0d0887"
            ],
            [
             0.1111111111111111,
             "#46039f"
            ],
            [
             0.2222222222222222,
             "#7201a8"
            ],
            [
             0.3333333333333333,
             "#9c179e"
            ],
            [
             0.4444444444444444,
             "#bd3786"
            ],
            [
             0.5555555555555556,
             "#d8576b"
            ],
            [
             0.6666666666666666,
             "#ed7953"
            ],
            [
             0.7777777777777778,
             "#fb9f3a"
            ],
            [
             0.8888888888888888,
             "#fdca26"
            ],
            [
             1,
             "#f0f921"
            ]
           ]
          },
          "colorway": [
           "#636efa",
           "#EF553B",
           "#00cc96",
           "#ab63fa",
           "#FFA15A",
           "#19d3f3",
           "#FF6692",
           "#B6E880",
           "#FF97FF",
           "#FECB52"
          ],
          "font": {
           "color": "#2a3f5f"
          },
          "geo": {
           "bgcolor": "white",
           "lakecolor": "white",
           "landcolor": "#E5ECF6",
           "showlakes": true,
           "showland": true,
           "subunitcolor": "white"
          },
          "hoverlabel": {
           "align": "left"
          },
          "hovermode": "closest",
          "mapbox": {
           "style": "light"
          },
          "paper_bgcolor": "white",
          "plot_bgcolor": "#E5ECF6",
          "polar": {
           "angularaxis": {
            "gridcolor": "white",
            "linecolor": "white",
            "ticks": ""
           },
           "bgcolor": "#E5ECF6",
           "radialaxis": {
            "gridcolor": "white",
            "linecolor": "white",
            "ticks": ""
           }
          },
          "scene": {
           "xaxis": {
            "backgroundcolor": "#E5ECF6",
            "gridcolor": "white",
            "gridwidth": 2,
            "linecolor": "white",
            "showbackground": true,
            "ticks": "",
            "zerolinecolor": "white"
           },
           "yaxis": {
            "backgroundcolor": "#E5ECF6",
            "gridcolor": "white",
            "gridwidth": 2,
            "linecolor": "white",
            "showbackground": true,
            "ticks": "",
            "zerolinecolor": "white"
           },
           "zaxis": {
            "backgroundcolor": "#E5ECF6",
            "gridcolor": "white",
            "gridwidth": 2,
            "linecolor": "white",
            "showbackground": true,
            "ticks": "",
            "zerolinecolor": "white"
           }
          },
          "shapedefaults": {
           "line": {
            "color": "#2a3f5f"
           }
          },
          "ternary": {
           "aaxis": {
            "gridcolor": "white",
            "linecolor": "white",
            "ticks": ""
           },
           "baxis": {
            "gridcolor": "white",
            "linecolor": "white",
            "ticks": ""
           },
           "bgcolor": "#E5ECF6",
           "caxis": {
            "gridcolor": "white",
            "linecolor": "white",
            "ticks": ""
           }
          },
          "title": {
           "x": 0.05
          },
          "xaxis": {
           "automargin": true,
           "gridcolor": "white",
           "linecolor": "white",
           "ticks": "",
           "title": {
            "standoff": 15
           },
           "zerolinecolor": "white",
           "zerolinewidth": 2
          },
          "yaxis": {
           "automargin": true,
           "gridcolor": "white",
           "linecolor": "white",
           "ticks": "",
           "title": {
            "standoff": 15
           },
           "zerolinecolor": "white",
           "zerolinewidth": 2
          }
         }
        },
        "title": {
         "text": "Enfield"
        },
        "xaxis": {
         "anchor": "y",
         "domain": [
          0,
          1
         ],
         "title": {
          "text": "all_motor_vehicles"
         }
        },
        "yaxis": {
         "anchor": "x",
         "domain": [
          0,
          1
         ],
         "title": {
          "text": "count"
         }
        }
       }
      },
      "text/html": [
       "<div>                            <div id=\"d5689592-ce71-4e72-a6f2-344531d5156d\" class=\"plotly-graph-div\" style=\"height:525px; width:100%;\"></div>            <script type=\"text/javascript\">                require([\"plotly\"], function(Plotly) {                    window.PLOTLYENV=window.PLOTLYENV || {};                                    if (document.getElementById(\"d5689592-ce71-4e72-a6f2-344531d5156d\")) {                    Plotly.newPlot(                        \"d5689592-ce71-4e72-a6f2-344531d5156d\",                        [{\"alignmentgroup\":\"True\",\"bingroup\":\"x\",\"hovertemplate\":\"all_motor_vehicles=%{x}<br>count=%{y}<extra></extra>\",\"legendgroup\":\"\",\"marker\":{\"color\":\"#636efa\",\"pattern\":{\"shape\":\"\"}},\"name\":\"\",\"offsetgroup\":\"\",\"orientation\":\"v\",\"showlegend\":false,\"x\":[62875,58751,70783,73339,63125,60039,74468,72088,69404,68857,55444,56091,55929,56494,68721,65702,59243,57249,58281,60099,61508,54349,70483,69313,52877,51099,56806,58359,58409,60176,57915,59713,70718,64068,56902,59071,55403,58283,51388,58527,56864,55456,61860,75066,61222,61992,72951,68495,55973,54064,76595,73813,70618,69495,70089,70670,71467,69311,51621,49782,63986,63100,76335,70140],\"xaxis\":\"x\",\"yaxis\":\"y\",\"type\":\"histogram\"}],                        {\"template\":{\"data\":{\"histogram2dcontour\":[{\"type\":\"histogram2dcontour\",\"colorbar\":{\"outlinewidth\":0,\"ticks\":\"\"},\"colorscale\":[[0.0,\"#0d0887\"],[0.1111111111111111,\"#46039f\"],[0.2222222222222222,\"#7201a8\"],[0.3333333333333333,\"#9c179e\"],[0.4444444444444444,\"#bd3786\"],[0.5555555555555556,\"#d8576b\"],[0.6666666666666666,\"#ed7953\"],[0.7777777777777778,\"#fb9f3a\"],[0.8888888888888888,\"#fdca26\"],[1.0,\"#f0f921\"]]}],\"choropleth\":[{\"type\":\"choropleth\",\"colorbar\":{\"outlinewidth\":0,\"ticks\":\"\"}}],\"histogram2d\":[{\"type\":\"histogram2d\",\"colorbar\":{\"outlinewidth\":0,\"ticks\":\"\"},\"colorscale\":[[0.0,\"#0d0887\"],[0.1111111111111111,\"#46039f\"],[0.2222222222222222,\"#7201a8\"],[0.3333333333333333,\"#9c179e\"],[0.4444444444444444,\"#bd3786\"],[0.5555555555555556,\"#d8576b\"],[0.6666666666666666,\"#ed7953\"],[0.7777777777777778,\"#fb9f3a\"],[0.8888888888888888,\"#fdca26\"],[1.0,\"#f0f921\"]]}],\"heatmap\":[{\"type\":\"heatmap\",\"colorbar\":{\"outlinewidth\":0,\"ticks\":\"\"},\"colorscale\":[[0.0,\"#0d0887\"],[0.1111111111111111,\"#46039f\"],[0.2222222222222222,\"#7201a8\"],[0.3333333333333333,\"#9c179e\"],[0.4444444444444444,\"#bd3786\"],[0.5555555555555556,\"#d8576b\"],[0.6666666666666666,\"#ed7953\"],[0.7777777777777778,\"#fb9f3a\"],[0.8888888888888888,\"#fdca26\"],[1.0,\"#f0f921\"]]}],\"heatmapgl\":[{\"type\":\"heatmapgl\",\"colorbar\":{\"outlinewidth\":0,\"ticks\":\"\"},\"colorscale\":[[0.0,\"#0d0887\"],[0.1111111111111111,\"#46039f\"],[0.2222222222222222,\"#7201a8\"],[0.3333333333333333,\"#9c179e\"],[0.4444444444444444,\"#bd3786\"],[0.5555555555555556,\"#d8576b\"],[0.6666666666666666,\"#ed7953\"],[0.7777777777777778,\"#fb9f3a\"],[0.8888888888888888,\"#fdca26\"],[1.0,\"#f0f921\"]]}],\"contourcarpet\":[{\"type\":\"contourcarpet\",\"colorbar\":{\"outlinewidth\":0,\"ticks\":\"\"}}],\"contour\":[{\"type\":\"contour\",\"colorbar\":{\"outlinewidth\":0,\"ticks\":\"\"},\"colorscale\":[[0.0,\"#0d0887\"],[0.1111111111111111,\"#46039f\"],[0.2222222222222222,\"#7201a8\"],[0.3333333333333333,\"#9c179e\"],[0.4444444444444444,\"#bd3786\"],[0.5555555555555556,\"#d8576b\"],[0.6666666666666666,\"#ed7953\"],[0.7777777777777778,\"#fb9f3a\"],[0.8888888888888888,\"#fdca26\"],[1.0,\"#f0f921\"]]}],\"surface\":[{\"type\":\"surface\",\"colorbar\":{\"outlinewidth\":0,\"ticks\":\"\"},\"colorscale\":[[0.0,\"#0d0887\"],[0.1111111111111111,\"#46039f\"],[0.2222222222222222,\"#7201a8\"],[0.3333333333333333,\"#9c179e\"],[0.4444444444444444,\"#bd3786\"],[0.5555555555555556,\"#d8576b\"],[0.6666666666666666,\"#ed7953\"],[0.7777777777777778,\"#fb9f3a\"],[0.8888888888888888,\"#fdca26\"],[1.0,\"#f0f921\"]]}],\"mesh3d\":[{\"type\":\"mesh3d\",\"colorbar\":{\"outlinewidth\":0,\"ticks\":\"\"}}],\"scatter\":[{\"fillpattern\":{\"fillmode\":\"overlay\",\"size\":10,\"solidity\":0.2},\"type\":\"scatter\"}],\"parcoords\":[{\"type\":\"parcoords\",\"line\":{\"colorbar\":{\"outlinewidth\":0,\"ticks\":\"\"}}}],\"scatterpolargl\":[{\"type\":\"scatterpolargl\",\"marker\":{\"colorbar\":{\"outlinewidth\":0,\"ticks\":\"\"}}}],\"bar\":[{\"error_x\":{\"color\":\"#2a3f5f\"},\"error_y\":{\"color\":\"#2a3f5f\"},\"marker\":{\"line\":{\"color\":\"#E5ECF6\",\"width\":0.5},\"pattern\":{\"fillmode\":\"overlay\",\"size\":10,\"solidity\":0.2}},\"type\":\"bar\"}],\"scattergeo\":[{\"type\":\"scattergeo\",\"marker\":{\"colorbar\":{\"outlinewidth\":0,\"ticks\":\"\"}}}],\"scatterpolar\":[{\"type\":\"scatterpolar\",\"marker\":{\"colorbar\":{\"outlinewidth\":0,\"ticks\":\"\"}}}],\"histogram\":[{\"marker\":{\"pattern\":{\"fillmode\":\"overlay\",\"size\":10,\"solidity\":0.2}},\"type\":\"histogram\"}],\"scattergl\":[{\"type\":\"scattergl\",\"marker\":{\"colorbar\":{\"outlinewidth\":0,\"ticks\":\"\"}}}],\"scatter3d\":[{\"type\":\"scatter3d\",\"line\":{\"colorbar\":{\"outlinewidth\":0,\"ticks\":\"\"}},\"marker\":{\"colorbar\":{\"outlinewidth\":0,\"ticks\":\"\"}}}],\"scattermapbox\":[{\"type\":\"scattermapbox\",\"marker\":{\"colorbar\":{\"outlinewidth\":0,\"ticks\":\"\"}}}],\"scatterternary\":[{\"type\":\"scatterternary\",\"marker\":{\"colorbar\":{\"outlinewidth\":0,\"ticks\":\"\"}}}],\"scattercarpet\":[{\"type\":\"scattercarpet\",\"marker\":{\"colorbar\":{\"outlinewidth\":0,\"ticks\":\"\"}}}],\"carpet\":[{\"aaxis\":{\"endlinecolor\":\"#2a3f5f\",\"gridcolor\":\"white\",\"linecolor\":\"white\",\"minorgridcolor\":\"white\",\"startlinecolor\":\"#2a3f5f\"},\"baxis\":{\"endlinecolor\":\"#2a3f5f\",\"gridcolor\":\"white\",\"linecolor\":\"white\",\"minorgridcolor\":\"white\",\"startlinecolor\":\"#2a3f5f\"},\"type\":\"carpet\"}],\"table\":[{\"cells\":{\"fill\":{\"color\":\"#EBF0F8\"},\"line\":{\"color\":\"white\"}},\"header\":{\"fill\":{\"color\":\"#C8D4E3\"},\"line\":{\"color\":\"white\"}},\"type\":\"table\"}],\"barpolar\":[{\"marker\":{\"line\":{\"color\":\"#E5ECF6\",\"width\":0.5},\"pattern\":{\"fillmode\":\"overlay\",\"size\":10,\"solidity\":0.2}},\"type\":\"barpolar\"}],\"pie\":[{\"automargin\":true,\"type\":\"pie\"}]},\"layout\":{\"autotypenumbers\":\"strict\",\"colorway\":[\"#636efa\",\"#EF553B\",\"#00cc96\",\"#ab63fa\",\"#FFA15A\",\"#19d3f3\",\"#FF6692\",\"#B6E880\",\"#FF97FF\",\"#FECB52\"],\"font\":{\"color\":\"#2a3f5f\"},\"hovermode\":\"closest\",\"hoverlabel\":{\"align\":\"left\"},\"paper_bgcolor\":\"white\",\"plot_bgcolor\":\"#E5ECF6\",\"polar\":{\"bgcolor\":\"#E5ECF6\",\"angularaxis\":{\"gridcolor\":\"white\",\"linecolor\":\"white\",\"ticks\":\"\"},\"radialaxis\":{\"gridcolor\":\"white\",\"linecolor\":\"white\",\"ticks\":\"\"}},\"ternary\":{\"bgcolor\":\"#E5ECF6\",\"aaxis\":{\"gridcolor\":\"white\",\"linecolor\":\"white\",\"ticks\":\"\"},\"baxis\":{\"gridcolor\":\"white\",\"linecolor\":\"white\",\"ticks\":\"\"},\"caxis\":{\"gridcolor\":\"white\",\"linecolor\":\"white\",\"ticks\":\"\"}},\"coloraxis\":{\"colorbar\":{\"outlinewidth\":0,\"ticks\":\"\"}},\"colorscale\":{\"sequential\":[[0.0,\"#0d0887\"],[0.1111111111111111,\"#46039f\"],[0.2222222222222222,\"#7201a8\"],[0.3333333333333333,\"#9c179e\"],[0.4444444444444444,\"#bd3786\"],[0.5555555555555556,\"#d8576b\"],[0.6666666666666666,\"#ed7953\"],[0.7777777777777778,\"#fb9f3a\"],[0.8888888888888888,\"#fdca26\"],[1.0,\"#f0f921\"]],\"sequentialminus\":[[0.0,\"#0d0887\"],[0.1111111111111111,\"#46039f\"],[0.2222222222222222,\"#7201a8\"],[0.3333333333333333,\"#9c179e\"],[0.4444444444444444,\"#bd3786\"],[0.5555555555555556,\"#d8576b\"],[0.6666666666666666,\"#ed7953\"],[0.7777777777777778,\"#fb9f3a\"],[0.8888888888888888,\"#fdca26\"],[1.0,\"#f0f921\"]],\"diverging\":[[0,\"#8e0152\"],[0.1,\"#c51b7d\"],[0.2,\"#de77ae\"],[0.3,\"#f1b6da\"],[0.4,\"#fde0ef\"],[0.5,\"#f7f7f7\"],[0.6,\"#e6f5d0\"],[0.7,\"#b8e186\"],[0.8,\"#7fbc41\"],[0.9,\"#4d9221\"],[1,\"#276419\"]]},\"xaxis\":{\"gridcolor\":\"white\",\"linecolor\":\"white\",\"ticks\":\"\",\"title\":{\"standoff\":15},\"zerolinecolor\":\"white\",\"automargin\":true,\"zerolinewidth\":2},\"yaxis\":{\"gridcolor\":\"white\",\"linecolor\":\"white\",\"ticks\":\"\",\"title\":{\"standoff\":15},\"zerolinecolor\":\"white\",\"automargin\":true,\"zerolinewidth\":2},\"scene\":{\"xaxis\":{\"backgroundcolor\":\"#E5ECF6\",\"gridcolor\":\"white\",\"linecolor\":\"white\",\"showbackground\":true,\"ticks\":\"\",\"zerolinecolor\":\"white\",\"gridwidth\":2},\"yaxis\":{\"backgroundcolor\":\"#E5ECF6\",\"gridcolor\":\"white\",\"linecolor\":\"white\",\"showbackground\":true,\"ticks\":\"\",\"zerolinecolor\":\"white\",\"gridwidth\":2},\"zaxis\":{\"backgroundcolor\":\"#E5ECF6\",\"gridcolor\":\"white\",\"linecolor\":\"white\",\"showbackground\":true,\"ticks\":\"\",\"zerolinecolor\":\"white\",\"gridwidth\":2}},\"shapedefaults\":{\"line\":{\"color\":\"#2a3f5f\"}},\"annotationdefaults\":{\"arrowcolor\":\"#2a3f5f\",\"arrowhead\":0,\"arrowwidth\":1},\"geo\":{\"bgcolor\":\"white\",\"landcolor\":\"#E5ECF6\",\"subunitcolor\":\"white\",\"showland\":true,\"showlakes\":true,\"lakecolor\":\"white\"},\"title\":{\"x\":0.05},\"mapbox\":{\"style\":\"light\"}}},\"xaxis\":{\"anchor\":\"y\",\"domain\":[0.0,1.0],\"title\":{\"text\":\"all_motor_vehicles\"}},\"yaxis\":{\"anchor\":\"x\",\"domain\":[0.0,1.0],\"title\":{\"text\":\"count\"}},\"legend\":{\"tracegroupgap\":0},\"title\":{\"text\":\"Enfield\"},\"barmode\":\"relative\"},                        {\"responsive\": true}                    ).then(function(){\n",
       "                            \n",
       "var gd = document.getElementById('d5689592-ce71-4e72-a6f2-344531d5156d');\n",
       "var x = new MutationObserver(function (mutations, observer) {{\n",
       "        var display = window.getComputedStyle(gd).display;\n",
       "        if (!display || display === 'none') {{\n",
       "            console.log([gd, 'removed!']);\n",
       "            Plotly.purge(gd);\n",
       "            observer.disconnect();\n",
       "        }}\n",
       "}});\n",
       "\n",
       "// Listen for the removal of the full notebook cells\n",
       "var notebookContainer = gd.closest('#notebook-container');\n",
       "if (notebookContainer) {{\n",
       "    x.observe(notebookContainer, {childList: true});\n",
       "}}\n",
       "\n",
       "// Listen for the clearing of the current output cell\n",
       "var outputEl = gd.closest('.output');\n",
       "if (outputEl) {{\n",
       "    x.observe(outputEl, {childList: true});\n",
       "}}\n",
       "\n",
       "                        })                };                });            </script>        </div>"
      ]
     },
     "metadata": {},
     "output_type": "display_data"
    },
    {
     "data": {
      "application/vnd.plotly.v1+json": {
       "config": {
        "plotlyServerURL": "https://plot.ly"
       },
       "data": [
        {
         "alignmentgroup": "True",
         "bingroup": "x",
         "hovertemplate": "all_motor_vehicles=%{x}<br>count=%{y}<extra></extra>",
         "legendgroup": "",
         "marker": {
          "color": "#636efa",
          "pattern": {
           "shape": ""
          }
         },
         "name": "",
         "offsetgroup": "",
         "orientation": "v",
         "showlegend": false,
         "type": "histogram",
         "x": [
          33235,
          34354,
          32147,
          33750,
          35964,
          36265,
          39882,
          40145,
          31589,
          34129,
          32810,
          34314,
          29287,
          29100,
          28882,
          32267,
          34308,
          37319,
          38526,
          34337,
          28627,
          30471,
          28093,
          30210,
          28415,
          30585,
          33010,
          33476,
          31901,
          39584,
          30144,
          29372,
          32360,
          40226,
          33581,
          34044,
          30445,
          31806,
          29766,
          28986,
          34542,
          33605,
          30118,
          31456,
          29334,
          30364,
          9352,
          8813,
          34153,
          33237,
          35182,
          34936,
          28956,
          28639,
          28216,
          28733,
          32491,
          33578,
          35168,
          35476,
          29290,
          28971,
          28805,
          29344,
          28223,
          30110,
          37986,
          33862,
          32194,
          34752,
          40601,
          40850,
          31723,
          32106,
          35598,
          35365,
          31157,
          31576,
          34075,
          32891,
          28870,
          32245,
          34309,
          37300,
          36786,
          36951,
          33044,
          33028,
          39511,
          40148,
          36357,
          36518,
          25622,
          25528,
          24712,
          25898,
          22866,
          22823
         ],
         "xaxis": "x",
         "yaxis": "y"
        }
       ],
       "layout": {
        "barmode": "relative",
        "legend": {
         "tracegroupgap": 0
        },
        "template": {
         "data": {
          "bar": [
           {
            "error_x": {
             "color": "#2a3f5f"
            },
            "error_y": {
             "color": "#2a3f5f"
            },
            "marker": {
             "line": {
              "color": "#E5ECF6",
              "width": 0.5
             },
             "pattern": {
              "fillmode": "overlay",
              "size": 10,
              "solidity": 0.2
             }
            },
            "type": "bar"
           }
          ],
          "barpolar": [
           {
            "marker": {
             "line": {
              "color": "#E5ECF6",
              "width": 0.5
             },
             "pattern": {
              "fillmode": "overlay",
              "size": 10,
              "solidity": 0.2
             }
            },
            "type": "barpolar"
           }
          ],
          "carpet": [
           {
            "aaxis": {
             "endlinecolor": "#2a3f5f",
             "gridcolor": "white",
             "linecolor": "white",
             "minorgridcolor": "white",
             "startlinecolor": "#2a3f5f"
            },
            "baxis": {
             "endlinecolor": "#2a3f5f",
             "gridcolor": "white",
             "linecolor": "white",
             "minorgridcolor": "white",
             "startlinecolor": "#2a3f5f"
            },
            "type": "carpet"
           }
          ],
          "choropleth": [
           {
            "colorbar": {
             "outlinewidth": 0,
             "ticks": ""
            },
            "type": "choropleth"
           }
          ],
          "contour": [
           {
            "colorbar": {
             "outlinewidth": 0,
             "ticks": ""
            },
            "colorscale": [
             [
              0,
              "#0d0887"
             ],
             [
              0.1111111111111111,
              "#46039f"
             ],
             [
              0.2222222222222222,
              "#7201a8"
             ],
             [
              0.3333333333333333,
              "#9c179e"
             ],
             [
              0.4444444444444444,
              "#bd3786"
             ],
             [
              0.5555555555555556,
              "#d8576b"
             ],
             [
              0.6666666666666666,
              "#ed7953"
             ],
             [
              0.7777777777777778,
              "#fb9f3a"
             ],
             [
              0.8888888888888888,
              "#fdca26"
             ],
             [
              1,
              "#f0f921"
             ]
            ],
            "type": "contour"
           }
          ],
          "contourcarpet": [
           {
            "colorbar": {
             "outlinewidth": 0,
             "ticks": ""
            },
            "type": "contourcarpet"
           }
          ],
          "heatmap": [
           {
            "colorbar": {
             "outlinewidth": 0,
             "ticks": ""
            },
            "colorscale": [
             [
              0,
              "#0d0887"
             ],
             [
              0.1111111111111111,
              "#46039f"
             ],
             [
              0.2222222222222222,
              "#7201a8"
             ],
             [
              0.3333333333333333,
              "#9c179e"
             ],
             [
              0.4444444444444444,
              "#bd3786"
             ],
             [
              0.5555555555555556,
              "#d8576b"
             ],
             [
              0.6666666666666666,
              "#ed7953"
             ],
             [
              0.7777777777777778,
              "#fb9f3a"
             ],
             [
              0.8888888888888888,
              "#fdca26"
             ],
             [
              1,
              "#f0f921"
             ]
            ],
            "type": "heatmap"
           }
          ],
          "heatmapgl": [
           {
            "colorbar": {
             "outlinewidth": 0,
             "ticks": ""
            },
            "colorscale": [
             [
              0,
              "#0d0887"
             ],
             [
              0.1111111111111111,
              "#46039f"
             ],
             [
              0.2222222222222222,
              "#7201a8"
             ],
             [
              0.3333333333333333,
              "#9c179e"
             ],
             [
              0.4444444444444444,
              "#bd3786"
             ],
             [
              0.5555555555555556,
              "#d8576b"
             ],
             [
              0.6666666666666666,
              "#ed7953"
             ],
             [
              0.7777777777777778,
              "#fb9f3a"
             ],
             [
              0.8888888888888888,
              "#fdca26"
             ],
             [
              1,
              "#f0f921"
             ]
            ],
            "type": "heatmapgl"
           }
          ],
          "histogram": [
           {
            "marker": {
             "pattern": {
              "fillmode": "overlay",
              "size": 10,
              "solidity": 0.2
             }
            },
            "type": "histogram"
           }
          ],
          "histogram2d": [
           {
            "colorbar": {
             "outlinewidth": 0,
             "ticks": ""
            },
            "colorscale": [
             [
              0,
              "#0d0887"
             ],
             [
              0.1111111111111111,
              "#46039f"
             ],
             [
              0.2222222222222222,
              "#7201a8"
             ],
             [
              0.3333333333333333,
              "#9c179e"
             ],
             [
              0.4444444444444444,
              "#bd3786"
             ],
             [
              0.5555555555555556,
              "#d8576b"
             ],
             [
              0.6666666666666666,
              "#ed7953"
             ],
             [
              0.7777777777777778,
              "#fb9f3a"
             ],
             [
              0.8888888888888888,
              "#fdca26"
             ],
             [
              1,
              "#f0f921"
             ]
            ],
            "type": "histogram2d"
           }
          ],
          "histogram2dcontour": [
           {
            "colorbar": {
             "outlinewidth": 0,
             "ticks": ""
            },
            "colorscale": [
             [
              0,
              "#0d0887"
             ],
             [
              0.1111111111111111,
              "#46039f"
             ],
             [
              0.2222222222222222,
              "#7201a8"
             ],
             [
              0.3333333333333333,
              "#9c179e"
             ],
             [
              0.4444444444444444,
              "#bd3786"
             ],
             [
              0.5555555555555556,
              "#d8576b"
             ],
             [
              0.6666666666666666,
              "#ed7953"
             ],
             [
              0.7777777777777778,
              "#fb9f3a"
             ],
             [
              0.8888888888888888,
              "#fdca26"
             ],
             [
              1,
              "#f0f921"
             ]
            ],
            "type": "histogram2dcontour"
           }
          ],
          "mesh3d": [
           {
            "colorbar": {
             "outlinewidth": 0,
             "ticks": ""
            },
            "type": "mesh3d"
           }
          ],
          "parcoords": [
           {
            "line": {
             "colorbar": {
              "outlinewidth": 0,
              "ticks": ""
             }
            },
            "type": "parcoords"
           }
          ],
          "pie": [
           {
            "automargin": true,
            "type": "pie"
           }
          ],
          "scatter": [
           {
            "fillpattern": {
             "fillmode": "overlay",
             "size": 10,
             "solidity": 0.2
            },
            "type": "scatter"
           }
          ],
          "scatter3d": [
           {
            "line": {
             "colorbar": {
              "outlinewidth": 0,
              "ticks": ""
             }
            },
            "marker": {
             "colorbar": {
              "outlinewidth": 0,
              "ticks": ""
             }
            },
            "type": "scatter3d"
           }
          ],
          "scattercarpet": [
           {
            "marker": {
             "colorbar": {
              "outlinewidth": 0,
              "ticks": ""
             }
            },
            "type": "scattercarpet"
           }
          ],
          "scattergeo": [
           {
            "marker": {
             "colorbar": {
              "outlinewidth": 0,
              "ticks": ""
             }
            },
            "type": "scattergeo"
           }
          ],
          "scattergl": [
           {
            "marker": {
             "colorbar": {
              "outlinewidth": 0,
              "ticks": ""
             }
            },
            "type": "scattergl"
           }
          ],
          "scattermapbox": [
           {
            "marker": {
             "colorbar": {
              "outlinewidth": 0,
              "ticks": ""
             }
            },
            "type": "scattermapbox"
           }
          ],
          "scatterpolar": [
           {
            "marker": {
             "colorbar": {
              "outlinewidth": 0,
              "ticks": ""
             }
            },
            "type": "scatterpolar"
           }
          ],
          "scatterpolargl": [
           {
            "marker": {
             "colorbar": {
              "outlinewidth": 0,
              "ticks": ""
             }
            },
            "type": "scatterpolargl"
           }
          ],
          "scatterternary": [
           {
            "marker": {
             "colorbar": {
              "outlinewidth": 0,
              "ticks": ""
             }
            },
            "type": "scatterternary"
           }
          ],
          "surface": [
           {
            "colorbar": {
             "outlinewidth": 0,
             "ticks": ""
            },
            "colorscale": [
             [
              0,
              "#0d0887"
             ],
             [
              0.1111111111111111,
              "#46039f"
             ],
             [
              0.2222222222222222,
              "#7201a8"
             ],
             [
              0.3333333333333333,
              "#9c179e"
             ],
             [
              0.4444444444444444,
              "#bd3786"
             ],
             [
              0.5555555555555556,
              "#d8576b"
             ],
             [
              0.6666666666666666,
              "#ed7953"
             ],
             [
              0.7777777777777778,
              "#fb9f3a"
             ],
             [
              0.8888888888888888,
              "#fdca26"
             ],
             [
              1,
              "#f0f921"
             ]
            ],
            "type": "surface"
           }
          ],
          "table": [
           {
            "cells": {
             "fill": {
              "color": "#EBF0F8"
             },
             "line": {
              "color": "white"
             }
            },
            "header": {
             "fill": {
              "color": "#C8D4E3"
             },
             "line": {
              "color": "white"
             }
            },
            "type": "table"
           }
          ]
         },
         "layout": {
          "annotationdefaults": {
           "arrowcolor": "#2a3f5f",
           "arrowhead": 0,
           "arrowwidth": 1
          },
          "autotypenumbers": "strict",
          "coloraxis": {
           "colorbar": {
            "outlinewidth": 0,
            "ticks": ""
           }
          },
          "colorscale": {
           "diverging": [
            [
             0,
             "#8e0152"
            ],
            [
             0.1,
             "#c51b7d"
            ],
            [
             0.2,
             "#de77ae"
            ],
            [
             0.3,
             "#f1b6da"
            ],
            [
             0.4,
             "#fde0ef"
            ],
            [
             0.5,
             "#f7f7f7"
            ],
            [
             0.6,
             "#e6f5d0"
            ],
            [
             0.7,
             "#b8e186"
            ],
            [
             0.8,
             "#7fbc41"
            ],
            [
             0.9,
             "#4d9221"
            ],
            [
             1,
             "#276419"
            ]
           ],
           "sequential": [
            [
             0,
             "#0d0887"
            ],
            [
             0.1111111111111111,
             "#46039f"
            ],
            [
             0.2222222222222222,
             "#7201a8"
            ],
            [
             0.3333333333333333,
             "#9c179e"
            ],
            [
             0.4444444444444444,
             "#bd3786"
            ],
            [
             0.5555555555555556,
             "#d8576b"
            ],
            [
             0.6666666666666666,
             "#ed7953"
            ],
            [
             0.7777777777777778,
             "#fb9f3a"
            ],
            [
             0.8888888888888888,
             "#fdca26"
            ],
            [
             1,
             "#f0f921"
            ]
           ],
           "sequentialminus": [
            [
             0,
             "#0d0887"
            ],
            [
             0.1111111111111111,
             "#46039f"
            ],
            [
             0.2222222222222222,
             "#7201a8"
            ],
            [
             0.3333333333333333,
             "#9c179e"
            ],
            [
             0.4444444444444444,
             "#bd3786"
            ],
            [
             0.5555555555555556,
             "#d8576b"
            ],
            [
             0.6666666666666666,
             "#ed7953"
            ],
            [
             0.7777777777777778,
             "#fb9f3a"
            ],
            [
             0.8888888888888888,
             "#fdca26"
            ],
            [
             1,
             "#f0f921"
            ]
           ]
          },
          "colorway": [
           "#636efa",
           "#EF553B",
           "#00cc96",
           "#ab63fa",
           "#FFA15A",
           "#19d3f3",
           "#FF6692",
           "#B6E880",
           "#FF97FF",
           "#FECB52"
          ],
          "font": {
           "color": "#2a3f5f"
          },
          "geo": {
           "bgcolor": "white",
           "lakecolor": "white",
           "landcolor": "#E5ECF6",
           "showlakes": true,
           "showland": true,
           "subunitcolor": "white"
          },
          "hoverlabel": {
           "align": "left"
          },
          "hovermode": "closest",
          "mapbox": {
           "style": "light"
          },
          "paper_bgcolor": "white",
          "plot_bgcolor": "#E5ECF6",
          "polar": {
           "angularaxis": {
            "gridcolor": "white",
            "linecolor": "white",
            "ticks": ""
           },
           "bgcolor": "#E5ECF6",
           "radialaxis": {
            "gridcolor": "white",
            "linecolor": "white",
            "ticks": ""
           }
          },
          "scene": {
           "xaxis": {
            "backgroundcolor": "#E5ECF6",
            "gridcolor": "white",
            "gridwidth": 2,
            "linecolor": "white",
            "showbackground": true,
            "ticks": "",
            "zerolinecolor": "white"
           },
           "yaxis": {
            "backgroundcolor": "#E5ECF6",
            "gridcolor": "white",
            "gridwidth": 2,
            "linecolor": "white",
            "showbackground": true,
            "ticks": "",
            "zerolinecolor": "white"
           },
           "zaxis": {
            "backgroundcolor": "#E5ECF6",
            "gridcolor": "white",
            "gridwidth": 2,
            "linecolor": "white",
            "showbackground": true,
            "ticks": "",
            "zerolinecolor": "white"
           }
          },
          "shapedefaults": {
           "line": {
            "color": "#2a3f5f"
           }
          },
          "ternary": {
           "aaxis": {
            "gridcolor": "white",
            "linecolor": "white",
            "ticks": ""
           },
           "baxis": {
            "gridcolor": "white",
            "linecolor": "white",
            "ticks": ""
           },
           "bgcolor": "#E5ECF6",
           "caxis": {
            "gridcolor": "white",
            "linecolor": "white",
            "ticks": ""
           }
          },
          "title": {
           "x": 0.05
          },
          "xaxis": {
           "automargin": true,
           "gridcolor": "white",
           "linecolor": "white",
           "ticks": "",
           "title": {
            "standoff": 15
           },
           "zerolinecolor": "white",
           "zerolinewidth": 2
          },
          "yaxis": {
           "automargin": true,
           "gridcolor": "white",
           "linecolor": "white",
           "ticks": "",
           "title": {
            "standoff": 15
           },
           "zerolinecolor": "white",
           "zerolinewidth": 2
          }
         }
        },
        "title": {
         "text": "Blackburn with Darwen"
        },
        "xaxis": {
         "anchor": "y",
         "domain": [
          0,
          1
         ],
         "title": {
          "text": "all_motor_vehicles"
         }
        },
        "yaxis": {
         "anchor": "x",
         "domain": [
          0,
          1
         ],
         "title": {
          "text": "count"
         }
        }
       }
      },
      "text/html": [
       "<div>                            <div id=\"aa198396-109c-4f3a-83f8-4d8b2572eae9\" class=\"plotly-graph-div\" style=\"height:525px; width:100%;\"></div>            <script type=\"text/javascript\">                require([\"plotly\"], function(Plotly) {                    window.PLOTLYENV=window.PLOTLYENV || {};                                    if (document.getElementById(\"aa198396-109c-4f3a-83f8-4d8b2572eae9\")) {                    Plotly.newPlot(                        \"aa198396-109c-4f3a-83f8-4d8b2572eae9\",                        [{\"alignmentgroup\":\"True\",\"bingroup\":\"x\",\"hovertemplate\":\"all_motor_vehicles=%{x}<br>count=%{y}<extra></extra>\",\"legendgroup\":\"\",\"marker\":{\"color\":\"#636efa\",\"pattern\":{\"shape\":\"\"}},\"name\":\"\",\"offsetgroup\":\"\",\"orientation\":\"v\",\"showlegend\":false,\"x\":[33235,34354,32147,33750,35964,36265,39882,40145,31589,34129,32810,34314,29287,29100,28882,32267,34308,37319,38526,34337,28627,30471,28093,30210,28415,30585,33010,33476,31901,39584,30144,29372,32360,40226,33581,34044,30445,31806,29766,28986,34542,33605,30118,31456,29334,30364,9352,8813,34153,33237,35182,34936,28956,28639,28216,28733,32491,33578,35168,35476,29290,28971,28805,29344,28223,30110,37986,33862,32194,34752,40601,40850,31723,32106,35598,35365,31157,31576,34075,32891,28870,32245,34309,37300,36786,36951,33044,33028,39511,40148,36357,36518,25622,25528,24712,25898,22866,22823],\"xaxis\":\"x\",\"yaxis\":\"y\",\"type\":\"histogram\"}],                        {\"template\":{\"data\":{\"histogram2dcontour\":[{\"type\":\"histogram2dcontour\",\"colorbar\":{\"outlinewidth\":0,\"ticks\":\"\"},\"colorscale\":[[0.0,\"#0d0887\"],[0.1111111111111111,\"#46039f\"],[0.2222222222222222,\"#7201a8\"],[0.3333333333333333,\"#9c179e\"],[0.4444444444444444,\"#bd3786\"],[0.5555555555555556,\"#d8576b\"],[0.6666666666666666,\"#ed7953\"],[0.7777777777777778,\"#fb9f3a\"],[0.8888888888888888,\"#fdca26\"],[1.0,\"#f0f921\"]]}],\"choropleth\":[{\"type\":\"choropleth\",\"colorbar\":{\"outlinewidth\":0,\"ticks\":\"\"}}],\"histogram2d\":[{\"type\":\"histogram2d\",\"colorbar\":{\"outlinewidth\":0,\"ticks\":\"\"},\"colorscale\":[[0.0,\"#0d0887\"],[0.1111111111111111,\"#46039f\"],[0.2222222222222222,\"#7201a8\"],[0.3333333333333333,\"#9c179e\"],[0.4444444444444444,\"#bd3786\"],[0.5555555555555556,\"#d8576b\"],[0.6666666666666666,\"#ed7953\"],[0.7777777777777778,\"#fb9f3a\"],[0.8888888888888888,\"#fdca26\"],[1.0,\"#f0f921\"]]}],\"heatmap\":[{\"type\":\"heatmap\",\"colorbar\":{\"outlinewidth\":0,\"ticks\":\"\"},\"colorscale\":[[0.0,\"#0d0887\"],[0.1111111111111111,\"#46039f\"],[0.2222222222222222,\"#7201a8\"],[0.3333333333333333,\"#9c179e\"],[0.4444444444444444,\"#bd3786\"],[0.5555555555555556,\"#d8576b\"],[0.6666666666666666,\"#ed7953\"],[0.7777777777777778,\"#fb9f3a\"],[0.8888888888888888,\"#fdca26\"],[1.0,\"#f0f921\"]]}],\"heatmapgl\":[{\"type\":\"heatmapgl\",\"colorbar\":{\"outlinewidth\":0,\"ticks\":\"\"},\"colorscale\":[[0.0,\"#0d0887\"],[0.1111111111111111,\"#46039f\"],[0.2222222222222222,\"#7201a8\"],[0.3333333333333333,\"#9c179e\"],[0.4444444444444444,\"#bd3786\"],[0.5555555555555556,\"#d8576b\"],[0.6666666666666666,\"#ed7953\"],[0.7777777777777778,\"#fb9f3a\"],[0.8888888888888888,\"#fdca26\"],[1.0,\"#f0f921\"]]}],\"contourcarpet\":[{\"type\":\"contourcarpet\",\"colorbar\":{\"outlinewidth\":0,\"ticks\":\"\"}}],\"contour\":[{\"type\":\"contour\",\"colorbar\":{\"outlinewidth\":0,\"ticks\":\"\"},\"colorscale\":[[0.0,\"#0d0887\"],[0.1111111111111111,\"#46039f\"],[0.2222222222222222,\"#7201a8\"],[0.3333333333333333,\"#9c179e\"],[0.4444444444444444,\"#bd3786\"],[0.5555555555555556,\"#d8576b\"],[0.6666666666666666,\"#ed7953\"],[0.7777777777777778,\"#fb9f3a\"],[0.8888888888888888,\"#fdca26\"],[1.0,\"#f0f921\"]]}],\"surface\":[{\"type\":\"surface\",\"colorbar\":{\"outlinewidth\":0,\"ticks\":\"\"},\"colorscale\":[[0.0,\"#0d0887\"],[0.1111111111111111,\"#46039f\"],[0.2222222222222222,\"#7201a8\"],[0.3333333333333333,\"#9c179e\"],[0.4444444444444444,\"#bd3786\"],[0.5555555555555556,\"#d8576b\"],[0.6666666666666666,\"#ed7953\"],[0.7777777777777778,\"#fb9f3a\"],[0.8888888888888888,\"#fdca26\"],[1.0,\"#f0f921\"]]}],\"mesh3d\":[{\"type\":\"mesh3d\",\"colorbar\":{\"outlinewidth\":0,\"ticks\":\"\"}}],\"scatter\":[{\"fillpattern\":{\"fillmode\":\"overlay\",\"size\":10,\"solidity\":0.2},\"type\":\"scatter\"}],\"parcoords\":[{\"type\":\"parcoords\",\"line\":{\"colorbar\":{\"outlinewidth\":0,\"ticks\":\"\"}}}],\"scatterpolargl\":[{\"type\":\"scatterpolargl\",\"marker\":{\"colorbar\":{\"outlinewidth\":0,\"ticks\":\"\"}}}],\"bar\":[{\"error_x\":{\"color\":\"#2a3f5f\"},\"error_y\":{\"color\":\"#2a3f5f\"},\"marker\":{\"line\":{\"color\":\"#E5ECF6\",\"width\":0.5},\"pattern\":{\"fillmode\":\"overlay\",\"size\":10,\"solidity\":0.2}},\"type\":\"bar\"}],\"scattergeo\":[{\"type\":\"scattergeo\",\"marker\":{\"colorbar\":{\"outlinewidth\":0,\"ticks\":\"\"}}}],\"scatterpolar\":[{\"type\":\"scatterpolar\",\"marker\":{\"colorbar\":{\"outlinewidth\":0,\"ticks\":\"\"}}}],\"histogram\":[{\"marker\":{\"pattern\":{\"fillmode\":\"overlay\",\"size\":10,\"solidity\":0.2}},\"type\":\"histogram\"}],\"scattergl\":[{\"type\":\"scattergl\",\"marker\":{\"colorbar\":{\"outlinewidth\":0,\"ticks\":\"\"}}}],\"scatter3d\":[{\"type\":\"scatter3d\",\"line\":{\"colorbar\":{\"outlinewidth\":0,\"ticks\":\"\"}},\"marker\":{\"colorbar\":{\"outlinewidth\":0,\"ticks\":\"\"}}}],\"scattermapbox\":[{\"type\":\"scattermapbox\",\"marker\":{\"colorbar\":{\"outlinewidth\":0,\"ticks\":\"\"}}}],\"scatterternary\":[{\"type\":\"scatterternary\",\"marker\":{\"colorbar\":{\"outlinewidth\":0,\"ticks\":\"\"}}}],\"scattercarpet\":[{\"type\":\"scattercarpet\",\"marker\":{\"colorbar\":{\"outlinewidth\":0,\"ticks\":\"\"}}}],\"carpet\":[{\"aaxis\":{\"endlinecolor\":\"#2a3f5f\",\"gridcolor\":\"white\",\"linecolor\":\"white\",\"minorgridcolor\":\"white\",\"startlinecolor\":\"#2a3f5f\"},\"baxis\":{\"endlinecolor\":\"#2a3f5f\",\"gridcolor\":\"white\",\"linecolor\":\"white\",\"minorgridcolor\":\"white\",\"startlinecolor\":\"#2a3f5f\"},\"type\":\"carpet\"}],\"table\":[{\"cells\":{\"fill\":{\"color\":\"#EBF0F8\"},\"line\":{\"color\":\"white\"}},\"header\":{\"fill\":{\"color\":\"#C8D4E3\"},\"line\":{\"color\":\"white\"}},\"type\":\"table\"}],\"barpolar\":[{\"marker\":{\"line\":{\"color\":\"#E5ECF6\",\"width\":0.5},\"pattern\":{\"fillmode\":\"overlay\",\"size\":10,\"solidity\":0.2}},\"type\":\"barpolar\"}],\"pie\":[{\"automargin\":true,\"type\":\"pie\"}]},\"layout\":{\"autotypenumbers\":\"strict\",\"colorway\":[\"#636efa\",\"#EF553B\",\"#00cc96\",\"#ab63fa\",\"#FFA15A\",\"#19d3f3\",\"#FF6692\",\"#B6E880\",\"#FF97FF\",\"#FECB52\"],\"font\":{\"color\":\"#2a3f5f\"},\"hovermode\":\"closest\",\"hoverlabel\":{\"align\":\"left\"},\"paper_bgcolor\":\"white\",\"plot_bgcolor\":\"#E5ECF6\",\"polar\":{\"bgcolor\":\"#E5ECF6\",\"angularaxis\":{\"gridcolor\":\"white\",\"linecolor\":\"white\",\"ticks\":\"\"},\"radialaxis\":{\"gridcolor\":\"white\",\"linecolor\":\"white\",\"ticks\":\"\"}},\"ternary\":{\"bgcolor\":\"#E5ECF6\",\"aaxis\":{\"gridcolor\":\"white\",\"linecolor\":\"white\",\"ticks\":\"\"},\"baxis\":{\"gridcolor\":\"white\",\"linecolor\":\"white\",\"ticks\":\"\"},\"caxis\":{\"gridcolor\":\"white\",\"linecolor\":\"white\",\"ticks\":\"\"}},\"coloraxis\":{\"colorbar\":{\"outlinewidth\":0,\"ticks\":\"\"}},\"colorscale\":{\"sequential\":[[0.0,\"#0d0887\"],[0.1111111111111111,\"#46039f\"],[0.2222222222222222,\"#7201a8\"],[0.3333333333333333,\"#9c179e\"],[0.4444444444444444,\"#bd3786\"],[0.5555555555555556,\"#d8576b\"],[0.6666666666666666,\"#ed7953\"],[0.7777777777777778,\"#fb9f3a\"],[0.8888888888888888,\"#fdca26\"],[1.0,\"#f0f921\"]],\"sequentialminus\":[[0.0,\"#0d0887\"],[0.1111111111111111,\"#46039f\"],[0.2222222222222222,\"#7201a8\"],[0.3333333333333333,\"#9c179e\"],[0.4444444444444444,\"#bd3786\"],[0.5555555555555556,\"#d8576b\"],[0.6666666666666666,\"#ed7953\"],[0.7777777777777778,\"#fb9f3a\"],[0.8888888888888888,\"#fdca26\"],[1.0,\"#f0f921\"]],\"diverging\":[[0,\"#8e0152\"],[0.1,\"#c51b7d\"],[0.2,\"#de77ae\"],[0.3,\"#f1b6da\"],[0.4,\"#fde0ef\"],[0.5,\"#f7f7f7\"],[0.6,\"#e6f5d0\"],[0.7,\"#b8e186\"],[0.8,\"#7fbc41\"],[0.9,\"#4d9221\"],[1,\"#276419\"]]},\"xaxis\":{\"gridcolor\":\"white\",\"linecolor\":\"white\",\"ticks\":\"\",\"title\":{\"standoff\":15},\"zerolinecolor\":\"white\",\"automargin\":true,\"zerolinewidth\":2},\"yaxis\":{\"gridcolor\":\"white\",\"linecolor\":\"white\",\"ticks\":\"\",\"title\":{\"standoff\":15},\"zerolinecolor\":\"white\",\"automargin\":true,\"zerolinewidth\":2},\"scene\":{\"xaxis\":{\"backgroundcolor\":\"#E5ECF6\",\"gridcolor\":\"white\",\"linecolor\":\"white\",\"showbackground\":true,\"ticks\":\"\",\"zerolinecolor\":\"white\",\"gridwidth\":2},\"yaxis\":{\"backgroundcolor\":\"#E5ECF6\",\"gridcolor\":\"white\",\"linecolor\":\"white\",\"showbackground\":true,\"ticks\":\"\",\"zerolinecolor\":\"white\",\"gridwidth\":2},\"zaxis\":{\"backgroundcolor\":\"#E5ECF6\",\"gridcolor\":\"white\",\"linecolor\":\"white\",\"showbackground\":true,\"ticks\":\"\",\"zerolinecolor\":\"white\",\"gridwidth\":2}},\"shapedefaults\":{\"line\":{\"color\":\"#2a3f5f\"}},\"annotationdefaults\":{\"arrowcolor\":\"#2a3f5f\",\"arrowhead\":0,\"arrowwidth\":1},\"geo\":{\"bgcolor\":\"white\",\"landcolor\":\"#E5ECF6\",\"subunitcolor\":\"white\",\"showland\":true,\"showlakes\":true,\"lakecolor\":\"white\"},\"title\":{\"x\":0.05},\"mapbox\":{\"style\":\"light\"}}},\"xaxis\":{\"anchor\":\"y\",\"domain\":[0.0,1.0],\"title\":{\"text\":\"all_motor_vehicles\"}},\"yaxis\":{\"anchor\":\"x\",\"domain\":[0.0,1.0],\"title\":{\"text\":\"count\"}},\"legend\":{\"tracegroupgap\":0},\"title\":{\"text\":\"Blackburn with Darwen\"},\"barmode\":\"relative\"},                        {\"responsive\": true}                    ).then(function(){\n",
       "                            \n",
       "var gd = document.getElementById('aa198396-109c-4f3a-83f8-4d8b2572eae9');\n",
       "var x = new MutationObserver(function (mutations, observer) {{\n",
       "        var display = window.getComputedStyle(gd).display;\n",
       "        if (!display || display === 'none') {{\n",
       "            console.log([gd, 'removed!']);\n",
       "            Plotly.purge(gd);\n",
       "            observer.disconnect();\n",
       "        }}\n",
       "}});\n",
       "\n",
       "// Listen for the removal of the full notebook cells\n",
       "var notebookContainer = gd.closest('#notebook-container');\n",
       "if (notebookContainer) {{\n",
       "    x.observe(notebookContainer, {childList: true});\n",
       "}}\n",
       "\n",
       "// Listen for the clearing of the current output cell\n",
       "var outputEl = gd.closest('.output');\n",
       "if (outputEl) {{\n",
       "    x.observe(outputEl, {childList: true});\n",
       "}}\n",
       "\n",
       "                        })                };                });            </script>        </div>"
      ]
     },
     "metadata": {},
     "output_type": "display_data"
    },
    {
     "data": {
      "application/vnd.plotly.v1+json": {
       "config": {
        "plotlyServerURL": "https://plot.ly"
       },
       "data": [
        {
         "alignmentgroup": "True",
         "bingroup": "x",
         "hovertemplate": "all_motor_vehicles=%{x}<br>count=%{y}<extra></extra>",
         "legendgroup": "",
         "marker": {
          "color": "#636efa",
          "pattern": {
           "shape": ""
          }
         },
         "name": "",
         "offsetgroup": "",
         "orientation": "v",
         "showlegend": false,
         "type": "histogram",
         "x": [
          57567,
          55517,
          67597,
          66643,
          52176,
          54734,
          66358,
          65400,
          66358,
          65400,
          57567,
          55517,
          68438,
          57409,
          64275,
          67233,
          59594,
          56636,
          71038,
          63527,
          56672,
          59234,
          64275,
          67233,
          52505,
          61887,
          63541,
          58470,
          58462,
          55761,
          53222,
          60761,
          77784,
          74456,
          58462,
          55761,
          49753,
          65673,
          60183,
          61187,
          44492,
          45941,
          52505,
          61887,
          64100,
          54316,
          44492,
          45941,
          57040,
          59380,
          65408,
          60358,
          59577,
          57946,
          55009,
          45610,
          34117,
          53110,
          34117,
          53110,
          65408,
          60358,
          54957,
          50798,
          64079,
          51459,
          49140,
          50197,
          56003,
          57330,
          49916,
          71504,
          58744,
          51454,
          58507,
          55430,
          56496,
          54338,
          56003,
          57330,
          62600,
          49326,
          49916,
          71504,
          55406,
          45520,
          56496,
          54338,
          47101,
          57504,
          63452,
          57383,
          66643,
          67597,
          64560,
          65241,
          64433,
          67447,
          61068,
          61254,
          55491,
          52542,
          47101,
          57504,
          68020,
          67637,
          63641,
          74411,
          61751,
          51721,
          76788,
          73250,
          66132,
          65605,
          68020,
          67637,
          64433,
          67447,
          57177,
          63079,
          73190,
          71595,
          57177,
          63079,
          60012,
          57183,
          65678,
          59790
         ],
         "xaxis": "x",
         "yaxis": "y"
        }
       ],
       "layout": {
        "barmode": "relative",
        "legend": {
         "tracegroupgap": 0
        },
        "template": {
         "data": {
          "bar": [
           {
            "error_x": {
             "color": "#2a3f5f"
            },
            "error_y": {
             "color": "#2a3f5f"
            },
            "marker": {
             "line": {
              "color": "#E5ECF6",
              "width": 0.5
             },
             "pattern": {
              "fillmode": "overlay",
              "size": 10,
              "solidity": 0.2
             }
            },
            "type": "bar"
           }
          ],
          "barpolar": [
           {
            "marker": {
             "line": {
              "color": "#E5ECF6",
              "width": 0.5
             },
             "pattern": {
              "fillmode": "overlay",
              "size": 10,
              "solidity": 0.2
             }
            },
            "type": "barpolar"
           }
          ],
          "carpet": [
           {
            "aaxis": {
             "endlinecolor": "#2a3f5f",
             "gridcolor": "white",
             "linecolor": "white",
             "minorgridcolor": "white",
             "startlinecolor": "#2a3f5f"
            },
            "baxis": {
             "endlinecolor": "#2a3f5f",
             "gridcolor": "white",
             "linecolor": "white",
             "minorgridcolor": "white",
             "startlinecolor": "#2a3f5f"
            },
            "type": "carpet"
           }
          ],
          "choropleth": [
           {
            "colorbar": {
             "outlinewidth": 0,
             "ticks": ""
            },
            "type": "choropleth"
           }
          ],
          "contour": [
           {
            "colorbar": {
             "outlinewidth": 0,
             "ticks": ""
            },
            "colorscale": [
             [
              0,
              "#0d0887"
             ],
             [
              0.1111111111111111,
              "#46039f"
             ],
             [
              0.2222222222222222,
              "#7201a8"
             ],
             [
              0.3333333333333333,
              "#9c179e"
             ],
             [
              0.4444444444444444,
              "#bd3786"
             ],
             [
              0.5555555555555556,
              "#d8576b"
             ],
             [
              0.6666666666666666,
              "#ed7953"
             ],
             [
              0.7777777777777778,
              "#fb9f3a"
             ],
             [
              0.8888888888888888,
              "#fdca26"
             ],
             [
              1,
              "#f0f921"
             ]
            ],
            "type": "contour"
           }
          ],
          "contourcarpet": [
           {
            "colorbar": {
             "outlinewidth": 0,
             "ticks": ""
            },
            "type": "contourcarpet"
           }
          ],
          "heatmap": [
           {
            "colorbar": {
             "outlinewidth": 0,
             "ticks": ""
            },
            "colorscale": [
             [
              0,
              "#0d0887"
             ],
             [
              0.1111111111111111,
              "#46039f"
             ],
             [
              0.2222222222222222,
              "#7201a8"
             ],
             [
              0.3333333333333333,
              "#9c179e"
             ],
             [
              0.4444444444444444,
              "#bd3786"
             ],
             [
              0.5555555555555556,
              "#d8576b"
             ],
             [
              0.6666666666666666,
              "#ed7953"
             ],
             [
              0.7777777777777778,
              "#fb9f3a"
             ],
             [
              0.8888888888888888,
              "#fdca26"
             ],
             [
              1,
              "#f0f921"
             ]
            ],
            "type": "heatmap"
           }
          ],
          "heatmapgl": [
           {
            "colorbar": {
             "outlinewidth": 0,
             "ticks": ""
            },
            "colorscale": [
             [
              0,
              "#0d0887"
             ],
             [
              0.1111111111111111,
              "#46039f"
             ],
             [
              0.2222222222222222,
              "#7201a8"
             ],
             [
              0.3333333333333333,
              "#9c179e"
             ],
             [
              0.4444444444444444,
              "#bd3786"
             ],
             [
              0.5555555555555556,
              "#d8576b"
             ],
             [
              0.6666666666666666,
              "#ed7953"
             ],
             [
              0.7777777777777778,
              "#fb9f3a"
             ],
             [
              0.8888888888888888,
              "#fdca26"
             ],
             [
              1,
              "#f0f921"
             ]
            ],
            "type": "heatmapgl"
           }
          ],
          "histogram": [
           {
            "marker": {
             "pattern": {
              "fillmode": "overlay",
              "size": 10,
              "solidity": 0.2
             }
            },
            "type": "histogram"
           }
          ],
          "histogram2d": [
           {
            "colorbar": {
             "outlinewidth": 0,
             "ticks": ""
            },
            "colorscale": [
             [
              0,
              "#0d0887"
             ],
             [
              0.1111111111111111,
              "#46039f"
             ],
             [
              0.2222222222222222,
              "#7201a8"
             ],
             [
              0.3333333333333333,
              "#9c179e"
             ],
             [
              0.4444444444444444,
              "#bd3786"
             ],
             [
              0.5555555555555556,
              "#d8576b"
             ],
             [
              0.6666666666666666,
              "#ed7953"
             ],
             [
              0.7777777777777778,
              "#fb9f3a"
             ],
             [
              0.8888888888888888,
              "#fdca26"
             ],
             [
              1,
              "#f0f921"
             ]
            ],
            "type": "histogram2d"
           }
          ],
          "histogram2dcontour": [
           {
            "colorbar": {
             "outlinewidth": 0,
             "ticks": ""
            },
            "colorscale": [
             [
              0,
              "#0d0887"
             ],
             [
              0.1111111111111111,
              "#46039f"
             ],
             [
              0.2222222222222222,
              "#7201a8"
             ],
             [
              0.3333333333333333,
              "#9c179e"
             ],
             [
              0.4444444444444444,
              "#bd3786"
             ],
             [
              0.5555555555555556,
              "#d8576b"
             ],
             [
              0.6666666666666666,
              "#ed7953"
             ],
             [
              0.7777777777777778,
              "#fb9f3a"
             ],
             [
              0.8888888888888888,
              "#fdca26"
             ],
             [
              1,
              "#f0f921"
             ]
            ],
            "type": "histogram2dcontour"
           }
          ],
          "mesh3d": [
           {
            "colorbar": {
             "outlinewidth": 0,
             "ticks": ""
            },
            "type": "mesh3d"
           }
          ],
          "parcoords": [
           {
            "line": {
             "colorbar": {
              "outlinewidth": 0,
              "ticks": ""
             }
            },
            "type": "parcoords"
           }
          ],
          "pie": [
           {
            "automargin": true,
            "type": "pie"
           }
          ],
          "scatter": [
           {
            "fillpattern": {
             "fillmode": "overlay",
             "size": 10,
             "solidity": 0.2
            },
            "type": "scatter"
           }
          ],
          "scatter3d": [
           {
            "line": {
             "colorbar": {
              "outlinewidth": 0,
              "ticks": ""
             }
            },
            "marker": {
             "colorbar": {
              "outlinewidth": 0,
              "ticks": ""
             }
            },
            "type": "scatter3d"
           }
          ],
          "scattercarpet": [
           {
            "marker": {
             "colorbar": {
              "outlinewidth": 0,
              "ticks": ""
             }
            },
            "type": "scattercarpet"
           }
          ],
          "scattergeo": [
           {
            "marker": {
             "colorbar": {
              "outlinewidth": 0,
              "ticks": ""
             }
            },
            "type": "scattergeo"
           }
          ],
          "scattergl": [
           {
            "marker": {
             "colorbar": {
              "outlinewidth": 0,
              "ticks": ""
             }
            },
            "type": "scattergl"
           }
          ],
          "scattermapbox": [
           {
            "marker": {
             "colorbar": {
              "outlinewidth": 0,
              "ticks": ""
             }
            },
            "type": "scattermapbox"
           }
          ],
          "scatterpolar": [
           {
            "marker": {
             "colorbar": {
              "outlinewidth": 0,
              "ticks": ""
             }
            },
            "type": "scatterpolar"
           }
          ],
          "scatterpolargl": [
           {
            "marker": {
             "colorbar": {
              "outlinewidth": 0,
              "ticks": ""
             }
            },
            "type": "scatterpolargl"
           }
          ],
          "scatterternary": [
           {
            "marker": {
             "colorbar": {
              "outlinewidth": 0,
              "ticks": ""
             }
            },
            "type": "scatterternary"
           }
          ],
          "surface": [
           {
            "colorbar": {
             "outlinewidth": 0,
             "ticks": ""
            },
            "colorscale": [
             [
              0,
              "#0d0887"
             ],
             [
              0.1111111111111111,
              "#46039f"
             ],
             [
              0.2222222222222222,
              "#7201a8"
             ],
             [
              0.3333333333333333,
              "#9c179e"
             ],
             [
              0.4444444444444444,
              "#bd3786"
             ],
             [
              0.5555555555555556,
              "#d8576b"
             ],
             [
              0.6666666666666666,
              "#ed7953"
             ],
             [
              0.7777777777777778,
              "#fb9f3a"
             ],
             [
              0.8888888888888888,
              "#fdca26"
             ],
             [
              1,
              "#f0f921"
             ]
            ],
            "type": "surface"
           }
          ],
          "table": [
           {
            "cells": {
             "fill": {
              "color": "#EBF0F8"
             },
             "line": {
              "color": "white"
             }
            },
            "header": {
             "fill": {
              "color": "#C8D4E3"
             },
             "line": {
              "color": "white"
             }
            },
            "type": "table"
           }
          ]
         },
         "layout": {
          "annotationdefaults": {
           "arrowcolor": "#2a3f5f",
           "arrowhead": 0,
           "arrowwidth": 1
          },
          "autotypenumbers": "strict",
          "coloraxis": {
           "colorbar": {
            "outlinewidth": 0,
            "ticks": ""
           }
          },
          "colorscale": {
           "diverging": [
            [
             0,
             "#8e0152"
            ],
            [
             0.1,
             "#c51b7d"
            ],
            [
             0.2,
             "#de77ae"
            ],
            [
             0.3,
             "#f1b6da"
            ],
            [
             0.4,
             "#fde0ef"
            ],
            [
             0.5,
             "#f7f7f7"
            ],
            [
             0.6,
             "#e6f5d0"
            ],
            [
             0.7,
             "#b8e186"
            ],
            [
             0.8,
             "#7fbc41"
            ],
            [
             0.9,
             "#4d9221"
            ],
            [
             1,
             "#276419"
            ]
           ],
           "sequential": [
            [
             0,
             "#0d0887"
            ],
            [
             0.1111111111111111,
             "#46039f"
            ],
            [
             0.2222222222222222,
             "#7201a8"
            ],
            [
             0.3333333333333333,
             "#9c179e"
            ],
            [
             0.4444444444444444,
             "#bd3786"
            ],
            [
             0.5555555555555556,
             "#d8576b"
            ],
            [
             0.6666666666666666,
             "#ed7953"
            ],
            [
             0.7777777777777778,
             "#fb9f3a"
            ],
            [
             0.8888888888888888,
             "#fdca26"
            ],
            [
             1,
             "#f0f921"
            ]
           ],
           "sequentialminus": [
            [
             0,
             "#0d0887"
            ],
            [
             0.1111111111111111,
             "#46039f"
            ],
            [
             0.2222222222222222,
             "#7201a8"
            ],
            [
             0.3333333333333333,
             "#9c179e"
            ],
            [
             0.4444444444444444,
             "#bd3786"
            ],
            [
             0.5555555555555556,
             "#d8576b"
            ],
            [
             0.6666666666666666,
             "#ed7953"
            ],
            [
             0.7777777777777778,
             "#fb9f3a"
            ],
            [
             0.8888888888888888,
             "#fdca26"
            ],
            [
             1,
             "#f0f921"
            ]
           ]
          },
          "colorway": [
           "#636efa",
           "#EF553B",
           "#00cc96",
           "#ab63fa",
           "#FFA15A",
           "#19d3f3",
           "#FF6692",
           "#B6E880",
           "#FF97FF",
           "#FECB52"
          ],
          "font": {
           "color": "#2a3f5f"
          },
          "geo": {
           "bgcolor": "white",
           "lakecolor": "white",
           "landcolor": "#E5ECF6",
           "showlakes": true,
           "showland": true,
           "subunitcolor": "white"
          },
          "hoverlabel": {
           "align": "left"
          },
          "hovermode": "closest",
          "mapbox": {
           "style": "light"
          },
          "paper_bgcolor": "white",
          "plot_bgcolor": "#E5ECF6",
          "polar": {
           "angularaxis": {
            "gridcolor": "white",
            "linecolor": "white",
            "ticks": ""
           },
           "bgcolor": "#E5ECF6",
           "radialaxis": {
            "gridcolor": "white",
            "linecolor": "white",
            "ticks": ""
           }
          },
          "scene": {
           "xaxis": {
            "backgroundcolor": "#E5ECF6",
            "gridcolor": "white",
            "gridwidth": 2,
            "linecolor": "white",
            "showbackground": true,
            "ticks": "",
            "zerolinecolor": "white"
           },
           "yaxis": {
            "backgroundcolor": "#E5ECF6",
            "gridcolor": "white",
            "gridwidth": 2,
            "linecolor": "white",
            "showbackground": true,
            "ticks": "",
            "zerolinecolor": "white"
           },
           "zaxis": {
            "backgroundcolor": "#E5ECF6",
            "gridcolor": "white",
            "gridwidth": 2,
            "linecolor": "white",
            "showbackground": true,
            "ticks": "",
            "zerolinecolor": "white"
           }
          },
          "shapedefaults": {
           "line": {
            "color": "#2a3f5f"
           }
          },
          "ternary": {
           "aaxis": {
            "gridcolor": "white",
            "linecolor": "white",
            "ticks": ""
           },
           "baxis": {
            "gridcolor": "white",
            "linecolor": "white",
            "ticks": ""
           },
           "bgcolor": "#E5ECF6",
           "caxis": {
            "gridcolor": "white",
            "linecolor": "white",
            "ticks": ""
           }
          },
          "title": {
           "x": 0.05
          },
          "xaxis": {
           "automargin": true,
           "gridcolor": "white",
           "linecolor": "white",
           "ticks": "",
           "title": {
            "standoff": 15
           },
           "zerolinecolor": "white",
           "zerolinewidth": 2
          },
          "yaxis": {
           "automargin": true,
           "gridcolor": "white",
           "linecolor": "white",
           "ticks": "",
           "title": {
            "standoff": 15
           },
           "zerolinecolor": "white",
           "zerolinewidth": 2
          }
         }
        },
        "title": {
         "text": "Havering"
        },
        "xaxis": {
         "anchor": "y",
         "domain": [
          0,
          1
         ],
         "title": {
          "text": "all_motor_vehicles"
         }
        },
        "yaxis": {
         "anchor": "x",
         "domain": [
          0,
          1
         ],
         "title": {
          "text": "count"
         }
        }
       }
      },
      "text/html": [
       "<div>                            <div id=\"c40b92db-fab9-4956-ac52-5e41773477a1\" class=\"plotly-graph-div\" style=\"height:525px; width:100%;\"></div>            <script type=\"text/javascript\">                require([\"plotly\"], function(Plotly) {                    window.PLOTLYENV=window.PLOTLYENV || {};                                    if (document.getElementById(\"c40b92db-fab9-4956-ac52-5e41773477a1\")) {                    Plotly.newPlot(                        \"c40b92db-fab9-4956-ac52-5e41773477a1\",                        [{\"alignmentgroup\":\"True\",\"bingroup\":\"x\",\"hovertemplate\":\"all_motor_vehicles=%{x}<br>count=%{y}<extra></extra>\",\"legendgroup\":\"\",\"marker\":{\"color\":\"#636efa\",\"pattern\":{\"shape\":\"\"}},\"name\":\"\",\"offsetgroup\":\"\",\"orientation\":\"v\",\"showlegend\":false,\"x\":[57567,55517,67597,66643,52176,54734,66358,65400,66358,65400,57567,55517,68438,57409,64275,67233,59594,56636,71038,63527,56672,59234,64275,67233,52505,61887,63541,58470,58462,55761,53222,60761,77784,74456,58462,55761,49753,65673,60183,61187,44492,45941,52505,61887,64100,54316,44492,45941,57040,59380,65408,60358,59577,57946,55009,45610,34117,53110,34117,53110,65408,60358,54957,50798,64079,51459,49140,50197,56003,57330,49916,71504,58744,51454,58507,55430,56496,54338,56003,57330,62600,49326,49916,71504,55406,45520,56496,54338,47101,57504,63452,57383,66643,67597,64560,65241,64433,67447,61068,61254,55491,52542,47101,57504,68020,67637,63641,74411,61751,51721,76788,73250,66132,65605,68020,67637,64433,67447,57177,63079,73190,71595,57177,63079,60012,57183,65678,59790],\"xaxis\":\"x\",\"yaxis\":\"y\",\"type\":\"histogram\"}],                        {\"template\":{\"data\":{\"histogram2dcontour\":[{\"type\":\"histogram2dcontour\",\"colorbar\":{\"outlinewidth\":0,\"ticks\":\"\"},\"colorscale\":[[0.0,\"#0d0887\"],[0.1111111111111111,\"#46039f\"],[0.2222222222222222,\"#7201a8\"],[0.3333333333333333,\"#9c179e\"],[0.4444444444444444,\"#bd3786\"],[0.5555555555555556,\"#d8576b\"],[0.6666666666666666,\"#ed7953\"],[0.7777777777777778,\"#fb9f3a\"],[0.8888888888888888,\"#fdca26\"],[1.0,\"#f0f921\"]]}],\"choropleth\":[{\"type\":\"choropleth\",\"colorbar\":{\"outlinewidth\":0,\"ticks\":\"\"}}],\"histogram2d\":[{\"type\":\"histogram2d\",\"colorbar\":{\"outlinewidth\":0,\"ticks\":\"\"},\"colorscale\":[[0.0,\"#0d0887\"],[0.1111111111111111,\"#46039f\"],[0.2222222222222222,\"#7201a8\"],[0.3333333333333333,\"#9c179e\"],[0.4444444444444444,\"#bd3786\"],[0.5555555555555556,\"#d8576b\"],[0.6666666666666666,\"#ed7953\"],[0.7777777777777778,\"#fb9f3a\"],[0.8888888888888888,\"#fdca26\"],[1.0,\"#f0f921\"]]}],\"heatmap\":[{\"type\":\"heatmap\",\"colorbar\":{\"outlinewidth\":0,\"ticks\":\"\"},\"colorscale\":[[0.0,\"#0d0887\"],[0.1111111111111111,\"#46039f\"],[0.2222222222222222,\"#7201a8\"],[0.3333333333333333,\"#9c179e\"],[0.4444444444444444,\"#bd3786\"],[0.5555555555555556,\"#d8576b\"],[0.6666666666666666,\"#ed7953\"],[0.7777777777777778,\"#fb9f3a\"],[0.8888888888888888,\"#fdca26\"],[1.0,\"#f0f921\"]]}],\"heatmapgl\":[{\"type\":\"heatmapgl\",\"colorbar\":{\"outlinewidth\":0,\"ticks\":\"\"},\"colorscale\":[[0.0,\"#0d0887\"],[0.1111111111111111,\"#46039f\"],[0.2222222222222222,\"#7201a8\"],[0.3333333333333333,\"#9c179e\"],[0.4444444444444444,\"#bd3786\"],[0.5555555555555556,\"#d8576b\"],[0.6666666666666666,\"#ed7953\"],[0.7777777777777778,\"#fb9f3a\"],[0.8888888888888888,\"#fdca26\"],[1.0,\"#f0f921\"]]}],\"contourcarpet\":[{\"type\":\"contourcarpet\",\"colorbar\":{\"outlinewidth\":0,\"ticks\":\"\"}}],\"contour\":[{\"type\":\"contour\",\"colorbar\":{\"outlinewidth\":0,\"ticks\":\"\"},\"colorscale\":[[0.0,\"#0d0887\"],[0.1111111111111111,\"#46039f\"],[0.2222222222222222,\"#7201a8\"],[0.3333333333333333,\"#9c179e\"],[0.4444444444444444,\"#bd3786\"],[0.5555555555555556,\"#d8576b\"],[0.6666666666666666,\"#ed7953\"],[0.7777777777777778,\"#fb9f3a\"],[0.8888888888888888,\"#fdca26\"],[1.0,\"#f0f921\"]]}],\"surface\":[{\"type\":\"surface\",\"colorbar\":{\"outlinewidth\":0,\"ticks\":\"\"},\"colorscale\":[[0.0,\"#0d0887\"],[0.1111111111111111,\"#46039f\"],[0.2222222222222222,\"#7201a8\"],[0.3333333333333333,\"#9c179e\"],[0.4444444444444444,\"#bd3786\"],[0.5555555555555556,\"#d8576b\"],[0.6666666666666666,\"#ed7953\"],[0.7777777777777778,\"#fb9f3a\"],[0.8888888888888888,\"#fdca26\"],[1.0,\"#f0f921\"]]}],\"mesh3d\":[{\"type\":\"mesh3d\",\"colorbar\":{\"outlinewidth\":0,\"ticks\":\"\"}}],\"scatter\":[{\"fillpattern\":{\"fillmode\":\"overlay\",\"size\":10,\"solidity\":0.2},\"type\":\"scatter\"}],\"parcoords\":[{\"type\":\"parcoords\",\"line\":{\"colorbar\":{\"outlinewidth\":0,\"ticks\":\"\"}}}],\"scatterpolargl\":[{\"type\":\"scatterpolargl\",\"marker\":{\"colorbar\":{\"outlinewidth\":0,\"ticks\":\"\"}}}],\"bar\":[{\"error_x\":{\"color\":\"#2a3f5f\"},\"error_y\":{\"color\":\"#2a3f5f\"},\"marker\":{\"line\":{\"color\":\"#E5ECF6\",\"width\":0.5},\"pattern\":{\"fillmode\":\"overlay\",\"size\":10,\"solidity\":0.2}},\"type\":\"bar\"}],\"scattergeo\":[{\"type\":\"scattergeo\",\"marker\":{\"colorbar\":{\"outlinewidth\":0,\"ticks\":\"\"}}}],\"scatterpolar\":[{\"type\":\"scatterpolar\",\"marker\":{\"colorbar\":{\"outlinewidth\":0,\"ticks\":\"\"}}}],\"histogram\":[{\"marker\":{\"pattern\":{\"fillmode\":\"overlay\",\"size\":10,\"solidity\":0.2}},\"type\":\"histogram\"}],\"scattergl\":[{\"type\":\"scattergl\",\"marker\":{\"colorbar\":{\"outlinewidth\":0,\"ticks\":\"\"}}}],\"scatter3d\":[{\"type\":\"scatter3d\",\"line\":{\"colorbar\":{\"outlinewidth\":0,\"ticks\":\"\"}},\"marker\":{\"colorbar\":{\"outlinewidth\":0,\"ticks\":\"\"}}}],\"scattermapbox\":[{\"type\":\"scattermapbox\",\"marker\":{\"colorbar\":{\"outlinewidth\":0,\"ticks\":\"\"}}}],\"scatterternary\":[{\"type\":\"scatterternary\",\"marker\":{\"colorbar\":{\"outlinewidth\":0,\"ticks\":\"\"}}}],\"scattercarpet\":[{\"type\":\"scattercarpet\",\"marker\":{\"colorbar\":{\"outlinewidth\":0,\"ticks\":\"\"}}}],\"carpet\":[{\"aaxis\":{\"endlinecolor\":\"#2a3f5f\",\"gridcolor\":\"white\",\"linecolor\":\"white\",\"minorgridcolor\":\"white\",\"startlinecolor\":\"#2a3f5f\"},\"baxis\":{\"endlinecolor\":\"#2a3f5f\",\"gridcolor\":\"white\",\"linecolor\":\"white\",\"minorgridcolor\":\"white\",\"startlinecolor\":\"#2a3f5f\"},\"type\":\"carpet\"}],\"table\":[{\"cells\":{\"fill\":{\"color\":\"#EBF0F8\"},\"line\":{\"color\":\"white\"}},\"header\":{\"fill\":{\"color\":\"#C8D4E3\"},\"line\":{\"color\":\"white\"}},\"type\":\"table\"}],\"barpolar\":[{\"marker\":{\"line\":{\"color\":\"#E5ECF6\",\"width\":0.5},\"pattern\":{\"fillmode\":\"overlay\",\"size\":10,\"solidity\":0.2}},\"type\":\"barpolar\"}],\"pie\":[{\"automargin\":true,\"type\":\"pie\"}]},\"layout\":{\"autotypenumbers\":\"strict\",\"colorway\":[\"#636efa\",\"#EF553B\",\"#00cc96\",\"#ab63fa\",\"#FFA15A\",\"#19d3f3\",\"#FF6692\",\"#B6E880\",\"#FF97FF\",\"#FECB52\"],\"font\":{\"color\":\"#2a3f5f\"},\"hovermode\":\"closest\",\"hoverlabel\":{\"align\":\"left\"},\"paper_bgcolor\":\"white\",\"plot_bgcolor\":\"#E5ECF6\",\"polar\":{\"bgcolor\":\"#E5ECF6\",\"angularaxis\":{\"gridcolor\":\"white\",\"linecolor\":\"white\",\"ticks\":\"\"},\"radialaxis\":{\"gridcolor\":\"white\",\"linecolor\":\"white\",\"ticks\":\"\"}},\"ternary\":{\"bgcolor\":\"#E5ECF6\",\"aaxis\":{\"gridcolor\":\"white\",\"linecolor\":\"white\",\"ticks\":\"\"},\"baxis\":{\"gridcolor\":\"white\",\"linecolor\":\"white\",\"ticks\":\"\"},\"caxis\":{\"gridcolor\":\"white\",\"linecolor\":\"white\",\"ticks\":\"\"}},\"coloraxis\":{\"colorbar\":{\"outlinewidth\":0,\"ticks\":\"\"}},\"colorscale\":{\"sequential\":[[0.0,\"#0d0887\"],[0.1111111111111111,\"#46039f\"],[0.2222222222222222,\"#7201a8\"],[0.3333333333333333,\"#9c179e\"],[0.4444444444444444,\"#bd3786\"],[0.5555555555555556,\"#d8576b\"],[0.6666666666666666,\"#ed7953\"],[0.7777777777777778,\"#fb9f3a\"],[0.8888888888888888,\"#fdca26\"],[1.0,\"#f0f921\"]],\"sequentialminus\":[[0.0,\"#0d0887\"],[0.1111111111111111,\"#46039f\"],[0.2222222222222222,\"#7201a8\"],[0.3333333333333333,\"#9c179e\"],[0.4444444444444444,\"#bd3786\"],[0.5555555555555556,\"#d8576b\"],[0.6666666666666666,\"#ed7953\"],[0.7777777777777778,\"#fb9f3a\"],[0.8888888888888888,\"#fdca26\"],[1.0,\"#f0f921\"]],\"diverging\":[[0,\"#8e0152\"],[0.1,\"#c51b7d\"],[0.2,\"#de77ae\"],[0.3,\"#f1b6da\"],[0.4,\"#fde0ef\"],[0.5,\"#f7f7f7\"],[0.6,\"#e6f5d0\"],[0.7,\"#b8e186\"],[0.8,\"#7fbc41\"],[0.9,\"#4d9221\"],[1,\"#276419\"]]},\"xaxis\":{\"gridcolor\":\"white\",\"linecolor\":\"white\",\"ticks\":\"\",\"title\":{\"standoff\":15},\"zerolinecolor\":\"white\",\"automargin\":true,\"zerolinewidth\":2},\"yaxis\":{\"gridcolor\":\"white\",\"linecolor\":\"white\",\"ticks\":\"\",\"title\":{\"standoff\":15},\"zerolinecolor\":\"white\",\"automargin\":true,\"zerolinewidth\":2},\"scene\":{\"xaxis\":{\"backgroundcolor\":\"#E5ECF6\",\"gridcolor\":\"white\",\"linecolor\":\"white\",\"showbackground\":true,\"ticks\":\"\",\"zerolinecolor\":\"white\",\"gridwidth\":2},\"yaxis\":{\"backgroundcolor\":\"#E5ECF6\",\"gridcolor\":\"white\",\"linecolor\":\"white\",\"showbackground\":true,\"ticks\":\"\",\"zerolinecolor\":\"white\",\"gridwidth\":2},\"zaxis\":{\"backgroundcolor\":\"#E5ECF6\",\"gridcolor\":\"white\",\"linecolor\":\"white\",\"showbackground\":true,\"ticks\":\"\",\"zerolinecolor\":\"white\",\"gridwidth\":2}},\"shapedefaults\":{\"line\":{\"color\":\"#2a3f5f\"}},\"annotationdefaults\":{\"arrowcolor\":\"#2a3f5f\",\"arrowhead\":0,\"arrowwidth\":1},\"geo\":{\"bgcolor\":\"white\",\"landcolor\":\"#E5ECF6\",\"subunitcolor\":\"white\",\"showland\":true,\"showlakes\":true,\"lakecolor\":\"white\"},\"title\":{\"x\":0.05},\"mapbox\":{\"style\":\"light\"}}},\"xaxis\":{\"anchor\":\"y\",\"domain\":[0.0,1.0],\"title\":{\"text\":\"all_motor_vehicles\"}},\"yaxis\":{\"anchor\":\"x\",\"domain\":[0.0,1.0],\"title\":{\"text\":\"count\"}},\"legend\":{\"tracegroupgap\":0},\"title\":{\"text\":\"Havering\"},\"barmode\":\"relative\"},                        {\"responsive\": true}                    ).then(function(){\n",
       "                            \n",
       "var gd = document.getElementById('c40b92db-fab9-4956-ac52-5e41773477a1');\n",
       "var x = new MutationObserver(function (mutations, observer) {{\n",
       "        var display = window.getComputedStyle(gd).display;\n",
       "        if (!display || display === 'none') {{\n",
       "            console.log([gd, 'removed!']);\n",
       "            Plotly.purge(gd);\n",
       "            observer.disconnect();\n",
       "        }}\n",
       "}});\n",
       "\n",
       "// Listen for the removal of the full notebook cells\n",
       "var notebookContainer = gd.closest('#notebook-container');\n",
       "if (notebookContainer) {{\n",
       "    x.observe(notebookContainer, {childList: true});\n",
       "}}\n",
       "\n",
       "// Listen for the clearing of the current output cell\n",
       "var outputEl = gd.closest('.output');\n",
       "if (outputEl) {{\n",
       "    x.observe(outputEl, {childList: true});\n",
       "}}\n",
       "\n",
       "                        })                };                });            </script>        </div>"
      ]
     },
     "metadata": {},
     "output_type": "display_data"
    }
   ],
   "source": [
    "for df in df_chosen_aadt_list:\n",
    "    fig = px.histogram(df, x=\"all_motor_vehicles\", title=df.iloc[0]['local_authority_name'])\n",
    "    \n",
    "    fig.show()"
   ]
  }
 ],
 "metadata": {
  "kernelspec": {
   "display_name": "Python 3",
   "language": "python",
   "name": "python3"
  },
  "language_info": {
   "codemirror_mode": {
    "name": "ipython",
    "version": 3
   },
   "file_extension": ".py",
   "mimetype": "text/x-python",
   "name": "python",
   "nbconvert_exporter": "python",
   "pygments_lexer": "ipython3",
   "version": "3.8.10"
  },
  "orig_nbformat": 4,
  "vscode": {
   "interpreter": {
    "hash": "31f2aee4e71d21fbe5cf8b01ff0e069b9275f58929596ceb00d14d90e3e16cd6"
   }
  }
 },
 "nbformat": 4,
 "nbformat_minor": 2
}
