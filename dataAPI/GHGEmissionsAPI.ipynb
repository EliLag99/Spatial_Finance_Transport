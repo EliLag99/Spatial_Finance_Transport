{
 "cells": [
  {
   "attachments": {},
   "cell_type": "markdown",
   "metadata": {},
   "source": [
    "# GHG Emissions API"
   ]
  },
  {
   "attachments": {},
   "cell_type": "markdown",
   "metadata": {},
   "source": [
    "## Imports"
   ]
  },
  {
   "cell_type": "code",
   "execution_count": 1,
   "metadata": {},
   "outputs": [],
   "source": [
    "import pandas as pd\n",
    "import os"
   ]
  },
  {
   "attachments": {},
   "cell_type": "markdown",
   "metadata": {},
   "source": [
    "## Global Variables"
   ]
  },
  {
   "cell_type": "code",
   "execution_count": 2,
   "metadata": {},
   "outputs": [],
   "source": [
    "GHG_DATA_PATH = 'https://assets.publishing.service.gov.uk/government/uploads/system/uploads/attachment_data/file/1087005/uk-local-authority-ghg-emissions-2020-dataset.csv'\n",
    "LOCAL_AUTHORITY = 'Watford' # First English Local Authority with Motorways data since 2005\n",
    "YEAR = 2018\n",
    "\n",
    "ROOT_DIR_PATH = os.path.abspath('..')\n",
    "\n",
    "GHG_PROCESSED_PATH = os.path.join(ROOT_DIR_PATH, 'data/ground_truth_data/')"
   ]
  },
  {
   "attachments": {},
   "cell_type": "markdown",
   "metadata": {},
   "source": [
    "## General Functions"
   ]
  },
  {
   "attachments": {},
   "cell_type": "markdown",
   "metadata": {},
   "source": [
    "## Data"
   ]
  },
  {
   "cell_type": "code",
   "execution_count": 3,
   "metadata": {},
   "outputs": [],
   "source": [
    "df = pd.read_csv(GHG_DATA_PATH)"
   ]
  },
  {
   "cell_type": "code",
   "execution_count": 4,
   "metadata": {},
   "outputs": [
    {
     "data": {
      "text/plain": "        Country Country Code      Region Region Code Second Tier Authority  \\\n272749  England    E92000001  South East   E12000008           West Sussex   \n273522  England    E92000001  South East   E12000008           West Sussex   \n273521  England    E92000001  South East   E12000008           West Sussex   \n273520  England    E92000001  South East   E12000008           West Sussex   \n273519  England    E92000001  South East   E12000008           West Sussex   \n\n       Local Authority Local Authority Code  Calendar Year  LA GHG Sector  \\\n272749            Adur            E07000223           2005    Agriculture   \n273522            Adur            E07000223           2015  Public Sector   \n273521            Adur            E07000223           2015  Public Sector   \n273520            Adur            E07000223           2015  Public Sector   \n273519            Adur            E07000223           2015  Public Sector   \n\n              LA GHG Sub-sector Greenhouse gas  \\\n272749  Agriculture Electricity            CH4   \n273522    Public Sector 'Other'            CO2   \n273521    Public Sector 'Other'            CH4   \n273520        Public Sector Gas            N2O   \n273519        Public Sector Gas            CO2   \n\n        Territorial emissions (kt CO2e)  \\\n272749                         0.046825   \n273522                         0.015106   \n273521                         0.000084   \n273520                         0.005411   \n273519                         5.373303   \n\n        CO2 emissions within the scope of influence of LAs (kt CO2e)  \\\n272749                                           0.000000              \n273522                                           0.015106              \n273521                                           0.000000              \n273520                                           0.000000              \n273519                                           5.373303              \n\n        Mid-year Population (thousands)  Area (km2)  \n272749                           59.821     43.6479  \n273522                           63.526     43.6479  \n273521                           63.526     43.6479  \n273520                           63.526     43.6479  \n273519                           63.526     43.6479  ",
      "text/html": "<div>\n<style scoped>\n    .dataframe tbody tr th:only-of-type {\n        vertical-align: middle;\n    }\n\n    .dataframe tbody tr th {\n        vertical-align: top;\n    }\n\n    .dataframe thead th {\n        text-align: right;\n    }\n</style>\n<table border=\"1\" class=\"dataframe\">\n  <thead>\n    <tr style=\"text-align: right;\">\n      <th></th>\n      <th>Country</th>\n      <th>Country Code</th>\n      <th>Region</th>\n      <th>Region Code</th>\n      <th>Second Tier Authority</th>\n      <th>Local Authority</th>\n      <th>Local Authority Code</th>\n      <th>Calendar Year</th>\n      <th>LA GHG Sector</th>\n      <th>LA GHG Sub-sector</th>\n      <th>Greenhouse gas</th>\n      <th>Territorial emissions (kt CO2e)</th>\n      <th>CO2 emissions within the scope of influence of LAs (kt CO2e)</th>\n      <th>Mid-year Population (thousands)</th>\n      <th>Area (km2)</th>\n    </tr>\n  </thead>\n  <tbody>\n    <tr>\n      <th>272749</th>\n      <td>England</td>\n      <td>E92000001</td>\n      <td>South East</td>\n      <td>E12000008</td>\n      <td>West Sussex</td>\n      <td>Adur</td>\n      <td>E07000223</td>\n      <td>2005</td>\n      <td>Agriculture</td>\n      <td>Agriculture Electricity</td>\n      <td>CH4</td>\n      <td>0.046825</td>\n      <td>0.000000</td>\n      <td>59.821</td>\n      <td>43.6479</td>\n    </tr>\n    <tr>\n      <th>273522</th>\n      <td>England</td>\n      <td>E92000001</td>\n      <td>South East</td>\n      <td>E12000008</td>\n      <td>West Sussex</td>\n      <td>Adur</td>\n      <td>E07000223</td>\n      <td>2015</td>\n      <td>Public Sector</td>\n      <td>Public Sector 'Other'</td>\n      <td>CO2</td>\n      <td>0.015106</td>\n      <td>0.015106</td>\n      <td>63.526</td>\n      <td>43.6479</td>\n    </tr>\n    <tr>\n      <th>273521</th>\n      <td>England</td>\n      <td>E92000001</td>\n      <td>South East</td>\n      <td>E12000008</td>\n      <td>West Sussex</td>\n      <td>Adur</td>\n      <td>E07000223</td>\n      <td>2015</td>\n      <td>Public Sector</td>\n      <td>Public Sector 'Other'</td>\n      <td>CH4</td>\n      <td>0.000084</td>\n      <td>0.000000</td>\n      <td>63.526</td>\n      <td>43.6479</td>\n    </tr>\n    <tr>\n      <th>273520</th>\n      <td>England</td>\n      <td>E92000001</td>\n      <td>South East</td>\n      <td>E12000008</td>\n      <td>West Sussex</td>\n      <td>Adur</td>\n      <td>E07000223</td>\n      <td>2015</td>\n      <td>Public Sector</td>\n      <td>Public Sector Gas</td>\n      <td>N2O</td>\n      <td>0.005411</td>\n      <td>0.000000</td>\n      <td>63.526</td>\n      <td>43.6479</td>\n    </tr>\n    <tr>\n      <th>273519</th>\n      <td>England</td>\n      <td>E92000001</td>\n      <td>South East</td>\n      <td>E12000008</td>\n      <td>West Sussex</td>\n      <td>Adur</td>\n      <td>E07000223</td>\n      <td>2015</td>\n      <td>Public Sector</td>\n      <td>Public Sector Gas</td>\n      <td>CO2</td>\n      <td>5.373303</td>\n      <td>5.373303</td>\n      <td>63.526</td>\n      <td>43.6479</td>\n    </tr>\n  </tbody>\n</table>\n</div>"
     },
     "execution_count": 4,
     "metadata": {},
     "output_type": "execute_result"
    }
   ],
   "source": [
    "# Only take England\n",
    "df = df.loc[df['Country'] == 'England']\n",
    "df = df.sort_values(by='Local Authority')\n",
    "df.head()"
   ]
  },
  {
   "cell_type": "code",
   "execution_count": 5,
   "metadata": {},
   "outputs": [
    {
     "data": {
      "text/plain": "Country                                                          object\nCountry Code                                                     object\nRegion                                                           object\nRegion Code                                                      object\nSecond Tier Authority                                            object\nLocal Authority                                                  object\nLocal Authority Code                                             object\nCalendar Year                                                     int64\nLA GHG Sector                                                    object\nLA GHG Sub-sector                                                object\nGreenhouse gas                                                   object\nTerritorial emissions (kt CO2e)                                 float64\nCO2 emissions within the scope of influence of LAs (kt CO2e)    float64\nMid-year Population (thousands)                                 float64\nArea (km2)                                                      float64\ndtype: object"
     },
     "execution_count": 5,
     "metadata": {},
     "output_type": "execute_result"
    }
   ],
   "source": [
    "df.dtypes"
   ]
  },
  {
   "cell_type": "code",
   "execution_count": 6,
   "metadata": {},
   "outputs": [
    {
     "data": {
      "text/plain": "        Country Country Code      Region Region Code Second Tier Authority  \\\n273532  England    E92000001  South East   E12000008           West Sussex   \n273531  England    E92000001  South East   E12000008           West Sussex   \n273530  England    E92000001  South East   E12000008           West Sussex   \n273529  England    E92000001  South East   E12000008           West Sussex   \n273528  England    E92000001  South East   E12000008           West Sussex   \n\n       Local Authority Local Authority Code  Calendar Year LA GHG Sector  \\\n273532            Adur            E07000223           2015     Transport   \n273531            Adur            E07000223           2015     Transport   \n273530            Adur            E07000223           2015     Transport   \n273529            Adur            E07000223           2015     Transport   \n273528            Adur            E07000223           2015     Transport   \n\n                   LA GHG Sub-sector Greenhouse gas  \\\n273532  Road Transport (Minor roads)            N2O   \n273531  Road Transport (Minor roads)            CO2   \n273530  Road Transport (Minor roads)            CH4   \n273529      Road Transport (A roads)            N2O   \n273528      Road Transport (A roads)            CO2   \n\n        Territorial emissions (kt CO2e)  \\\n273532                         0.357327   \n273531                        34.421870   \n273530                         0.306636   \n273529                         0.531886   \n273528                        62.567559   \n\n        CO2 emissions within the scope of influence of LAs (kt CO2e)  \\\n273532                                           0.000000              \n273531                                          34.421870              \n273530                                           0.000000              \n273529                                           0.000000              \n273528                                          62.567559              \n\n        Mid-year Population (thousands)  Area (km2)  \n273532                           63.526     43.6479  \n273531                           63.526     43.6479  \n273530                           63.526     43.6479  \n273529                           63.526     43.6479  \n273528                           63.526     43.6479  ",
      "text/html": "<div>\n<style scoped>\n    .dataframe tbody tr th:only-of-type {\n        vertical-align: middle;\n    }\n\n    .dataframe tbody tr th {\n        vertical-align: top;\n    }\n\n    .dataframe thead th {\n        text-align: right;\n    }\n</style>\n<table border=\"1\" class=\"dataframe\">\n  <thead>\n    <tr style=\"text-align: right;\">\n      <th></th>\n      <th>Country</th>\n      <th>Country Code</th>\n      <th>Region</th>\n      <th>Region Code</th>\n      <th>Second Tier Authority</th>\n      <th>Local Authority</th>\n      <th>Local Authority Code</th>\n      <th>Calendar Year</th>\n      <th>LA GHG Sector</th>\n      <th>LA GHG Sub-sector</th>\n      <th>Greenhouse gas</th>\n      <th>Territorial emissions (kt CO2e)</th>\n      <th>CO2 emissions within the scope of influence of LAs (kt CO2e)</th>\n      <th>Mid-year Population (thousands)</th>\n      <th>Area (km2)</th>\n    </tr>\n  </thead>\n  <tbody>\n    <tr>\n      <th>273532</th>\n      <td>England</td>\n      <td>E92000001</td>\n      <td>South East</td>\n      <td>E12000008</td>\n      <td>West Sussex</td>\n      <td>Adur</td>\n      <td>E07000223</td>\n      <td>2015</td>\n      <td>Transport</td>\n      <td>Road Transport (Minor roads)</td>\n      <td>N2O</td>\n      <td>0.357327</td>\n      <td>0.000000</td>\n      <td>63.526</td>\n      <td>43.6479</td>\n    </tr>\n    <tr>\n      <th>273531</th>\n      <td>England</td>\n      <td>E92000001</td>\n      <td>South East</td>\n      <td>E12000008</td>\n      <td>West Sussex</td>\n      <td>Adur</td>\n      <td>E07000223</td>\n      <td>2015</td>\n      <td>Transport</td>\n      <td>Road Transport (Minor roads)</td>\n      <td>CO2</td>\n      <td>34.421870</td>\n      <td>34.421870</td>\n      <td>63.526</td>\n      <td>43.6479</td>\n    </tr>\n    <tr>\n      <th>273530</th>\n      <td>England</td>\n      <td>E92000001</td>\n      <td>South East</td>\n      <td>E12000008</td>\n      <td>West Sussex</td>\n      <td>Adur</td>\n      <td>E07000223</td>\n      <td>2015</td>\n      <td>Transport</td>\n      <td>Road Transport (Minor roads)</td>\n      <td>CH4</td>\n      <td>0.306636</td>\n      <td>0.000000</td>\n      <td>63.526</td>\n      <td>43.6479</td>\n    </tr>\n    <tr>\n      <th>273529</th>\n      <td>England</td>\n      <td>E92000001</td>\n      <td>South East</td>\n      <td>E12000008</td>\n      <td>West Sussex</td>\n      <td>Adur</td>\n      <td>E07000223</td>\n      <td>2015</td>\n      <td>Transport</td>\n      <td>Road Transport (A roads)</td>\n      <td>N2O</td>\n      <td>0.531886</td>\n      <td>0.000000</td>\n      <td>63.526</td>\n      <td>43.6479</td>\n    </tr>\n    <tr>\n      <th>273528</th>\n      <td>England</td>\n      <td>E92000001</td>\n      <td>South East</td>\n      <td>E12000008</td>\n      <td>West Sussex</td>\n      <td>Adur</td>\n      <td>E07000223</td>\n      <td>2015</td>\n      <td>Transport</td>\n      <td>Road Transport (A roads)</td>\n      <td>CO2</td>\n      <td>62.567559</td>\n      <td>62.567559</td>\n      <td>63.526</td>\n      <td>43.6479</td>\n    </tr>\n  </tbody>\n</table>\n</div>"
     },
     "execution_count": 6,
     "metadata": {},
     "output_type": "execute_result"
    }
   ],
   "source": [
    "# Filter by road transport\n",
    "df = df.loc[df['LA GHG Sector'] == \"Transport\"]\n",
    "df = df[df['LA GHG Sub-sector'].str.contains(\"Road\")]\n",
    "df.head()"
   ]
  },
  {
   "attachments": {},
   "cell_type": "markdown",
   "metadata": {},
   "source": [
    "## Analyse df"
   ]
  },
  {
   "cell_type": "code",
   "execution_count": 7,
   "metadata": {},
   "outputs": [
    {
     "name": "stdout",
     "output_type": "stream",
     "text": [
      "GHG's: ['N2O' 'CO2' 'CH4']\n",
      "Road transport types: ['Road Transport (Minor roads)' 'Road Transport (A roads)'\n",
      " 'Road Transport (Motorways)']\n"
     ]
    }
   ],
   "source": [
    "print(\"GHG's: {}\".format(df['Greenhouse gas'].unique()))\n",
    "print(\"Road transport types: {}\".format(df['LA GHG Sub-sector'].unique()))"
   ]
  },
  {
   "attachments": {},
   "cell_type": "markdown",
   "metadata": {},
   "source": [
    "## Motorways"
   ]
  },
  {
   "cell_type": "code",
   "execution_count": 8,
   "metadata": {},
   "outputs": [
    {
     "data": {
      "text/plain": "       Country Country Code         Region Region Code Second Tier Authority  \\\n33803  England    E92000001  East Midlands   E12000004       Nottinghamshire   \n33801  England    E92000001  East Midlands   E12000004       Nottinghamshire   \n33802  England    E92000001  East Midlands   E12000004       Nottinghamshire   \n33724  England    E92000001  East Midlands   E12000004       Nottinghamshire   \n33722  England    E92000001  East Midlands   E12000004       Nottinghamshire   \n\n      Local Authority Local Authority Code  Calendar Year LA GHG Sector  \\\n33803        Ashfield            E07000170           2008     Transport   \n33801        Ashfield            E07000170           2008     Transport   \n33802        Ashfield            E07000170           2008     Transport   \n33724        Ashfield            E07000170           2007     Transport   \n33722        Ashfield            E07000170           2007     Transport   \n\n                LA GHG Sub-sector Greenhouse gas  \\\n33803  Road Transport (Motorways)            N2O   \n33801  Road Transport (Motorways)            CH4   \n33802  Road Transport (Motorways)            CO2   \n33724  Road Transport (Motorways)            N2O   \n33722  Road Transport (Motorways)            CH4   \n\n       Territorial emissions (kt CO2e)  \\\n33803                         0.371795   \n33801                         0.243297   \n33802                        66.180332   \n33724                         0.444010   \n33722                         0.316472   \n\n       CO2 emissions within the scope of influence of LAs (kt CO2e)  \\\n33803                                                0.0              \n33801                                                0.0              \n33802                                                0.0              \n33724                                                0.0              \n33722                                                0.0              \n\n       Mid-year Population (thousands)  Area (km2)  \n33803                          116.971    109.5581  \n33801                          116.971    109.5581  \n33802                          116.971    109.5581  \n33724                          116.301    109.5581  \n33722                          116.301    109.5581  ",
      "text/html": "<div>\n<style scoped>\n    .dataframe tbody tr th:only-of-type {\n        vertical-align: middle;\n    }\n\n    .dataframe tbody tr th {\n        vertical-align: top;\n    }\n\n    .dataframe thead th {\n        text-align: right;\n    }\n</style>\n<table border=\"1\" class=\"dataframe\">\n  <thead>\n    <tr style=\"text-align: right;\">\n      <th></th>\n      <th>Country</th>\n      <th>Country Code</th>\n      <th>Region</th>\n      <th>Region Code</th>\n      <th>Second Tier Authority</th>\n      <th>Local Authority</th>\n      <th>Local Authority Code</th>\n      <th>Calendar Year</th>\n      <th>LA GHG Sector</th>\n      <th>LA GHG Sub-sector</th>\n      <th>Greenhouse gas</th>\n      <th>Territorial emissions (kt CO2e)</th>\n      <th>CO2 emissions within the scope of influence of LAs (kt CO2e)</th>\n      <th>Mid-year Population (thousands)</th>\n      <th>Area (km2)</th>\n    </tr>\n  </thead>\n  <tbody>\n    <tr>\n      <th>33803</th>\n      <td>England</td>\n      <td>E92000001</td>\n      <td>East Midlands</td>\n      <td>E12000004</td>\n      <td>Nottinghamshire</td>\n      <td>Ashfield</td>\n      <td>E07000170</td>\n      <td>2008</td>\n      <td>Transport</td>\n      <td>Road Transport (Motorways)</td>\n      <td>N2O</td>\n      <td>0.371795</td>\n      <td>0.0</td>\n      <td>116.971</td>\n      <td>109.5581</td>\n    </tr>\n    <tr>\n      <th>33801</th>\n      <td>England</td>\n      <td>E92000001</td>\n      <td>East Midlands</td>\n      <td>E12000004</td>\n      <td>Nottinghamshire</td>\n      <td>Ashfield</td>\n      <td>E07000170</td>\n      <td>2008</td>\n      <td>Transport</td>\n      <td>Road Transport (Motorways)</td>\n      <td>CH4</td>\n      <td>0.243297</td>\n      <td>0.0</td>\n      <td>116.971</td>\n      <td>109.5581</td>\n    </tr>\n    <tr>\n      <th>33802</th>\n      <td>England</td>\n      <td>E92000001</td>\n      <td>East Midlands</td>\n      <td>E12000004</td>\n      <td>Nottinghamshire</td>\n      <td>Ashfield</td>\n      <td>E07000170</td>\n      <td>2008</td>\n      <td>Transport</td>\n      <td>Road Transport (Motorways)</td>\n      <td>CO2</td>\n      <td>66.180332</td>\n      <td>0.0</td>\n      <td>116.971</td>\n      <td>109.5581</td>\n    </tr>\n    <tr>\n      <th>33724</th>\n      <td>England</td>\n      <td>E92000001</td>\n      <td>East Midlands</td>\n      <td>E12000004</td>\n      <td>Nottinghamshire</td>\n      <td>Ashfield</td>\n      <td>E07000170</td>\n      <td>2007</td>\n      <td>Transport</td>\n      <td>Road Transport (Motorways)</td>\n      <td>N2O</td>\n      <td>0.444010</td>\n      <td>0.0</td>\n      <td>116.301</td>\n      <td>109.5581</td>\n    </tr>\n    <tr>\n      <th>33722</th>\n      <td>England</td>\n      <td>E92000001</td>\n      <td>East Midlands</td>\n      <td>E12000004</td>\n      <td>Nottinghamshire</td>\n      <td>Ashfield</td>\n      <td>E07000170</td>\n      <td>2007</td>\n      <td>Transport</td>\n      <td>Road Transport (Motorways)</td>\n      <td>CH4</td>\n      <td>0.316472</td>\n      <td>0.0</td>\n      <td>116.301</td>\n      <td>109.5581</td>\n    </tr>\n  </tbody>\n</table>\n</div>"
     },
     "execution_count": 8,
     "metadata": {},
     "output_type": "execute_result"
    }
   ],
   "source": [
    "df_motorway = df.loc[df['LA GHG Sub-sector'] == \"Road Transport (Motorways)\"]\n",
    "df_motorway.head()"
   ]
  },
  {
   "attachments": {},
   "cell_type": "markdown",
   "metadata": {},
   "source": [
    "### Total GHG Emissions by Local Authority and Year"
   ]
  },
  {
   "cell_type": "code",
   "execution_count": 9,
   "metadata": {},
   "outputs": [
    {
     "data": {
      "text/plain": "  Local Authority  Calendar Year  Annual Territorial emissions (kt CO2e)\n0        Ashfield           2005                               74.488642\n1        Ashfield           2006                               78.378314\n2        Ashfield           2007                               77.875712\n3        Ashfield           2008                               66.795423\n4        Ashfield           2009                               65.034277",
      "text/html": "<div>\n<style scoped>\n    .dataframe tbody tr th:only-of-type {\n        vertical-align: middle;\n    }\n\n    .dataframe tbody tr th {\n        vertical-align: top;\n    }\n\n    .dataframe thead th {\n        text-align: right;\n    }\n</style>\n<table border=\"1\" class=\"dataframe\">\n  <thead>\n    <tr style=\"text-align: right;\">\n      <th></th>\n      <th>Local Authority</th>\n      <th>Calendar Year</th>\n      <th>Annual Territorial emissions (kt CO2e)</th>\n    </tr>\n  </thead>\n  <tbody>\n    <tr>\n      <th>0</th>\n      <td>Ashfield</td>\n      <td>2005</td>\n      <td>74.488642</td>\n    </tr>\n    <tr>\n      <th>1</th>\n      <td>Ashfield</td>\n      <td>2006</td>\n      <td>78.378314</td>\n    </tr>\n    <tr>\n      <th>2</th>\n      <td>Ashfield</td>\n      <td>2007</td>\n      <td>77.875712</td>\n    </tr>\n    <tr>\n      <th>3</th>\n      <td>Ashfield</td>\n      <td>2008</td>\n      <td>66.795423</td>\n    </tr>\n    <tr>\n      <th>4</th>\n      <td>Ashfield</td>\n      <td>2009</td>\n      <td>65.034277</td>\n    </tr>\n  </tbody>\n</table>\n</div>"
     },
     "execution_count": 9,
     "metadata": {},
     "output_type": "execute_result"
    }
   ],
   "source": [
    "df_motorway = pd.DataFrame(df_motorway.groupby(by=['Local Authority', 'Calendar Year'])['Territorial emissions (kt CO2e)'].sum())\n",
    "df_motorway = df_motorway.reset_index(level=['Local Authority', 'Calendar Year'])\n",
    "df_motorway = df_motorway.rename(columns={'Territorial emissions (kt CO2e)': 'Annual Territorial emissions (kt CO2e)'})\n",
    "df_motorway.head()"
   ]
  },
  {
   "attachments": {},
   "cell_type": "markdown",
   "metadata": {},
   "source": [
    "### Filter by Local Authority and Year"
   ]
  },
  {
   "cell_type": "code",
   "execution_count": 10,
   "metadata": {},
   "outputs": [
    {
     "data": {
      "text/plain": "     Local Authority  Calendar Year  Annual Territorial emissions (kt CO2e)\n2597         Watford           2018                                 9.31911",
      "text/html": "<div>\n<style scoped>\n    .dataframe tbody tr th:only-of-type {\n        vertical-align: middle;\n    }\n\n    .dataframe tbody tr th {\n        vertical-align: top;\n    }\n\n    .dataframe thead th {\n        text-align: right;\n    }\n</style>\n<table border=\"1\" class=\"dataframe\">\n  <thead>\n    <tr style=\"text-align: right;\">\n      <th></th>\n      <th>Local Authority</th>\n      <th>Calendar Year</th>\n      <th>Annual Territorial emissions (kt CO2e)</th>\n    </tr>\n  </thead>\n  <tbody>\n    <tr>\n      <th>2597</th>\n      <td>Watford</td>\n      <td>2018</td>\n      <td>9.31911</td>\n    </tr>\n  </tbody>\n</table>\n</div>"
     },
     "execution_count": 10,
     "metadata": {},
     "output_type": "execute_result"
    }
   ],
   "source": [
    "# Use Global Variables defined\n",
    "df_motorway_filter = df_motorway.loc[df_motorway['Local Authority'] == LOCAL_AUTHORITY]\n",
    "df_motorway_filter = df_motorway_filter.loc[df_motorway_filter['Calendar Year'] == YEAR]\n",
    "df_motorway_filter"
   ]
  },
  {
   "attachments": {},
   "cell_type": "markdown",
   "metadata": {},
   "source": [
    "## All Roads"
   ]
  },
  {
   "attachments": {},
   "cell_type": "markdown",
   "metadata": {},
   "source": [
    "### Total GHG Emissions by Local Authority and Year"
   ]
  },
  {
   "cell_type": "code",
   "execution_count": 11,
   "metadata": {},
   "outputs": [
    {
     "data": {
      "text/plain": "  Local Authority  Calendar Year  Annual Territorial emissions (kt CO2e)\n0            Adur           2005                              125.042511\n1            Adur           2006                              118.014936\n2            Adur           2007                              115.096206\n3            Adur           2008                              107.019836\n4            Adur           2009                              104.521629",
      "text/html": "<div>\n<style scoped>\n    .dataframe tbody tr th:only-of-type {\n        vertical-align: middle;\n    }\n\n    .dataframe tbody tr th {\n        vertical-align: top;\n    }\n\n    .dataframe thead th {\n        text-align: right;\n    }\n</style>\n<table border=\"1\" class=\"dataframe\">\n  <thead>\n    <tr style=\"text-align: right;\">\n      <th></th>\n      <th>Local Authority</th>\n      <th>Calendar Year</th>\n      <th>Annual Territorial emissions (kt CO2e)</th>\n    </tr>\n  </thead>\n  <tbody>\n    <tr>\n      <th>0</th>\n      <td>Adur</td>\n      <td>2005</td>\n      <td>125.042511</td>\n    </tr>\n    <tr>\n      <th>1</th>\n      <td>Adur</td>\n      <td>2006</td>\n      <td>118.014936</td>\n    </tr>\n    <tr>\n      <th>2</th>\n      <td>Adur</td>\n      <td>2007</td>\n      <td>115.096206</td>\n    </tr>\n    <tr>\n      <th>3</th>\n      <td>Adur</td>\n      <td>2008</td>\n      <td>107.019836</td>\n    </tr>\n    <tr>\n      <th>4</th>\n      <td>Adur</td>\n      <td>2009</td>\n      <td>104.521629</td>\n    </tr>\n  </tbody>\n</table>\n</div>"
     },
     "execution_count": 11,
     "metadata": {},
     "output_type": "execute_result"
    }
   ],
   "source": [
    "df_road = pd.DataFrame(df.groupby(by=['Local Authority', 'Calendar Year'])['Territorial emissions (kt CO2e)'].sum())\n",
    "df_road = df_road.reset_index(level=['Local Authority', 'Calendar Year'])\n",
    "df_road = df_road.rename(columns={'Territorial emissions (kt CO2e)': 'Annual Territorial emissions (kt CO2e)'})\n",
    "df_road.head()"
   ]
  },
  {
   "attachments": {},
   "cell_type": "markdown",
   "metadata": {},
   "source": [
    "### Filter by Local Authority and Year"
   ]
  },
  {
   "cell_type": "code",
   "execution_count": 12,
   "metadata": {},
   "outputs": [
    {
     "data": {
      "text/plain": "     Local Authority  Calendar Year  Annual Territorial emissions (kt CO2e)\n4541         Watford           2018                              111.705683",
      "text/html": "<div>\n<style scoped>\n    .dataframe tbody tr th:only-of-type {\n        vertical-align: middle;\n    }\n\n    .dataframe tbody tr th {\n        vertical-align: top;\n    }\n\n    .dataframe thead th {\n        text-align: right;\n    }\n</style>\n<table border=\"1\" class=\"dataframe\">\n  <thead>\n    <tr style=\"text-align: right;\">\n      <th></th>\n      <th>Local Authority</th>\n      <th>Calendar Year</th>\n      <th>Annual Territorial emissions (kt CO2e)</th>\n    </tr>\n  </thead>\n  <tbody>\n    <tr>\n      <th>4541</th>\n      <td>Watford</td>\n      <td>2018</td>\n      <td>111.705683</td>\n    </tr>\n  </tbody>\n</table>\n</div>"
     },
     "execution_count": 12,
     "metadata": {},
     "output_type": "execute_result"
    }
   ],
   "source": [
    "# Use Global Variables defined\n",
    "df_road_filter = df_road.loc[df_road['Local Authority'] == LOCAL_AUTHORITY]\n",
    "df_road_filter = df_road_filter.loc[df_road_filter['Calendar Year'] == YEAR]\n",
    "df_road_filter"
   ]
  },
  {
   "cell_type": "code",
   "execution_count": 13,
   "metadata": {},
   "outputs": [
    {
     "data": {
      "text/plain": "       Country Country Code           Region Region Code  \\\n77828  England    E92000001  East of England   E12000006   \n77829  England    E92000001  East of England   E12000006   \n77830  England    E92000001  East of England   E12000006   \n77831  England    E92000001  East of England   E12000006   \n77832  England    E92000001  East of England   E12000006   \n\n      Second Tier Authority Local Authority Local Authority Code  \\\n77828         Hertfordshire         Watford            E07000103   \n77829         Hertfordshire         Watford            E07000103   \n77830         Hertfordshire         Watford            E07000103   \n77831         Hertfordshire         Watford            E07000103   \n77832         Hertfordshire         Watford            E07000103   \n\n       Calendar Year LA GHG Sector             LA GHG Sub-sector  \\\n77828           2018     Transport      Road Transport (A roads)   \n77829           2018     Transport      Road Transport (A roads)   \n77830           2018     Transport      Road Transport (A roads)   \n77831           2018     Transport  Road Transport (Minor roads)   \n77832           2018     Transport  Road Transport (Minor roads)   \n\n      Greenhouse gas  Territorial emissions (kt CO2e)  \\\n77828            CH4                         0.498072   \n77829            CO2                        52.113468   \n77830            N2O                         0.529611   \n77831            CH4                         0.496507   \n77832            CO2                        48.231740   \n\n       CO2 emissions within the scope of influence of LAs (kt CO2e)  \\\n77828                                           0.000000              \n77829                                          52.113468              \n77830                                           0.000000              \n77831                                           0.000000              \n77832                                          48.231740              \n\n       Mid-year Population (thousands)  Area (km2)  \n77828                           96.767     21.4305  \n77829                           96.767     21.4305  \n77830                           96.767     21.4305  \n77831                           96.767     21.4305  \n77832                           96.767     21.4305  ",
      "text/html": "<div>\n<style scoped>\n    .dataframe tbody tr th:only-of-type {\n        vertical-align: middle;\n    }\n\n    .dataframe tbody tr th {\n        vertical-align: top;\n    }\n\n    .dataframe thead th {\n        text-align: right;\n    }\n</style>\n<table border=\"1\" class=\"dataframe\">\n  <thead>\n    <tr style=\"text-align: right;\">\n      <th></th>\n      <th>Country</th>\n      <th>Country Code</th>\n      <th>Region</th>\n      <th>Region Code</th>\n      <th>Second Tier Authority</th>\n      <th>Local Authority</th>\n      <th>Local Authority Code</th>\n      <th>Calendar Year</th>\n      <th>LA GHG Sector</th>\n      <th>LA GHG Sub-sector</th>\n      <th>Greenhouse gas</th>\n      <th>Territorial emissions (kt CO2e)</th>\n      <th>CO2 emissions within the scope of influence of LAs (kt CO2e)</th>\n      <th>Mid-year Population (thousands)</th>\n      <th>Area (km2)</th>\n    </tr>\n  </thead>\n  <tbody>\n    <tr>\n      <th>77828</th>\n      <td>England</td>\n      <td>E92000001</td>\n      <td>East of England</td>\n      <td>E12000006</td>\n      <td>Hertfordshire</td>\n      <td>Watford</td>\n      <td>E07000103</td>\n      <td>2018</td>\n      <td>Transport</td>\n      <td>Road Transport (A roads)</td>\n      <td>CH4</td>\n      <td>0.498072</td>\n      <td>0.000000</td>\n      <td>96.767</td>\n      <td>21.4305</td>\n    </tr>\n    <tr>\n      <th>77829</th>\n      <td>England</td>\n      <td>E92000001</td>\n      <td>East of England</td>\n      <td>E12000006</td>\n      <td>Hertfordshire</td>\n      <td>Watford</td>\n      <td>E07000103</td>\n      <td>2018</td>\n      <td>Transport</td>\n      <td>Road Transport (A roads)</td>\n      <td>CO2</td>\n      <td>52.113468</td>\n      <td>52.113468</td>\n      <td>96.767</td>\n      <td>21.4305</td>\n    </tr>\n    <tr>\n      <th>77830</th>\n      <td>England</td>\n      <td>E92000001</td>\n      <td>East of England</td>\n      <td>E12000006</td>\n      <td>Hertfordshire</td>\n      <td>Watford</td>\n      <td>E07000103</td>\n      <td>2018</td>\n      <td>Transport</td>\n      <td>Road Transport (A roads)</td>\n      <td>N2O</td>\n      <td>0.529611</td>\n      <td>0.000000</td>\n      <td>96.767</td>\n      <td>21.4305</td>\n    </tr>\n    <tr>\n      <th>77831</th>\n      <td>England</td>\n      <td>E92000001</td>\n      <td>East of England</td>\n      <td>E12000006</td>\n      <td>Hertfordshire</td>\n      <td>Watford</td>\n      <td>E07000103</td>\n      <td>2018</td>\n      <td>Transport</td>\n      <td>Road Transport (Minor roads)</td>\n      <td>CH4</td>\n      <td>0.496507</td>\n      <td>0.000000</td>\n      <td>96.767</td>\n      <td>21.4305</td>\n    </tr>\n    <tr>\n      <th>77832</th>\n      <td>England</td>\n      <td>E92000001</td>\n      <td>East of England</td>\n      <td>E12000006</td>\n      <td>Hertfordshire</td>\n      <td>Watford</td>\n      <td>E07000103</td>\n      <td>2018</td>\n      <td>Transport</td>\n      <td>Road Transport (Minor roads)</td>\n      <td>CO2</td>\n      <td>48.231740</td>\n      <td>48.231740</td>\n      <td>96.767</td>\n      <td>21.4305</td>\n    </tr>\n  </tbody>\n</table>\n</div>"
     },
     "execution_count": 13,
     "metadata": {},
     "output_type": "execute_result"
    }
   ],
   "source": [
    "# Compare to individual GHG emissions\n",
    "df_filter = df.loc[df['Local Authority'] == LOCAL_AUTHORITY]\n",
    "df_filter = df_filter.loc[df_filter['Calendar Year'] == YEAR]\n",
    "df_filter.head()"
   ]
  },
  {
   "cell_type": "code",
   "execution_count": 14,
   "metadata": {},
   "outputs": [
    {
     "data": {
      "text/plain": "111.705682557"
     },
     "execution_count": 14,
     "metadata": {},
     "output_type": "execute_result"
    }
   ],
   "source": [
    "df_filter['Territorial emissions (kt CO2e)'].sum() # Should be same as calculated value"
   ]
  },
  {
   "attachments": {},
   "cell_type": "markdown",
   "metadata": {},
   "source": [
    "## Saving Data"
   ]
  },
  {
   "cell_type": "code",
   "execution_count": null,
   "outputs": [],
   "source": [],
   "metadata": {
    "collapsed": false
   }
  },
  {
   "attachments": {},
   "cell_type": "markdown",
   "metadata": {},
   "source": [
    "## Constraints on Local Authorities for selection\n",
    "\n",
    "\n",
    "Minimise LA km$^2$ & Simplifies LA selection and increases likelihood of matching other constraints \n",
    "\n",
    "\n",
    "Avoid big cities and towns & Complicates data pre-processing and evaluation \n",
    "\n",
    "\n",
    "Only one motorway through LA & The pipeline is only considering motorway GHG Emissions \n",
    "\n",
    "\n",
    "Sufficient traffic count data from traffic site on motorway (above a threshold) & ANN AADT training \n",
    "\n",
    "\n",
    "Bidirectional traffic count site data & The pipeline considers both road directions separately \n",
    "\n",
    "\n",
    "Traffic count site not by a junction & Number of vehicles between 0-521-660cm \n",
    "\n",
    "\n",
    "Live Speed data from traffic count site available & Evaluation of live speed estimation method "
   ]
  },
  {
   "cell_type": "code",
   "execution_count": 15,
   "metadata": {},
   "outputs": [
    {
     "data": {
      "text/plain": "        Country Country Code  Region Region Code Second Tier Authority  \\\n107492  England    E92000001  London   E12000007        City of London   \n107490  England    E92000001  London   E12000007        City of London   \n107491  England    E92000001  London   E12000007        City of London   \n107048  England    E92000001  London   E12000007        City of London   \n107493  England    E92000001  London   E12000007        City of London   \n\n       Local Authority Local Authority Code  Calendar Year LA GHG Sector  \\\n107492  City of London            E09000001           2017     Transport   \n107490  City of London            E09000001           2017     Transport   \n107491  City of London            E09000001           2017     Transport   \n107048  City of London            E09000001           2011     Transport   \n107493  City of London            E09000001           2017     Transport   \n\n                   LA GHG Sub-sector Greenhouse gas  \\\n107492  Road Transport (Minor roads)            CO2   \n107490      Road Transport (A roads)            N2O   \n107491  Road Transport (Minor roads)            CH4   \n107048  Road Transport (Minor roads)            CO2   \n107493  Road Transport (Minor roads)            N2O   \n\n        Territorial emissions (kt CO2e)  \\\n107492                        24.677103   \n107490                         0.457240   \n107491                         0.234460   \n107048                        23.330182   \n107493                         0.282560   \n\n        CO2 emissions within the scope of influence of LAs (kt CO2e)  \\\n107492                                          24.677103              \n107490                                           0.000000              \n107491                                           0.000000              \n107048                                          23.330182              \n107493                                           0.000000              \n\n        Mid-year Population (thousands)  Area (km2)  \n107492                            7.654      3.1496  \n107490                            7.654      3.1496  \n107491                            7.654      3.1496  \n107048                            7.412      3.1496  \n107493                            7.654      3.1496  ",
      "text/html": "<div>\n<style scoped>\n    .dataframe tbody tr th:only-of-type {\n        vertical-align: middle;\n    }\n\n    .dataframe tbody tr th {\n        vertical-align: top;\n    }\n\n    .dataframe thead th {\n        text-align: right;\n    }\n</style>\n<table border=\"1\" class=\"dataframe\">\n  <thead>\n    <tr style=\"text-align: right;\">\n      <th></th>\n      <th>Country</th>\n      <th>Country Code</th>\n      <th>Region</th>\n      <th>Region Code</th>\n      <th>Second Tier Authority</th>\n      <th>Local Authority</th>\n      <th>Local Authority Code</th>\n      <th>Calendar Year</th>\n      <th>LA GHG Sector</th>\n      <th>LA GHG Sub-sector</th>\n      <th>Greenhouse gas</th>\n      <th>Territorial emissions (kt CO2e)</th>\n      <th>CO2 emissions within the scope of influence of LAs (kt CO2e)</th>\n      <th>Mid-year Population (thousands)</th>\n      <th>Area (km2)</th>\n    </tr>\n  </thead>\n  <tbody>\n    <tr>\n      <th>107492</th>\n      <td>England</td>\n      <td>E92000001</td>\n      <td>London</td>\n      <td>E12000007</td>\n      <td>City of London</td>\n      <td>City of London</td>\n      <td>E09000001</td>\n      <td>2017</td>\n      <td>Transport</td>\n      <td>Road Transport (Minor roads)</td>\n      <td>CO2</td>\n      <td>24.677103</td>\n      <td>24.677103</td>\n      <td>7.654</td>\n      <td>3.1496</td>\n    </tr>\n    <tr>\n      <th>107490</th>\n      <td>England</td>\n      <td>E92000001</td>\n      <td>London</td>\n      <td>E12000007</td>\n      <td>City of London</td>\n      <td>City of London</td>\n      <td>E09000001</td>\n      <td>2017</td>\n      <td>Transport</td>\n      <td>Road Transport (A roads)</td>\n      <td>N2O</td>\n      <td>0.457240</td>\n      <td>0.000000</td>\n      <td>7.654</td>\n      <td>3.1496</td>\n    </tr>\n    <tr>\n      <th>107491</th>\n      <td>England</td>\n      <td>E92000001</td>\n      <td>London</td>\n      <td>E12000007</td>\n      <td>City of London</td>\n      <td>City of London</td>\n      <td>E09000001</td>\n      <td>2017</td>\n      <td>Transport</td>\n      <td>Road Transport (Minor roads)</td>\n      <td>CH4</td>\n      <td>0.234460</td>\n      <td>0.000000</td>\n      <td>7.654</td>\n      <td>3.1496</td>\n    </tr>\n    <tr>\n      <th>107048</th>\n      <td>England</td>\n      <td>E92000001</td>\n      <td>London</td>\n      <td>E12000007</td>\n      <td>City of London</td>\n      <td>City of London</td>\n      <td>E09000001</td>\n      <td>2011</td>\n      <td>Transport</td>\n      <td>Road Transport (Minor roads)</td>\n      <td>CO2</td>\n      <td>23.330182</td>\n      <td>23.330182</td>\n      <td>7.412</td>\n      <td>3.1496</td>\n    </tr>\n    <tr>\n      <th>107493</th>\n      <td>England</td>\n      <td>E92000001</td>\n      <td>London</td>\n      <td>E12000007</td>\n      <td>City of London</td>\n      <td>City of London</td>\n      <td>E09000001</td>\n      <td>2017</td>\n      <td>Transport</td>\n      <td>Road Transport (Minor roads)</td>\n      <td>N2O</td>\n      <td>0.282560</td>\n      <td>0.000000</td>\n      <td>7.654</td>\n      <td>3.1496</td>\n    </tr>\n  </tbody>\n</table>\n</div>"
     },
     "execution_count": 15,
     "metadata": {},
     "output_type": "execute_result"
    }
   ],
   "source": [
    "# Save Motorways and all roads seperately\n",
    "df_smallest_areas = df.sort_values(by='Area (km2)')\n",
    "df_smallest_areas.head()"
   ]
  },
  {
   "cell_type": "code",
   "execution_count": 16,
   "metadata": {},
   "outputs": [
    {
     "data": {
      "text/plain": "       Country Country Code           Region Region Code  \\\n77602  England    E92000001  East of England   E12000006   \n77599  England    E92000001  East of England   E12000006   \n77675  England    E92000001  East of England   E12000006   \n77674  England    E92000001  East of England   E12000006   \n77673  England    E92000001  East of England   E12000006   \n\n      Second Tier Authority Local Authority Local Authority Code  \\\n77602         Hertfordshire         Watford            E07000103   \n77599         Hertfordshire         Watford            E07000103   \n77675         Hertfordshire         Watford            E07000103   \n77674         Hertfordshire         Watford            E07000103   \n77673         Hertfordshire         Watford            E07000103   \n\n       Calendar Year LA GHG Sector             LA GHG Sub-sector  \\\n77602           2015     Transport    Road Transport (Motorways)   \n77599           2015     Transport  Road Transport (Minor roads)   \n77675           2016     Transport  Road Transport (Minor roads)   \n77674           2016     Transport  Road Transport (Minor roads)   \n77673           2016     Transport      Road Transport (A roads)   \n\n      Greenhouse gas  Territorial emissions (kt CO2e)  \\\n77602            N2O                         0.062223   \n77599            N2O                         0.492324   \n77675            CO2                        48.003237   \n77674            CH4                         0.428091   \n77673            N2O                         0.595170   \n\n       CO2 emissions within the scope of influence of LAs (kt CO2e)  \\\n77602                                           0.000000              \n77599                                           0.000000              \n77675                                          48.003237              \n77674                                           0.000000              \n77673                                           0.000000              \n\n       Mid-year Population (thousands)  Area (km2)  \n77602                           96.348     21.4305  \n77599                           96.348     21.4305  \n77675                           96.577     21.4305  \n77674                           96.577     21.4305  \n77673                           96.577     21.4305  ",
      "text/html": "<div>\n<style scoped>\n    .dataframe tbody tr th:only-of-type {\n        vertical-align: middle;\n    }\n\n    .dataframe tbody tr th {\n        vertical-align: top;\n    }\n\n    .dataframe thead th {\n        text-align: right;\n    }\n</style>\n<table border=\"1\" class=\"dataframe\">\n  <thead>\n    <tr style=\"text-align: right;\">\n      <th></th>\n      <th>Country</th>\n      <th>Country Code</th>\n      <th>Region</th>\n      <th>Region Code</th>\n      <th>Second Tier Authority</th>\n      <th>Local Authority</th>\n      <th>Local Authority Code</th>\n      <th>Calendar Year</th>\n      <th>LA GHG Sector</th>\n      <th>LA GHG Sub-sector</th>\n      <th>Greenhouse gas</th>\n      <th>Territorial emissions (kt CO2e)</th>\n      <th>CO2 emissions within the scope of influence of LAs (kt CO2e)</th>\n      <th>Mid-year Population (thousands)</th>\n      <th>Area (km2)</th>\n    </tr>\n  </thead>\n  <tbody>\n    <tr>\n      <th>77602</th>\n      <td>England</td>\n      <td>E92000001</td>\n      <td>East of England</td>\n      <td>E12000006</td>\n      <td>Hertfordshire</td>\n      <td>Watford</td>\n      <td>E07000103</td>\n      <td>2015</td>\n      <td>Transport</td>\n      <td>Road Transport (Motorways)</td>\n      <td>N2O</td>\n      <td>0.062223</td>\n      <td>0.000000</td>\n      <td>96.348</td>\n      <td>21.4305</td>\n    </tr>\n    <tr>\n      <th>77599</th>\n      <td>England</td>\n      <td>E92000001</td>\n      <td>East of England</td>\n      <td>E12000006</td>\n      <td>Hertfordshire</td>\n      <td>Watford</td>\n      <td>E07000103</td>\n      <td>2015</td>\n      <td>Transport</td>\n      <td>Road Transport (Minor roads)</td>\n      <td>N2O</td>\n      <td>0.492324</td>\n      <td>0.000000</td>\n      <td>96.348</td>\n      <td>21.4305</td>\n    </tr>\n    <tr>\n      <th>77675</th>\n      <td>England</td>\n      <td>E92000001</td>\n      <td>East of England</td>\n      <td>E12000006</td>\n      <td>Hertfordshire</td>\n      <td>Watford</td>\n      <td>E07000103</td>\n      <td>2016</td>\n      <td>Transport</td>\n      <td>Road Transport (Minor roads)</td>\n      <td>CO2</td>\n      <td>48.003237</td>\n      <td>48.003237</td>\n      <td>96.577</td>\n      <td>21.4305</td>\n    </tr>\n    <tr>\n      <th>77674</th>\n      <td>England</td>\n      <td>E92000001</td>\n      <td>East of England</td>\n      <td>E12000006</td>\n      <td>Hertfordshire</td>\n      <td>Watford</td>\n      <td>E07000103</td>\n      <td>2016</td>\n      <td>Transport</td>\n      <td>Road Transport (Minor roads)</td>\n      <td>CH4</td>\n      <td>0.428091</td>\n      <td>0.000000</td>\n      <td>96.577</td>\n      <td>21.4305</td>\n    </tr>\n    <tr>\n      <th>77673</th>\n      <td>England</td>\n      <td>E92000001</td>\n      <td>East of England</td>\n      <td>E12000006</td>\n      <td>Hertfordshire</td>\n      <td>Watford</td>\n      <td>E07000103</td>\n      <td>2016</td>\n      <td>Transport</td>\n      <td>Road Transport (A roads)</td>\n      <td>N2O</td>\n      <td>0.595170</td>\n      <td>0.000000</td>\n      <td>96.577</td>\n      <td>21.4305</td>\n    </tr>\n  </tbody>\n</table>\n</div>"
     },
     "execution_count": 16,
     "metadata": {},
     "output_type": "execute_result"
    }
   ],
   "source": [
    "city_regions = ['City of London', 'Kensington and Chelsea', 'Islington', 'Hammersmith and Fulham', \n",
    "                'Hackney', 'Tower Hamlets', 'Camden', 'Westminster', 'Lambeth', 'Haringey', 'Southwark', 'Wandsworth',\n",
    "                'Lewisham', 'Merton', 'Barking and Dagenham', 'Newham', 'Waltham Forest', 'Brent', 'Greenwich',\n",
    "                'Harrow', 'Ealing', 'Redbridge']\n",
    "\n",
    "no_motorways = ['Oadby and Wigston', 'Gosport', 'Isles of Scilly', 'Hastings', 'Tamworth', 'Worthing', 'Epsom and Ewell', 'Lincoln', 'Kingston upon Thames',\n",
    "                'Ipswich', 'Norwich', 'Gloucester', 'Adur', 'Sutton', 'Oxford', 'Cheltenham', 'Broxbourne', 'Redditch', 'Middlesbrough',\n",
    "                'Richmond upon Thames']\n",
    "\n",
    "only_junctions = ['Reading', 'Blackpool']\n",
    "\n",
    "two_motorways = ['Spelthorne']\n",
    "\n",
    "df_smallest_areas = df_smallest_areas[~df_smallest_areas['Local Authority'].isin(city_regions)]\n",
    "df_smallest_areas = df_smallest_areas[~df_smallest_areas['Local Authority'].isin(no_motorways)]\n",
    "df_smallest_areas = df_smallest_areas[~df_smallest_areas['Local Authority'].isin(only_junctions)]\n",
    "df_smallest_areas = df_smallest_areas[~df_smallest_areas['Local Authority'].isin(two_motorways)]\n",
    "df_smallest_areas.head()"
   ]
  },
  {
   "cell_type": "code",
   "execution_count": 17,
   "metadata": {},
   "outputs": [
    {
     "data": {
      "text/plain": "array(['Pendle', 'Bournemouth, Christchurch and Poole', 'Solihull',\n       'Wokingham', 'Warrington', 'Great Yarmouth', 'Fylde', 'Thurrock',\n       'Wigan', 'Wyre Forest', 'Darlington', 'Windsor and Maidenhead',\n       'North East Lincolnshire', 'Sefton', 'Chorley', 'Stockton-on-Tees',\n       'Newcastle-under-Lyme', 'Dacorum', 'Hart', 'Bromsgrove', 'Arun',\n       'Swindon', 'Bristol, City of', 'Tonbridge and Malling',\n       'Tandridge', 'Wirral', 'Redcar and Cleveland', 'Mole Valley',\n       'Rochford', 'Amber Valley'], dtype=object)"
     },
     "execution_count": 17,
     "metadata": {},
     "output_type": "execute_result"
    }
   ],
   "source": [
    "df_smallest_areas['Local Authority'].unique()[90:120]"
   ]
  },
  {
   "attachments": {},
   "cell_type": "markdown",
   "metadata": {},
   "source": [
    "### Potential Sites"
   ]
  },
  {
   "cell_type": "code",
   "execution_count": 19,
   "metadata": {},
   "outputs": [],
   "source": [
    "potential_sites = ['Watford', 'Harlow', 'Slough', 'Worcester', 'Stevenage', 'Cambridge', 'Rushmoor', 'Luton', 'Crawley',\n",
    "                    'Exeter', 'Southampton', 'Hounslow', 'Portsmouth', 'South Tyneside', 'Enfield', 'Barnet', 'Halton', 'Dudley', 'Coventry',\n",
    "                    'Trafford', 'Bracknell Forest', 'Havering', 'Liverpool', 'Blackburn with Darwen', 'Sunderland',\n",
    "                    'Bolton']"
   ]
  },
  {
   "cell_type": "code",
   "execution_count": 20,
   "metadata": {},
   "outputs": [
    {
     "data": {
      "text/plain": "     Local Authority  Calendar Year  Annual Territorial emissions (kt CO2e)\n32            Barnet           2005                               53.988609\n33            Barnet           2006                               56.822203\n34            Barnet           2007                               53.186986\n35            Barnet           2008                               59.597040\n36            Barnet           2009                               57.067457\n...              ...            ...                                     ...\n2787       Worcester           2016                                1.644139\n2788       Worcester           2017                                1.541270\n2789       Worcester           2018                                1.487991\n2790       Worcester           2019                                1.476269\n2791       Worcester           2020                                1.186462\n\n[416 rows x 3 columns]",
      "text/html": "<div>\n<style scoped>\n    .dataframe tbody tr th:only-of-type {\n        vertical-align: middle;\n    }\n\n    .dataframe tbody tr th {\n        vertical-align: top;\n    }\n\n    .dataframe thead th {\n        text-align: right;\n    }\n</style>\n<table border=\"1\" class=\"dataframe\">\n  <thead>\n    <tr style=\"text-align: right;\">\n      <th></th>\n      <th>Local Authority</th>\n      <th>Calendar Year</th>\n      <th>Annual Territorial emissions (kt CO2e)</th>\n    </tr>\n  </thead>\n  <tbody>\n    <tr>\n      <th>32</th>\n      <td>Barnet</td>\n      <td>2005</td>\n      <td>53.988609</td>\n    </tr>\n    <tr>\n      <th>33</th>\n      <td>Barnet</td>\n      <td>2006</td>\n      <td>56.822203</td>\n    </tr>\n    <tr>\n      <th>34</th>\n      <td>Barnet</td>\n      <td>2007</td>\n      <td>53.186986</td>\n    </tr>\n    <tr>\n      <th>35</th>\n      <td>Barnet</td>\n      <td>2008</td>\n      <td>59.597040</td>\n    </tr>\n    <tr>\n      <th>36</th>\n      <td>Barnet</td>\n      <td>2009</td>\n      <td>57.067457</td>\n    </tr>\n    <tr>\n      <th>...</th>\n      <td>...</td>\n      <td>...</td>\n      <td>...</td>\n    </tr>\n    <tr>\n      <th>2787</th>\n      <td>Worcester</td>\n      <td>2016</td>\n      <td>1.644139</td>\n    </tr>\n    <tr>\n      <th>2788</th>\n      <td>Worcester</td>\n      <td>2017</td>\n      <td>1.541270</td>\n    </tr>\n    <tr>\n      <th>2789</th>\n      <td>Worcester</td>\n      <td>2018</td>\n      <td>1.487991</td>\n    </tr>\n    <tr>\n      <th>2790</th>\n      <td>Worcester</td>\n      <td>2019</td>\n      <td>1.476269</td>\n    </tr>\n    <tr>\n      <th>2791</th>\n      <td>Worcester</td>\n      <td>2020</td>\n      <td>1.186462</td>\n    </tr>\n  </tbody>\n</table>\n<p>416 rows × 3 columns</p>\n</div>"
     },
     "execution_count": 20,
     "metadata": {},
     "output_type": "execute_result"
    }
   ],
   "source": [
    "df_potential_sites = df_motorway.loc[df_motorway['Local Authority'].isin(potential_sites)]\n",
    "\n",
    "assert(len(potential_sites) == len(df_potential_sites['Local Authority'].unique()))\n",
    "\n",
    "df_potential_sites"
   ]
  },
  {
   "attachments": {},
   "cell_type": "markdown",
   "metadata": {},
   "source": [
    "### Saving data"
   ]
  },
  {
   "cell_type": "code",
   "execution_count": 21,
   "metadata": {},
   "outputs": [],
   "source": [
    "df_potential_sites.to_csv(GHG_PROCESSED_PATH + 'GHG_potential_sites.csv')"
   ]
  },
  {
   "attachments": {},
   "cell_type": "markdown",
   "metadata": {},
   "source": [
    "### Check specific potential site"
   ]
  },
  {
   "cell_type": "code",
   "execution_count": 22,
   "metadata": {},
   "outputs": [
    {
     "data": {
      "text/plain": "           Local Authority  Calendar Year  \\\n128  Blackburn with Darwen           2005   \n129  Blackburn with Darwen           2006   \n130  Blackburn with Darwen           2007   \n131  Blackburn with Darwen           2008   \n132  Blackburn with Darwen           2009   \n133  Blackburn with Darwen           2010   \n134  Blackburn with Darwen           2011   \n135  Blackburn with Darwen           2012   \n136  Blackburn with Darwen           2013   \n137  Blackburn with Darwen           2014   \n138  Blackburn with Darwen           2015   \n139  Blackburn with Darwen           2016   \n140  Blackburn with Darwen           2017   \n141  Blackburn with Darwen           2018   \n142  Blackburn with Darwen           2019   \n143  Blackburn with Darwen           2020   \n\n     Annual Territorial emissions (kt CO2e)  \n128                               43.407685  \n129                               43.631867  \n130                               44.518305  \n131                               42.530734  \n132                               39.657701  \n133                               39.427691  \n134                               37.810997  \n135                               37.108127  \n136                               38.812224  \n137                               39.225577  \n138                               40.592887  \n139                               41.607745  \n140                               36.818977  \n141                               39.780264  \n142                               39.944271  \n143                               28.776814  ",
      "text/html": "<div>\n<style scoped>\n    .dataframe tbody tr th:only-of-type {\n        vertical-align: middle;\n    }\n\n    .dataframe tbody tr th {\n        vertical-align: top;\n    }\n\n    .dataframe thead th {\n        text-align: right;\n    }\n</style>\n<table border=\"1\" class=\"dataframe\">\n  <thead>\n    <tr style=\"text-align: right;\">\n      <th></th>\n      <th>Local Authority</th>\n      <th>Calendar Year</th>\n      <th>Annual Territorial emissions (kt CO2e)</th>\n    </tr>\n  </thead>\n  <tbody>\n    <tr>\n      <th>128</th>\n      <td>Blackburn with Darwen</td>\n      <td>2005</td>\n      <td>43.407685</td>\n    </tr>\n    <tr>\n      <th>129</th>\n      <td>Blackburn with Darwen</td>\n      <td>2006</td>\n      <td>43.631867</td>\n    </tr>\n    <tr>\n      <th>130</th>\n      <td>Blackburn with Darwen</td>\n      <td>2007</td>\n      <td>44.518305</td>\n    </tr>\n    <tr>\n      <th>131</th>\n      <td>Blackburn with Darwen</td>\n      <td>2008</td>\n      <td>42.530734</td>\n    </tr>\n    <tr>\n      <th>132</th>\n      <td>Blackburn with Darwen</td>\n      <td>2009</td>\n      <td>39.657701</td>\n    </tr>\n    <tr>\n      <th>133</th>\n      <td>Blackburn with Darwen</td>\n      <td>2010</td>\n      <td>39.427691</td>\n    </tr>\n    <tr>\n      <th>134</th>\n      <td>Blackburn with Darwen</td>\n      <td>2011</td>\n      <td>37.810997</td>\n    </tr>\n    <tr>\n      <th>135</th>\n      <td>Blackburn with Darwen</td>\n      <td>2012</td>\n      <td>37.108127</td>\n    </tr>\n    <tr>\n      <th>136</th>\n      <td>Blackburn with Darwen</td>\n      <td>2013</td>\n      <td>38.812224</td>\n    </tr>\n    <tr>\n      <th>137</th>\n      <td>Blackburn with Darwen</td>\n      <td>2014</td>\n      <td>39.225577</td>\n    </tr>\n    <tr>\n      <th>138</th>\n      <td>Blackburn with Darwen</td>\n      <td>2015</td>\n      <td>40.592887</td>\n    </tr>\n    <tr>\n      <th>139</th>\n      <td>Blackburn with Darwen</td>\n      <td>2016</td>\n      <td>41.607745</td>\n    </tr>\n    <tr>\n      <th>140</th>\n      <td>Blackburn with Darwen</td>\n      <td>2017</td>\n      <td>36.818977</td>\n    </tr>\n    <tr>\n      <th>141</th>\n      <td>Blackburn with Darwen</td>\n      <td>2018</td>\n      <td>39.780264</td>\n    </tr>\n    <tr>\n      <th>142</th>\n      <td>Blackburn with Darwen</td>\n      <td>2019</td>\n      <td>39.944271</td>\n    </tr>\n    <tr>\n      <th>143</th>\n      <td>Blackburn with Darwen</td>\n      <td>2020</td>\n      <td>28.776814</td>\n    </tr>\n  </tbody>\n</table>\n</div>"
     },
     "execution_count": 22,
     "metadata": {},
     "output_type": "execute_result"
    }
   ],
   "source": [
    "df_site = df_potential_sites.loc[df_potential_sites['Local Authority'] == 'Blackburn with Darwen']\n",
    "\n",
    "df_site"
   ]
  }
 ],
 "metadata": {
  "kernelspec": {
   "display_name": "Python 3",
   "language": "python",
   "name": "python3"
  },
  "language_info": {
   "codemirror_mode": {
    "name": "ipython",
    "version": 3
   },
   "file_extension": ".py",
   "mimetype": "text/x-python",
   "name": "python",
   "nbconvert_exporter": "python",
   "pygments_lexer": "ipython3",
   "version": "3.8.10"
  },
  "orig_nbformat": 4,
  "vscode": {
   "interpreter": {
    "hash": "31f2aee4e71d21fbe5cf8b01ff0e069b9275f58929596ceb00d14d90e3e16cd6"
   }
  }
 },
 "nbformat": 4,
 "nbformat_minor": 2
}
