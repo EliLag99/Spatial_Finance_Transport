{
 "cells": [
  {
   "attachments": {},
   "cell_type": "markdown",
   "metadata": {},
   "source": [
    "## GHG Emissions"
   ]
  },
  {
   "attachments": {},
   "cell_type": "markdown",
   "metadata": {},
   "source": [
    "## Imports"
   ]
  },
  {
   "cell_type": "code",
   "execution_count": null,
   "metadata": {},
   "outputs": [],
   "source": [
    "import pandas as pd\n",
    "import geopandas as gpd\n",
    "import numpy as np\n",
    "import os\n",
    "import torch\n",
    "import random\n",
    "import cv2\n",
    "from tqdm import tqdm\n",
    "from matplotlib import pyplot as plt\n",
    "import segmentation_models_pytorch as smp\n",
    "import albumentations as album\n",
    "from PIL import Image\n",
    "import torch.nn as nn\n",
    "from torch.utils.data import Dataset\n",
    "from torch.utils.data import random_split\n",
    "from sklearn.metrics import accuracy_score\n",
    "import plotly.express as px\n",
    "import torchmetrics\n",
    "from torchmetrics import MeanAbsolutePercentageError\n",
    "\n",
    "\n",
    "%matplotlib inline"
   ]
  },
  {
   "attachments": {},
   "cell_type": "markdown",
   "metadata": {},
   "source": [
    "## Global Variables"
   ]
  },
  {
   "cell_type": "code",
   "execution_count": null,
   "metadata": {},
   "outputs": [],
   "source": [
    "AADT_PATH = \"/home/ah2719/FYP/Spatial_Finance_Transport/ground_truth_data/AADT.csv\"\n",
    "IMAGE_METADATA_PATH = \"/home/ah2719/FYP/Spatial_Finance_Transport/data/image_metadata.csv\" # Useful data: vehicle_count, vehicle_bb_size, road_segment_length, speed_estimate\n",
    "VEHICLE_EMISSIONS_FACTORS_PATH = \"/home/ah2719/FYP/Spatial_Finance_Transport/ground_truth_data/uk_emissions_factors.csv\""
   ]
  },
  {
   "attachments": {},
   "cell_type": "markdown",
   "metadata": {},
   "source": [
    "## Generic Functions"
   ]
  },
  {
   "cell_type": "markdown",
   "metadata": {},
   "source": []
  },
  {
   "attachments": {},
   "cell_type": "markdown",
   "metadata": {},
   "source": [
    "## AADT to VKM\n",
    "Multiply AADT for vehicle types by length of road segment"
   ]
  },
  {
   "attachments": {},
   "cell_type": "markdown",
   "metadata": {},
   "source": [
    "### Load Data"
   ]
  },
  {
   "cell_type": "code",
   "execution_count": null,
   "metadata": {},
   "outputs": [],
   "source": [
    "df_aadt = pd.read_csv(AADT_PATH)\n",
    "df_aadt.head()"
   ]
  },
  {
   "cell_type": "code",
   "execution_count": null,
   "metadata": {},
   "outputs": [],
   "source": [
    "# Each row should represent a vehicle \"type\"\n",
    "df_image_metadata = pd.read_csv(IMAGE_METADATA_PATH)\n",
    "df_image_metadata.head()"
   ]
  },
  {
   "cell_type": "code",
   "execution_count": null,
   "metadata": {},
   "outputs": [],
   "source": [
    "vehicle_bb_sizes = df_image_metadata['vehicle_bb_size'] \n",
    "vehicle_counts = df_image_metadata['vehicle_count']\n",
    "road_segment_length = df_image_metadata['road_segment_length']\n",
    "speed_estimation = df_image_metadata['speed_estimate']"
   ]
  },
  {
   "attachments": {},
   "cell_type": "markdown",
   "metadata": {},
   "source": [
    "## Method"
   ]
  },
  {
   "attachments": {},
   "cell_type": "markdown",
   "metadata": {},
   "source": [
    "### TODO: Convert vehicle BB area to vehicle type"
   ]
  },
  {
   "cell_type": "code",
   "execution_count": null,
   "metadata": {},
   "outputs": [],
   "source": [
    "# 0 = passenger car, 1 = small truck, 2 = truck \n",
    "# df_image_metadata['vehicle_type'] = 0 if df_image_metadata['vehicle_bb_size'] < 500, etc."
   ]
  },
  {
   "attachments": {},
   "cell_type": "markdown",
   "metadata": {},
   "source": [
    "### TODO: Load and set emissions data from vehicle type"
   ]
  },
  {
   "cell_type": "code",
   "execution_count": null,
   "metadata": {},
   "outputs": [],
   "source": [
    "df_emissions_vehicle_type = pd.read_csv(VEHICLE_EMISSIONS_FACTORS_PATH)\n",
    "# df_image_metadata['vehicle_type_emissions']  = df_emissions_vehicle_type\n",
    "df_emissions_vehicle_type.head()"
   ]
  },
  {
   "attachments": {},
   "cell_type": "markdown",
   "metadata": {},
   "source": [
    "### Vehicle kilometres travelled"
   ]
  },
  {
   "cell_type": "code",
   "execution_count": null,
   "metadata": {},
   "outputs": [],
   "source": [
    "# time taken to travel through road segment\n",
    "road_segment_time = road_segment_length / speed_estimation\n",
    "\n",
    "vkt = []\n",
    "for index, row in df_image_metadata.iterrows():\n",
    "    vkt.append(row['vehicle_type_emissions'] / ( road_segment_length * row['vehicle_count']))"
   ]
  },
  {
   "attachments": {},
   "cell_type": "markdown",
   "metadata": {},
   "source": [
    "### Emissions Factor"
   ]
  },
  {
   "cell_type": "markdown",
   "metadata": {},
   "source": []
  }
 ],
 "metadata": {
  "kernelspec": {
   "display_name": "Python 3",
   "language": "python",
   "name": "python3"
  },
  "language_info": {
   "name": "python",
   "version": "3.8.10 (default, Jun 22 2022, 20:18:18) \n[GCC 9.4.0]"
  },
  "orig_nbformat": 4,
  "vscode": {
   "interpreter": {
    "hash": "31f2aee4e71d21fbe5cf8b01ff0e069b9275f58929596ceb00d14d90e3e16cd6"
   }
  }
 },
 "nbformat": 4,
 "nbformat_minor": 2
}
