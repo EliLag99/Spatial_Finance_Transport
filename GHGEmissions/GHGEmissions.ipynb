{
 "cells": [
  {
   "attachments": {},
   "cell_type": "markdown",
   "metadata": {},
   "source": [
    "## GHG Emissions\n",
    "The basis for these emission factors is the Handbook of Emission\n",
    "Factors for Road Transport (HBEFA Version 3.3). (Notter et al.,2019).(3)\n",
    "$$ E = A * f * l * e_f $$\n",
    "Where:\n",
    "\n",
    "E is the total CO2 emissions (gram CO2 per day)\n",
    "\n",
    "A is the average number of vehicles of type A per day\n",
    "\n",
    "F is the specific fuel consumption per vehicle type A (litres/km)\n",
    "\n",
    "l is the length of the road (km)\n",
    "\n",
    "$e_f$ is the emission factor (grams CO2/litre)"
   ]
  },
  {
   "attachments": {},
   "cell_type": "markdown",
   "metadata": {},
   "source": [
    "## Imports"
   ]
  },
  {
   "cell_type": "code",
   "execution_count": 92,
   "metadata": {},
   "outputs": [],
   "source": [
    "import pandas as pd\n",
    "import geopandas as gpd\n",
    "import numpy as np\n",
    "import os\n",
    "import torch\n",
    "import random\n",
    "import cv2\n",
    "from tqdm import tqdm\n",
    "from matplotlib import pyplot as plt\n",
    "import segmentation_models_pytorch as smp\n",
    "import albumentations as album\n",
    "from PIL import Image\n",
    "import torch.nn as nn\n",
    "from torch.utils.data import Dataset\n",
    "from torch.utils.data import random_split\n",
    "from sklearn.metrics import accuracy_score\n",
    "import plotly.express as px\n",
    "import torchmetrics\n",
    "from torchmetrics import MeanAbsolutePercentageError\n",
    "\n",
    "\n",
    "%matplotlib inline"
   ]
  },
  {
   "attachments": {},
   "cell_type": "markdown",
   "metadata": {},
   "source": [
    "## Global Variables"
   ]
  },
  {
   "cell_type": "code",
   "execution_count": 93,
   "metadata": {},
   "outputs": [],
   "source": [
    "AADT_PATH = \"/home/ah2719/FYP/Spatial_Finance_Transport/data/aadt.csv\"\n",
    "IMAGE_METADATA_PATH = \"/home/ah2719/FYP/Spatial_Finance_Transport/data/image_metadata.csv\" # Useful data: vehicle_count, vehicle_bb, road_segment_length, speed_estimate\n",
    "EMISSIONS_FACTORS_PATH = \"/home/ah2719/FYP/Spatial_Finance_Transport/data/ground_truth_data/uk_emissions_factors.csv\" # emission factor (grams CO2/litre)\n",
    "SPECIFIC_FUEL_CONSUMPTION_PATH = \"/home/ah2719/FYP/Spatial_Finance_Transport/ground_truth_data/fuel_consumption_per_vehicle.csv\" # specific fuel consumption per vehicle type A (litres/km)\n",
    "ROAD_CHARACTERISTICS_PATH = \"/home/ah2719/FYP/Spatial_Finance_Transport/data/road_characteristics.csv\""
   ]
  },
  {
   "attachments": {},
   "cell_type": "markdown",
   "metadata": {},
   "source": [
    "## Generic Functions"
   ]
  },
  {
   "cell_type": "markdown",
   "metadata": {},
   "source": []
  },
  {
   "attachments": {},
   "cell_type": "markdown",
   "metadata": {},
   "source": [
    "## Loading and Preprocessing Data\n",
    "Multiply AADT for vehicle types by length of road segment"
   ]
  },
  {
   "attachments": {},
   "cell_type": "markdown",
   "metadata": {},
   "source": [
    "### AADT"
   ]
  },
  {
   "cell_type": "code",
   "execution_count": 94,
   "metadata": {},
   "outputs": [
    {
     "data": {
      "text/html": [
       "<div>\n",
       "<style scoped>\n",
       "    .dataframe tbody tr th:only-of-type {\n",
       "        vertical-align: middle;\n",
       "    }\n",
       "\n",
       "    .dataframe tbody tr th {\n",
       "        vertical-align: top;\n",
       "    }\n",
       "\n",
       "    .dataframe thead th {\n",
       "        text-align: right;\n",
       "    }\n",
       "</style>\n",
       "<table border=\"1\" class=\"dataframe\">\n",
       "  <thead>\n",
       "    <tr style=\"text-align: right;\">\n",
       "      <th></th>\n",
       "      <th>aadt</th>\n",
       "    </tr>\n",
       "  </thead>\n",
       "  <tbody>\n",
       "    <tr>\n",
       "      <th>0</th>\n",
       "      <td>18000</td>\n",
       "    </tr>\n",
       "  </tbody>\n",
       "</table>\n",
       "</div>"
      ],
      "text/plain": [
       "    aadt\n",
       "0  18000"
      ]
     },
     "execution_count": 94,
     "metadata": {},
     "output_type": "execute_result"
    }
   ],
   "source": [
    "df_aadt = pd.read_csv(AADT_PATH)\n",
    "aadt = df_aadt['aadt']\n",
    "df_aadt.head()"
   ]
  },
  {
   "attachments": {},
   "cell_type": "markdown",
   "metadata": {},
   "source": [
    "### Image Metadata"
   ]
  },
  {
   "cell_type": "code",
   "execution_count": 95,
   "metadata": {},
   "outputs": [
    {
     "data": {
      "text/html": [
       "<div>\n",
       "<style scoped>\n",
       "    .dataframe tbody tr th:only-of-type {\n",
       "        vertical-align: middle;\n",
       "    }\n",
       "\n",
       "    .dataframe tbody tr th {\n",
       "        vertical-align: top;\n",
       "    }\n",
       "\n",
       "    .dataframe thead th {\n",
       "        text-align: right;\n",
       "    }\n",
       "</style>\n",
       "<table border=\"1\" class=\"dataframe\">\n",
       "  <thead>\n",
       "    <tr style=\"text-align: right;\">\n",
       "      <th></th>\n",
       "      <th>x_min</th>\n",
       "      <th>y_min</th>\n",
       "      <th>x_max</th>\n",
       "      <th>y_max</th>\n",
       "    </tr>\n",
       "  </thead>\n",
       "  <tbody>\n",
       "    <tr>\n",
       "      <th>0</th>\n",
       "      <td>20</td>\n",
       "      <td>50</td>\n",
       "      <td>25</td>\n",
       "      <td>55</td>\n",
       "    </tr>\n",
       "  </tbody>\n",
       "</table>\n",
       "</div>"
      ],
      "text/plain": [
       "   x_min  y_min  x_max  y_max\n",
       "0     20     50     25     55"
      ]
     },
     "execution_count": 95,
     "metadata": {},
     "output_type": "execute_result"
    }
   ],
   "source": [
    "# Each row should represent a detected vehicle\n",
    "df_image_metadata = pd.read_csv(IMAGE_METADATA_PATH)\n",
    "df_image_metadata.head()"
   ]
  },
  {
   "attachments": {},
   "cell_type": "markdown",
   "metadata": {},
   "source": [
    "### Road Characteristics"
   ]
  },
  {
   "cell_type": "code",
   "execution_count": 96,
   "metadata": {},
   "outputs": [
    {
     "data": {
      "text/html": [
       "<div>\n",
       "<style scoped>\n",
       "    .dataframe tbody tr th:only-of-type {\n",
       "        vertical-align: middle;\n",
       "    }\n",
       "\n",
       "    .dataframe tbody tr th {\n",
       "        vertical-align: top;\n",
       "    }\n",
       "\n",
       "    .dataframe thead th {\n",
       "        text-align: right;\n",
       "    }\n",
       "</style>\n",
       "<table border=\"1\" class=\"dataframe\">\n",
       "  <thead>\n",
       "    <tr style=\"text-align: right;\">\n",
       "      <th></th>\n",
       "      <th>road_length_km</th>\n",
       "      <th>road_width_km</th>\n",
       "    </tr>\n",
       "  </thead>\n",
       "  <tbody>\n",
       "    <tr>\n",
       "      <th>0</th>\n",
       "      <td>0.235919</td>\n",
       "      <td>0.104146</td>\n",
       "    </tr>\n",
       "  </tbody>\n",
       "</table>\n",
       "</div>"
      ],
      "text/plain": [
       "   road_length_km  road_width_km\n",
       "0        0.235919       0.104146"
      ]
     },
     "execution_count": 96,
     "metadata": {},
     "output_type": "execute_result"
    }
   ],
   "source": [
    "df_road_characteristics = pd.read_csv(ROAD_CHARACTERISTICS_PATH)\n",
    "df_road_characteristics.head()"
   ]
  },
  {
   "cell_type": "code",
   "execution_count": 97,
   "metadata": {},
   "outputs": [
    {
     "data": {
      "text/plain": [
       "0.2359189453125"
      ]
     },
     "execution_count": 97,
     "metadata": {},
     "output_type": "execute_result"
    }
   ],
   "source": [
    "road_segment_length = df_road_characteristics.iloc[0]['road_length_km']\n",
    "road_segment_length"
   ]
  },
  {
   "attachments": {},
   "cell_type": "markdown",
   "metadata": {},
   "source": [
    "### Emissions Factors"
   ]
  },
  {
   "cell_type": "code",
   "execution_count": 98,
   "metadata": {},
   "outputs": [
    {
     "name": "stderr",
     "output_type": "stream",
     "text": [
      "/tmp/ipykernel_519/3575893931.py:2: FutureWarning: Dropping of nuisance columns in DataFrame reductions (with 'numeric_only=None') is deprecated; in a future version this will raise TypeError.  Select only valid columns before calling the reduction.\n",
      "  df_emissions_factors['total'] = df_emissions_factors.sum(axis=1)\n"
     ]
    },
    {
     "data": {
      "text/html": [
       "<div>\n",
       "<style scoped>\n",
       "    .dataframe tbody tr th:only-of-type {\n",
       "        vertical-align: middle;\n",
       "    }\n",
       "\n",
       "    .dataframe tbody tr th {\n",
       "        vertical-align: top;\n",
       "    }\n",
       "\n",
       "    .dataframe thead th {\n",
       "        text-align: right;\n",
       "    }\n",
       "</style>\n",
       "<table border=\"1\" class=\"dataframe\">\n",
       "  <thead>\n",
       "    <tr style=\"text-align: right;\">\n",
       "      <th></th>\n",
       "      <th>Vehicle Type</th>\n",
       "      <th>NOx</th>\n",
       "      <th>PM10</th>\n",
       "      <th>PM2.5</th>\n",
       "      <th>CO</th>\n",
       "      <th>VOC</th>\n",
       "      <th>NH3</th>\n",
       "      <th>SO2</th>\n",
       "      <th>Benzene</th>\n",
       "      <th>N2O</th>\n",
       "      <th>total</th>\n",
       "    </tr>\n",
       "  </thead>\n",
       "  <tbody>\n",
       "    <tr>\n",
       "      <th>0</th>\n",
       "      <td>Petrol cars</td>\n",
       "      <td>0.065</td>\n",
       "      <td>0.001</td>\n",
       "      <td>0.001</td>\n",
       "      <td>0.583</td>\n",
       "      <td>0.090</td>\n",
       "      <td>0.013</td>\n",
       "      <td>0.000</td>\n",
       "      <td>0.002</td>\n",
       "      <td>0.001</td>\n",
       "      <td>0.756</td>\n",
       "    </tr>\n",
       "    <tr>\n",
       "      <th>1</th>\n",
       "      <td>Diesel cars</td>\n",
       "      <td>0.517</td>\n",
       "      <td>0.008</td>\n",
       "      <td>0.008</td>\n",
       "      <td>0.047</td>\n",
       "      <td>0.004</td>\n",
       "      <td>0.004</td>\n",
       "      <td>0.001</td>\n",
       "      <td>0.000</td>\n",
       "      <td>0.006</td>\n",
       "      <td>0.595</td>\n",
       "    </tr>\n",
       "    <tr>\n",
       "      <th>2</th>\n",
       "      <td>Petrol LGVs</td>\n",
       "      <td>0.094</td>\n",
       "      <td>0.001</td>\n",
       "      <td>0.001</td>\n",
       "      <td>1.234</td>\n",
       "      <td>0.085</td>\n",
       "      <td>0.017</td>\n",
       "      <td>0.001</td>\n",
       "      <td>0.002</td>\n",
       "      <td>0.002</td>\n",
       "      <td>1.437</td>\n",
       "    </tr>\n",
       "    <tr>\n",
       "      <th>3</th>\n",
       "      <td>Diesel LGVs</td>\n",
       "      <td>0.808</td>\n",
       "      <td>0.007</td>\n",
       "      <td>0.007</td>\n",
       "      <td>0.058</td>\n",
       "      <td>0.008</td>\n",
       "      <td>0.005</td>\n",
       "      <td>0.001</td>\n",
       "      <td>0.000</td>\n",
       "      <td>0.006</td>\n",
       "      <td>0.900</td>\n",
       "    </tr>\n",
       "    <tr>\n",
       "      <th>4</th>\n",
       "      <td>Rigid HGVs</td>\n",
       "      <td>1.428</td>\n",
       "      <td>0.020</td>\n",
       "      <td>0.020</td>\n",
       "      <td>0.438</td>\n",
       "      <td>0.039</td>\n",
       "      <td>0.009</td>\n",
       "      <td>0.002</td>\n",
       "      <td>0.000</td>\n",
       "      <td>0.031</td>\n",
       "      <td>1.987</td>\n",
       "    </tr>\n",
       "  </tbody>\n",
       "</table>\n",
       "</div>"
      ],
      "text/plain": [
       "  Vehicle Type    NOx   PM10  PM2.5     CO    VOC    NH3    SO2  Benzene  \\\n",
       "0  Petrol cars  0.065  0.001  0.001  0.583  0.090  0.013  0.000    0.002   \n",
       "1  Diesel cars  0.517  0.008  0.008  0.047  0.004  0.004  0.001    0.000   \n",
       "2  Petrol LGVs  0.094  0.001  0.001  1.234  0.085  0.017  0.001    0.002   \n",
       "3  Diesel LGVs  0.808  0.007  0.007  0.058  0.008  0.005  0.001    0.000   \n",
       "4   Rigid HGVs  1.428  0.020  0.020  0.438  0.039  0.009  0.002    0.000   \n",
       "\n",
       "     N2O  total  \n",
       "0  0.001  0.756  \n",
       "1  0.006  0.595  \n",
       "2  0.002  1.437  \n",
       "3  0.006  0.900  \n",
       "4  0.031  1.987  "
      ]
     },
     "execution_count": 98,
     "metadata": {},
     "output_type": "execute_result"
    }
   ],
   "source": [
    "df_emissions_factors = pd.read_csv(EMISSIONS_FACTORS_PATH)\n",
    "df_emissions_factors['total'] = df_emissions_factors.sum(axis=1)\n",
    "df_emissions_factors.head() # g/km"
   ]
  },
  {
   "cell_type": "code",
   "execution_count": 99,
   "metadata": {},
   "outputs": [
    {
     "data": {
      "text/plain": [
       "[0.6755, 1.1684999999999999, 2.1726666666666663]"
      ]
     },
     "execution_count": 99,
     "metadata": {},
     "output_type": "execute_result"
    }
   ],
   "source": [
    "# Average petrol and diesel vehicles\n",
    "cars_emissions_avg = (df_emissions_factors.iloc[0]['total'] + df_emissions_factors.iloc[1]['total']) / 2\n",
    "lgv_emissions_avg = (df_emissions_factors.iloc[2]['total'] + df_emissions_factors.iloc[3]['total']) / 2\n",
    "hgv_bus_emissions_avg = (df_emissions_factors.iloc[4]['total'] + df_emissions_factors.iloc[5]['total'] + df_emissions_factors.iloc[6]['total']) / 3\n",
    "\n",
    "vehicle_emissions_avg = [cars_emissions_avg, lgv_emissions_avg, hgv_bus_emissions_avg]\n",
    "vehicle_emissions_avg"
   ]
  },
  {
   "attachments": {},
   "cell_type": "markdown",
   "metadata": {},
   "source": [
    "### Specific Fuel Consumption"
   ]
  },
  {
   "cell_type": "code",
   "execution_count": 100,
   "metadata": {},
   "outputs": [],
   "source": [
    "#df_specifc_fuel_consumption = pd.read_csv(SPECIFIC_FUEL_CONSUMPTION_PATH)\n",
    "#df_specifc_fuel_consumption.head()"
   ]
  },
  {
   "attachments": {},
   "cell_type": "markdown",
   "metadata": {},
   "source": [
    "## Method"
   ]
  },
  {
   "attachments": {},
   "cell_type": "markdown",
   "metadata": {},
   "source": [
    "### TODO: Convert vehicle BB co-ordinates to BB areas"
   ]
  },
  {
   "cell_type": "code",
   "execution_count": 107,
   "metadata": {},
   "outputs": [
    {
     "data": {
      "text/html": [
       "<div>\n",
       "<style scoped>\n",
       "    .dataframe tbody tr th:only-of-type {\n",
       "        vertical-align: middle;\n",
       "    }\n",
       "\n",
       "    .dataframe tbody tr th {\n",
       "        vertical-align: top;\n",
       "    }\n",
       "\n",
       "    .dataframe thead th {\n",
       "        text-align: right;\n",
       "    }\n",
       "</style>\n",
       "<table border=\"1\" class=\"dataframe\">\n",
       "  <thead>\n",
       "    <tr style=\"text-align: right;\">\n",
       "      <th></th>\n",
       "      <th>x_min</th>\n",
       "      <th>y_min</th>\n",
       "      <th>x_max</th>\n",
       "      <th>y_max</th>\n",
       "      <th>vehicle_bb_size</th>\n",
       "      <th>vehicle_type_(0, 660)</th>\n",
       "      <th>vehicle_type_(661, 1160)</th>\n",
       "      <th>vehicle_type_(1161, 2000)</th>\n",
       "      <th>vehicle_type_emissions_avg</th>\n",
       "      <th>aadt_vehicles</th>\n",
       "    </tr>\n",
       "  </thead>\n",
       "  <tbody>\n",
       "    <tr>\n",
       "      <th>0</th>\n",
       "      <td>20</td>\n",
       "      <td>50</td>\n",
       "      <td>25</td>\n",
       "      <td>55</td>\n",
       "      <td>750</td>\n",
       "      <td>0</td>\n",
       "      <td>1</td>\n",
       "      <td>0</td>\n",
       "      <td>1.1685</td>\n",
       "      <td>18000.0</td>\n",
       "    </tr>\n",
       "  </tbody>\n",
       "</table>\n",
       "</div>"
      ],
      "text/plain": [
       "   x_min  y_min  x_max  y_max  vehicle_bb_size  vehicle_type_(0, 660)  \\\n",
       "0     20     50     25     55              750                      0   \n",
       "\n",
       "   vehicle_type_(661, 1160)  vehicle_type_(1161, 2000)  \\\n",
       "0                         1                          0   \n",
       "\n",
       "   vehicle_type_emissions_avg  aadt_vehicles  \n",
       "0                      1.1685        18000.0  "
      ]
     },
     "execution_count": 107,
     "metadata": {},
     "output_type": "execute_result"
    }
   ],
   "source": [
    "df_image_metadata['vehicle_bb_size'] = abs(df_image_metadata['x_max'] - df_image_metadata['x_min']) * abs((df_image_metadata['y_max'] - df_image_metadata['y_min']))\n",
    "\n",
    "# convert to cm (assume GSD 0.3) => 1 pixel represents 30cm\n",
    "df_image_metadata['vehicle_bb_size'] = df_image_metadata['vehicle_bb_size'].multiply(30)\n",
    "\n",
    "df_image_metadata"
   ]
  },
  {
   "attachments": {},
   "cell_type": "markdown",
   "metadata": {},
   "source": [
    "### TODO: Convert vehicle BB area to vehicle type"
   ]
  },
  {
   "cell_type": "code",
   "execution_count": 102,
   "metadata": {},
   "outputs": [
    {
     "data": {
      "text/html": [
       "<div>\n",
       "<style scoped>\n",
       "    .dataframe tbody tr th:only-of-type {\n",
       "        vertical-align: middle;\n",
       "    }\n",
       "\n",
       "    .dataframe tbody tr th {\n",
       "        vertical-align: top;\n",
       "    }\n",
       "\n",
       "    .dataframe thead th {\n",
       "        text-align: right;\n",
       "    }\n",
       "</style>\n",
       "<table border=\"1\" class=\"dataframe\">\n",
       "  <thead>\n",
       "    <tr style=\"text-align: right;\">\n",
       "      <th></th>\n",
       "      <th>x_min</th>\n",
       "      <th>y_min</th>\n",
       "      <th>x_max</th>\n",
       "      <th>y_max</th>\n",
       "      <th>vehicle_bb_size</th>\n",
       "      <th>vehicle_type_(0, 660)</th>\n",
       "      <th>vehicle_type_(661, 1160)</th>\n",
       "      <th>vehicle_type_(1161, 2000)</th>\n",
       "    </tr>\n",
       "  </thead>\n",
       "  <tbody>\n",
       "    <tr>\n",
       "      <th>0</th>\n",
       "      <td>20</td>\n",
       "      <td>50</td>\n",
       "      <td>25</td>\n",
       "      <td>55</td>\n",
       "      <td>750</td>\n",
       "      <td>0</td>\n",
       "      <td>1</td>\n",
       "      <td>0</td>\n",
       "    </tr>\n",
       "  </tbody>\n",
       "</table>\n",
       "</div>"
      ],
      "text/plain": [
       "   x_min  y_min  x_max  y_max  vehicle_bb_size  vehicle_type_(0, 660)  \\\n",
       "0     20     50     25     55              750                      0   \n",
       "\n",
       "   vehicle_type_(661, 1160)  vehicle_type_(1161, 2000)  \n",
       "0                         1                          0  "
      ]
     },
     "execution_count": 102,
     "metadata": {},
     "output_type": "execute_result"
    }
   ],
   "source": [
    "# highway england dataAPI vehicle sizes in cm\n",
    "vehicle_sizes = [(0, 660), (661, 1160),\t(1161, 2000)]\n",
    "\n",
    "for j in vehicle_sizes:\n",
    "        df_image_metadata['vehicle_type_{}'.format(j)] = df_image_metadata['vehicle_bb_size'].between(j[0], j[1]).astype(int)\n",
    "\n",
    "df_image_metadata"
   ]
  },
  {
   "attachments": {},
   "cell_type": "markdown",
   "metadata": {},
   "source": [
    "### TODO: Set emissions factors from vehicle type"
   ]
  },
  {
   "cell_type": "code",
   "execution_count": 103,
   "metadata": {},
   "outputs": [
    {
     "data": {
      "text/html": [
       "<div>\n",
       "<style scoped>\n",
       "    .dataframe tbody tr th:only-of-type {\n",
       "        vertical-align: middle;\n",
       "    }\n",
       "\n",
       "    .dataframe tbody tr th {\n",
       "        vertical-align: top;\n",
       "    }\n",
       "\n",
       "    .dataframe thead th {\n",
       "        text-align: right;\n",
       "    }\n",
       "</style>\n",
       "<table border=\"1\" class=\"dataframe\">\n",
       "  <thead>\n",
       "    <tr style=\"text-align: right;\">\n",
       "      <th></th>\n",
       "      <th>x_min</th>\n",
       "      <th>y_min</th>\n",
       "      <th>x_max</th>\n",
       "      <th>y_max</th>\n",
       "      <th>vehicle_bb_size</th>\n",
       "      <th>vehicle_type_(0, 660)</th>\n",
       "      <th>vehicle_type_(661, 1160)</th>\n",
       "      <th>vehicle_type_(1161, 2000)</th>\n",
       "      <th>vehicle_type_emissions_avg</th>\n",
       "    </tr>\n",
       "  </thead>\n",
       "  <tbody>\n",
       "    <tr>\n",
       "      <th>0</th>\n",
       "      <td>20</td>\n",
       "      <td>50</td>\n",
       "      <td>25</td>\n",
       "      <td>55</td>\n",
       "      <td>750</td>\n",
       "      <td>0</td>\n",
       "      <td>1</td>\n",
       "      <td>0</td>\n",
       "      <td>1.1685</td>\n",
       "    </tr>\n",
       "  </tbody>\n",
       "</table>\n",
       "</div>"
      ],
      "text/plain": [
       "   x_min  y_min  x_max  y_max  vehicle_bb_size  vehicle_type_(0, 660)  \\\n",
       "0     20     50     25     55              750                      0   \n",
       "\n",
       "   vehicle_type_(661, 1160)  vehicle_type_(1161, 2000)  \\\n",
       "0                         1                          0   \n",
       "\n",
       "   vehicle_type_emissions_avg  \n",
       "0                      1.1685  "
      ]
     },
     "execution_count": 103,
     "metadata": {},
     "output_type": "execute_result"
    }
   ],
   "source": [
    "# df_image_metadata['vehicle_type_emissions_factor']  = df_emissions_vehicle_type\n",
    "\n",
    "df_image_metadata['vehicle_type_emissions_avg'] = (df_image_metadata['vehicle_type_(0, 660)'] * vehicle_emissions_avg[0]) + (df_image_metadata['vehicle_type_(661, 1160)'] * vehicle_emissions_avg[1]) + (df_image_metadata['vehicle_type_(1161, 2000)'] * vehicle_emissions_avg[2])\n",
    "df_image_metadata"
   ]
  },
  {
   "attachments": {},
   "cell_type": "markdown",
   "metadata": {},
   "source": [
    "### TODO: Apply portions of aadt estimate to each vehicle"
   ]
  },
  {
   "cell_type": "code",
   "execution_count": 106,
   "metadata": {},
   "outputs": [
    {
     "data": {
      "text/html": [
       "<div>\n",
       "<style scoped>\n",
       "    .dataframe tbody tr th:only-of-type {\n",
       "        vertical-align: middle;\n",
       "    }\n",
       "\n",
       "    .dataframe tbody tr th {\n",
       "        vertical-align: top;\n",
       "    }\n",
       "\n",
       "    .dataframe thead th {\n",
       "        text-align: right;\n",
       "    }\n",
       "</style>\n",
       "<table border=\"1\" class=\"dataframe\">\n",
       "  <thead>\n",
       "    <tr style=\"text-align: right;\">\n",
       "      <th></th>\n",
       "      <th>x_min</th>\n",
       "      <th>y_min</th>\n",
       "      <th>x_max</th>\n",
       "      <th>y_max</th>\n",
       "      <th>vehicle_bb_size</th>\n",
       "      <th>vehicle_type_(0, 660)</th>\n",
       "      <th>vehicle_type_(661, 1160)</th>\n",
       "      <th>vehicle_type_(1161, 2000)</th>\n",
       "      <th>vehicle_type_emissions_avg</th>\n",
       "      <th>aadt_vehicles</th>\n",
       "    </tr>\n",
       "  </thead>\n",
       "  <tbody>\n",
       "    <tr>\n",
       "      <th>0</th>\n",
       "      <td>20</td>\n",
       "      <td>50</td>\n",
       "      <td>25</td>\n",
       "      <td>55</td>\n",
       "      <td>750</td>\n",
       "      <td>0</td>\n",
       "      <td>1</td>\n",
       "      <td>0</td>\n",
       "      <td>1.1685</td>\n",
       "      <td>18000.0</td>\n",
       "    </tr>\n",
       "  </tbody>\n",
       "</table>\n",
       "</div>"
      ],
      "text/plain": [
       "   x_min  y_min  x_max  y_max  vehicle_bb_size  vehicle_type_(0, 660)  \\\n",
       "0     20     50     25     55              750                      0   \n",
       "\n",
       "   vehicle_type_(661, 1160)  vehicle_type_(1161, 2000)  \\\n",
       "0                         1                          0   \n",
       "\n",
       "   vehicle_type_emissions_avg  aadt_vehicles  \n",
       "0                      1.1685        18000.0  "
      ]
     },
     "execution_count": 106,
     "metadata": {},
     "output_type": "execute_result"
    }
   ],
   "source": [
    "reciprocal_no_of_vehicles = 1 / len(df_image_metadata)\n",
    "df_image_metadata['aadt_vehicles'] = aadt * reciprocal_no_of_vehicles\n",
    "df_image_metadata"
   ]
  },
  {
   "attachments": {},
   "cell_type": "markdown",
   "metadata": {},
   "source": [
    "### TODO: GHG Emissions calculation"
   ]
  },
  {
   "cell_type": "code",
   "execution_count": 105,
   "metadata": {},
   "outputs": [
    {
     "data": {
      "text/plain": [
       "4962.083176757812"
      ]
     },
     "execution_count": 105,
     "metadata": {},
     "output_type": "execute_result"
    }
   ],
   "source": [
    "aadt_emissions = 0\n",
    "\n",
    "for i in range(len(df_image_metadata)):\n",
    "    aadt_emissions += road_segment_length * df_image_metadata.iloc[i]['aadt_vehicles'] * df_image_metadata.iloc[i]['vehicle_type_emissions_avg']\n",
    "\n",
    "aadt_emissions"
   ]
  }
 ],
 "metadata": {
  "kernelspec": {
   "display_name": "Python 3",
   "language": "python",
   "name": "python3"
  },
  "language_info": {
   "codemirror_mode": {
    "name": "ipython",
    "version": 3
   },
   "file_extension": ".py",
   "mimetype": "text/x-python",
   "name": "python",
   "nbconvert_exporter": "python",
   "pygments_lexer": "ipython3",
   "version": "3.8.10 (default, Jun 22 2022, 20:18:18) \n[GCC 9.4.0]"
  },
  "orig_nbformat": 4,
  "vscode": {
   "interpreter": {
    "hash": "31f2aee4e71d21fbe5cf8b01ff0e069b9275f58929596ceb00d14d90e3e16cd6"
   }
  }
 },
 "nbformat": 4,
 "nbformat_minor": 2
}
